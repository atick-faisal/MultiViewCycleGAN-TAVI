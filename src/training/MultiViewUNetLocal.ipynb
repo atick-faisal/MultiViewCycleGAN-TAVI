{
  "cells": [
    {
      "cell_type": "markdown",
      "metadata": {
        "colab_type": "text",
        "id": "view-in-github"
      },
      "source": [
        "<a href=\"https://colab.research.google.com/github/atick-faisal/MultiViewUNet-TAVI/blob/main/src/training/MultiViewUNet.ipynb\" target=\"_parent\"><img src=\"https://colab.research.google.com/assets/colab-badge.svg\" alt=\"Open In Colab\"/></a>"
      ]
    },
    {
      "cell_type": "markdown",
      "metadata": {
        "id": "0BWh-7swsY8G"
      },
      "source": [
        "# Colab Info"
      ]
    },
    {
      "cell_type": "code",
      "execution_count": 1,
      "metadata": {
        "colab": {
          "base_uri": "https://localhost:8080/"
        },
        "id": "qKSzwmmpsY8K",
        "outputId": "8dac33b9-f805-40e0-8515-bff1fb755ae3"
      },
      "outputs": [
        {
          "name": "stdout",
          "output_type": "stream",
          "text": [
            "Sun Nov 12 11:37:21 2023       \n",
            "+-----------------------------------------------------------------------------+\n",
            "| NVIDIA-SMI 525.105.17   Driver Version: 525.105.17   CUDA Version: 12.0     |\n",
            "|-------------------------------+----------------------+----------------------+\n",
            "| GPU  Name        Persistence-M| Bus-Id        Disp.A | Volatile Uncorr. ECC |\n",
            "| Fan  Temp  Perf  Pwr:Usage/Cap|         Memory-Usage | GPU-Util  Compute M. |\n",
            "|                               |                      |               MIG M. |\n",
            "|===============================+======================+======================|\n",
            "|   0  Tesla T4            Off  | 00000000:00:04.0 Off |                    0 |\n",
            "| N/A   49C    P0    26W /  70W |      0MiB / 15360MiB |      0%      Default |\n",
            "|                               |                      |                  N/A |\n",
            "+-------------------------------+----------------------+----------------------+\n",
            "                                                                               \n",
            "+-----------------------------------------------------------------------------+\n",
            "| Processes:                                                                  |\n",
            "|  GPU   GI   CI        PID   Type   Process name                  GPU Memory |\n",
            "|        ID   ID                                                   Usage      |\n",
            "|=============================================================================|\n",
            "|  No running processes found                                                 |\n",
            "+-----------------------------------------------------------------------------+\n",
            "Your runtime has 13.6 gigabytes of available RAM\n",
            "\n",
            "Not using a high-RAM runtime\n"
          ]
        }
      ],
      "source": [
        "from psutil import virtual_memory\n",
        "\n",
        "gpu_info = !nvidia-smi\n",
        "gpu_info = '\\n'.join(gpu_info)\n",
        "if gpu_info.find('failed') >= 0:\n",
        "    print('Not connected to a GPU')\n",
        "else:\n",
        "    print(gpu_info)\n",
        "\n",
        "\n",
        "ram_gb = virtual_memory().total / 1e9\n",
        "print('Your runtime has {:.1f} gigabytes of available RAM\\n'.format(ram_gb))\n",
        "\n",
        "if ram_gb < 20:\n",
        "    print('Not using a high-RAM runtime')\n",
        "else:\n",
        "    print('You are using a high-RAM runtime!')\n"
      ]
    },
    {
      "cell_type": "markdown",
      "metadata": {
        "id": "1k2olxt7sY8M"
      },
      "source": [
        "# Fix for GDrive"
      ]
    },
    {
      "cell_type": "code",
      "execution_count": 2,
      "metadata": {
        "id": "WR_aYJ7WsY8M"
      },
      "outputs": [],
      "source": [
        "# !pip install -U --no-cache-dir gdown --pre > /dev/null\n"
      ]
    },
    {
      "cell_type": "markdown",
      "metadata": {
        "id": "jm5cGHp0tGvo"
      },
      "source": [
        "# Mount GDrive"
      ]
    },
    {
      "cell_type": "code",
      "execution_count": 3,
      "metadata": {
        "colab": {
          "base_uri": "https://localhost:8080/"
        },
        "id": "0hZ7iR0AtJYj",
        "outputId": "74beac61-7156-4f1d-e9ef-629dce11e577"
      },
      "outputs": [
        {
          "name": "stdout",
          "output_type": "stream",
          "text": [
            "Drive already mounted at /content/drive; to attempt to forcibly remount, call drive.mount(\"/content/drive\", force_remount=True).\n"
          ]
        }
      ],
      "source": [
        "# from google.colab import drive\n",
        "# drive.mount('/content/drive')\n"
      ]
    },
    {
      "cell_type": "markdown",
      "metadata": {
        "id": "ZjzwtNU2sY8M"
      },
      "source": [
        "# Download and Extract Dataset"
      ]
    },
    {
      "cell_type": "code",
      "execution_count": 4,
      "metadata": {
        "colab": {
          "base_uri": "https://localhost:8080/"
        },
        "id": "9RSDCIWlsY8N",
        "outputId": "65a154b8-247b-4522-c04b-2b8abaf2aa04"
      },
      "outputs": [
        {
          "name": "stdout",
          "output_type": "stream",
          "text": [
            "Downloading...\n",
            "From (uriginal): https://drive.google.com/uc?id=1NucmsLZzT64qRPTUJn0zoOI8_qS6JspD\n",
            "From (redirected): https://drive.google.com/uc?id=1NucmsLZzT64qRPTUJn0zoOI8_qS6JspD&confirm=t&uuid=9cac55bd-891d-40b5-807f-815ec6e273ce\n",
            "To: /content/TAVI_r15.zip\n",
            "100% 26.6M/26.6M [00:00<00:00, 26.8MB/s]\n"
          ]
        }
      ],
      "source": [
        "# !gdown \"1NucmsLZzT64qRPTUJn0zoOI8_qS6JspD\"\n",
        "# !unzip -o \"TAVI_r15.zip\" > /dev/null\n"
      ]
    },
    {
      "cell_type": "markdown",
      "metadata": {
        "id": "yFAlpIdMsY8N"
      },
      "source": [
        "# Imports"
      ]
    },
    {
      "cell_type": "code",
      "execution_count": 5,
      "metadata": {
        "id": "xiEKM9gZsY8N"
      },
      "outputs": [],
      "source": [
        "import os\n",
        "import datetime\n",
        "import matplotlib\n",
        "import pandas as pd\n",
        "import tensorflow as tf\n",
        "import matplotlib.pyplot as plt\n",
        "\n",
        "from tqdm import tqdm\n",
        "\n",
        "matplotlib.use('Agg')\n",
        "plt.rcParams[\"font.size\"] = 16"
      ]
    },
    {
      "cell_type": "markdown",
      "metadata": {
        "id": "OCaqjLQYsY8O"
      },
      "source": [
        "# Config"
      ]
    },
    {
      "cell_type": "code",
      "execution_count": 6,
      "metadata": {
        "id": "Qby7HsHhsY8O"
      },
      "outputs": [],
      "source": [
        "PROBLEM = \"Curvature_2_Pressure\"\n",
        "\n",
        "MODEL_NAME = \"MultiViewUNet\"\n",
        "DATASET_PATH = \"../../dataset/Images/\"\n",
        "TRAIN_DIR = \"Train/\"\n",
        "TEST_DIR = \"Test/\"\n",
        "INPUT_DIR = PROBLEM.split(\"_2_\")[0]\n",
        "TARGET_DIR = PROBLEM.split(\"_2_\")[1]\n",
        "MODEL_PATH = \"../../Models/\"\n",
        "PRED_PATH = \"../../Predictions/\"\n",
        "IMG_SIZE = 256\n",
        "BATCH_SIZE = 16\n",
        "BUFFER_SIZE = 1000\n",
        "VAL_SPLIT = 0.2\n",
        "LEARNING_RATE = 0.001\n",
        "N_EPOCHS = 300\n",
        "PATIENCE = 30\n",
        "\n",
        "EXP_NAME = f\"{PROBLEM}_{MODEL_NAME}_I{IMG_SIZE}_B{BATCH_SIZE}_LR{LEARNING_RATE}\"\n"
      ]
    },
    {
      "cell_type": "markdown",
      "metadata": {
        "id": "vnnlcTjjsY8O"
      },
      "source": [
        "# Architecture"
      ]
    },
    {
      "cell_type": "code",
      "execution_count": 7,
      "metadata": {
        "id": "QQWORDDysY8P"
      },
      "outputs": [],
      "source": [
        "class UNet:\n",
        "    def __init__(\n",
        "        self,\n",
        "        img_size: int,\n",
        "        n_channels: int = 3,\n",
        "        width: int = 32,\n",
        "        depth: int = 4,\n",
        "        kernel_size: int = 3\n",
        "    ):\n",
        "        self.img_size = img_size\n",
        "        self.n_channels = n_channels\n",
        "        self.width = width\n",
        "        self.depth = depth\n",
        "        self.kernel_size = kernel_size\n",
        "\n",
        "    @staticmethod\n",
        "    def conv(\n",
        "        x: tf.Tensor,\n",
        "        filters: int,\n",
        "        kernel_size: int\n",
        "    ) -> tf.Tensor:\n",
        "        for i in range(2):\n",
        "            x = tf.keras.layers.Conv2D(\n",
        "                filters=filters,\n",
        "                kernel_size=kernel_size,\n",
        "                strides=1,\n",
        "                padding=\"same\",\n",
        "                data_format=\"channels_last\",\n",
        "                dilation_rate=1,\n",
        "                groups=1,\n",
        "                activation=None,\n",
        "                use_bias=True,\n",
        "                kernel_initializer=\"glorot_uniform\",\n",
        "                bias_initializer=\"zeros\",\n",
        "            )(x)\n",
        "\n",
        "            x = tf.keras.layers.BatchNormalization()(x)\n",
        "            x = tf.keras.layers.Activation(\"relu\")(x)\n",
        "\n",
        "        return x\n",
        "\n",
        "    @staticmethod\n",
        "    def deconv(x: tf.Tensor, filters: int) -> tf.Tensor:\n",
        "        x = tf.keras.layers.Conv2DTranspose(\n",
        "            filters=filters,\n",
        "            kernel_size=2,\n",
        "            strides=2,\n",
        "            padding=\"same\",\n",
        "            output_padding=None,\n",
        "            data_format=None,\n",
        "            dilation_rate=1,\n",
        "            activation=None,\n",
        "            use_bias=True,\n",
        "            kernel_initializer=\"glorot_uniform\",\n",
        "            bias_initializer=\"zeros\",\n",
        "        )(x)\n",
        "\n",
        "        x = tf.keras.layers.BatchNormalization()(x)\n",
        "        x = tf.keras.layers.Activation(\"relu\")(x)\n",
        "\n",
        "        return x\n",
        "\n",
        "    @staticmethod\n",
        "    def output(x: tf.Tensor) -> tf.Tensor:\n",
        "        return tf.keras.layers.Conv2D(3, (1, 1), activation=\"sigmoid\")(x)\n",
        "\n",
        "    @staticmethod\n",
        "    def pool(x: tf.Tensor, pool_size: int = 2) -> tf.Tensor:\n",
        "        return tf.keras.layers.MaxPool2D(pool_size)(x)\n",
        "\n",
        "    @staticmethod\n",
        "    def dropout(x: tf.Tensor, amount: float = 0.5) -> tf.Tensor:\n",
        "        return tf.keras.layers.Dropout(amount)(x)\n",
        "\n",
        "    def __call__(self) -> tf.keras.Model:\n",
        "        inputs = tf.keras.layers.Input(\n",
        "            shape=(self.img_size, self.img_size, self.n_channels)\n",
        "        )\n",
        "\n",
        "        # scaled = tf.keras.layers.Rescaling(1./255.0, offset=0)(inputs)\n",
        "\n",
        "        # ------------------ Downsampling ---------------------\n",
        "        downsample_layers = []\n",
        "        downsample_layers.append(\n",
        "            self.conv(\n",
        "                x=inputs,\n",
        "                filters=self.width,\n",
        "                kernel_size=self.kernel_size\n",
        "            )\n",
        "        )\n",
        "        for i in range(1, self.depth):\n",
        "            dropout_amount = 0.2 if i == 1 else 0.5\n",
        "            filters = int((2 ** i) * self.width)\n",
        "            downsample_layers.append(\n",
        "                self.dropout(\n",
        "                    self.pool(\n",
        "                        self.conv(\n",
        "                            x=downsample_layers[i - 1],\n",
        "                            filters=filters,\n",
        "                            kernel_size=self.kernel_size\n",
        "                        )\n",
        "                    ),\n",
        "                    amount=dropout_amount\n",
        "                )\n",
        "            )\n",
        "\n",
        "        # ------------------- Features --------------------\n",
        "        n_features = int((2 ** self.depth) * self.width)\n",
        "        self.features = self.pool(\n",
        "            self.conv(\n",
        "                x=downsample_layers[-1],\n",
        "                filters=n_features,\n",
        "                kernel_size=self.kernel_size\n",
        "            )\n",
        "        )\n",
        "\n",
        "        # ------------------- Upsampling --------------------\n",
        "        upsample_layers = []\n",
        "        upsample_layers.append(self.features)\n",
        "        for i in range(1, self.depth + 1):\n",
        "            filters = int((2 ** (self.depth - i)) * self.width)\n",
        "            upsample_layers.append(\n",
        "                self.conv(\n",
        "                    x=self.dropout(\n",
        "                        tf.keras.layers.concatenate([\n",
        "                            downsample_layers[self.depth - i],\n",
        "                            self.deconv(\n",
        "                                x=upsample_layers[i - 1],\n",
        "                                filters=filters\n",
        "                            )\n",
        "                        ])\n",
        "                    ),\n",
        "                    filters=filters,\n",
        "                    kernel_size=self.kernel_size\n",
        "                )\n",
        "            )\n",
        "\n",
        "        # ---------------------- Output -----------------------\n",
        "        outputs = self.output(upsample_layers[-1])\n",
        "\n",
        "        return tf.keras.Model(inputs, outputs)\n"
      ]
    },
    {
      "cell_type": "markdown",
      "metadata": {
        "id": "3wNu29ilsY8Q"
      },
      "source": [
        "# Loss Functions / Metrics"
      ]
    },
    {
      "cell_type": "code",
      "execution_count": 8,
      "metadata": {
        "id": "EScLEIVTsY8R"
      },
      "outputs": [],
      "source": [
        "def attention_mse(y_true, y_pred):\n",
        "    _y_true = y_true[y_true != 1.0]\n",
        "    _y_pred = y_pred[y_true != 1.0]\n",
        "    squared_difference = tf.square(_y_true - _y_pred)\n",
        "    return tf.reduce_mean(squared_difference, axis=-1)\n",
        "\n",
        "\n",
        "def attention_mae(y_true, y_pred):\n",
        "    _y_true = y_true[y_true != 1.0]\n",
        "    _y_pred = y_pred[y_true != 1.0]\n",
        "    squared_difference = tf.abs(_y_true - _y_pred)\n",
        "    return tf.reduce_mean(squared_difference, axis=-1)\n"
      ]
    },
    {
      "cell_type": "markdown",
      "metadata": {
        "id": "UcGPtUeasY8R"
      },
      "source": [
        "# DataLoader"
      ]
    },
    {
      "cell_type": "code",
      "execution_count": 9,
      "metadata": {
        "id": "wEWrDHWDsY8R"
      },
      "outputs": [],
      "source": [
        "def load_data_from_dir(path: str) -> tf.data.Dataset:\n",
        "    return tf.keras.utils.image_dataset_from_directory(\n",
        "        directory=path,\n",
        "        labels=None,\n",
        "        color_mode='rgb',\n",
        "        batch_size=BATCH_SIZE,\n",
        "        image_size=(IMG_SIZE, IMG_SIZE),\n",
        "        shuffle=False,\n",
        "        seed=42,\n",
        "        interpolation='bilinear',\n",
        "        follow_links=False,\n",
        "        crop_to_aspect_ratio=False\n",
        "    )\n"
      ]
    },
    {
      "cell_type": "markdown",
      "metadata": {
        "id": "iHl8FzWEsY8R"
      },
      "source": [
        "# Load Dataset"
      ]
    },
    {
      "cell_type": "code",
      "execution_count": 10,
      "metadata": {
        "colab": {
          "base_uri": "https://localhost:8080/"
        },
        "id": "_N_9KDvNsY8S",
        "outputId": "8b74871d-c3fd-4a49-b1a0-d61a8f1cf3b7"
      },
      "outputs": [
        {
          "name": "stdout",
          "output_type": "stream",
          "text": [
            "Found 360 files belonging to 1 classes.\n",
            "Found 360 files belonging to 1 classes.\n",
            "Found 84 files belonging to 1 classes.\n",
            "Found 84 files belonging to 1 classes.\n",
            "(TensorSpec(shape=(None, 256, 256, 3), dtype=tf.float32, name=None), TensorSpec(shape=(None, 256, 256, 3), dtype=tf.float32, name=None))\n",
            "(TensorSpec(shape=(None, 256, 256, 3), dtype=tf.float32, name=None), TensorSpec(shape=(None, 256, 256, 3), dtype=tf.float32, name=None))\n"
          ]
        }
      ],
      "source": [
        "trainX = load_data_from_dir(os.path.join(DATASET_PATH, TRAIN_DIR, INPUT_DIR))\n",
        "trainY = load_data_from_dir(os.path.join(DATASET_PATH, TRAIN_DIR, TARGET_DIR))\n",
        "testX = load_data_from_dir(os.path.join(DATASET_PATH, TEST_DIR, INPUT_DIR))\n",
        "testY = load_data_from_dir(os.path.join(DATASET_PATH, TEST_DIR, TARGET_DIR))\n",
        "\n",
        "train_ds = tf.data.Dataset.zip((trainX, trainY))\n",
        "test_ds = tf.data.Dataset.zip((testX, testY))\n",
        "\n",
        "print(train_ds.element_spec)\n",
        "print(test_ds.element_spec)\n"
      ]
    },
    {
      "cell_type": "markdown",
      "metadata": {
        "id": "siGY2orosY8S"
      },
      "source": [
        "# Normalization"
      ]
    },
    {
      "cell_type": "code",
      "execution_count": 11,
      "metadata": {
        "id": "iEVMVJIusY8S"
      },
      "outputs": [],
      "source": [
        "normalization_layer = tf.keras.layers.Rescaling(1./255)\n",
        "train_ds = train_ds.map(lambda x, y: (\n",
        "    normalization_layer(x), normalization_layer(y)))\n",
        "test_ds = test_ds.map(lambda x, y: (\n",
        "    normalization_layer(x), normalization_layer(y)))\n"
      ]
    },
    {
      "cell_type": "markdown",
      "metadata": {
        "id": "N0gpJ04WsY8T"
      },
      "source": [
        "# Augmentation"
      ]
    },
    {
      "cell_type": "code",
      "execution_count": 12,
      "metadata": {
        "id": "71pw2HYCsY8T"
      },
      "outputs": [],
      "source": [
        "class Augment(tf.keras.layers.Layer):\n",
        "    def __init__(self, seed=42):\n",
        "        super().__init__()\n",
        "        # both use the same seed, so they'll make the same random changes.\n",
        "        self.augment_inputs = tf.keras.layers.RandomZoom(\n",
        "            (-0.1, -0.7), seed=seed)\n",
        "        self.augment_labels = tf.keras.layers.RandomZoom(\n",
        "            (-0.1, -0.7), seed=seed)\n",
        "\n",
        "    def call(self, inputs, labels):\n",
        "        inputs = self.augment_inputs(inputs)\n",
        "        labels = self.augment_labels(labels)\n",
        "        return inputs, labels\n"
      ]
    },
    {
      "cell_type": "markdown",
      "metadata": {
        "id": "mymNUKessY8T"
      },
      "source": [
        "# Optimization"
      ]
    },
    {
      "cell_type": "code",
      "execution_count": 13,
      "metadata": {
        "id": "OFxFklYZsY8T"
      },
      "outputs": [],
      "source": [
        "AUTOTUNE = tf.data.AUTOTUNE\n",
        "\n",
        "train_batches = (\n",
        "    train_ds\n",
        "    .cache()\n",
        "    .shuffle(BUFFER_SIZE)\n",
        "    .prefetch(buffer_size=AUTOTUNE)\n",
        ")\n",
        "\n",
        "test_batches = (\n",
        "    test_ds\n",
        "    .cache()\n",
        "    .prefetch(buffer_size=AUTOTUNE)\n",
        ")\n"
      ]
    },
    {
      "cell_type": "markdown",
      "metadata": {
        "id": "j6ilqDbnsY8U"
      },
      "source": [
        "# Training Config"
      ]
    },
    {
      "cell_type": "code",
      "execution_count": 14,
      "metadata": {
        "id": "WlY6S1B6sY8U"
      },
      "outputs": [],
      "source": [
        "model_path = os.path.join(MODEL_PATH, EXP_NAME)\n",
        "\n",
        "callbacks = [\n",
        "    tf.keras.callbacks.EarlyStopping(\n",
        "        monitor=\"val_loss\",\n",
        "        patience=PATIENCE,\n",
        "        restore_best_weights=True\n",
        "    ),\n",
        "    tf.keras.callbacks.ModelCheckpoint(\n",
        "        model_path,\n",
        "        monitor='val_loss',\n",
        "        verbose=1,\n",
        "        save_best_only=True,\n",
        "        save_weights_only=True\n",
        "    )\n",
        "]\n",
        "\n",
        "optimizer = tf.keras.optimizers.Adam(\n",
        "    learning_rate=LEARNING_RATE\n",
        ")\n",
        "\n",
        "model = UNet(IMG_SIZE)()\n",
        "\n",
        "model.compile(\n",
        "    loss=attention_mse,\n",
        "    optimizer=optimizer,\n",
        "    metrics=[attention_mae]\n",
        ")\n",
        "\n",
        "# try:\n",
        "#     model.load_weights(model_path)\n",
        "# except:\n",
        "#     print(\"Checkpoint not found\")\n",
        "#     pass\n"
      ]
    },
    {
      "cell_type": "markdown",
      "metadata": {
        "id": "zmjFkIYNsY8U"
      },
      "source": [
        "# Training"
      ]
    },
    {
      "cell_type": "code",
      "execution_count": null,
      "metadata": {
        "colab": {
          "base_uri": "https://localhost:8080/"
        },
        "id": "Nd0e5sXtsY8U",
        "outputId": "13be2c5a-a5e6-47c1-a6b7-07af5fd5fe12"
      },
      "outputs": [
        {
          "name": "stdout",
          "output_type": "stream",
          "text": [
            "Epoch 1/300\n",
            "23/23 [==============================] - ETA: 0s - loss: 0.0413 - attention_mae: 0.1571\n",
            "Epoch 1: val_loss improved from inf to 0.14556, saving model to /content/drive/MyDrive/Research/TAVI/Models/Curvature_2_Pressure_MultiViewUNet_I256_B16_LR0.001\n",
            "23/23 [==============================] - 84s 2s/step - loss: 0.0413 - attention_mae: 0.1571 - val_loss: 0.1456 - val_attention_mae: 0.3176\n",
            "Epoch 2/300\n",
            "23/23 [==============================] - ETA: 0s - loss: 0.0092 - attention_mae: 0.0749\n",
            "Epoch 2: val_loss improved from 0.14556 to 0.07960, saving model to /content/drive/MyDrive/Research/TAVI/Models/Curvature_2_Pressure_MultiViewUNet_I256_B16_LR0.001\n",
            "23/23 [==============================] - 19s 832ms/step - loss: 0.0092 - attention_mae: 0.0749 - val_loss: 0.0796 - val_attention_mae: 0.2184\n",
            "Epoch 3/300\n",
            "23/23 [==============================] - ETA: 0s - loss: 0.0067 - attention_mae: 0.0603\n",
            "Epoch 3: val_loss improved from 0.07960 to 0.03944, saving model to /content/drive/MyDrive/Research/TAVI/Models/Curvature_2_Pressure_MultiViewUNet_I256_B16_LR0.001\n",
            "23/23 [==============================] - 19s 825ms/step - loss: 0.0067 - attention_mae: 0.0603 - val_loss: 0.0394 - val_attention_mae: 0.1602\n",
            "Epoch 4/300\n",
            "23/23 [==============================] - ETA: 0s - loss: 0.0054 - attention_mae: 0.0513\n",
            "Epoch 4: val_loss improved from 0.03944 to 0.02756, saving model to /content/drive/MyDrive/Research/TAVI/Models/Curvature_2_Pressure_MultiViewUNet_I256_B16_LR0.001\n",
            "23/23 [==============================] - 20s 865ms/step - loss: 0.0054 - attention_mae: 0.0513 - val_loss: 0.0276 - val_attention_mae: 0.1352\n",
            "Epoch 5/300\n",
            "23/23 [==============================] - ETA: 0s - loss: 0.0047 - attention_mae: 0.0449\n",
            "Epoch 5: val_loss improved from 0.02756 to 0.02021, saving model to /content/drive/MyDrive/Research/TAVI/Models/Curvature_2_Pressure_MultiViewUNet_I256_B16_LR0.001\n",
            "23/23 [==============================] - 19s 825ms/step - loss: 0.0047 - attention_mae: 0.0449 - val_loss: 0.0202 - val_attention_mae: 0.1142\n",
            "Epoch 6/300\n",
            "23/23 [==============================] - ETA: 0s - loss: 0.0041 - attention_mae: 0.0401\n",
            "Epoch 6: val_loss improved from 0.02021 to 0.01591, saving model to /content/drive/MyDrive/Research/TAVI/Models/Curvature_2_Pressure_MultiViewUNet_I256_B16_LR0.001\n",
            "23/23 [==============================] - 19s 828ms/step - loss: 0.0041 - attention_mae: 0.0401 - val_loss: 0.0159 - val_attention_mae: 0.0978\n",
            "Epoch 7/300\n",
            "23/23 [==============================] - ETA: 0s - loss: 0.0037 - attention_mae: 0.0365\n",
            "Epoch 7: val_loss improved from 0.01591 to 0.01334, saving model to /content/drive/MyDrive/Research/TAVI/Models/Curvature_2_Pressure_MultiViewUNet_I256_B16_LR0.001\n",
            "23/23 [==============================] - 19s 847ms/step - loss: 0.0037 - attention_mae: 0.0365 - val_loss: 0.0133 - val_attention_mae: 0.0857\n",
            "Epoch 8/300\n",
            "23/23 [==============================] - ETA: 0s - loss: 0.0034 - attention_mae: 0.0336\n",
            "Epoch 8: val_loss improved from 0.01334 to 0.01213, saving model to /content/drive/MyDrive/Research/TAVI/Models/Curvature_2_Pressure_MultiViewUNet_I256_B16_LR0.001\n",
            "23/23 [==============================] - 19s 850ms/step - loss: 0.0034 - attention_mae: 0.0336 - val_loss: 0.0121 - val_attention_mae: 0.0788\n",
            "Epoch 9/300\n",
            "23/23 [==============================] - ETA: 0s - loss: 0.0032 - attention_mae: 0.0312\n",
            "Epoch 9: val_loss improved from 0.01213 to 0.01105, saving model to /content/drive/MyDrive/Research/TAVI/Models/Curvature_2_Pressure_MultiViewUNet_I256_B16_LR0.001\n",
            "23/23 [==============================] - 20s 858ms/step - loss: 0.0032 - attention_mae: 0.0312 - val_loss: 0.0110 - val_attention_mae: 0.0710\n",
            "Epoch 10/300\n",
            "23/23 [==============================] - ETA: 0s - loss: 0.0030 - attention_mae: 0.0293\n",
            "Epoch 10: val_loss improved from 0.01105 to 0.01042, saving model to /content/drive/MyDrive/Research/TAVI/Models/Curvature_2_Pressure_MultiViewUNet_I256_B16_LR0.001\n",
            "23/23 [==============================] - 19s 846ms/step - loss: 0.0030 - attention_mae: 0.0293 - val_loss: 0.0104 - val_attention_mae: 0.0672\n",
            "Epoch 11/300\n",
            "23/23 [==============================] - ETA: 0s - loss: 0.0029 - attention_mae: 0.0279\n",
            "Epoch 11: val_loss improved from 0.01042 to 0.00860, saving model to /content/drive/MyDrive/Research/TAVI/Models/Curvature_2_Pressure_MultiViewUNet_I256_B16_LR0.001\n",
            "23/23 [==============================] - 19s 837ms/step - loss: 0.0029 - attention_mae: 0.0279 - val_loss: 0.0086 - val_attention_mae: 0.0565\n",
            "Epoch 12/300\n",
            "23/23 [==============================] - ETA: 0s - loss: 0.0027 - attention_mae: 0.0262\n",
            "Epoch 12: val_loss improved from 0.00860 to 0.00717, saving model to /content/drive/MyDrive/Research/TAVI/Models/Curvature_2_Pressure_MultiViewUNet_I256_B16_LR0.001\n",
            "23/23 [==============================] - 20s 852ms/step - loss: 0.0027 - attention_mae: 0.0262 - val_loss: 0.0072 - val_attention_mae: 0.0493\n",
            "Epoch 13/300\n",
            "23/23 [==============================] - ETA: 0s - loss: 0.0026 - attention_mae: 0.0251\n",
            "Epoch 13: val_loss improved from 0.00717 to 0.00631, saving model to /content/drive/MyDrive/Research/TAVI/Models/Curvature_2_Pressure_MultiViewUNet_I256_B16_LR0.001\n",
            "23/23 [==============================] - 19s 842ms/step - loss: 0.0026 - attention_mae: 0.0251 - val_loss: 0.0063 - val_attention_mae: 0.0453\n",
            "Epoch 14/300\n",
            "23/23 [==============================] - ETA: 0s - loss: 0.0025 - attention_mae: 0.0239\n",
            "Epoch 14: val_loss improved from 0.00631 to 0.00558, saving model to /content/drive/MyDrive/Research/TAVI/Models/Curvature_2_Pressure_MultiViewUNet_I256_B16_LR0.001\n",
            "23/23 [==============================] - 20s 861ms/step - loss: 0.0025 - attention_mae: 0.0239 - val_loss: 0.0056 - val_attention_mae: 0.0399\n",
            "Epoch 15/300\n",
            "23/23 [==============================] - ETA: 0s - loss: 0.0024 - attention_mae: 0.0228\n",
            "Epoch 15: val_loss improved from 0.00558 to 0.00474, saving model to /content/drive/MyDrive/Research/TAVI/Models/Curvature_2_Pressure_MultiViewUNet_I256_B16_LR0.001\n",
            "23/23 [==============================] - 19s 838ms/step - loss: 0.0024 - attention_mae: 0.0228 - val_loss: 0.0047 - val_attention_mae: 0.0336\n",
            "Epoch 16/300\n",
            "23/23 [==============================] - ETA: 0s - loss: 0.0023 - attention_mae: 0.0223\n",
            "Epoch 16: val_loss improved from 0.00474 to 0.00426, saving model to /content/drive/MyDrive/Research/TAVI/Models/Curvature_2_Pressure_MultiViewUNet_I256_B16_LR0.001\n",
            "23/23 [==============================] - 19s 856ms/step - loss: 0.0023 - attention_mae: 0.0223 - val_loss: 0.0043 - val_attention_mae: 0.0302\n",
            "Epoch 17/300\n",
            "23/23 [==============================] - ETA: 0s - loss: 0.0022 - attention_mae: 0.0213\n",
            "Epoch 17: val_loss did not improve from 0.00426\n",
            "23/23 [==============================] - 19s 812ms/step - loss: 0.0022 - attention_mae: 0.0213 - val_loss: 0.0045 - val_attention_mae: 0.0347\n",
            "Epoch 18/300\n",
            "23/23 [==============================] - ETA: 0s - loss: 0.0022 - attention_mae: 0.0205\n",
            "Epoch 18: val_loss improved from 0.00426 to 0.00386, saving model to /content/drive/MyDrive/Research/TAVI/Models/Curvature_2_Pressure_MultiViewUNet_I256_B16_LR0.001\n",
            "23/23 [==============================] - 20s 879ms/step - loss: 0.0022 - attention_mae: 0.0205 - val_loss: 0.0039 - val_attention_mae: 0.0269\n",
            "Epoch 19/300\n",
            "23/23 [==============================] - ETA: 0s - loss: 0.0021 - attention_mae: 0.0200\n",
            "Epoch 19: val_loss improved from 0.00386 to 0.00354, saving model to /content/drive/MyDrive/Research/TAVI/Models/Curvature_2_Pressure_MultiViewUNet_I256_B16_LR0.001\n",
            "23/23 [==============================] - 20s 859ms/step - loss: 0.0021 - attention_mae: 0.0200 - val_loss: 0.0035 - val_attention_mae: 0.0256\n",
            "Epoch 20/300\n",
            "23/23 [==============================] - ETA: 0s - loss: 0.0021 - attention_mae: 0.0193\n",
            "Epoch 20: val_loss did not improve from 0.00354\n",
            "23/23 [==============================] - 19s 813ms/step - loss: 0.0021 - attention_mae: 0.0193 - val_loss: 0.0037 - val_attention_mae: 0.0241\n",
            "Epoch 21/300\n",
            "23/23 [==============================] - ETA: 0s - loss: 0.0020 - attention_mae: 0.0185\n",
            "Epoch 21: val_loss improved from 0.00354 to 0.00322, saving model to /content/drive/MyDrive/Research/TAVI/Models/Curvature_2_Pressure_MultiViewUNet_I256_B16_LR0.001\n",
            "23/23 [==============================] - 20s 856ms/step - loss: 0.0020 - attention_mae: 0.0185 - val_loss: 0.0032 - val_attention_mae: 0.0228\n",
            "Epoch 22/300\n",
            "23/23 [==============================] - ETA: 0s - loss: 0.0020 - attention_mae: 0.0181\n",
            "Epoch 22: val_loss did not improve from 0.00322\n",
            "23/23 [==============================] - 19s 812ms/step - loss: 0.0020 - attention_mae: 0.0181 - val_loss: 0.0044 - val_attention_mae: 0.0330\n",
            "Epoch 23/300\n",
            "23/23 [==============================] - ETA: 0s - loss: 0.0019 - attention_mae: 0.0176\n",
            "Epoch 23: val_loss improved from 0.00322 to 0.00294, saving model to /content/drive/MyDrive/Research/TAVI/Models/Curvature_2_Pressure_MultiViewUNet_I256_B16_LR0.001\n",
            "23/23 [==============================] - 20s 859ms/step - loss: 0.0019 - attention_mae: 0.0176 - val_loss: 0.0029 - val_attention_mae: 0.0194\n",
            "Epoch 24/300\n",
            "23/23 [==============================] - ETA: 0s - loss: 0.0019 - attention_mae: 0.0170\n",
            "Epoch 24: val_loss did not improve from 0.00294\n",
            "23/23 [==============================] - 19s 832ms/step - loss: 0.0019 - attention_mae: 0.0170 - val_loss: 0.0030 - val_attention_mae: 0.0179\n",
            "Epoch 25/300\n",
            "23/23 [==============================] - ETA: 0s - loss: 0.0019 - attention_mae: 0.0166\n",
            "Epoch 25: val_loss improved from 0.00294 to 0.00253, saving model to /content/drive/MyDrive/Research/TAVI/Models/Curvature_2_Pressure_MultiViewUNet_I256_B16_LR0.001\n",
            "23/23 [==============================] - 19s 839ms/step - loss: 0.0019 - attention_mae: 0.0166 - val_loss: 0.0025 - val_attention_mae: 0.0180\n",
            "Epoch 26/300\n",
            "23/23 [==============================] - ETA: 0s - loss: 0.0018 - attention_mae: 0.0162\n",
            "Epoch 26: val_loss did not improve from 0.00253\n",
            "23/23 [==============================] - 19s 812ms/step - loss: 0.0018 - attention_mae: 0.0162 - val_loss: 0.0027 - val_attention_mae: 0.0197\n",
            "Epoch 27/300\n",
            "23/23 [==============================] - ETA: 0s - loss: 0.0018 - attention_mae: 0.0156\n",
            "Epoch 27: val_loss improved from 0.00253 to 0.00242, saving model to /content/drive/MyDrive/Research/TAVI/Models/Curvature_2_Pressure_MultiViewUNet_I256_B16_LR0.001\n",
            "23/23 [==============================] - 20s 852ms/step - loss: 0.0018 - attention_mae: 0.0156 - val_loss: 0.0024 - val_attention_mae: 0.0160\n",
            "Epoch 28/300\n",
            "23/23 [==============================] - ETA: 0s - loss: 0.0018 - attention_mae: 0.0150\n",
            "Epoch 28: val_loss did not improve from 0.00242\n",
            "23/23 [==============================] - 19s 813ms/step - loss: 0.0018 - attention_mae: 0.0150 - val_loss: 0.0033 - val_attention_mae: 0.0234\n",
            "Epoch 29/300\n",
            "23/23 [==============================] - ETA: 0s - loss: 0.0018 - attention_mae: 0.0149\n",
            "Epoch 29: val_loss did not improve from 0.00242\n",
            "23/23 [==============================] - 19s 813ms/step - loss: 0.0018 - attention_mae: 0.0149 - val_loss: 0.0032 - val_attention_mae: 0.0196\n",
            "Epoch 30/300\n",
            "23/23 [==============================] - ETA: 0s - loss: 0.0017 - attention_mae: 0.0144\n",
            "Epoch 30: val_loss did not improve from 0.00242\n",
            "23/23 [==============================] - 19s 812ms/step - loss: 0.0017 - attention_mae: 0.0144 - val_loss: 0.0037 - val_attention_mae: 0.0242\n",
            "Epoch 31/300\n",
            "23/23 [==============================] - ETA: 0s - loss: 0.0018 - attention_mae: 0.0146\n",
            "Epoch 31: val_loss did not improve from 0.00242\n",
            "23/23 [==============================] - 19s 831ms/step - loss: 0.0018 - attention_mae: 0.0146 - val_loss: 0.0030 - val_attention_mae: 0.0180\n",
            "Epoch 32/300\n",
            "23/23 [==============================] - ETA: 0s - loss: 0.0017 - attention_mae: 0.0144\n",
            "Epoch 32: val_loss did not improve from 0.00242\n",
            "23/23 [==============================] - 19s 812ms/step - loss: 0.0017 - attention_mae: 0.0144 - val_loss: 0.0026 - val_attention_mae: 0.0170\n",
            "Epoch 33/300\n",
            "23/23 [==============================] - ETA: 0s - loss: 0.0017 - attention_mae: 0.0133\n",
            "Epoch 33: val_loss improved from 0.00242 to 0.00216, saving model to /content/drive/MyDrive/Research/TAVI/Models/Curvature_2_Pressure_MultiViewUNet_I256_B16_LR0.001\n",
            "23/23 [==============================] - 19s 846ms/step - loss: 0.0017 - attention_mae: 0.0133 - val_loss: 0.0022 - val_attention_mae: 0.0155\n",
            "Epoch 34/300\n",
            "23/23 [==============================] - ETA: 0s - loss: 0.0017 - attention_mae: 0.0132\n",
            "Epoch 34: val_loss did not improve from 0.00216\n",
            "23/23 [==============================] - 19s 815ms/step - loss: 0.0017 - attention_mae: 0.0132 - val_loss: 0.0023 - val_attention_mae: 0.0140\n",
            "Epoch 35/300\n",
            "23/23 [==============================] - ETA: 0s - loss: 0.0017 - attention_mae: 0.0131\n",
            "Epoch 35: val_loss improved from 0.00216 to 0.00214, saving model to /content/drive/MyDrive/Research/TAVI/Models/Curvature_2_Pressure_MultiViewUNet_I256_B16_LR0.001\n",
            "23/23 [==============================] - 20s 853ms/step - loss: 0.0017 - attention_mae: 0.0131 - val_loss: 0.0021 - val_attention_mae: 0.0154\n",
            "Epoch 36/300\n",
            "23/23 [==============================] - ETA: 0s - loss: 0.0017 - attention_mae: 0.0129\n",
            "Epoch 36: val_loss did not improve from 0.00214\n",
            "23/23 [==============================] - 19s 813ms/step - loss: 0.0017 - attention_mae: 0.0129 - val_loss: 0.0022 - val_attention_mae: 0.0153\n",
            "Epoch 37/300\n",
            "23/23 [==============================] - ETA: 0s - loss: 0.0016 - attention_mae: 0.0126\n",
            "Epoch 37: val_loss improved from 0.00214 to 0.00210, saving model to /content/drive/MyDrive/Research/TAVI/Models/Curvature_2_Pressure_MultiViewUNet_I256_B16_LR0.001\n",
            "23/23 [==============================] - 19s 846ms/step - loss: 0.0016 - attention_mae: 0.0126 - val_loss: 0.0021 - val_attention_mae: 0.0124\n",
            "Epoch 38/300\n",
            "23/23 [==============================] - ETA: 0s - loss: 0.0016 - attention_mae: 0.0121\n",
            "Epoch 38: val_loss improved from 0.00210 to 0.00209, saving model to /content/drive/MyDrive/Research/TAVI/Models/Curvature_2_Pressure_MultiViewUNet_I256_B16_LR0.001\n",
            "23/23 [==============================] - 20s 856ms/step - loss: 0.0016 - attention_mae: 0.0121 - val_loss: 0.0021 - val_attention_mae: 0.0137\n",
            "Epoch 39/300\n",
            "23/23 [==============================] - ETA: 0s - loss: 0.0016 - attention_mae: 0.0120\n",
            "Epoch 39: val_loss improved from 0.00209 to 0.00205, saving model to /content/drive/MyDrive/Research/TAVI/Models/Curvature_2_Pressure_MultiViewUNet_I256_B16_LR0.001\n",
            "23/23 [==============================] - 19s 840ms/step - loss: 0.0016 - attention_mae: 0.0120 - val_loss: 0.0020 - val_attention_mae: 0.0124\n",
            "Epoch 40/300\n",
            "23/23 [==============================] - ETA: 0s - loss: 0.0016 - attention_mae: 0.0122\n",
            "Epoch 40: val_loss did not improve from 0.00205\n",
            "23/23 [==============================] - 19s 832ms/step - loss: 0.0016 - attention_mae: 0.0122 - val_loss: 0.0022 - val_attention_mae: 0.0117\n",
            "Epoch 41/300\n",
            " 3/23 [==>...........................] - ETA: 15s - loss: 0.0013 - attention_mae: 0.0120"
          ]
        }
      ],
      "source": [
        "history = model.fit(\n",
        "    train_batches,\n",
        "    validation_data=test_batches,\n",
        "    epochs=N_EPOCHS,\n",
        "    batch_size=BATCH_SIZE,\n",
        "    callbacks=callbacks,\n",
        "    verbose=1\n",
        ")\n"
      ]
    },
    {
      "cell_type": "markdown",
      "metadata": {
        "id": "o0izY6BrsY8U"
      },
      "source": [
        "# Save Model"
      ]
    },
    {
      "cell_type": "code",
      "execution_count": null,
      "metadata": {
        "id": "BriaW2DnsY8V"
      },
      "outputs": [],
      "source": [
        "timestamp = datetime.datetime.now().strftime('%b-%d-%I:%M%p')\n",
        "if not os.path.exists(model_path):\n",
        "    os.makedirs(model_path)\n",
        "\n",
        "model.save(os.path.join(model_path, timestamp))"
      ]
    },
    {
      "cell_type": "code",
      "execution_count": null,
      "metadata": {
        "id": "3IADrMxkC9v2"
      },
      "outputs": [],
      "source": [
        "model_path"
      ]
    },
    {
      "cell_type": "markdown",
      "metadata": {
        "id": "i_Oi8OvMsY8V"
      },
      "source": [
        "# Save Predictions"
      ]
    },
    {
      "cell_type": "code",
      "execution_count": null,
      "metadata": {
        "id": "lvBEcrXCsY8V"
      },
      "outputs": [],
      "source": [
        "test_ds_unbatched = test_batches.unbatch()\n",
        "\n",
        "pred_path = os.path.join(PRED_PATH, EXP_NAME, timestamp)\n",
        "if not os.path.exists(pred_path):\n",
        "    os.makedirs(pred_path)\n",
        "\n",
        "metrics = pd.DataFrame()\n",
        "\n",
        "for idx, (input, target) in enumerate(tqdm(test_ds_unbatched)):\n",
        "\n",
        "    target = tf.squeeze(target).numpy()\n",
        "    prediction = tf.squeeze(\n",
        "        model.predict(\n",
        "            tf.expand_dims(input, axis=0)\n",
        "        )\n",
        "    )\n",
        "\n",
        "    channel_sum = tf.expand_dims(tf.reduce_sum(target, axis=-1), axis=-1)\n",
        "    white_mask = tf.reduce_all(tf.equal(channel_sum, 3.0), axis=-1)\n",
        "    expanded_mask = tf.expand_dims(white_mask, axis=-1)\n",
        "    expanded_mask = tf.tile(expanded_mask, [1, 1, 3])\n",
        "    prediction = tf.where(expanded_mask, tf.ones_like(prediction), prediction)\n",
        "\n",
        "    plt.figure(figsize=(7, 14))\n",
        "    plt.subplot(2, 1, 1)\n",
        "    plt.imshow(target)\n",
        "    plt.axis(\"off\")\n",
        "    plt.tight_layout()\n",
        "\n",
        "    plt.subplot(2, 1, 2)\n",
        "    plt.imshow(prediction)\n",
        "    plt.axis(\"off\")\n",
        "    plt.tight_layout()\n",
        "    plt.savefig(os.path.join(pred_path, f\"{idx}.png\"))\n",
        "    plt.close()\n"
      ]
    },
    {
      "cell_type": "markdown",
      "metadata": {
        "id": "7X8uip-GsY8V"
      },
      "source": [
        "# Loss Curve"
      ]
    },
    {
      "cell_type": "code",
      "execution_count": null,
      "metadata": {
        "id": "uSb9pzrasY8W"
      },
      "outputs": [],
      "source": [
        "try:\n",
        "    loss = history.history['loss']\n",
        "    val_loss = history.history['val_loss']\n",
        "\n",
        "    plt.figure(figsize=(8, 6))\n",
        "    plt.plot(loss, label='Training Loss')\n",
        "    plt.plot(val_loss, label='Validation Loss')\n",
        "    plt.legend(loc='upper right')\n",
        "    plt.ylabel('Attention MAE')\n",
        "    plt.title('Training and Validation Loss')\n",
        "    plt.xlabel('Epoch')\n",
        "    plt.tight_layout()\n",
        "    plt.savefig(os.path.join(model_path, timestamp + \".png\"))\n",
        "    plt.close()\n",
        "except:\n",
        "    print(\"Model did not finish training\")\n"
      ]
    },
    {
      "cell_type": "markdown",
      "metadata": {
        "id": "1hMNNE0VsY8W"
      },
      "source": [
        "# Metrics"
      ]
    },
    {
      "cell_type": "code",
      "execution_count": null,
      "metadata": {
        "id": "QGXSmlicsY8W"
      },
      "outputs": [],
      "source": [
        "model.evaluate(test_batches)\n"
      ]
    }
  ],
  "metadata": {
    "accelerator": "GPU",
    "colab": {
      "gpuType": "T4",
      "include_colab_link": true,
      "provenance": [],
      "toc_visible": true
    },
    "kernelspec": {
      "display_name": "Python 3",
      "name": "python3"
    },
    "language_info": {
      "codemirror_mode": {
        "name": "ipython",
        "version": 3
      },
      "file_extension": ".py",
      "mimetype": "text/x-python",
      "name": "python",
      "nbconvert_exporter": "python",
      "pygments_lexer": "ipython3",
      "version": "3.10.9"
    },
    "orig_nbformat": 4
  },
  "nbformat": 4,
  "nbformat_minor": 0
}
