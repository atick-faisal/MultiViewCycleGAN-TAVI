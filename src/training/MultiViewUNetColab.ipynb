{
  "cells": [
    {
      "cell_type": "markdown",
      "metadata": {
        "id": "view-in-github",
        "colab_type": "text"
      },
      "source": [
        "<a href=\"https://colab.research.google.com/github/atick-faisal/MultiViewUNet-TAVI/blob/main/src/training/MultiViewUNetColab.ipynb\" target=\"_parent\"><img src=\"https://colab.research.google.com/assets/colab-badge.svg\" alt=\"Open In Colab\"/></a>"
      ]
    },
    {
      "cell_type": "markdown",
      "metadata": {
        "id": "0BWh-7swsY8G"
      },
      "source": [
        "# Colab Info"
      ]
    },
    {
      "cell_type": "code",
      "execution_count": null,
      "metadata": {
        "id": "qKSzwmmpsY8K",
        "outputId": "5ab3482a-0d56-4ce3-d4fc-a918289fa489",
        "colab": {
          "base_uri": "https://localhost:8080/"
        }
      },
      "outputs": [
        {
          "output_type": "stream",
          "name": "stdout",
          "text": [
            "Mon Nov 20 16:13:00 2023       \n",
            "+-----------------------------------------------------------------------------+\n",
            "| NVIDIA-SMI 525.105.17   Driver Version: 525.105.17   CUDA Version: 12.0     |\n",
            "|-------------------------------+----------------------+----------------------+\n",
            "| GPU  Name        Persistence-M| Bus-Id        Disp.A | Volatile Uncorr. ECC |\n",
            "| Fan  Temp  Perf  Pwr:Usage/Cap|         Memory-Usage | GPU-Util  Compute M. |\n",
            "|                               |                      |               MIG M. |\n",
            "|===============================+======================+======================|\n",
            "|   0  Tesla T4            Off  | 00000000:00:04.0 Off |                    0 |\n",
            "| N/A   51C    P8    10W /  70W |      0MiB / 15360MiB |      0%      Default |\n",
            "|                               |                      |                  N/A |\n",
            "+-------------------------------+----------------------+----------------------+\n",
            "                                                                               \n",
            "+-----------------------------------------------------------------------------+\n",
            "| Processes:                                                                  |\n",
            "|  GPU   GI   CI        PID   Type   Process name                  GPU Memory |\n",
            "|        ID   ID                                                   Usage      |\n",
            "|=============================================================================|\n",
            "|  No running processes found                                                 |\n",
            "+-----------------------------------------------------------------------------+\n",
            "Your runtime has 13.6 gigabytes of available RAM\n",
            "\n",
            "Not using a high-RAM runtime\n"
          ]
        }
      ],
      "source": [
        "from psutil import virtual_memory\n",
        "\n",
        "gpu_info = !nvidia-smi\n",
        "gpu_info = '\\n'.join(gpu_info)\n",
        "if gpu_info.find('failed') >= 0:\n",
        "    print('Not connected to a GPU')\n",
        "else:\n",
        "    print(gpu_info)\n",
        "\n",
        "\n",
        "ram_gb = virtual_memory().total / 1e9\n",
        "print('Your runtime has {:.1f} gigabytes of available RAM\\n'.format(ram_gb))\n",
        "\n",
        "if ram_gb < 20:\n",
        "    print('Not using a high-RAM runtime')\n",
        "else:\n",
        "    print('You are using a high-RAM runtime!')\n"
      ]
    },
    {
      "cell_type": "markdown",
      "metadata": {
        "id": "1k2olxt7sY8M"
      },
      "source": [
        "# Fix for GDrive"
      ]
    },
    {
      "cell_type": "code",
      "execution_count": null,
      "metadata": {
        "id": "WR_aYJ7WsY8M"
      },
      "outputs": [],
      "source": [
        "!pip install -U --no-cache-dir gdown --pre > /dev/null\n"
      ]
    },
    {
      "cell_type": "markdown",
      "source": [
        "# Mount GDrive"
      ],
      "metadata": {
        "id": "jm5cGHp0tGvo"
      }
    },
    {
      "cell_type": "code",
      "source": [
        "from google.colab import drive\n",
        "drive.mount('/content/drive')\n"
      ],
      "metadata": {
        "id": "0hZ7iR0AtJYj",
        "outputId": "a3c9aa8e-7283-4cfa-efcf-65df59e250f3",
        "colab": {
          "base_uri": "https://localhost:8080/"
        }
      },
      "execution_count": null,
      "outputs": [
        {
          "output_type": "stream",
          "name": "stdout",
          "text": [
            "Mounted at /content/drive\n"
          ]
        }
      ]
    },
    {
      "cell_type": "markdown",
      "metadata": {
        "id": "ZjzwtNU2sY8M"
      },
      "source": [
        "# Download and Extract Dataset"
      ]
    },
    {
      "cell_type": "code",
      "execution_count": null,
      "metadata": {
        "id": "9RSDCIWlsY8N",
        "outputId": "7087dce9-4e17-4d01-a78e-9f4ff84d70c7",
        "colab": {
          "base_uri": "https://localhost:8080/"
        }
      },
      "outputs": [
        {
          "output_type": "stream",
          "name": "stdout",
          "text": [
            "Downloading...\n",
            "From (uriginal): https://drive.google.com/uc?id=1xBO079FPIeE7T5VVsFwc8QeZxAfS4J9O\n",
            "From (redirected): https://drive.google.com/uc?id=1xBO079FPIeE7T5VVsFwc8QeZxAfS4J9O&confirm=t&uuid=daacd8ec-e5cd-47f4-ae3d-3147ded9e601\n",
            "To: /content/TAVI_REG_r17.zip\n",
            "100% 370M/370M [00:03<00:00, 93.0MB/s]\n"
          ]
        }
      ],
      "source": [
        "!gdown \"1xBO079FPIeE7T5VVsFwc8QeZxAfS4J9O\"\n",
        "!unzip -o \"TAVI_REG_r17.zip\" > /dev/null\n"
      ]
    },
    {
      "cell_type": "markdown",
      "metadata": {
        "id": "yFAlpIdMsY8N"
      },
      "source": [
        "# Imports"
      ]
    },
    {
      "cell_type": "code",
      "execution_count": null,
      "metadata": {
        "id": "xiEKM9gZsY8N"
      },
      "outputs": [],
      "source": [
        "import os\n",
        "import datetime\n",
        "import matplotlib\n",
        "import numpy as np\n",
        "import pandas as pd\n",
        "import tensorflow as tf\n",
        "import matplotlib.pyplot as plt\n",
        "\n",
        "from PIL import Image\n",
        "from tqdm import tqdm\n",
        "\n",
        "matplotlib.use('Agg')\n",
        "plt.rcParams[\"font.size\"] = 16"
      ]
    },
    {
      "cell_type": "markdown",
      "metadata": {
        "id": "OCaqjLQYsY8O"
      },
      "source": [
        "# Config"
      ]
    },
    {
      "cell_type": "code",
      "execution_count": null,
      "metadata": {
        "id": "Qby7HsHhsY8O"
      },
      "outputs": [],
      "source": [
        "PROBLEM = \"Curvature_2_Stress\"\n",
        "\n",
        "MODEL_NAME = \"MultiViewUNet\"\n",
        "DATASET_PATH = \"/content/Images/\"\n",
        "TRAIN_DIR = \"Train/\"\n",
        "TEST_DIR = \"Test/\"\n",
        "INPUT_DIR = PROBLEM.split(\"_2_\")[0]\n",
        "TARGET_DIR = PROBLEM.split(\"_2_\")[1]\n",
        "MODEL_PATH = \"/content/drive/MyDrive/Research/TAVI/Models/\"\n",
        "PRED_PATH = \"/content/drive/MyDrive/Research/TAVI/Predictions/\"\n",
        "IMG_SIZE = 256\n",
        "BATCH_SIZE = 16\n",
        "BUFFER_SIZE = 1000\n",
        "VAL_SPLIT = 0.2\n",
        "LEARNING_RATE = 0.001\n",
        "N_EPOCHS = 300\n",
        "PATIENCE = 30\n",
        "\n",
        "EXP_NAME = f\"{PROBLEM}_{MODEL_NAME}_I{IMG_SIZE}_B{BATCH_SIZE}_LR{LEARNING_RATE}\"\n"
      ]
    },
    {
      "cell_type": "markdown",
      "metadata": {
        "id": "vnnlcTjjsY8O"
      },
      "source": [
        "# Architecture"
      ]
    },
    {
      "cell_type": "code",
      "execution_count": null,
      "metadata": {
        "id": "QQWORDDysY8P"
      },
      "outputs": [],
      "source": [
        "class UNet:\n",
        "    def __init__(\n",
        "        self,\n",
        "        img_size: int,\n",
        "        n_channels: int = 3,\n",
        "        width: int = 32,\n",
        "        depth: int = 4,\n",
        "        kernel_size: int = 3\n",
        "    ):\n",
        "        self.img_size = img_size\n",
        "        self.n_channels = n_channels\n",
        "        self.width = width\n",
        "        self.depth = depth\n",
        "        self.kernel_size = kernel_size\n",
        "\n",
        "    @staticmethod\n",
        "    def conv(\n",
        "        x: tf.Tensor,\n",
        "        filters: int,\n",
        "        kernel_size: int\n",
        "    ) -> tf.Tensor:\n",
        "        for i in range(2):\n",
        "            x = tf.keras.layers.Conv2D(\n",
        "                filters=filters,\n",
        "                kernel_size=kernel_size,\n",
        "                strides=1,\n",
        "                padding=\"same\",\n",
        "                data_format=\"channels_last\",\n",
        "                dilation_rate=1,\n",
        "                groups=1,\n",
        "                activation=None,\n",
        "                use_bias=True,\n",
        "                kernel_initializer=\"glorot_uniform\",\n",
        "                bias_initializer=\"zeros\",\n",
        "            )(x)\n",
        "\n",
        "            x = tf.keras.layers.BatchNormalization()(x)\n",
        "            x = tf.keras.layers.Activation(\"relu\")(x)\n",
        "\n",
        "        return x\n",
        "\n",
        "    @staticmethod\n",
        "    def deconv(x: tf.Tensor, filters: int) -> tf.Tensor:\n",
        "        x = tf.keras.layers.Conv2DTranspose(\n",
        "            filters=filters,\n",
        "            kernel_size=2,\n",
        "            strides=2,\n",
        "            padding=\"same\",\n",
        "            output_padding=None,\n",
        "            data_format=None,\n",
        "            dilation_rate=1,\n",
        "            activation=None,\n",
        "            use_bias=True,\n",
        "            kernel_initializer=\"glorot_uniform\",\n",
        "            bias_initializer=\"zeros\",\n",
        "        )(x)\n",
        "\n",
        "        x = tf.keras.layers.BatchNormalization()(x)\n",
        "        x = tf.keras.layers.Activation(\"relu\")(x)\n",
        "\n",
        "        return x\n",
        "\n",
        "    @staticmethod\n",
        "    def output(x: tf.Tensor) -> tf.Tensor:\n",
        "        return tf.keras.layers.Conv2D(3, (1, 1), activation=\"sigmoid\")(x)\n",
        "\n",
        "    @staticmethod\n",
        "    def pool(x: tf.Tensor, pool_size: int = 2) -> tf.Tensor:\n",
        "        return tf.keras.layers.MaxPool2D(pool_size)(x)\n",
        "\n",
        "    @staticmethod\n",
        "    def dropout(x: tf.Tensor, amount: float = 0.5) -> tf.Tensor:\n",
        "        return tf.keras.layers.Dropout(amount)(x)\n",
        "\n",
        "    def __call__(self) -> tf.keras.Model:\n",
        "        inputs = tf.keras.layers.Input(\n",
        "            shape=(self.img_size, self.img_size, self.n_channels)\n",
        "        )\n",
        "\n",
        "        # scaled = tf.keras.layers.Rescaling(1./255.0, offset=0)(inputs)\n",
        "\n",
        "        # ------------------ Downsampling ---------------------\n",
        "        downsample_layers = []\n",
        "        downsample_layers.append(\n",
        "            self.conv(\n",
        "                x=inputs,\n",
        "                filters=self.width,\n",
        "                kernel_size=self.kernel_size\n",
        "            )\n",
        "        )\n",
        "        for i in range(1, self.depth):\n",
        "            dropout_amount = 0.2 if i == 1 else 0.5\n",
        "            filters = int((2 ** i) * self.width)\n",
        "            downsample_layers.append(\n",
        "                self.dropout(\n",
        "                    self.pool(\n",
        "                        self.conv(\n",
        "                            x=downsample_layers[i - 1],\n",
        "                            filters=filters,\n",
        "                            kernel_size=self.kernel_size\n",
        "                        )\n",
        "                    ),\n",
        "                    amount=dropout_amount\n",
        "                )\n",
        "            )\n",
        "\n",
        "        # ------------------- Features --------------------\n",
        "        n_features = int((2 ** self.depth) * self.width)\n",
        "        self.features = self.pool(\n",
        "            self.conv(\n",
        "                x=downsample_layers[-1],\n",
        "                filters=n_features,\n",
        "                kernel_size=self.kernel_size\n",
        "            )\n",
        "        )\n",
        "\n",
        "        # ------------------- Upsampling --------------------\n",
        "        upsample_layers = []\n",
        "        upsample_layers.append(self.features)\n",
        "        for i in range(1, self.depth + 1):\n",
        "            filters = int((2 ** (self.depth - i)) * self.width)\n",
        "            upsample_layers.append(\n",
        "                self.conv(\n",
        "                    x=self.dropout(\n",
        "                        tf.keras.layers.concatenate([\n",
        "                            downsample_layers[self.depth - i],\n",
        "                            self.deconv(\n",
        "                                x=upsample_layers[i - 1],\n",
        "                                filters=filters\n",
        "                            )\n",
        "                        ])\n",
        "                    ),\n",
        "                    filters=filters,\n",
        "                    kernel_size=self.kernel_size\n",
        "                )\n",
        "            )\n",
        "\n",
        "        # ---------------------- Output -----------------------\n",
        "        outputs = self.output(upsample_layers[-1])\n",
        "\n",
        "        return tf.keras.Model(inputs, outputs)\n"
      ]
    },
    {
      "cell_type": "markdown",
      "metadata": {
        "id": "3wNu29ilsY8Q"
      },
      "source": [
        "# Loss Functions / Metrics"
      ]
    },
    {
      "cell_type": "code",
      "execution_count": null,
      "metadata": {
        "id": "EScLEIVTsY8R"
      },
      "outputs": [],
      "source": [
        "def attention_mse(y_true, y_pred):\n",
        "    _y_true = y_true[y_true != 1.0]\n",
        "    _y_pred = y_pred[y_true != 1.0]\n",
        "    squared_difference = tf.square(_y_true - _y_pred)\n",
        "    return tf.reduce_mean(squared_difference, axis=-1)\n",
        "\n",
        "\n",
        "def attention_mae(y_true, y_pred):\n",
        "    _y_true = y_true[y_true != 1.0]\n",
        "    _y_pred = y_pred[y_true != 1.0]\n",
        "    squared_difference = tf.abs(_y_true - _y_pred)\n",
        "    return tf.reduce_mean(squared_difference, axis=-1)\n"
      ]
    },
    {
      "cell_type": "markdown",
      "metadata": {
        "id": "UcGPtUeasY8R"
      },
      "source": [
        "# DataLoader"
      ]
    },
    {
      "cell_type": "code",
      "execution_count": null,
      "metadata": {
        "id": "wEWrDHWDsY8R"
      },
      "outputs": [],
      "source": [
        "def load_data_from_dir(path: str) -> tf.data.Dataset:\n",
        "    return tf.keras.utils.image_dataset_from_directory(\n",
        "        directory=path,\n",
        "        labels=None,\n",
        "        color_mode='rgb',\n",
        "        batch_size=BATCH_SIZE,\n",
        "        image_size=(IMG_SIZE, IMG_SIZE),\n",
        "        shuffle=False,\n",
        "        seed=42,\n",
        "        interpolation='bilinear',\n",
        "        follow_links=False,\n",
        "        crop_to_aspect_ratio=False\n",
        "    )\n"
      ]
    },
    {
      "cell_type": "markdown",
      "metadata": {
        "id": "iHl8FzWEsY8R"
      },
      "source": [
        "# Load Dataset"
      ]
    },
    {
      "cell_type": "code",
      "execution_count": null,
      "metadata": {
        "id": "_N_9KDvNsY8S",
        "colab": {
          "base_uri": "https://localhost:8080/"
        },
        "outputId": "dda153c5-cf95-42e6-a216-f6788b7b7032"
      },
      "outputs": [
        {
          "output_type": "stream",
          "name": "stdout",
          "text": [
            "Found 432 files belonging to 1 classes.\n",
            "Found 432 files belonging to 1 classes.\n",
            "Found 96 files belonging to 1 classes.\n",
            "Found 96 files belonging to 1 classes.\n",
            "(TensorSpec(shape=(None, 256, 256, 3), dtype=tf.float32, name=None), TensorSpec(shape=(None, 256, 256, 3), dtype=tf.float32, name=None))\n",
            "(TensorSpec(shape=(None, 256, 256, 3), dtype=tf.float32, name=None), TensorSpec(shape=(None, 256, 256, 3), dtype=tf.float32, name=None))\n"
          ]
        }
      ],
      "source": [
        "trainX = load_data_from_dir(os.path.join(DATASET_PATH, TRAIN_DIR, INPUT_DIR))\n",
        "trainY = load_data_from_dir(os.path.join(DATASET_PATH, TRAIN_DIR, TARGET_DIR))\n",
        "testX = load_data_from_dir(os.path.join(DATASET_PATH, TEST_DIR, INPUT_DIR))\n",
        "testY = load_data_from_dir(os.path.join(DATASET_PATH, TEST_DIR, TARGET_DIR))\n",
        "\n",
        "train_ds = tf.data.Dataset.zip((trainX, trainY))\n",
        "test_ds = tf.data.Dataset.zip((testX, testY))\n",
        "\n",
        "print(train_ds.element_spec)\n",
        "print(test_ds.element_spec)\n"
      ]
    },
    {
      "cell_type": "markdown",
      "metadata": {
        "id": "siGY2orosY8S"
      },
      "source": [
        "# Normalization"
      ]
    },
    {
      "cell_type": "code",
      "execution_count": null,
      "metadata": {
        "id": "iEVMVJIusY8S"
      },
      "outputs": [],
      "source": [
        "normalization_layer = tf.keras.layers.Rescaling(1./255)\n",
        "train_ds = train_ds.map(lambda x, y: (\n",
        "    normalization_layer(x), normalization_layer(y)))\n",
        "test_ds = test_ds.map(lambda x, y: (\n",
        "    normalization_layer(x), normalization_layer(y)))\n"
      ]
    },
    {
      "cell_type": "markdown",
      "metadata": {
        "id": "N0gpJ04WsY8T"
      },
      "source": [
        "# Augmentation"
      ]
    },
    {
      "cell_type": "code",
      "execution_count": null,
      "metadata": {
        "id": "71pw2HYCsY8T"
      },
      "outputs": [],
      "source": [
        "class Augment(tf.keras.layers.Layer):\n",
        "    def __init__(self, seed=42):\n",
        "        super().__init__()\n",
        "        # both use the same seed, so they'll make the same random changes.\n",
        "        self.augment_inputs = tf.keras.layers.RandomZoom(\n",
        "            (-0.1, -0.7), seed=seed)\n",
        "        self.augment_labels = tf.keras.layers.RandomZoom(\n",
        "            (-0.1, -0.7), seed=seed)\n",
        "\n",
        "    def call(self, inputs, labels):\n",
        "        inputs = self.augment_inputs(inputs)\n",
        "        labels = self.augment_labels(labels)\n",
        "        return inputs, labels\n"
      ]
    },
    {
      "cell_type": "markdown",
      "metadata": {
        "id": "mymNUKessY8T"
      },
      "source": [
        "# Optimization"
      ]
    },
    {
      "cell_type": "code",
      "execution_count": null,
      "metadata": {
        "id": "OFxFklYZsY8T"
      },
      "outputs": [],
      "source": [
        "AUTOTUNE = tf.data.AUTOTUNE\n",
        "\n",
        "train_batches = (\n",
        "    train_ds\n",
        "    .cache()\n",
        "    .shuffle(BUFFER_SIZE)\n",
        "    .prefetch(buffer_size=AUTOTUNE)\n",
        ")\n",
        "\n",
        "test_batches = (\n",
        "    test_ds\n",
        "    .cache()\n",
        "    .prefetch(buffer_size=AUTOTUNE)\n",
        ")\n"
      ]
    },
    {
      "cell_type": "markdown",
      "metadata": {
        "id": "j6ilqDbnsY8U"
      },
      "source": [
        "# Training Config"
      ]
    },
    {
      "cell_type": "code",
      "execution_count": null,
      "metadata": {
        "id": "WlY6S1B6sY8U"
      },
      "outputs": [],
      "source": [
        "model_path = os.path.join(MODEL_PATH, EXP_NAME)\n",
        "\n",
        "callbacks = [\n",
        "    tf.keras.callbacks.EarlyStopping(\n",
        "        monitor=\"val_loss\",\n",
        "        patience=PATIENCE,\n",
        "        restore_best_weights=True\n",
        "    ),\n",
        "    tf.keras.callbacks.ModelCheckpoint(\n",
        "        model_path,\n",
        "        monitor='val_loss',\n",
        "        verbose=1,\n",
        "        save_best_only=True,\n",
        "        save_weights_only=True\n",
        "    )\n",
        "]\n",
        "\n",
        "optimizer = tf.keras.optimizers.Adam(\n",
        "    learning_rate=LEARNING_RATE\n",
        ")\n",
        "\n",
        "model = UNet(IMG_SIZE)()\n",
        "\n",
        "model.compile(\n",
        "    loss=attention_mse,\n",
        "    optimizer=optimizer,\n",
        "    metrics=[attention_mae]\n",
        ")\n",
        "\n",
        "# try:\n",
        "#     model.load_weights(model_path)\n",
        "# except:\n",
        "#     print(\"Checkpoint not found\")\n",
        "#     pass\n"
      ]
    },
    {
      "cell_type": "markdown",
      "metadata": {
        "id": "zmjFkIYNsY8U"
      },
      "source": [
        "# Training"
      ]
    },
    {
      "cell_type": "code",
      "execution_count": 15,
      "metadata": {
        "id": "Nd0e5sXtsY8U",
        "outputId": "252c0793-a9bb-40f1-95e1-40f20cc9f658",
        "colab": {
          "base_uri": "https://localhost:8080/"
        }
      },
      "outputs": [
        {
          "output_type": "stream",
          "name": "stdout",
          "text": [
            "Epoch 1/300\n",
            "27/27 [==============================] - ETA: 0s - loss: 0.0352 - attention_mae: 0.1336\n",
            "Epoch 1: val_loss improved from inf to 0.09253, saving model to /content/drive/MyDrive/Research/TAVI/Models/Curvature_2_Stress_MultiViewUNet_I256_B16_LR0.001\n",
            "27/27 [==============================] - 75s 1s/step - loss: 0.0352 - attention_mae: 0.1336 - val_loss: 0.0925 - val_attention_mae: 0.2403\n",
            "Epoch 2/300\n",
            "27/27 [==============================] - ETA: 0s - loss: 0.0220 - attention_mae: 0.0985\n",
            "Epoch 2: val_loss improved from 0.09253 to 0.07223, saving model to /content/drive/MyDrive/Research/TAVI/Models/Curvature_2_Stress_MultiViewUNet_I256_B16_LR0.001\n",
            "27/27 [==============================] - 23s 863ms/step - loss: 0.0220 - attention_mae: 0.0985 - val_loss: 0.0722 - val_attention_mae: 0.2124\n",
            "Epoch 3/300\n",
            "27/27 [==============================] - ETA: 0s - loss: 0.0204 - attention_mae: 0.0929\n",
            "Epoch 3: val_loss improved from 0.07223 to 0.06256, saving model to /content/drive/MyDrive/Research/TAVI/Models/Curvature_2_Stress_MultiViewUNet_I256_B16_LR0.001\n",
            "27/27 [==============================] - 24s 889ms/step - loss: 0.0204 - attention_mae: 0.0929 - val_loss: 0.0626 - val_attention_mae: 0.2010\n",
            "Epoch 4/300\n",
            "27/27 [==============================] - ETA: 0s - loss: 0.0196 - attention_mae: 0.0900\n",
            "Epoch 4: val_loss improved from 0.06256 to 0.06130, saving model to /content/drive/MyDrive/Research/TAVI/Models/Curvature_2_Stress_MultiViewUNet_I256_B16_LR0.001\n",
            "27/27 [==============================] - 23s 870ms/step - loss: 0.0196 - attention_mae: 0.0900 - val_loss: 0.0613 - val_attention_mae: 0.1952\n",
            "Epoch 5/300\n",
            "27/27 [==============================] - ETA: 0s - loss: 0.0190 - attention_mae: 0.0880\n",
            "Epoch 5: val_loss improved from 0.06130 to 0.05619, saving model to /content/drive/MyDrive/Research/TAVI/Models/Curvature_2_Stress_MultiViewUNet_I256_B16_LR0.001\n",
            "27/27 [==============================] - 23s 862ms/step - loss: 0.0190 - attention_mae: 0.0880 - val_loss: 0.0562 - val_attention_mae: 0.1852\n",
            "Epoch 6/300\n",
            "27/27 [==============================] - ETA: 0s - loss: 0.0188 - attention_mae: 0.0881\n",
            "Epoch 6: val_loss did not improve from 0.05619\n",
            "27/27 [==============================] - 23s 843ms/step - loss: 0.0188 - attention_mae: 0.0881 - val_loss: 0.1049 - val_attention_mae: 0.2469\n",
            "Epoch 7/300\n",
            "27/27 [==============================] - ETA: 0s - loss: 0.0177 - attention_mae: 0.0836\n",
            "Epoch 7: val_loss did not improve from 0.05619\n",
            "27/27 [==============================] - 23s 866ms/step - loss: 0.0177 - attention_mae: 0.0836 - val_loss: 0.2604 - val_attention_mae: 0.4528\n",
            "Epoch 8/300\n",
            "27/27 [==============================] - ETA: 0s - loss: 0.0171 - attention_mae: 0.0838\n",
            "Epoch 8: val_loss did not improve from 0.05619\n",
            "27/27 [==============================] - 23s 851ms/step - loss: 0.0171 - attention_mae: 0.0838 - val_loss: 0.3411 - val_attention_mae: 0.5330\n",
            "Epoch 9/300\n",
            "27/27 [==============================] - ETA: 0s - loss: 0.0165 - attention_mae: 0.0810\n",
            "Epoch 9: val_loss did not improve from 0.05619\n",
            "27/27 [==============================] - 23s 854ms/step - loss: 0.0165 - attention_mae: 0.0810 - val_loss: 0.1875 - val_attention_mae: 0.3480\n",
            "Epoch 10/300\n",
            "27/27 [==============================] - ETA: 0s - loss: 0.0162 - attention_mae: 0.0810\n",
            "Epoch 10: val_loss improved from 0.05619 to 0.02877, saving model to /content/drive/MyDrive/Research/TAVI/Models/Curvature_2_Stress_MultiViewUNet_I256_B16_LR0.001\n",
            "27/27 [==============================] - 24s 899ms/step - loss: 0.0162 - attention_mae: 0.0810 - val_loss: 0.0288 - val_attention_mae: 0.1180\n",
            "Epoch 11/300\n",
            "27/27 [==============================] - ETA: 0s - loss: 0.0164 - attention_mae: 0.0808\n",
            "Epoch 11: val_loss improved from 0.02877 to 0.02755, saving model to /content/drive/MyDrive/Research/TAVI/Models/Curvature_2_Stress_MultiViewUNet_I256_B16_LR0.001\n",
            "27/27 [==============================] - 24s 881ms/step - loss: 0.0164 - attention_mae: 0.0808 - val_loss: 0.0275 - val_attention_mae: 0.1152\n",
            "Epoch 12/300\n",
            "27/27 [==============================] - ETA: 0s - loss: 0.0159 - attention_mae: 0.0779\n",
            "Epoch 12: val_loss did not improve from 0.02755\n",
            "27/27 [==============================] - 23s 856ms/step - loss: 0.0159 - attention_mae: 0.0779 - val_loss: 0.0446 - val_attention_mae: 0.1492\n",
            "Epoch 13/300\n",
            "27/27 [==============================] - ETA: 0s - loss: 0.0163 - attention_mae: 0.0802\n",
            "Epoch 13: val_loss improved from 0.02755 to 0.02102, saving model to /content/drive/MyDrive/Research/TAVI/Models/Curvature_2_Stress_MultiViewUNet_I256_B16_LR0.001\n",
            "27/27 [==============================] - 24s 903ms/step - loss: 0.0163 - attention_mae: 0.0802 - val_loss: 0.0210 - val_attention_mae: 0.1000\n",
            "Epoch 14/300\n",
            "27/27 [==============================] - ETA: 0s - loss: 0.0161 - attention_mae: 0.0800\n",
            "Epoch 14: val_loss did not improve from 0.02102\n",
            "27/27 [==============================] - 23s 839ms/step - loss: 0.0161 - attention_mae: 0.0800 - val_loss: 0.0296 - val_attention_mae: 0.1326\n",
            "Epoch 15/300\n",
            "27/27 [==============================] - ETA: 0s - loss: 0.0153 - attention_mae: 0.0774\n",
            "Epoch 15: val_loss improved from 0.02102 to 0.01941, saving model to /content/drive/MyDrive/Research/TAVI/Models/Curvature_2_Stress_MultiViewUNet_I256_B16_LR0.001\n",
            "27/27 [==============================] - 23s 872ms/step - loss: 0.0153 - attention_mae: 0.0774 - val_loss: 0.0194 - val_attention_mae: 0.0864\n",
            "Epoch 16/300\n",
            "27/27 [==============================] - ETA: 0s - loss: 0.0153 - attention_mae: 0.0755\n",
            "Epoch 16: val_loss improved from 0.01941 to 0.01924, saving model to /content/drive/MyDrive/Research/TAVI/Models/Curvature_2_Stress_MultiViewUNet_I256_B16_LR0.001\n",
            "27/27 [==============================] - 24s 877ms/step - loss: 0.0153 - attention_mae: 0.0755 - val_loss: 0.0192 - val_attention_mae: 0.0902\n",
            "Epoch 17/300\n",
            "27/27 [==============================] - ETA: 0s - loss: 0.0153 - attention_mae: 0.0775\n",
            "Epoch 17: val_loss improved from 0.01924 to 0.01535, saving model to /content/drive/MyDrive/Research/TAVI/Models/Curvature_2_Stress_MultiViewUNet_I256_B16_LR0.001\n",
            "27/27 [==============================] - 24s 876ms/step - loss: 0.0153 - attention_mae: 0.0775 - val_loss: 0.0153 - val_attention_mae: 0.0744\n",
            "Epoch 18/300\n",
            "27/27 [==============================] - ETA: 0s - loss: 0.0152 - attention_mae: 0.0771\n",
            "Epoch 18: val_loss improved from 0.01535 to 0.01504, saving model to /content/drive/MyDrive/Research/TAVI/Models/Curvature_2_Stress_MultiViewUNet_I256_B16_LR0.001\n",
            "27/27 [==============================] - 23s 868ms/step - loss: 0.0152 - attention_mae: 0.0771 - val_loss: 0.0150 - val_attention_mae: 0.0778\n",
            "Epoch 19/300\n",
            "27/27 [==============================] - ETA: 0s - loss: 0.0148 - attention_mae: 0.0749\n",
            "Epoch 19: val_loss did not improve from 0.01504\n",
            "27/27 [==============================] - 23s 866ms/step - loss: 0.0148 - attention_mae: 0.0749 - val_loss: 0.0299 - val_attention_mae: 0.1268\n",
            "Epoch 20/300\n",
            "27/27 [==============================] - ETA: 0s - loss: 0.0149 - attention_mae: 0.0761\n",
            "Epoch 20: val_loss did not improve from 0.01504\n",
            "27/27 [==============================] - 23s 845ms/step - loss: 0.0149 - attention_mae: 0.0761 - val_loss: 0.0155 - val_attention_mae: 0.0794\n",
            "Epoch 21/300\n",
            "27/27 [==============================] - ETA: 0s - loss: 0.0145 - attention_mae: 0.0743\n",
            "Epoch 21: val_loss improved from 0.01504 to 0.01373, saving model to /content/drive/MyDrive/Research/TAVI/Models/Curvature_2_Stress_MultiViewUNet_I256_B16_LR0.001\n",
            "27/27 [==============================] - 24s 884ms/step - loss: 0.0145 - attention_mae: 0.0743 - val_loss: 0.0137 - val_attention_mae: 0.0726\n",
            "Epoch 22/300\n",
            "27/27 [==============================] - ETA: 0s - loss: 0.0143 - attention_mae: 0.0732\n",
            "Epoch 22: val_loss did not improve from 0.01373\n",
            "27/27 [==============================] - 23s 852ms/step - loss: 0.0143 - attention_mae: 0.0732 - val_loss: 0.0146 - val_attention_mae: 0.0718\n",
            "Epoch 23/300\n",
            "27/27 [==============================] - ETA: 0s - loss: 0.0144 - attention_mae: 0.0745\n",
            "Epoch 23: val_loss did not improve from 0.01373\n",
            "27/27 [==============================] - 23s 841ms/step - loss: 0.0144 - attention_mae: 0.0745 - val_loss: 0.0145 - val_attention_mae: 0.0702\n",
            "Epoch 24/300\n",
            "27/27 [==============================] - ETA: 0s - loss: 0.0142 - attention_mae: 0.0729\n",
            "Epoch 24: val_loss did not improve from 0.01373\n",
            "27/27 [==============================] - 23s 851ms/step - loss: 0.0142 - attention_mae: 0.0729 - val_loss: 0.0168 - val_attention_mae: 0.0774\n",
            "Epoch 25/300\n",
            "27/27 [==============================] - ETA: 0s - loss: 0.0142 - attention_mae: 0.0742\n",
            "Epoch 25: val_loss did not improve from 0.01373\n",
            "27/27 [==============================] - 23s 849ms/step - loss: 0.0142 - attention_mae: 0.0742 - val_loss: 0.0158 - val_attention_mae: 0.0774\n",
            "Epoch 26/300\n",
            "27/27 [==============================] - ETA: 0s - loss: 0.0142 - attention_mae: 0.0730\n",
            "Epoch 26: val_loss did not improve from 0.01373\n",
            "27/27 [==============================] - 23s 849ms/step - loss: 0.0142 - attention_mae: 0.0730 - val_loss: 0.0147 - val_attention_mae: 0.0755\n",
            "Epoch 27/300\n",
            "27/27 [==============================] - ETA: 0s - loss: 0.0143 - attention_mae: 0.0735\n",
            "Epoch 27: val_loss did not improve from 0.01373\n",
            "27/27 [==============================] - 23s 861ms/step - loss: 0.0143 - attention_mae: 0.0735 - val_loss: 0.0175 - val_attention_mae: 0.0833\n",
            "Epoch 28/300\n",
            "27/27 [==============================] - ETA: 0s - loss: 0.0139 - attention_mae: 0.0716\n",
            "Epoch 28: val_loss improved from 0.01373 to 0.01295, saving model to /content/drive/MyDrive/Research/TAVI/Models/Curvature_2_Stress_MultiViewUNet_I256_B16_LR0.001\n",
            "27/27 [==============================] - 23s 864ms/step - loss: 0.0139 - attention_mae: 0.0716 - val_loss: 0.0130 - val_attention_mae: 0.0699\n",
            "Epoch 29/300\n",
            "27/27 [==============================] - ETA: 0s - loss: 0.0135 - attention_mae: 0.0716\n",
            "Epoch 29: val_loss did not improve from 0.01295\n",
            "27/27 [==============================] - 23s 853ms/step - loss: 0.0135 - attention_mae: 0.0716 - val_loss: 0.0146 - val_attention_mae: 0.0663\n",
            "Epoch 30/300\n",
            "27/27 [==============================] - ETA: 0s - loss: 0.0135 - attention_mae: 0.0713\n",
            "Epoch 30: val_loss did not improve from 0.01295\n",
            "27/27 [==============================] - 23s 857ms/step - loss: 0.0135 - attention_mae: 0.0713 - val_loss: 0.0140 - val_attention_mae: 0.0726\n",
            "Epoch 31/300\n",
            "27/27 [==============================] - ETA: 0s - loss: 0.0140 - attention_mae: 0.0724\n",
            "Epoch 31: val_loss did not improve from 0.01295\n",
            "27/27 [==============================] - 23s 854ms/step - loss: 0.0140 - attention_mae: 0.0724 - val_loss: 0.0144 - val_attention_mae: 0.0717\n",
            "Epoch 32/300\n",
            "27/27 [==============================] - ETA: 0s - loss: 0.0136 - attention_mae: 0.0716\n",
            "Epoch 32: val_loss did not improve from 0.01295\n",
            "27/27 [==============================] - 23s 843ms/step - loss: 0.0136 - attention_mae: 0.0716 - val_loss: 0.0167 - val_attention_mae: 0.0822\n",
            "Epoch 33/300\n",
            "27/27 [==============================] - ETA: 0s - loss: 0.0138 - attention_mae: 0.0715\n",
            "Epoch 33: val_loss did not improve from 0.01295\n",
            "27/27 [==============================] - 23s 841ms/step - loss: 0.0138 - attention_mae: 0.0715 - val_loss: 0.0137 - val_attention_mae: 0.0750\n",
            "Epoch 34/300\n",
            "27/27 [==============================] - ETA: 0s - loss: 0.0134 - attention_mae: 0.0701\n",
            "Epoch 34: val_loss did not improve from 0.01295\n",
            "27/27 [==============================] - 23s 845ms/step - loss: 0.0134 - attention_mae: 0.0701 - val_loss: 0.0147 - val_attention_mae: 0.0749\n",
            "Epoch 35/300\n",
            "27/27 [==============================] - ETA: 0s - loss: 0.0134 - attention_mae: 0.0704\n",
            "Epoch 35: val_loss did not improve from 0.01295\n",
            "27/27 [==============================] - 23s 848ms/step - loss: 0.0134 - attention_mae: 0.0704 - val_loss: 0.0142 - val_attention_mae: 0.0704\n",
            "Epoch 36/300\n",
            "27/27 [==============================] - ETA: 0s - loss: 0.0132 - attention_mae: 0.0694\n",
            "Epoch 36: val_loss did not improve from 0.01295\n",
            "27/27 [==============================] - 23s 866ms/step - loss: 0.0132 - attention_mae: 0.0694 - val_loss: 0.0136 - val_attention_mae: 0.0707\n",
            "Epoch 37/300\n",
            "27/27 [==============================] - ETA: 0s - loss: 0.0132 - attention_mae: 0.0703\n",
            "Epoch 37: val_loss improved from 0.01295 to 0.01192, saving model to /content/drive/MyDrive/Research/TAVI/Models/Curvature_2_Stress_MultiViewUNet_I256_B16_LR0.001\n",
            "27/27 [==============================] - 23s 864ms/step - loss: 0.0132 - attention_mae: 0.0703 - val_loss: 0.0119 - val_attention_mae: 0.0635\n",
            "Epoch 38/300\n",
            "27/27 [==============================] - ETA: 0s - loss: 0.0127 - attention_mae: 0.0681\n",
            "Epoch 38: val_loss did not improve from 0.01192\n",
            "27/27 [==============================] - 23s 857ms/step - loss: 0.0127 - attention_mae: 0.0681 - val_loss: 0.0120 - val_attention_mae: 0.0651\n",
            "Epoch 39/300\n",
            "27/27 [==============================] - ETA: 0s - loss: 0.0131 - attention_mae: 0.0694\n",
            "Epoch 39: val_loss did not improve from 0.01192\n",
            "27/27 [==============================] - 23s 844ms/step - loss: 0.0131 - attention_mae: 0.0694 - val_loss: 0.0151 - val_attention_mae: 0.0664\n",
            "Epoch 40/300\n",
            "27/27 [==============================] - ETA: 0s - loss: 0.0129 - attention_mae: 0.0686\n",
            "Epoch 40: val_loss did not improve from 0.01192\n",
            "27/27 [==============================] - 23s 841ms/step - loss: 0.0129 - attention_mae: 0.0686 - val_loss: 0.0119 - val_attention_mae: 0.0622\n",
            "Epoch 41/300\n",
            "27/27 [==============================] - ETA: 0s - loss: 0.0133 - attention_mae: 0.0700\n",
            "Epoch 41: val_loss did not improve from 0.01192\n",
            "27/27 [==============================] - 23s 856ms/step - loss: 0.0133 - attention_mae: 0.0700 - val_loss: 0.0122 - val_attention_mae: 0.0651\n",
            "Epoch 42/300\n",
            "27/27 [==============================] - ETA: 0s - loss: 0.0128 - attention_mae: 0.0684\n",
            "Epoch 42: val_loss did not improve from 0.01192\n",
            "27/27 [==============================] - 23s 848ms/step - loss: 0.0128 - attention_mae: 0.0684 - val_loss: 0.0127 - val_attention_mae: 0.0646\n",
            "Epoch 43/300\n",
            "27/27 [==============================] - ETA: 0s - loss: 0.0127 - attention_mae: 0.0677\n",
            "Epoch 43: val_loss did not improve from 0.01192\n",
            "27/27 [==============================] - 23s 840ms/step - loss: 0.0127 - attention_mae: 0.0677 - val_loss: 0.0120 - val_attention_mae: 0.0636\n",
            "Epoch 44/300\n",
            "27/27 [==============================] - ETA: 0s - loss: 0.0131 - attention_mae: 0.0699\n",
            "Epoch 44: val_loss improved from 0.01192 to 0.01173, saving model to /content/drive/MyDrive/Research/TAVI/Models/Curvature_2_Stress_MultiViewUNet_I256_B16_LR0.001\n",
            "27/27 [==============================] - 24s 876ms/step - loss: 0.0131 - attention_mae: 0.0699 - val_loss: 0.0117 - val_attention_mae: 0.0643\n",
            "Epoch 45/300\n",
            "27/27 [==============================] - ETA: 0s - loss: 0.0126 - attention_mae: 0.0680\n",
            "Epoch 45: val_loss did not improve from 0.01173\n",
            "27/27 [==============================] - 23s 847ms/step - loss: 0.0126 - attention_mae: 0.0680 - val_loss: 0.0138 - val_attention_mae: 0.0675\n",
            "Epoch 46/300\n",
            "27/27 [==============================] - ETA: 0s - loss: 0.0132 - attention_mae: 0.0694\n",
            "Epoch 46: val_loss did not improve from 0.01173\n",
            "27/27 [==============================] - 23s 839ms/step - loss: 0.0132 - attention_mae: 0.0694 - val_loss: 0.0190 - val_attention_mae: 0.0974\n",
            "Epoch 47/300\n",
            "27/27 [==============================] - ETA: 0s - loss: 0.0128 - attention_mae: 0.0676\n",
            "Epoch 47: val_loss did not improve from 0.01173\n",
            "27/27 [==============================] - 23s 842ms/step - loss: 0.0128 - attention_mae: 0.0676 - val_loss: 0.0135 - val_attention_mae: 0.0720\n",
            "Epoch 48/300\n",
            "27/27 [==============================] - ETA: 0s - loss: 0.0125 - attention_mae: 0.0675\n",
            "Epoch 48: val_loss did not improve from 0.01173\n",
            "27/27 [==============================] - 23s 845ms/step - loss: 0.0125 - attention_mae: 0.0675 - val_loss: 0.0140 - val_attention_mae: 0.0639\n",
            "Epoch 49/300\n",
            "27/27 [==============================] - ETA: 0s - loss: 0.0122 - attention_mae: 0.0665\n",
            "Epoch 49: val_loss did not improve from 0.01173\n",
            "27/27 [==============================] - 23s 844ms/step - loss: 0.0122 - attention_mae: 0.0665 - val_loss: 0.0120 - val_attention_mae: 0.0625\n",
            "Epoch 50/300\n",
            "27/27 [==============================] - ETA: 0s - loss: 0.0122 - attention_mae: 0.0661\n",
            "Epoch 50: val_loss did not improve from 0.01173\n",
            "27/27 [==============================] - 23s 855ms/step - loss: 0.0122 - attention_mae: 0.0661 - val_loss: 0.0135 - val_attention_mae: 0.0649\n",
            "Epoch 51/300\n",
            "27/27 [==============================] - ETA: 0s - loss: 0.0121 - attention_mae: 0.0661\n",
            "Epoch 51: val_loss did not improve from 0.01173\n",
            "27/27 [==============================] - 23s 845ms/step - loss: 0.0121 - attention_mae: 0.0661 - val_loss: 0.0118 - val_attention_mae: 0.0637\n",
            "Epoch 52/300\n",
            "27/27 [==============================] - ETA: 0s - loss: 0.0121 - attention_mae: 0.0661\n",
            "Epoch 52: val_loss did not improve from 0.01173\n",
            "27/27 [==============================] - 23s 856ms/step - loss: 0.0121 - attention_mae: 0.0661 - val_loss: 0.0134 - val_attention_mae: 0.0659\n",
            "Epoch 53/300\n",
            "27/27 [==============================] - ETA: 0s - loss: 0.0121 - attention_mae: 0.0659\n",
            "Epoch 53: val_loss did not improve from 0.01173\n",
            "27/27 [==============================] - 23s 844ms/step - loss: 0.0121 - attention_mae: 0.0659 - val_loss: 0.0119 - val_attention_mae: 0.0642\n",
            "Epoch 54/300\n",
            "27/27 [==============================] - ETA: 0s - loss: 0.0117 - attention_mae: 0.0646\n",
            "Epoch 54: val_loss improved from 0.01173 to 0.01152, saving model to /content/drive/MyDrive/Research/TAVI/Models/Curvature_2_Stress_MultiViewUNet_I256_B16_LR0.001\n",
            "27/27 [==============================] - 24s 879ms/step - loss: 0.0117 - attention_mae: 0.0646 - val_loss: 0.0115 - val_attention_mae: 0.0593\n",
            "Epoch 55/300\n",
            "27/27 [==============================] - ETA: 0s - loss: 0.0119 - attention_mae: 0.0654\n",
            "Epoch 55: val_loss did not improve from 0.01152\n",
            "27/27 [==============================] - 23s 856ms/step - loss: 0.0119 - attention_mae: 0.0654 - val_loss: 0.0116 - val_attention_mae: 0.0606\n",
            "Epoch 56/300\n",
            "27/27 [==============================] - ETA: 0s - loss: 0.0120 - attention_mae: 0.0656\n",
            "Epoch 56: val_loss did not improve from 0.01152\n",
            "27/27 [==============================] - 23s 844ms/step - loss: 0.0120 - attention_mae: 0.0656 - val_loss: 0.0158 - val_attention_mae: 0.0835\n",
            "Epoch 57/300\n",
            "27/27 [==============================] - ETA: 0s - loss: 0.0125 - attention_mae: 0.0672\n",
            "Epoch 57: val_loss did not improve from 0.01152\n",
            "27/27 [==============================] - 23s 841ms/step - loss: 0.0125 - attention_mae: 0.0672 - val_loss: 0.0122 - val_attention_mae: 0.0655\n",
            "Epoch 58/300\n",
            "27/27 [==============================] - ETA: 0s - loss: 0.0115 - attention_mae: 0.0639\n",
            "Epoch 58: val_loss did not improve from 0.01152\n",
            "27/27 [==============================] - 23s 844ms/step - loss: 0.0115 - attention_mae: 0.0639 - val_loss: 0.0126 - val_attention_mae: 0.0612\n",
            "Epoch 59/300\n",
            "27/27 [==============================] - ETA: 0s - loss: 0.0113 - attention_mae: 0.0626\n",
            "Epoch 59: val_loss improved from 0.01152 to 0.01141, saving model to /content/drive/MyDrive/Research/TAVI/Models/Curvature_2_Stress_MultiViewUNet_I256_B16_LR0.001\n",
            "27/27 [==============================] - 24s 887ms/step - loss: 0.0113 - attention_mae: 0.0626 - val_loss: 0.0114 - val_attention_mae: 0.0640\n",
            "Epoch 60/300\n",
            "27/27 [==============================] - ETA: 0s - loss: 0.0113 - attention_mae: 0.0633\n",
            "Epoch 60: val_loss did not improve from 0.01141\n",
            "27/27 [==============================] - 23s 847ms/step - loss: 0.0113 - attention_mae: 0.0633 - val_loss: 0.0125 - val_attention_mae: 0.0607\n",
            "Epoch 61/300\n",
            "27/27 [==============================] - ETA: 0s - loss: 0.0116 - attention_mae: 0.0640\n",
            "Epoch 61: val_loss did not improve from 0.01141\n",
            "27/27 [==============================] - 23s 853ms/step - loss: 0.0116 - attention_mae: 0.0640 - val_loss: 0.0196 - val_attention_mae: 0.0869\n",
            "Epoch 62/300\n",
            "27/27 [==============================] - ETA: 0s - loss: 0.0112 - attention_mae: 0.0625\n",
            "Epoch 62: val_loss did not improve from 0.01141\n",
            "27/27 [==============================] - 23s 847ms/step - loss: 0.0112 - attention_mae: 0.0625 - val_loss: 0.0126 - val_attention_mae: 0.0629\n",
            "Epoch 63/300\n",
            "27/27 [==============================] - ETA: 0s - loss: 0.0112 - attention_mae: 0.0623\n",
            "Epoch 63: val_loss did not improve from 0.01141\n",
            "27/27 [==============================] - 23s 854ms/step - loss: 0.0112 - attention_mae: 0.0623 - val_loss: 0.0122 - val_attention_mae: 0.0616\n",
            "Epoch 64/300\n",
            "27/27 [==============================] - ETA: 0s - loss: 0.0117 - attention_mae: 0.0640\n",
            "Epoch 64: val_loss did not improve from 0.01141\n",
            "27/27 [==============================] - 23s 855ms/step - loss: 0.0117 - attention_mae: 0.0640 - val_loss: 0.0126 - val_attention_mae: 0.0653\n",
            "Epoch 65/300\n",
            "27/27 [==============================] - ETA: 0s - loss: 0.0111 - attention_mae: 0.0621\n",
            "Epoch 65: val_loss did not improve from 0.01141\n",
            "27/27 [==============================] - 23s 857ms/step - loss: 0.0111 - attention_mae: 0.0621 - val_loss: 0.0148 - val_attention_mae: 0.0653\n",
            "Epoch 66/300\n",
            "27/27 [==============================] - ETA: 0s - loss: 0.0110 - attention_mae: 0.0616\n",
            "Epoch 66: val_loss did not improve from 0.01141\n",
            "27/27 [==============================] - 23s 844ms/step - loss: 0.0110 - attention_mae: 0.0616 - val_loss: 0.0130 - val_attention_mae: 0.0683\n",
            "Epoch 67/300\n",
            "27/27 [==============================] - ETA: 0s - loss: 0.0108 - attention_mae: 0.0608\n",
            "Epoch 67: val_loss did not improve from 0.01141\n",
            "27/27 [==============================] - 23s 851ms/step - loss: 0.0108 - attention_mae: 0.0608 - val_loss: 0.0123 - val_attention_mae: 0.0630\n",
            "Epoch 68/300\n",
            "27/27 [==============================] - ETA: 0s - loss: 0.0108 - attention_mae: 0.0610\n",
            "Epoch 68: val_loss did not improve from 0.01141\n",
            "27/27 [==============================] - 23s 845ms/step - loss: 0.0108 - attention_mae: 0.0610 - val_loss: 0.0124 - val_attention_mae: 0.0642\n",
            "Epoch 69/300\n",
            "27/27 [==============================] - ETA: 0s - loss: 0.0108 - attention_mae: 0.0610\n",
            "Epoch 69: val_loss did not improve from 0.01141\n",
            "27/27 [==============================] - 23s 847ms/step - loss: 0.0108 - attention_mae: 0.0610 - val_loss: 0.0142 - val_attention_mae: 0.0725\n",
            "Epoch 70/300\n",
            "27/27 [==============================] - ETA: 0s - loss: 0.0109 - attention_mae: 0.0614\n",
            "Epoch 70: val_loss did not improve from 0.01141\n",
            "27/27 [==============================] - 23s 845ms/step - loss: 0.0109 - attention_mae: 0.0614 - val_loss: 0.0190 - val_attention_mae: 0.0920\n",
            "Epoch 71/300\n",
            "27/27 [==============================] - ETA: 0s - loss: 0.0110 - attention_mae: 0.0614\n",
            "Epoch 71: val_loss did not improve from 0.01141\n",
            "27/27 [==============================] - 23s 856ms/step - loss: 0.0110 - attention_mae: 0.0614 - val_loss: 0.0118 - val_attention_mae: 0.0613\n",
            "Epoch 72/300\n",
            "27/27 [==============================] - ETA: 0s - loss: 0.0106 - attention_mae: 0.0608\n",
            "Epoch 72: val_loss did not improve from 0.01141\n",
            "27/27 [==============================] - 23s 854ms/step - loss: 0.0106 - attention_mae: 0.0608 - val_loss: 0.0126 - val_attention_mae: 0.0602\n",
            "Epoch 73/300\n",
            "27/27 [==============================] - ETA: 0s - loss: 0.0102 - attention_mae: 0.0591\n",
            "Epoch 73: val_loss improved from 0.01141 to 0.01141, saving model to /content/drive/MyDrive/Research/TAVI/Models/Curvature_2_Stress_MultiViewUNet_I256_B16_LR0.001\n",
            "27/27 [==============================] - 23s 871ms/step - loss: 0.0102 - attention_mae: 0.0591 - val_loss: 0.0114 - val_attention_mae: 0.0594\n",
            "Epoch 74/300\n",
            "27/27 [==============================] - ETA: 0s - loss: 0.0101 - attention_mae: 0.0586\n",
            "Epoch 74: val_loss did not improve from 0.01141\n",
            "27/27 [==============================] - 23s 842ms/step - loss: 0.0101 - attention_mae: 0.0586 - val_loss: 0.0116 - val_attention_mae: 0.0604\n",
            "Epoch 75/300\n",
            "27/27 [==============================] - ETA: 0s - loss: 0.0102 - attention_mae: 0.0597\n",
            "Epoch 75: val_loss did not improve from 0.01141\n",
            "27/27 [==============================] - 23s 858ms/step - loss: 0.0102 - attention_mae: 0.0597 - val_loss: 0.0127 - val_attention_mae: 0.0587\n",
            "Epoch 76/300\n",
            "27/27 [==============================] - ETA: 0s - loss: 0.0102 - attention_mae: 0.0592\n",
            "Epoch 76: val_loss did not improve from 0.01141\n",
            "27/27 [==============================] - 23s 855ms/step - loss: 0.0102 - attention_mae: 0.0592 - val_loss: 0.0127 - val_attention_mae: 0.0707\n",
            "Epoch 77/300\n",
            "27/27 [==============================] - ETA: 0s - loss: 0.0104 - attention_mae: 0.0600\n",
            "Epoch 77: val_loss did not improve from 0.01141\n",
            "27/27 [==============================] - 23s 856ms/step - loss: 0.0104 - attention_mae: 0.0600 - val_loss: 0.0164 - val_attention_mae: 0.0807\n",
            "Epoch 78/300\n",
            "27/27 [==============================] - ETA: 0s - loss: 0.0104 - attention_mae: 0.0591\n",
            "Epoch 78: val_loss did not improve from 0.01141\n",
            "27/27 [==============================] - 23s 843ms/step - loss: 0.0104 - attention_mae: 0.0591 - val_loss: 0.0151 - val_attention_mae: 0.0757\n",
            "Epoch 79/300\n",
            "27/27 [==============================] - ETA: 0s - loss: 0.0098 - attention_mae: 0.0574\n",
            "Epoch 79: val_loss improved from 0.01141 to 0.01112, saving model to /content/drive/MyDrive/Research/TAVI/Models/Curvature_2_Stress_MultiViewUNet_I256_B16_LR0.001\n",
            "27/27 [==============================] - 24s 873ms/step - loss: 0.0098 - attention_mae: 0.0574 - val_loss: 0.0111 - val_attention_mae: 0.0558\n",
            "Epoch 80/300\n",
            "27/27 [==============================] - ETA: 0s - loss: 0.0100 - attention_mae: 0.0582\n",
            "Epoch 80: val_loss did not improve from 0.01112\n",
            "27/27 [==============================] - 23s 846ms/step - loss: 0.0100 - attention_mae: 0.0582 - val_loss: 0.0115 - val_attention_mae: 0.0620\n",
            "Epoch 81/300\n",
            "27/27 [==============================] - ETA: 0s - loss: 0.0098 - attention_mae: 0.0571\n",
            "Epoch 81: val_loss did not improve from 0.01112\n",
            "27/27 [==============================] - 23s 848ms/step - loss: 0.0098 - attention_mae: 0.0571 - val_loss: 0.0133 - val_attention_mae: 0.0642\n",
            "Epoch 82/300\n",
            "27/27 [==============================] - ETA: 0s - loss: 0.0100 - attention_mae: 0.0588\n",
            "Epoch 82: val_loss did not improve from 0.01112\n",
            "27/27 [==============================] - 23s 856ms/step - loss: 0.0100 - attention_mae: 0.0588 - val_loss: 0.0116 - val_attention_mae: 0.0578\n",
            "Epoch 83/300\n",
            "27/27 [==============================] - ETA: 0s - loss: 0.0099 - attention_mae: 0.0580\n",
            "Epoch 83: val_loss did not improve from 0.01112\n",
            "27/27 [==============================] - 23s 853ms/step - loss: 0.0099 - attention_mae: 0.0580 - val_loss: 0.0124 - val_attention_mae: 0.0595\n",
            "Epoch 84/300\n",
            "27/27 [==============================] - ETA: 0s - loss: 0.0095 - attention_mae: 0.0564\n",
            "Epoch 84: val_loss did not improve from 0.01112\n",
            "27/27 [==============================] - 23s 849ms/step - loss: 0.0095 - attention_mae: 0.0564 - val_loss: 0.0112 - val_attention_mae: 0.0568\n",
            "Epoch 85/300\n",
            "27/27 [==============================] - ETA: 0s - loss: 0.0094 - attention_mae: 0.0563\n",
            "Epoch 85: val_loss did not improve from 0.01112\n",
            "27/27 [==============================] - 23s 853ms/step - loss: 0.0094 - attention_mae: 0.0563 - val_loss: 0.0130 - val_attention_mae: 0.0598\n",
            "Epoch 86/300\n",
            "27/27 [==============================] - ETA: 0s - loss: 0.0094 - attention_mae: 0.0560\n",
            "Epoch 86: val_loss did not improve from 0.01112\n",
            "27/27 [==============================] - 23s 843ms/step - loss: 0.0094 - attention_mae: 0.0560 - val_loss: 0.0118 - val_attention_mae: 0.0567\n",
            "Epoch 87/300\n",
            "27/27 [==============================] - ETA: 0s - loss: 0.0094 - attention_mae: 0.0563\n",
            "Epoch 87: val_loss did not improve from 0.01112\n",
            "27/27 [==============================] - 23s 857ms/step - loss: 0.0094 - attention_mae: 0.0563 - val_loss: 0.0127 - val_attention_mae: 0.0583\n",
            "Epoch 88/300\n",
            "27/27 [==============================] - ETA: 0s - loss: 0.0095 - attention_mae: 0.0561\n",
            "Epoch 88: val_loss did not improve from 0.01112\n",
            "27/27 [==============================] - 23s 845ms/step - loss: 0.0095 - attention_mae: 0.0561 - val_loss: 0.0115 - val_attention_mae: 0.0565\n",
            "Epoch 89/300\n",
            "27/27 [==============================] - ETA: 0s - loss: 0.0093 - attention_mae: 0.0558\n",
            "Epoch 89: val_loss did not improve from 0.01112\n",
            "27/27 [==============================] - 23s 854ms/step - loss: 0.0093 - attention_mae: 0.0558 - val_loss: 0.0131 - val_attention_mae: 0.0646\n",
            "Epoch 90/300\n",
            "27/27 [==============================] - ETA: 0s - loss: 0.0091 - attention_mae: 0.0554\n",
            "Epoch 90: val_loss did not improve from 0.01112\n",
            "27/27 [==============================] - 23s 858ms/step - loss: 0.0091 - attention_mae: 0.0554 - val_loss: 0.0133 - val_attention_mae: 0.0608\n",
            "Epoch 91/300\n",
            "27/27 [==============================] - ETA: 0s - loss: 0.0092 - attention_mae: 0.0555\n",
            "Epoch 91: val_loss did not improve from 0.01112\n",
            "27/27 [==============================] - 23s 857ms/step - loss: 0.0092 - attention_mae: 0.0555 - val_loss: 0.0115 - val_attention_mae: 0.0600\n",
            "Epoch 92/300\n",
            "27/27 [==============================] - ETA: 0s - loss: 0.0089 - attention_mae: 0.0545\n",
            "Epoch 92: val_loss did not improve from 0.01112\n",
            "27/27 [==============================] - 23s 839ms/step - loss: 0.0089 - attention_mae: 0.0545 - val_loss: 0.0137 - val_attention_mae: 0.0609\n",
            "Epoch 93/300\n",
            "27/27 [==============================] - ETA: 0s - loss: 0.0094 - attention_mae: 0.0560\n",
            "Epoch 93: val_loss did not improve from 0.01112\n",
            "27/27 [==============================] - 23s 847ms/step - loss: 0.0094 - attention_mae: 0.0560 - val_loss: 0.0116 - val_attention_mae: 0.0590\n",
            "Epoch 94/300\n",
            "27/27 [==============================] - ETA: 0s - loss: 0.0091 - attention_mae: 0.0552\n",
            "Epoch 94: val_loss did not improve from 0.01112\n",
            "27/27 [==============================] - 23s 855ms/step - loss: 0.0091 - attention_mae: 0.0552 - val_loss: 0.0114 - val_attention_mae: 0.0576\n",
            "Epoch 95/300\n",
            "27/27 [==============================] - ETA: 0s - loss: 0.0089 - attention_mae: 0.0545\n",
            "Epoch 95: val_loss did not improve from 0.01112\n",
            "27/27 [==============================] - 23s 842ms/step - loss: 0.0089 - attention_mae: 0.0545 - val_loss: 0.0117 - val_attention_mae: 0.0561\n",
            "Epoch 96/300\n",
            "27/27 [==============================] - ETA: 0s - loss: 0.0090 - attention_mae: 0.0546\n",
            "Epoch 96: val_loss improved from 0.01112 to 0.01073, saving model to /content/drive/MyDrive/Research/TAVI/Models/Curvature_2_Stress_MultiViewUNet_I256_B16_LR0.001\n",
            "27/27 [==============================] - 24s 884ms/step - loss: 0.0090 - attention_mae: 0.0546 - val_loss: 0.0107 - val_attention_mae: 0.0561\n",
            "Epoch 97/300\n",
            "27/27 [==============================] - ETA: 0s - loss: 0.0088 - attention_mae: 0.0541\n",
            "Epoch 97: val_loss did not improve from 0.01073\n",
            "27/27 [==============================] - 23s 845ms/step - loss: 0.0088 - attention_mae: 0.0541 - val_loss: 0.0137 - val_attention_mae: 0.0614\n",
            "Epoch 98/300\n",
            "27/27 [==============================] - ETA: 0s - loss: 0.0087 - attention_mae: 0.0541\n",
            "Epoch 98: val_loss did not improve from 0.01073\n",
            "27/27 [==============================] - 23s 841ms/step - loss: 0.0087 - attention_mae: 0.0541 - val_loss: 0.0136 - val_attention_mae: 0.0715\n",
            "Epoch 99/300\n",
            "27/27 [==============================] - ETA: 0s - loss: 0.0086 - attention_mae: 0.0536\n",
            "Epoch 99: val_loss did not improve from 0.01073\n",
            "27/27 [==============================] - 23s 857ms/step - loss: 0.0086 - attention_mae: 0.0536 - val_loss: 0.0117 - val_attention_mae: 0.0559\n",
            "Epoch 100/300\n",
            "27/27 [==============================] - ETA: 0s - loss: 0.0084 - attention_mae: 0.0529\n",
            "Epoch 100: val_loss did not improve from 0.01073\n",
            "27/27 [==============================] - 23s 843ms/step - loss: 0.0084 - attention_mae: 0.0529 - val_loss: 0.0109 - val_attention_mae: 0.0580\n",
            "Epoch 101/300\n",
            "27/27 [==============================] - ETA: 0s - loss: 0.0082 - attention_mae: 0.0521\n",
            "Epoch 101: val_loss did not improve from 0.01073\n",
            "27/27 [==============================] - 23s 857ms/step - loss: 0.0082 - attention_mae: 0.0521 - val_loss: 0.0118 - val_attention_mae: 0.0569\n",
            "Epoch 102/300\n",
            "27/27 [==============================] - ETA: 0s - loss: 0.0083 - attention_mae: 0.0524\n",
            "Epoch 102: val_loss did not improve from 0.01073\n",
            "27/27 [==============================] - 23s 842ms/step - loss: 0.0083 - attention_mae: 0.0524 - val_loss: 0.0121 - val_attention_mae: 0.0569\n",
            "Epoch 103/300\n",
            "27/27 [==============================] - ETA: 0s - loss: 0.0083 - attention_mae: 0.0524\n",
            "Epoch 103: val_loss did not improve from 0.01073\n",
            "27/27 [==============================] - 23s 859ms/step - loss: 0.0083 - attention_mae: 0.0524 - val_loss: 0.0122 - val_attention_mae: 0.0579\n",
            "Epoch 104/300\n",
            "27/27 [==============================] - ETA: 0s - loss: 0.0086 - attention_mae: 0.0533\n",
            "Epoch 104: val_loss did not improve from 0.01073\n",
            "27/27 [==============================] - 23s 856ms/step - loss: 0.0086 - attention_mae: 0.0533 - val_loss: 0.0116 - val_attention_mae: 0.0607\n",
            "Epoch 105/300\n",
            "27/27 [==============================] - ETA: 0s - loss: 0.0085 - attention_mae: 0.0534\n",
            "Epoch 105: val_loss did not improve from 0.01073\n",
            "27/27 [==============================] - 23s 841ms/step - loss: 0.0085 - attention_mae: 0.0534 - val_loss: 0.0114 - val_attention_mae: 0.0591\n",
            "Epoch 106/300\n",
            "27/27 [==============================] - ETA: 0s - loss: 0.0085 - attention_mae: 0.0533\n",
            "Epoch 106: val_loss did not improve from 0.01073\n",
            "27/27 [==============================] - 23s 857ms/step - loss: 0.0085 - attention_mae: 0.0533 - val_loss: 0.0129 - val_attention_mae: 0.0642\n",
            "Epoch 107/300\n",
            "27/27 [==============================] - ETA: 0s - loss: 0.0085 - attention_mae: 0.0528\n",
            "Epoch 107: val_loss did not improve from 0.01073\n",
            "27/27 [==============================] - 23s 846ms/step - loss: 0.0085 - attention_mae: 0.0528 - val_loss: 0.0119 - val_attention_mae: 0.0590\n",
            "Epoch 108/300\n",
            "27/27 [==============================] - ETA: 0s - loss: 0.0082 - attention_mae: 0.0524\n",
            "Epoch 108: val_loss did not improve from 0.01073\n",
            "27/27 [==============================] - 23s 840ms/step - loss: 0.0082 - attention_mae: 0.0524 - val_loss: 0.0109 - val_attention_mae: 0.0555\n",
            "Epoch 109/300\n",
            "27/27 [==============================] - ETA: 0s - loss: 0.0079 - attention_mae: 0.0510\n",
            "Epoch 109: val_loss did not improve from 0.01073\n",
            "27/27 [==============================] - 23s 844ms/step - loss: 0.0079 - attention_mae: 0.0510 - val_loss: 0.0134 - val_attention_mae: 0.0586\n",
            "Epoch 110/300\n",
            "27/27 [==============================] - ETA: 0s - loss: 0.0079 - attention_mae: 0.0511\n",
            "Epoch 110: val_loss improved from 0.01073 to 0.01072, saving model to /content/drive/MyDrive/Research/TAVI/Models/Curvature_2_Stress_MultiViewUNet_I256_B16_LR0.001\n",
            "27/27 [==============================] - 24s 876ms/step - loss: 0.0079 - attention_mae: 0.0511 - val_loss: 0.0107 - val_attention_mae: 0.0536\n",
            "Epoch 111/300\n",
            "27/27 [==============================] - ETA: 0s - loss: 0.0079 - attention_mae: 0.0509\n",
            "Epoch 111: val_loss did not improve from 0.01072\n",
            "27/27 [==============================] - 23s 846ms/step - loss: 0.0079 - attention_mae: 0.0509 - val_loss: 0.0111 - val_attention_mae: 0.0565\n",
            "Epoch 112/300\n",
            "27/27 [==============================] - ETA: 0s - loss: 0.0078 - attention_mae: 0.0506\n",
            "Epoch 112: val_loss did not improve from 0.01072\n",
            "27/27 [==============================] - 23s 856ms/step - loss: 0.0078 - attention_mae: 0.0506 - val_loss: 0.0131 - val_attention_mae: 0.0586\n",
            "Epoch 113/300\n",
            "27/27 [==============================] - ETA: 0s - loss: 0.0081 - attention_mae: 0.0512\n",
            "Epoch 113: val_loss did not improve from 0.01072\n",
            "27/27 [==============================] - 23s 845ms/step - loss: 0.0081 - attention_mae: 0.0512 - val_loss: 0.0111 - val_attention_mae: 0.0590\n",
            "Epoch 114/300\n",
            "27/27 [==============================] - ETA: 0s - loss: 0.0079 - attention_mae: 0.0511\n",
            "Epoch 114: val_loss did not improve from 0.01072\n",
            "27/27 [==============================] - 23s 844ms/step - loss: 0.0079 - attention_mae: 0.0511 - val_loss: 0.0118 - val_attention_mae: 0.0616\n",
            "Epoch 115/300\n",
            "27/27 [==============================] - ETA: 0s - loss: 0.0081 - attention_mae: 0.0515\n",
            "Epoch 115: val_loss did not improve from 0.01072\n",
            "27/27 [==============================] - 23s 846ms/step - loss: 0.0081 - attention_mae: 0.0515 - val_loss: 0.0111 - val_attention_mae: 0.0549\n",
            "Epoch 116/300\n",
            "27/27 [==============================] - ETA: 0s - loss: 0.0080 - attention_mae: 0.0515\n",
            "Epoch 116: val_loss did not improve from 0.01072\n",
            "27/27 [==============================] - 23s 846ms/step - loss: 0.0080 - attention_mae: 0.0515 - val_loss: 0.0123 - val_attention_mae: 0.0611\n",
            "Epoch 117/300\n",
            "27/27 [==============================] - ETA: 0s - loss: 0.0079 - attention_mae: 0.0511\n",
            "Epoch 117: val_loss did not improve from 0.01072\n",
            "27/27 [==============================] - 23s 857ms/step - loss: 0.0079 - attention_mae: 0.0511 - val_loss: 0.0115 - val_attention_mae: 0.0554\n",
            "Epoch 118/300\n",
            "27/27 [==============================] - ETA: 0s - loss: 0.0080 - attention_mae: 0.0510\n",
            "Epoch 118: val_loss improved from 0.01072 to 0.01071, saving model to /content/drive/MyDrive/Research/TAVI/Models/Curvature_2_Stress_MultiViewUNet_I256_B16_LR0.001\n",
            "27/27 [==============================] - 24s 884ms/step - loss: 0.0080 - attention_mae: 0.0510 - val_loss: 0.0107 - val_attention_mae: 0.0552\n",
            "Epoch 119/300\n",
            "27/27 [==============================] - ETA: 0s - loss: 0.0076 - attention_mae: 0.0499\n",
            "Epoch 119: val_loss did not improve from 0.01071\n",
            "27/27 [==============================] - 23s 856ms/step - loss: 0.0076 - attention_mae: 0.0499 - val_loss: 0.0127 - val_attention_mae: 0.0564\n",
            "Epoch 120/300\n",
            "27/27 [==============================] - ETA: 0s - loss: 0.0075 - attention_mae: 0.0491\n",
            "Epoch 120: val_loss did not improve from 0.01071\n",
            "27/27 [==============================] - 23s 844ms/step - loss: 0.0075 - attention_mae: 0.0491 - val_loss: 0.0108 - val_attention_mae: 0.0533\n",
            "Epoch 121/300\n",
            "27/27 [==============================] - ETA: 0s - loss: 0.0074 - attention_mae: 0.0490\n",
            "Epoch 121: val_loss did not improve from 0.01071\n",
            "27/27 [==============================] - 23s 840ms/step - loss: 0.0074 - attention_mae: 0.0490 - val_loss: 0.0128 - val_attention_mae: 0.0567\n",
            "Epoch 122/300\n",
            "27/27 [==============================] - ETA: 0s - loss: 0.0073 - attention_mae: 0.0486\n",
            "Epoch 122: val_loss did not improve from 0.01071\n",
            "27/27 [==============================] - 23s 845ms/step - loss: 0.0073 - attention_mae: 0.0486 - val_loss: 0.0112 - val_attention_mae: 0.0533\n",
            "Epoch 123/300\n",
            "27/27 [==============================] - ETA: 0s - loss: 0.0073 - attention_mae: 0.0484\n",
            "Epoch 123: val_loss did not improve from 0.01071\n",
            "27/27 [==============================] - 23s 858ms/step - loss: 0.0073 - attention_mae: 0.0484 - val_loss: 0.0119 - val_attention_mae: 0.0560\n",
            "Epoch 124/300\n",
            "27/27 [==============================] - ETA: 0s - loss: 0.0073 - attention_mae: 0.0482\n",
            "Epoch 124: val_loss did not improve from 0.01071\n",
            "27/27 [==============================] - 23s 845ms/step - loss: 0.0073 - attention_mae: 0.0482 - val_loss: 0.0115 - val_attention_mae: 0.0544\n",
            "Epoch 125/300\n",
            "27/27 [==============================] - ETA: 0s - loss: 0.0076 - attention_mae: 0.0502\n",
            "Epoch 125: val_loss did not improve from 0.01071\n",
            "27/27 [==============================] - 23s 845ms/step - loss: 0.0076 - attention_mae: 0.0502 - val_loss: 0.0126 - val_attention_mae: 0.0615\n",
            "Epoch 126/300\n",
            "27/27 [==============================] - ETA: 0s - loss: 0.0074 - attention_mae: 0.0491\n",
            "Epoch 126: val_loss did not improve from 0.01071\n",
            "27/27 [==============================] - 23s 857ms/step - loss: 0.0074 - attention_mae: 0.0491 - val_loss: 0.0119 - val_attention_mae: 0.0546\n",
            "Epoch 127/300\n",
            "27/27 [==============================] - ETA: 0s - loss: 0.0074 - attention_mae: 0.0493\n",
            "Epoch 127: val_loss did not improve from 0.01071\n",
            "27/27 [==============================] - 23s 857ms/step - loss: 0.0074 - attention_mae: 0.0493 - val_loss: 0.0118 - val_attention_mae: 0.0590\n",
            "Epoch 128/300\n",
            "27/27 [==============================] - ETA: 0s - loss: 0.0075 - attention_mae: 0.0492\n",
            "Epoch 128: val_loss did not improve from 0.01071\n",
            "27/27 [==============================] - 23s 843ms/step - loss: 0.0075 - attention_mae: 0.0492 - val_loss: 0.0109 - val_attention_mae: 0.0540\n",
            "Epoch 129/300\n",
            "27/27 [==============================] - ETA: 0s - loss: 0.0071 - attention_mae: 0.0478\n",
            "Epoch 129: val_loss did not improve from 0.01071\n",
            "27/27 [==============================] - 23s 841ms/step - loss: 0.0071 - attention_mae: 0.0478 - val_loss: 0.0112 - val_attention_mae: 0.0528\n",
            "Epoch 130/300\n",
            "27/27 [==============================] - ETA: 0s - loss: 0.0072 - attention_mae: 0.0483\n",
            "Epoch 130: val_loss did not improve from 0.01071\n",
            "27/27 [==============================] - 23s 848ms/step - loss: 0.0072 - attention_mae: 0.0483 - val_loss: 0.0115 - val_attention_mae: 0.0536\n",
            "Epoch 131/300\n",
            "27/27 [==============================] - ETA: 0s - loss: 0.0079 - attention_mae: 0.0504\n",
            "Epoch 131: val_loss did not improve from 0.01071\n",
            "27/27 [==============================] - 23s 856ms/step - loss: 0.0079 - attention_mae: 0.0504 - val_loss: 0.0144 - val_attention_mae: 0.0618\n",
            "Epoch 132/300\n",
            "27/27 [==============================] - ETA: 0s - loss: 0.0080 - attention_mae: 0.0511\n",
            "Epoch 132: val_loss did not improve from 0.01071\n",
            "27/27 [==============================] - 23s 842ms/step - loss: 0.0080 - attention_mae: 0.0511 - val_loss: 0.0121 - val_attention_mae: 0.0629\n",
            "Epoch 133/300\n",
            "27/27 [==============================] - ETA: 0s - loss: 0.0075 - attention_mae: 0.0494\n",
            "Epoch 133: val_loss did not improve from 0.01071\n",
            "27/27 [==============================] - 23s 857ms/step - loss: 0.0075 - attention_mae: 0.0494 - val_loss: 0.0118 - val_attention_mae: 0.0576\n",
            "Epoch 134/300\n",
            "27/27 [==============================] - ETA: 0s - loss: 0.0072 - attention_mae: 0.0482\n",
            "Epoch 134: val_loss did not improve from 0.01071\n",
            "27/27 [==============================] - 23s 847ms/step - loss: 0.0072 - attention_mae: 0.0482 - val_loss: 0.0111 - val_attention_mae: 0.0553\n",
            "Epoch 135/300\n",
            "27/27 [==============================] - ETA: 0s - loss: 0.0076 - attention_mae: 0.0500\n",
            "Epoch 135: val_loss did not improve from 0.01071\n",
            "27/27 [==============================] - 23s 839ms/step - loss: 0.0076 - attention_mae: 0.0500 - val_loss: 0.0126 - val_attention_mae: 0.0572\n",
            "Epoch 136/300\n",
            "27/27 [==============================] - ETA: 0s - loss: 0.0073 - attention_mae: 0.0486\n",
            "Epoch 136: val_loss did not improve from 0.01071\n",
            "27/27 [==============================] - 23s 856ms/step - loss: 0.0073 - attention_mae: 0.0486 - val_loss: 0.0117 - val_attention_mae: 0.0565\n",
            "Epoch 137/300\n",
            "27/27 [==============================] - ETA: 0s - loss: 0.0070 - attention_mae: 0.0476\n",
            "Epoch 137: val_loss did not improve from 0.01071\n",
            "27/27 [==============================] - 23s 853ms/step - loss: 0.0070 - attention_mae: 0.0476 - val_loss: 0.0113 - val_attention_mae: 0.0578\n",
            "Epoch 138/300\n",
            "27/27 [==============================] - ETA: 0s - loss: 0.0070 - attention_mae: 0.0476\n",
            "Epoch 138: val_loss did not improve from 0.01071\n",
            "27/27 [==============================] - 23s 858ms/step - loss: 0.0070 - attention_mae: 0.0476 - val_loss: 0.0109 - val_attention_mae: 0.0527\n",
            "Epoch 139/300\n",
            "27/27 [==============================] - ETA: 0s - loss: 0.0068 - attention_mae: 0.0465\n",
            "Epoch 139: val_loss did not improve from 0.01071\n",
            "27/27 [==============================] - 23s 854ms/step - loss: 0.0068 - attention_mae: 0.0465 - val_loss: 0.0112 - val_attention_mae: 0.0528\n",
            "Epoch 140/300\n",
            "27/27 [==============================] - ETA: 0s - loss: 0.0067 - attention_mae: 0.0464\n",
            "Epoch 140: val_loss did not improve from 0.01071\n",
            "27/27 [==============================] - 23s 842ms/step - loss: 0.0067 - attention_mae: 0.0464 - val_loss: 0.0113 - val_attention_mae: 0.0532\n",
            "Epoch 141/300\n",
            "27/27 [==============================] - ETA: 0s - loss: 0.0068 - attention_mae: 0.0464\n",
            "Epoch 141: val_loss did not improve from 0.01071\n",
            "27/27 [==============================] - 23s 841ms/step - loss: 0.0068 - attention_mae: 0.0464 - val_loss: 0.0112 - val_attention_mae: 0.0533\n",
            "Epoch 142/300\n",
            "27/27 [==============================] - ETA: 0s - loss: 0.0069 - attention_mae: 0.0472\n",
            "Epoch 142: val_loss did not improve from 0.01071\n",
            "27/27 [==============================] - 23s 847ms/step - loss: 0.0069 - attention_mae: 0.0472 - val_loss: 0.0119 - val_attention_mae: 0.0546\n",
            "Epoch 143/300\n",
            "27/27 [==============================] - ETA: 0s - loss: 0.0068 - attention_mae: 0.0467\n",
            "Epoch 143: val_loss did not improve from 0.01071\n",
            "27/27 [==============================] - 23s 859ms/step - loss: 0.0068 - attention_mae: 0.0467 - val_loss: 0.0112 - val_attention_mae: 0.0530\n",
            "Epoch 144/300\n",
            "27/27 [==============================] - ETA: 0s - loss: 0.0067 - attention_mae: 0.0461\n",
            "Epoch 144: val_loss did not improve from 0.01071\n",
            "27/27 [==============================] - 23s 846ms/step - loss: 0.0067 - attention_mae: 0.0461 - val_loss: 0.0111 - val_attention_mae: 0.0517\n",
            "Epoch 145/300\n",
            "27/27 [==============================] - ETA: 0s - loss: 0.0066 - attention_mae: 0.0462\n",
            "Epoch 145: val_loss did not improve from 0.01071\n",
            "27/27 [==============================] - 23s 844ms/step - loss: 0.0066 - attention_mae: 0.0462 - val_loss: 0.0115 - val_attention_mae: 0.0537\n",
            "Epoch 146/300\n",
            "27/27 [==============================] - ETA: 0s - loss: 0.0069 - attention_mae: 0.0471\n",
            "Epoch 146: val_loss did not improve from 0.01071\n",
            "27/27 [==============================] - 23s 856ms/step - loss: 0.0069 - attention_mae: 0.0471 - val_loss: 0.0110 - val_attention_mae: 0.0537\n",
            "Epoch 147/300\n",
            "27/27 [==============================] - ETA: 0s - loss: 0.0070 - attention_mae: 0.0475\n",
            "Epoch 147: val_loss did not improve from 0.01071\n",
            "27/27 [==============================] - 23s 857ms/step - loss: 0.0070 - attention_mae: 0.0475 - val_loss: 0.0117 - val_attention_mae: 0.0543\n",
            "Epoch 148/300\n",
            "27/27 [==============================] - ETA: 0s - loss: 0.0068 - attention_mae: 0.0469\n",
            "Epoch 148: val_loss did not improve from 0.01071\n",
            "27/27 [==============================] - 23s 848ms/step - loss: 0.0068 - attention_mae: 0.0469 - val_loss: 0.0111 - val_attention_mae: 0.0566\n"
          ]
        }
      ],
      "source": [
        "history = model.fit(\n",
        "    train_batches,\n",
        "    validation_data=test_batches,\n",
        "    epochs=N_EPOCHS,\n",
        "    batch_size=BATCH_SIZE,\n",
        "    callbacks=callbacks,\n",
        "    verbose=1\n",
        ")\n"
      ]
    },
    {
      "cell_type": "markdown",
      "metadata": {
        "id": "o0izY6BrsY8U"
      },
      "source": [
        "# Save Model"
      ]
    },
    {
      "cell_type": "code",
      "execution_count": 16,
      "metadata": {
        "id": "BriaW2DnsY8V"
      },
      "outputs": [],
      "source": [
        "timestamp = datetime.datetime.now().strftime('%b-%d-%I:%M%p')\n",
        "if not os.path.exists(model_path):\n",
        "    os.makedirs(model_path)\n",
        "\n",
        "model.save(os.path.join(model_path, timestamp))"
      ]
    },
    {
      "cell_type": "code",
      "source": [
        "model_path"
      ],
      "metadata": {
        "id": "3IADrMxkC9v2",
        "outputId": "1f8d7add-30c3-4e1e-877d-7490c667245c",
        "colab": {
          "base_uri": "https://localhost:8080/",
          "height": 36
        }
      },
      "execution_count": 17,
      "outputs": [
        {
          "output_type": "execute_result",
          "data": {
            "text/plain": [
              "'/content/drive/MyDrive/Research/TAVI/Models/Curvature_2_Stress_MultiViewUNet_I256_B16_LR0.001'"
            ],
            "application/vnd.google.colaboratory.intrinsic+json": {
              "type": "string"
            }
          },
          "metadata": {},
          "execution_count": 17
        }
      ]
    },
    {
      "cell_type": "markdown",
      "metadata": {
        "id": "i_Oi8OvMsY8V"
      },
      "source": [
        "# Save Predictions"
      ]
    },
    {
      "cell_type": "code",
      "source": [
        "test_ds_unbatched = test_batches.unbatch()\n",
        "\n",
        "pred_path = os.path.join(PRED_PATH, EXP_NAME, timestamp)\n",
        "if not os.path.exists(pred_path):\n",
        "    os.makedirs(pred_path)\n",
        "\n",
        "metrics = pd.DataFrame()\n",
        "\n",
        "for idx, (input, target) in enumerate(tqdm(test_ds_unbatched)):\n",
        "\n",
        "    target = tf.squeeze(target)\n",
        "    prediction = tf.squeeze(\n",
        "        model.predict(\n",
        "            tf.expand_dims(input, axis=0)\n",
        "        )\n",
        "    )\n",
        "\n",
        "    channel_sum = tf.expand_dims(tf.reduce_sum(target, axis=-1), axis=-1)\n",
        "    white_mask = tf.reduce_all(tf.equal(channel_sum, 3.0), axis=-1)\n",
        "    expanded_mask = tf.expand_dims(white_mask, axis=-1)\n",
        "    expanded_mask = tf.tile(expanded_mask, [1, 1, 3])\n",
        "    # expanded_mask = tf.tile(expanded_mask, [1, 1])\n",
        "    prediction = tf.where(expanded_mask, tf.ones_like(prediction), prediction)\n",
        "\n",
        "    target_pil = Image.fromarray(np.array(target * 255.0, dtype=np.uint8))\n",
        "    prediction_pil = Image.fromarray(np.array(prediction * 255.0, dtype=np.uint8))\n",
        "\n",
        "    target_pil.save(os.path.join(pred_path, f\"{idx}_T.png\"))\n",
        "    prediction_pil.save(os.path.join(pred_path, f\"{idx}_P.png\"))\n"
      ],
      "metadata": {
        "id": "teF3-rIvW3m0",
        "outputId": "8addf725-e7c8-4fbf-8e16-3c2e040a5151",
        "colab": {
          "base_uri": "https://localhost:8080/"
        }
      },
      "execution_count": 18,
      "outputs": [
        {
          "output_type": "stream",
          "name": "stderr",
          "text": [
            "\r0it [00:00, ?it/s]"
          ]
        },
        {
          "output_type": "stream",
          "name": "stdout",
          "text": [
            "1/1 [==============================] - 2s 2s/step\n"
          ]
        },
        {
          "output_type": "stream",
          "name": "stderr",
          "text": [
            "\r1it [00:03,  3.26s/it]"
          ]
        },
        {
          "output_type": "stream",
          "name": "stdout",
          "text": [
            "1/1 [==============================] - 0s 22ms/step\n"
          ]
        },
        {
          "output_type": "stream",
          "name": "stderr",
          "text": [
            "\r2it [00:03,  1.41s/it]"
          ]
        },
        {
          "output_type": "stream",
          "name": "stdout",
          "text": [
            "1/1 [==============================] - 0s 22ms/step\n"
          ]
        },
        {
          "output_type": "stream",
          "name": "stderr",
          "text": [
            "\r3it [00:03,  1.22it/s]"
          ]
        },
        {
          "output_type": "stream",
          "name": "stdout",
          "text": [
            "1/1 [==============================] - 0s 21ms/step\n"
          ]
        },
        {
          "output_type": "stream",
          "name": "stderr",
          "text": [
            "\r4it [00:03,  1.86it/s]"
          ]
        },
        {
          "output_type": "stream",
          "name": "stdout",
          "text": [
            "1/1 [==============================] - 0s 23ms/step\n"
          ]
        },
        {
          "output_type": "stream",
          "name": "stderr",
          "text": [
            "\r5it [00:03,  2.57it/s]"
          ]
        },
        {
          "output_type": "stream",
          "name": "stdout",
          "text": [
            "1/1 [==============================] - 0s 22ms/step\n"
          ]
        },
        {
          "output_type": "stream",
          "name": "stderr",
          "text": [
            "\r6it [00:03,  3.25it/s]"
          ]
        },
        {
          "output_type": "stream",
          "name": "stdout",
          "text": [
            "1/1 [==============================] - 0s 27ms/step\n"
          ]
        },
        {
          "output_type": "stream",
          "name": "stderr",
          "text": [
            "\r7it [00:03,  4.10it/s]"
          ]
        },
        {
          "output_type": "stream",
          "name": "stdout",
          "text": [
            "1/1 [==============================] - 0s 26ms/step\n"
          ]
        },
        {
          "output_type": "stream",
          "name": "stderr",
          "text": [
            "\r8it [00:04,  4.92it/s]"
          ]
        },
        {
          "output_type": "stream",
          "name": "stdout",
          "text": [
            "1/1 [==============================] - 0s 26ms/step\n"
          ]
        },
        {
          "output_type": "stream",
          "name": "stderr",
          "text": [
            "\r9it [00:04,  5.24it/s]"
          ]
        },
        {
          "output_type": "stream",
          "name": "stdout",
          "text": [
            "1/1 [==============================] - 0s 24ms/step\n"
          ]
        },
        {
          "output_type": "stream",
          "name": "stderr",
          "text": [
            "\r10it [00:04,  5.49it/s]"
          ]
        },
        {
          "output_type": "stream",
          "name": "stdout",
          "text": [
            "1/1 [==============================] - 0s 27ms/step\n"
          ]
        },
        {
          "output_type": "stream",
          "name": "stderr",
          "text": [
            "\r11it [00:04,  6.13it/s]"
          ]
        },
        {
          "output_type": "stream",
          "name": "stdout",
          "text": [
            "1/1 [==============================] - 0s 26ms/step\n"
          ]
        },
        {
          "output_type": "stream",
          "name": "stderr",
          "text": [
            "\r12it [00:04,  6.64it/s]"
          ]
        },
        {
          "output_type": "stream",
          "name": "stdout",
          "text": [
            "1/1 [==============================] - 0s 22ms/step\n"
          ]
        },
        {
          "output_type": "stream",
          "name": "stderr",
          "text": [
            "\r13it [00:04,  6.63it/s]"
          ]
        },
        {
          "output_type": "stream",
          "name": "stdout",
          "text": [
            "1/1 [==============================] - 0s 22ms/step\n"
          ]
        },
        {
          "output_type": "stream",
          "name": "stderr",
          "text": [
            "\r14it [00:04,  7.20it/s]"
          ]
        },
        {
          "output_type": "stream",
          "name": "stdout",
          "text": [
            "1/1 [==============================] - 0s 24ms/step\n"
          ]
        },
        {
          "output_type": "stream",
          "name": "stderr",
          "text": [
            "\r15it [00:05,  6.95it/s]"
          ]
        },
        {
          "output_type": "stream",
          "name": "stdout",
          "text": [
            "1/1 [==============================] - 0s 21ms/step\n"
          ]
        },
        {
          "output_type": "stream",
          "name": "stderr",
          "text": [
            "\r16it [00:05,  6.79it/s]"
          ]
        },
        {
          "output_type": "stream",
          "name": "stdout",
          "text": [
            "1/1 [==============================] - 0s 22ms/step\n"
          ]
        },
        {
          "output_type": "stream",
          "name": "stderr",
          "text": [
            "\r17it [00:05,  7.31it/s]"
          ]
        },
        {
          "output_type": "stream",
          "name": "stdout",
          "text": [
            "1/1 [==============================] - 0s 23ms/step\n"
          ]
        },
        {
          "output_type": "stream",
          "name": "stderr",
          "text": [
            "\r18it [00:05,  7.74it/s]"
          ]
        },
        {
          "output_type": "stream",
          "name": "stdout",
          "text": [
            "1/1 [==============================] - 0s 22ms/step\n"
          ]
        },
        {
          "output_type": "stream",
          "name": "stderr",
          "text": [
            "\r19it [00:05,  7.97it/s]"
          ]
        },
        {
          "output_type": "stream",
          "name": "stdout",
          "text": [
            "1/1 [==============================] - 0s 30ms/step\n"
          ]
        },
        {
          "output_type": "stream",
          "name": "stderr",
          "text": [
            "\r20it [00:05,  7.71it/s]"
          ]
        },
        {
          "output_type": "stream",
          "name": "stdout",
          "text": [
            "1/1 [==============================] - 0s 21ms/step\n"
          ]
        },
        {
          "output_type": "stream",
          "name": "stderr",
          "text": [
            "\r21it [00:05,  7.82it/s]"
          ]
        },
        {
          "output_type": "stream",
          "name": "stdout",
          "text": [
            "1/1 [==============================] - 0s 21ms/step\n"
          ]
        },
        {
          "output_type": "stream",
          "name": "stderr",
          "text": [
            "\r22it [00:05,  8.21it/s]"
          ]
        },
        {
          "output_type": "stream",
          "name": "stdout",
          "text": [
            "1/1 [==============================] - 0s 20ms/step\n"
          ]
        },
        {
          "output_type": "stream",
          "name": "stderr",
          "text": [
            "\r23it [00:06,  7.58it/s]"
          ]
        },
        {
          "output_type": "stream",
          "name": "stdout",
          "text": [
            "1/1 [==============================] - 0s 20ms/step\n"
          ]
        },
        {
          "output_type": "stream",
          "name": "stderr",
          "text": [
            "\r24it [00:06,  7.96it/s]"
          ]
        },
        {
          "output_type": "stream",
          "name": "stdout",
          "text": [
            "1/1 [==============================] - 0s 24ms/step\n"
          ]
        },
        {
          "output_type": "stream",
          "name": "stderr",
          "text": [
            "\r25it [00:06,  7.19it/s]"
          ]
        },
        {
          "output_type": "stream",
          "name": "stdout",
          "text": [
            "1/1 [==============================] - 0s 31ms/step\n"
          ]
        },
        {
          "output_type": "stream",
          "name": "stderr",
          "text": [
            "\r26it [00:06,  6.61it/s]"
          ]
        },
        {
          "output_type": "stream",
          "name": "stdout",
          "text": [
            "1/1 [==============================] - 0s 25ms/step\n"
          ]
        },
        {
          "output_type": "stream",
          "name": "stderr",
          "text": [
            "\r27it [00:06,  7.02it/s]"
          ]
        },
        {
          "output_type": "stream",
          "name": "stdout",
          "text": [
            "1/1 [==============================] - 0s 31ms/step\n"
          ]
        },
        {
          "output_type": "stream",
          "name": "stderr",
          "text": [
            "\r28it [00:06,  7.06it/s]"
          ]
        },
        {
          "output_type": "stream",
          "name": "stdout",
          "text": [
            "1/1 [==============================] - 0s 21ms/step\n"
          ]
        },
        {
          "output_type": "stream",
          "name": "stderr",
          "text": [
            "\r29it [00:06,  7.44it/s]"
          ]
        },
        {
          "output_type": "stream",
          "name": "stdout",
          "text": [
            "1/1 [==============================] - 0s 24ms/step\n"
          ]
        },
        {
          "output_type": "stream",
          "name": "stderr",
          "text": [
            "\r30it [00:07,  7.82it/s]"
          ]
        },
        {
          "output_type": "stream",
          "name": "stdout",
          "text": [
            "1/1 [==============================] - 0s 28ms/step\n"
          ]
        },
        {
          "output_type": "stream",
          "name": "stderr",
          "text": [
            "\r31it [00:07,  7.38it/s]"
          ]
        },
        {
          "output_type": "stream",
          "name": "stdout",
          "text": [
            "1/1 [==============================] - 0s 21ms/step\n"
          ]
        },
        {
          "output_type": "stream",
          "name": "stderr",
          "text": [
            "\r32it [00:07,  7.45it/s]"
          ]
        },
        {
          "output_type": "stream",
          "name": "stdout",
          "text": [
            "1/1 [==============================] - 0s 23ms/step\n"
          ]
        },
        {
          "output_type": "stream",
          "name": "stderr",
          "text": [
            "\r33it [00:07,  7.79it/s]"
          ]
        },
        {
          "output_type": "stream",
          "name": "stdout",
          "text": [
            "1/1 [==============================] - 0s 28ms/step\n"
          ]
        },
        {
          "output_type": "stream",
          "name": "stderr",
          "text": [
            "\r34it [00:07,  7.44it/s]"
          ]
        },
        {
          "output_type": "stream",
          "name": "stdout",
          "text": [
            "1/1 [==============================] - 0s 22ms/step\n"
          ]
        },
        {
          "output_type": "stream",
          "name": "stderr",
          "text": [
            "\r35it [00:07,  6.90it/s]"
          ]
        },
        {
          "output_type": "stream",
          "name": "stdout",
          "text": [
            "1/1 [==============================] - 0s 20ms/step\n"
          ]
        },
        {
          "output_type": "stream",
          "name": "stderr",
          "text": [
            "\r36it [00:07,  7.32it/s]"
          ]
        },
        {
          "output_type": "stream",
          "name": "stdout",
          "text": [
            "1/1 [==============================] - 0s 24ms/step\n"
          ]
        },
        {
          "output_type": "stream",
          "name": "stderr",
          "text": [
            "\r37it [00:08,  6.56it/s]"
          ]
        },
        {
          "output_type": "stream",
          "name": "stdout",
          "text": [
            "1/1 [==============================] - 0s 23ms/step\n"
          ]
        },
        {
          "output_type": "stream",
          "name": "stderr",
          "text": [
            "\r38it [00:08,  6.99it/s]"
          ]
        },
        {
          "output_type": "stream",
          "name": "stdout",
          "text": [
            "1/1 [==============================] - 0s 24ms/step\n"
          ]
        },
        {
          "output_type": "stream",
          "name": "stderr",
          "text": [
            "\r39it [00:08,  7.31it/s]"
          ]
        },
        {
          "output_type": "stream",
          "name": "stdout",
          "text": [
            "1/1 [==============================] - 0s 21ms/step\n"
          ]
        },
        {
          "output_type": "stream",
          "name": "stderr",
          "text": [
            "\r40it [00:08,  7.75it/s]"
          ]
        },
        {
          "output_type": "stream",
          "name": "stdout",
          "text": [
            "1/1 [==============================] - 0s 24ms/step\n"
          ]
        },
        {
          "output_type": "stream",
          "name": "stderr",
          "text": [
            "\r41it [00:08,  7.80it/s]"
          ]
        },
        {
          "output_type": "stream",
          "name": "stdout",
          "text": [
            "1/1 [==============================] - 0s 25ms/step\n"
          ]
        },
        {
          "output_type": "stream",
          "name": "stderr",
          "text": [
            "\r42it [00:08,  8.05it/s]"
          ]
        },
        {
          "output_type": "stream",
          "name": "stdout",
          "text": [
            "1/1 [==============================] - 0s 20ms/step\n"
          ]
        },
        {
          "output_type": "stream",
          "name": "stderr",
          "text": [
            "\r43it [00:08,  8.37it/s]"
          ]
        },
        {
          "output_type": "stream",
          "name": "stdout",
          "text": [
            "1/1 [==============================] - 0s 19ms/step\n"
          ]
        },
        {
          "output_type": "stream",
          "name": "stderr",
          "text": [
            "\r44it [00:08,  8.65it/s]"
          ]
        },
        {
          "output_type": "stream",
          "name": "stdout",
          "text": [
            "1/1 [==============================] - 0s 20ms/step\n"
          ]
        },
        {
          "output_type": "stream",
          "name": "stderr",
          "text": [
            "\r45it [00:09,  7.99it/s]"
          ]
        },
        {
          "output_type": "stream",
          "name": "stdout",
          "text": [
            "1/1 [==============================] - 0s 21ms/step\n"
          ]
        },
        {
          "output_type": "stream",
          "name": "stderr",
          "text": [
            "\r46it [00:09,  8.22it/s]"
          ]
        },
        {
          "output_type": "stream",
          "name": "stdout",
          "text": [
            "1/1 [==============================] - 0s 28ms/step\n"
          ]
        },
        {
          "output_type": "stream",
          "name": "stderr",
          "text": [
            "\r47it [00:09,  8.29it/s]"
          ]
        },
        {
          "output_type": "stream",
          "name": "stdout",
          "text": [
            "1/1 [==============================] - 0s 22ms/step\n"
          ]
        },
        {
          "output_type": "stream",
          "name": "stderr",
          "text": [
            "\r48it [00:09,  8.56it/s]"
          ]
        },
        {
          "output_type": "stream",
          "name": "stdout",
          "text": [
            "1/1 [==============================] - 0s 21ms/step\n"
          ]
        },
        {
          "output_type": "stream",
          "name": "stderr",
          "text": [
            "\r49it [00:09,  8.67it/s]"
          ]
        },
        {
          "output_type": "stream",
          "name": "stdout",
          "text": [
            "1/1 [==============================] - 0s 38ms/step\n"
          ]
        },
        {
          "output_type": "stream",
          "name": "stderr",
          "text": [
            "\r50it [00:09,  7.37it/s]"
          ]
        },
        {
          "output_type": "stream",
          "name": "stdout",
          "text": [
            "1/1 [==============================] - 0s 33ms/step\n"
          ]
        },
        {
          "output_type": "stream",
          "name": "stderr",
          "text": [
            "\r51it [00:09,  6.88it/s]"
          ]
        },
        {
          "output_type": "stream",
          "name": "stdout",
          "text": [
            "1/1 [==============================] - 0s 34ms/step\n"
          ]
        },
        {
          "output_type": "stream",
          "name": "stderr",
          "text": [
            "\r52it [00:10,  6.37it/s]"
          ]
        },
        {
          "output_type": "stream",
          "name": "stdout",
          "text": [
            "1/1 [==============================] - 0s 33ms/step\n"
          ]
        },
        {
          "output_type": "stream",
          "name": "stderr",
          "text": [
            "\r53it [00:10,  6.03it/s]"
          ]
        },
        {
          "output_type": "stream",
          "name": "stdout",
          "text": [
            "1/1 [==============================] - 0s 43ms/step\n"
          ]
        },
        {
          "output_type": "stream",
          "name": "stderr",
          "text": [
            "\r54it [00:10,  5.52it/s]"
          ]
        },
        {
          "output_type": "stream",
          "name": "stdout",
          "text": [
            "1/1 [==============================] - 0s 35ms/step\n"
          ]
        },
        {
          "output_type": "stream",
          "name": "stderr",
          "text": [
            "\r55it [00:10,  5.37it/s]"
          ]
        },
        {
          "output_type": "stream",
          "name": "stdout",
          "text": [
            "1/1 [==============================] - 0s 33ms/step\n"
          ]
        },
        {
          "output_type": "stream",
          "name": "stderr",
          "text": [
            "\r56it [00:10,  5.35it/s]"
          ]
        },
        {
          "output_type": "stream",
          "name": "stdout",
          "text": [
            "1/1 [==============================] - 0s 32ms/step\n"
          ]
        },
        {
          "output_type": "stream",
          "name": "stderr",
          "text": [
            "\r57it [00:11,  5.35it/s]"
          ]
        },
        {
          "output_type": "stream",
          "name": "stdout",
          "text": [
            "1/1 [==============================] - 0s 32ms/step\n"
          ]
        },
        {
          "output_type": "stream",
          "name": "stderr",
          "text": [
            "\r58it [00:11,  5.17it/s]"
          ]
        },
        {
          "output_type": "stream",
          "name": "stdout",
          "text": [
            "1/1 [==============================] - 0s 33ms/step\n"
          ]
        },
        {
          "output_type": "stream",
          "name": "stderr",
          "text": [
            "\r59it [00:11,  5.24it/s]"
          ]
        },
        {
          "output_type": "stream",
          "name": "stdout",
          "text": [
            "1/1 [==============================] - 0s 32ms/step\n"
          ]
        },
        {
          "output_type": "stream",
          "name": "stderr",
          "text": [
            "\r60it [00:11,  5.16it/s]"
          ]
        },
        {
          "output_type": "stream",
          "name": "stdout",
          "text": [
            "1/1 [==============================] - 0s 35ms/step\n"
          ]
        },
        {
          "output_type": "stream",
          "name": "stderr",
          "text": [
            "\r61it [00:11,  5.53it/s]"
          ]
        },
        {
          "output_type": "stream",
          "name": "stdout",
          "text": [
            "1/1 [==============================] - 0s 32ms/step\n"
          ]
        },
        {
          "output_type": "stream",
          "name": "stderr",
          "text": [
            "\r62it [00:11,  5.49it/s]"
          ]
        },
        {
          "output_type": "stream",
          "name": "stdout",
          "text": [
            "1/1 [==============================] - 0s 34ms/step\n"
          ]
        },
        {
          "output_type": "stream",
          "name": "stderr",
          "text": [
            "\r63it [00:12,  5.40it/s]"
          ]
        },
        {
          "output_type": "stream",
          "name": "stdout",
          "text": [
            "1/1 [==============================] - 0s 31ms/step\n"
          ]
        },
        {
          "output_type": "stream",
          "name": "stderr",
          "text": [
            "\r64it [00:12,  5.34it/s]"
          ]
        },
        {
          "output_type": "stream",
          "name": "stdout",
          "text": [
            "1/1 [==============================] - 0s 38ms/step\n"
          ]
        },
        {
          "output_type": "stream",
          "name": "stderr",
          "text": [
            "\r65it [00:12,  5.11it/s]"
          ]
        },
        {
          "output_type": "stream",
          "name": "stdout",
          "text": [
            "1/1 [==============================] - 0s 41ms/step\n"
          ]
        },
        {
          "output_type": "stream",
          "name": "stderr",
          "text": [
            "\r66it [00:12,  5.16it/s]"
          ]
        },
        {
          "output_type": "stream",
          "name": "stdout",
          "text": [
            "1/1 [==============================] - 0s 33ms/step\n"
          ]
        },
        {
          "output_type": "stream",
          "name": "stderr",
          "text": [
            "\r67it [00:12,  5.18it/s]"
          ]
        },
        {
          "output_type": "stream",
          "name": "stdout",
          "text": [
            "1/1 [==============================] - 0s 33ms/step\n"
          ]
        },
        {
          "output_type": "stream",
          "name": "stderr",
          "text": [
            "\r68it [00:13,  5.24it/s]"
          ]
        },
        {
          "output_type": "stream",
          "name": "stdout",
          "text": [
            "1/1 [==============================] - 0s 29ms/step\n"
          ]
        },
        {
          "output_type": "stream",
          "name": "stderr",
          "text": [
            "\r69it [00:13,  5.72it/s]"
          ]
        },
        {
          "output_type": "stream",
          "name": "stdout",
          "text": [
            "1/1 [==============================] - 0s 31ms/step\n"
          ]
        },
        {
          "output_type": "stream",
          "name": "stderr",
          "text": [
            "\r70it [00:13,  5.88it/s]"
          ]
        },
        {
          "output_type": "stream",
          "name": "stdout",
          "text": [
            "1/1 [==============================] - 0s 33ms/step\n"
          ]
        },
        {
          "output_type": "stream",
          "name": "stderr",
          "text": [
            "\r71it [00:13,  5.70it/s]"
          ]
        },
        {
          "output_type": "stream",
          "name": "stdout",
          "text": [
            "1/1 [==============================] - 0s 62ms/step\n"
          ]
        },
        {
          "output_type": "stream",
          "name": "stderr",
          "text": [
            "\r72it [00:13,  5.72it/s]"
          ]
        },
        {
          "output_type": "stream",
          "name": "stdout",
          "text": [
            "1/1 [==============================] - 0s 31ms/step\n"
          ]
        },
        {
          "output_type": "stream",
          "name": "stderr",
          "text": [
            "\r73it [00:13,  5.54it/s]"
          ]
        },
        {
          "output_type": "stream",
          "name": "stdout",
          "text": [
            "1/1 [==============================] - 0s 32ms/step\n"
          ]
        },
        {
          "output_type": "stream",
          "name": "stderr",
          "text": [
            "\r74it [00:14,  5.44it/s]"
          ]
        },
        {
          "output_type": "stream",
          "name": "stdout",
          "text": [
            "1/1 [==============================] - 0s 23ms/step\n"
          ]
        },
        {
          "output_type": "stream",
          "name": "stderr",
          "text": [
            "\r75it [00:14,  5.90it/s]"
          ]
        },
        {
          "output_type": "stream",
          "name": "stdout",
          "text": [
            "1/1 [==============================] - 0s 22ms/step\n"
          ]
        },
        {
          "output_type": "stream",
          "name": "stderr",
          "text": [
            "\r76it [00:14,  6.56it/s]"
          ]
        },
        {
          "output_type": "stream",
          "name": "stdout",
          "text": [
            "1/1 [==============================] - 0s 20ms/step\n"
          ]
        },
        {
          "output_type": "stream",
          "name": "stderr",
          "text": [
            "\r77it [00:14,  7.08it/s]"
          ]
        },
        {
          "output_type": "stream",
          "name": "stdout",
          "text": [
            "1/1 [==============================] - 0s 23ms/step\n"
          ]
        },
        {
          "output_type": "stream",
          "name": "stderr",
          "text": [
            "\r78it [00:14,  6.73it/s]"
          ]
        },
        {
          "output_type": "stream",
          "name": "stdout",
          "text": [
            "1/1 [==============================] - 0s 22ms/step\n"
          ]
        },
        {
          "output_type": "stream",
          "name": "stderr",
          "text": [
            "\r79it [00:14,  7.33it/s]"
          ]
        },
        {
          "output_type": "stream",
          "name": "stdout",
          "text": [
            "1/1 [==============================] - 0s 23ms/step\n"
          ]
        },
        {
          "output_type": "stream",
          "name": "stderr",
          "text": [
            "\r80it [00:14,  7.81it/s]"
          ]
        },
        {
          "output_type": "stream",
          "name": "stdout",
          "text": [
            "1/1 [==============================] - 0s 20ms/step\n"
          ]
        },
        {
          "output_type": "stream",
          "name": "stderr",
          "text": [
            "\r81it [00:15,  7.47it/s]"
          ]
        },
        {
          "output_type": "stream",
          "name": "stdout",
          "text": [
            "1/1 [==============================] - 0s 20ms/step\n"
          ]
        },
        {
          "output_type": "stream",
          "name": "stderr",
          "text": [
            "\r82it [00:15,  7.20it/s]"
          ]
        },
        {
          "output_type": "stream",
          "name": "stdout",
          "text": [
            "1/1 [==============================] - 0s 21ms/step\n"
          ]
        },
        {
          "output_type": "stream",
          "name": "stderr",
          "text": [
            "\r83it [00:15,  7.55it/s]"
          ]
        },
        {
          "output_type": "stream",
          "name": "stdout",
          "text": [
            "1/1 [==============================] - 0s 23ms/step\n"
          ]
        },
        {
          "output_type": "stream",
          "name": "stderr",
          "text": [
            "\r84it [00:15,  7.89it/s]"
          ]
        },
        {
          "output_type": "stream",
          "name": "stdout",
          "text": [
            "1/1 [==============================] - 0s 20ms/step\n"
          ]
        },
        {
          "output_type": "stream",
          "name": "stderr",
          "text": [
            "\r85it [00:15,  7.45it/s]"
          ]
        },
        {
          "output_type": "stream",
          "name": "stdout",
          "text": [
            "1/1 [==============================] - 0s 21ms/step\n"
          ]
        },
        {
          "output_type": "stream",
          "name": "stderr",
          "text": [
            "\r86it [00:15,  7.74it/s]"
          ]
        },
        {
          "output_type": "stream",
          "name": "stdout",
          "text": [
            "1/1 [==============================] - 0s 20ms/step\n"
          ]
        },
        {
          "output_type": "stream",
          "name": "stderr",
          "text": [
            "\r87it [00:15,  8.06it/s]"
          ]
        },
        {
          "output_type": "stream",
          "name": "stdout",
          "text": [
            "1/1 [==============================] - 0s 21ms/step\n"
          ]
        },
        {
          "output_type": "stream",
          "name": "stderr",
          "text": [
            "\r88it [00:15,  7.33it/s]"
          ]
        },
        {
          "output_type": "stream",
          "name": "stdout",
          "text": [
            "1/1 [==============================] - 0s 20ms/step\n"
          ]
        },
        {
          "output_type": "stream",
          "name": "stderr",
          "text": [
            "\r89it [00:16,  7.75it/s]"
          ]
        },
        {
          "output_type": "stream",
          "name": "stdout",
          "text": [
            "1/1 [==============================] - 0s 20ms/step\n"
          ]
        },
        {
          "output_type": "stream",
          "name": "stderr",
          "text": [
            "\r90it [00:16,  8.11it/s]"
          ]
        },
        {
          "output_type": "stream",
          "name": "stdout",
          "text": [
            "1/1 [==============================] - 0s 24ms/step\n"
          ]
        },
        {
          "output_type": "stream",
          "name": "stderr",
          "text": [
            "\r91it [00:16,  8.36it/s]"
          ]
        },
        {
          "output_type": "stream",
          "name": "stdout",
          "text": [
            "1/1 [==============================] - 0s 22ms/step\n"
          ]
        },
        {
          "output_type": "stream",
          "name": "stderr",
          "text": [
            "\r92it [00:16,  7.58it/s]"
          ]
        },
        {
          "output_type": "stream",
          "name": "stdout",
          "text": [
            "1/1 [==============================] - 0s 29ms/step\n"
          ]
        },
        {
          "output_type": "stream",
          "name": "stderr",
          "text": [
            "\r93it [00:16,  7.76it/s]"
          ]
        },
        {
          "output_type": "stream",
          "name": "stdout",
          "text": [
            "1/1 [==============================] - 0s 21ms/step\n"
          ]
        },
        {
          "output_type": "stream",
          "name": "stderr",
          "text": [
            "\r94it [00:16,  8.04it/s]"
          ]
        },
        {
          "output_type": "stream",
          "name": "stdout",
          "text": [
            "1/1 [==============================] - 0s 21ms/step\n"
          ]
        },
        {
          "output_type": "stream",
          "name": "stderr",
          "text": [
            "\r95it [00:16,  8.15it/s]"
          ]
        },
        {
          "output_type": "stream",
          "name": "stdout",
          "text": [
            "1/1 [==============================] - 0s 22ms/step\n"
          ]
        },
        {
          "output_type": "stream",
          "name": "stderr",
          "text": [
            "96it [00:16,  5.67it/s]\n"
          ]
        }
      ]
    },
    {
      "cell_type": "code",
      "execution_count": 19,
      "metadata": {
        "id": "lvBEcrXCsY8V"
      },
      "outputs": [],
      "source": [
        "# test_ds_unbatched = test_batches.unbatch()\n",
        "\n",
        "# pred_path = os.path.join(PRED_PATH, EXP_NAME, timestamp)\n",
        "# if not os.path.exists(pred_path):\n",
        "#     os.makedirs(pred_path)\n",
        "\n",
        "# metrics = pd.DataFrame()\n",
        "\n",
        "# for idx, (input, target) in enumerate(tqdm(test_ds_unbatched)):\n",
        "\n",
        "#     target = tf.squeeze(target).numpy()\n",
        "#     prediction = tf.squeeze(\n",
        "#         model.predict(\n",
        "#             tf.expand_dims(input, axis=0)\n",
        "#         )\n",
        "#     )\n",
        "\n",
        "#     channel_sum = tf.expand_dims(tf.reduce_sum(target, axis=-1), axis=-1)\n",
        "#     white_mask = tf.reduce_all(tf.equal(channel_sum, 3.0), axis=-1)\n",
        "#     expanded_mask = tf.expand_dims(white_mask, axis=-1)\n",
        "#     expanded_mask = tf.tile(expanded_mask, [1, 1, 3])\n",
        "#     prediction = tf.where(expanded_mask, tf.ones_like(prediction), prediction)\n",
        "\n",
        "#     plt.figure(figsize=(7, 14))\n",
        "#     plt.subplot(2, 1, 1)\n",
        "#     plt.imshow(target)\n",
        "#     plt.axis(\"off\")\n",
        "#     plt.tight_layout()\n",
        "\n",
        "#     plt.subplot(2, 1, 2)\n",
        "#     plt.imshow(prediction)\n",
        "#     plt.axis(\"off\")\n",
        "#     plt.tight_layout()\n",
        "#     plt.savefig(os.path.join(pred_path, f\"{idx}.png\"))\n",
        "#     plt.close()\n"
      ]
    },
    {
      "cell_type": "markdown",
      "metadata": {
        "id": "7X8uip-GsY8V"
      },
      "source": [
        "# Loss Curve"
      ]
    },
    {
      "cell_type": "code",
      "execution_count": 20,
      "metadata": {
        "id": "uSb9pzrasY8W"
      },
      "outputs": [],
      "source": [
        "try:\n",
        "    loss = history.history['loss']\n",
        "    val_loss = history.history['val_loss']\n",
        "\n",
        "    plt.figure(figsize=(8, 6))\n",
        "    plt.plot(loss, label='Training Loss')\n",
        "    plt.plot(val_loss, label='Validation Loss')\n",
        "    plt.legend(loc='upper right')\n",
        "    plt.ylabel('Attention MAE')\n",
        "    plt.title('Training and Validation Loss')\n",
        "    plt.xlabel('Epoch')\n",
        "    plt.tight_layout()\n",
        "    plt.savefig(os.path.join(model_path, timestamp + \".png\"))\n",
        "    plt.close()\n",
        "except:\n",
        "    print(\"Model did not finish training\")\n"
      ]
    },
    {
      "cell_type": "markdown",
      "metadata": {
        "id": "1hMNNE0VsY8W"
      },
      "source": [
        "# Metrics"
      ]
    },
    {
      "cell_type": "code",
      "execution_count": 21,
      "metadata": {
        "id": "QGXSmlicsY8W",
        "outputId": "a0ccfc83-32de-48d5-84f0-95137181c5a9",
        "colab": {
          "base_uri": "https://localhost:8080/"
        }
      },
      "outputs": [
        {
          "output_type": "stream",
          "name": "stdout",
          "text": [
            "6/6 [==============================] - 1s 164ms/step - loss: 0.0107 - attention_mae: 0.0552\n"
          ]
        },
        {
          "output_type": "execute_result",
          "data": {
            "text/plain": [
              "[0.010710776783525944, 0.0552198700606823]"
            ]
          },
          "metadata": {},
          "execution_count": 21
        }
      ],
      "source": [
        "model.evaluate(test_batches)\n"
      ]
    }
  ],
  "metadata": {
    "kernelspec": {
      "display_name": "Python 3",
      "name": "python3"
    },
    "language_info": {
      "codemirror_mode": {
        "name": "ipython",
        "version": 3
      },
      "file_extension": ".py",
      "mimetype": "text/x-python",
      "name": "python",
      "nbconvert_exporter": "python",
      "pygments_lexer": "ipython3",
      "version": "3.10.9"
    },
    "orig_nbformat": 4,
    "colab": {
      "provenance": [],
      "gpuType": "T4",
      "include_colab_link": true
    },
    "accelerator": "GPU"
  },
  "nbformat": 4,
  "nbformat_minor": 0
}