{
  "cells": [
    {
      "cell_type": "markdown",
      "metadata": {
        "id": "view-in-github",
        "colab_type": "text"
      },
      "source": [
        "<a href=\"https://colab.research.google.com/github/atick-faisal/MultiViewUNet-TAVI/blob/main/src/training/MultiViewUNetColab.ipynb\" target=\"_parent\"><img src=\"https://colab.research.google.com/assets/colab-badge.svg\" alt=\"Open In Colab\"/></a>"
      ]
    },
    {
      "cell_type": "markdown",
      "metadata": {
        "id": "0BWh-7swsY8G"
      },
      "source": [
        "# Colab Info"
      ]
    },
    {
      "cell_type": "code",
      "execution_count": 1,
      "metadata": {
        "id": "qKSzwmmpsY8K",
        "outputId": "5ab3482a-0d56-4ce3-d4fc-a918289fa489",
        "colab": {
          "base_uri": "https://localhost:8080/"
        }
      },
      "outputs": [
        {
          "output_type": "stream",
          "name": "stdout",
          "text": [
            "Mon Nov 20 16:13:00 2023       \n",
            "+-----------------------------------------------------------------------------+\n",
            "| NVIDIA-SMI 525.105.17   Driver Version: 525.105.17   CUDA Version: 12.0     |\n",
            "|-------------------------------+----------------------+----------------------+\n",
            "| GPU  Name        Persistence-M| Bus-Id        Disp.A | Volatile Uncorr. ECC |\n",
            "| Fan  Temp  Perf  Pwr:Usage/Cap|         Memory-Usage | GPU-Util  Compute M. |\n",
            "|                               |                      |               MIG M. |\n",
            "|===============================+======================+======================|\n",
            "|   0  Tesla T4            Off  | 00000000:00:04.0 Off |                    0 |\n",
            "| N/A   51C    P8    10W /  70W |      0MiB / 15360MiB |      0%      Default |\n",
            "|                               |                      |                  N/A |\n",
            "+-------------------------------+----------------------+----------------------+\n",
            "                                                                               \n",
            "+-----------------------------------------------------------------------------+\n",
            "| Processes:                                                                  |\n",
            "|  GPU   GI   CI        PID   Type   Process name                  GPU Memory |\n",
            "|        ID   ID                                                   Usage      |\n",
            "|=============================================================================|\n",
            "|  No running processes found                                                 |\n",
            "+-----------------------------------------------------------------------------+\n",
            "Your runtime has 13.6 gigabytes of available RAM\n",
            "\n",
            "Not using a high-RAM runtime\n"
          ]
        }
      ],
      "source": [
        "from psutil import virtual_memory\n",
        "\n",
        "gpu_info = !nvidia-smi\n",
        "gpu_info = '\\n'.join(gpu_info)\n",
        "if gpu_info.find('failed') >= 0:\n",
        "    print('Not connected to a GPU')\n",
        "else:\n",
        "    print(gpu_info)\n",
        "\n",
        "\n",
        "ram_gb = virtual_memory().total / 1e9\n",
        "print('Your runtime has {:.1f} gigabytes of available RAM\\n'.format(ram_gb))\n",
        "\n",
        "if ram_gb < 20:\n",
        "    print('Not using a high-RAM runtime')\n",
        "else:\n",
        "    print('You are using a high-RAM runtime!')\n"
      ]
    },
    {
      "cell_type": "markdown",
      "metadata": {
        "id": "1k2olxt7sY8M"
      },
      "source": [
        "# Fix for GDrive"
      ]
    },
    {
      "cell_type": "code",
      "execution_count": 2,
      "metadata": {
        "id": "WR_aYJ7WsY8M"
      },
      "outputs": [],
      "source": [
        "!pip install -U --no-cache-dir gdown --pre > /dev/null\n"
      ]
    },
    {
      "cell_type": "markdown",
      "source": [
        "# Mount GDrive"
      ],
      "metadata": {
        "id": "jm5cGHp0tGvo"
      }
    },
    {
      "cell_type": "code",
      "source": [
        "from google.colab import drive\n",
        "drive.mount('/content/drive')\n"
      ],
      "metadata": {
        "id": "0hZ7iR0AtJYj",
        "outputId": "a3c9aa8e-7283-4cfa-efcf-65df59e250f3",
        "colab": {
          "base_uri": "https://localhost:8080/"
        }
      },
      "execution_count": 3,
      "outputs": [
        {
          "output_type": "stream",
          "name": "stdout",
          "text": [
            "Mounted at /content/drive\n"
          ]
        }
      ]
    },
    {
      "cell_type": "markdown",
      "metadata": {
        "id": "ZjzwtNU2sY8M"
      },
      "source": [
        "# Download and Extract Dataset"
      ]
    },
    {
      "cell_type": "code",
      "execution_count": 11,
      "metadata": {
        "id": "9RSDCIWlsY8N",
        "outputId": "7087dce9-4e17-4d01-a78e-9f4ff84d70c7",
        "colab": {
          "base_uri": "https://localhost:8080/"
        }
      },
      "outputs": [
        {
          "output_type": "stream",
          "name": "stdout",
          "text": [
            "Downloading...\n",
            "From (uriginal): https://drive.google.com/uc?id=1xBO079FPIeE7T5VVsFwc8QeZxAfS4J9O\n",
            "From (redirected): https://drive.google.com/uc?id=1xBO079FPIeE7T5VVsFwc8QeZxAfS4J9O&confirm=t&uuid=daacd8ec-e5cd-47f4-ae3d-3147ded9e601\n",
            "To: /content/TAVI_REG_r17.zip\n",
            "100% 370M/370M [00:03<00:00, 93.0MB/s]\n"
          ]
        }
      ],
      "source": [
        "!gdown \"1xBO079FPIeE7T5VVsFwc8QeZxAfS4J9O\"\n",
        "!unzip -o \"TAVI_REG_r17.zip\" > /dev/null\n"
      ]
    },
    {
      "cell_type": "markdown",
      "metadata": {
        "id": "yFAlpIdMsY8N"
      },
      "source": [
        "# Imports"
      ]
    },
    {
      "cell_type": "code",
      "execution_count": 12,
      "metadata": {
        "id": "xiEKM9gZsY8N"
      },
      "outputs": [],
      "source": [
        "import os\n",
        "import datetime\n",
        "import matplotlib\n",
        "import pandas as pd\n",
        "import tensorflow as tf\n",
        "import matplotlib.pyplot as plt\n",
        "\n",
        "from tqdm import tqdm\n",
        "\n",
        "matplotlib.use('Agg')\n",
        "plt.rcParams[\"font.size\"] = 16"
      ]
    },
    {
      "cell_type": "markdown",
      "metadata": {
        "id": "OCaqjLQYsY8O"
      },
      "source": [
        "# Config"
      ]
    },
    {
      "cell_type": "code",
      "execution_count": 13,
      "metadata": {
        "id": "Qby7HsHhsY8O"
      },
      "outputs": [],
      "source": [
        "PROBLEM = \"Curvature_2_Pressure\"\n",
        "\n",
        "MODEL_NAME = \"MultiViewUNet\"\n",
        "DATASET_PATH = \"/content/Images/\"\n",
        "TRAIN_DIR = \"Train/\"\n",
        "TEST_DIR = \"Test/\"\n",
        "INPUT_DIR = PROBLEM.split(\"_2_\")[0]\n",
        "TARGET_DIR = PROBLEM.split(\"_2_\")[1]\n",
        "MODEL_PATH = \"/content/drive/MyDrive/Research/TAVI/Models/\"\n",
        "PRED_PATH = \"/content/drive/MyDrive/Research/TAVI/Predictions/\"\n",
        "IMG_SIZE = 256\n",
        "BATCH_SIZE = 16\n",
        "BUFFER_SIZE = 1000\n",
        "VAL_SPLIT = 0.2\n",
        "LEARNING_RATE = 0.001\n",
        "N_EPOCHS = 300\n",
        "PATIENCE = 30\n",
        "\n",
        "EXP_NAME = f\"{PROBLEM}_{MODEL_NAME}_I{IMG_SIZE}_B{BATCH_SIZE}_LR{LEARNING_RATE}\"\n"
      ]
    },
    {
      "cell_type": "markdown",
      "metadata": {
        "id": "vnnlcTjjsY8O"
      },
      "source": [
        "# Architecture"
      ]
    },
    {
      "cell_type": "code",
      "execution_count": 14,
      "metadata": {
        "id": "QQWORDDysY8P"
      },
      "outputs": [],
      "source": [
        "class UNet:\n",
        "    def __init__(\n",
        "        self,\n",
        "        img_size: int,\n",
        "        n_channels: int = 3,\n",
        "        width: int = 32,\n",
        "        depth: int = 4,\n",
        "        kernel_size: int = 3\n",
        "    ):\n",
        "        self.img_size = img_size\n",
        "        self.n_channels = n_channels\n",
        "        self.width = width\n",
        "        self.depth = depth\n",
        "        self.kernel_size = kernel_size\n",
        "\n",
        "    @staticmethod\n",
        "    def conv(\n",
        "        x: tf.Tensor,\n",
        "        filters: int,\n",
        "        kernel_size: int\n",
        "    ) -> tf.Tensor:\n",
        "        for i in range(2):\n",
        "            x = tf.keras.layers.Conv2D(\n",
        "                filters=filters,\n",
        "                kernel_size=kernel_size,\n",
        "                strides=1,\n",
        "                padding=\"same\",\n",
        "                data_format=\"channels_last\",\n",
        "                dilation_rate=1,\n",
        "                groups=1,\n",
        "                activation=None,\n",
        "                use_bias=True,\n",
        "                kernel_initializer=\"glorot_uniform\",\n",
        "                bias_initializer=\"zeros\",\n",
        "            )(x)\n",
        "\n",
        "            x = tf.keras.layers.BatchNormalization()(x)\n",
        "            x = tf.keras.layers.Activation(\"relu\")(x)\n",
        "\n",
        "        return x\n",
        "\n",
        "    @staticmethod\n",
        "    def deconv(x: tf.Tensor, filters: int) -> tf.Tensor:\n",
        "        x = tf.keras.layers.Conv2DTranspose(\n",
        "            filters=filters,\n",
        "            kernel_size=2,\n",
        "            strides=2,\n",
        "            padding=\"same\",\n",
        "            output_padding=None,\n",
        "            data_format=None,\n",
        "            dilation_rate=1,\n",
        "            activation=None,\n",
        "            use_bias=True,\n",
        "            kernel_initializer=\"glorot_uniform\",\n",
        "            bias_initializer=\"zeros\",\n",
        "        )(x)\n",
        "\n",
        "        x = tf.keras.layers.BatchNormalization()(x)\n",
        "        x = tf.keras.layers.Activation(\"relu\")(x)\n",
        "\n",
        "        return x\n",
        "\n",
        "    @staticmethod\n",
        "    def output(x: tf.Tensor) -> tf.Tensor:\n",
        "        return tf.keras.layers.Conv2D(3, (1, 1), activation=\"sigmoid\")(x)\n",
        "\n",
        "    @staticmethod\n",
        "    def pool(x: tf.Tensor, pool_size: int = 2) -> tf.Tensor:\n",
        "        return tf.keras.layers.MaxPool2D(pool_size)(x)\n",
        "\n",
        "    @staticmethod\n",
        "    def dropout(x: tf.Tensor, amount: float = 0.5) -> tf.Tensor:\n",
        "        return tf.keras.layers.Dropout(amount)(x)\n",
        "\n",
        "    def __call__(self) -> tf.keras.Model:\n",
        "        inputs = tf.keras.layers.Input(\n",
        "            shape=(self.img_size, self.img_size, self.n_channels)\n",
        "        )\n",
        "\n",
        "        # scaled = tf.keras.layers.Rescaling(1./255.0, offset=0)(inputs)\n",
        "\n",
        "        # ------------------ Downsampling ---------------------\n",
        "        downsample_layers = []\n",
        "        downsample_layers.append(\n",
        "            self.conv(\n",
        "                x=inputs,\n",
        "                filters=self.width,\n",
        "                kernel_size=self.kernel_size\n",
        "            )\n",
        "        )\n",
        "        for i in range(1, self.depth):\n",
        "            dropout_amount = 0.2 if i == 1 else 0.5\n",
        "            filters = int((2 ** i) * self.width)\n",
        "            downsample_layers.append(\n",
        "                self.dropout(\n",
        "                    self.pool(\n",
        "                        self.conv(\n",
        "                            x=downsample_layers[i - 1],\n",
        "                            filters=filters,\n",
        "                            kernel_size=self.kernel_size\n",
        "                        )\n",
        "                    ),\n",
        "                    amount=dropout_amount\n",
        "                )\n",
        "            )\n",
        "\n",
        "        # ------------------- Features --------------------\n",
        "        n_features = int((2 ** self.depth) * self.width)\n",
        "        self.features = self.pool(\n",
        "            self.conv(\n",
        "                x=downsample_layers[-1],\n",
        "                filters=n_features,\n",
        "                kernel_size=self.kernel_size\n",
        "            )\n",
        "        )\n",
        "\n",
        "        # ------------------- Upsampling --------------------\n",
        "        upsample_layers = []\n",
        "        upsample_layers.append(self.features)\n",
        "        for i in range(1, self.depth + 1):\n",
        "            filters = int((2 ** (self.depth - i)) * self.width)\n",
        "            upsample_layers.append(\n",
        "                self.conv(\n",
        "                    x=self.dropout(\n",
        "                        tf.keras.layers.concatenate([\n",
        "                            downsample_layers[self.depth - i],\n",
        "                            self.deconv(\n",
        "                                x=upsample_layers[i - 1],\n",
        "                                filters=filters\n",
        "                            )\n",
        "                        ])\n",
        "                    ),\n",
        "                    filters=filters,\n",
        "                    kernel_size=self.kernel_size\n",
        "                )\n",
        "            )\n",
        "\n",
        "        # ---------------------- Output -----------------------\n",
        "        outputs = self.output(upsample_layers[-1])\n",
        "\n",
        "        return tf.keras.Model(inputs, outputs)\n"
      ]
    },
    {
      "cell_type": "markdown",
      "metadata": {
        "id": "3wNu29ilsY8Q"
      },
      "source": [
        "# Loss Functions / Metrics"
      ]
    },
    {
      "cell_type": "code",
      "execution_count": 15,
      "metadata": {
        "id": "EScLEIVTsY8R"
      },
      "outputs": [],
      "source": [
        "def attention_mse(y_true, y_pred):\n",
        "    _y_true = y_true[y_true != 1.0]\n",
        "    _y_pred = y_pred[y_true != 1.0]\n",
        "    squared_difference = tf.square(_y_true - _y_pred)\n",
        "    return tf.reduce_mean(squared_difference, axis=-1)\n",
        "\n",
        "\n",
        "def attention_mae(y_true, y_pred):\n",
        "    _y_true = y_true[y_true != 1.0]\n",
        "    _y_pred = y_pred[y_true != 1.0]\n",
        "    squared_difference = tf.abs(_y_true - _y_pred)\n",
        "    return tf.reduce_mean(squared_difference, axis=-1)\n"
      ]
    },
    {
      "cell_type": "markdown",
      "metadata": {
        "id": "UcGPtUeasY8R"
      },
      "source": [
        "# DataLoader"
      ]
    },
    {
      "cell_type": "code",
      "execution_count": 16,
      "metadata": {
        "id": "wEWrDHWDsY8R"
      },
      "outputs": [],
      "source": [
        "def load_data_from_dir(path: str) -> tf.data.Dataset:\n",
        "    return tf.keras.utils.image_dataset_from_directory(\n",
        "        directory=path,\n",
        "        labels=None,\n",
        "        color_mode='rgb',\n",
        "        batch_size=BATCH_SIZE,\n",
        "        image_size=(IMG_SIZE, IMG_SIZE),\n",
        "        shuffle=False,\n",
        "        seed=42,\n",
        "        interpolation='bilinear',\n",
        "        follow_links=False,\n",
        "        crop_to_aspect_ratio=False\n",
        "    )\n"
      ]
    },
    {
      "cell_type": "markdown",
      "metadata": {
        "id": "iHl8FzWEsY8R"
      },
      "source": [
        "# Load Dataset"
      ]
    },
    {
      "cell_type": "code",
      "execution_count": 17,
      "metadata": {
        "id": "_N_9KDvNsY8S",
        "colab": {
          "base_uri": "https://localhost:8080/"
        },
        "outputId": "dda153c5-cf95-42e6-a216-f6788b7b7032"
      },
      "outputs": [
        {
          "output_type": "stream",
          "name": "stdout",
          "text": [
            "Found 432 files belonging to 1 classes.\n",
            "Found 432 files belonging to 1 classes.\n",
            "Found 96 files belonging to 1 classes.\n",
            "Found 96 files belonging to 1 classes.\n",
            "(TensorSpec(shape=(None, 256, 256, 3), dtype=tf.float32, name=None), TensorSpec(shape=(None, 256, 256, 3), dtype=tf.float32, name=None))\n",
            "(TensorSpec(shape=(None, 256, 256, 3), dtype=tf.float32, name=None), TensorSpec(shape=(None, 256, 256, 3), dtype=tf.float32, name=None))\n"
          ]
        }
      ],
      "source": [
        "trainX = load_data_from_dir(os.path.join(DATASET_PATH, TRAIN_DIR, INPUT_DIR))\n",
        "trainY = load_data_from_dir(os.path.join(DATASET_PATH, TRAIN_DIR, TARGET_DIR))\n",
        "testX = load_data_from_dir(os.path.join(DATASET_PATH, TEST_DIR, INPUT_DIR))\n",
        "testY = load_data_from_dir(os.path.join(DATASET_PATH, TEST_DIR, TARGET_DIR))\n",
        "\n",
        "train_ds = tf.data.Dataset.zip((trainX, trainY))\n",
        "test_ds = tf.data.Dataset.zip((testX, testY))\n",
        "\n",
        "print(train_ds.element_spec)\n",
        "print(test_ds.element_spec)\n"
      ]
    },
    {
      "cell_type": "markdown",
      "metadata": {
        "id": "siGY2orosY8S"
      },
      "source": [
        "# Normalization"
      ]
    },
    {
      "cell_type": "code",
      "execution_count": 18,
      "metadata": {
        "id": "iEVMVJIusY8S"
      },
      "outputs": [],
      "source": [
        "normalization_layer = tf.keras.layers.Rescaling(1./255)\n",
        "train_ds = train_ds.map(lambda x, y: (\n",
        "    normalization_layer(x), normalization_layer(y)))\n",
        "test_ds = test_ds.map(lambda x, y: (\n",
        "    normalization_layer(x), normalization_layer(y)))\n"
      ]
    },
    {
      "cell_type": "markdown",
      "metadata": {
        "id": "N0gpJ04WsY8T"
      },
      "source": [
        "# Augmentation"
      ]
    },
    {
      "cell_type": "code",
      "execution_count": 19,
      "metadata": {
        "id": "71pw2HYCsY8T"
      },
      "outputs": [],
      "source": [
        "class Augment(tf.keras.layers.Layer):\n",
        "    def __init__(self, seed=42):\n",
        "        super().__init__()\n",
        "        # both use the same seed, so they'll make the same random changes.\n",
        "        self.augment_inputs = tf.keras.layers.RandomZoom(\n",
        "            (-0.1, -0.7), seed=seed)\n",
        "        self.augment_labels = tf.keras.layers.RandomZoom(\n",
        "            (-0.1, -0.7), seed=seed)\n",
        "\n",
        "    def call(self, inputs, labels):\n",
        "        inputs = self.augment_inputs(inputs)\n",
        "        labels = self.augment_labels(labels)\n",
        "        return inputs, labels\n"
      ]
    },
    {
      "cell_type": "markdown",
      "metadata": {
        "id": "mymNUKessY8T"
      },
      "source": [
        "# Optimization"
      ]
    },
    {
      "cell_type": "code",
      "execution_count": 20,
      "metadata": {
        "id": "OFxFklYZsY8T"
      },
      "outputs": [],
      "source": [
        "AUTOTUNE = tf.data.AUTOTUNE\n",
        "\n",
        "train_batches = (\n",
        "    train_ds\n",
        "    .cache()\n",
        "    .shuffle(BUFFER_SIZE)\n",
        "    .prefetch(buffer_size=AUTOTUNE)\n",
        ")\n",
        "\n",
        "test_batches = (\n",
        "    test_ds\n",
        "    .cache()\n",
        "    .prefetch(buffer_size=AUTOTUNE)\n",
        ")\n"
      ]
    },
    {
      "cell_type": "markdown",
      "metadata": {
        "id": "j6ilqDbnsY8U"
      },
      "source": [
        "# Training Config"
      ]
    },
    {
      "cell_type": "code",
      "execution_count": 21,
      "metadata": {
        "id": "WlY6S1B6sY8U"
      },
      "outputs": [],
      "source": [
        "model_path = os.path.join(MODEL_PATH, EXP_NAME)\n",
        "\n",
        "callbacks = [\n",
        "    tf.keras.callbacks.EarlyStopping(\n",
        "        monitor=\"val_loss\",\n",
        "        patience=PATIENCE,\n",
        "        restore_best_weights=True\n",
        "    ),\n",
        "    tf.keras.callbacks.ModelCheckpoint(\n",
        "        model_path,\n",
        "        monitor='val_loss',\n",
        "        verbose=1,\n",
        "        save_best_only=True,\n",
        "        save_weights_only=True\n",
        "    )\n",
        "]\n",
        "\n",
        "optimizer = tf.keras.optimizers.Adam(\n",
        "    learning_rate=LEARNING_RATE\n",
        ")\n",
        "\n",
        "model = UNet(IMG_SIZE)()\n",
        "\n",
        "model.compile(\n",
        "    loss=attention_mse,\n",
        "    optimizer=optimizer,\n",
        "    metrics=[attention_mae]\n",
        ")\n",
        "\n",
        "# try:\n",
        "#     model.load_weights(model_path)\n",
        "# except:\n",
        "#     print(\"Checkpoint not found\")\n",
        "#     pass\n"
      ]
    },
    {
      "cell_type": "markdown",
      "metadata": {
        "id": "zmjFkIYNsY8U"
      },
      "source": [
        "# Training"
      ]
    },
    {
      "cell_type": "code",
      "execution_count": null,
      "metadata": {
        "id": "Nd0e5sXtsY8U",
        "outputId": "aaee5190-73d2-47e6-9ddc-d59aa8788c93",
        "colab": {
          "base_uri": "https://localhost:8080/"
        }
      },
      "outputs": [
        {
          "output_type": "stream",
          "name": "stdout",
          "text": [
            "Epoch 1/300\n",
            "27/27 [==============================] - ETA: 0s - loss: 0.0257 - attention_mae: 0.1107\n",
            "Epoch 1: val_loss improved from inf to 0.15378, saving model to /content/drive/MyDrive/Research/TAVI/Models/Curvature_2_Pressure_MultiViewUNet_I256_B16_LR0.001\n",
            "27/27 [==============================] - 68s 974ms/step - loss: 0.0257 - attention_mae: 0.1107 - val_loss: 0.1538 - val_attention_mae: 0.3478\n",
            "Epoch 2/300\n",
            "27/27 [==============================] - ETA: 0s - loss: 0.0127 - attention_mae: 0.0729\n",
            "Epoch 2: val_loss improved from 0.15378 to 0.11644, saving model to /content/drive/MyDrive/Research/TAVI/Models/Curvature_2_Pressure_MultiViewUNet_I256_B16_LR0.001\n",
            "27/27 [==============================] - 23s 855ms/step - loss: 0.0127 - attention_mae: 0.0729 - val_loss: 0.1164 - val_attention_mae: 0.2799\n",
            "Epoch 3/300\n",
            "27/27 [==============================] - ETA: 0s - loss: 0.0113 - attention_mae: 0.0642\n",
            "Epoch 3: val_loss improved from 0.11644 to 0.05531, saving model to /content/drive/MyDrive/Research/TAVI/Models/Curvature_2_Pressure_MultiViewUNet_I256_B16_LR0.001\n",
            "27/27 [==============================] - 24s 896ms/step - loss: 0.0113 - attention_mae: 0.0642 - val_loss: 0.0553 - val_attention_mae: 0.1776\n",
            "Epoch 4/300\n",
            "27/27 [==============================] - ETA: 0s - loss: 0.0106 - attention_mae: 0.0602\n",
            "Epoch 4: val_loss improved from 0.05531 to 0.03670, saving model to /content/drive/MyDrive/Research/TAVI/Models/Curvature_2_Pressure_MultiViewUNet_I256_B16_LR0.001\n",
            "27/27 [==============================] - 23s 872ms/step - loss: 0.0106 - attention_mae: 0.0602 - val_loss: 0.0367 - val_attention_mae: 0.1377\n",
            "Epoch 5/300\n",
            "27/27 [==============================] - ETA: 0s - loss: 0.0102 - attention_mae: 0.0580\n",
            "Epoch 5: val_loss improved from 0.03670 to 0.03180, saving model to /content/drive/MyDrive/Research/TAVI/Models/Curvature_2_Pressure_MultiViewUNet_I256_B16_LR0.001\n",
            "27/27 [==============================] - 24s 881ms/step - loss: 0.0102 - attention_mae: 0.0580 - val_loss: 0.0318 - val_attention_mae: 0.1215\n",
            "Epoch 6/300\n",
            "27/27 [==============================] - ETA: 0s - loss: 0.0097 - attention_mae: 0.0550\n",
            "Epoch 6: val_loss improved from 0.03180 to 0.02969, saving model to /content/drive/MyDrive/Research/TAVI/Models/Curvature_2_Pressure_MultiViewUNet_I256_B16_LR0.001\n",
            "27/27 [==============================] - 24s 889ms/step - loss: 0.0097 - attention_mae: 0.0550 - val_loss: 0.0297 - val_attention_mae: 0.1165\n",
            "Epoch 7/300\n",
            "27/27 [==============================] - ETA: 0s - loss: 0.0091 - attention_mae: 0.0528\n",
            "Epoch 7: val_loss improved from 0.02969 to 0.02636, saving model to /content/drive/MyDrive/Research/TAVI/Models/Curvature_2_Pressure_MultiViewUNet_I256_B16_LR0.001\n",
            "27/27 [==============================] - 24s 883ms/step - loss: 0.0091 - attention_mae: 0.0528 - val_loss: 0.0264 - val_attention_mae: 0.1077\n",
            "Epoch 8/300\n",
            "27/27 [==============================] - ETA: 0s - loss: 0.0088 - attention_mae: 0.0519\n",
            "Epoch 8: val_loss improved from 0.02636 to 0.02303, saving model to /content/drive/MyDrive/Research/TAVI/Models/Curvature_2_Pressure_MultiViewUNet_I256_B16_LR0.001\n",
            "27/27 [==============================] - 24s 884ms/step - loss: 0.0088 - attention_mae: 0.0519 - val_loss: 0.0230 - val_attention_mae: 0.0978\n",
            "Epoch 9/300\n",
            "27/27 [==============================] - ETA: 0s - loss: 0.0086 - attention_mae: 0.0501\n",
            "Epoch 9: val_loss improved from 0.02303 to 0.02220, saving model to /content/drive/MyDrive/Research/TAVI/Models/Curvature_2_Pressure_MultiViewUNet_I256_B16_LR0.001\n",
            "27/27 [==============================] - 24s 888ms/step - loss: 0.0086 - attention_mae: 0.0501 - val_loss: 0.0222 - val_attention_mae: 0.0904\n",
            "Epoch 10/300\n",
            "27/27 [==============================] - ETA: 0s - loss: 0.0083 - attention_mae: 0.0490\n",
            "Epoch 10: val_loss improved from 0.02220 to 0.01835, saving model to /content/drive/MyDrive/Research/TAVI/Models/Curvature_2_Pressure_MultiViewUNet_I256_B16_LR0.001\n",
            "27/27 [==============================] - 23s 865ms/step - loss: 0.0083 - attention_mae: 0.0490 - val_loss: 0.0184 - val_attention_mae: 0.0788\n",
            "Epoch 11/300\n",
            "27/27 [==============================] - ETA: 0s - loss: 0.0079 - attention_mae: 0.0477\n",
            "Epoch 11: val_loss did not improve from 0.01835\n",
            "27/27 [==============================] - 23s 853ms/step - loss: 0.0079 - attention_mae: 0.0477 - val_loss: 0.0186 - val_attention_mae: 0.0761\n",
            "Epoch 12/300\n",
            "27/27 [==============================] - ETA: 0s - loss: 0.0078 - attention_mae: 0.0464\n",
            "Epoch 12: val_loss improved from 0.01835 to 0.01551, saving model to /content/drive/MyDrive/Research/TAVI/Models/Curvature_2_Pressure_MultiViewUNet_I256_B16_LR0.001\n",
            "27/27 [==============================] - 23s 872ms/step - loss: 0.0078 - attention_mae: 0.0464 - val_loss: 0.0155 - val_attention_mae: 0.0686\n",
            "Epoch 13/300\n",
            "27/27 [==============================] - ETA: 0s - loss: 0.0079 - attention_mae: 0.0463\n",
            "Epoch 13: val_loss did not improve from 0.01551\n",
            "27/27 [==============================] - 23s 849ms/step - loss: 0.0079 - attention_mae: 0.0463 - val_loss: 0.0160 - val_attention_mae: 0.0821\n",
            "Epoch 14/300\n",
            "27/27 [==============================] - ETA: 0s - loss: 0.0076 - attention_mae: 0.0457\n",
            "Epoch 14: val_loss improved from 0.01551 to 0.01222, saving model to /content/drive/MyDrive/Research/TAVI/Models/Curvature_2_Pressure_MultiViewUNet_I256_B16_LR0.001\n",
            "27/27 [==============================] - 24s 880ms/step - loss: 0.0076 - attention_mae: 0.0457 - val_loss: 0.0122 - val_attention_mae: 0.0601\n",
            "Epoch 15/300\n",
            "27/27 [==============================] - ETA: 0s - loss: 0.0076 - attention_mae: 0.0447\n",
            "Epoch 15: val_loss did not improve from 0.01222\n",
            "27/27 [==============================] - 23s 846ms/step - loss: 0.0076 - attention_mae: 0.0447 - val_loss: 0.0136 - val_attention_mae: 0.0694\n",
            "Epoch 16/300\n",
            "27/27 [==============================] - ETA: 0s - loss: 0.0074 - attention_mae: 0.0452\n",
            "Epoch 16: val_loss improved from 0.01222 to 0.00938, saving model to /content/drive/MyDrive/Research/TAVI/Models/Curvature_2_Pressure_MultiViewUNet_I256_B16_LR0.001\n",
            "27/27 [==============================] - 24s 905ms/step - loss: 0.0074 - attention_mae: 0.0452 - val_loss: 0.0094 - val_attention_mae: 0.0486\n",
            "Epoch 17/300\n",
            "27/27 [==============================] - ETA: 0s - loss: 0.0072 - attention_mae: 0.0433\n",
            "Epoch 17: val_loss improved from 0.00938 to 0.00886, saving model to /content/drive/MyDrive/Research/TAVI/Models/Curvature_2_Pressure_MultiViewUNet_I256_B16_LR0.001\n",
            "27/27 [==============================] - 23s 870ms/step - loss: 0.0072 - attention_mae: 0.0433 - val_loss: 0.0089 - val_attention_mae: 0.0474\n",
            "Epoch 18/300\n",
            "27/27 [==============================] - ETA: 0s - loss: 0.0070 - attention_mae: 0.0428\n",
            "Epoch 18: val_loss improved from 0.00886 to 0.00817, saving model to /content/drive/MyDrive/Research/TAVI/Models/Curvature_2_Pressure_MultiViewUNet_I256_B16_LR0.001\n",
            "27/27 [==============================] - 24s 875ms/step - loss: 0.0070 - attention_mae: 0.0428 - val_loss: 0.0082 - val_attention_mae: 0.0488\n",
            "Epoch 19/300\n",
            "27/27 [==============================] - ETA: 0s - loss: 0.0069 - attention_mae: 0.0416\n",
            "Epoch 19: val_loss improved from 0.00817 to 0.00785, saving model to /content/drive/MyDrive/Research/TAVI/Models/Curvature_2_Pressure_MultiViewUNet_I256_B16_LR0.001\n",
            "27/27 [==============================] - 25s 911ms/step - loss: 0.0069 - attention_mae: 0.0416 - val_loss: 0.0079 - val_attention_mae: 0.0410\n",
            "Epoch 20/300\n",
            "27/27 [==============================] - ETA: 0s - loss: 0.0069 - attention_mae: 0.0417\n",
            "Epoch 20: val_loss did not improve from 0.00785\n",
            "27/27 [==============================] - 23s 842ms/step - loss: 0.0069 - attention_mae: 0.0417 - val_loss: 0.0079 - val_attention_mae: 0.0390\n",
            "Epoch 21/300\n",
            "27/27 [==============================] - ETA: 0s - loss: 0.0068 - attention_mae: 0.0424\n",
            "Epoch 21: val_loss improved from 0.00785 to 0.00673, saving model to /content/drive/MyDrive/Research/TAVI/Models/Curvature_2_Pressure_MultiViewUNet_I256_B16_LR0.001\n",
            "27/27 [==============================] - 25s 913ms/step - loss: 0.0068 - attention_mae: 0.0424 - val_loss: 0.0067 - val_attention_mae: 0.0391\n",
            "Epoch 22/300\n",
            "27/27 [==============================] - ETA: 0s - loss: 0.0068 - attention_mae: 0.0409\n",
            "Epoch 22: val_loss did not improve from 0.00673\n",
            "27/27 [==============================] - 23s 849ms/step - loss: 0.0068 - attention_mae: 0.0409 - val_loss: 0.0090 - val_attention_mae: 0.0542\n",
            "Epoch 23/300\n",
            "27/27 [==============================] - ETA: 0s - loss: 0.0067 - attention_mae: 0.0413\n",
            "Epoch 23: val_loss improved from 0.00673 to 0.00655, saving model to /content/drive/MyDrive/Research/TAVI/Models/Curvature_2_Pressure_MultiViewUNet_I256_B16_LR0.001\n",
            "27/27 [==============================] - 24s 880ms/step - loss: 0.0067 - attention_mae: 0.0413 - val_loss: 0.0066 - val_attention_mae: 0.0388\n",
            "Epoch 24/300\n",
            "27/27 [==============================] - ETA: 0s - loss: 0.0065 - attention_mae: 0.0400\n",
            "Epoch 24: val_loss did not improve from 0.00655\n",
            "27/27 [==============================] - 23s 848ms/step - loss: 0.0065 - attention_mae: 0.0400 - val_loss: 0.0071 - val_attention_mae: 0.0373\n",
            "Epoch 25/300\n",
            "27/27 [==============================] - ETA: 0s - loss: 0.0064 - attention_mae: 0.0396\n",
            "Epoch 25: val_loss did not improve from 0.00655\n",
            "27/27 [==============================] - 23s 853ms/step - loss: 0.0064 - attention_mae: 0.0396 - val_loss: 0.0072 - val_attention_mae: 0.0369\n",
            "Epoch 26/300\n",
            "27/27 [==============================] - ETA: 0s - loss: 0.0064 - attention_mae: 0.0397\n",
            "Epoch 26: val_loss improved from 0.00655 to 0.00644, saving model to /content/drive/MyDrive/Research/TAVI/Models/Curvature_2_Pressure_MultiViewUNet_I256_B16_LR0.001\n",
            "27/27 [==============================] - 23s 870ms/step - loss: 0.0064 - attention_mae: 0.0397 - val_loss: 0.0064 - val_attention_mae: 0.0347\n",
            "Epoch 27/300\n",
            "27/27 [==============================] - ETA: 0s - loss: 0.0065 - attention_mae: 0.0398\n",
            "Epoch 27: val_loss did not improve from 0.00644\n",
            "27/27 [==============================] - 23s 860ms/step - loss: 0.0065 - attention_mae: 0.0398 - val_loss: 0.0070 - val_attention_mae: 0.0344\n",
            "Epoch 28/300\n",
            "27/27 [==============================] - ETA: 0s - loss: 0.0064 - attention_mae: 0.0392\n",
            "Epoch 28: val_loss did not improve from 0.00644\n",
            "27/27 [==============================] - 23s 861ms/step - loss: 0.0064 - attention_mae: 0.0392 - val_loss: 0.0072 - val_attention_mae: 0.0391\n",
            "Epoch 29/300\n",
            "27/27 [==============================] - ETA: 0s - loss: 0.0065 - attention_mae: 0.0395\n",
            "Epoch 29: val_loss did not improve from 0.00644\n",
            "27/27 [==============================] - 23s 852ms/step - loss: 0.0065 - attention_mae: 0.0395 - val_loss: 0.0077 - val_attention_mae: 0.0444\n",
            "Epoch 30/300\n",
            "27/27 [==============================] - ETA: 0s - loss: 0.0062 - attention_mae: 0.0383\n",
            "Epoch 30: val_loss did not improve from 0.00644\n",
            "27/27 [==============================] - 24s 875ms/step - loss: 0.0062 - attention_mae: 0.0383 - val_loss: 0.0075 - val_attention_mae: 0.0349\n",
            "Epoch 31/300\n",
            "27/27 [==============================] - ETA: 0s - loss: 0.0062 - attention_mae: 0.0388\n",
            "Epoch 31: val_loss did not improve from 0.00644\n",
            "27/27 [==============================] - 23s 856ms/step - loss: 0.0062 - attention_mae: 0.0388 - val_loss: 0.0067 - val_attention_mae: 0.0339\n",
            "Epoch 32/300\n",
            "27/27 [==============================] - ETA: 0s - loss: 0.0062 - attention_mae: 0.0381\n",
            "Epoch 32: val_loss improved from 0.00644 to 0.00609, saving model to /content/drive/MyDrive/Research/TAVI/Models/Curvature_2_Pressure_MultiViewUNet_I256_B16_LR0.001\n",
            "27/27 [==============================] - 24s 904ms/step - loss: 0.0062 - attention_mae: 0.0381 - val_loss: 0.0061 - val_attention_mae: 0.0316\n",
            "Epoch 33/300\n",
            "27/27 [==============================] - ETA: 0s - loss: 0.0061 - attention_mae: 0.0375\n",
            "Epoch 33: val_loss did not improve from 0.00609\n",
            "27/27 [==============================] - 23s 847ms/step - loss: 0.0061 - attention_mae: 0.0375 - val_loss: 0.0074 - val_attention_mae: 0.0335\n",
            "Epoch 34/300\n",
            "27/27 [==============================] - ETA: 0s - loss: 0.0060 - attention_mae: 0.0369\n",
            "Epoch 34: val_loss did not improve from 0.00609\n",
            "27/27 [==============================] - 23s 839ms/step - loss: 0.0060 - attention_mae: 0.0369 - val_loss: 0.0062 - val_attention_mae: 0.0318\n",
            "Epoch 35/300\n",
            "27/27 [==============================] - ETA: 0s - loss: 0.0059 - attention_mae: 0.0369\n",
            "Epoch 35: val_loss did not improve from 0.00609\n",
            "27/27 [==============================] - 23s 848ms/step - loss: 0.0059 - attention_mae: 0.0369 - val_loss: 0.0062 - val_attention_mae: 0.0327\n",
            "Epoch 36/300\n",
            "27/27 [==============================] - ETA: 0s - loss: 0.0058 - attention_mae: 0.0362\n",
            "Epoch 36: val_loss improved from 0.00609 to 0.00583, saving model to /content/drive/MyDrive/Research/TAVI/Models/Curvature_2_Pressure_MultiViewUNet_I256_B16_LR0.001\n",
            "27/27 [==============================] - 24s 883ms/step - loss: 0.0058 - attention_mae: 0.0362 - val_loss: 0.0058 - val_attention_mae: 0.0344\n",
            "Epoch 37/300\n",
            "27/27 [==============================] - ETA: 0s - loss: 0.0058 - attention_mae: 0.0364\n",
            "Epoch 37: val_loss did not improve from 0.00583\n",
            "27/27 [==============================] - 23s 868ms/step - loss: 0.0058 - attention_mae: 0.0364 - val_loss: 0.0066 - val_attention_mae: 0.0311\n",
            "Epoch 38/300\n",
            "27/27 [==============================] - ETA: 0s - loss: 0.0058 - attention_mae: 0.0361\n",
            "Epoch 38: val_loss did not improve from 0.00583\n",
            "27/27 [==============================] - 23s 855ms/step - loss: 0.0058 - attention_mae: 0.0361 - val_loss: 0.0066 - val_attention_mae: 0.0358\n",
            "Epoch 39/300\n",
            "27/27 [==============================] - ETA: 0s - loss: 0.0057 - attention_mae: 0.0358\n",
            "Epoch 39: val_loss did not improve from 0.00583\n",
            "27/27 [==============================] - 23s 847ms/step - loss: 0.0057 - attention_mae: 0.0358 - val_loss: 0.0061 - val_attention_mae: 0.0316\n",
            "Epoch 40/300\n",
            "27/27 [==============================] - ETA: 0s - loss: 0.0058 - attention_mae: 0.0366\n",
            "Epoch 40: val_loss did not improve from 0.00583\n",
            "27/27 [==============================] - 23s 847ms/step - loss: 0.0058 - attention_mae: 0.0366 - val_loss: 0.0060 - val_attention_mae: 0.0334\n",
            "Epoch 41/300\n",
            "27/27 [==============================] - ETA: 0s - loss: 0.0060 - attention_mae: 0.0369\n",
            "Epoch 41: val_loss improved from 0.00583 to 0.00564, saving model to /content/drive/MyDrive/Research/TAVI/Models/Curvature_2_Pressure_MultiViewUNet_I256_B16_LR0.001\n",
            "27/27 [==============================] - 24s 891ms/step - loss: 0.0060 - attention_mae: 0.0369 - val_loss: 0.0056 - val_attention_mae: 0.0331\n",
            "Epoch 42/300\n",
            "27/27 [==============================] - ETA: 0s - loss: 0.0057 - attention_mae: 0.0357\n",
            "Epoch 42: val_loss did not improve from 0.00564\n",
            "27/27 [==============================] - 23s 851ms/step - loss: 0.0057 - attention_mae: 0.0357 - val_loss: 0.0057 - val_attention_mae: 0.0317\n",
            "Epoch 43/300\n",
            "27/27 [==============================] - ETA: 0s - loss: 0.0055 - attention_mae: 0.0344\n",
            "Epoch 43: val_loss did not improve from 0.00564\n",
            "27/27 [==============================] - 23s 849ms/step - loss: 0.0055 - attention_mae: 0.0344 - val_loss: 0.0057 - val_attention_mae: 0.0329\n",
            "Epoch 44/300\n",
            "27/27 [==============================] - ETA: 0s - loss: 0.0055 - attention_mae: 0.0344\n",
            "Epoch 44: val_loss did not improve from 0.00564\n",
            "27/27 [==============================] - 23s 851ms/step - loss: 0.0055 - attention_mae: 0.0344 - val_loss: 0.0058 - val_attention_mae: 0.0345\n",
            "Epoch 45/300\n",
            "27/27 [==============================] - ETA: 0s - loss: 0.0055 - attention_mae: 0.0340\n",
            "Epoch 45: val_loss did not improve from 0.00564\n",
            "27/27 [==============================] - 23s 849ms/step - loss: 0.0055 - attention_mae: 0.0340 - val_loss: 0.0057 - val_attention_mae: 0.0313\n",
            "Epoch 46/300\n",
            "27/27 [==============================] - ETA: 0s - loss: 0.0054 - attention_mae: 0.0340\n",
            "Epoch 46: val_loss did not improve from 0.00564\n",
            "27/27 [==============================] - 23s 861ms/step - loss: 0.0054 - attention_mae: 0.0340 - val_loss: 0.0058 - val_attention_mae: 0.0323\n",
            "Epoch 47/300\n",
            "27/27 [==============================] - ETA: 0s - loss: 0.0054 - attention_mae: 0.0333\n",
            "Epoch 47: val_loss improved from 0.00564 to 0.00558, saving model to /content/drive/MyDrive/Research/TAVI/Models/Curvature_2_Pressure_MultiViewUNet_I256_B16_LR0.001\n",
            "27/27 [==============================] - 24s 896ms/step - loss: 0.0054 - attention_mae: 0.0333 - val_loss: 0.0056 - val_attention_mae: 0.0312\n",
            "Epoch 48/300\n",
            "27/27 [==============================] - ETA: 0s - loss: 0.0053 - attention_mae: 0.0330\n",
            "Epoch 48: val_loss did not improve from 0.00558\n",
            "27/27 [==============================] - 23s 862ms/step - loss: 0.0053 - attention_mae: 0.0330 - val_loss: 0.0057 - val_attention_mae: 0.0303\n",
            "Epoch 49/300\n",
            "27/27 [==============================] - ETA: 0s - loss: 0.0053 - attention_mae: 0.0336\n",
            "Epoch 49: val_loss did not improve from 0.00558\n",
            "27/27 [==============================] - 23s 855ms/step - loss: 0.0053 - attention_mae: 0.0336 - val_loss: 0.0058 - val_attention_mae: 0.0306\n",
            "Epoch 50/300\n",
            "27/27 [==============================] - ETA: 0s - loss: 0.0053 - attention_mae: 0.0329\n",
            "Epoch 50: val_loss did not improve from 0.00558\n",
            "27/27 [==============================] - 24s 876ms/step - loss: 0.0053 - attention_mae: 0.0329 - val_loss: 0.0062 - val_attention_mae: 0.0325\n",
            "Epoch 51/300\n",
            "27/27 [==============================] - ETA: 0s - loss: 0.0053 - attention_mae: 0.0331\n",
            "Epoch 51: val_loss improved from 0.00558 to 0.00549, saving model to /content/drive/MyDrive/Research/TAVI/Models/Curvature_2_Pressure_MultiViewUNet_I256_B16_LR0.001\n",
            "27/27 [==============================] - 23s 870ms/step - loss: 0.0053 - attention_mae: 0.0331 - val_loss: 0.0055 - val_attention_mae: 0.0287\n",
            "Epoch 52/300\n",
            "27/27 [==============================] - ETA: 0s - loss: 0.0052 - attention_mae: 0.0327\n",
            "Epoch 52: val_loss did not improve from 0.00549\n",
            "27/27 [==============================] - 24s 879ms/step - loss: 0.0052 - attention_mae: 0.0327 - val_loss: 0.0056 - val_attention_mae: 0.0319\n",
            "Epoch 53/300\n",
            "27/27 [==============================] - ETA: 0s - loss: 0.0052 - attention_mae: 0.0325\n",
            "Epoch 53: val_loss did not improve from 0.00549\n",
            "27/27 [==============================] - 23s 850ms/step - loss: 0.0052 - attention_mae: 0.0325 - val_loss: 0.0064 - val_attention_mae: 0.0314\n",
            "Epoch 54/300\n",
            "27/27 [==============================] - ETA: 0s - loss: 0.0052 - attention_mae: 0.0323\n",
            "Epoch 54: val_loss did not improve from 0.00549\n",
            "27/27 [==============================] - 23s 853ms/step - loss: 0.0052 - attention_mae: 0.0323 - val_loss: 0.0057 - val_attention_mae: 0.0323\n",
            "Epoch 55/300\n",
            "27/27 [==============================] - ETA: 0s - loss: 0.0051 - attention_mae: 0.0316\n",
            "Epoch 55: val_loss did not improve from 0.00549\n",
            "27/27 [==============================] - 23s 859ms/step - loss: 0.0051 - attention_mae: 0.0316 - val_loss: 0.0063 - val_attention_mae: 0.0345\n",
            "Epoch 56/300\n",
            "27/27 [==============================] - ETA: 0s - loss: 0.0050 - attention_mae: 0.0315\n",
            "Epoch 56: val_loss did not improve from 0.00549\n",
            "27/27 [==============================] - 24s 876ms/step - loss: 0.0050 - attention_mae: 0.0315 - val_loss: 0.0057 - val_attention_mae: 0.0296\n",
            "Epoch 57/300\n",
            "27/27 [==============================] - ETA: 0s - loss: 0.0050 - attention_mae: 0.0315\n",
            "Epoch 57: val_loss improved from 0.00549 to 0.00510, saving model to /content/drive/MyDrive/Research/TAVI/Models/Curvature_2_Pressure_MultiViewUNet_I256_B16_LR0.001\n",
            "27/27 [==============================] - 24s 879ms/step - loss: 0.0050 - attention_mae: 0.0315 - val_loss: 0.0051 - val_attention_mae: 0.0283\n",
            "Epoch 58/300\n",
            "27/27 [==============================] - ETA: 0s - loss: 0.0050 - attention_mae: 0.0310\n",
            "Epoch 58: val_loss did not improve from 0.00510\n",
            "27/27 [==============================] - 23s 845ms/step - loss: 0.0050 - attention_mae: 0.0310 - val_loss: 0.0055 - val_attention_mae: 0.0288\n",
            "Epoch 59/300\n",
            "27/27 [==============================] - ETA: 0s - loss: 0.0049 - attention_mae: 0.0309\n",
            "Epoch 59: val_loss did not improve from 0.00510\n",
            "27/27 [==============================] - 23s 869ms/step - loss: 0.0049 - attention_mae: 0.0309 - val_loss: 0.0055 - val_attention_mae: 0.0308\n",
            "Epoch 60/300\n",
            "27/27 [==============================] - ETA: 0s - loss: 0.0050 - attention_mae: 0.0308\n",
            "Epoch 60: val_loss did not improve from 0.00510\n",
            "27/27 [==============================] - 23s 853ms/step - loss: 0.0050 - attention_mae: 0.0308 - val_loss: 0.0064 - val_attention_mae: 0.0303\n",
            "Epoch 61/300\n",
            "27/27 [==============================] - ETA: 0s - loss: 0.0049 - attention_mae: 0.0306\n",
            "Epoch 61: val_loss did not improve from 0.00510\n",
            "27/27 [==============================] - 23s 844ms/step - loss: 0.0049 - attention_mae: 0.0306 - val_loss: 0.0052 - val_attention_mae: 0.0299\n",
            "Epoch 62/300\n",
            "27/27 [==============================] - ETA: 0s - loss: 0.0049 - attention_mae: 0.0308\n",
            "Epoch 62: val_loss did not improve from 0.00510\n",
            "27/27 [==============================] - 23s 850ms/step - loss: 0.0049 - attention_mae: 0.0308 - val_loss: 0.0060 - val_attention_mae: 0.0305\n",
            "Epoch 63/300\n",
            "27/27 [==============================] - ETA: 0s - loss: 0.0049 - attention_mae: 0.0309\n",
            "Epoch 63: val_loss did not improve from 0.00510\n",
            "27/27 [==============================] - 23s 866ms/step - loss: 0.0049 - attention_mae: 0.0309 - val_loss: 0.0052 - val_attention_mae: 0.0294\n",
            "Epoch 64/300\n",
            "27/27 [==============================] - ETA: 0s - loss: 0.0049 - attention_mae: 0.0308\n",
            "Epoch 64: val_loss did not improve from 0.00510\n",
            "27/27 [==============================] - 23s 862ms/step - loss: 0.0049 - attention_mae: 0.0308 - val_loss: 0.0052 - val_attention_mae: 0.0305\n",
            "Epoch 65/300\n",
            "27/27 [==============================] - ETA: 0s - loss: 0.0048 - attention_mae: 0.0301\n",
            "Epoch 65: val_loss did not improve from 0.00510\n",
            "27/27 [==============================] - 23s 863ms/step - loss: 0.0048 - attention_mae: 0.0301 - val_loss: 0.0052 - val_attention_mae: 0.0285\n",
            "Epoch 66/300\n",
            "27/27 [==============================] - ETA: 0s - loss: 0.0047 - attention_mae: 0.0297\n",
            "Epoch 66: val_loss did not improve from 0.00510\n",
            "27/27 [==============================] - 23s 864ms/step - loss: 0.0047 - attention_mae: 0.0297 - val_loss: 0.0051 - val_attention_mae: 0.0277\n",
            "Epoch 67/300\n",
            "27/27 [==============================] - ETA: 0s - loss: 0.0048 - attention_mae: 0.0301\n",
            "Epoch 67: val_loss did not improve from 0.00510\n",
            "27/27 [==============================] - 23s 844ms/step - loss: 0.0048 - attention_mae: 0.0301 - val_loss: 0.0058 - val_attention_mae: 0.0312\n",
            "Epoch 68/300\n",
            "27/27 [==============================] - ETA: 0s - loss: 0.0048 - attention_mae: 0.0300\n",
            "Epoch 68: val_loss did not improve from 0.00510\n",
            "27/27 [==============================] - 23s 859ms/step - loss: 0.0048 - attention_mae: 0.0300 - val_loss: 0.0051 - val_attention_mae: 0.0263\n",
            "Epoch 69/300\n",
            "27/27 [==============================] - ETA: 0s - loss: 0.0048 - attention_mae: 0.0299\n",
            "Epoch 69: val_loss did not improve from 0.00510\n",
            "27/27 [==============================] - 23s 852ms/step - loss: 0.0048 - attention_mae: 0.0299 - val_loss: 0.0052 - val_attention_mae: 0.0273\n",
            "Epoch 70/300\n",
            "27/27 [==============================] - ETA: 0s - loss: 0.0050 - attention_mae: 0.0312\n",
            "Epoch 70: val_loss did not improve from 0.00510\n",
            "27/27 [==============================] - 23s 863ms/step - loss: 0.0050 - attention_mae: 0.0312 - val_loss: 0.0054 - val_attention_mae: 0.0291\n",
            "Epoch 71/300\n",
            "27/27 [==============================] - ETA: 0s - loss: 0.0049 - attention_mae: 0.0310\n",
            "Epoch 71: val_loss did not improve from 0.00510\n",
            "27/27 [==============================] - 23s 850ms/step - loss: 0.0049 - attention_mae: 0.0310 - val_loss: 0.0052 - val_attention_mae: 0.0300\n",
            "Epoch 72/300\n",
            "27/27 [==============================] - ETA: 0s - loss: 0.0048 - attention_mae: 0.0304\n",
            "Epoch 72: val_loss did not improve from 0.00510\n",
            "27/27 [==============================] - 23s 848ms/step - loss: 0.0048 - attention_mae: 0.0304 - val_loss: 0.0052 - val_attention_mae: 0.0297\n",
            "Epoch 73/300\n",
            "27/27 [==============================] - ETA: 0s - loss: 0.0046 - attention_mae: 0.0296\n",
            "Epoch 73: val_loss improved from 0.00510 to 0.00509, saving model to /content/drive/MyDrive/Research/TAVI/Models/Curvature_2_Pressure_MultiViewUNet_I256_B16_LR0.001\n",
            "27/27 [==============================] - 23s 872ms/step - loss: 0.0046 - attention_mae: 0.0296 - val_loss: 0.0051 - val_attention_mae: 0.0279\n",
            "Epoch 74/300\n",
            " 8/27 [=======>......................] - ETA: 15s - loss: 0.0049 - attention_mae: 0.0311"
          ]
        }
      ],
      "source": [
        "history = model.fit(\n",
        "    train_batches,\n",
        "    validation_data=test_batches,\n",
        "    epochs=N_EPOCHS,\n",
        "    batch_size=BATCH_SIZE,\n",
        "    callbacks=callbacks,\n",
        "    verbose=1\n",
        ")\n"
      ]
    },
    {
      "cell_type": "markdown",
      "metadata": {
        "id": "o0izY6BrsY8U"
      },
      "source": [
        "# Save Model"
      ]
    },
    {
      "cell_type": "code",
      "execution_count": null,
      "metadata": {
        "id": "BriaW2DnsY8V"
      },
      "outputs": [],
      "source": [
        "timestamp = datetime.datetime.now().strftime('%b-%d-%I:%M%p')\n",
        "if not os.path.exists(model_path):\n",
        "    os.makedirs(model_path)\n",
        "\n",
        "model.save(os.path.join(model_path, timestamp))"
      ]
    },
    {
      "cell_type": "code",
      "source": [
        "model_path"
      ],
      "metadata": {
        "id": "3IADrMxkC9v2"
      },
      "execution_count": null,
      "outputs": []
    },
    {
      "cell_type": "markdown",
      "metadata": {
        "id": "i_Oi8OvMsY8V"
      },
      "source": [
        "# Save Predictions"
      ]
    },
    {
      "cell_type": "code",
      "execution_count": null,
      "metadata": {
        "id": "lvBEcrXCsY8V"
      },
      "outputs": [],
      "source": [
        "test_ds_unbatched = test_batches.unbatch()\n",
        "\n",
        "pred_path = os.path.join(PRED_PATH, EXP_NAME, timestamp)\n",
        "if not os.path.exists(pred_path):\n",
        "    os.makedirs(pred_path)\n",
        "\n",
        "metrics = pd.DataFrame()\n",
        "\n",
        "for idx, (input, target) in enumerate(tqdm(test_ds_unbatched)):\n",
        "\n",
        "    target = tf.squeeze(target).numpy()\n",
        "    prediction = tf.squeeze(\n",
        "        model.predict(\n",
        "            tf.expand_dims(input, axis=0)\n",
        "        )\n",
        "    )\n",
        "\n",
        "    channel_sum = tf.expand_dims(tf.reduce_sum(target, axis=-1), axis=-1)\n",
        "    white_mask = tf.reduce_all(tf.equal(channel_sum, 3.0), axis=-1)\n",
        "    expanded_mask = tf.expand_dims(white_mask, axis=-1)\n",
        "    expanded_mask = tf.tile(expanded_mask, [1, 1, 3])\n",
        "    prediction = tf.where(expanded_mask, tf.ones_like(prediction), prediction)\n",
        "\n",
        "    plt.figure(figsize=(7, 14))\n",
        "    plt.subplot(2, 1, 1)\n",
        "    plt.imshow(target)\n",
        "    plt.axis(\"off\")\n",
        "    plt.tight_layout()\n",
        "\n",
        "    plt.subplot(2, 1, 2)\n",
        "    plt.imshow(prediction)\n",
        "    plt.axis(\"off\")\n",
        "    plt.tight_layout()\n",
        "    plt.savefig(os.path.join(pred_path, f\"{idx}.png\"))\n",
        "    plt.close()\n"
      ]
    },
    {
      "cell_type": "markdown",
      "metadata": {
        "id": "7X8uip-GsY8V"
      },
      "source": [
        "# Loss Curve"
      ]
    },
    {
      "cell_type": "code",
      "execution_count": null,
      "metadata": {
        "id": "uSb9pzrasY8W"
      },
      "outputs": [],
      "source": [
        "try:\n",
        "    loss = history.history['loss']\n",
        "    val_loss = history.history['val_loss']\n",
        "\n",
        "    plt.figure(figsize=(8, 6))\n",
        "    plt.plot(loss, label='Training Loss')\n",
        "    plt.plot(val_loss, label='Validation Loss')\n",
        "    plt.legend(loc='upper right')\n",
        "    plt.ylabel('Attention MAE')\n",
        "    plt.title('Training and Validation Loss')\n",
        "    plt.xlabel('Epoch')\n",
        "    plt.tight_layout()\n",
        "    plt.savefig(os.path.join(model_path, timestamp + \".png\"))\n",
        "    plt.close()\n",
        "except:\n",
        "    print(\"Model did not finish training\")\n"
      ]
    },
    {
      "cell_type": "markdown",
      "metadata": {
        "id": "1hMNNE0VsY8W"
      },
      "source": [
        "# Metrics"
      ]
    },
    {
      "cell_type": "code",
      "execution_count": null,
      "metadata": {
        "id": "QGXSmlicsY8W"
      },
      "outputs": [],
      "source": [
        "model.evaluate(test_batches)\n"
      ]
    }
  ],
  "metadata": {
    "kernelspec": {
      "display_name": "Python 3",
      "name": "python3"
    },
    "language_info": {
      "codemirror_mode": {
        "name": "ipython",
        "version": 3
      },
      "file_extension": ".py",
      "mimetype": "text/x-python",
      "name": "python",
      "nbconvert_exporter": "python",
      "pygments_lexer": "ipython3",
      "version": "3.10.9"
    },
    "orig_nbformat": 4,
    "colab": {
      "provenance": [],
      "gpuType": "T4",
      "include_colab_link": true
    },
    "accelerator": "GPU"
  },
  "nbformat": 4,
  "nbformat_minor": 0
}