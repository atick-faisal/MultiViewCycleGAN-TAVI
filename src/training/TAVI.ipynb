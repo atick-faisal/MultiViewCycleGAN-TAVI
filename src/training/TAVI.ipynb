{
  "cells": [
    {
      "cell_type": "markdown",
      "metadata": {
        "id": "view-in-github",
        "colab_type": "text"
      },
      "source": [
        "<a href=\"https://colab.research.google.com/github/atick-faisal/MultiViewUNet-TAVI/blob/dev/src/training/TAVI.ipynb\" target=\"_parent\"><img src=\"https://colab.research.google.com/assets/colab-badge.svg\" alt=\"Open In Colab\"/></a>"
      ]
    },
    {
      "cell_type": "markdown",
      "metadata": {
        "id": "7qGP76Soh7eo"
      },
      "source": [
        "# Runtime Config"
      ]
    },
    {
      "cell_type": "code",
      "execution_count": 1,
      "metadata": {
        "id": "DxmV-3idh7eq"
      },
      "outputs": [],
      "source": [
        "LOCAL_MACHINE = False"
      ]
    },
    {
      "cell_type": "code",
      "execution_count": 2,
      "metadata": {
        "colab": {
          "base_uri": "https://localhost:8080/"
        },
        "id": "B_TCNqhSh7er",
        "outputId": "4c615d32-b160-45a5-db30-92cb48bbb00a"
      },
      "outputs": [
        {
          "output_type": "stream",
          "name": "stdout",
          "text": [
            "Mon Nov 27 13:28:40 2023       \n",
            "+-----------------------------------------------------------------------------+\n",
            "| NVIDIA-SMI 525.105.17   Driver Version: 525.105.17   CUDA Version: 12.0     |\n",
            "|-------------------------------+----------------------+----------------------+\n",
            "| GPU  Name        Persistence-M| Bus-Id        Disp.A | Volatile Uncorr. ECC |\n",
            "| Fan  Temp  Perf  Pwr:Usage/Cap|         Memory-Usage | GPU-Util  Compute M. |\n",
            "|                               |                      |               MIG M. |\n",
            "|===============================+======================+======================|\n",
            "|   0  Tesla V100-SXM2...  Off  | 00000000:00:04.0 Off |                    0 |\n",
            "| N/A   36C    P0    27W / 300W |      0MiB / 16384MiB |      0%      Default |\n",
            "|                               |                      |                  N/A |\n",
            "+-------------------------------+----------------------+----------------------+\n",
            "                                                                               \n",
            "+-----------------------------------------------------------------------------+\n",
            "| Processes:                                                                  |\n",
            "|  GPU   GI   CI        PID   Type   Process name                  GPU Memory |\n",
            "|        ID   ID                                                   Usage      |\n",
            "|=============================================================================|\n",
            "|  No running processes found                                                 |\n",
            "+-----------------------------------------------------------------------------+\n",
            "Your runtime has 13.6 gigabytes of available RAM\n",
            "\n",
            "Not using a high-RAM runtime\n"
          ]
        }
      ],
      "source": [
        "from psutil import virtual_memory\n",
        "\n",
        "gpu_info = !nvidia-smi\n",
        "gpu_info = '\\n'.join(gpu_info)\n",
        "if gpu_info.find('failed') >= 0:\n",
        "    print('Not connected to a GPU')\n",
        "else:\n",
        "    print(gpu_info)\n",
        "\n",
        "\n",
        "ram_gb = virtual_memory().total / 1e9\n",
        "print('Your runtime has {:.1f} gigabytes of available RAM\\n'.format(ram_gb))\n",
        "\n",
        "if ram_gb < 20:\n",
        "    print('Not using a high-RAM runtime')\n",
        "else:\n",
        "    print('You are using a high-RAM runtime!')"
      ]
    },
    {
      "cell_type": "markdown",
      "metadata": {
        "id": "9lBmQa9Rh7es"
      },
      "source": [
        "# Fix G-Drive"
      ]
    },
    {
      "cell_type": "code",
      "execution_count": 3,
      "metadata": {
        "colab": {
          "base_uri": "https://localhost:8080/"
        },
        "id": "KBNHcIMGh7es",
        "outputId": "c32cc54e-81ce-46dd-c583-7956c32e598a"
      },
      "outputs": [
        {
          "output_type": "stream",
          "name": "stdout",
          "text": [
            "Installing G-Drive ... \n",
            "Install Pix2Pix\n"
          ]
        }
      ],
      "source": [
        "import os\n",
        "\n",
        "if not LOCAL_MACHINE:\n",
        "    print(\"Installing G-Drive ... \")\n",
        "    os.system(\"pip install -U --no-cache-dir gdown --pre > /dev/null\")\n",
        "    print(\"Install Pix2Pix\")\n",
        "    os.system(\"pip install git+https://github.com/tensorflow/examples.git\")"
      ]
    },
    {
      "cell_type": "markdown",
      "metadata": {
        "id": "ZfrLpMKph7et"
      },
      "source": [
        "# Mount G-Drive"
      ]
    },
    {
      "cell_type": "code",
      "execution_count": 4,
      "metadata": {
        "colab": {
          "base_uri": "https://localhost:8080/"
        },
        "id": "P9xbY2Ggh7et",
        "outputId": "2d02846f-adab-4b22-df22-51dc390412ca"
      },
      "outputs": [
        {
          "output_type": "stream",
          "name": "stdout",
          "text": [
            "Mounted at /content/drive\n"
          ]
        }
      ],
      "source": [
        "if not LOCAL_MACHINE:\n",
        "    from google.colab import drive\n",
        "\n",
        "    drive.mount(\"/content/drive\")"
      ]
    },
    {
      "cell_type": "markdown",
      "metadata": {
        "id": "0lWGNCyCh7et"
      },
      "source": [
        "# Download and Extract Dataset"
      ]
    },
    {
      "cell_type": "code",
      "execution_count": 5,
      "metadata": {
        "colab": {
          "base_uri": "https://localhost:8080/"
        },
        "id": "ImKwSB_kh7et",
        "outputId": "ac21a1ae-6a13-452a-8bd9-15b7cb906e8b"
      },
      "outputs": [
        {
          "output_type": "stream",
          "name": "stdout",
          "text": [
            "Downloading Dataset ... \n",
            "Extracting Dataset ... \n"
          ]
        }
      ],
      "source": [
        "if not LOCAL_MACHINE:\n",
        "    print(\"Downloading Dataset ... \")\n",
        "    os.system(\"gdown 1xBO079FPIeE7T5VVsFwc8QeZxAfS4J9O\")\n",
        "    print(\"Extracting Dataset ... \")\n",
        "    os.system('unzip -o \"TAVI_REG_r17.zip\" > /dev/null')"
      ]
    },
    {
      "cell_type": "markdown",
      "metadata": {
        "id": "tq1mCzROh7eu"
      },
      "source": [
        "# Imports"
      ]
    },
    {
      "cell_type": "code",
      "execution_count": 6,
      "metadata": {
        "id": "nClEc8uph7eu"
      },
      "outputs": [],
      "source": [
        "import datetime\n",
        "import numpy as np\n",
        "import pandas as pd\n",
        "import tensorflow as tf\n",
        "import matplotlib.pyplot as plt\n",
        "\n",
        "from tqdm import tqdm\n",
        "from PIL import Image\n",
        "\n",
        "from tensorflow_examples.models.pix2pix import pix2pix"
      ]
    },
    {
      "cell_type": "markdown",
      "metadata": {
        "id": "cqPlBIIPh7eu"
      },
      "source": [
        "# Problem Config"
      ]
    },
    {
      "cell_type": "code",
      "execution_count": 7,
      "metadata": {
        "id": "njUHcK7Xh7eu"
      },
      "outputs": [],
      "source": [
        "PROBLEM = \"Curvature_2_Pressure\"\n",
        "\n",
        "MODEL_NAME = \"MultiViewUNet\"\n",
        "DATASET_PATH = \"/content/Images/\"\n",
        "TRAIN_DIR = \"Train/\"\n",
        "TEST_DIR = \"Test/\"\n",
        "INPUT_DIR = PROBLEM.split(\"_2_\")[0]\n",
        "TARGET_DIR = PROBLEM.split(\"_2_\")[1]\n",
        "MODEL_PATH = \"/content/drive/MyDrive/Research/TAVI/Models/\"\n",
        "PRED_PATH = \"/content/drive/MyDrive/Research/TAVI/Predictions/\"\n",
        "IMG_SIZE = 256\n",
        "BATCH_SIZE = 16\n",
        "BUFFER_SIZE = 1000\n",
        "VAL_SPLIT = 0.2\n",
        "LEARNING_RATE = 0.001\n",
        "N_EPOCHS = 300\n",
        "PATIENCE = 30\n",
        "DROPOUT = 0.5\n",
        "\n",
        "EXP_NAME = f\"{PROBLEM}_{MODEL_NAME}_DO_{DROPOUT}\""
      ]
    },
    {
      "cell_type": "markdown",
      "metadata": {
        "id": "yfz3WJv1h7eu"
      },
      "source": [
        "# Architecture"
      ]
    },
    {
      "cell_type": "markdown",
      "metadata": {
        "id": "VJM2NlWwh7eu"
      },
      "source": [
        "## Vanilla UNet"
      ]
    },
    {
      "cell_type": "code",
      "execution_count": 8,
      "metadata": {
        "id": "e1VqTrGrh7eu"
      },
      "outputs": [],
      "source": [
        "class UNet:\n",
        "    def __init__(\n",
        "        self,\n",
        "        img_size: int,\n",
        "        n_channels: int = 3,\n",
        "        width: int = 32,\n",
        "        depth: int = 4,\n",
        "        kernel_size: int = 3,\n",
        "    ):\n",
        "        self.img_size = img_size\n",
        "        self.n_channels = n_channels\n",
        "        self.width = width\n",
        "        self.depth = depth\n",
        "        self.kernel_size = kernel_size\n",
        "\n",
        "    @staticmethod\n",
        "    def conv(x: tf.Tensor, filters: int, kernel_size: int) -> tf.Tensor:\n",
        "        for i in range(2):\n",
        "            x = tf.keras.layers.Conv2D(\n",
        "                filters=filters,\n",
        "                kernel_size=kernel_size,\n",
        "                strides=1,\n",
        "                padding=\"same\",\n",
        "                data_format=\"channels_last\",\n",
        "                dilation_rate=1,\n",
        "                groups=1,\n",
        "                activation=None,\n",
        "                use_bias=True,\n",
        "                kernel_initializer=\"glorot_uniform\",\n",
        "                bias_initializer=\"zeros\",\n",
        "            )(x)\n",
        "\n",
        "            x = tf.keras.layers.BatchNormalization()(x)\n",
        "            x = tf.keras.layers.Activation(\"relu\")(x)\n",
        "\n",
        "        return x\n",
        "\n",
        "    @staticmethod\n",
        "    def convmixer(x: tf.Tensor, filters: int, kernel_size: int) -> tf.Tensor:\n",
        "        x_init = x\n",
        "        x = tf.keras.layers.DepthwiseConv2D(\n",
        "            kernel_size=kernel_size,\n",
        "            strides=1,\n",
        "            padding=\"same\",\n",
        "            kernel_regularizer=\"l2\"\n",
        "        )(x)\n",
        "\n",
        "        x = tf.keras.layers.BatchNormalization()(x)\n",
        "        x = tf.keras.layers.Activation(\"gelu\")(x)\n",
        "\n",
        "        x = tf.keras.layers.Add()([x, x_init])\n",
        "\n",
        "        x = tf.keras.layers.Conv2D(\n",
        "                filters=filters,\n",
        "                kernel_size=kernel_size,\n",
        "                strides=1,\n",
        "                padding=\"same\",\n",
        "                data_format=\"channels_last\",\n",
        "                dilation_rate=1,\n",
        "                groups=1,\n",
        "                activation=None,\n",
        "                use_bias=True,\n",
        "                kernel_initializer=\"glorot_uniform\",\n",
        "                bias_initializer=\"zeros\",\n",
        "            )(x)\n",
        "\n",
        "        x = tf.keras.layers.BatchNormalization()(x)\n",
        "        x = tf.keras.layers.Activation(\"gelu\")(x)\n",
        "\n",
        "        return x\n",
        "\n",
        "    @staticmethod\n",
        "    def deconv(x: tf.Tensor, filters: int) -> tf.Tensor:\n",
        "        x = tf.keras.layers.Conv2DTranspose(\n",
        "            filters=filters,\n",
        "            kernel_size=2,\n",
        "            strides=2,\n",
        "            padding=\"same\",\n",
        "            output_padding=None,\n",
        "            data_format=None,\n",
        "            dilation_rate=1,\n",
        "            activation=None,\n",
        "            use_bias=True,\n",
        "            kernel_initializer=\"glorot_uniform\",\n",
        "            bias_initializer=\"zeros\",\n",
        "        )(x)\n",
        "\n",
        "        x = tf.keras.layers.BatchNormalization()(x)\n",
        "        x = tf.keras.layers.Activation(\"relu\")(x)\n",
        "\n",
        "        return x\n",
        "\n",
        "    @staticmethod\n",
        "    def output(x: tf.Tensor) -> tf.Tensor:\n",
        "        return tf.keras.layers.Conv2D(3, (1, 1), activation=\"sigmoid\")(x)\n",
        "\n",
        "    @staticmethod\n",
        "    def pool(x: tf.Tensor, pool_size: int = 2) -> tf.Tensor:\n",
        "        return tf.keras.layers.MaxPool2D(pool_size)(x)\n",
        "\n",
        "    @staticmethod\n",
        "    def dropout(x: tf.Tensor, amount: float = 0.5) -> tf.Tensor:\n",
        "        return tf.keras.layers.Dropout(amount)(x)\n",
        "\n",
        "    def __call__(self) -> tf.keras.Model:\n",
        "        inputs = tf.keras.layers.Input(\n",
        "            shape=(self.img_size, self.img_size, self.n_channels)\n",
        "        )\n",
        "\n",
        "        # scaled = tf.keras.layers.Rescaling(1./255.0, offset=0)(inputs)\n",
        "\n",
        "        # ------------------ Downsampling ---------------------\n",
        "        downsample_layers = []\n",
        "        downsample_layers.append(\n",
        "            self.convmixer(x=inputs, filters=self.width,\n",
        "                      kernel_size=self.kernel_size)\n",
        "        )\n",
        "        for i in range(1, self.depth):\n",
        "            dropout_amount = 0.2 if i == 1 else DROPOUT\n",
        "            filters = int((2**i) * self.width)\n",
        "            downsample_layers.append(\n",
        "                self.dropout(\n",
        "                    self.pool(\n",
        "                        self.convmixer(\n",
        "                            x=downsample_layers[i - 1],\n",
        "                            filters=filters,\n",
        "                            kernel_size=self.kernel_size,\n",
        "                        )\n",
        "                    ),\n",
        "                    amount=dropout_amount,\n",
        "                )\n",
        "            )\n",
        "\n",
        "        # ------------------- Features --------------------\n",
        "        n_features = int((2**self.depth) * self.width)\n",
        "        self.features = self.pool(\n",
        "            self.convmixer(\n",
        "                x=downsample_layers[-1],\n",
        "                filters=n_features,\n",
        "                kernel_size=self.kernel_size,\n",
        "            )\n",
        "        )\n",
        "\n",
        "        # ------------------- Upsampling --------------------\n",
        "        upsample_layers = []\n",
        "        upsample_layers.append(self.features)\n",
        "        for i in range(1, self.depth + 1):\n",
        "            filters = int((2 ** (self.depth - i)) * self.width)\n",
        "            upsample_layers.append(\n",
        "                self.convmixer(\n",
        "                    x=self.dropout(\n",
        "                        tf.keras.layers.concatenate(\n",
        "                            [\n",
        "                                downsample_layers[self.depth - i],\n",
        "                                self.deconv(\n",
        "                                    x=upsample_layers[i - 1], filters=filters),\n",
        "                            ]\n",
        "                        ),\n",
        "                        amount=0.2\n",
        "                    ),\n",
        "                    filters=filters,\n",
        "                    kernel_size=self.kernel_size,\n",
        "                )\n",
        "            )\n",
        "\n",
        "        # ---------------------- Output -----------------------\n",
        "        outputs = self.output(upsample_layers[-1])\n",
        "\n",
        "        return tf.keras.Model(inputs, outputs)"
      ]
    },
    {
      "cell_type": "markdown",
      "metadata": {
        "id": "demEopCeh7ev"
      },
      "source": [
        "# Loss Functions / Metrics"
      ]
    },
    {
      "cell_type": "code",
      "execution_count": 9,
      "metadata": {
        "id": "9-ke3H-6h7ev"
      },
      "outputs": [],
      "source": [
        "def attention_mse(y_true, y_pred):\n",
        "    _y_true = y_true[y_true != 1.0]\n",
        "    _y_pred = y_pred[y_true != 1.0]\n",
        "    squared_difference = tf.square(_y_true - _y_pred)\n",
        "    return tf.reduce_mean(squared_difference, axis=-1)\n",
        "\n",
        "\n",
        "def attention_mae(y_true, y_pred):\n",
        "    _y_true = y_true[y_true != 1.0]\n",
        "    _y_pred = y_pred[y_true != 1.0]\n",
        "    squared_difference = tf.abs(_y_true - _y_pred)\n",
        "    return tf.reduce_mean(squared_difference, axis=-1)"
      ]
    },
    {
      "cell_type": "markdown",
      "metadata": {
        "id": "JS70cKevh7ev"
      },
      "source": [
        "# Data Loader"
      ]
    },
    {
      "cell_type": "code",
      "execution_count": 10,
      "metadata": {
        "id": "1nL0lVRSh7ev"
      },
      "outputs": [],
      "source": [
        "def load_data_from_dir(path: str) -> tf.data.Dataset:\n",
        "    return tf.keras.utils.image_dataset_from_directory(\n",
        "        directory=path,\n",
        "        labels=None,\n",
        "        color_mode=\"rgb\",\n",
        "        batch_size=BATCH_SIZE,\n",
        "        image_size=(IMG_SIZE, IMG_SIZE),\n",
        "        shuffle=False,\n",
        "        seed=42,\n",
        "        interpolation=\"bilinear\",\n",
        "        follow_links=False,\n",
        "        crop_to_aspect_ratio=False,\n",
        "    )"
      ]
    },
    {
      "cell_type": "markdown",
      "metadata": {
        "id": "fUnFP3mFh7ev"
      },
      "source": [
        "# Load Dataset"
      ]
    },
    {
      "cell_type": "code",
      "execution_count": 11,
      "metadata": {
        "colab": {
          "base_uri": "https://localhost:8080/"
        },
        "id": "M40uLH5mh7ev",
        "outputId": "18d27e51-6e91-46d3-d4c5-d23a1e6ebfa3"
      },
      "outputs": [
        {
          "output_type": "stream",
          "name": "stdout",
          "text": [
            "Found 432 files belonging to 1 classes.\n",
            "Found 432 files belonging to 1 classes.\n",
            "Found 96 files belonging to 1 classes.\n",
            "Found 96 files belonging to 1 classes.\n",
            "(TensorSpec(shape=(None, 256, 256, 3), dtype=tf.float32, name=None), TensorSpec(shape=(None, 256, 256, 3), dtype=tf.float32, name=None))\n",
            "(TensorSpec(shape=(None, 256, 256, 3), dtype=tf.float32, name=None), TensorSpec(shape=(None, 256, 256, 3), dtype=tf.float32, name=None))\n"
          ]
        }
      ],
      "source": [
        "trainX = load_data_from_dir(os.path.join(DATASET_PATH, TRAIN_DIR, INPUT_DIR))\n",
        "trainY = load_data_from_dir(os.path.join(DATASET_PATH, TRAIN_DIR, TARGET_DIR))\n",
        "testX = load_data_from_dir(os.path.join(DATASET_PATH, TEST_DIR, INPUT_DIR))\n",
        "testY = load_data_from_dir(os.path.join(DATASET_PATH, TEST_DIR, TARGET_DIR))\n",
        "\n",
        "train_ds = tf.data.Dataset.zip((trainX, trainY))\n",
        "test_ds = tf.data.Dataset.zip((testX, testY))\n",
        "\n",
        "print(train_ds.element_spec)\n",
        "print(test_ds.element_spec)"
      ]
    },
    {
      "cell_type": "markdown",
      "metadata": {
        "id": "syHL14qrh7ev"
      },
      "source": [
        "# Normalization"
      ]
    },
    {
      "cell_type": "code",
      "execution_count": 12,
      "metadata": {
        "id": "F3FQHVSih7ew"
      },
      "outputs": [],
      "source": [
        "normalization_layer = tf.keras.layers.Rescaling(1.0 / 255)\n",
        "train_ds = train_ds.map(lambda x, y: (\n",
        "    normalization_layer(x), normalization_layer(y)))\n",
        "test_ds = test_ds.map(lambda x, y: (\n",
        "    normalization_layer(x), normalization_layer(y)))"
      ]
    },
    {
      "cell_type": "markdown",
      "metadata": {
        "id": "_tz4Gni1h7ew"
      },
      "source": [
        "# Optimization"
      ]
    },
    {
      "cell_type": "code",
      "execution_count": 13,
      "metadata": {
        "id": "T0ftWoxzh7ew"
      },
      "outputs": [],
      "source": [
        "AUTOTUNE = tf.data.AUTOTUNE\n",
        "train_batches = train_ds.cache().shuffle(\n",
        "    BUFFER_SIZE).prefetch(buffer_size=AUTOTUNE)\n",
        "test_batches = test_ds.cache().prefetch(buffer_size=AUTOTUNE)"
      ]
    },
    {
      "cell_type": "markdown",
      "metadata": {
        "id": "VizdFzJFh7ew"
      },
      "source": [
        "# Training Config"
      ]
    },
    {
      "cell_type": "code",
      "execution_count": 14,
      "metadata": {
        "id": "KsEiuUyIh7ew"
      },
      "outputs": [],
      "source": [
        "model_path = os.path.join(MODEL_PATH, EXP_NAME)\n",
        "\n",
        "callbacks = [\n",
        "    tf.keras.callbacks.EarlyStopping(\n",
        "        monitor=\"val_loss\", patience=PATIENCE, restore_best_weights=True\n",
        "    ),\n",
        "    tf.keras.callbacks.ModelCheckpoint(\n",
        "        model_path,\n",
        "        monitor=\"val_loss\",\n",
        "        verbose=1,\n",
        "        save_best_only=True,\n",
        "        save_weights_only=True,\n",
        "    ),\n",
        "]\n",
        "\n",
        "optimizer = tf.keras.optimizers.Adam(learning_rate=LEARNING_RATE)\n",
        "\n",
        "model = UNet(IMG_SIZE)()\n",
        "\n",
        "model.compile(loss=attention_mse, optimizer=optimizer, metrics=[attention_mae])"
      ]
    },
    {
      "cell_type": "markdown",
      "metadata": {
        "id": "DJN5uRXih7ew"
      },
      "source": [
        "# Load Saved Weights"
      ]
    },
    {
      "cell_type": "code",
      "execution_count": 15,
      "metadata": {
        "id": "ncDyEeavh7ew"
      },
      "outputs": [],
      "source": [
        "# try:\n",
        "#     model.load_weights(model_path)\n",
        "# except:\n",
        "#     print(\"Checkpoint not found\")\n",
        "#     pass"
      ]
    },
    {
      "cell_type": "markdown",
      "metadata": {
        "id": "LNG5F76Dh7ew"
      },
      "source": [
        "# Training"
      ]
    },
    {
      "cell_type": "code",
      "execution_count": 16,
      "metadata": {
        "colab": {
          "base_uri": "https://localhost:8080/"
        },
        "id": "RmJMzj-Yh7ew",
        "outputId": "f9740a53-99bd-414b-e8ae-8383c13afbb5"
      },
      "outputs": [
        {
          "output_type": "stream",
          "name": "stdout",
          "text": [
            "Epoch 1/300\n",
            "27/27 [==============================] - ETA: 0s - loss: 0.0280 - attention_mae: 0.1148\n",
            "Epoch 1: val_loss improved from inf to 0.07059, saving model to /content/drive/MyDrive/Research/TAVI/Models/Curvature_2_Pressure_MultiViewUNet_DO_0.5\n",
            "27/27 [==============================] - 53s 502ms/step - loss: 0.0280 - attention_mae: 0.1148 - val_loss: 0.0706 - val_attention_mae: 0.2144\n",
            "Epoch 2/300\n",
            "27/27 [==============================] - ETA: 0s - loss: 0.0123 - attention_mae: 0.0698\n",
            "Epoch 2: val_loss improved from 0.07059 to 0.06061, saving model to /content/drive/MyDrive/Research/TAVI/Models/Curvature_2_Pressure_MultiViewUNet_DO_0.5\n",
            "27/27 [==============================] - 9s 353ms/step - loss: 0.0123 - attention_mae: 0.0698 - val_loss: 0.0606 - val_attention_mae: 0.2041\n",
            "Epoch 3/300\n",
            "27/27 [==============================] - ETA: 0s - loss: 0.0109 - attention_mae: 0.0637\n",
            "Epoch 3: val_loss improved from 0.06061 to 0.05058, saving model to /content/drive/MyDrive/Research/TAVI/Models/Curvature_2_Pressure_MultiViewUNet_DO_0.5\n",
            "27/27 [==============================] - 10s 355ms/step - loss: 0.0109 - attention_mae: 0.0637 - val_loss: 0.0506 - val_attention_mae: 0.1868\n",
            "Epoch 4/300\n",
            "27/27 [==============================] - ETA: 0s - loss: 0.0099 - attention_mae: 0.0578\n",
            "Epoch 4: val_loss improved from 0.05058 to 0.04362, saving model to /content/drive/MyDrive/Research/TAVI/Models/Curvature_2_Pressure_MultiViewUNet_DO_0.5\n",
            "27/27 [==============================] - 10s 369ms/step - loss: 0.0099 - attention_mae: 0.0578 - val_loss: 0.0436 - val_attention_mae: 0.1688\n",
            "Epoch 5/300\n",
            "27/27 [==============================] - ETA: 0s - loss: 0.0093 - attention_mae: 0.0544\n",
            "Epoch 5: val_loss improved from 0.04362 to 0.03875, saving model to /content/drive/MyDrive/Research/TAVI/Models/Curvature_2_Pressure_MultiViewUNet_DO_0.5\n",
            "27/27 [==============================] - 10s 354ms/step - loss: 0.0093 - attention_mae: 0.0544 - val_loss: 0.0388 - val_attention_mae: 0.1531\n",
            "Epoch 6/300\n",
            "27/27 [==============================] - ETA: 0s - loss: 0.0092 - attention_mae: 0.0539\n",
            "Epoch 6: val_loss improved from 0.03875 to 0.03630, saving model to /content/drive/MyDrive/Research/TAVI/Models/Curvature_2_Pressure_MultiViewUNet_DO_0.5\n",
            "27/27 [==============================] - 11s 403ms/step - loss: 0.0092 - attention_mae: 0.0539 - val_loss: 0.0363 - val_attention_mae: 0.1431\n",
            "Epoch 7/300\n",
            "27/27 [==============================] - ETA: 0s - loss: 0.0088 - attention_mae: 0.0524\n",
            "Epoch 7: val_loss improved from 0.03630 to 0.03260, saving model to /content/drive/MyDrive/Research/TAVI/Models/Curvature_2_Pressure_MultiViewUNet_DO_0.5\n",
            "27/27 [==============================] - 10s 355ms/step - loss: 0.0088 - attention_mae: 0.0524 - val_loss: 0.0326 - val_attention_mae: 0.1319\n",
            "Epoch 8/300\n",
            "27/27 [==============================] - ETA: 0s - loss: 0.0083 - attention_mae: 0.0502\n",
            "Epoch 8: val_loss improved from 0.03260 to 0.02905, saving model to /content/drive/MyDrive/Research/TAVI/Models/Curvature_2_Pressure_MultiViewUNet_DO_0.5\n",
            "27/27 [==============================] - 10s 370ms/step - loss: 0.0083 - attention_mae: 0.0502 - val_loss: 0.0290 - val_attention_mae: 0.1210\n",
            "Epoch 9/300\n",
            "27/27 [==============================] - ETA: 0s - loss: 0.0080 - attention_mae: 0.0491\n",
            "Epoch 10: val_loss improved from 0.02490 to 0.02468, saving model to /content/drive/MyDrive/Research/TAVI/Models/Curvature_2_Pressure_MultiViewUNet_DO_0.5\n",
            "27/27 [==============================] - 10s 370ms/step - loss: 0.0080 - attention_mae: 0.0491 - val_loss: 0.0247 - val_attention_mae: 0.1058\n",
            "Epoch 11/300\n",
            "27/27 [==============================] - ETA: 0s - loss: 0.0077 - attention_mae: 0.0473\n",
            "Epoch 11: val_loss improved from 0.02468 to 0.02105, saving model to /content/drive/MyDrive/Research/TAVI/Models/Curvature_2_Pressure_MultiViewUNet_DO_0.5\n",
            "27/27 [==============================] - 10s 354ms/step - loss: 0.0077 - attention_mae: 0.0473 - val_loss: 0.0210 - val_attention_mae: 0.0963\n",
            "Epoch 12/300\n",
            "27/27 [==============================] - ETA: 0s - loss: 0.0073 - attention_mae: 0.0453\n",
            "Epoch 12: val_loss improved from 0.02105 to 0.01808, saving model to /content/drive/MyDrive/Research/TAVI/Models/Curvature_2_Pressure_MultiViewUNet_DO_0.5\n",
            "27/27 [==============================] - 10s 356ms/step - loss: 0.0073 - attention_mae: 0.0453 - val_loss: 0.0181 - val_attention_mae: 0.0868\n",
            "Epoch 13/300\n",
            "27/27 [==============================] - ETA: 0s - loss: 0.0071 - attention_mae: 0.0443\n",
            "Epoch 13: val_loss improved from 0.01808 to 0.01665, saving model to /content/drive/MyDrive/Research/TAVI/Models/Curvature_2_Pressure_MultiViewUNet_DO_0.5\n",
            "27/27 [==============================] - 10s 368ms/step - loss: 0.0071 - attention_mae: 0.0443 - val_loss: 0.0167 - val_attention_mae: 0.0833\n",
            "Epoch 14/300\n",
            "27/27 [==============================] - ETA: 0s - loss: 0.0071 - attention_mae: 0.0453\n",
            "Epoch 14: val_loss improved from 0.01665 to 0.01474, saving model to /content/drive/MyDrive/Research/TAVI/Models/Curvature_2_Pressure_MultiViewUNet_DO_0.5\n",
            "27/27 [==============================] - 9s 353ms/step - loss: 0.0071 - attention_mae: 0.0453 - val_loss: 0.0147 - val_attention_mae: 0.0772\n",
            "Epoch 15/300\n",
            "27/27 [==============================] - ETA: 0s - loss: 0.0069 - attention_mae: 0.0434\n",
            "Epoch 15: val_loss improved from 0.01474 to 0.01343, saving model to /content/drive/MyDrive/Research/TAVI/Models/Curvature_2_Pressure_MultiViewUNet_DO_0.5\n",
            "27/27 [==============================] - 10s 369ms/step - loss: 0.0069 - attention_mae: 0.0434 - val_loss: 0.0134 - val_attention_mae: 0.0710\n",
            "Epoch 16/300\n",
            "27/27 [==============================] - ETA: 0s - loss: 0.0067 - attention_mae: 0.0422\n",
            "Epoch 16: val_loss improved from 0.01343 to 0.01278, saving model to /content/drive/MyDrive/Research/TAVI/Models/Curvature_2_Pressure_MultiViewUNet_DO_0.5\n",
            "27/27 [==============================] - 10s 353ms/step - loss: 0.0067 - attention_mae: 0.0422 - val_loss: 0.0128 - val_attention_mae: 0.0700\n",
            "Epoch 17/300\n",
            "27/27 [==============================] - ETA: 0s - loss: 0.0068 - attention_mae: 0.0419\n",
            "Epoch 17: val_loss improved from 0.01278 to 0.01247, saving model to /content/drive/MyDrive/Research/TAVI/Models/Curvature_2_Pressure_MultiViewUNet_DO_0.5\n",
            "27/27 [==============================] - 10s 354ms/step - loss: 0.0068 - attention_mae: 0.0419 - val_loss: 0.0125 - val_attention_mae: 0.0659\n",
            "Epoch 18/300\n",
            "27/27 [==============================] - ETA: 0s - loss: 0.0067 - attention_mae: 0.0418\n",
            "Epoch 18: val_loss improved from 0.01247 to 0.00983, saving model to /content/drive/MyDrive/Research/TAVI/Models/Curvature_2_Pressure_MultiViewUNet_DO_0.5\n",
            "27/27 [==============================] - 10s 368ms/step - loss: 0.0067 - attention_mae: 0.0418 - val_loss: 0.0098 - val_attention_mae: 0.0562\n",
            "Epoch 19/300\n",
            "27/27 [==============================] - ETA: 0s - loss: 0.0064 - attention_mae: 0.0403\n",
            "Epoch 19: val_loss improved from 0.00983 to 0.00946, saving model to /content/drive/MyDrive/Research/TAVI/Models/Curvature_2_Pressure_MultiViewUNet_DO_0.5\n",
            "27/27 [==============================] - 10s 353ms/step - loss: 0.0064 - attention_mae: 0.0403 - val_loss: 0.0095 - val_attention_mae: 0.0543\n",
            "Epoch 20/300\n",
            "27/27 [==============================] - ETA: 0s - loss: 0.0065 - attention_mae: 0.0406\n",
            "Epoch 20: val_loss improved from 0.00946 to 0.00895, saving model to /content/drive/MyDrive/Research/TAVI/Models/Curvature_2_Pressure_MultiViewUNet_DO_0.5\n",
            "27/27 [==============================] - 10s 370ms/step - loss: 0.0065 - attention_mae: 0.0406 - val_loss: 0.0089 - val_attention_mae: 0.0494\n",
            "Epoch 21/300\n",
            "27/27 [==============================] - ETA: 0s - loss: 0.0062 - attention_mae: 0.0391\n",
            "Epoch 21: val_loss improved from 0.00895 to 0.00749, saving model to /content/drive/MyDrive/Research/TAVI/Models/Curvature_2_Pressure_MultiViewUNet_DO_0.5\n",
            "27/27 [==============================] - 10s 354ms/step - loss: 0.0062 - attention_mae: 0.0391 - val_loss: 0.0075 - val_attention_mae: 0.0467\n",
            "Epoch 22/300\n",
            "27/27 [==============================] - ETA: 0s - loss: 0.0062 - attention_mae: 0.0392\n",
            "Epoch 22: val_loss improved from 0.00749 to 0.00737, saving model to /content/drive/MyDrive/Research/TAVI/Models/Curvature_2_Pressure_MultiViewUNet_DO_0.5\n",
            "27/27 [==============================] - 10s 365ms/step - loss: 0.0062 - attention_mae: 0.0392 - val_loss: 0.0074 - val_attention_mae: 0.0442\n",
            "Epoch 23/300\n",
            "27/27 [==============================] - ETA: 0s - loss: 0.0061 - attention_mae: 0.0386\n",
            "Epoch 23: val_loss did not improve from 0.00737\n",
            "27/27 [==============================] - 9s 335ms/step - loss: 0.0061 - attention_mae: 0.0386 - val_loss: 0.0074 - val_attention_mae: 0.0439\n",
            "Epoch 24/300\n",
            "27/27 [==============================] - ETA: 0s - loss: 0.0059 - attention_mae: 0.0376\n",
            "Epoch 24: val_loss did not improve from 0.00737\n",
            "27/27 [==============================] - 9s 337ms/step - loss: 0.0059 - attention_mae: 0.0376 - val_loss: 0.0074 - val_attention_mae: 0.0451\n",
            "Epoch 25/300\n",
            "27/27 [==============================] - ETA: 0s - loss: 0.0059 - attention_mae: 0.0370\n",
            "Epoch 25: val_loss improved from 0.00737 to 0.00663, saving model to /content/drive/MyDrive/Research/TAVI/Models/Curvature_2_Pressure_MultiViewUNet_DO_0.5\n",
            "27/27 [==============================] - 10s 360ms/step - loss: 0.0059 - attention_mae: 0.0370 - val_loss: 0.0066 - val_attention_mae: 0.0393\n",
            "Epoch 26/300\n",
            "27/27 [==============================] - ETA: 0s - loss: 0.0059 - attention_mae: 0.0374\n",
            "Epoch 26: val_loss improved from 0.00663 to 0.00663, saving model to /content/drive/MyDrive/Research/TAVI/Models/Curvature_2_Pressure_MultiViewUNet_DO_0.5\n",
            "27/27 [==============================] - 9s 353ms/step - loss: 0.0059 - attention_mae: 0.0374 - val_loss: 0.0066 - val_attention_mae: 0.0406\n",
            "Epoch 27/300\n",
            "27/27 [==============================] - ETA: 0s - loss: 0.0058 - attention_mae: 0.0370\n",
            "Epoch 27: val_loss improved from 0.00663 to 0.00613, saving model to /content/drive/MyDrive/Research/TAVI/Models/Curvature_2_Pressure_MultiViewUNet_DO_0.5\n",
            "27/27 [==============================] - 10s 356ms/step - loss: 0.0058 - attention_mae: 0.0370 - val_loss: 0.0061 - val_attention_mae: 0.0372\n",
            "Epoch 28/300\n",
            "27/27 [==============================] - ETA: 0s - loss: 0.0057 - attention_mae: 0.0360\n",
            "Epoch 28: val_loss did not improve from 0.00613\n",
            "27/27 [==============================] - 9s 335ms/step - loss: 0.0057 - attention_mae: 0.0360 - val_loss: 0.0063 - val_attention_mae: 0.0415\n",
            "Epoch 29/300\n",
            "27/27 [==============================] - ETA: 0s - loss: 0.0059 - attention_mae: 0.0374\n",
            "Epoch 29: val_loss improved from 0.00613 to 0.00600, saving model to /content/drive/MyDrive/Research/TAVI/Models/Curvature_2_Pressure_MultiViewUNet_DO_0.5\n",
            "27/27 [==============================] - 10s 354ms/step - loss: 0.0059 - attention_mae: 0.0374 - val_loss: 0.0060 - val_attention_mae: 0.0358\n",
            "Epoch 30/300\n",
            "27/27 [==============================] - ETA: 0s - loss: 0.0057 - attention_mae: 0.0360\n",
            "Epoch 30: val_loss did not improve from 0.00600\n",
            "27/27 [==============================] - 9s 346ms/step - loss: 0.0057 - attention_mae: 0.0360 - val_loss: 0.0061 - val_attention_mae: 0.0358\n",
            "Epoch 31/300\n",
            "27/27 [==============================] - ETA: 0s - loss: 0.0055 - attention_mae: 0.0348\n",
            "Epoch 31: val_loss did not improve from 0.00600\n",
            "27/27 [==============================] - 9s 335ms/step - loss: 0.0055 - attention_mae: 0.0348 - val_loss: 0.0061 - val_attention_mae: 0.0345\n",
            "Epoch 32/300\n",
            "27/27 [==============================] - ETA: 0s - loss: 0.0054 - attention_mae: 0.0347\n",
            "Epoch 32: val_loss improved from 0.00600 to 0.00597, saving model to /content/drive/MyDrive/Research/TAVI/Models/Curvature_2_Pressure_MultiViewUNet_DO_0.5\n",
            "27/27 [==============================] - 10s 356ms/step - loss: 0.0054 - attention_mae: 0.0347 - val_loss: 0.0060 - val_attention_mae: 0.0337\n",
            "Epoch 33/300\n",
            "27/27 [==============================] - ETA: 0s - loss: 0.0054 - attention_mae: 0.0343\n",
            "Epoch 33: val_loss improved from 0.00597 to 0.00576, saving model to /content/drive/MyDrive/Research/TAVI/Models/Curvature_2_Pressure_MultiViewUNet_DO_0.5\n",
            "27/27 [==============================] - 10s 369ms/step - loss: 0.0054 - attention_mae: 0.0343 - val_loss: 0.0058 - val_attention_mae: 0.0332\n",
            "Epoch 34/300\n",
            "27/27 [==============================] - ETA: 0s - loss: 0.0053 - attention_mae: 0.0338\n",
            "Epoch 34: val_loss did not improve from 0.00576\n",
            "27/27 [==============================] - 9s 335ms/step - loss: 0.0053 - attention_mae: 0.0338 - val_loss: 0.0059 - val_attention_mae: 0.0341\n",
            "Epoch 35/300\n",
            "27/27 [==============================] - ETA: 0s - loss: 0.0053 - attention_mae: 0.0339\n",
            "Epoch 35: val_loss improved from 0.00576 to 0.00572, saving model to /content/drive/MyDrive/Research/TAVI/Models/Curvature_2_Pressure_MultiViewUNet_DO_0.5\n",
            "27/27 [==============================] - 10s 368ms/step - loss: 0.0053 - attention_mae: 0.0339 - val_loss: 0.0057 - val_attention_mae: 0.0327\n",
            "Epoch 36/300\n",
            "27/27 [==============================] - ETA: 0s - loss: 0.0052 - attention_mae: 0.0333\n",
            "Epoch 36: val_loss did not improve from 0.00572\n",
            "27/27 [==============================] - 9s 334ms/step - loss: 0.0052 - attention_mae: 0.0333 - val_loss: 0.0059 - val_attention_mae: 0.0323\n",
            "Epoch 37/300\n",
            "27/27 [==============================] - ETA: 0s - loss: 0.0053 - attention_mae: 0.0340\n",
            "Epoch 37: val_loss improved from 0.00572 to 0.00567, saving model to /content/drive/MyDrive/Research/TAVI/Models/Curvature_2_Pressure_MultiViewUNet_DO_0.5\n",
            "27/27 [==============================] - 10s 365ms/step - loss: 0.0053 - attention_mae: 0.0340 - val_loss: 0.0057 - val_attention_mae: 0.0332\n",
            "Epoch 38/300\n",
            "27/27 [==============================] - ETA: 0s - loss: 0.0052 - attention_mae: 0.0330\n",
            "Epoch 38: val_loss improved from 0.00567 to 0.00557, saving model to /content/drive/MyDrive/Research/TAVI/Models/Curvature_2_Pressure_MultiViewUNet_DO_0.5\n",
            "27/27 [==============================] - 10s 369ms/step - loss: 0.0052 - attention_mae: 0.0330 - val_loss: 0.0056 - val_attention_mae: 0.0351\n",
            "Epoch 39/300\n",
            "27/27 [==============================] - ETA: 0s - loss: 0.0051 - attention_mae: 0.0329\n",
            "Epoch 39: val_loss improved from 0.00557 to 0.00547, saving model to /content/drive/MyDrive/Research/TAVI/Models/Curvature_2_Pressure_MultiViewUNet_DO_0.5\n",
            "27/27 [==============================] - 10s 354ms/step - loss: 0.0051 - attention_mae: 0.0329 - val_loss: 0.0055 - val_attention_mae: 0.0313\n",
            "Epoch 40/300\n",
            "27/27 [==============================] - ETA: 0s - loss: 0.0051 - attention_mae: 0.0329\n",
            "Epoch 40: val_loss did not improve from 0.00547\n",
            "27/27 [==============================] - 9s 346ms/step - loss: 0.0051 - attention_mae: 0.0329 - val_loss: 0.0058 - val_attention_mae: 0.0329\n",
            "Epoch 41/300\n",
            "27/27 [==============================] - ETA: 0s - loss: 0.0050 - attention_mae: 0.0323\n",
            "Epoch 41: val_loss did not improve from 0.00547\n",
            "27/27 [==============================] - 9s 335ms/step - loss: 0.0050 - attention_mae: 0.0323 - val_loss: 0.0056 - val_attention_mae: 0.0319\n",
            "Epoch 42/300\n",
            "27/27 [==============================] - ETA: 0s - loss: 0.0049 - attention_mae: 0.0315\n",
            "Epoch 42: val_loss improved from 0.00547 to 0.00523, saving model to /content/drive/MyDrive/Research/TAVI/Models/Curvature_2_Pressure_MultiViewUNet_DO_0.5\n",
            "27/27 [==============================] - 10s 354ms/step - loss: 0.0049 - attention_mae: 0.0315 - val_loss: 0.0052 - val_attention_mae: 0.0312\n",
            "Epoch 43/300\n",
            "27/27 [==============================] - ETA: 0s - loss: 0.0049 - attention_mae: 0.0315\n",
            "Epoch 43: val_loss did not improve from 0.00523\n",
            "27/27 [==============================] - 9s 345ms/step - loss: 0.0049 - attention_mae: 0.0315 - val_loss: 0.0055 - val_attention_mae: 0.0314\n",
            "Epoch 44/300\n",
            "27/27 [==============================] - ETA: 0s - loss: 0.0049 - attention_mae: 0.0314\n",
            "Epoch 44: val_loss did not improve from 0.00523\n",
            "27/27 [==============================] - 9s 336ms/step - loss: 0.0049 - attention_mae: 0.0314 - val_loss: 0.0055 - val_attention_mae: 0.0309\n",
            "Epoch 45/300\n",
            "27/27 [==============================] - ETA: 0s - loss: 0.0048 - attention_mae: 0.0314\n",
            "Epoch 45: val_loss did not improve from 0.00523\n",
            "27/27 [==============================] - 9s 346ms/step - loss: 0.0048 - attention_mae: 0.0314 - val_loss: 0.0060 - val_attention_mae: 0.0302\n",
            "Epoch 46/300\n",
            "27/27 [==============================] - ETA: 0s - loss: 0.0049 - attention_mae: 0.0314\n",
            "Epoch 46: val_loss did not improve from 0.00523\n",
            "27/27 [==============================] - 9s 336ms/step - loss: 0.0049 - attention_mae: 0.0314 - val_loss: 0.0057 - val_attention_mae: 0.0319\n",
            "Epoch 47/300\n",
            "27/27 [==============================] - ETA: 0s - loss: 0.0049 - attention_mae: 0.0317\n",
            "Epoch 47: val_loss did not improve from 0.00523\n",
            "27/27 [==============================] - 9s 346ms/step - loss: 0.0049 - attention_mae: 0.0317 - val_loss: 0.0053 - val_attention_mae: 0.0290\n",
            "Epoch 48/300\n",
            "27/27 [==============================] - ETA: 0s - loss: 0.0048 - attention_mae: 0.0309\n",
            "Epoch 48: val_loss did not improve from 0.00523\n",
            "27/27 [==============================] - 9s 335ms/step - loss: 0.0048 - attention_mae: 0.0309 - val_loss: 0.0056 - val_attention_mae: 0.0299\n",
            "Epoch 49/300\n",
            "27/27 [==============================] - ETA: 0s - loss: 0.0047 - attention_mae: 0.0304\n",
            "Epoch 49: val_loss did not improve from 0.00523\n",
            "27/27 [==============================] - 9s 336ms/step - loss: 0.0047 - attention_mae: 0.0304 - val_loss: 0.0055 - val_attention_mae: 0.0301\n",
            "Epoch 50/300\n",
            "27/27 [==============================] - ETA: 0s - loss: 0.0047 - attention_mae: 0.0304\n",
            "Epoch 50: val_loss did not improve from 0.00523\n",
            "27/27 [==============================] - 9s 345ms/step - loss: 0.0047 - attention_mae: 0.0304 - val_loss: 0.0055 - val_attention_mae: 0.0303\n",
            "Epoch 51/300\n",
            "27/27 [==============================] - ETA: 0s - loss: 0.0046 - attention_mae: 0.0300\n",
            "Epoch 51: val_loss did not improve from 0.00523\n",
            "27/27 [==============================] - 9s 345ms/step - loss: 0.0046 - attention_mae: 0.0300 - val_loss: 0.0053 - val_attention_mae: 0.0294\n",
            "Epoch 52/300\n",
            "27/27 [==============================] - ETA: 0s - loss: 0.0046 - attention_mae: 0.0299\n",
            "Epoch 52: val_loss did not improve from 0.00523\n",
            "27/27 [==============================] - 9s 345ms/step - loss: 0.0046 - attention_mae: 0.0299 - val_loss: 0.0056 - val_attention_mae: 0.0296\n",
            "Epoch 53/300\n",
            "27/27 [==============================] - ETA: 0s - loss: 0.0045 - attention_mae: 0.0295\n",
            "Epoch 53: val_loss did not improve from 0.00523\n",
            "27/27 [==============================] - 9s 335ms/step - loss: 0.0045 - attention_mae: 0.0295 - val_loss: 0.0053 - val_attention_mae: 0.0307\n",
            "Epoch 54/300\n",
            "27/27 [==============================] - ETA: 0s - loss: 0.0045 - attention_mae: 0.0293\n",
            "Epoch 54: val_loss did not improve from 0.00523\n",
            "27/27 [==============================] - 9s 337ms/step - loss: 0.0045 - attention_mae: 0.0293 - val_loss: 0.0055 - val_attention_mae: 0.0287\n",
            "Epoch 55/300\n",
            "27/27 [==============================] - ETA: 0s - loss: 0.0046 - attention_mae: 0.0298\n",
            "Epoch 55: val_loss did not improve from 0.00523\n",
            "27/27 [==============================] - 9s 335ms/step - loss: 0.0046 - attention_mae: 0.0298 - val_loss: 0.0053 - val_attention_mae: 0.0292\n",
            "Epoch 56/300\n",
            "27/27 [==============================] - ETA: 0s - loss: 0.0045 - attention_mae: 0.0290\n",
            "Epoch 56: val_loss did not improve from 0.00523\n",
            "27/27 [==============================] - 9s 335ms/step - loss: 0.0045 - attention_mae: 0.0290 - val_loss: 0.0052 - val_attention_mae: 0.0295\n",
            "Epoch 57/300\n",
            "27/27 [==============================] - ETA: 0s - loss: 0.0044 - attention_mae: 0.0290\n",
            "Epoch 57: val_loss improved from 0.00523 to 0.00520, saving model to /content/drive/MyDrive/Research/TAVI/Models/Curvature_2_Pressure_MultiViewUNet_DO_0.5\n",
            "27/27 [==============================] - 10s 377ms/step - loss: 0.0044 - attention_mae: 0.0290 - val_loss: 0.0052 - val_attention_mae: 0.0285\n",
            "Epoch 58/300\n",
            "27/27 [==============================] - ETA: 0s - loss: 0.0044 - attention_mae: 0.0289\n",
            "Epoch 58: val_loss did not improve from 0.00520\n",
            "27/27 [==============================] - 9s 336ms/step - loss: 0.0044 - attention_mae: 0.0289 - val_loss: 0.0056 - val_attention_mae: 0.0282\n",
            "Epoch 59/300\n",
            "27/27 [==============================] - ETA: 0s - loss: 0.0044 - attention_mae: 0.0287\n",
            "Epoch 59: val_loss did not improve from 0.00520\n",
            "27/27 [==============================] - 9s 346ms/step - loss: 0.0044 - attention_mae: 0.0287 - val_loss: 0.0055 - val_attention_mae: 0.0309\n",
            "Epoch 60/300\n",
            "27/27 [==============================] - ETA: 0s - loss: 0.0045 - attention_mae: 0.0292\n",
            "Epoch 60: val_loss did not improve from 0.00520\n",
            "27/27 [==============================] - 9s 335ms/step - loss: 0.0045 - attention_mae: 0.0292 - val_loss: 0.0053 - val_attention_mae: 0.0302\n",
            "Epoch 61/300\n",
            "27/27 [==============================] - ETA: 0s - loss: 0.0044 - attention_mae: 0.0288\n",
            "Epoch 61: val_loss did not improve from 0.00520\n",
            "27/27 [==============================] - 9s 346ms/step - loss: 0.0044 - attention_mae: 0.0288 - val_loss: 0.0053 - val_attention_mae: 0.0287\n",
            "Epoch 62/300\n",
            "27/27 [==============================] - ETA: 0s - loss: 0.0043 - attention_mae: 0.0279\n",
            "Epoch 62: val_loss improved from 0.00520 to 0.00519, saving model to /content/drive/MyDrive/Research/TAVI/Models/Curvature_2_Pressure_MultiViewUNet_DO_0.5\n",
            "27/27 [==============================] - 9s 351ms/step - loss: 0.0043 - attention_mae: 0.0279 - val_loss: 0.0052 - val_attention_mae: 0.0284\n",
            "Epoch 63/300\n",
            "27/27 [==============================] - ETA: 0s - loss: 0.0042 - attention_mae: 0.0277\n",
            "Epoch 63: val_loss improved from 0.00519 to 0.00518, saving model to /content/drive/MyDrive/Research/TAVI/Models/Curvature_2_Pressure_MultiViewUNet_DO_0.5\n",
            "27/27 [==============================] - 10s 356ms/step - loss: 0.0042 - attention_mae: 0.0277 - val_loss: 0.0052 - val_attention_mae: 0.0281\n",
            "Epoch 64/300\n",
            "27/27 [==============================] - ETA: 0s - loss: 0.0042 - attention_mae: 0.0276\n",
            "Epoch 64: val_loss did not improve from 0.00518\n",
            "27/27 [==============================] - 9s 346ms/step - loss: 0.0042 - attention_mae: 0.0276 - val_loss: 0.0054 - val_attention_mae: 0.0296\n",
            "Epoch 65/300\n",
            "27/27 [==============================] - ETA: 0s - loss: 0.0042 - attention_mae: 0.0276\n",
            "Epoch 65: val_loss did not improve from 0.00518\n",
            "27/27 [==============================] - 9s 336ms/step - loss: 0.0042 - attention_mae: 0.0276 - val_loss: 0.0053 - val_attention_mae: 0.0269\n",
            "Epoch 66/300\n",
            "27/27 [==============================] - ETA: 0s - loss: 0.0041 - attention_mae: 0.0275\n",
            "Epoch 66: val_loss did not improve from 0.00518\n",
            "27/27 [==============================] - 9s 337ms/step - loss: 0.0041 - attention_mae: 0.0275 - val_loss: 0.0052 - val_attention_mae: 0.0271\n",
            "Epoch 67/300\n",
            "27/27 [==============================] - ETA: 0s - loss: 0.0042 - attention_mae: 0.0275\n",
            "Epoch 67: val_loss improved from 0.00518 to 0.00516, saving model to /content/drive/MyDrive/Research/TAVI/Models/Curvature_2_Pressure_MultiViewUNet_DO_0.5\n",
            "27/27 [==============================] - 9s 353ms/step - loss: 0.0042 - attention_mae: 0.0275 - val_loss: 0.0052 - val_attention_mae: 0.0282\n",
            "Epoch 68/300\n",
            "27/27 [==============================] - ETA: 0s - loss: 0.0041 - attention_mae: 0.0274\n",
            "Epoch 68: val_loss did not improve from 0.00516\n",
            "27/27 [==============================] - 9s 338ms/step - loss: 0.0041 - attention_mae: 0.0274 - val_loss: 0.0053 - val_attention_mae: 0.0275\n",
            "Epoch 69/300\n",
            "27/27 [==============================] - ETA: 0s - loss: 0.0042 - attention_mae: 0.0279\n",
            "Epoch 69: val_loss did not improve from 0.00516\n",
            "27/27 [==============================] - 9s 336ms/step - loss: 0.0042 - attention_mae: 0.0279 - val_loss: 0.0056 - val_attention_mae: 0.0280\n",
            "Epoch 70/300\n",
            "27/27 [==============================] - ETA: 0s - loss: 0.0043 - attention_mae: 0.0281\n",
            "Epoch 70: val_loss improved from 0.00516 to 0.00506, saving model to /content/drive/MyDrive/Research/TAVI/Models/Curvature_2_Pressure_MultiViewUNet_DO_0.5\n",
            "27/27 [==============================] - 10s 355ms/step - loss: 0.0043 - attention_mae: 0.0281 - val_loss: 0.0051 - val_attention_mae: 0.0272\n",
            "Epoch 71/300\n",
            "27/27 [==============================] - ETA: 0s - loss: 0.0042 - attention_mae: 0.0276\n",
            "Epoch 71: val_loss did not improve from 0.00506\n",
            "27/27 [==============================] - 9s 346ms/step - loss: 0.0042 - attention_mae: 0.0276 - val_loss: 0.0051 - val_attention_mae: 0.0268\n",
            "Epoch 72/300\n",
            "27/27 [==============================] - ETA: 0s - loss: 0.0041 - attention_mae: 0.0271\n",
            "Epoch 72: val_loss did not improve from 0.00506\n",
            "27/27 [==============================] - 9s 335ms/step - loss: 0.0041 - attention_mae: 0.0271 - val_loss: 0.0052 - val_attention_mae: 0.0285\n",
            "Epoch 73/300\n",
            "27/27 [==============================] - ETA: 0s - loss: 0.0040 - attention_mae: 0.0267\n",
            "Epoch 73: val_loss did not improve from 0.00506\n",
            "27/27 [==============================] - 9s 337ms/step - loss: 0.0040 - attention_mae: 0.0267 - val_loss: 0.0051 - val_attention_mae: 0.0270\n",
            "Epoch 74/300\n",
            "27/27 [==============================] - ETA: 0s - loss: 0.0039 - attention_mae: 0.0265\n",
            "Epoch 74: val_loss did not improve from 0.00506\n",
            "27/27 [==============================] - 9s 345ms/step - loss: 0.0039 - attention_mae: 0.0265 - val_loss: 0.0055 - val_attention_mae: 0.0277\n",
            "Epoch 75/300\n",
            "27/27 [==============================] - ETA: 0s - loss: 0.0039 - attention_mae: 0.0265\n",
            "Epoch 75: val_loss did not improve from 0.00506\n",
            "27/27 [==============================] - 9s 336ms/step - loss: 0.0039 - attention_mae: 0.0265 - val_loss: 0.0053 - val_attention_mae: 0.0291\n",
            "Epoch 76/300\n",
            "27/27 [==============================] - ETA: 0s - loss: 0.0039 - attention_mae: 0.0263\n",
            "Epoch 76: val_loss did not improve from 0.00506\n",
            "27/27 [==============================] - 9s 347ms/step - loss: 0.0039 - attention_mae: 0.0263 - val_loss: 0.0054 - val_attention_mae: 0.0283\n",
            "Epoch 77/300\n",
            "27/27 [==============================] - ETA: 0s - loss: 0.0038 - attention_mae: 0.0260\n",
            "Epoch 77: val_loss did not improve from 0.00506\n",
            "27/27 [==============================] - 9s 335ms/step - loss: 0.0038 - attention_mae: 0.0260 - val_loss: 0.0052 - val_attention_mae: 0.0289\n",
            "Epoch 78/300\n",
            "27/27 [==============================] - ETA: 0s - loss: 0.0038 - attention_mae: 0.0260\n",
            "Epoch 78: val_loss did not improve from 0.00506\n",
            "27/27 [==============================] - 9s 336ms/step - loss: 0.0038 - attention_mae: 0.0260 - val_loss: 0.0052 - val_attention_mae: 0.0281\n",
            "Epoch 79/300\n",
            "27/27 [==============================] - ETA: 0s - loss: 0.0038 - attention_mae: 0.0256\n",
            "Epoch 79: val_loss did not improve from 0.00506\n",
            "27/27 [==============================] - 9s 335ms/step - loss: 0.0038 - attention_mae: 0.0256 - val_loss: 0.0054 - val_attention_mae: 0.0284\n",
            "Epoch 80/300\n",
            "27/27 [==============================] - ETA: 0s - loss: 0.0038 - attention_mae: 0.0256\n",
            "Epoch 80: val_loss did not improve from 0.00506\n",
            "27/27 [==============================] - 9s 336ms/step - loss: 0.0038 - attention_mae: 0.0256 - val_loss: 0.0052 - val_attention_mae: 0.0278\n",
            "Epoch 81/300\n",
            "27/27 [==============================] - ETA: 0s - loss: 0.0038 - attention_mae: 0.0255\n",
            "Epoch 81: val_loss did not improve from 0.00506\n",
            "27/27 [==============================] - 9s 344ms/step - loss: 0.0038 - attention_mae: 0.0255 - val_loss: 0.0053 - val_attention_mae: 0.0284\n",
            "Epoch 82/300\n",
            "27/27 [==============================] - ETA: 0s - loss: 0.0038 - attention_mae: 0.0255\n",
            "Epoch 82: val_loss did not improve from 0.00506\n",
            "27/27 [==============================] - 9s 336ms/step - loss: 0.0038 - attention_mae: 0.0255 - val_loss: 0.0052 - val_attention_mae: 0.0280\n",
            "Epoch 83/300\n",
            "27/27 [==============================] - ETA: 0s - loss: 0.0037 - attention_mae: 0.0257\n",
            "Epoch 83: val_loss did not improve from 0.00506\n",
            "27/27 [==============================] - 9s 347ms/step - loss: 0.0037 - attention_mae: 0.0257 - val_loss: 0.0052 - val_attention_mae: 0.0266\n",
            "Epoch 84/300\n",
            "27/27 [==============================] - ETA: 0s - loss: 0.0038 - attention_mae: 0.0255\n",
            "Epoch 84: val_loss did not improve from 0.00506\n",
            "27/27 [==============================] - 9s 335ms/step - loss: 0.0038 - attention_mae: 0.0255 - val_loss: 0.0052 - val_attention_mae: 0.0276\n",
            "Epoch 85/300\n",
            "27/27 [==============================] - ETA: 0s - loss: 0.0038 - attention_mae: 0.0262\n",
            "Epoch 85: val_loss did not improve from 0.00506\n",
            "27/27 [==============================] - 9s 335ms/step - loss: 0.0038 - attention_mae: 0.0262 - val_loss: 0.0053 - val_attention_mae: 0.0287\n",
            "Epoch 86/300\n",
            "27/27 [==============================] - ETA: 0s - loss: 0.0038 - attention_mae: 0.0258\n",
            "Epoch 86: val_loss improved from 0.00506 to 0.00503, saving model to /content/drive/MyDrive/Research/TAVI/Models/Curvature_2_Pressure_MultiViewUNet_DO_0.5\n",
            "27/27 [==============================] - 10s 365ms/step - loss: 0.0038 - attention_mae: 0.0258 - val_loss: 0.0050 - val_attention_mae: 0.0255\n",
            "Epoch 87/300\n",
            "27/27 [==============================] - ETA: 0s - loss: 0.0037 - attention_mae: 0.0252\n",
            "Epoch 87: val_loss did not improve from 0.00503\n",
            "27/27 [==============================] - 9s 338ms/step - loss: 0.0037 - attention_mae: 0.0252 - val_loss: 0.0053 - val_attention_mae: 0.0273\n",
            "Epoch 88/300\n",
            "27/27 [==============================] - ETA: 0s - loss: 0.0037 - attention_mae: 0.0251\n",
            "Epoch 88: val_loss did not improve from 0.00503\n",
            "27/27 [==============================] - 9s 336ms/step - loss: 0.0037 - attention_mae: 0.0251 - val_loss: 0.0052 - val_attention_mae: 0.0276\n",
            "Epoch 89/300\n",
            "27/27 [==============================] - ETA: 0s - loss: 0.0039 - attention_mae: 0.0260\n",
            "Epoch 89: val_loss did not improve from 0.00503\n",
            "27/27 [==============================] - 9s 334ms/step - loss: 0.0039 - attention_mae: 0.0260 - val_loss: 0.0054 - val_attention_mae: 0.0270\n",
            "Epoch 90/300\n",
            "27/27 [==============================] - ETA: 0s - loss: 0.0038 - attention_mae: 0.0259\n",
            "Epoch 90: val_loss did not improve from 0.00503\n",
            "27/27 [==============================] - 9s 337ms/step - loss: 0.0038 - attention_mae: 0.0259 - val_loss: 0.0052 - val_attention_mae: 0.0267\n",
            "Epoch 91/300\n",
            "27/27 [==============================] - ETA: 0s - loss: 0.0036 - attention_mae: 0.0248\n",
            "Epoch 91: val_loss did not improve from 0.00503\n",
            "27/27 [==============================] - 9s 335ms/step - loss: 0.0036 - attention_mae: 0.0248 - val_loss: 0.0053 - val_attention_mae: 0.0268\n",
            "Epoch 92/300\n",
            "27/27 [==============================] - ETA: 0s - loss: 0.0036 - attention_mae: 0.0248\n",
            "Epoch 92: val_loss did not improve from 0.00503\n",
            "27/27 [==============================] - 9s 333ms/step - loss: 0.0036 - attention_mae: 0.0248 - val_loss: 0.0052 - val_attention_mae: 0.0279\n",
            "Epoch 93/300\n",
            "27/27 [==============================] - ETA: 0s - loss: 0.0036 - attention_mae: 0.0247\n",
            "Epoch 93: val_loss did not improve from 0.00503\n",
            "27/27 [==============================] - 9s 346ms/step - loss: 0.0036 - attention_mae: 0.0247 - val_loss: 0.0056 - val_attention_mae: 0.0312\n",
            "Epoch 94/300\n",
            "27/27 [==============================] - ETA: 0s - loss: 0.0036 - attention_mae: 0.0250\n",
            "Epoch 94: val_loss did not improve from 0.00503\n",
            "27/27 [==============================] - 9s 334ms/step - loss: 0.0036 - attention_mae: 0.0250 - val_loss: 0.0051 - val_attention_mae: 0.0263\n",
            "Epoch 95/300\n",
            "27/27 [==============================] - ETA: 0s - loss: 0.0035 - attention_mae: 0.0243\n",
            "Epoch 95: val_loss did not improve from 0.00503\n",
            "27/27 [==============================] - 9s 337ms/step - loss: 0.0035 - attention_mae: 0.0243 - val_loss: 0.0054 - val_attention_mae: 0.0270\n",
            "Epoch 96/300\n",
            "27/27 [==============================] - ETA: 0s - loss: 0.0035 - attention_mae: 0.0242\n",
            "Epoch 96: val_loss did not improve from 0.00503\n",
            "27/27 [==============================] - 9s 343ms/step - loss: 0.0035 - attention_mae: 0.0242 - val_loss: 0.0051 - val_attention_mae: 0.0267\n",
            "Epoch 97/300\n",
            "27/27 [==============================] - ETA: 0s - loss: 0.0034 - attention_mae: 0.0240\n",
            "Epoch 97: val_loss did not improve from 0.00503\n",
            "27/27 [==============================] - 9s 336ms/step - loss: 0.0034 - attention_mae: 0.0240 - val_loss: 0.0052 - val_attention_mae: 0.0270\n",
            "Epoch 98/300\n",
            "27/27 [==============================] - ETA: 0s - loss: 0.0034 - attention_mae: 0.0237\n",
            "Epoch 98: val_loss did not improve from 0.00503\n",
            "27/27 [==============================] - 9s 337ms/step - loss: 0.0034 - attention_mae: 0.0237 - val_loss: 0.0051 - val_attention_mae: 0.0276\n",
            "Epoch 99/300\n",
            "27/27 [==============================] - ETA: 0s - loss: 0.0034 - attention_mae: 0.0240\n",
            "Epoch 99: val_loss did not improve from 0.00503\n",
            "27/27 [==============================] - 9s 335ms/step - loss: 0.0034 - attention_mae: 0.0240 - val_loss: 0.0052 - val_attention_mae: 0.0284\n",
            "Epoch 100/300\n",
            "27/27 [==============================] - ETA: 0s - loss: 0.0034 - attention_mae: 0.0239\n",
            "Epoch 100: val_loss did not improve from 0.00503\n",
            "27/27 [==============================] - 9s 337ms/step - loss: 0.0034 - attention_mae: 0.0239 - val_loss: 0.0053 - val_attention_mae: 0.0274\n",
            "Epoch 101/300\n",
            "27/27 [==============================] - ETA: 0s - loss: 0.0034 - attention_mae: 0.0241\n",
            "Epoch 101: val_loss did not improve from 0.00503\n",
            "27/27 [==============================] - 9s 334ms/step - loss: 0.0034 - attention_mae: 0.0241 - val_loss: 0.0053 - val_attention_mae: 0.0281\n",
            "Epoch 102/300\n",
            "27/27 [==============================] - ETA: 0s - loss: 0.0034 - attention_mae: 0.0240\n",
            "Epoch 102: val_loss did not improve from 0.00503\n",
            "27/27 [==============================] - 9s 337ms/step - loss: 0.0034 - attention_mae: 0.0240 - val_loss: 0.0052 - val_attention_mae: 0.0266\n",
            "Epoch 103/300\n",
            "27/27 [==============================] - ETA: 0s - loss: 0.0035 - attention_mae: 0.0242\n",
            "Epoch 103: val_loss did not improve from 0.00503\n",
            "27/27 [==============================] - 9s 346ms/step - loss: 0.0035 - attention_mae: 0.0242 - val_loss: 0.0053 - val_attention_mae: 0.0282\n",
            "Epoch 104/300\n",
            "27/27 [==============================] - ETA: 0s - loss: 0.0035 - attention_mae: 0.0239\n",
            "Epoch 104: val_loss did not improve from 0.00503\n",
            "27/27 [==============================] - 9s 337ms/step - loss: 0.0035 - attention_mae: 0.0239 - val_loss: 0.0053 - val_attention_mae: 0.0270\n",
            "Epoch 105/300\n",
            "27/27 [==============================] - ETA: 0s - loss: 0.0035 - attention_mae: 0.0239\n",
            "Epoch 105: val_loss did not improve from 0.00503\n",
            "27/27 [==============================] - 9s 346ms/step - loss: 0.0035 - attention_mae: 0.0239 - val_loss: 0.0052 - val_attention_mae: 0.0283\n",
            "Epoch 106/300\n",
            "27/27 [==============================] - ETA: 0s - loss: 0.0035 - attention_mae: 0.0241\n",
            "Epoch 106: val_loss did not improve from 0.00503\n",
            "27/27 [==============================] - 9s 336ms/step - loss: 0.0035 - attention_mae: 0.0241 - val_loss: 0.0052 - val_attention_mae: 0.0272\n",
            "Epoch 107/300\n",
            "27/27 [==============================] - ETA: 0s - loss: 0.0034 - attention_mae: 0.0243\n",
            "Epoch 107: val_loss did not improve from 0.00503\n",
            "27/27 [==============================] - 9s 348ms/step - loss: 0.0034 - attention_mae: 0.0243 - val_loss: 0.0051 - val_attention_mae: 0.0263\n",
            "Epoch 108/300\n",
            "27/27 [==============================] - ETA: 0s - loss: 0.0033 - attention_mae: 0.0233\n",
            "Epoch 108: val_loss did not improve from 0.00503\n",
            "27/27 [==============================] - 9s 335ms/step - loss: 0.0033 - attention_mae: 0.0233 - val_loss: 0.0050 - val_attention_mae: 0.0255\n",
            "Epoch 109/300\n",
            "27/27 [==============================] - ETA: 0s - loss: 0.0033 - attention_mae: 0.0231\n",
            "Epoch 109: val_loss did not improve from 0.00503\n",
            "27/27 [==============================] - 9s 336ms/step - loss: 0.0033 - attention_mae: 0.0231 - val_loss: 0.0052 - val_attention_mae: 0.0264\n",
            "Epoch 110/300\n",
            "27/27 [==============================] - ETA: 0s - loss: 0.0033 - attention_mae: 0.0231\n",
            "Epoch 110: val_loss did not improve from 0.00503\n",
            "27/27 [==============================] - 9s 345ms/step - loss: 0.0033 - attention_mae: 0.0231 - val_loss: 0.0052 - val_attention_mae: 0.0267\n",
            "Epoch 111/300\n",
            "27/27 [==============================] - ETA: 0s - loss: 0.0032 - attention_mae: 0.0228\n",
            "Epoch 111: val_loss did not improve from 0.00503\n",
            "27/27 [==============================] - 9s 336ms/step - loss: 0.0032 - attention_mae: 0.0228 - val_loss: 0.0052 - val_attention_mae: 0.0268\n",
            "Epoch 112/300\n",
            "27/27 [==============================] - ETA: 0s - loss: 0.0032 - attention_mae: 0.0229\n",
            "Epoch 112: val_loss did not improve from 0.00503\n",
            "27/27 [==============================] - 9s 347ms/step - loss: 0.0032 - attention_mae: 0.0229 - val_loss: 0.0053 - val_attention_mae: 0.0272\n",
            "Epoch 113/300\n",
            "27/27 [==============================] - ETA: 0s - loss: 0.0032 - attention_mae: 0.0233\n",
            "Epoch 113: val_loss did not improve from 0.00503\n",
            "27/27 [==============================] - 9s 335ms/step - loss: 0.0032 - attention_mae: 0.0233 - val_loss: 0.0053 - val_attention_mae: 0.0276\n",
            "Epoch 114/300\n",
            "27/27 [==============================] - ETA: 0s - loss: 0.0032 - attention_mae: 0.0229\n",
            "Epoch 114: val_loss did not improve from 0.00503\n",
            "27/27 [==============================] - 9s 337ms/step - loss: 0.0032 - attention_mae: 0.0229 - val_loss: 0.0053 - val_attention_mae: 0.0283\n",
            "Epoch 115/300\n",
            "27/27 [==============================] - ETA: 0s - loss: 0.0032 - attention_mae: 0.0229\n",
            "Epoch 115: val_loss did not improve from 0.00503\n",
            "27/27 [==============================] - 9s 336ms/step - loss: 0.0032 - attention_mae: 0.0229 - val_loss: 0.0053 - val_attention_mae: 0.0279\n",
            "Epoch 116/300\n",
            "27/27 [==============================] - ETA: 0s - loss: 0.0032 - attention_mae: 0.0228\n",
            "Epoch 116: val_loss did not improve from 0.00503\n",
            "27/27 [==============================] - 9s 340ms/step - loss: 0.0032 - attention_mae: 0.0228 - val_loss: 0.0054 - val_attention_mae: 0.0278\n"
          ]
        }
      ],
      "source": [
        "history = model.fit(\n",
        "    train_batches,\n",
        "    validation_data=test_batches,\n",
        "    epochs=N_EPOCHS,\n",
        "    batch_size=BATCH_SIZE,\n",
        "    callbacks=callbacks,\n",
        "    verbose=1,\n",
        ")"
      ]
    },
    {
      "cell_type": "markdown",
      "metadata": {
        "id": "MYJgw9qhh7ew"
      },
      "source": [
        "# Save Model"
      ]
    },
    {
      "cell_type": "code",
      "execution_count": 17,
      "metadata": {
        "id": "bux6go2yh7ew"
      },
      "outputs": [],
      "source": [
        "timestamp = datetime.datetime.now().strftime(\"%b-%d-%I:%M%p\")\n",
        "if not os.path.exists(model_path):\n",
        "    os.makedirs(model_path)\n",
        "\n",
        "model.save(os.path.join(model_path, timestamp))"
      ]
    },
    {
      "cell_type": "markdown",
      "metadata": {
        "id": "QMFZgyu9h7ex"
      },
      "source": [
        "# Save Predictions"
      ]
    },
    {
      "cell_type": "code",
      "execution_count": 18,
      "metadata": {
        "colab": {
          "base_uri": "https://localhost:8080/"
        },
        "id": "FnsfVhkDh7ex",
        "outputId": "dddbfeb3-65b9-4b1e-ac95-e343151d2927"
      },
      "outputs": [
        {
          "output_type": "stream",
          "name": "stderr",
          "text": [
            "\r0it [00:00, ?it/s]"
          ]
        },
        {
          "output_type": "stream",
          "name": "stdout",
          "text": [
            "1/1 [==============================] - 1s 931ms/step\n"
          ]
        },
        {
          "output_type": "stream",
          "name": "stderr",
          "text": [
            "\r1it [00:01,  1.15s/it]"
          ]
        },
        {
          "output_type": "stream",
          "name": "stdout",
          "text": [
            "1/1 [==============================] - 0s 22ms/step\n",
            "1/1 [==============================] - 0s 22ms/step\n"
          ]
        },
        {
          "output_type": "stream",
          "name": "stderr",
          "text": [
            "\r3it [00:01,  2.71it/s]"
          ]
        },
        {
          "output_type": "stream",
          "name": "stdout",
          "text": [
            "1/1 [==============================] - 0s 26ms/step\n"
          ]
        },
        {
          "output_type": "stream",
          "name": "stderr",
          "text": [
            "\r4it [00:01,  3.61it/s]"
          ]
        },
        {
          "output_type": "stream",
          "name": "stdout",
          "text": [
            "1/1 [==============================] - 0s 21ms/step\n",
            "1/1 [==============================] - 0s 25ms/step\n"
          ]
        },
        {
          "output_type": "stream",
          "name": "stderr",
          "text": [
            "\r6it [00:01,  5.32it/s]"
          ]
        },
        {
          "output_type": "stream",
          "name": "stdout",
          "text": [
            "1/1 [==============================] - 0s 22ms/step\n",
            "1/1 [==============================] - 0s 30ms/step\n"
          ]
        },
        {
          "output_type": "stream",
          "name": "stderr",
          "text": [
            "\r8it [00:01,  6.63it/s]"
          ]
        },
        {
          "output_type": "stream",
          "name": "stdout",
          "text": [
            "1/1 [==============================] - 0s 23ms/step\n"
          ]
        },
        {
          "output_type": "stream",
          "name": "stderr",
          "text": [
            "\r9it [00:01,  6.77it/s]"
          ]
        },
        {
          "output_type": "stream",
          "name": "stdout",
          "text": [
            "1/1 [==============================] - 0s 21ms/step\n",
            "1/1 [==============================] - 0s 23ms/step\n"
          ]
        },
        {
          "output_type": "stream",
          "name": "stderr",
          "text": [
            "\r11it [00:02,  7.91it/s]"
          ]
        },
        {
          "output_type": "stream",
          "name": "stdout",
          "text": [
            "1/1 [==============================] - 0s 21ms/step\n",
            "1/1 [==============================] - 0s 29ms/step\n"
          ]
        },
        {
          "output_type": "stream",
          "name": "stderr",
          "text": [
            "\r13it [00:02,  8.32it/s]"
          ]
        },
        {
          "output_type": "stream",
          "name": "stdout",
          "text": [
            "1/1 [==============================] - 0s 23ms/step\n"
          ]
        },
        {
          "output_type": "stream",
          "name": "stderr",
          "text": [
            "\r14it [00:02,  8.61it/s]"
          ]
        },
        {
          "output_type": "stream",
          "name": "stdout",
          "text": [
            "1/1 [==============================] - 0s 21ms/step\n"
          ]
        },
        {
          "output_type": "stream",
          "name": "stderr",
          "text": [
            "\r15it [00:02,  8.71it/s]"
          ]
        },
        {
          "output_type": "stream",
          "name": "stdout",
          "text": [
            "1/1 [==============================] - 0s 22ms/step\n"
          ]
        },
        {
          "output_type": "stream",
          "name": "stderr",
          "text": [
            "\r16it [00:02,  8.83it/s]"
          ]
        },
        {
          "output_type": "stream",
          "name": "stdout",
          "text": [
            "1/1 [==============================] - 0s 22ms/step\n"
          ]
        },
        {
          "output_type": "stream",
          "name": "stderr",
          "text": [
            "\r17it [00:02,  8.72it/s]"
          ]
        },
        {
          "output_type": "stream",
          "name": "stdout",
          "text": [
            "1/1 [==============================] - 0s 25ms/step\n"
          ]
        },
        {
          "output_type": "stream",
          "name": "stderr",
          "text": [
            "\r18it [00:02,  9.01it/s]"
          ]
        },
        {
          "output_type": "stream",
          "name": "stdout",
          "text": [
            "1/1 [==============================] - 0s 25ms/step\n",
            "1/1 [==============================] - 0s 21ms/step\n"
          ]
        },
        {
          "output_type": "stream",
          "name": "stderr",
          "text": [
            "\r20it [00:03,  9.52it/s]"
          ]
        },
        {
          "output_type": "stream",
          "name": "stdout",
          "text": [
            "1/1 [==============================] - 0s 20ms/step\n"
          ]
        },
        {
          "output_type": "stream",
          "name": "stderr",
          "text": [
            "\r21it [00:03,  9.42it/s]"
          ]
        },
        {
          "output_type": "stream",
          "name": "stdout",
          "text": [
            "1/1 [==============================] - 0s 22ms/step\n"
          ]
        },
        {
          "output_type": "stream",
          "name": "stderr",
          "text": [
            "\r22it [00:03,  9.23it/s]"
          ]
        },
        {
          "output_type": "stream",
          "name": "stdout",
          "text": [
            "1/1 [==============================] - 0s 26ms/step\n"
          ]
        },
        {
          "output_type": "stream",
          "name": "stderr",
          "text": [
            "\r23it [00:03,  9.35it/s]"
          ]
        },
        {
          "output_type": "stream",
          "name": "stdout",
          "text": [
            "1/1 [==============================] - 0s 21ms/step\n"
          ]
        },
        {
          "output_type": "stream",
          "name": "stderr",
          "text": [
            "\r24it [00:03,  9.33it/s]"
          ]
        },
        {
          "output_type": "stream",
          "name": "stdout",
          "text": [
            "1/1 [==============================] - 0s 22ms/step\n"
          ]
        },
        {
          "output_type": "stream",
          "name": "stderr",
          "text": [
            "\r25it [00:03,  9.43it/s]"
          ]
        },
        {
          "output_type": "stream",
          "name": "stdout",
          "text": [
            "1/1 [==============================] - 0s 21ms/step\n",
            "1/1 [==============================] - 0s 22ms/step\n"
          ]
        },
        {
          "output_type": "stream",
          "name": "stderr",
          "text": [
            "\r27it [00:03,  9.79it/s]"
          ]
        },
        {
          "output_type": "stream",
          "name": "stdout",
          "text": [
            "1/1 [==============================] - 0s 27ms/step\n"
          ]
        },
        {
          "output_type": "stream",
          "name": "stderr",
          "text": [
            "\r28it [00:03,  9.83it/s]"
          ]
        },
        {
          "output_type": "stream",
          "name": "stdout",
          "text": [
            "1/1 [==============================] - 0s 21ms/step\n",
            "1/1 [==============================] - 0s 23ms/step\n"
          ]
        },
        {
          "output_type": "stream",
          "name": "stderr",
          "text": [
            "\r30it [00:04, 10.04it/s]"
          ]
        },
        {
          "output_type": "stream",
          "name": "stdout",
          "text": [
            "1/1 [==============================] - 0s 20ms/step\n",
            "1/1 [==============================] - 0s 20ms/step\n"
          ]
        },
        {
          "output_type": "stream",
          "name": "stderr",
          "text": [
            "\r32it [00:04,  9.83it/s]"
          ]
        },
        {
          "output_type": "stream",
          "name": "stdout",
          "text": [
            "1/1 [==============================] - 0s 21ms/step\n"
          ]
        },
        {
          "output_type": "stream",
          "name": "stderr",
          "text": [
            "\r33it [00:04,  9.52it/s]"
          ]
        },
        {
          "output_type": "stream",
          "name": "stdout",
          "text": [
            "1/1 [==============================] - 0s 22ms/step\n"
          ]
        },
        {
          "output_type": "stream",
          "name": "stderr",
          "text": [
            "\r34it [00:04,  9.57it/s]"
          ]
        },
        {
          "output_type": "stream",
          "name": "stdout",
          "text": [
            "1/1 [==============================] - 0s 21ms/step\n"
          ]
        },
        {
          "output_type": "stream",
          "name": "stderr",
          "text": [
            "\r35it [00:04,  9.53it/s]"
          ]
        },
        {
          "output_type": "stream",
          "name": "stdout",
          "text": [
            "1/1 [==============================] - 0s 21ms/step\n",
            "1/1 [==============================] - 0s 20ms/step\n"
          ]
        },
        {
          "output_type": "stream",
          "name": "stderr",
          "text": [
            "\r37it [00:04,  9.93it/s]"
          ]
        },
        {
          "output_type": "stream",
          "name": "stdout",
          "text": [
            "1/1 [==============================] - 0s 25ms/step\n",
            "1/1 [==============================] - 0s 21ms/step\n"
          ]
        },
        {
          "output_type": "stream",
          "name": "stderr",
          "text": [
            "\r39it [00:05, 10.04it/s]"
          ]
        },
        {
          "output_type": "stream",
          "name": "stdout",
          "text": [
            "1/1 [==============================] - 0s 19ms/step\n"
          ]
        },
        {
          "output_type": "stream",
          "name": "stderr",
          "text": [
            "\r40it [00:05, 10.00it/s]"
          ]
        },
        {
          "output_type": "stream",
          "name": "stdout",
          "text": [
            "1/1 [==============================] - 0s 20ms/step\n"
          ]
        },
        {
          "output_type": "stream",
          "name": "stderr",
          "text": [
            "\r41it [00:05,  9.82it/s]"
          ]
        },
        {
          "output_type": "stream",
          "name": "stdout",
          "text": [
            "1/1 [==============================] - 0s 24ms/step\n"
          ]
        },
        {
          "output_type": "stream",
          "name": "stderr",
          "text": [
            "\r42it [00:05,  9.74it/s]"
          ]
        },
        {
          "output_type": "stream",
          "name": "stdout",
          "text": [
            "1/1 [==============================] - 0s 22ms/step\n"
          ]
        },
        {
          "output_type": "stream",
          "name": "stderr",
          "text": [
            "\r43it [00:05,  9.76it/s]"
          ]
        },
        {
          "output_type": "stream",
          "name": "stdout",
          "text": [
            "1/1 [==============================] - 0s 20ms/step\n"
          ]
        },
        {
          "output_type": "stream",
          "name": "stderr",
          "text": [
            "\r44it [00:05,  9.78it/s]"
          ]
        },
        {
          "output_type": "stream",
          "name": "stdout",
          "text": [
            "1/1 [==============================] - 0s 23ms/step\n"
          ]
        },
        {
          "output_type": "stream",
          "name": "stderr",
          "text": [
            "\r45it [00:05,  9.60it/s]"
          ]
        },
        {
          "output_type": "stream",
          "name": "stdout",
          "text": [
            "1/1 [==============================] - 0s 21ms/step\n",
            "1/1 [==============================] - 0s 21ms/step\n"
          ]
        },
        {
          "output_type": "stream",
          "name": "stderr",
          "text": [
            "\r47it [00:05, 10.05it/s]"
          ]
        },
        {
          "output_type": "stream",
          "name": "stdout",
          "text": [
            "1/1 [==============================] - 0s 22ms/step\n"
          ]
        },
        {
          "output_type": "stream",
          "name": "stderr",
          "text": [
            "\r48it [00:05,  9.88it/s]"
          ]
        },
        {
          "output_type": "stream",
          "name": "stdout",
          "text": [
            "1/1 [==============================] - 0s 21ms/step\n",
            "1/1 [==============================] - 0s 23ms/step\n"
          ]
        },
        {
          "output_type": "stream",
          "name": "stderr",
          "text": [
            "\r50it [00:06,  9.78it/s]"
          ]
        },
        {
          "output_type": "stream",
          "name": "stdout",
          "text": [
            "1/1 [==============================] - 0s 21ms/step\n"
          ]
        },
        {
          "output_type": "stream",
          "name": "stderr",
          "text": [
            "\r51it [00:06,  9.62it/s]"
          ]
        },
        {
          "output_type": "stream",
          "name": "stdout",
          "text": [
            "1/1 [==============================] - 0s 26ms/step\n"
          ]
        },
        {
          "output_type": "stream",
          "name": "stderr",
          "text": [
            "\r52it [00:06,  9.53it/s]"
          ]
        },
        {
          "output_type": "stream",
          "name": "stdout",
          "text": [
            "1/1 [==============================] - 0s 24ms/step\n"
          ]
        },
        {
          "output_type": "stream",
          "name": "stderr",
          "text": [
            "\r53it [00:06,  9.42it/s]"
          ]
        },
        {
          "output_type": "stream",
          "name": "stdout",
          "text": [
            "1/1 [==============================] - 0s 21ms/step\n"
          ]
        },
        {
          "output_type": "stream",
          "name": "stderr",
          "text": [
            "\r54it [00:06,  9.56it/s]"
          ]
        },
        {
          "output_type": "stream",
          "name": "stdout",
          "text": [
            "1/1 [==============================] - 0s 25ms/step\n"
          ]
        },
        {
          "output_type": "stream",
          "name": "stderr",
          "text": [
            "\r55it [00:06,  9.36it/s]"
          ]
        },
        {
          "output_type": "stream",
          "name": "stdout",
          "text": [
            "1/1 [==============================] - 0s 21ms/step\n"
          ]
        },
        {
          "output_type": "stream",
          "name": "stderr",
          "text": [
            "\r56it [00:06,  8.79it/s]"
          ]
        },
        {
          "output_type": "stream",
          "name": "stdout",
          "text": [
            "1/1 [==============================] - 0s 25ms/step\n"
          ]
        },
        {
          "output_type": "stream",
          "name": "stderr",
          "text": [
            "\r57it [00:06,  8.64it/s]"
          ]
        },
        {
          "output_type": "stream",
          "name": "stdout",
          "text": [
            "1/1 [==============================] - 0s 23ms/step\n"
          ]
        },
        {
          "output_type": "stream",
          "name": "stderr",
          "text": [
            "\r58it [00:07,  8.50it/s]"
          ]
        },
        {
          "output_type": "stream",
          "name": "stdout",
          "text": [
            "1/1 [==============================] - 0s 27ms/step\n"
          ]
        },
        {
          "output_type": "stream",
          "name": "stderr",
          "text": [
            "\r59it [00:07,  7.99it/s]"
          ]
        },
        {
          "output_type": "stream",
          "name": "stdout",
          "text": [
            "1/1 [==============================] - 0s 24ms/step\n"
          ]
        },
        {
          "output_type": "stream",
          "name": "stderr",
          "text": [
            "\r60it [00:07,  7.91it/s]"
          ]
        },
        {
          "output_type": "stream",
          "name": "stdout",
          "text": [
            "1/1 [==============================] - 0s 37ms/step\n"
          ]
        },
        {
          "output_type": "stream",
          "name": "stderr",
          "text": [
            "\r61it [00:07,  7.57it/s]"
          ]
        },
        {
          "output_type": "stream",
          "name": "stdout",
          "text": [
            "1/1 [==============================] - 0s 23ms/step\n"
          ]
        },
        {
          "output_type": "stream",
          "name": "stderr",
          "text": [
            "\r62it [00:07,  8.10it/s]"
          ]
        },
        {
          "output_type": "stream",
          "name": "stdout",
          "text": [
            "1/1 [==============================] - 0s 25ms/step\n"
          ]
        },
        {
          "output_type": "stream",
          "name": "stderr",
          "text": [
            "\r63it [00:07,  8.29it/s]"
          ]
        },
        {
          "output_type": "stream",
          "name": "stdout",
          "text": [
            "1/1 [==============================] - 0s 21ms/step\n"
          ]
        },
        {
          "output_type": "stream",
          "name": "stderr",
          "text": [
            "\r64it [00:07,  8.64it/s]"
          ]
        },
        {
          "output_type": "stream",
          "name": "stdout",
          "text": [
            "1/1 [==============================] - 0s 25ms/step\n"
          ]
        },
        {
          "output_type": "stream",
          "name": "stderr",
          "text": [
            "\r65it [00:07,  8.70it/s]"
          ]
        },
        {
          "output_type": "stream",
          "name": "stdout",
          "text": [
            "1/1 [==============================] - 0s 20ms/step\n"
          ]
        },
        {
          "output_type": "stream",
          "name": "stderr",
          "text": [
            "\r66it [00:08,  8.65it/s]"
          ]
        },
        {
          "output_type": "stream",
          "name": "stdout",
          "text": [
            "1/1 [==============================] - 0s 20ms/step\n",
            "1/1 [==============================] - 0s 34ms/step\n"
          ]
        },
        {
          "output_type": "stream",
          "name": "stderr",
          "text": [
            "\r68it [00:08,  8.90it/s]"
          ]
        },
        {
          "output_type": "stream",
          "name": "stdout",
          "text": [
            "1/1 [==============================] - 0s 21ms/step\n"
          ]
        },
        {
          "output_type": "stream",
          "name": "stderr",
          "text": [
            "\r69it [00:08,  9.06it/s]"
          ]
        },
        {
          "output_type": "stream",
          "name": "stdout",
          "text": [
            "1/1 [==============================] - 0s 21ms/step\n",
            "1/1 [==============================] - 0s 20ms/step\n"
          ]
        },
        {
          "output_type": "stream",
          "name": "stderr",
          "text": [
            "\r71it [00:08,  9.57it/s]"
          ]
        },
        {
          "output_type": "stream",
          "name": "stdout",
          "text": [
            "1/1 [==============================] - 0s 23ms/step\n"
          ]
        },
        {
          "output_type": "stream",
          "name": "stderr",
          "text": [
            "\r72it [00:08,  9.48it/s]"
          ]
        },
        {
          "output_type": "stream",
          "name": "stdout",
          "text": [
            "1/1 [==============================] - 0s 30ms/step\n"
          ]
        },
        {
          "output_type": "stream",
          "name": "stderr",
          "text": [
            "\r73it [00:08,  9.55it/s]"
          ]
        },
        {
          "output_type": "stream",
          "name": "stdout",
          "text": [
            "1/1 [==============================] - 0s 23ms/step\n"
          ]
        },
        {
          "output_type": "stream",
          "name": "stderr",
          "text": [
            "\r74it [00:08,  9.33it/s]"
          ]
        },
        {
          "output_type": "stream",
          "name": "stdout",
          "text": [
            "1/1 [==============================] - 0s 20ms/step\n"
          ]
        },
        {
          "output_type": "stream",
          "name": "stderr",
          "text": [
            "\r75it [00:09,  9.19it/s]"
          ]
        },
        {
          "output_type": "stream",
          "name": "stdout",
          "text": [
            "1/1 [==============================] - 0s 20ms/step\n",
            "1/1 [==============================] - 0s 22ms/step\n"
          ]
        },
        {
          "output_type": "stream",
          "name": "stderr",
          "text": [
            "\r77it [00:09,  9.66it/s]"
          ]
        },
        {
          "output_type": "stream",
          "name": "stdout",
          "text": [
            "1/1 [==============================] - 0s 23ms/step\n",
            "1/1 [==============================] - 0s 24ms/step\n"
          ]
        },
        {
          "output_type": "stream",
          "name": "stderr",
          "text": [
            "\r79it [00:09,  9.64it/s]"
          ]
        },
        {
          "output_type": "stream",
          "name": "stdout",
          "text": [
            "1/1 [==============================] - 0s 24ms/step\n"
          ]
        },
        {
          "output_type": "stream",
          "name": "stderr",
          "text": [
            "\r80it [00:09,  9.69it/s]"
          ]
        },
        {
          "output_type": "stream",
          "name": "stdout",
          "text": [
            "1/1 [==============================] - 0s 33ms/step\n"
          ]
        },
        {
          "output_type": "stream",
          "name": "stderr",
          "text": [
            "\r81it [00:09,  9.11it/s]"
          ]
        },
        {
          "output_type": "stream",
          "name": "stdout",
          "text": [
            "1/1 [==============================] - 0s 32ms/step\n"
          ]
        },
        {
          "output_type": "stream",
          "name": "stderr",
          "text": [
            "\r82it [00:09,  8.66it/s]"
          ]
        },
        {
          "output_type": "stream",
          "name": "stdout",
          "text": [
            "1/1 [==============================] - 0s 41ms/step\n"
          ]
        },
        {
          "output_type": "stream",
          "name": "stderr",
          "text": [
            "\r83it [00:10,  6.70it/s]"
          ]
        },
        {
          "output_type": "stream",
          "name": "stdout",
          "text": [
            "1/1 [==============================] - 0s 28ms/step\n"
          ]
        },
        {
          "output_type": "stream",
          "name": "stderr",
          "text": [
            "\r84it [00:10,  6.88it/s]"
          ]
        },
        {
          "output_type": "stream",
          "name": "stdout",
          "text": [
            "1/1 [==============================] - 0s 35ms/step\n"
          ]
        },
        {
          "output_type": "stream",
          "name": "stderr",
          "text": [
            "\r85it [00:10,  7.00it/s]"
          ]
        },
        {
          "output_type": "stream",
          "name": "stdout",
          "text": [
            "1/1 [==============================] - 0s 33ms/step\n"
          ]
        },
        {
          "output_type": "stream",
          "name": "stderr",
          "text": [
            "\r86it [00:10,  7.07it/s]"
          ]
        },
        {
          "output_type": "stream",
          "name": "stdout",
          "text": [
            "1/1 [==============================] - 0s 35ms/step\n"
          ]
        },
        {
          "output_type": "stream",
          "name": "stderr",
          "text": [
            "\r87it [00:10,  7.11it/s]"
          ]
        },
        {
          "output_type": "stream",
          "name": "stdout",
          "text": [
            "1/1 [==============================] - 0s 39ms/step\n"
          ]
        },
        {
          "output_type": "stream",
          "name": "stderr",
          "text": [
            "\r88it [00:10,  6.97it/s]"
          ]
        },
        {
          "output_type": "stream",
          "name": "stdout",
          "text": [
            "1/1 [==============================] - 0s 37ms/step\n"
          ]
        },
        {
          "output_type": "stream",
          "name": "stderr",
          "text": [
            "\r89it [00:11,  3.33it/s]"
          ]
        },
        {
          "output_type": "stream",
          "name": "stdout",
          "text": [
            "1/1 [==============================] - 0s 40ms/step\n"
          ]
        },
        {
          "output_type": "stream",
          "name": "stderr",
          "text": [
            "\r90it [00:11,  3.92it/s]"
          ]
        },
        {
          "output_type": "stream",
          "name": "stdout",
          "text": [
            "1/1 [==============================] - 0s 35ms/step\n"
          ]
        },
        {
          "output_type": "stream",
          "name": "stderr",
          "text": [
            "\r91it [00:11,  4.54it/s]"
          ]
        },
        {
          "output_type": "stream",
          "name": "stdout",
          "text": [
            "1/1 [==============================] - 0s 35ms/step\n"
          ]
        },
        {
          "output_type": "stream",
          "name": "stderr",
          "text": [
            "\r92it [00:11,  4.88it/s]"
          ]
        },
        {
          "output_type": "stream",
          "name": "stdout",
          "text": [
            "1/1 [==============================] - 0s 39ms/step\n"
          ]
        },
        {
          "output_type": "stream",
          "name": "stderr",
          "text": [
            "\r93it [00:12,  5.31it/s]"
          ]
        },
        {
          "output_type": "stream",
          "name": "stdout",
          "text": [
            "1/1 [==============================] - 0s 36ms/step\n"
          ]
        },
        {
          "output_type": "stream",
          "name": "stderr",
          "text": [
            "\r94it [00:12,  5.74it/s]"
          ]
        },
        {
          "output_type": "stream",
          "name": "stdout",
          "text": [
            "1/1 [==============================] - 0s 34ms/step\n"
          ]
        },
        {
          "output_type": "stream",
          "name": "stderr",
          "text": [
            "\r95it [00:12,  6.21it/s]"
          ]
        },
        {
          "output_type": "stream",
          "name": "stdout",
          "text": [
            "1/1 [==============================] - 0s 33ms/step\n"
          ]
        },
        {
          "output_type": "stream",
          "name": "stderr",
          "text": [
            "96it [00:20,  4.69it/s]\n"
          ]
        }
      ],
      "source": [
        "test_ds_unbatched = test_batches.unbatch()\n",
        "\n",
        "pred_path = os.path.join(PRED_PATH, EXP_NAME, timestamp)\n",
        "if not os.path.exists(pred_path):\n",
        "    os.makedirs(pred_path)\n",
        "\n",
        "metrics = pd.DataFrame()\n",
        "\n",
        "for idx, (input, target) in enumerate(tqdm(test_ds_unbatched)):\n",
        "    target = tf.squeeze(target)\n",
        "    prediction = tf.squeeze(model.predict(tf.expand_dims(input, axis=0)))\n",
        "\n",
        "    channel_sum = tf.expand_dims(tf.reduce_sum(target, axis=-1), axis=-1)\n",
        "    white_mask = tf.reduce_all(tf.equal(channel_sum, 3.0), axis=-1)\n",
        "    expanded_mask = tf.expand_dims(white_mask, axis=-1)\n",
        "    expanded_mask = tf.tile(expanded_mask, [1, 1, 3])\n",
        "    prediction = tf.where(expanded_mask, tf.ones_like(prediction), prediction)\n",
        "\n",
        "    target_pil = Image.fromarray(np.array(target * 255.0, dtype=np.uint8))\n",
        "    prediction_pil = Image.fromarray(\n",
        "        np.array(prediction * 255.0, dtype=np.uint8))\n",
        "\n",
        "    target_pil.save(os.path.join(pred_path, f\"{idx}_T.png\"))\n",
        "    prediction_pil.save(os.path.join(pred_path, f\"{idx}_P.png\"))"
      ]
    },
    {
      "cell_type": "markdown",
      "metadata": {
        "id": "qRpWQsg8e80y"
      },
      "source": [
        "# Save Predictions - CycleGAN Compatible"
      ]
    },
    {
      "cell_type": "code",
      "execution_count": 19,
      "metadata": {
        "colab": {
          "base_uri": "https://localhost:8080/"
        },
        "id": "SzjTo6vne8iE",
        "outputId": "0fb0764a-c6ba-4cc0-933e-57fd11cf72e5"
      },
      "outputs": [
        {
          "output_type": "stream",
          "name": "stdout",
          "text": [
            "1/1 [==============================] - 0s 23ms/step\n",
            "1/1 [==============================] - 0s 24ms/step\n",
            "1/1 [==============================] - 0s 21ms/step\n",
            "1/1 [==============================] - 0s 24ms/step\n",
            "1/1 [==============================] - 0s 21ms/step\n",
            "1/1 [==============================] - 0s 22ms/step\n",
            "1/1 [==============================] - 0s 21ms/step\n",
            "1/1 [==============================] - 0s 21ms/step\n",
            "1/1 [==============================] - 0s 28ms/step\n",
            "1/1 [==============================] - 0s 25ms/step\n",
            "1/1 [==============================] - 0s 30ms/step\n",
            "1/1 [==============================] - 0s 21ms/step\n",
            "1/1 [==============================] - 0s 21ms/step\n",
            "1/1 [==============================] - 0s 21ms/step\n",
            "1/1 [==============================] - 0s 24ms/step\n",
            "1/1 [==============================] - 0s 23ms/step\n",
            "1/1 [==============================] - 0s 23ms/step\n",
            "1/1 [==============================] - 0s 28ms/step\n",
            "1/1 [==============================] - 0s 23ms/step\n",
            "1/1 [==============================] - 0s 24ms/step\n",
            "1/1 [==============================] - 0s 24ms/step\n",
            "1/1 [==============================] - 0s 21ms/step\n",
            "1/1 [==============================] - 0s 21ms/step\n",
            "1/1 [==============================] - 0s 21ms/step\n",
            "1/1 [==============================] - 0s 27ms/step\n",
            "1/1 [==============================] - 0s 22ms/step\n",
            "1/1 [==============================] - 0s 21ms/step\n",
            "1/1 [==============================] - 0s 21ms/step\n",
            "1/1 [==============================] - 0s 23ms/step\n",
            "1/1 [==============================] - 0s 24ms/step\n",
            "1/1 [==============================] - 0s 22ms/step\n",
            "1/1 [==============================] - 0s 35ms/step\n",
            "1/1 [==============================] - 0s 39ms/step\n",
            "1/1 [==============================] - 0s 44ms/step\n",
            "1/1 [==============================] - 0s 43ms/step\n",
            "1/1 [==============================] - 0s 39ms/step\n",
            "1/1 [==============================] - 0s 33ms/step\n",
            "1/1 [==============================] - 0s 34ms/step\n",
            "1/1 [==============================] - 0s 44ms/step\n",
            "1/1 [==============================] - 0s 30ms/step\n",
            "1/1 [==============================] - 0s 31ms/step\n",
            "1/1 [==============================] - 0s 39ms/step\n",
            "1/1 [==============================] - 0s 32ms/step\n",
            "1/1 [==============================] - 0s 35ms/step\n",
            "1/1 [==============================] - 0s 34ms/step\n",
            "1/1 [==============================] - 0s 59ms/step\n",
            "1/1 [==============================] - 0s 40ms/step\n",
            "1/1 [==============================] - 0s 31ms/step\n",
            "1/1 [==============================] - 0s 35ms/step\n",
            "1/1 [==============================] - 0s 34ms/step\n",
            "1/1 [==============================] - 0s 39ms/step\n",
            "1/1 [==============================] - 0s 44ms/step\n",
            "1/1 [==============================] - 0s 33ms/step\n",
            "1/1 [==============================] - 0s 32ms/step\n",
            "1/1 [==============================] - 0s 34ms/step\n",
            "1/1 [==============================] - 0s 34ms/step\n",
            "1/1 [==============================] - 0s 30ms/step\n",
            "1/1 [==============================] - 0s 42ms/step\n",
            "1/1 [==============================] - 0s 41ms/step\n",
            "1/1 [==============================] - 0s 31ms/step\n",
            "1/1 [==============================] - 0s 38ms/step\n",
            "1/1 [==============================] - 0s 32ms/step\n",
            "1/1 [==============================] - 0s 32ms/step\n",
            "1/1 [==============================] - 0s 33ms/step\n",
            "1/1 [==============================] - 0s 49ms/step\n",
            "1/1 [==============================] - 0s 33ms/step\n",
            "1/1 [==============================] - 0s 33ms/step\n",
            "1/1 [==============================] - 0s 21ms/step\n",
            "1/1 [==============================] - 0s 24ms/step\n",
            "1/1 [==============================] - 0s 25ms/step\n",
            "1/1 [==============================] - 0s 27ms/step\n",
            "1/1 [==============================] - 0s 21ms/step\n",
            "1/1 [==============================] - 0s 21ms/step\n",
            "1/1 [==============================] - 0s 23ms/step\n",
            "1/1 [==============================] - 0s 25ms/step\n",
            "1/1 [==============================] - 0s 21ms/step\n",
            "1/1 [==============================] - 0s 21ms/step\n",
            "1/1 [==============================] - 0s 22ms/step\n",
            "1/1 [==============================] - 0s 21ms/step\n",
            "1/1 [==============================] - 0s 21ms/step\n",
            "1/1 [==============================] - 0s 22ms/step\n",
            "1/1 [==============================] - 0s 30ms/step\n",
            "1/1 [==============================] - 0s 21ms/step\n",
            "1/1 [==============================] - 0s 24ms/step\n",
            "1/1 [==============================] - 0s 24ms/step\n",
            "1/1 [==============================] - 0s 21ms/step\n",
            "1/1 [==============================] - 0s 21ms/step\n",
            "1/1 [==============================] - 0s 20ms/step\n",
            "1/1 [==============================] - 0s 21ms/step\n",
            "1/1 [==============================] - 0s 21ms/step\n",
            "1/1 [==============================] - 0s 20ms/step\n",
            "1/1 [==============================] - 0s 22ms/step\n",
            "1/1 [==============================] - 0s 20ms/step\n",
            "1/1 [==============================] - 0s 22ms/step\n",
            "1/1 [==============================] - 0s 22ms/step\n",
            "1/1 [==============================] - 0s 20ms/step\n"
          ]
        }
      ],
      "source": [
        "pred_path = os.path.join(PRED_PATH, EXP_NAME, \"CG_\" + timestamp)\n",
        "if not os.path.exists(pred_path):\n",
        "    os.makedirs(pred_path)\n",
        "\n",
        "test_input_path = os.path.join(DATASET_PATH, TEST_DIR, INPUT_DIR)\n",
        "for test_input in os.listdir(test_input_path):\n",
        "\n",
        "    test_target_path = os.path.join(DATASET_PATH, TEST_DIR, TARGET_DIR)\n",
        "\n",
        "    test_input_img = tf.keras.utils.load_img(\n",
        "        path=os.path.join(test_input_path, test_input),\n",
        "        color_mode=\"rgb\",\n",
        "        target_size=(IMG_SIZE, IMG_SIZE),\n",
        "        interpolation=\"bilinear\",\n",
        "        keep_aspect_ratio=False\n",
        "    )\n",
        "\n",
        "    test_target_img = tf.keras.utils.load_img(\n",
        "        path=os.path.join(test_target_path, test_input),\n",
        "        color_mode=\"rgb\",\n",
        "        target_size=(IMG_SIZE, IMG_SIZE),\n",
        "        interpolation=\"bilinear\",\n",
        "        keep_aspect_ratio=False\n",
        "    )\n",
        "\n",
        "    input_arr = tf.keras.utils.img_to_array(test_input_img)\n",
        "    input_arr = normalization_layer(np.array([input_arr]))\n",
        "\n",
        "    target_arr = tf.keras.utils.img_to_array(test_target_img)\n",
        "    target_arr = normalization_layer(target_arr)\n",
        "\n",
        "    prediction = tf.squeeze(model.predict(input_arr))\n",
        "\n",
        "    channel_sum = tf.expand_dims(tf.reduce_sum(target_arr, axis=-1), axis=-1)\n",
        "    white_mask = tf.reduce_all(tf.equal(channel_sum, 3.0), axis=-1)\n",
        "    expanded_mask = tf.expand_dims(white_mask, axis=-1)\n",
        "    expanded_mask = tf.tile(expanded_mask, [1, 1, 3])\n",
        "    prediction = tf.where(expanded_mask, tf.ones_like(prediction), prediction)\n",
        "\n",
        "    target_pil = test_target_img\n",
        "    prediction_pil = Image.fromarray(\n",
        "        np.array(prediction * 255.0, dtype=np.uint8))\n",
        "\n",
        "    base_name = test_input.replace(\".png\", \"\")\n",
        "    target_name = base_name + \"_target.png\"\n",
        "    prediction_name = base_name + \"_fake.png\"\n",
        "\n",
        "    target_pil.save(os.path.join(pred_path, target_name))\n",
        "    prediction_pil.save(os.path.join(pred_path, prediction_name))\n"
      ]
    },
    {
      "cell_type": "markdown",
      "metadata": {
        "id": "yHrb18xrh7ex"
      },
      "source": [
        "# Loss Curve"
      ]
    },
    {
      "cell_type": "code",
      "execution_count": 20,
      "metadata": {
        "colab": {
          "base_uri": "https://localhost:8080/",
          "height": 607
        },
        "id": "27vxXlXEh7ex",
        "outputId": "03cf7c3c-9b01-4b4c-cd11-be7e57b1c327"
      },
      "outputs": [
        {
          "output_type": "display_data",
          "data": {
            "text/plain": [
              "<Figure size 800x600 with 1 Axes>"
            ],
            "image/png": "[encoded data removed]"
          },
          "metadata": {}
        }
      ],
      "source": [
        "try:\n",
        "    loss = history.history['loss']\n",
        "    val_loss = history.history['val_loss']\n",
        "\n",
        "    plt.figure(figsize=(8, 6))\n",
        "    plt.plot(loss, label='Training Loss')\n",
        "    plt.plot(val_loss, label='Validation Loss')\n",
        "    plt.legend(loc='upper right')\n",
        "    plt.ylabel('Attention MAE')\n",
        "    plt.title('Training and Validation Loss')\n",
        "    plt.xlabel('Epoch')\n",
        "    plt.tight_layout()\n",
        "    plt.savefig(os.path.join(model_path, timestamp + \".png\"))\n",
        "    plt.show()\n",
        "except:\n",
        "    print(\"Model did not finish training\")"
      ]
    },
    {
      "cell_type": "markdown",
      "metadata": {
        "id": "McOnJlPwh7ex"
      },
      "source": [
        "# Metrics"
      ]
    },
    {
      "cell_type": "code",
      "execution_count": 21,
      "metadata": {
        "colab": {
          "base_uri": "https://localhost:8080/"
        },
        "id": "8kbXsKlmh7e0",
        "outputId": "094c6dec-89f6-4449-d519-184e322b4193"
      },
      "outputs": [
        {
          "output_type": "stream",
          "name": "stdout",
          "text": [
            "6/6 [==============================] - 0s 67ms/step - loss: 0.0050 - attention_mae: 0.0255\n",
            "EMSE: 0.005026723723858595\n",
            "EMAE: 0.025516843423247337\n"
          ]
        }
      ],
      "source": [
        "EMSE, EMAE = model.evaluate(test_batches)\n",
        "print(f\"EMSE: {EMSE}\\nEMAE: {EMAE}\")"
      ]
    }
  ],
  "metadata": {
    "accelerator": "GPU",
    "colab": {
      "gpuType": "V100",
      "provenance": [],
      "toc_visible": true,
      "include_colab_link": true
    },
    "kernelspec": {
      "display_name": "Python 3",
      "name": "python3"
    },
    "language_info": {
      "codemirror_mode": {
        "name": "ipython",
        "version": 3
      },
      "file_extension": ".py",
      "mimetype": "text/x-python",
      "name": "python",
      "nbconvert_exporter": "python",
      "pygments_lexer": "ipython3",
      "version": "3.11.5"
    }
  },
  "nbformat": 4,
  "nbformat_minor": 0
}