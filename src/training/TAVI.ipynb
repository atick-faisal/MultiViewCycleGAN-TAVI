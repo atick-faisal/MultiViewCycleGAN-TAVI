{
  "cells": [
    {
      "cell_type": "markdown",
      "metadata": {
        "id": "7qGP76Soh7eo"
      },
      "source": [
        "# Runtime Config"
      ]
    },
    {
      "cell_type": "code",
      "execution_count": 1,
      "metadata": {
        "id": "DxmV-3idh7eq"
      },
      "outputs": [],
      "source": [
        "LOCAL_MACHINE = False"
      ]
    },
    {
      "cell_type": "code",
      "execution_count": 2,
      "metadata": {
        "colab": {
          "base_uri": "https://localhost:8080/"
        },
        "id": "B_TCNqhSh7er",
        "outputId": "1e31b279-bdc8-4179-f45e-6c837ef55321"
      },
      "outputs": [
        {
          "output_type": "stream",
          "name": "stdout",
          "text": [
            "Mon Nov 27 07:39:10 2023       \n",
            "+-----------------------------------------------------------------------------+\n",
            "| NVIDIA-SMI 525.105.17   Driver Version: 525.105.17   CUDA Version: 12.0     |\n",
            "|-------------------------------+----------------------+----------------------+\n",
            "| GPU  Name        Persistence-M| Bus-Id        Disp.A | Volatile Uncorr. ECC |\n",
            "| Fan  Temp  Perf  Pwr:Usage/Cap|         Memory-Usage | GPU-Util  Compute M. |\n",
            "|                               |                      |               MIG M. |\n",
            "|===============================+======================+======================|\n",
            "|   0  Tesla V100-SXM2...  Off  | 00000000:00:04.0 Off |                    0 |\n",
            "| N/A   32C    P0    25W / 300W |      0MiB / 16384MiB |      0%      Default |\n",
            "|                               |                      |                  N/A |\n",
            "+-------------------------------+----------------------+----------------------+\n",
            "                                                                               \n",
            "+-----------------------------------------------------------------------------+\n",
            "| Processes:                                                                  |\n",
            "|  GPU   GI   CI        PID   Type   Process name                  GPU Memory |\n",
            "|        ID   ID                                                   Usage      |\n",
            "|=============================================================================|\n",
            "|  No running processes found                                                 |\n",
            "+-----------------------------------------------------------------------------+\n",
            "Your runtime has 13.6 gigabytes of available RAM\n",
            "\n",
            "Not using a high-RAM runtime\n"
          ]
        }
      ],
      "source": [
        "from psutil import virtual_memory\n",
        "\n",
        "gpu_info = !nvidia-smi\n",
        "gpu_info = '\\n'.join(gpu_info)\n",
        "if gpu_info.find('failed') >= 0:\n",
        "    print('Not connected to a GPU')\n",
        "else:\n",
        "    print(gpu_info)\n",
        "\n",
        "\n",
        "ram_gb = virtual_memory().total / 1e9\n",
        "print('Your runtime has {:.1f} gigabytes of available RAM\\n'.format(ram_gb))\n",
        "\n",
        "if ram_gb < 20:\n",
        "    print('Not using a high-RAM runtime')\n",
        "else:\n",
        "    print('You are using a high-RAM runtime!')"
      ]
    },
    {
      "cell_type": "markdown",
      "metadata": {
        "id": "9lBmQa9Rh7es"
      },
      "source": [
        "# Fix G-Drive"
      ]
    },
    {
      "cell_type": "code",
      "execution_count": 3,
      "metadata": {
        "colab": {
          "base_uri": "https://localhost:8080/"
        },
        "id": "KBNHcIMGh7es",
        "outputId": "c5ac7108-806e-48be-922a-8b640f6e88d2"
      },
      "outputs": [
        {
          "output_type": "stream",
          "name": "stdout",
          "text": [
            "Installing G-Drive ... \n"
          ]
        }
      ],
      "source": [
        "import os\n",
        "\n",
        "if not LOCAL_MACHINE:\n",
        "    print(\"Installing G-Drive ... \")\n",
        "    os.system(\"pip install -U --no-cache-dir gdown --pre > /dev/null\")"
      ]
    },
    {
      "cell_type": "markdown",
      "metadata": {
        "id": "ZfrLpMKph7et"
      },
      "source": [
        "# Mount G-Drive"
      ]
    },
    {
      "cell_type": "code",
      "execution_count": 4,
      "metadata": {
        "colab": {
          "base_uri": "https://localhost:8080/"
        },
        "id": "P9xbY2Ggh7et",
        "outputId": "3fbb2de4-29c7-4761-931a-e807396837d5"
      },
      "outputs": [
        {
          "output_type": "stream",
          "name": "stdout",
          "text": [
            "Drive already mounted at /content/drive; to attempt to forcibly remount, call drive.mount(\"/content/drive\", force_remount=True).\n"
          ]
        }
      ],
      "source": [
        "if not LOCAL_MACHINE:\n",
        "    from google.colab import drive\n",
        "\n",
        "    drive.mount(\"/content/drive\")"
      ]
    },
    {
      "cell_type": "markdown",
      "metadata": {
        "id": "0lWGNCyCh7et"
      },
      "source": [
        "# Download and Extract Dataset"
      ]
    },
    {
      "cell_type": "code",
      "execution_count": 5,
      "metadata": {
        "colab": {
          "base_uri": "https://localhost:8080/"
        },
        "id": "ImKwSB_kh7et",
        "outputId": "2be410ec-e8cb-407a-e62a-12e0f7713482"
      },
      "outputs": [
        {
          "output_type": "stream",
          "name": "stdout",
          "text": [
            "Downloading Dataset ... \n",
            "Extracting Dataset ... \n"
          ]
        }
      ],
      "source": [
        "if not LOCAL_MACHINE:\n",
        "    print(\"Downloading Dataset ... \")\n",
        "    os.system(\"gdown 1xBO079FPIeE7T5VVsFwc8QeZxAfS4J9O\")\n",
        "    print(\"Extracting Dataset ... \")\n",
        "    os.system('unzip -o \"TAVI_REG_r17.zip\" > /dev/null')"
      ]
    },
    {
      "cell_type": "markdown",
      "metadata": {
        "id": "tq1mCzROh7eu"
      },
      "source": [
        "# Imports"
      ]
    },
    {
      "cell_type": "code",
      "execution_count": 6,
      "metadata": {
        "id": "nClEc8uph7eu"
      },
      "outputs": [],
      "source": [
        "import datetime\n",
        "import numpy as np\n",
        "import pandas as pd\n",
        "import tensorflow as tf\n",
        "import matplotlib.pyplot as plt\n",
        "\n",
        "from tqdm import tqdm\n",
        "from PIL import Image"
      ]
    },
    {
      "cell_type": "markdown",
      "metadata": {
        "id": "cqPlBIIPh7eu"
      },
      "source": [
        "# Problem Config"
      ]
    },
    {
      "cell_type": "code",
      "execution_count": 7,
      "metadata": {
        "id": "njUHcK7Xh7eu"
      },
      "outputs": [],
      "source": [
        "PROBLEM = \"Curvature_2_Pressure\"\n",
        "\n",
        "MODEL_NAME = \"MultiViewUNet\"\n",
        "DATASET_PATH = \"/content/Images/\"\n",
        "TRAIN_DIR = \"Train/\"\n",
        "TEST_DIR = \"Test/\"\n",
        "INPUT_DIR = PROBLEM.split(\"_2_\")[0]\n",
        "TARGET_DIR = PROBLEM.split(\"_2_\")[1]\n",
        "MODEL_PATH = \"/content/drive/MyDrive/Research/TAVI/Models/\"\n",
        "PRED_PATH = \"/content/drive/MyDrive/Research/TAVI/Predictions/\"\n",
        "IMG_SIZE = 256\n",
        "BATCH_SIZE = 16\n",
        "BUFFER_SIZE = 1000\n",
        "VAL_SPLIT = 0.2\n",
        "LEARNING_RATE = 0.001\n",
        "N_EPOCHS = 300\n",
        "PATIENCE = 30\n",
        "DROPOUT = 0.5\n",
        "\n",
        "EXP_NAME = f\"{PROBLEM}_{MODEL_NAME}_DO_{DROPOUT}\""
      ]
    },
    {
      "cell_type": "markdown",
      "metadata": {
        "id": "yfz3WJv1h7eu"
      },
      "source": [
        "# Architecture"
      ]
    },
    {
      "cell_type": "markdown",
      "metadata": {
        "id": "VJM2NlWwh7eu"
      },
      "source": [
        "## Vanilla UNet"
      ]
    },
    {
      "cell_type": "code",
      "execution_count": 8,
      "metadata": {
        "id": "e1VqTrGrh7eu"
      },
      "outputs": [],
      "source": [
        "class UNet:\n",
        "    def __init__(\n",
        "        self,\n",
        "        img_size: int,\n",
        "        n_channels: int = 3,\n",
        "        width: int = 32,\n",
        "        depth: int = 4,\n",
        "        kernel_size: int = 3,\n",
        "    ):\n",
        "        self.img_size = img_size\n",
        "        self.n_channels = n_channels\n",
        "        self.width = width\n",
        "        self.depth = depth\n",
        "        self.kernel_size = kernel_size\n",
        "\n",
        "    @staticmethod\n",
        "    def conv(x: tf.Tensor, filters: int, kernel_size: int) -> tf.Tensor:\n",
        "        for i in range(2):\n",
        "            x = tf.keras.layers.Conv2D(\n",
        "                filters=filters,\n",
        "                kernel_size=kernel_size,\n",
        "                strides=1,\n",
        "                padding=\"same\",\n",
        "                data_format=\"channels_last\",\n",
        "                dilation_rate=1,\n",
        "                groups=1,\n",
        "                activation=None,\n",
        "                use_bias=True,\n",
        "                kernel_initializer=\"glorot_uniform\",\n",
        "                bias_initializer=\"zeros\",\n",
        "            )(x)\n",
        "\n",
        "            x = tf.keras.layers.BatchNormalization()(x)\n",
        "            x = tf.keras.layers.Activation(\"relu\")(x)\n",
        "\n",
        "        return x\n",
        "\n",
        "    @staticmethod\n",
        "    def deconv(x: tf.Tensor, filters: int) -> tf.Tensor:\n",
        "        x = tf.keras.layers.Conv2DTranspose(\n",
        "            filters=filters,\n",
        "            kernel_size=2,\n",
        "            strides=2,\n",
        "            padding=\"same\",\n",
        "            output_padding=None,\n",
        "            data_format=None,\n",
        "            dilation_rate=1,\n",
        "            activation=None,\n",
        "            use_bias=True,\n",
        "            kernel_initializer=\"glorot_uniform\",\n",
        "            bias_initializer=\"zeros\",\n",
        "        )(x)\n",
        "\n",
        "        x = tf.keras.layers.BatchNormalization()(x)\n",
        "        x = tf.keras.layers.Activation(\"relu\")(x)\n",
        "\n",
        "        return x\n",
        "\n",
        "    @staticmethod\n",
        "    def output(x: tf.Tensor) -> tf.Tensor:\n",
        "        return tf.keras.layers.Conv2D(3, (1, 1), activation=\"sigmoid\")(x)\n",
        "\n",
        "    @staticmethod\n",
        "    def pool(x: tf.Tensor, pool_size: int = 2) -> tf.Tensor:\n",
        "        return tf.keras.layers.MaxPool2D(pool_size)(x)\n",
        "\n",
        "    @staticmethod\n",
        "    def dropout(x: tf.Tensor, amount: float = 0.5) -> tf.Tensor:\n",
        "        return tf.keras.layers.Dropout(amount)(x)\n",
        "\n",
        "    def __call__(self) -> tf.keras.Model:\n",
        "        inputs = tf.keras.layers.Input(\n",
        "            shape=(self.img_size, self.img_size, self.n_channels)\n",
        "        )\n",
        "\n",
        "        # scaled = tf.keras.layers.Rescaling(1./255.0, offset=0)(inputs)\n",
        "\n",
        "        # ------------------ Downsampling ---------------------\n",
        "        downsample_layers = []\n",
        "        downsample_layers.append(\n",
        "            self.conv(x=inputs, filters=self.width,\n",
        "                      kernel_size=self.kernel_size)\n",
        "        )\n",
        "        for i in range(1, self.depth):\n",
        "            dropout_amount = 0.2 if i == 1 else DROPOUT\n",
        "            filters = int((2**i) * self.width)\n",
        "            downsample_layers.append(\n",
        "                self.dropout(\n",
        "                    self.pool(\n",
        "                        self.conv(\n",
        "                            x=downsample_layers[i - 1],\n",
        "                            filters=filters,\n",
        "                            kernel_size=self.kernel_size,\n",
        "                        )\n",
        "                    ),\n",
        "                    amount=dropout_amount,\n",
        "                )\n",
        "            )\n",
        "\n",
        "        # ------------------- Features --------------------\n",
        "        n_features = int((2**self.depth) * self.width)\n",
        "        self.features = self.pool(\n",
        "            self.conv(\n",
        "                x=downsample_layers[-1],\n",
        "                filters=n_features,\n",
        "                kernel_size=self.kernel_size,\n",
        "            )\n",
        "        )\n",
        "\n",
        "        # ------------------- Upsampling --------------------\n",
        "        upsample_layers = []\n",
        "        upsample_layers.append(self.features)\n",
        "        for i in range(1, self.depth + 1):\n",
        "            filters = int((2 ** (self.depth - i)) * self.width)\n",
        "            upsample_layers.append(\n",
        "                self.conv(\n",
        "                    x=self.dropout(\n",
        "                        tf.keras.layers.concatenate(\n",
        "                            [\n",
        "                                downsample_layers[self.depth - i],\n",
        "                                self.deconv(\n",
        "                                    x=upsample_layers[i - 1], filters=filters),\n",
        "                            ]\n",
        "                        )\n",
        "                    ),\n",
        "                    filters=filters,\n",
        "                    kernel_size=self.kernel_size,\n",
        "                )\n",
        "            )\n",
        "\n",
        "        # ---------------------- Output -----------------------\n",
        "        outputs = self.output(upsample_layers[-1])\n",
        "\n",
        "        return tf.keras.Model(inputs, outputs)"
      ]
    },
    {
      "cell_type": "markdown",
      "source": [
        "# UNet - MobileNetv2"
      ],
      "metadata": {
        "id": "DDBA0xvgwjUb"
      }
    },
    {
      "cell_type": "code",
      "source": [
        "!pip install git+https://github.com/tensorflow/examples.git\n",
        "from tensorflow_examples.models.pix2pix import pix2pix\n",
        "\n",
        "base_model = tf.keras.applications.MobileNetV2(input_shape=[256, 256, 3], include_top=False)\n",
        "\n",
        "# Use the activations of these layers\n",
        "layer_names = [\n",
        "    'block_1_expand_relu',   # 112x112\n",
        "    'block_3_expand_relu',   # 56x56\n",
        "    'block_6_expand_relu',   # 28x28\n",
        "    'block_13_expand_relu',  # 14x14\n",
        "    'block_16_project',      # 7x7\n",
        "]\n",
        "base_model_outputs = [base_model.get_layer(name).output for name in layer_names]\n",
        "\n",
        "# Create the feature extraction model\n",
        "down_stack = tf.keras.Model(inputs=base_model.input, outputs=base_model_outputs)\n",
        "\n",
        "down_stack.trainable = False\n",
        "\n",
        "up_stack = [\n",
        "    pix2pix.upsample(512, 3),  # 4x4 -> 8x8\n",
        "    pix2pix.upsample(256, 3),  # 8x8 -> 16x16\n",
        "    pix2pix.upsample(128, 3),  # 16x16 -> 32x32\n",
        "    pix2pix.upsample(64, 3),   # 32x32 -> 64x64\n",
        "]\n",
        "\n",
        "def unet_model(output_channels:int = 3):\n",
        "  inputs = tf.keras.layers.Input(shape=[128, 128, 3])\n",
        "\n",
        "  # Downsampling through the model\n",
        "  skips = down_stack(inputs)\n",
        "  x = skips[-1]\n",
        "  skips = reversed(skips[:-1])\n",
        "\n",
        "  # Upsampling and establishing the skip connections\n",
        "  for up, skip in zip(up_stack, skips):\n",
        "    x = up(x)\n",
        "    concat = tf.keras.layers.Concatenate()\n",
        "    x = concat([x, skip])\n",
        "\n",
        "  # This is the last layer of the model\n",
        "  last = tf.keras.layers.Conv2DTranspose(\n",
        "      filters=output_channels, kernel_size=3, strides=2,\n",
        "      padding='same', activation=\"sigmoid\")  #64x64 -> 128x128\n",
        "\n",
        "  x = last(x)\n",
        "\n",
        "  return tf.keras.Model(inputs=inputs, outputs=x)"
      ],
      "metadata": {
        "id": "xyoeknw1wizE"
      },
      "execution_count": null,
      "outputs": []
    },
    {
      "cell_type": "markdown",
      "metadata": {
        "id": "demEopCeh7ev"
      },
      "source": [
        "# Loss Functions / Metrics"
      ]
    },
    {
      "cell_type": "code",
      "execution_count": 9,
      "metadata": {
        "id": "9-ke3H-6h7ev"
      },
      "outputs": [],
      "source": [
        "def attention_mse(y_true, y_pred):\n",
        "    _y_true = y_true[y_true != 1.0]\n",
        "    _y_pred = y_pred[y_true != 1.0]\n",
        "    squared_difference = tf.square(_y_true - _y_pred)\n",
        "    return tf.reduce_mean(squared_difference, axis=-1)\n",
        "\n",
        "\n",
        "def attention_mae(y_true, y_pred):\n",
        "    _y_true = y_true[y_true != 1.0]\n",
        "    _y_pred = y_pred[y_true != 1.0]\n",
        "    squared_difference = tf.abs(_y_true - _y_pred)\n",
        "    return tf.reduce_mean(squared_difference, axis=-1)"
      ]
    },
    {
      "cell_type": "markdown",
      "metadata": {
        "id": "JS70cKevh7ev"
      },
      "source": [
        "# Data Loader"
      ]
    },
    {
      "cell_type": "code",
      "execution_count": 10,
      "metadata": {
        "id": "1nL0lVRSh7ev"
      },
      "outputs": [],
      "source": [
        "def load_data_from_dir(path: str) -> tf.data.Dataset:\n",
        "    return tf.keras.utils.image_dataset_from_directory(\n",
        "        directory=path,\n",
        "        labels=None,\n",
        "        color_mode=\"rgb\",\n",
        "        batch_size=BATCH_SIZE,\n",
        "        image_size=(IMG_SIZE, IMG_SIZE),\n",
        "        shuffle=False,\n",
        "        seed=42,\n",
        "        interpolation=\"bilinear\",\n",
        "        follow_links=False,\n",
        "        crop_to_aspect_ratio=False,\n",
        "    )"
      ]
    },
    {
      "cell_type": "markdown",
      "metadata": {
        "id": "fUnFP3mFh7ev"
      },
      "source": [
        "# Load Dataset"
      ]
    },
    {
      "cell_type": "code",
      "execution_count": 11,
      "metadata": {
        "colab": {
          "base_uri": "https://localhost:8080/"
        },
        "id": "M40uLH5mh7ev",
        "outputId": "6dc20fbc-9d2d-4c1a-936d-9b065a6a1a82"
      },
      "outputs": [
        {
          "output_type": "stream",
          "name": "stdout",
          "text": [
            "Found 504 files belonging to 1 classes.\n",
            "Found 504 files belonging to 1 classes.\n",
            "Found 144 files belonging to 1 classes.\n",
            "Found 144 files belonging to 1 classes.\n",
            "(TensorSpec(shape=(None, 256, 256, 3), dtype=tf.float32, name=None), TensorSpec(shape=(None, 256, 256, 3), dtype=tf.float32, name=None))\n",
            "(TensorSpec(shape=(None, 256, 256, 3), dtype=tf.float32, name=None), TensorSpec(shape=(None, 256, 256, 3), dtype=tf.float32, name=None))\n"
          ]
        }
      ],
      "source": [
        "trainX = load_data_from_dir(os.path.join(DATASET_PATH, TRAIN_DIR, INPUT_DIR))\n",
        "trainY = load_data_from_dir(os.path.join(DATASET_PATH, TRAIN_DIR, TARGET_DIR))\n",
        "testX = load_data_from_dir(os.path.join(DATASET_PATH, TEST_DIR, INPUT_DIR))\n",
        "testY = load_data_from_dir(os.path.join(DATASET_PATH, TEST_DIR, TARGET_DIR))\n",
        "\n",
        "train_ds = tf.data.Dataset.zip((trainX, trainY))\n",
        "test_ds = tf.data.Dataset.zip((testX, testY))\n",
        "\n",
        "print(train_ds.element_spec)\n",
        "print(test_ds.element_spec)"
      ]
    },
    {
      "cell_type": "markdown",
      "metadata": {
        "id": "syHL14qrh7ev"
      },
      "source": [
        "# Normalization"
      ]
    },
    {
      "cell_type": "code",
      "execution_count": 12,
      "metadata": {
        "id": "F3FQHVSih7ew"
      },
      "outputs": [],
      "source": [
        "normalization_layer = tf.keras.layers.Rescaling(1.0 / 255)\n",
        "train_ds = train_ds.map(lambda x, y: (\n",
        "    normalization_layer(x), normalization_layer(y)))\n",
        "test_ds = test_ds.map(lambda x, y: (\n",
        "    normalization_layer(x), normalization_layer(y)))"
      ]
    },
    {
      "cell_type": "markdown",
      "metadata": {
        "id": "_tz4Gni1h7ew"
      },
      "source": [
        "# Optimization"
      ]
    },
    {
      "cell_type": "code",
      "execution_count": 13,
      "metadata": {
        "id": "T0ftWoxzh7ew"
      },
      "outputs": [],
      "source": [
        "AUTOTUNE = tf.data.AUTOTUNE\n",
        "train_batches = train_ds.cache().shuffle(\n",
        "    BUFFER_SIZE).prefetch(buffer_size=AUTOTUNE)\n",
        "test_batches = test_ds.cache().prefetch(buffer_size=AUTOTUNE)"
      ]
    },
    {
      "cell_type": "markdown",
      "metadata": {
        "id": "VizdFzJFh7ew"
      },
      "source": [
        "# Training Config"
      ]
    },
    {
      "cell_type": "code",
      "execution_count": 14,
      "metadata": {
        "id": "KsEiuUyIh7ew"
      },
      "outputs": [],
      "source": [
        "model_path = os.path.join(MODEL_PATH, EXP_NAME)\n",
        "\n",
        "callbacks = [\n",
        "    tf.keras.callbacks.EarlyStopping(\n",
        "        monitor=\"val_loss\", patience=PATIENCE, restore_best_weights=True\n",
        "    ),\n",
        "    tf.keras.callbacks.ModelCheckpoint(\n",
        "        model_path,\n",
        "        monitor=\"val_loss\",\n",
        "        verbose=1,\n",
        "        save_best_only=True,\n",
        "        save_weights_only=True,\n",
        "    ),\n",
        "]\n",
        "\n",
        "optimizer = tf.keras.optimizers.Adam(learning_rate=LEARNING_RATE)\n",
        "\n",
        "model = UNet(IMG_SIZE)()\n",
        "\n",
        "model.compile(loss=attention_mse, optimizer=optimizer, metrics=[attention_mae])"
      ]
    },
    {
      "cell_type": "markdown",
      "metadata": {
        "id": "DJN5uRXih7ew"
      },
      "source": [
        "# Load Saved Weights"
      ]
    },
    {
      "cell_type": "code",
      "execution_count": 15,
      "metadata": {
        "id": "ncDyEeavh7ew"
      },
      "outputs": [],
      "source": [
        "# try:\n",
        "#     model.load_weights(model_path)\n",
        "# except:\n",
        "#     print(\"Checkpoint not found\")\n",
        "#     pass"
      ]
    },
    {
      "cell_type": "markdown",
      "metadata": {
        "id": "LNG5F76Dh7ew"
      },
      "source": [
        "# Training"
      ]
    },
    {
      "cell_type": "code",
      "execution_count": 16,
      "metadata": {
        "colab": {
          "base_uri": "https://localhost:8080/"
        },
        "id": "RmJMzj-Yh7ew",
        "outputId": "ec0f9285-013c-40db-9dbb-0ad175d60538"
      },
      "outputs": [
        {
          "output_type": "stream",
          "name": "stdout",
          "text": [
            "Epoch 1/300\n",
            "32/32 [==============================] - ETA: 0s - loss: 0.0357 - attention_mae: 0.1436\n",
            "Epoch 1: val_loss improved from inf to 0.11178, saving model to /content/drive/MyDrive/Research/TAVI/Models/Curvature_2_Pressure_MultiViewUNet_DO_0.5\n",
            "32/32 [==============================] - 52s 452ms/step - loss: 0.0357 - attention_mae: 0.1436 - val_loss: 0.1118 - val_attention_mae: 0.2750\n",
            "Epoch 2/300\n",
            "32/32 [==============================] - ETA: 0s - loss: 0.0232 - attention_mae: 0.1126\n",
            "Epoch 2: val_loss improved from 0.11178 to 0.07956, saving model to /content/drive/MyDrive/Research/TAVI/Models/Curvature_2_Pressure_MultiViewUNet_DO_0.5\n",
            "32/32 [==============================] - 9s 269ms/step - loss: 0.0232 - attention_mae: 0.1126 - val_loss: 0.0796 - val_attention_mae: 0.2096\n",
            "Epoch 3/300\n",
            "32/32 [==============================] - ETA: 0s - loss: 0.0240 - attention_mae: 0.1112\n",
            "Epoch 3: val_loss improved from 0.07956 to 0.06540, saving model to /content/drive/MyDrive/Research/TAVI/Models/Curvature_2_Pressure_MultiViewUNet_DO_0.5\n",
            "32/32 [==============================] - 9s 276ms/step - loss: 0.0240 - attention_mae: 0.1112 - val_loss: 0.0654 - val_attention_mae: 0.1898\n",
            "Epoch 4/300\n",
            "32/32 [==============================] - ETA: 0s - loss: 0.0200 - attention_mae: 0.1012\n",
            "Epoch 4: val_loss improved from 0.06540 to 0.06457, saving model to /content/drive/MyDrive/Research/TAVI/Models/Curvature_2_Pressure_MultiViewUNet_DO_0.5\n",
            "32/32 [==============================] - 9s 273ms/step - loss: 0.0200 - attention_mae: 0.1012 - val_loss: 0.0646 - val_attention_mae: 0.1829\n",
            "Epoch 5/300\n",
            "32/32 [==============================] - ETA: 0s - loss: 0.0202 - attention_mae: 0.1000\n",
            "Epoch 5: val_loss improved from 0.06457 to 0.05885, saving model to /content/drive/MyDrive/Research/TAVI/Models/Curvature_2_Pressure_MultiViewUNet_DO_0.5\n",
            "32/32 [==============================] - 8s 266ms/step - loss: 0.0202 - attention_mae: 0.1000 - val_loss: 0.0589 - val_attention_mae: 0.1746\n",
            "Epoch 6/300\n",
            "32/32 [==============================] - ETA: 0s - loss: 0.0200 - attention_mae: 0.0983\n",
            "Epoch 6: val_loss improved from 0.05885 to 0.05662, saving model to /content/drive/MyDrive/Research/TAVI/Models/Curvature_2_Pressure_MultiViewUNet_DO_0.5\n",
            "32/32 [==============================] - 9s 294ms/step - loss: 0.0200 - attention_mae: 0.0983 - val_loss: 0.0566 - val_attention_mae: 0.1791\n",
            "Epoch 7/300\n",
            "32/32 [==============================] - ETA: 0s - loss: 0.0172 - attention_mae: 0.0920\n",
            "Epoch 7: val_loss improved from 0.05662 to 0.04132, saving model to /content/drive/MyDrive/Research/TAVI/Models/Curvature_2_Pressure_MultiViewUNet_DO_0.5\n",
            "32/32 [==============================] - 9s 267ms/step - loss: 0.0172 - attention_mae: 0.0920 - val_loss: 0.0413 - val_attention_mae: 0.1455\n",
            "Epoch 8/300\n",
            "32/32 [==============================] - ETA: 0s - loss: 0.0181 - attention_mae: 0.0917\n",
            "Epoch 8: val_loss did not improve from 0.04132\n",
            "32/32 [==============================] - 8s 247ms/step - loss: 0.0181 - attention_mae: 0.0917 - val_loss: 0.0417 - val_attention_mae: 0.1499\n",
            "Epoch 9/300\n",
            "32/32 [==============================] - ETA: 0s - loss: 0.0155 - attention_mae: 0.0850\n",
            "Epoch 9: val_loss improved from 0.04132 to 0.03234, saving model to /content/drive/MyDrive/Research/TAVI/Models/Curvature_2_Pressure_MultiViewUNet_DO_0.5\n",
            "32/32 [==============================] - 9s 291ms/step - loss: 0.0155 - attention_mae: 0.0850 - val_loss: 0.0323 - val_attention_mae: 0.1292\n",
            "Epoch 10/300\n",
            "32/32 [==============================] - ETA: 0s - loss: 0.0140 - attention_mae: 0.0790\n",
            "Epoch 10: val_loss improved from 0.03234 to 0.02488, saving model to /content/drive/MyDrive/Research/TAVI/Models/Curvature_2_Pressure_MultiViewUNet_DO_0.5\n",
            "32/32 [==============================] - 8s 265ms/step - loss: 0.0140 - attention_mae: 0.0790 - val_loss: 0.0249 - val_attention_mae: 0.1172\n",
            "Epoch 11/300\n",
            "32/32 [==============================] - ETA: 0s - loss: 0.0128 - attention_mae: 0.0739\n",
            "Epoch 11: val_loss improved from 0.02488 to 0.01999, saving model to /content/drive/MyDrive/Research/TAVI/Models/Curvature_2_Pressure_MultiViewUNet_DO_0.5\n",
            "32/32 [==============================] - 8s 267ms/step - loss: 0.0128 - attention_mae: 0.0739 - val_loss: 0.0200 - val_attention_mae: 0.1081\n",
            "Epoch 12/300\n",
            "32/32 [==============================] - ETA: 0s - loss: 0.0122 - attention_mae: 0.0721\n",
            "Epoch 12: val_loss improved from 0.01999 to 0.01545, saving model to /content/drive/MyDrive/Research/TAVI/Models/Curvature_2_Pressure_MultiViewUNet_DO_0.5\n",
            "32/32 [==============================] - 9s 280ms/step - loss: 0.0122 - attention_mae: 0.0721 - val_loss: 0.0155 - val_attention_mae: 0.0861\n",
            "Epoch 13/300\n",
            "32/32 [==============================] - ETA: 0s - loss: 0.0112 - attention_mae: 0.0668\n",
            "Epoch 13: val_loss improved from 0.01545 to 0.01468, saving model to /content/drive/MyDrive/Research/TAVI/Models/Curvature_2_Pressure_MultiViewUNet_DO_0.5\n",
            "32/32 [==============================] - 9s 269ms/step - loss: 0.0112 - attention_mae: 0.0668 - val_loss: 0.0147 - val_attention_mae: 0.0815\n",
            "Epoch 14/300\n",
            "32/32 [==============================] - ETA: 0s - loss: 0.0118 - attention_mae: 0.0695\n",
            "Epoch 14: val_loss did not improve from 0.01468\n",
            "32/32 [==============================] - 8s 253ms/step - loss: 0.0118 - attention_mae: 0.0695 - val_loss: 0.0147 - val_attention_mae: 0.0900\n",
            "Epoch 15/300\n",
            "32/32 [==============================] - ETA: 0s - loss: 0.0125 - attention_mae: 0.0722\n",
            "Epoch 15: val_loss did not improve from 0.01468\n",
            "32/32 [==============================] - 8s 247ms/step - loss: 0.0125 - attention_mae: 0.0722 - val_loss: 0.0574 - val_attention_mae: 0.2097\n",
            "Epoch 16/300\n",
            "32/32 [==============================] - ETA: 0s - loss: 0.0115 - attention_mae: 0.0672\n",
            "Epoch 16: val_loss did not improve from 0.01468\n",
            "32/32 [==============================] - 8s 245ms/step - loss: 0.0115 - attention_mae: 0.0672 - val_loss: 0.0301 - val_attention_mae: 0.1423\n",
            "Epoch 17/300\n",
            "32/32 [==============================] - ETA: 0s - loss: 0.0106 - attention_mae: 0.0628\n",
            "Epoch 17: val_loss improved from 0.01468 to 0.01453, saving model to /content/drive/MyDrive/Research/TAVI/Models/Curvature_2_Pressure_MultiViewUNet_DO_0.5\n",
            "32/32 [==============================] - 9s 277ms/step - loss: 0.0106 - attention_mae: 0.0628 - val_loss: 0.0145 - val_attention_mae: 0.0769\n",
            "Epoch 18/300\n",
            "32/32 [==============================] - ETA: 0s - loss: 0.0106 - attention_mae: 0.0628\n",
            "Epoch 18: val_loss did not improve from 0.01453\n",
            "32/32 [==============================] - 8s 252ms/step - loss: 0.0106 - attention_mae: 0.0628 - val_loss: 0.0161 - val_attention_mae: 0.0903\n",
            "Epoch 19/300\n",
            "32/32 [==============================] - ETA: 0s - loss: 0.0103 - attention_mae: 0.0605\n",
            "Epoch 19: val_loss improved from 0.01453 to 0.01162, saving model to /content/drive/MyDrive/Research/TAVI/Models/Curvature_2_Pressure_MultiViewUNet_DO_0.5\n",
            "32/32 [==============================] - 8s 265ms/step - loss: 0.0103 - attention_mae: 0.0605 - val_loss: 0.0116 - val_attention_mae: 0.0602\n",
            "Epoch 20/300\n",
            "32/32 [==============================] - ETA: 0s - loss: 0.0097 - attention_mae: 0.0573\n",
            "Epoch 20: val_loss did not improve from 0.01162\n",
            "32/32 [==============================] - 8s 257ms/step - loss: 0.0097 - attention_mae: 0.0573 - val_loss: 0.0117 - val_attention_mae: 0.0609\n",
            "Epoch 21/300\n",
            "32/32 [==============================] - ETA: 0s - loss: 0.0095 - attention_mae: 0.0570\n",
            "Epoch 21: val_loss did not improve from 0.01162\n",
            "32/32 [==============================] - 8s 245ms/step - loss: 0.0095 - attention_mae: 0.0570 - val_loss: 0.0117 - val_attention_mae: 0.0630\n",
            "Epoch 22/300\n",
            "32/32 [==============================] - ETA: 0s - loss: 0.0092 - attention_mae: 0.0533\n",
            "Epoch 22: val_loss did not improve from 0.01162\n",
            "32/32 [==============================] - 8s 246ms/step - loss: 0.0092 - attention_mae: 0.0533 - val_loss: 0.0118 - val_attention_mae: 0.0628\n",
            "Epoch 23/300\n",
            "32/32 [==============================] - ETA: 0s - loss: 0.0092 - attention_mae: 0.0543\n",
            "Epoch 23: val_loss did not improve from 0.01162\n",
            "32/32 [==============================] - 8s 244ms/step - loss: 0.0092 - attention_mae: 0.0543 - val_loss: 0.0122 - val_attention_mae: 0.0629\n",
            "Epoch 24/300\n",
            "32/32 [==============================] - ETA: 0s - loss: 0.0090 - attention_mae: 0.0529\n",
            "Epoch 24: val_loss did not improve from 0.01162\n",
            "32/32 [==============================] - 8s 247ms/step - loss: 0.0090 - attention_mae: 0.0529 - val_loss: 0.0128 - val_attention_mae: 0.0657\n",
            "Epoch 25/300\n",
            "32/32 [==============================] - ETA: 0s - loss: 0.0097 - attention_mae: 0.0577\n",
            "Epoch 25: val_loss did not improve from 0.01162\n",
            "32/32 [==============================] - 8s 244ms/step - loss: 0.0097 - attention_mae: 0.0577 - val_loss: 0.0128 - val_attention_mae: 0.0671\n",
            "Epoch 26/300\n",
            "32/32 [==============================] - ETA: 0s - loss: 0.0091 - attention_mae: 0.0533\n",
            "Epoch 26: val_loss improved from 0.01162 to 0.01145, saving model to /content/drive/MyDrive/Research/TAVI/Models/Curvature_2_Pressure_MultiViewUNet_DO_0.5\n",
            "32/32 [==============================] - 9s 275ms/step - loss: 0.0091 - attention_mae: 0.0533 - val_loss: 0.0114 - val_attention_mae: 0.0618\n",
            "Epoch 27/300\n",
            "32/32 [==============================] - ETA: 0s - loss: 0.0087 - attention_mae: 0.0515\n",
            "Epoch 27: val_loss improved from 0.01145 to 0.01056, saving model to /content/drive/MyDrive/Research/TAVI/Models/Curvature_2_Pressure_MultiViewUNet_DO_0.5\n",
            "32/32 [==============================] - 9s 275ms/step - loss: 0.0087 - attention_mae: 0.0515 - val_loss: 0.0106 - val_attention_mae: 0.0551\n",
            "Epoch 28/300\n",
            "32/32 [==============================] - ETA: 0s - loss: 0.0086 - attention_mae: 0.0503\n",
            "Epoch 28: val_loss did not improve from 0.01056\n",
            "32/32 [==============================] - 8s 248ms/step - loss: 0.0086 - attention_mae: 0.0503 - val_loss: 0.0122 - val_attention_mae: 0.0580\n",
            "Epoch 29/300\n",
            "32/32 [==============================] - ETA: 0s - loss: 0.0086 - attention_mae: 0.0509\n",
            "Epoch 29: val_loss did not improve from 0.01056\n",
            "32/32 [==============================] - 8s 245ms/step - loss: 0.0086 - attention_mae: 0.0509 - val_loss: 0.0109 - val_attention_mae: 0.0520\n",
            "Epoch 30/300\n",
            "32/32 [==============================] - ETA: 0s - loss: 0.0084 - attention_mae: 0.0495\n",
            "Epoch 30: val_loss did not improve from 0.01056\n",
            "32/32 [==============================] - 8s 248ms/step - loss: 0.0084 - attention_mae: 0.0495 - val_loss: 0.0108 - val_attention_mae: 0.0535\n",
            "Epoch 31/300\n",
            "32/32 [==============================] - ETA: 0s - loss: 0.0082 - attention_mae: 0.0485\n",
            "Epoch 31: val_loss did not improve from 0.01056\n",
            "32/32 [==============================] - 8s 245ms/step - loss: 0.0082 - attention_mae: 0.0485 - val_loss: 0.0132 - val_attention_mae: 0.0643\n",
            "Epoch 32/300\n",
            "32/32 [==============================] - ETA: 0s - loss: 0.0082 - attention_mae: 0.0488\n",
            "Epoch 32: val_loss did not improve from 0.01056\n",
            "32/32 [==============================] - 8s 248ms/step - loss: 0.0082 - attention_mae: 0.0488 - val_loss: 0.2404 - val_attention_mae: 0.2965\n",
            "Epoch 33/300\n",
            "32/32 [==============================] - ETA: 0s - loss: 0.0081 - attention_mae: 0.0472\n",
            "Epoch 33: val_loss improved from 0.01056 to 0.01032, saving model to /content/drive/MyDrive/Research/TAVI/Models/Curvature_2_Pressure_MultiViewUNet_DO_0.5\n",
            "32/32 [==============================] - 9s 270ms/step - loss: 0.0081 - attention_mae: 0.0472 - val_loss: 0.0103 - val_attention_mae: 0.0530\n",
            "Epoch 34/300\n",
            "32/32 [==============================] - ETA: 0s - loss: 0.0078 - attention_mae: 0.0465\n",
            "Epoch 34: val_loss did not improve from 0.01032\n",
            "32/32 [==============================] - 8s 247ms/step - loss: 0.0078 - attention_mae: 0.0465 - val_loss: 0.0127 - val_attention_mae: 0.0583\n",
            "Epoch 35/300\n",
            "32/32 [==============================] - ETA: 0s - loss: 0.0080 - attention_mae: 0.0476\n",
            "Epoch 35: val_loss did not improve from 0.01032\n",
            "32/32 [==============================] - 8s 245ms/step - loss: 0.0080 - attention_mae: 0.0476 - val_loss: 0.0106 - val_attention_mae: 0.0513\n",
            "Epoch 36/300\n",
            "32/32 [==============================] - ETA: 0s - loss: 0.0082 - attention_mae: 0.0495\n",
            "Epoch 36: val_loss did not improve from 0.01032\n",
            "32/32 [==============================] - 8s 245ms/step - loss: 0.0082 - attention_mae: 0.0495 - val_loss: 0.0119 - val_attention_mae: 0.0610\n",
            "Epoch 37/300\n",
            "32/32 [==============================] - ETA: 0s - loss: 0.0079 - attention_mae: 0.0466\n",
            "Epoch 37: val_loss did not improve from 0.01032\n",
            "32/32 [==============================] - 8s 252ms/step - loss: 0.0079 - attention_mae: 0.0466 - val_loss: 0.0112 - val_attention_mae: 0.0547\n",
            "Epoch 38/300\n",
            "32/32 [==============================] - ETA: 0s - loss: 0.0077 - attention_mae: 0.0458\n",
            "Epoch 38: val_loss did not improve from 0.01032\n",
            "32/32 [==============================] - 8s 244ms/step - loss: 0.0077 - attention_mae: 0.0458 - val_loss: 0.0116 - val_attention_mae: 0.0535\n",
            "Epoch 39/300\n",
            "32/32 [==============================] - ETA: 0s - loss: 0.0076 - attention_mae: 0.0450\n",
            "Epoch 39: val_loss improved from 0.01032 to 0.00968, saving model to /content/drive/MyDrive/Research/TAVI/Models/Curvature_2_Pressure_MultiViewUNet_DO_0.5\n",
            "32/32 [==============================] - 9s 277ms/step - loss: 0.0076 - attention_mae: 0.0450 - val_loss: 0.0097 - val_attention_mae: 0.0519\n",
            "Epoch 40/300\n",
            "32/32 [==============================] - ETA: 0s - loss: 0.0076 - attention_mae: 0.0451\n",
            "Epoch 40: val_loss improved from 0.00968 to 0.00794, saving model to /content/drive/MyDrive/Research/TAVI/Models/Curvature_2_Pressure_MultiViewUNet_DO_0.5\n",
            "32/32 [==============================] - 8s 264ms/step - loss: 0.0076 - attention_mae: 0.0451 - val_loss: 0.0079 - val_attention_mae: 0.0448\n",
            "Epoch 41/300\n",
            "32/32 [==============================] - ETA: 0s - loss: 0.0076 - attention_mae: 0.0450\n",
            "Epoch 41: val_loss did not improve from 0.00794\n",
            "32/32 [==============================] - 8s 249ms/step - loss: 0.0076 - attention_mae: 0.0450 - val_loss: 0.0110 - val_attention_mae: 0.0552\n",
            "Epoch 42/300\n",
            "32/32 [==============================] - ETA: 0s - loss: 0.0075 - attention_mae: 0.0445\n",
            "Epoch 42: val_loss improved from 0.00794 to 0.00703, saving model to /content/drive/MyDrive/Research/TAVI/Models/Curvature_2_Pressure_MultiViewUNet_DO_0.5\n",
            "32/32 [==============================] - 8s 264ms/step - loss: 0.0075 - attention_mae: 0.0445 - val_loss: 0.0070 - val_attention_mae: 0.0415\n",
            "Epoch 43/300\n",
            "32/32 [==============================] - ETA: 0s - loss: 0.0073 - attention_mae: 0.0435\n",
            "Epoch 43: val_loss did not improve from 0.00703\n",
            "32/32 [==============================] - 8s 248ms/step - loss: 0.0073 - attention_mae: 0.0435 - val_loss: 0.0082 - val_attention_mae: 0.0478\n",
            "Epoch 44/300\n",
            "32/32 [==============================] - ETA: 0s - loss: 0.0073 - attention_mae: 0.0432\n",
            "Epoch 44: val_loss did not improve from 0.00703\n",
            "32/32 [==============================] - 8s 245ms/step - loss: 0.0073 - attention_mae: 0.0432 - val_loss: 0.0082 - val_attention_mae: 0.0482\n",
            "Epoch 45/300\n",
            "32/32 [==============================] - ETA: 0s - loss: 0.0071 - attention_mae: 0.0424\n",
            "Epoch 45: val_loss did not improve from 0.00703\n",
            "32/32 [==============================] - 8s 248ms/step - loss: 0.0071 - attention_mae: 0.0424 - val_loss: 0.0081 - val_attention_mae: 0.0475\n",
            "Epoch 46/300\n",
            "32/32 [==============================] - ETA: 0s - loss: 0.0074 - attention_mae: 0.0441\n",
            "Epoch 46: val_loss did not improve from 0.00703\n",
            "32/32 [==============================] - 8s 252ms/step - loss: 0.0074 - attention_mae: 0.0441 - val_loss: 0.0079 - val_attention_mae: 0.0467\n",
            "Epoch 47/300\n",
            "32/32 [==============================] - ETA: 0s - loss: 0.0074 - attention_mae: 0.0440\n",
            "Epoch 47: val_loss did not improve from 0.00703\n",
            "32/32 [==============================] - 8s 247ms/step - loss: 0.0074 - attention_mae: 0.0440 - val_loss: 0.0106 - val_attention_mae: 0.0558\n",
            "Epoch 48/300\n",
            "32/32 [==============================] - ETA: 0s - loss: 0.0124 - attention_mae: 0.0702\n",
            "Epoch 48: val_loss did not improve from 0.00703\n",
            "32/32 [==============================] - 8s 252ms/step - loss: 0.0124 - attention_mae: 0.0702 - val_loss: 0.1999 - val_attention_mae: 0.3425\n",
            "Epoch 49/300\n",
            "32/32 [==============================] - ETA: 0s - loss: 0.0103 - attention_mae: 0.0588\n",
            "Epoch 49: val_loss did not improve from 0.00703\n",
            "32/32 [==============================] - 8s 246ms/step - loss: 0.0103 - attention_mae: 0.0588 - val_loss: 0.1509 - val_attention_mae: 0.2460\n",
            "Epoch 50/300\n",
            "32/32 [==============================] - ETA: 0s - loss: 0.0090 - attention_mae: 0.0518\n",
            "Epoch 50: val_loss did not improve from 0.00703\n",
            "32/32 [==============================] - 8s 251ms/step - loss: 0.0090 - attention_mae: 0.0518 - val_loss: 0.0498 - val_attention_mae: 0.1520\n",
            "Epoch 51/300\n",
            "32/32 [==============================] - ETA: 0s - loss: 0.0086 - attention_mae: 0.0504\n",
            "Epoch 51: val_loss did not improve from 0.00703\n",
            "32/32 [==============================] - 8s 247ms/step - loss: 0.0086 - attention_mae: 0.0504 - val_loss: 0.0115 - val_attention_mae: 0.0573\n",
            "Epoch 52/300\n",
            "32/32 [==============================] - ETA: 0s - loss: 0.0082 - attention_mae: 0.0487\n",
            "Epoch 52: val_loss did not improve from 0.00703\n",
            "32/32 [==============================] - 8s 251ms/step - loss: 0.0082 - attention_mae: 0.0487 - val_loss: 0.0103 - val_attention_mae: 0.0616\n",
            "Epoch 53/300\n",
            "32/32 [==============================] - ETA: 0s - loss: 0.0080 - attention_mae: 0.0466\n",
            "Epoch 53: val_loss did not improve from 0.00703\n",
            "32/32 [==============================] - 8s 252ms/step - loss: 0.0080 - attention_mae: 0.0466 - val_loss: 0.0103 - val_attention_mae: 0.0537\n",
            "Epoch 54/300\n",
            "32/32 [==============================] - ETA: 0s - loss: 0.0084 - attention_mae: 0.0507\n",
            "Epoch 54: val_loss did not improve from 0.00703\n",
            "32/32 [==============================] - 8s 248ms/step - loss: 0.0084 - attention_mae: 0.0507 - val_loss: 0.0109 - val_attention_mae: 0.0590\n",
            "Epoch 55/300\n",
            "32/32 [==============================] - ETA: 0s - loss: 0.0077 - attention_mae: 0.0454\n",
            "Epoch 55: val_loss did not improve from 0.00703\n",
            "32/32 [==============================] - 8s 245ms/step - loss: 0.0077 - attention_mae: 0.0454 - val_loss: 0.0104 - val_attention_mae: 0.0624\n",
            "Epoch 56/300\n",
            "32/32 [==============================] - ETA: 0s - loss: 0.0076 - attention_mae: 0.0464\n",
            "Epoch 56: val_loss did not improve from 0.00703\n",
            "32/32 [==============================] - 8s 254ms/step - loss: 0.0076 - attention_mae: 0.0464 - val_loss: 0.0121 - val_attention_mae: 0.0648\n",
            "Epoch 57/300\n",
            "32/32 [==============================] - ETA: 0s - loss: 0.0073 - attention_mae: 0.0437\n",
            "Epoch 57: val_loss did not improve from 0.00703\n",
            "32/32 [==============================] - 8s 244ms/step - loss: 0.0073 - attention_mae: 0.0437 - val_loss: 0.0081 - val_attention_mae: 0.0518\n",
            "Epoch 58/300\n",
            "32/32 [==============================] - ETA: 0s - loss: 0.0071 - attention_mae: 0.0430\n",
            "Epoch 58: val_loss did not improve from 0.00703\n",
            "32/32 [==============================] - 8s 246ms/step - loss: 0.0071 - attention_mae: 0.0430 - val_loss: 0.0077 - val_attention_mae: 0.0489\n",
            "Epoch 59/300\n",
            "32/32 [==============================] - ETA: 0s - loss: 0.0071 - attention_mae: 0.0432\n",
            "Epoch 59: val_loss did not improve from 0.00703\n",
            "32/32 [==============================] - 8s 253ms/step - loss: 0.0071 - attention_mae: 0.0432 - val_loss: 0.0112 - val_attention_mae: 0.0655\n",
            "Epoch 60/300\n",
            "32/32 [==============================] - ETA: 0s - loss: 0.0070 - attention_mae: 0.0423\n",
            "Epoch 60: val_loss did not improve from 0.00703\n",
            "32/32 [==============================] - 8s 245ms/step - loss: 0.0070 - attention_mae: 0.0423 - val_loss: 0.0093 - val_attention_mae: 0.0547\n",
            "Epoch 61/300\n",
            "32/32 [==============================] - ETA: 0s - loss: 0.0069 - attention_mae: 0.0416\n",
            "Epoch 61: val_loss did not improve from 0.00703\n",
            "32/32 [==============================] - 8s 246ms/step - loss: 0.0069 - attention_mae: 0.0416 - val_loss: 0.0093 - val_attention_mae: 0.0554\n",
            "Epoch 62/300\n",
            "32/32 [==============================] - ETA: 0s - loss: 0.0068 - attention_mae: 0.0408\n",
            "Epoch 62: val_loss did not improve from 0.00703\n",
            "32/32 [==============================] - 8s 251ms/step - loss: 0.0068 - attention_mae: 0.0408 - val_loss: 0.0084 - val_attention_mae: 0.0518\n",
            "Epoch 63/300\n",
            "32/32 [==============================] - ETA: 0s - loss: 0.0067 - attention_mae: 0.0406\n",
            "Epoch 63: val_loss did not improve from 0.00703\n",
            "32/32 [==============================] - 8s 247ms/step - loss: 0.0067 - attention_mae: 0.0406 - val_loss: 0.0082 - val_attention_mae: 0.0497\n",
            "Epoch 64/300\n",
            "32/32 [==============================] - ETA: 0s - loss: 0.0067 - attention_mae: 0.0406\n",
            "Epoch 64: val_loss did not improve from 0.00703\n",
            "32/32 [==============================] - 8s 252ms/step - loss: 0.0067 - attention_mae: 0.0406 - val_loss: 0.0097 - val_attention_mae: 0.0551\n",
            "Epoch 65/300\n",
            "32/32 [==============================] - ETA: 0s - loss: 0.0069 - attention_mae: 0.0426\n",
            "Epoch 65: val_loss did not improve from 0.00703\n",
            "32/32 [==============================] - 8s 246ms/step - loss: 0.0069 - attention_mae: 0.0426 - val_loss: 0.0116 - val_attention_mae: 0.0659\n",
            "Epoch 66/300\n",
            "32/32 [==============================] - ETA: 0s - loss: 0.0068 - attention_mae: 0.0415\n",
            "Epoch 66: val_loss did not improve from 0.00703\n",
            "32/32 [==============================] - 8s 251ms/step - loss: 0.0068 - attention_mae: 0.0415 - val_loss: 0.0150 - val_attention_mae: 0.0761\n",
            "Epoch 67/300\n",
            "32/32 [==============================] - ETA: 0s - loss: 0.0066 - attention_mae: 0.0400\n",
            "Epoch 67: val_loss did not improve from 0.00703\n",
            "32/32 [==============================] - 8s 245ms/step - loss: 0.0066 - attention_mae: 0.0400 - val_loss: 0.0087 - val_attention_mae: 0.0535\n",
            "Epoch 68/300\n",
            "32/32 [==============================] - ETA: 0s - loss: 0.0066 - attention_mae: 0.0403\n",
            "Epoch 68: val_loss did not improve from 0.00703\n",
            "32/32 [==============================] - 8s 254ms/step - loss: 0.0066 - attention_mae: 0.0403 - val_loss: 0.0101 - val_attention_mae: 0.0572\n",
            "Epoch 69/300\n",
            "32/32 [==============================] - ETA: 0s - loss: 0.0065 - attention_mae: 0.0403\n",
            "Epoch 69: val_loss did not improve from 0.00703\n",
            "32/32 [==============================] - 8s 255ms/step - loss: 0.0065 - attention_mae: 0.0403 - val_loss: 0.0124 - val_attention_mae: 0.0647\n",
            "Epoch 70/300\n",
            "32/32 [==============================] - ETA: 0s - loss: 0.0065 - attention_mae: 0.0390\n",
            "Epoch 70: val_loss did not improve from 0.00703\n",
            "32/32 [==============================] - 8s 256ms/step - loss: 0.0065 - attention_mae: 0.0390 - val_loss: 0.0122 - val_attention_mae: 0.0601\n",
            "Epoch 71/300\n",
            "32/32 [==============================] - ETA: 0s - loss: 0.0065 - attention_mae: 0.0395\n",
            "Epoch 71: val_loss did not improve from 0.00703\n",
            "32/32 [==============================] - 8s 253ms/step - loss: 0.0065 - attention_mae: 0.0395 - val_loss: 0.0134 - val_attention_mae: 0.0681\n",
            "Epoch 72/300\n",
            "32/32 [==============================] - ETA: 0s - loss: 0.0065 - attention_mae: 0.0396\n",
            "Epoch 72: val_loss did not improve from 0.00703\n",
            "32/32 [==============================] - 8s 261ms/step - loss: 0.0065 - attention_mae: 0.0396 - val_loss: 0.0086 - val_attention_mae: 0.0490\n"
          ]
        }
      ],
      "source": [
        "history = model.fit(\n",
        "    train_batches,\n",
        "    validation_data=test_batches,\n",
        "    epochs=N_EPOCHS,\n",
        "    batch_size=BATCH_SIZE,\n",
        "    callbacks=callbacks,\n",
        "    verbose=1,\n",
        ")"
      ]
    },
    {
      "cell_type": "markdown",
      "metadata": {
        "id": "MYJgw9qhh7ew"
      },
      "source": [
        "# Save Model"
      ]
    },
    {
      "cell_type": "code",
      "execution_count": null,
      "metadata": {
        "id": "bux6go2yh7ew"
      },
      "outputs": [],
      "source": [
        "timestamp = datetime.datetime.now().strftime(\"%b-%d-%I:%M%p\")\n",
        "if not os.path.exists(model_path):\n",
        "    os.makedirs(model_path)\n",
        "\n",
        "model.save(os.path.join(model_path, timestamp))"
      ]
    },
    {
      "cell_type": "markdown",
      "metadata": {
        "id": "QMFZgyu9h7ex"
      },
      "source": [
        "# Save Predictions"
      ]
    },
    {
      "cell_type": "code",
      "execution_count": 18,
      "metadata": {
        "colab": {
          "base_uri": "https://localhost:8080/"
        },
        "id": "FnsfVhkDh7ex",
        "outputId": "430bb5a3-e70d-4864-a817-4122b348e0cc"
      },
      "outputs": [
        {
          "output_type": "stream",
          "name": "stderr",
          "text": [
            "\r0it [00:00, ?it/s]"
          ]
        },
        {
          "output_type": "stream",
          "name": "stdout",
          "text": [
            "1/1 [==============================] - 1s 960ms/step\n"
          ]
        },
        {
          "output_type": "stream",
          "name": "stderr",
          "text": [
            "\r1it [00:01,  1.30s/it]"
          ]
        },
        {
          "output_type": "stream",
          "name": "stdout",
          "text": [
            "1/1 [==============================] - 0s 23ms/step\n"
          ]
        },
        {
          "output_type": "stream",
          "name": "stderr",
          "text": [
            "\r2it [00:01,  1.68it/s]"
          ]
        },
        {
          "output_type": "stream",
          "name": "stdout",
          "text": [
            "1/1 [==============================] - 0s 21ms/step\n",
            "1/1 [==============================] - 0s 20ms/step\n"
          ]
        },
        {
          "output_type": "stream",
          "name": "stderr",
          "text": [
            "\r4it [00:01,  3.54it/s]"
          ]
        },
        {
          "output_type": "stream",
          "name": "stdout",
          "text": [
            "1/1 [==============================] - 0s 23ms/step\n"
          ]
        },
        {
          "output_type": "stream",
          "name": "stderr",
          "text": [
            "\r5it [00:01,  4.42it/s]"
          ]
        },
        {
          "output_type": "stream",
          "name": "stdout",
          "text": [
            "1/1 [==============================] - 0s 20ms/step\n",
            "1/1 [==============================] - 0s 20ms/step\n"
          ]
        },
        {
          "output_type": "stream",
          "name": "stderr",
          "text": [
            "\r7it [00:01,  5.94it/s]"
          ]
        },
        {
          "output_type": "stream",
          "name": "stdout",
          "text": [
            "1/1 [==============================] - 0s 24ms/step\n",
            "1/1 [==============================] - 0s 24ms/step\n"
          ]
        },
        {
          "output_type": "stream",
          "name": "stderr",
          "text": [
            "\r9it [00:02,  7.17it/s]"
          ]
        },
        {
          "output_type": "stream",
          "name": "stdout",
          "text": [
            "1/1 [==============================] - 0s 23ms/step\n",
            "1/1 [==============================] - 0s 23ms/step\n"
          ]
        },
        {
          "output_type": "stream",
          "name": "stderr",
          "text": [
            "\r11it [00:02,  8.18it/s]"
          ]
        },
        {
          "output_type": "stream",
          "name": "stdout",
          "text": [
            "1/1 [==============================] - 0s 25ms/step\n"
          ]
        },
        {
          "output_type": "stream",
          "name": "stderr",
          "text": [
            "\r12it [00:02,  8.47it/s]"
          ]
        },
        {
          "output_type": "stream",
          "name": "stdout",
          "text": [
            "1/1 [==============================] - 0s 20ms/step\n"
          ]
        },
        {
          "output_type": "stream",
          "name": "stderr",
          "text": [
            "\r13it [00:02,  8.76it/s]"
          ]
        },
        {
          "output_type": "stream",
          "name": "stdout",
          "text": [
            "1/1 [==============================] - 0s 21ms/step\n",
            "1/1 [==============================] - 0s 22ms/step\n"
          ]
        },
        {
          "output_type": "stream",
          "name": "stderr",
          "text": [
            "\r15it [00:02,  9.23it/s]"
          ]
        },
        {
          "output_type": "stream",
          "name": "stdout",
          "text": [
            "1/1 [==============================] - 0s 20ms/step\n",
            "1/1 [==============================] - 0s 22ms/step\n"
          ]
        },
        {
          "output_type": "stream",
          "name": "stderr",
          "text": [
            "\r17it [00:02,  9.35it/s]"
          ]
        },
        {
          "output_type": "stream",
          "name": "stdout",
          "text": [
            "1/1 [==============================] - 0s 22ms/step\n",
            "1/1 [==============================] - 0s 22ms/step\n"
          ]
        },
        {
          "output_type": "stream",
          "name": "stderr",
          "text": [
            "\r19it [00:03,  9.69it/s]"
          ]
        },
        {
          "output_type": "stream",
          "name": "stdout",
          "text": [
            "1/1 [==============================] - 0s 24ms/step\n",
            "1/1 [==============================] - 0s 21ms/step\n"
          ]
        },
        {
          "output_type": "stream",
          "name": "stderr",
          "text": [
            "\r21it [00:03,  9.95it/s]"
          ]
        },
        {
          "output_type": "stream",
          "name": "stdout",
          "text": [
            "1/1 [==============================] - 0s 20ms/step\n",
            "1/1 [==============================] - 0s 21ms/step\n"
          ]
        },
        {
          "output_type": "stream",
          "name": "stderr",
          "text": [
            "\r23it [00:03, 10.18it/s]"
          ]
        },
        {
          "output_type": "stream",
          "name": "stdout",
          "text": [
            "1/1 [==============================] - 0s 26ms/step\n",
            "1/1 [==============================] - 0s 20ms/step\n"
          ]
        },
        {
          "output_type": "stream",
          "name": "stderr",
          "text": [
            "\r25it [00:03, 10.20it/s]"
          ]
        },
        {
          "output_type": "stream",
          "name": "stdout",
          "text": [
            "1/1 [==============================] - 0s 22ms/step\n",
            "1/1 [==============================] - 0s 21ms/step\n"
          ]
        },
        {
          "output_type": "stream",
          "name": "stderr",
          "text": [
            "\r27it [00:03,  9.72it/s]"
          ]
        },
        {
          "output_type": "stream",
          "name": "stdout",
          "text": [
            "1/1 [==============================] - 0s 23ms/step\n",
            "1/1 [==============================] - 0s 22ms/step\n"
          ]
        },
        {
          "output_type": "stream",
          "name": "stderr",
          "text": [
            "\r29it [00:04,  9.88it/s]"
          ]
        },
        {
          "output_type": "stream",
          "name": "stdout",
          "text": [
            "1/1 [==============================] - 0s 26ms/step\n"
          ]
        },
        {
          "output_type": "stream",
          "name": "stderr",
          "text": [
            "\r30it [00:04,  9.77it/s]"
          ]
        },
        {
          "output_type": "stream",
          "name": "stdout",
          "text": [
            "1/1 [==============================] - 0s 22ms/step\n",
            "1/1 [==============================] - 0s 21ms/step\n"
          ]
        },
        {
          "output_type": "stream",
          "name": "stderr",
          "text": [
            "\r32it [00:04,  9.96it/s]"
          ]
        },
        {
          "output_type": "stream",
          "name": "stdout",
          "text": [
            "1/1 [==============================] - 0s 22ms/step\n"
          ]
        },
        {
          "output_type": "stream",
          "name": "stderr",
          "text": [
            "\r33it [00:04,  9.84it/s]"
          ]
        },
        {
          "output_type": "stream",
          "name": "stdout",
          "text": [
            "1/1 [==============================] - 0s 20ms/step\n",
            "1/1 [==============================] - 0s 25ms/step\n"
          ]
        },
        {
          "output_type": "stream",
          "name": "stderr",
          "text": [
            "\r35it [00:04,  9.76it/s]"
          ]
        },
        {
          "output_type": "stream",
          "name": "stdout",
          "text": [
            "1/1 [==============================] - 0s 22ms/step\n",
            "1/1 [==============================] - 0s 39ms/step\n"
          ]
        },
        {
          "output_type": "stream",
          "name": "stderr",
          "text": [
            "\r37it [00:04,  9.26it/s]"
          ]
        },
        {
          "output_type": "stream",
          "name": "stdout",
          "text": [
            "1/1 [==============================] - 0s 25ms/step\n"
          ]
        },
        {
          "output_type": "stream",
          "name": "stderr",
          "text": [
            "\r38it [00:05,  9.17it/s]"
          ]
        },
        {
          "output_type": "stream",
          "name": "stdout",
          "text": [
            "1/1 [==============================] - 0s 21ms/step\n"
          ]
        },
        {
          "output_type": "stream",
          "name": "stderr",
          "text": [
            "\r39it [00:05,  8.92it/s]"
          ]
        },
        {
          "output_type": "stream",
          "name": "stdout",
          "text": [
            "1/1 [==============================] - 0s 30ms/step\n"
          ]
        },
        {
          "output_type": "stream",
          "name": "stderr",
          "text": [
            "\r40it [00:05,  8.52it/s]"
          ]
        },
        {
          "output_type": "stream",
          "name": "stdout",
          "text": [
            "1/1 [==============================] - 0s 33ms/step\n"
          ]
        },
        {
          "output_type": "stream",
          "name": "stderr",
          "text": [
            "\r41it [00:05,  7.95it/s]"
          ]
        },
        {
          "output_type": "stream",
          "name": "stdout",
          "text": [
            "1/1 [==============================] - 0s 33ms/step\n"
          ]
        },
        {
          "output_type": "stream",
          "name": "stderr",
          "text": [
            "\r42it [00:05,  7.79it/s]"
          ]
        },
        {
          "output_type": "stream",
          "name": "stdout",
          "text": [
            "1/1 [==============================] - 0s 22ms/step\n"
          ]
        },
        {
          "output_type": "stream",
          "name": "stderr",
          "text": [
            "\r43it [00:05,  7.78it/s]"
          ]
        },
        {
          "output_type": "stream",
          "name": "stdout",
          "text": [
            "1/1 [==============================] - 0s 34ms/step\n"
          ]
        },
        {
          "output_type": "stream",
          "name": "stderr",
          "text": [
            "\r44it [00:05,  7.62it/s]"
          ]
        },
        {
          "output_type": "stream",
          "name": "stdout",
          "text": [
            "1/1 [==============================] - 0s 20ms/step\n"
          ]
        },
        {
          "output_type": "stream",
          "name": "stderr",
          "text": [
            "\r45it [00:05,  7.78it/s]"
          ]
        },
        {
          "output_type": "stream",
          "name": "stdout",
          "text": [
            "1/1 [==============================] - 0s 56ms/step\n"
          ]
        },
        {
          "output_type": "stream",
          "name": "stderr",
          "text": [
            "\r46it [00:06,  6.60it/s]"
          ]
        },
        {
          "output_type": "stream",
          "name": "stdout",
          "text": [
            "1/1 [==============================] - 0s 37ms/step\n"
          ]
        },
        {
          "output_type": "stream",
          "name": "stderr",
          "text": [
            "\r47it [00:06,  6.69it/s]"
          ]
        },
        {
          "output_type": "stream",
          "name": "stdout",
          "text": [
            "1/1 [==============================] - 0s 35ms/step\n"
          ]
        },
        {
          "output_type": "stream",
          "name": "stderr",
          "text": [
            "\r48it [00:06,  6.67it/s]"
          ]
        },
        {
          "output_type": "stream",
          "name": "stdout",
          "text": [
            "1/1 [==============================] - 0s 36ms/step\n"
          ]
        },
        {
          "output_type": "stream",
          "name": "stderr",
          "text": [
            "\r49it [00:06,  6.63it/s]"
          ]
        },
        {
          "output_type": "stream",
          "name": "stdout",
          "text": [
            "1/1 [==============================] - 0s 35ms/step\n"
          ]
        },
        {
          "output_type": "stream",
          "name": "stderr",
          "text": [
            "\r50it [00:06,  6.81it/s]"
          ]
        },
        {
          "output_type": "stream",
          "name": "stdout",
          "text": [
            "1/1 [==============================] - 0s 38ms/step\n"
          ]
        },
        {
          "output_type": "stream",
          "name": "stderr",
          "text": [
            "\r51it [00:06,  6.84it/s]"
          ]
        },
        {
          "output_type": "stream",
          "name": "stdout",
          "text": [
            "1/1 [==============================] - 0s 34ms/step\n"
          ]
        },
        {
          "output_type": "stream",
          "name": "stderr",
          "text": [
            "\r52it [00:07,  7.01it/s]"
          ]
        },
        {
          "output_type": "stream",
          "name": "stdout",
          "text": [
            "1/1 [==============================] - 0s 34ms/step\n"
          ]
        },
        {
          "output_type": "stream",
          "name": "stderr",
          "text": [
            "\r53it [00:07,  7.03it/s]"
          ]
        },
        {
          "output_type": "stream",
          "name": "stdout",
          "text": [
            "1/1 [==============================] - 0s 38ms/step\n"
          ]
        },
        {
          "output_type": "stream",
          "name": "stderr",
          "text": [
            "\r54it [00:07,  7.00it/s]"
          ]
        },
        {
          "output_type": "stream",
          "name": "stdout",
          "text": [
            "1/1 [==============================] - 0s 34ms/step\n"
          ]
        },
        {
          "output_type": "stream",
          "name": "stderr",
          "text": [
            "\r55it [00:07,  6.95it/s]"
          ]
        },
        {
          "output_type": "stream",
          "name": "stdout",
          "text": [
            "1/1 [==============================] - 0s 33ms/step\n"
          ]
        },
        {
          "output_type": "stream",
          "name": "stderr",
          "text": [
            "\r56it [00:07,  6.51it/s]"
          ]
        },
        {
          "output_type": "stream",
          "name": "stdout",
          "text": [
            "1/1 [==============================] - 0s 34ms/step\n"
          ]
        },
        {
          "output_type": "stream",
          "name": "stderr",
          "text": [
            "\r57it [00:07,  6.53it/s]"
          ]
        },
        {
          "output_type": "stream",
          "name": "stdout",
          "text": [
            "1/1 [==============================] - 0s 32ms/step\n"
          ]
        },
        {
          "output_type": "stream",
          "name": "stderr",
          "text": [
            "\r58it [00:07,  6.76it/s]"
          ]
        },
        {
          "output_type": "stream",
          "name": "stdout",
          "text": [
            "1/1 [==============================] - 0s 31ms/step\n"
          ]
        },
        {
          "output_type": "stream",
          "name": "stderr",
          "text": [
            "\r59it [00:08,  7.05it/s]"
          ]
        },
        {
          "output_type": "stream",
          "name": "stdout",
          "text": [
            "1/1 [==============================] - 0s 33ms/step\n"
          ]
        },
        {
          "output_type": "stream",
          "name": "stderr",
          "text": [
            "\r60it [00:08,  7.08it/s]"
          ]
        },
        {
          "output_type": "stream",
          "name": "stdout",
          "text": [
            "1/1 [==============================] - 0s 31ms/step\n"
          ]
        },
        {
          "output_type": "stream",
          "name": "stderr",
          "text": [
            "\r61it [00:08,  7.37it/s]"
          ]
        },
        {
          "output_type": "stream",
          "name": "stdout",
          "text": [
            "1/1 [==============================] - 0s 30ms/step\n"
          ]
        },
        {
          "output_type": "stream",
          "name": "stderr",
          "text": [
            "\r62it [00:08,  7.55it/s]"
          ]
        },
        {
          "output_type": "stream",
          "name": "stdout",
          "text": [
            "1/1 [==============================] - 0s 37ms/step\n"
          ]
        },
        {
          "output_type": "stream",
          "name": "stderr",
          "text": [
            "\r63it [00:08,  7.62it/s]"
          ]
        },
        {
          "output_type": "stream",
          "name": "stdout",
          "text": [
            "1/1 [==============================] - 0s 31ms/step\n"
          ]
        },
        {
          "output_type": "stream",
          "name": "stderr",
          "text": [
            "\r64it [00:08,  7.59it/s]"
          ]
        },
        {
          "output_type": "stream",
          "name": "stdout",
          "text": [
            "1/1 [==============================] - 0s 31ms/step\n"
          ]
        },
        {
          "output_type": "stream",
          "name": "stderr",
          "text": [
            "\r65it [00:08,  7.28it/s]"
          ]
        },
        {
          "output_type": "stream",
          "name": "stdout",
          "text": [
            "1/1 [==============================] - 0s 44ms/step\n"
          ]
        },
        {
          "output_type": "stream",
          "name": "stderr",
          "text": [
            "\r66it [00:09,  6.64it/s]"
          ]
        },
        {
          "output_type": "stream",
          "name": "stdout",
          "text": [
            "1/1 [==============================] - 0s 39ms/step\n"
          ]
        },
        {
          "output_type": "stream",
          "name": "stderr",
          "text": [
            "\r67it [00:09,  6.75it/s]"
          ]
        },
        {
          "output_type": "stream",
          "name": "stdout",
          "text": [
            "1/1 [==============================] - 0s 45ms/step\n"
          ]
        },
        {
          "output_type": "stream",
          "name": "stderr",
          "text": [
            "\r68it [00:09,  6.88it/s]"
          ]
        },
        {
          "output_type": "stream",
          "name": "stdout",
          "text": [
            "1/1 [==============================] - 0s 39ms/step\n"
          ]
        },
        {
          "output_type": "stream",
          "name": "stderr",
          "text": [
            "\r69it [00:09,  6.98it/s]"
          ]
        },
        {
          "output_type": "stream",
          "name": "stdout",
          "text": [
            "1/1 [==============================] - 0s 42ms/step\n"
          ]
        },
        {
          "output_type": "stream",
          "name": "stderr",
          "text": [
            "\r70it [00:09,  6.86it/s]"
          ]
        },
        {
          "output_type": "stream",
          "name": "stdout",
          "text": [
            "1/1 [==============================] - 0s 29ms/step\n"
          ]
        },
        {
          "output_type": "stream",
          "name": "stderr",
          "text": [
            "\r71it [00:09,  7.05it/s]"
          ]
        },
        {
          "output_type": "stream",
          "name": "stdout",
          "text": [
            "1/1 [==============================] - 0s 32ms/step\n"
          ]
        },
        {
          "output_type": "stream",
          "name": "stderr",
          "text": [
            "\r72it [00:09,  6.48it/s]"
          ]
        },
        {
          "output_type": "stream",
          "name": "stdout",
          "text": [
            "1/1 [==============================] - 0s 39ms/step\n"
          ]
        },
        {
          "output_type": "stream",
          "name": "stderr",
          "text": [
            "\r73it [00:10,  6.68it/s]"
          ]
        },
        {
          "output_type": "stream",
          "name": "stdout",
          "text": [
            "1/1 [==============================] - 0s 32ms/step\n"
          ]
        },
        {
          "output_type": "stream",
          "name": "stderr",
          "text": [
            "\r74it [00:10,  6.72it/s]"
          ]
        },
        {
          "output_type": "stream",
          "name": "stdout",
          "text": [
            "1/1 [==============================] - 0s 36ms/step\n"
          ]
        },
        {
          "output_type": "stream",
          "name": "stderr",
          "text": [
            "\r75it [00:10,  6.91it/s]"
          ]
        },
        {
          "output_type": "stream",
          "name": "stdout",
          "text": [
            "1/1 [==============================] - 0s 33ms/step\n"
          ]
        },
        {
          "output_type": "stream",
          "name": "stderr",
          "text": [
            "\r76it [00:10,  7.06it/s]"
          ]
        },
        {
          "output_type": "stream",
          "name": "stdout",
          "text": [
            "1/1 [==============================] - 0s 30ms/step\n"
          ]
        },
        {
          "output_type": "stream",
          "name": "stderr",
          "text": [
            "\r77it [00:10,  7.11it/s]"
          ]
        },
        {
          "output_type": "stream",
          "name": "stdout",
          "text": [
            "1/1 [==============================] - 0s 33ms/step\n"
          ]
        },
        {
          "output_type": "stream",
          "name": "stderr",
          "text": [
            "\r78it [00:10,  7.07it/s]"
          ]
        },
        {
          "output_type": "stream",
          "name": "stdout",
          "text": [
            "1/1 [==============================] - 0s 43ms/step\n"
          ]
        },
        {
          "output_type": "stream",
          "name": "stderr",
          "text": [
            "\r79it [00:10,  6.97it/s]"
          ]
        },
        {
          "output_type": "stream",
          "name": "stdout",
          "text": [
            "1/1 [==============================] - 0s 35ms/step\n"
          ]
        },
        {
          "output_type": "stream",
          "name": "stderr",
          "text": [
            "\r80it [00:11,  7.06it/s]"
          ]
        },
        {
          "output_type": "stream",
          "name": "stdout",
          "text": [
            "1/1 [==============================] - 0s 33ms/step\n"
          ]
        },
        {
          "output_type": "stream",
          "name": "stderr",
          "text": [
            "\r81it [00:11,  7.20it/s]"
          ]
        },
        {
          "output_type": "stream",
          "name": "stdout",
          "text": [
            "1/1 [==============================] - 0s 34ms/step\n"
          ]
        },
        {
          "output_type": "stream",
          "name": "stderr",
          "text": [
            "\r82it [00:11,  7.36it/s]"
          ]
        },
        {
          "output_type": "stream",
          "name": "stdout",
          "text": [
            "1/1 [==============================] - 0s 34ms/step\n"
          ]
        },
        {
          "output_type": "stream",
          "name": "stderr",
          "text": [
            "\r83it [00:11,  7.06it/s]"
          ]
        },
        {
          "output_type": "stream",
          "name": "stdout",
          "text": [
            "1/1 [==============================] - 0s 41ms/step\n"
          ]
        },
        {
          "output_type": "stream",
          "name": "stderr",
          "text": [
            "\r84it [00:11,  6.92it/s]"
          ]
        },
        {
          "output_type": "stream",
          "name": "stdout",
          "text": [
            "1/1 [==============================] - 0s 52ms/step\n"
          ]
        },
        {
          "output_type": "stream",
          "name": "stderr",
          "text": [
            "\r85it [00:11,  6.75it/s]"
          ]
        },
        {
          "output_type": "stream",
          "name": "stdout",
          "text": [
            "1/1 [==============================] - 0s 37ms/step\n"
          ]
        },
        {
          "output_type": "stream",
          "name": "stderr",
          "text": [
            "\r86it [00:11,  7.02it/s]"
          ]
        },
        {
          "output_type": "stream",
          "name": "stdout",
          "text": [
            "1/1 [==============================] - 0s 35ms/step\n"
          ]
        },
        {
          "output_type": "stream",
          "name": "stderr",
          "text": [
            "\r87it [00:12,  7.26it/s]"
          ]
        },
        {
          "output_type": "stream",
          "name": "stdout",
          "text": [
            "1/1 [==============================] - 0s 29ms/step\n"
          ]
        },
        {
          "output_type": "stream",
          "name": "stderr",
          "text": [
            "\r88it [00:12,  7.47it/s]"
          ]
        },
        {
          "output_type": "stream",
          "name": "stdout",
          "text": [
            "1/1 [==============================] - 0s 30ms/step\n"
          ]
        },
        {
          "output_type": "stream",
          "name": "stderr",
          "text": [
            "\r89it [00:12,  7.75it/s]"
          ]
        },
        {
          "output_type": "stream",
          "name": "stdout",
          "text": [
            "1/1 [==============================] - 0s 29ms/step\n"
          ]
        },
        {
          "output_type": "stream",
          "name": "stderr",
          "text": [
            "\r90it [00:12,  7.78it/s]"
          ]
        },
        {
          "output_type": "stream",
          "name": "stdout",
          "text": [
            "1/1 [==============================] - 0s 31ms/step\n"
          ]
        },
        {
          "output_type": "stream",
          "name": "stderr",
          "text": [
            "\r91it [00:12,  7.74it/s]"
          ]
        },
        {
          "output_type": "stream",
          "name": "stdout",
          "text": [
            "1/1 [==============================] - 0s 41ms/step\n"
          ]
        },
        {
          "output_type": "stream",
          "name": "stderr",
          "text": [
            "\r92it [00:12,  7.43it/s]"
          ]
        },
        {
          "output_type": "stream",
          "name": "stdout",
          "text": [
            "1/1 [==============================] - 0s 28ms/step\n"
          ]
        },
        {
          "output_type": "stream",
          "name": "stderr",
          "text": [
            "\r93it [00:12,  7.89it/s]"
          ]
        },
        {
          "output_type": "stream",
          "name": "stdout",
          "text": [
            "1/1 [==============================] - 0s 25ms/step\n",
            "1/1 [==============================] - 0s 20ms/step\n"
          ]
        },
        {
          "output_type": "stream",
          "name": "stderr",
          "text": [
            "\r95it [00:12,  9.00it/s]"
          ]
        },
        {
          "output_type": "stream",
          "name": "stdout",
          "text": [
            "1/1 [==============================] - 0s 21ms/step\n",
            "1/1 [==============================] - 0s 23ms/step\n"
          ]
        },
        {
          "output_type": "stream",
          "name": "stderr",
          "text": [
            "\r97it [00:13,  9.54it/s]"
          ]
        },
        {
          "output_type": "stream",
          "name": "stdout",
          "text": [
            "1/1 [==============================] - 0s 22ms/step\n",
            "1/1 [==============================] - 0s 20ms/step\n"
          ]
        },
        {
          "output_type": "stream",
          "name": "stderr",
          "text": [
            "\r99it [00:13,  9.93it/s]"
          ]
        },
        {
          "output_type": "stream",
          "name": "stdout",
          "text": [
            "1/1 [==============================] - 0s 23ms/step\n",
            "1/1 [==============================] - 0s 24ms/step\n"
          ]
        },
        {
          "output_type": "stream",
          "name": "stderr",
          "text": [
            "\r101it [00:13,  9.86it/s]"
          ]
        },
        {
          "output_type": "stream",
          "name": "stdout",
          "text": [
            "1/1 [==============================] - 0s 27ms/step\n"
          ]
        },
        {
          "output_type": "stream",
          "name": "stderr",
          "text": [
            "\r102it [00:13,  9.78it/s]"
          ]
        },
        {
          "output_type": "stream",
          "name": "stdout",
          "text": [
            "1/1 [==============================] - 0s 21ms/step\n"
          ]
        },
        {
          "output_type": "stream",
          "name": "stderr",
          "text": [
            "\r103it [00:13,  9.68it/s]"
          ]
        },
        {
          "output_type": "stream",
          "name": "stdout",
          "text": [
            "1/1 [==============================] - 0s 47ms/step\n"
          ]
        },
        {
          "output_type": "stream",
          "name": "stderr",
          "text": [
            "\r104it [00:13,  9.13it/s]"
          ]
        },
        {
          "output_type": "stream",
          "name": "stdout",
          "text": [
            "1/1 [==============================] - 0s 20ms/step\n",
            "1/1 [==============================] - 0s 21ms/step\n"
          ]
        },
        {
          "output_type": "stream",
          "name": "stderr",
          "text": [
            "\r106it [00:14,  9.63it/s]"
          ]
        },
        {
          "output_type": "stream",
          "name": "stdout",
          "text": [
            "1/1 [==============================] - 0s 24ms/step\n",
            "1/1 [==============================] - 0s 20ms/step\n"
          ]
        },
        {
          "output_type": "stream",
          "name": "stderr",
          "text": [
            "\r108it [00:14,  9.93it/s]"
          ]
        },
        {
          "output_type": "stream",
          "name": "stdout",
          "text": [
            "1/1 [==============================] - 0s 23ms/step\n"
          ]
        },
        {
          "output_type": "stream",
          "name": "stderr",
          "text": [
            "\r109it [00:14,  9.67it/s]"
          ]
        },
        {
          "output_type": "stream",
          "name": "stdout",
          "text": [
            "1/1 [==============================] - 0s 23ms/step\n"
          ]
        },
        {
          "output_type": "stream",
          "name": "stderr",
          "text": [
            "\r110it [00:14,  9.73it/s]"
          ]
        },
        {
          "output_type": "stream",
          "name": "stdout",
          "text": [
            "1/1 [==============================] - 0s 22ms/step\n"
          ]
        },
        {
          "output_type": "stream",
          "name": "stderr",
          "text": [
            "\r111it [00:14,  9.63it/s]"
          ]
        },
        {
          "output_type": "stream",
          "name": "stdout",
          "text": [
            "1/1 [==============================] - 0s 23ms/step\n"
          ]
        },
        {
          "output_type": "stream",
          "name": "stderr",
          "text": [
            "\r112it [00:14,  8.68it/s]"
          ]
        },
        {
          "output_type": "stream",
          "name": "stdout",
          "text": [
            "1/1 [==============================] - 0s 24ms/step\n"
          ]
        },
        {
          "output_type": "stream",
          "name": "stderr",
          "text": [
            "\r113it [00:14,  8.62it/s]"
          ]
        },
        {
          "output_type": "stream",
          "name": "stdout",
          "text": [
            "1/1 [==============================] - 0s 25ms/step\n"
          ]
        },
        {
          "output_type": "stream",
          "name": "stderr",
          "text": [
            "\r114it [00:14,  8.95it/s]"
          ]
        },
        {
          "output_type": "stream",
          "name": "stdout",
          "text": [
            "1/1 [==============================] - 0s 22ms/step\n"
          ]
        },
        {
          "output_type": "stream",
          "name": "stderr",
          "text": [
            "\r115it [00:15,  9.02it/s]"
          ]
        },
        {
          "output_type": "stream",
          "name": "stdout",
          "text": [
            "1/1 [==============================] - 0s 25ms/step\n"
          ]
        },
        {
          "output_type": "stream",
          "name": "stderr",
          "text": [
            "\r116it [00:15,  9.16it/s]"
          ]
        },
        {
          "output_type": "stream",
          "name": "stdout",
          "text": [
            "1/1 [==============================] - 0s 20ms/step\n",
            "1/1 [==============================] - 0s 24ms/step\n"
          ]
        },
        {
          "output_type": "stream",
          "name": "stderr",
          "text": [
            "\r118it [00:15,  9.09it/s]"
          ]
        },
        {
          "output_type": "stream",
          "name": "stdout",
          "text": [
            "1/1 [==============================] - 0s 21ms/step\n"
          ]
        },
        {
          "output_type": "stream",
          "name": "stderr",
          "text": [
            "\r119it [00:15,  8.86it/s]"
          ]
        },
        {
          "output_type": "stream",
          "name": "stdout",
          "text": [
            "1/1 [==============================] - 0s 26ms/step\n"
          ]
        },
        {
          "output_type": "stream",
          "name": "stderr",
          "text": [
            "\r120it [00:15,  8.85it/s]"
          ]
        },
        {
          "output_type": "stream",
          "name": "stdout",
          "text": [
            "1/1 [==============================] - 0s 25ms/step\n"
          ]
        },
        {
          "output_type": "stream",
          "name": "stderr",
          "text": [
            "\r121it [00:15,  8.97it/s]"
          ]
        },
        {
          "output_type": "stream",
          "name": "stdout",
          "text": [
            "1/1 [==============================] - 0s 29ms/step\n"
          ]
        },
        {
          "output_type": "stream",
          "name": "stderr",
          "text": [
            "\r122it [00:15,  8.98it/s]"
          ]
        },
        {
          "output_type": "stream",
          "name": "stdout",
          "text": [
            "1/1 [==============================] - 0s 21ms/step\n",
            "1/1 [==============================] - 0s 20ms/step\n"
          ]
        },
        {
          "output_type": "stream",
          "name": "stderr",
          "text": [
            "\r124it [00:16,  9.46it/s]"
          ]
        },
        {
          "output_type": "stream",
          "name": "stdout",
          "text": [
            "1/1 [==============================] - 0s 21ms/step\n"
          ]
        },
        {
          "output_type": "stream",
          "name": "stderr",
          "text": [
            "\r125it [00:16,  9.54it/s]"
          ]
        },
        {
          "output_type": "stream",
          "name": "stdout",
          "text": [
            "1/1 [==============================] - 0s 23ms/step\n",
            "1/1 [==============================] - 0s 21ms/step\n"
          ]
        },
        {
          "output_type": "stream",
          "name": "stderr",
          "text": [
            "\r127it [00:16,  9.78it/s]"
          ]
        },
        {
          "output_type": "stream",
          "name": "stdout",
          "text": [
            "1/1 [==============================] - 0s 20ms/step\n"
          ]
        },
        {
          "output_type": "stream",
          "name": "stderr",
          "text": [
            "\r128it [00:16,  9.61it/s]"
          ]
        },
        {
          "output_type": "stream",
          "name": "stdout",
          "text": [
            "1/1 [==============================] - 0s 22ms/step\n"
          ]
        },
        {
          "output_type": "stream",
          "name": "stderr",
          "text": [
            "\r129it [00:16,  9.16it/s]"
          ]
        },
        {
          "output_type": "stream",
          "name": "stdout",
          "text": [
            "1/1 [==============================] - 0s 21ms/step\n"
          ]
        },
        {
          "output_type": "stream",
          "name": "stderr",
          "text": [
            "\r130it [00:16,  9.27it/s]"
          ]
        },
        {
          "output_type": "stream",
          "name": "stdout",
          "text": [
            "1/1 [==============================] - 0s 22ms/step\n"
          ]
        },
        {
          "output_type": "stream",
          "name": "stderr",
          "text": [
            "\r131it [00:16,  9.27it/s]"
          ]
        },
        {
          "output_type": "stream",
          "name": "stdout",
          "text": [
            "1/1 [==============================] - 0s 21ms/step\n"
          ]
        },
        {
          "output_type": "stream",
          "name": "stderr",
          "text": [
            "\r132it [00:16,  9.04it/s]"
          ]
        },
        {
          "output_type": "stream",
          "name": "stdout",
          "text": [
            "1/1 [==============================] - 0s 20ms/step\n"
          ]
        },
        {
          "output_type": "stream",
          "name": "stderr",
          "text": [
            "\r133it [00:17,  9.16it/s]"
          ]
        },
        {
          "output_type": "stream",
          "name": "stdout",
          "text": [
            "1/1 [==============================] - 0s 24ms/step\n"
          ]
        },
        {
          "output_type": "stream",
          "name": "stderr",
          "text": [
            "\r134it [00:17,  9.25it/s]"
          ]
        },
        {
          "output_type": "stream",
          "name": "stdout",
          "text": [
            "1/1 [==============================] - 0s 23ms/step\n"
          ]
        },
        {
          "output_type": "stream",
          "name": "stderr",
          "text": [
            "\r135it [00:17,  8.96it/s]"
          ]
        },
        {
          "output_type": "stream",
          "name": "stdout",
          "text": [
            "1/1 [==============================] - 0s 21ms/step\n"
          ]
        },
        {
          "output_type": "stream",
          "name": "stderr",
          "text": [
            "\r136it [00:17,  8.75it/s]"
          ]
        },
        {
          "output_type": "stream",
          "name": "stdout",
          "text": [
            "1/1 [==============================] - 0s 21ms/step\n"
          ]
        },
        {
          "output_type": "stream",
          "name": "stderr",
          "text": [
            "\r137it [00:17,  8.88it/s]"
          ]
        },
        {
          "output_type": "stream",
          "name": "stdout",
          "text": [
            "1/1 [==============================] - 0s 20ms/step\n"
          ]
        },
        {
          "output_type": "stream",
          "name": "stderr",
          "text": [
            "\r138it [00:17,  8.99it/s]"
          ]
        },
        {
          "output_type": "stream",
          "name": "stdout",
          "text": [
            "1/1 [==============================] - 0s 22ms/step\n"
          ]
        },
        {
          "output_type": "stream",
          "name": "stderr",
          "text": [
            "\r139it [00:17,  9.23it/s]"
          ]
        },
        {
          "output_type": "stream",
          "name": "stdout",
          "text": [
            "1/1 [==============================] - 0s 31ms/step\n"
          ]
        },
        {
          "output_type": "stream",
          "name": "stderr",
          "text": [
            "\r140it [00:17,  8.63it/s]"
          ]
        },
        {
          "output_type": "stream",
          "name": "stdout",
          "text": [
            "1/1 [==============================] - 0s 24ms/step\n"
          ]
        },
        {
          "output_type": "stream",
          "name": "stderr",
          "text": [
            "\r141it [00:17,  8.54it/s]"
          ]
        },
        {
          "output_type": "stream",
          "name": "stdout",
          "text": [
            "1/1 [==============================] - 0s 23ms/step\n"
          ]
        },
        {
          "output_type": "stream",
          "name": "stderr",
          "text": [
            "\r142it [00:18,  8.64it/s]"
          ]
        },
        {
          "output_type": "stream",
          "name": "stdout",
          "text": [
            "1/1 [==============================] - 0s 21ms/step\n"
          ]
        },
        {
          "output_type": "stream",
          "name": "stderr",
          "text": [
            "\r143it [00:18,  8.96it/s]"
          ]
        },
        {
          "output_type": "stream",
          "name": "stdout",
          "text": [
            "1/1 [==============================] - 0s 20ms/step\n"
          ]
        },
        {
          "output_type": "stream",
          "name": "stderr",
          "text": [
            "144it [00:20,  7.03it/s]\n"
          ]
        }
      ],
      "source": [
        "test_ds_unbatched = test_batches.unbatch()\n",
        "\n",
        "pred_path = os.path.join(PRED_PATH, EXP_NAME, timestamp)\n",
        "if not os.path.exists(pred_path):\n",
        "    os.makedirs(pred_path)\n",
        "\n",
        "metrics = pd.DataFrame()\n",
        "\n",
        "for idx, (input, target) in enumerate(tqdm(test_ds_unbatched)):\n",
        "    target = tf.squeeze(target)\n",
        "    prediction = tf.squeeze(model.predict(tf.expand_dims(input, axis=0)))\n",
        "\n",
        "    channel_sum = tf.expand_dims(tf.reduce_sum(target, axis=-1), axis=-1)\n",
        "    white_mask = tf.reduce_all(tf.equal(channel_sum, 3.0), axis=-1)\n",
        "    expanded_mask = tf.expand_dims(white_mask, axis=-1)\n",
        "    expanded_mask = tf.tile(expanded_mask, [1, 1, 3])\n",
        "    prediction = tf.where(expanded_mask, tf.ones_like(prediction), prediction)\n",
        "\n",
        "    target_pil = Image.fromarray(np.array(target * 255.0, dtype=np.uint8))\n",
        "    prediction_pil = Image.fromarray(\n",
        "        np.array(prediction * 255.0, dtype=np.uint8))\n",
        "\n",
        "    target_pil.save(os.path.join(pred_path, f\"{idx}_T.png\"))\n",
        "    prediction_pil.save(os.path.join(pred_path, f\"{idx}_P.png\"))"
      ]
    },
    {
      "cell_type": "markdown",
      "metadata": {
        "id": "yHrb18xrh7ex"
      },
      "source": [
        "# Loss Curve"
      ]
    },
    {
      "cell_type": "code",
      "execution_count": 19,
      "metadata": {
        "colab": {
          "base_uri": "https://localhost:8080/",
          "height": 607
        },
        "id": "27vxXlXEh7ex",
        "outputId": "fb15de03-481e-4e2e-d540-c9c659684193"
      },
      "outputs": [
        {
          "output_type": "display_data",
          "data": {
            "text/plain": [
              "<Figure size 800x600 with 1 Axes>"
            ],
            "image/png": "[encoded data removed]"
          },
          "metadata": {}
        }
      ],
      "source": [
        "try:\n",
        "    loss = history.history['loss']\n",
        "    val_loss = history.history['val_loss']\n",
        "\n",
        "    plt.figure(figsize=(8, 6))\n",
        "    plt.plot(loss, label='Training Loss')\n",
        "    plt.plot(val_loss, label='Validation Loss')\n",
        "    plt.legend(loc='upper right')\n",
        "    plt.ylabel('Attention MAE')\n",
        "    plt.title('Training and Validation Loss')\n",
        "    plt.xlabel('Epoch')\n",
        "    plt.tight_layout()\n",
        "    plt.savefig(os.path.join(model_path, timestamp + \".png\"))\n",
        "    plt.show()\n",
        "except:\n",
        "    print(\"Model did not finish training\")"
      ]
    },
    {
      "cell_type": "markdown",
      "metadata": {
        "id": "McOnJlPwh7ex"
      },
      "source": [
        "# Metrics"
      ]
    },
    {
      "cell_type": "code",
      "execution_count": 20,
      "metadata": {
        "colab": {
          "base_uri": "https://localhost:8080/"
        },
        "id": "8kbXsKlmh7e0",
        "outputId": "91848a3d-931c-4318-c410-34bb0aadbd0c"
      },
      "outputs": [
        {
          "output_type": "stream",
          "name": "stdout",
          "text": [
            "9/9 [==============================] - 0s 48ms/step - loss: 0.0070 - attention_mae: 0.0415\n",
            "EMSE: 0.007025962229818106\n",
            "EMAE: 0.04148907586932182\n"
          ]
        }
      ],
      "source": [
        "EMSE, EMAE = model.evaluate(test_batches)\n",
        "print(f\"EMSE: {EMSE}\\nEMAE: {EMAE}\")"
      ]
    }
  ],
  "metadata": {
    "kernelspec": {
      "display_name": "Python 3",
      "name": "python3"
    },
    "language_info": {
      "codemirror_mode": {
        "name": "ipython",
        "version": 3
      },
      "file_extension": ".py",
      "mimetype": "text/x-python",
      "name": "python",
      "nbconvert_exporter": "python",
      "pygments_lexer": "ipython3",
      "version": "3.11.5"
    },
    "colab": {
      "provenance": [],
      "toc_visible": true,
      "gpuType": "V100"
    },
    "accelerator": "GPU"
  },
  "nbformat": 4,
  "nbformat_minor": 0
}