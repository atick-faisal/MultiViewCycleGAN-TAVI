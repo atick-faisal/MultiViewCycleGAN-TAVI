{
  "cells": [
    {
      "cell_type": "markdown",
      "metadata": {
        "id": "7qGP76Soh7eo"
      },
      "source": [
        "# Runtime Config"
      ]
    },
    {
      "cell_type": "code",
      "execution_count": 1,
      "metadata": {
        "id": "DxmV-3idh7eq"
      },
      "outputs": [],
      "source": [
        "LOCAL_MACHINE = False"
      ]
    },
    {
      "cell_type": "code",
      "execution_count": 2,
      "metadata": {
        "colab": {
          "base_uri": "https://localhost:8080/"
        },
        "id": "B_TCNqhSh7er",
        "outputId": "b603f752-ce3a-44b7-e494-d8febfaca9a1"
      },
      "outputs": [
        {
          "name": "stdout",
          "output_type": "stream",
          "text": [
            "Mon Nov 27 09:22:46 2023       \n",
            "+-----------------------------------------------------------------------------+\n",
            "| NVIDIA-SMI 525.105.17   Driver Version: 525.105.17   CUDA Version: 12.0     |\n",
            "|-------------------------------+----------------------+----------------------+\n",
            "| GPU  Name        Persistence-M| Bus-Id        Disp.A | Volatile Uncorr. ECC |\n",
            "| Fan  Temp  Perf  Pwr:Usage/Cap|         Memory-Usage | GPU-Util  Compute M. |\n",
            "|                               |                      |               MIG M. |\n",
            "|===============================+======================+======================|\n",
            "|   0  Tesla V100-SXM2...  Off  | 00000000:00:04.0 Off |                    0 |\n",
            "| N/A   35C    P0    24W / 300W |      0MiB / 16384MiB |      0%      Default |\n",
            "|                               |                      |                  N/A |\n",
            "+-------------------------------+----------------------+----------------------+\n",
            "                                                                               \n",
            "+-----------------------------------------------------------------------------+\n",
            "| Processes:                                                                  |\n",
            "|  GPU   GI   CI        PID   Type   Process name                  GPU Memory |\n",
            "|        ID   ID                                                   Usage      |\n",
            "|=============================================================================|\n",
            "|  No running processes found                                                 |\n",
            "+-----------------------------------------------------------------------------+\n",
            "Your runtime has 13.6 gigabytes of available RAM\n",
            "\n",
            "Not using a high-RAM runtime\n"
          ]
        }
      ],
      "source": [
        "from psutil import virtual_memory\n",
        "\n",
        "gpu_info = !nvidia-smi\n",
        "gpu_info = '\\n'.join(gpu_info)\n",
        "if gpu_info.find('failed') >= 0:\n",
        "    print('Not connected to a GPU')\n",
        "else:\n",
        "    print(gpu_info)\n",
        "\n",
        "\n",
        "ram_gb = virtual_memory().total / 1e9\n",
        "print('Your runtime has {:.1f} gigabytes of available RAM\\n'.format(ram_gb))\n",
        "\n",
        "if ram_gb < 20:\n",
        "    print('Not using a high-RAM runtime')\n",
        "else:\n",
        "    print('You are using a high-RAM runtime!')"
      ]
    },
    {
      "cell_type": "markdown",
      "metadata": {
        "id": "9lBmQa9Rh7es"
      },
      "source": [
        "# Fix G-Drive"
      ]
    },
    {
      "cell_type": "code",
      "execution_count": 3,
      "metadata": {
        "colab": {
          "base_uri": "https://localhost:8080/"
        },
        "id": "KBNHcIMGh7es",
        "outputId": "ce049414-734d-4760-8bc2-6baea8a1050c"
      },
      "outputs": [
        {
          "name": "stdout",
          "output_type": "stream",
          "text": [
            "Installing G-Drive ... \n"
          ]
        }
      ],
      "source": [
        "import os\n",
        "\n",
        "if not LOCAL_MACHINE:\n",
        "    print(\"Installing G-Drive ... \")\n",
        "    os.system(\"pip install -U --no-cache-dir gdown --pre > /dev/null\")\n",
        "    print(\"Install Pix2Pix\")\n",
        "    os.system(\"pip install git+https://github.com/tensorflow/examples.git\")"
      ]
    },
    {
      "cell_type": "markdown",
      "metadata": {
        "id": "ZfrLpMKph7et"
      },
      "source": [
        "# Mount G-Drive"
      ]
    },
    {
      "cell_type": "code",
      "execution_count": 4,
      "metadata": {
        "colab": {
          "base_uri": "https://localhost:8080/"
        },
        "id": "P9xbY2Ggh7et",
        "outputId": "370c2022-b83f-41d0-b2e7-a36554039817"
      },
      "outputs": [
        {
          "name": "stdout",
          "output_type": "stream",
          "text": [
            "Drive already mounted at /content/drive; to attempt to forcibly remount, call drive.mount(\"/content/drive\", force_remount=True).\n"
          ]
        }
      ],
      "source": [
        "if not LOCAL_MACHINE:\n",
        "    from google.colab import drive\n",
        "\n",
        "    drive.mount(\"/content/drive\")"
      ]
    },
    {
      "cell_type": "markdown",
      "metadata": {
        "id": "0lWGNCyCh7et"
      },
      "source": [
        "# Download and Extract Dataset"
      ]
    },
    {
      "cell_type": "code",
      "execution_count": 5,
      "metadata": {
        "colab": {
          "base_uri": "https://localhost:8080/"
        },
        "id": "ImKwSB_kh7et",
        "outputId": "e3687014-e028-467e-c921-bce72b667113"
      },
      "outputs": [
        {
          "name": "stdout",
          "output_type": "stream",
          "text": [
            "Downloading Dataset ... \n",
            "Extracting Dataset ... \n"
          ]
        }
      ],
      "source": [
        "if not LOCAL_MACHINE:\n",
        "    print(\"Downloading Dataset ... \")\n",
        "    os.system(\"gdown 1xBO079FPIeE7T5VVsFwc8QeZxAfS4J9O\")\n",
        "    print(\"Extracting Dataset ... \")\n",
        "    os.system('unzip -o \"TAVI_REG_r17.zip\" > /dev/null')"
      ]
    },
    {
      "cell_type": "markdown",
      "metadata": {
        "id": "tq1mCzROh7eu"
      },
      "source": [
        "# Imports"
      ]
    },
    {
      "cell_type": "code",
      "execution_count": 6,
      "metadata": {
        "id": "nClEc8uph7eu"
      },
      "outputs": [],
      "source": [
        "import datetime\n",
        "import numpy as np\n",
        "import pandas as pd\n",
        "import tensorflow as tf\n",
        "import matplotlib.pyplot as plt\n",
        "\n",
        "from tqdm import tqdm\n",
        "from PIL import Image\n",
        "\n",
        "from tensorflow_examples.models.pix2pix import pix2pix"
      ]
    },
    {
      "cell_type": "markdown",
      "metadata": {
        "id": "cqPlBIIPh7eu"
      },
      "source": [
        "# Problem Config"
      ]
    },
    {
      "cell_type": "code",
      "execution_count": 7,
      "metadata": {
        "id": "njUHcK7Xh7eu"
      },
      "outputs": [],
      "source": [
        "PROBLEM = \"Curvature_2_Pressure\"\n",
        "\n",
        "MODEL_NAME = \"MultiViewUNet-MobileNet\"\n",
        "DATASET_PATH = \"/content/Images/\"\n",
        "TRAIN_DIR = \"Train/\"\n",
        "TEST_DIR = \"Test/\"\n",
        "INPUT_DIR = PROBLEM.split(\"_2_\")[0]\n",
        "TARGET_DIR = PROBLEM.split(\"_2_\")[1]\n",
        "MODEL_PATH = \"/content/drive/MyDrive/Research/TAVI/Models/\"\n",
        "PRED_PATH = \"/content/drive/MyDrive/Research/TAVI/Predictions/\"\n",
        "IMG_SIZE = 224\n",
        "BATCH_SIZE = 16\n",
        "BUFFER_SIZE = 1000\n",
        "VAL_SPLIT = 0.2\n",
        "LEARNING_RATE = 0.001\n",
        "N_EPOCHS = 300\n",
        "PATIENCE = 30\n",
        "DROPOUT = 0.5\n",
        "\n",
        "EXP_NAME = f\"{PROBLEM}_{MODEL_NAME}_DO_{DROPOUT}\""
      ]
    },
    {
      "cell_type": "markdown",
      "metadata": {
        "id": "yfz3WJv1h7eu"
      },
      "source": [
        "# Architecture"
      ]
    },
    {
      "cell_type": "markdown",
      "metadata": {
        "id": "VJM2NlWwh7eu"
      },
      "source": [
        "## Vanilla UNet"
      ]
    },
    {
      "cell_type": "code",
      "execution_count": 8,
      "metadata": {
        "id": "e1VqTrGrh7eu"
      },
      "outputs": [],
      "source": [
        "class UNet:\n",
        "    def __init__(\n",
        "        self,\n",
        "        img_size: int,\n",
        "        n_channels: int = 3,\n",
        "        width: int = 32,\n",
        "        depth: int = 4,\n",
        "        kernel_size: int = 3,\n",
        "    ):\n",
        "        self.img_size = img_size\n",
        "        self.n_channels = n_channels\n",
        "        self.width = width\n",
        "        self.depth = depth\n",
        "        self.kernel_size = kernel_size\n",
        "\n",
        "    @staticmethod\n",
        "    def conv(x: tf.Tensor, filters: int, kernel_size: int) -> tf.Tensor:\n",
        "        for i in range(2):\n",
        "            x = tf.keras.layers.Conv2D(\n",
        "                filters=filters,\n",
        "                kernel_size=kernel_size,\n",
        "                strides=1,\n",
        "                padding=\"same\",\n",
        "                data_format=\"channels_last\",\n",
        "                dilation_rate=1,\n",
        "                groups=1,\n",
        "                activation=None,\n",
        "                use_bias=True,\n",
        "                kernel_initializer=\"glorot_uniform\",\n",
        "                bias_initializer=\"zeros\",\n",
        "            )(x)\n",
        "\n",
        "            x = tf.keras.layers.BatchNormalization()(x)\n",
        "            x = tf.keras.layers.Activation(\"relu\")(x)\n",
        "\n",
        "        return x\n",
        "\n",
        "    @staticmethod\n",
        "    def deconv(x: tf.Tensor, filters: int) -> tf.Tensor:\n",
        "        x = tf.keras.layers.Conv2DTranspose(\n",
        "            filters=filters,\n",
        "            kernel_size=2,\n",
        "            strides=2,\n",
        "            padding=\"same\",\n",
        "            output_padding=None,\n",
        "            data_format=None,\n",
        "            dilation_rate=1,\n",
        "            activation=None,\n",
        "            use_bias=True,\n",
        "            kernel_initializer=\"glorot_uniform\",\n",
        "            bias_initializer=\"zeros\",\n",
        "        )(x)\n",
        "\n",
        "        x = tf.keras.layers.BatchNormalization()(x)\n",
        "        x = tf.keras.layers.Activation(\"relu\")(x)\n",
        "\n",
        "        return x\n",
        "\n",
        "    @staticmethod\n",
        "    def output(x: tf.Tensor) -> tf.Tensor:\n",
        "        return tf.keras.layers.Conv2D(3, (1, 1), activation=\"sigmoid\")(x)\n",
        "\n",
        "    @staticmethod\n",
        "    def pool(x: tf.Tensor, pool_size: int = 2) -> tf.Tensor:\n",
        "        return tf.keras.layers.MaxPool2D(pool_size)(x)\n",
        "\n",
        "    @staticmethod\n",
        "    def dropout(x: tf.Tensor, amount: float = 0.5) -> tf.Tensor:\n",
        "        return tf.keras.layers.Dropout(amount)(x)\n",
        "\n",
        "    def __call__(self) -> tf.keras.Model:\n",
        "        inputs = tf.keras.layers.Input(\n",
        "            shape=(self.img_size, self.img_size, self.n_channels)\n",
        "        )\n",
        "\n",
        "        # scaled = tf.keras.layers.Rescaling(1./255.0, offset=0)(inputs)\n",
        "\n",
        "        # ------------------ Downsampling ---------------------\n",
        "        downsample_layers = []\n",
        "        downsample_layers.append(\n",
        "            self.conv(x=inputs, filters=self.width,\n",
        "                      kernel_size=self.kernel_size)\n",
        "        )\n",
        "        for i in range(1, self.depth):\n",
        "            dropout_amount = 0.2 if i == 1 else DROPOUT\n",
        "            filters = int((2**i) * self.width)\n",
        "            downsample_layers.append(\n",
        "                self.dropout(\n",
        "                    self.pool(\n",
        "                        self.conv(\n",
        "                            x=downsample_layers[i - 1],\n",
        "                            filters=filters,\n",
        "                            kernel_size=self.kernel_size,\n",
        "                        )\n",
        "                    ),\n",
        "                    amount=dropout_amount,\n",
        "                )\n",
        "            )\n",
        "\n",
        "        # ------------------- Features --------------------\n",
        "        n_features = int((2**self.depth) * self.width)\n",
        "        self.features = self.pool(\n",
        "            self.conv(\n",
        "                x=downsample_layers[-1],\n",
        "                filters=n_features,\n",
        "                kernel_size=self.kernel_size,\n",
        "            )\n",
        "        )\n",
        "\n",
        "        # ------------------- Upsampling --------------------\n",
        "        upsample_layers = []\n",
        "        upsample_layers.append(self.features)\n",
        "        for i in range(1, self.depth + 1):\n",
        "            filters = int((2 ** (self.depth - i)) * self.width)\n",
        "            upsample_layers.append(\n",
        "                self.conv(\n",
        "                    x=self.dropout(\n",
        "                        tf.keras.layers.concatenate(\n",
        "                            [\n",
        "                                downsample_layers[self.depth - i],\n",
        "                                self.deconv(\n",
        "                                    x=upsample_layers[i - 1], filters=filters),\n",
        "                            ]\n",
        "                        ),\n",
        "                        amount=0.2\n",
        "                    ),\n",
        "                    filters=filters,\n",
        "                    kernel_size=self.kernel_size,\n",
        "                )\n",
        "            )\n",
        "\n",
        "        # ---------------------- Output -----------------------\n",
        "        outputs = self.output(upsample_layers[-1])\n",
        "\n",
        "        return tf.keras.Model(inputs, outputs)"
      ]
    },
    {
      "cell_type": "markdown",
      "metadata": {
        "id": "DDBA0xvgwjUb"
      },
      "source": [
        "# UNet - MobileNetv2"
      ]
    },
    {
      "cell_type": "code",
      "execution_count": 9,
      "metadata": {
        "colab": {
          "base_uri": "https://localhost:8080/"
        },
        "id": "xyoeknw1wizE",
        "outputId": "699a9769-6189-47c1-f919-c5a05f58d0bc"
      },
      "outputs": [
        {
          "name": "stdout",
          "output_type": "stream",
          "text": [
            "Collecting git+https://github.com/tensorflow/examples.git\n",
            "  Cloning https://github.com/tensorflow/examples.git to /tmp/pip-req-build-ltfcs5pu\n",
            "  Running command git clone --filter=blob:none --quiet https://github.com/tensorflow/examples.git /tmp/pip-req-build-ltfcs5pu\n",
            "  Resolved https://github.com/tensorflow/examples.git to commit 0b14ce1c88537b94772cc99d995d936417be6f5d\n",
            "  Preparing metadata (setup.py) ... \u001b[?25l\u001b[?25hdone\n",
            "Requirement already satisfied: absl-py in /usr/local/lib/python3.10/dist-packages (from tensorflow-examples==0.1699471818.63262868223049538191520590201343318150499692381) (1.4.0)\n",
            "Requirement already satisfied: six in /usr/local/lib/python3.10/dist-packages (from tensorflow-examples==0.1699471818.63262868223049538191520590201343318150499692381) (1.16.0)\n"
          ]
        },
        {
          "name": "stderr",
          "output_type": "stream",
          "text": [
            "WARNING:tensorflow:`input_shape` is undefined or non-square, or `rows` is not in [96, 128, 160, 192, 224]. Weights for input shape (224, 224) will be loaded as the default.\n"
          ]
        }
      ],
      "source": [
        "base_model = tf.keras.applications.MobileNetV2(\n",
        "    input_shape=[IMG_SIZE, IMG_SIZE, 3], include_top=False\n",
        ")\n",
        "\n",
        "# Use the activations of these layers\n",
        "layer_names = [\n",
        "    \"block_1_expand_relu\",  # 112x112\n",
        "    \"block_3_expand_relu\",  # 56x56\n",
        "    \"block_6_expand_relu\",  # 28x28\n",
        "    \"block_13_expand_relu\",  # 14x14\n",
        "    \"block_16_project\",  # 7x7\n",
        "]\n",
        "base_model_outputs = [base_model.get_layer(name).output for name in layer_names]\n",
        "\n",
        "# Create the feature extraction model\n",
        "down_stack = tf.keras.Model(inputs=base_model.input, outputs=base_model_outputs)\n",
        "\n",
        "down_stack.trainable = False\n",
        "\n",
        "up_stack = [\n",
        "    pix2pix.upsample(512, 3),  # 4x4 -> 8x8\n",
        "    pix2pix.upsample(256, 3),  # 8x8 -> 16x16\n",
        "    pix2pix.upsample(128, 3),  # 16x16 -> 32x32\n",
        "    pix2pix.upsample(64, 3),  # 32x32 -> 64x64\n",
        "]\n",
        "\n",
        "\n",
        "def unet_model(output_channels: int = 3):\n",
        "    inputs = tf.keras.layers.Input(shape=[IMG_SIZE, IMG_SIZE, 3])\n",
        "\n",
        "    # Downsampling through the model\n",
        "    skips = down_stack(inputs)\n",
        "    x = skips[-1]\n",
        "    skips = reversed(skips[:-1])\n",
        "\n",
        "    # Upsampling and establishing the skip connections\n",
        "    for up, skip in zip(up_stack, skips):\n",
        "        x = up(x)\n",
        "        concat = tf.keras.layers.Concatenate()\n",
        "        x = concat([x, skip])\n",
        "\n",
        "    # This is the last layer of the model\n",
        "    last = tf.keras.layers.Conv2DTranspose(\n",
        "        filters=output_channels,\n",
        "        kernel_size=3,\n",
        "        strides=2,\n",
        "        padding=\"same\",\n",
        "        activation=\"sigmoid\",\n",
        "    )  # 64x64 -> 128x128\n",
        "\n",
        "    x = last(x)\n",
        "\n",
        "    return tf.keras.Model(inputs=inputs, outputs=x)"
      ]
    },
    {
      "cell_type": "markdown",
      "metadata": {
        "id": "demEopCeh7ev"
      },
      "source": [
        "# Loss Functions / Metrics"
      ]
    },
    {
      "cell_type": "code",
      "execution_count": 10,
      "metadata": {
        "id": "9-ke3H-6h7ev"
      },
      "outputs": [],
      "source": [
        "def attention_mse(y_true, y_pred):\n",
        "    _y_true = y_true[y_true != 1.0]\n",
        "    _y_pred = y_pred[y_true != 1.0]\n",
        "    squared_difference = tf.square(_y_true - _y_pred)\n",
        "    return tf.reduce_mean(squared_difference, axis=-1)\n",
        "\n",
        "\n",
        "def attention_mae(y_true, y_pred):\n",
        "    _y_true = y_true[y_true != 1.0]\n",
        "    _y_pred = y_pred[y_true != 1.0]\n",
        "    squared_difference = tf.abs(_y_true - _y_pred)\n",
        "    return tf.reduce_mean(squared_difference, axis=-1)"
      ]
    },
    {
      "cell_type": "markdown",
      "metadata": {
        "id": "JS70cKevh7ev"
      },
      "source": [
        "# Data Loader"
      ]
    },
    {
      "cell_type": "code",
      "execution_count": 11,
      "metadata": {
        "id": "1nL0lVRSh7ev"
      },
      "outputs": [],
      "source": [
        "def load_data_from_dir(path: str) -> tf.data.Dataset:\n",
        "    return tf.keras.utils.image_dataset_from_directory(\n",
        "        directory=path,\n",
        "        labels=None,\n",
        "        color_mode=\"rgb\",\n",
        "        batch_size=BATCH_SIZE,\n",
        "        image_size=(IMG_SIZE, IMG_SIZE),\n",
        "        shuffle=False,\n",
        "        seed=42,\n",
        "        interpolation=\"bilinear\",\n",
        "        follow_links=False,\n",
        "        crop_to_aspect_ratio=False,\n",
        "    )"
      ]
    },
    {
      "cell_type": "markdown",
      "metadata": {
        "id": "fUnFP3mFh7ev"
      },
      "source": [
        "# Load Dataset"
      ]
    },
    {
      "cell_type": "code",
      "execution_count": 12,
      "metadata": {
        "colab": {
          "base_uri": "https://localhost:8080/"
        },
        "id": "M40uLH5mh7ev",
        "outputId": "d79ad85c-252c-411f-de2b-a786712d10ef"
      },
      "outputs": [
        {
          "name": "stdout",
          "output_type": "stream",
          "text": [
            "Found 432 files belonging to 1 classes.\n",
            "Found 432 files belonging to 1 classes.\n",
            "Found 96 files belonging to 1 classes.\n",
            "Found 96 files belonging to 1 classes.\n",
            "(TensorSpec(shape=(None, 256, 256, 3), dtype=tf.float32, name=None), TensorSpec(shape=(None, 256, 256, 3), dtype=tf.float32, name=None))\n",
            "(TensorSpec(shape=(None, 256, 256, 3), dtype=tf.float32, name=None), TensorSpec(shape=(None, 256, 256, 3), dtype=tf.float32, name=None))\n"
          ]
        }
      ],
      "source": [
        "trainX = load_data_from_dir(os.path.join(DATASET_PATH, TRAIN_DIR, INPUT_DIR))\n",
        "trainY = load_data_from_dir(os.path.join(DATASET_PATH, TRAIN_DIR, TARGET_DIR))\n",
        "testX = load_data_from_dir(os.path.join(DATASET_PATH, TEST_DIR, INPUT_DIR))\n",
        "testY = load_data_from_dir(os.path.join(DATASET_PATH, TEST_DIR, TARGET_DIR))\n",
        "\n",
        "train_ds = tf.data.Dataset.zip((trainX, trainY))\n",
        "test_ds = tf.data.Dataset.zip((testX, testY))\n",
        "\n",
        "print(train_ds.element_spec)\n",
        "print(test_ds.element_spec)"
      ]
    },
    {
      "cell_type": "markdown",
      "metadata": {
        "id": "syHL14qrh7ev"
      },
      "source": [
        "# Normalization"
      ]
    },
    {
      "cell_type": "code",
      "execution_count": 13,
      "metadata": {
        "id": "F3FQHVSih7ew"
      },
      "outputs": [],
      "source": [
        "normalization_layer = tf.keras.layers.Rescaling(1.0 / 255)\n",
        "train_ds = train_ds.map(lambda x, y: (\n",
        "    normalization_layer(x), normalization_layer(y)))\n",
        "test_ds = test_ds.map(lambda x, y: (\n",
        "    normalization_layer(x), normalization_layer(y)))"
      ]
    },
    {
      "cell_type": "markdown",
      "metadata": {
        "id": "_tz4Gni1h7ew"
      },
      "source": [
        "# Optimization"
      ]
    },
    {
      "cell_type": "code",
      "execution_count": 14,
      "metadata": {
        "id": "T0ftWoxzh7ew"
      },
      "outputs": [],
      "source": [
        "AUTOTUNE = tf.data.AUTOTUNE\n",
        "train_batches = train_ds.cache().shuffle(\n",
        "    BUFFER_SIZE).prefetch(buffer_size=AUTOTUNE)\n",
        "test_batches = test_ds.cache().prefetch(buffer_size=AUTOTUNE)"
      ]
    },
    {
      "cell_type": "markdown",
      "metadata": {
        "id": "VizdFzJFh7ew"
      },
      "source": [
        "# Training Config"
      ]
    },
    {
      "cell_type": "code",
      "execution_count": 15,
      "metadata": {
        "id": "KsEiuUyIh7ew"
      },
      "outputs": [],
      "source": [
        "model_path = os.path.join(MODEL_PATH, EXP_NAME)\n",
        "\n",
        "callbacks = [\n",
        "    tf.keras.callbacks.EarlyStopping(\n",
        "        monitor=\"val_loss\", patience=PATIENCE, restore_best_weights=True\n",
        "    ),\n",
        "    tf.keras.callbacks.ModelCheckpoint(\n",
        "        model_path,\n",
        "        monitor=\"val_loss\",\n",
        "        verbose=1,\n",
        "        save_best_only=True,\n",
        "        save_weights_only=True,\n",
        "    ),\n",
        "]\n",
        "\n",
        "optimizer = tf.keras.optimizers.Adam(learning_rate=LEARNING_RATE)\n",
        "\n",
        "# model = UNet(IMG_SIZE)()\n",
        "model = unet_model()\n",
        "\n",
        "model.compile(loss=attention_mse, optimizer=optimizer, metrics=[attention_mae])"
      ]
    },
    {
      "cell_type": "markdown",
      "metadata": {
        "id": "DJN5uRXih7ew"
      },
      "source": [
        "# Load Saved Weights"
      ]
    },
    {
      "cell_type": "code",
      "execution_count": 16,
      "metadata": {
        "id": "ncDyEeavh7ew"
      },
      "outputs": [],
      "source": [
        "# try:\n",
        "#     model.load_weights(model_path)\n",
        "# except:\n",
        "#     print(\"Checkpoint not found\")\n",
        "#     pass"
      ]
    },
    {
      "cell_type": "markdown",
      "metadata": {
        "id": "LNG5F76Dh7ew"
      },
      "source": [
        "# Training"
      ]
    },
    {
      "cell_type": "code",
      "execution_count": 17,
      "metadata": {
        "colab": {
          "base_uri": "https://localhost:8080/"
        },
        "id": "RmJMzj-Yh7ew",
        "outputId": "ce8bf924-a183-4f68-9ab2-d91e649d3e39"
      },
      "outputs": [
        {
          "name": "stdout",
          "output_type": "stream",
          "text": [
            "Epoch 1/300\n",
            "27/27 [==============================] - ETA: 0s - loss: 0.0214 - attention_mae: 0.0988\n",
            "Epoch 1: val_loss improved from inf to 0.07597, saving model to /content/drive/MyDrive/Research/TAVI/Models/Curvature_2_Pressure_MultiViewUNet_DO_0.5\n",
            "27/27 [==============================] - 57s 341ms/step - loss: 0.0214 - attention_mae: 0.0988 - val_loss: 0.0760 - val_attention_mae: 0.2166\n",
            "Epoch 2/300\n",
            "27/27 [==============================] - ETA: 0s - loss: 0.0112 - attention_mae: 0.0629\n",
            "Epoch 2: val_loss improved from 0.07597 to 0.05754, saving model to /content/drive/MyDrive/Research/TAVI/Models/Curvature_2_Pressure_MultiViewUNet_DO_0.5\n",
            "27/27 [==============================] - 8s 281ms/step - loss: 0.0112 - attention_mae: 0.0629 - val_loss: 0.0575 - val_attention_mae: 0.1833\n",
            "Epoch 3/300\n",
            "27/27 [==============================] - ETA: 0s - loss: 0.0101 - attention_mae: 0.0584\n",
            "Epoch 3: val_loss improved from 0.05754 to 0.03992, saving model to /content/drive/MyDrive/Research/TAVI/Models/Curvature_2_Pressure_MultiViewUNet_DO_0.5\n",
            "27/27 [==============================] - 7s 271ms/step - loss: 0.0101 - attention_mae: 0.0584 - val_loss: 0.0399 - val_attention_mae: 0.1513\n",
            "Epoch 4/300\n",
            "27/27 [==============================] - ETA: 0s - loss: 0.0096 - attention_mae: 0.0544\n",
            "Epoch 4: val_loss did not improve from 0.03992\n",
            "27/27 [==============================] - 7s 248ms/step - loss: 0.0096 - attention_mae: 0.0544 - val_loss: 0.0412 - val_attention_mae: 0.1495\n",
            "Epoch 5/300\n",
            "27/27 [==============================] - ETA: 0s - loss: 0.0092 - attention_mae: 0.0522\n",
            "Epoch 5: val_loss improved from 0.03992 to 0.03892, saving model to /content/drive/MyDrive/Research/TAVI/Models/Curvature_2_Pressure_MultiViewUNet_DO_0.5\n",
            "27/27 [==============================] - 8s 282ms/step - loss: 0.0092 - attention_mae: 0.0522 - val_loss: 0.0389 - val_attention_mae: 0.1415\n",
            "Epoch 6/300\n",
            "27/27 [==============================] - ETA: 0s - loss: 0.0091 - attention_mae: 0.0521\n",
            "Epoch 6: val_loss improved from 0.03892 to 0.03678, saving model to /content/drive/MyDrive/Research/TAVI/Models/Curvature_2_Pressure_MultiViewUNet_DO_0.5\n",
            "27/27 [==============================] - 8s 280ms/step - loss: 0.0091 - attention_mae: 0.0521 - val_loss: 0.0368 - val_attention_mae: 0.1349\n",
            "Epoch 7/300\n",
            "27/27 [==============================] - ETA: 0s - loss: 0.0088 - attention_mae: 0.0499\n",
            "Epoch 7: val_loss improved from 0.03678 to 0.02888, saving model to /content/drive/MyDrive/Research/TAVI/Models/Curvature_2_Pressure_MultiViewUNet_DO_0.5\n",
            "27/27 [==============================] - 8s 281ms/step - loss: 0.0088 - attention_mae: 0.0499 - val_loss: 0.0289 - val_attention_mae: 0.1173\n",
            "Epoch 8/300\n",
            "27/27 [==============================] - ETA: 0s - loss: 0.0086 - attention_mae: 0.0498\n",
            "Epoch 8: val_loss improved from 0.02888 to 0.02657, saving model to /content/drive/MyDrive/Research/TAVI/Models/Curvature_2_Pressure_MultiViewUNet_DO_0.5\n",
            "27/27 [==============================] - 8s 298ms/step - loss: 0.0086 - attention_mae: 0.0498 - val_loss: 0.0266 - val_attention_mae: 0.1104\n",
            "Epoch 9/300\n",
            "27/27 [==============================] - ETA: 0s - loss: 0.0083 - attention_mae: 0.0491\n",
            "Epoch 9: val_loss did not improve from 0.02657\n",
            "27/27 [==============================] - 7s 249ms/step - loss: 0.0083 - attention_mae: 0.0491 - val_loss: 0.0275 - val_attention_mae: 0.1118\n",
            "Epoch 10/300\n",
            "27/27 [==============================] - ETA: 0s - loss: 0.0078 - attention_mae: 0.0468\n",
            "Epoch 10: val_loss did not improve from 0.02657\n",
            "27/27 [==============================] - 7s 248ms/step - loss: 0.0078 - attention_mae: 0.0468 - val_loss: 0.0306 - val_attention_mae: 0.1208\n",
            "Epoch 11/300\n",
            "27/27 [==============================] - ETA: 0s - loss: 0.0075 - attention_mae: 0.0451\n",
            "Epoch 11: val_loss did not improve from 0.02657\n",
            "27/27 [==============================] - 7s 249ms/step - loss: 0.0075 - attention_mae: 0.0451 - val_loss: 0.0377 - val_attention_mae: 0.1350\n",
            "Epoch 12/300\n",
            "27/27 [==============================] - ETA: 0s - loss: 0.0075 - attention_mae: 0.0471\n",
            "Epoch 12: val_loss improved from 0.02657 to 0.01477, saving model to /content/drive/MyDrive/Research/TAVI/Models/Curvature_2_Pressure_MultiViewUNet_DO_0.5\n",
            "27/27 [==============================] - 7s 273ms/step - loss: 0.0075 - attention_mae: 0.0471 - val_loss: 0.0148 - val_attention_mae: 0.0754\n",
            "Epoch 13/300\n",
            "27/27 [==============================] - ETA: 0s - loss: 0.0074 - attention_mae: 0.0449\n",
            "Epoch 13: val_loss did not improve from 0.01477\n",
            "27/27 [==============================] - 7s 251ms/step - loss: 0.0074 - attention_mae: 0.0449 - val_loss: 0.0534 - val_attention_mae: 0.1634\n",
            "Epoch 14/300\n",
            "27/27 [==============================] - ETA: 0s - loss: 0.0071 - attention_mae: 0.0434\n",
            "Epoch 14: val_loss did not improve from 0.01477\n",
            "27/27 [==============================] - 7s 247ms/step - loss: 0.0071 - attention_mae: 0.0434 - val_loss: 0.0172 - val_attention_mae: 0.0806\n",
            "Epoch 15/300\n",
            "27/27 [==============================] - ETA: 0s - loss: 0.0071 - attention_mae: 0.0430\n",
            "Epoch 15: val_loss did not improve from 0.01477\n",
            "27/27 [==============================] - 7s 250ms/step - loss: 0.0071 - attention_mae: 0.0430 - val_loss: 0.0203 - val_attention_mae: 0.0907\n",
            "Epoch 16/300\n",
            "27/27 [==============================] - ETA: 0s - loss: 0.0069 - attention_mae: 0.0429\n",
            "Epoch 16: val_loss improved from 0.01477 to 0.00897, saving model to /content/drive/MyDrive/Research/TAVI/Models/Curvature_2_Pressure_MultiViewUNet_DO_0.5\n",
            "27/27 [==============================] - 8s 289ms/step - loss: 0.0069 - attention_mae: 0.0429 - val_loss: 0.0090 - val_attention_mae: 0.0511\n",
            "Epoch 17/300\n",
            "27/27 [==============================] - ETA: 0s - loss: 0.0067 - attention_mae: 0.0403\n",
            "Epoch 17: val_loss improved from 0.00897 to 0.00773, saving model to /content/drive/MyDrive/Research/TAVI/Models/Curvature_2_Pressure_MultiViewUNet_DO_0.5\n",
            "27/27 [==============================] - 7s 272ms/step - loss: 0.0067 - attention_mae: 0.0403 - val_loss: 0.0077 - val_attention_mae: 0.0472\n",
            "Epoch 18/300\n",
            "27/27 [==============================] - ETA: 0s - loss: 0.0065 - attention_mae: 0.0403\n",
            "Epoch 18: val_loss did not improve from 0.00773\n",
            "27/27 [==============================] - 7s 250ms/step - loss: 0.0065 - attention_mae: 0.0403 - val_loss: 0.0084 - val_attention_mae: 0.0512\n",
            "Epoch 19/300\n",
            "27/27 [==============================] - ETA: 0s - loss: 0.0065 - attention_mae: 0.0409\n",
            "Epoch 19: val_loss improved from 0.00773 to 0.00736, saving model to /content/drive/MyDrive/Research/TAVI/Models/Curvature_2_Pressure_MultiViewUNet_DO_0.5\n",
            "27/27 [==============================] - 7s 277ms/step - loss: 0.0065 - attention_mae: 0.0409 - val_loss: 0.0074 - val_attention_mae: 0.0428\n",
            "Epoch 20/300\n",
            "27/27 [==============================] - ETA: 0s - loss: 0.0064 - attention_mae: 0.0400\n",
            "Epoch 20: val_loss did not improve from 0.00736\n",
            "27/27 [==============================] - 7s 250ms/step - loss: 0.0064 - attention_mae: 0.0400 - val_loss: 0.0074 - val_attention_mae: 0.0495\n",
            "Epoch 21/300\n",
            "27/27 [==============================] - ETA: 0s - loss: 0.0064 - attention_mae: 0.0393\n",
            "Epoch 21: val_loss improved from 0.00736 to 0.00646, saving model to /content/drive/MyDrive/Research/TAVI/Models/Curvature_2_Pressure_MultiViewUNet_DO_0.5\n",
            "27/27 [==============================] - 8s 284ms/step - loss: 0.0064 - attention_mae: 0.0393 - val_loss: 0.0065 - val_attention_mae: 0.0365\n",
            "Epoch 22/300\n",
            "27/27 [==============================] - ETA: 0s - loss: 0.0062 - attention_mae: 0.0389\n",
            "Epoch 22: val_loss improved from 0.00646 to 0.00639, saving model to /content/drive/MyDrive/Research/TAVI/Models/Curvature_2_Pressure_MultiViewUNet_DO_0.5\n",
            "27/27 [==============================] - 8s 283ms/step - loss: 0.0062 - attention_mae: 0.0389 - val_loss: 0.0064 - val_attention_mae: 0.0403\n",
            "Epoch 23/300\n",
            "27/27 [==============================] - ETA: 0s - loss: 0.0062 - attention_mae: 0.0392\n",
            "Epoch 23: val_loss did not improve from 0.00639\n",
            "27/27 [==============================] - 7s 247ms/step - loss: 0.0062 - attention_mae: 0.0392 - val_loss: 0.0074 - val_attention_mae: 0.0414\n",
            "Epoch 24/300\n",
            "27/27 [==============================] - ETA: 0s - loss: 0.0061 - attention_mae: 0.0380\n",
            "Epoch 24: val_loss did not improve from 0.00639\n",
            "27/27 [==============================] - 7s 250ms/step - loss: 0.0061 - attention_mae: 0.0380 - val_loss: 0.0067 - val_attention_mae: 0.0439\n",
            "Epoch 25/300\n",
            "27/27 [==============================] - ETA: 0s - loss: 0.0060 - attention_mae: 0.0371\n",
            "Epoch 25: val_loss improved from 0.00639 to 0.00622, saving model to /content/drive/MyDrive/Research/TAVI/Models/Curvature_2_Pressure_MultiViewUNet_DO_0.5\n",
            "27/27 [==============================] - 8s 283ms/step - loss: 0.0060 - attention_mae: 0.0371 - val_loss: 0.0062 - val_attention_mae: 0.0383\n",
            "Epoch 26/300\n",
            "27/27 [==============================] - ETA: 0s - loss: 0.0060 - attention_mae: 0.0380\n",
            "Epoch 26: val_loss did not improve from 0.00622\n",
            "27/27 [==============================] - 7s 250ms/step - loss: 0.0060 - attention_mae: 0.0380 - val_loss: 0.0064 - val_attention_mae: 0.0348\n",
            "Epoch 27/300\n",
            "27/27 [==============================] - ETA: 0s - loss: 0.0060 - attention_mae: 0.0376\n",
            "Epoch 27: val_loss did not improve from 0.00622\n",
            "27/27 [==============================] - 7s 249ms/step - loss: 0.0060 - attention_mae: 0.0376 - val_loss: 0.0064 - val_attention_mae: 0.0369\n",
            "Epoch 28/300\n",
            "27/27 [==============================] - ETA: 0s - loss: 0.0060 - attention_mae: 0.0377\n",
            "Epoch 28: val_loss did not improve from 0.00622\n",
            "27/27 [==============================] - 7s 248ms/step - loss: 0.0060 - attention_mae: 0.0377 - val_loss: 0.0066 - val_attention_mae: 0.0374\n",
            "Epoch 29/300\n",
            "27/27 [==============================] - ETA: 0s - loss: 0.0058 - attention_mae: 0.0366\n",
            "Epoch 29: val_loss did not improve from 0.00622\n",
            "27/27 [==============================] - 7s 249ms/step - loss: 0.0058 - attention_mae: 0.0366 - val_loss: 0.0066 - val_attention_mae: 0.0338\n",
            "Epoch 30/300\n",
            "27/27 [==============================] - ETA: 0s - loss: 0.0058 - attention_mae: 0.0356\n",
            "Epoch 30: val_loss did not improve from 0.00622\n",
            "27/27 [==============================] - 7s 246ms/step - loss: 0.0058 - attention_mae: 0.0356 - val_loss: 0.0065 - val_attention_mae: 0.0371\n",
            "Epoch 31/300\n",
            "27/27 [==============================] - ETA: 0s - loss: 0.0060 - attention_mae: 0.0379\n",
            "Epoch 31: val_loss improved from 0.00622 to 0.00610, saving model to /content/drive/MyDrive/Research/TAVI/Models/Curvature_2_Pressure_MultiViewUNet_DO_0.5\n",
            "27/27 [==============================] - 8s 283ms/step - loss: 0.0060 - attention_mae: 0.0379 - val_loss: 0.0061 - val_attention_mae: 0.0350\n",
            "Epoch 32/300\n",
            "27/27 [==============================] - ETA: 0s - loss: 0.0057 - attention_mae: 0.0361\n",
            "Epoch 32: val_loss improved from 0.00610 to 0.00601, saving model to /content/drive/MyDrive/Research/TAVI/Models/Curvature_2_Pressure_MultiViewUNet_DO_0.5\n",
            "27/27 [==============================] - 7s 272ms/step - loss: 0.0057 - attention_mae: 0.0361 - val_loss: 0.0060 - val_attention_mae: 0.0384\n",
            "Epoch 33/300\n",
            "27/27 [==============================] - ETA: 0s - loss: 0.0055 - attention_mae: 0.0343\n",
            "Epoch 33: val_loss improved from 0.00601 to 0.00535, saving model to /content/drive/MyDrive/Research/TAVI/Models/Curvature_2_Pressure_MultiViewUNet_DO_0.5\n",
            "27/27 [==============================] - 8s 295ms/step - loss: 0.0055 - attention_mae: 0.0343 - val_loss: 0.0053 - val_attention_mae: 0.0313\n",
            "Epoch 34/300\n",
            "27/27 [==============================] - ETA: 0s - loss: 0.0055 - attention_mae: 0.0352\n",
            "Epoch 34: val_loss did not improve from 0.00535\n",
            "27/27 [==============================] - 7s 248ms/step - loss: 0.0055 - attention_mae: 0.0352 - val_loss: 0.0063 - val_attention_mae: 0.0324\n",
            "Epoch 35/300\n",
            "27/27 [==============================] - ETA: 0s - loss: 0.0054 - attention_mae: 0.0339\n",
            "Epoch 35: val_loss did not improve from 0.00535\n",
            "27/27 [==============================] - 7s 250ms/step - loss: 0.0054 - attention_mae: 0.0339 - val_loss: 0.0055 - val_attention_mae: 0.0304\n",
            "Epoch 36/300\n",
            "27/27 [==============================] - ETA: 0s - loss: 0.0053 - attention_mae: 0.0338\n",
            "Epoch 36: val_loss improved from 0.00535 to 0.00525, saving model to /content/drive/MyDrive/Research/TAVI/Models/Curvature_2_Pressure_MultiViewUNet_DO_0.5\n",
            "27/27 [==============================] - 7s 271ms/step - loss: 0.0053 - attention_mae: 0.0338 - val_loss: 0.0053 - val_attention_mae: 0.0317\n",
            "Epoch 37/300\n",
            "27/27 [==============================] - ETA: 0s - loss: 0.0053 - attention_mae: 0.0333\n",
            "Epoch 37: val_loss did not improve from 0.00525\n",
            "27/27 [==============================] - 7s 249ms/step - loss: 0.0053 - attention_mae: 0.0333 - val_loss: 0.0053 - val_attention_mae: 0.0321\n",
            "Epoch 38/300\n",
            "27/27 [==============================] - ETA: 0s - loss: 0.0052 - attention_mae: 0.0336\n",
            "Epoch 38: val_loss did not improve from 0.00525\n",
            "27/27 [==============================] - 7s 247ms/step - loss: 0.0052 - attention_mae: 0.0336 - val_loss: 0.0053 - val_attention_mae: 0.0286\n",
            "Epoch 39/300\n",
            "27/27 [==============================] - ETA: 0s - loss: 0.0052 - attention_mae: 0.0329\n",
            "Epoch 39: val_loss did not improve from 0.00525\n",
            "27/27 [==============================] - 7s 247ms/step - loss: 0.0052 - attention_mae: 0.0329 - val_loss: 0.0053 - val_attention_mae: 0.0316\n",
            "Epoch 40/300\n",
            "27/27 [==============================] - ETA: 0s - loss: 0.0053 - attention_mae: 0.0335\n",
            "Epoch 40: val_loss did not improve from 0.00525\n",
            "27/27 [==============================] - 7s 249ms/step - loss: 0.0053 - attention_mae: 0.0335 - val_loss: 0.0081 - val_attention_mae: 0.0504\n",
            "Epoch 41/300\n",
            "27/27 [==============================] - ETA: 0s - loss: 0.0052 - attention_mae: 0.0329\n",
            "Epoch 41: val_loss improved from 0.00525 to 0.00517, saving model to /content/drive/MyDrive/Research/TAVI/Models/Curvature_2_Pressure_MultiViewUNet_DO_0.5\n",
            "27/27 [==============================] - 8s 283ms/step - loss: 0.0052 - attention_mae: 0.0329 - val_loss: 0.0052 - val_attention_mae: 0.0293\n",
            "Epoch 42/300\n",
            "27/27 [==============================] - ETA: 0s - loss: 0.0051 - attention_mae: 0.0325\n",
            "Epoch 42: val_loss did not improve from 0.00517\n",
            "27/27 [==============================] - 7s 251ms/step - loss: 0.0051 - attention_mae: 0.0325 - val_loss: 0.0054 - val_attention_mae: 0.0298\n",
            "Epoch 43/300\n",
            "27/27 [==============================] - ETA: 0s - loss: 0.0050 - attention_mae: 0.0319\n",
            "Epoch 43: val_loss did not improve from 0.00517\n",
            "27/27 [==============================] - 7s 246ms/step - loss: 0.0050 - attention_mae: 0.0319 - val_loss: 0.0056 - val_attention_mae: 0.0339\n",
            "Epoch 44/300\n",
            "27/27 [==============================] - ETA: 0s - loss: 0.0050 - attention_mae: 0.0323\n",
            "Epoch 44: val_loss improved from 0.00517 to 0.00504, saving model to /content/drive/MyDrive/Research/TAVI/Models/Curvature_2_Pressure_MultiViewUNet_DO_0.5\n",
            "27/27 [==============================] - 8s 281ms/step - loss: 0.0050 - attention_mae: 0.0323 - val_loss: 0.0050 - val_attention_mae: 0.0311\n",
            "Epoch 45/300\n",
            "27/27 [==============================] - ETA: 0s - loss: 0.0050 - attention_mae: 0.0321\n",
            "Epoch 45: val_loss did not improve from 0.00504\n",
            "27/27 [==============================] - 7s 247ms/step - loss: 0.0050 - attention_mae: 0.0321 - val_loss: 0.0051 - val_attention_mae: 0.0305\n",
            "Epoch 46/300\n",
            "27/27 [==============================] - ETA: 0s - loss: 0.0049 - attention_mae: 0.0317\n",
            "Epoch 46: val_loss did not improve from 0.00504\n",
            "27/27 [==============================] - 7s 251ms/step - loss: 0.0049 - attention_mae: 0.0317 - val_loss: 0.0073 - val_attention_mae: 0.0463\n",
            "Epoch 47/300\n",
            "27/27 [==============================] - ETA: 0s - loss: 0.0049 - attention_mae: 0.0317\n",
            "Epoch 47: val_loss did not improve from 0.00504\n",
            "27/27 [==============================] - 7s 247ms/step - loss: 0.0049 - attention_mae: 0.0317 - val_loss: 0.0052 - val_attention_mae: 0.0314\n",
            "Epoch 48/300\n",
            "27/27 [==============================] - ETA: 0s - loss: 0.0048 - attention_mae: 0.0306\n",
            "Epoch 48: val_loss did not improve from 0.00504\n",
            "27/27 [==============================] - 7s 250ms/step - loss: 0.0048 - attention_mae: 0.0306 - val_loss: 0.0075 - val_attention_mae: 0.0464\n",
            "Epoch 49/300\n",
            "27/27 [==============================] - ETA: 0s - loss: 0.0047 - attention_mae: 0.0306\n",
            "Epoch 49: val_loss did not improve from 0.00504\n",
            "27/27 [==============================] - 7s 248ms/step - loss: 0.0047 - attention_mae: 0.0306 - val_loss: 0.0051 - val_attention_mae: 0.0275\n",
            "Epoch 50/300\n",
            "27/27 [==============================] - ETA: 0s - loss: 0.0047 - attention_mae: 0.0302\n",
            "Epoch 50: val_loss improved from 0.00504 to 0.00498, saving model to /content/drive/MyDrive/Research/TAVI/Models/Curvature_2_Pressure_MultiViewUNet_DO_0.5\n",
            "27/27 [==============================] - 7s 279ms/step - loss: 0.0047 - attention_mae: 0.0302 - val_loss: 0.0050 - val_attention_mae: 0.0283\n",
            "Epoch 51/300\n",
            "27/27 [==============================] - ETA: 0s - loss: 0.0049 - attention_mae: 0.0313\n",
            "Epoch 51: val_loss did not improve from 0.00498\n",
            "27/27 [==============================] - 7s 250ms/step - loss: 0.0049 - attention_mae: 0.0313 - val_loss: 0.0057 - val_attention_mae: 0.0332\n",
            "Epoch 52/300\n",
            "27/27 [==============================] - ETA: 0s - loss: 0.0048 - attention_mae: 0.0310\n",
            "Epoch 52: val_loss did not improve from 0.00498\n",
            "27/27 [==============================] - 7s 248ms/step - loss: 0.0048 - attention_mae: 0.0310 - val_loss: 0.0053 - val_attention_mae: 0.0297\n",
            "Epoch 53/300\n",
            "27/27 [==============================] - ETA: 0s - loss: 0.0048 - attention_mae: 0.0304\n",
            "Epoch 53: val_loss improved from 0.00498 to 0.00497, saving model to /content/drive/MyDrive/Research/TAVI/Models/Curvature_2_Pressure_MultiViewUNet_DO_0.5\n",
            "27/27 [==============================] - 8s 294ms/step - loss: 0.0048 - attention_mae: 0.0304 - val_loss: 0.0050 - val_attention_mae: 0.0290\n",
            "Epoch 54/300\n",
            "27/27 [==============================] - ETA: 0s - loss: 0.0047 - attention_mae: 0.0300\n",
            "Epoch 54: val_loss improved from 0.00497 to 0.00492, saving model to /content/drive/MyDrive/Research/TAVI/Models/Curvature_2_Pressure_MultiViewUNet_DO_0.5\n",
            "27/27 [==============================] - 7s 270ms/step - loss: 0.0047 - attention_mae: 0.0300 - val_loss: 0.0049 - val_attention_mae: 0.0289\n",
            "Epoch 55/300\n",
            "27/27 [==============================] - ETA: 0s - loss: 0.0046 - attention_mae: 0.0299\n",
            "Epoch 55: val_loss did not improve from 0.00492\n",
            "27/27 [==============================] - 7s 250ms/step - loss: 0.0046 - attention_mae: 0.0299 - val_loss: 0.0061 - val_attention_mae: 0.0361\n",
            "Epoch 56/300\n",
            "27/27 [==============================] - ETA: 0s - loss: 0.0046 - attention_mae: 0.0296\n",
            "Epoch 56: val_loss did not improve from 0.00492\n",
            "27/27 [==============================] - 7s 247ms/step - loss: 0.0046 - attention_mae: 0.0296 - val_loss: 0.0050 - val_attention_mae: 0.0274\n",
            "Epoch 57/300\n",
            "27/27 [==============================] - ETA: 0s - loss: 0.0045 - attention_mae: 0.0291\n",
            "Epoch 57: val_loss did not improve from 0.00492\n",
            "27/27 [==============================] - 7s 251ms/step - loss: 0.0045 - attention_mae: 0.0291 - val_loss: 0.0051 - val_attention_mae: 0.0264\n",
            "Epoch 58/300\n",
            "27/27 [==============================] - ETA: 0s - loss: 0.0045 - attention_mae: 0.0294\n",
            "Epoch 58: val_loss improved from 0.00492 to 0.00490, saving model to /content/drive/MyDrive/Research/TAVI/Models/Curvature_2_Pressure_MultiViewUNet_DO_0.5\n",
            "27/27 [==============================] - 8s 282ms/step - loss: 0.0045 - attention_mae: 0.0294 - val_loss: 0.0049 - val_attention_mae: 0.0272\n",
            "Epoch 59/300\n",
            "27/27 [==============================] - ETA: 0s - loss: 0.0046 - attention_mae: 0.0296\n",
            "Epoch 59: val_loss improved from 0.00490 to 0.00489, saving model to /content/drive/MyDrive/Research/TAVI/Models/Curvature_2_Pressure_MultiViewUNet_DO_0.5\n",
            "27/27 [==============================] - 7s 275ms/step - loss: 0.0046 - attention_mae: 0.0296 - val_loss: 0.0049 - val_attention_mae: 0.0277\n",
            "Epoch 60/300\n",
            "27/27 [==============================] - ETA: 0s - loss: 0.0046 - attention_mae: 0.0295\n",
            "Epoch 60: val_loss did not improve from 0.00489\n",
            "27/27 [==============================] - 7s 248ms/step - loss: 0.0046 - attention_mae: 0.0295 - val_loss: 0.0059 - val_attention_mae: 0.0317\n",
            "Epoch 61/300\n",
            "27/27 [==============================] - ETA: 0s - loss: 0.0044 - attention_mae: 0.0286\n",
            "Epoch 61: val_loss did not improve from 0.00489\n",
            "27/27 [==============================] - 7s 252ms/step - loss: 0.0044 - attention_mae: 0.0286 - val_loss: 0.0052 - val_attention_mae: 0.0291\n",
            "Epoch 62/300\n",
            "27/27 [==============================] - ETA: 0s - loss: 0.0044 - attention_mae: 0.0285\n",
            "Epoch 62: val_loss did not improve from 0.00489\n",
            "27/27 [==============================] - 7s 247ms/step - loss: 0.0044 - attention_mae: 0.0285 - val_loss: 0.0049 - val_attention_mae: 0.0264\n",
            "Epoch 63/300\n",
            "27/27 [==============================] - ETA: 0s - loss: 0.0044 - attention_mae: 0.0283\n",
            "Epoch 63: val_loss did not improve from 0.00489\n",
            "27/27 [==============================] - 7s 252ms/step - loss: 0.0044 - attention_mae: 0.0283 - val_loss: 0.0050 - val_attention_mae: 0.0266\n",
            "Epoch 64/300\n",
            "27/27 [==============================] - ETA: 0s - loss: 0.0045 - attention_mae: 0.0295\n",
            "Epoch 64: val_loss did not improve from 0.00489\n",
            "27/27 [==============================] - 7s 247ms/step - loss: 0.0045 - attention_mae: 0.0295 - val_loss: 0.0067 - val_attention_mae: 0.0295\n",
            "Epoch 65/300\n",
            "27/27 [==============================] - ETA: 0s - loss: 0.0045 - attention_mae: 0.0295\n",
            "Epoch 65: val_loss improved from 0.00489 to 0.00482, saving model to /content/drive/MyDrive/Research/TAVI/Models/Curvature_2_Pressure_MultiViewUNet_DO_0.5\n",
            "27/27 [==============================] - 8s 281ms/step - loss: 0.0045 - attention_mae: 0.0295 - val_loss: 0.0048 - val_attention_mae: 0.0257\n",
            "Epoch 66/300\n",
            "27/27 [==============================] - ETA: 0s - loss: 0.0043 - attention_mae: 0.0281\n",
            "Epoch 66: val_loss did not improve from 0.00482\n",
            "27/27 [==============================] - 7s 248ms/step - loss: 0.0043 - attention_mae: 0.0281 - val_loss: 0.0050 - val_attention_mae: 0.0265\n",
            "Epoch 67/300\n",
            "27/27 [==============================] - ETA: 0s - loss: 0.0043 - attention_mae: 0.0276\n",
            "Epoch 67: val_loss improved from 0.00482 to 0.00476, saving model to /content/drive/MyDrive/Research/TAVI/Models/Curvature_2_Pressure_MultiViewUNet_DO_0.5\n",
            "27/27 [==============================] - 8s 304ms/step - loss: 0.0043 - attention_mae: 0.0276 - val_loss: 0.0048 - val_attention_mae: 0.0262\n",
            "Epoch 68/300\n",
            "27/27 [==============================] - ETA: 0s - loss: 0.0042 - attention_mae: 0.0276\n",
            "Epoch 68: val_loss did not improve from 0.00476\n",
            "27/27 [==============================] - 7s 248ms/step - loss: 0.0042 - attention_mae: 0.0276 - val_loss: 0.0048 - val_attention_mae: 0.0263\n",
            "Epoch 69/300\n",
            "27/27 [==============================] - ETA: 0s - loss: 0.0042 - attention_mae: 0.0275\n",
            "Epoch 69: val_loss improved from 0.00476 to 0.00473, saving model to /content/drive/MyDrive/Research/TAVI/Models/Curvature_2_Pressure_MultiViewUNet_DO_0.5\n",
            "27/27 [==============================] - 8s 281ms/step - loss: 0.0042 - attention_mae: 0.0275 - val_loss: 0.0047 - val_attention_mae: 0.0262\n",
            "Epoch 70/300\n",
            "27/27 [==============================] - ETA: 0s - loss: 0.0043 - attention_mae: 0.0282\n",
            "Epoch 70: val_loss did not improve from 0.00473\n",
            "27/27 [==============================] - 7s 249ms/step - loss: 0.0043 - attention_mae: 0.0282 - val_loss: 0.0049 - val_attention_mae: 0.0284\n",
            "Epoch 71/300\n",
            "27/27 [==============================] - ETA: 0s - loss: 0.0042 - attention_mae: 0.0272\n",
            "Epoch 71: val_loss improved from 0.00473 to 0.00469, saving model to /content/drive/MyDrive/Research/TAVI/Models/Curvature_2_Pressure_MultiViewUNet_DO_0.5\n",
            "27/27 [==============================] - 8s 296ms/step - loss: 0.0042 - attention_mae: 0.0272 - val_loss: 0.0047 - val_attention_mae: 0.0251\n",
            "Epoch 72/300\n",
            "27/27 [==============================] - ETA: 0s - loss: 0.0041 - attention_mae: 0.0268\n",
            "Epoch 72: val_loss did not improve from 0.00469\n",
            "27/27 [==============================] - 7s 248ms/step - loss: 0.0041 - attention_mae: 0.0268 - val_loss: 0.0048 - val_attention_mae: 0.0267\n",
            "Epoch 73/300\n",
            "27/27 [==============================] - ETA: 0s - loss: 0.0041 - attention_mae: 0.0268\n",
            "Epoch 73: val_loss did not improve from 0.00469\n",
            "27/27 [==============================] - 7s 250ms/step - loss: 0.0041 - attention_mae: 0.0268 - val_loss: 0.0047 - val_attention_mae: 0.0256\n",
            "Epoch 74/300\n",
            "27/27 [==============================] - ETA: 0s - loss: 0.0041 - attention_mae: 0.0267\n",
            "Epoch 74: val_loss improved from 0.00469 to 0.00467, saving model to /content/drive/MyDrive/Research/TAVI/Models/Curvature_2_Pressure_MultiViewUNet_DO_0.5\n",
            "27/27 [==============================] - 7s 275ms/step - loss: 0.0041 - attention_mae: 0.0267 - val_loss: 0.0047 - val_attention_mae: 0.0268\n",
            "Epoch 75/300\n",
            "27/27 [==============================] - ETA: 0s - loss: 0.0040 - attention_mae: 0.0263\n",
            "Epoch 75: val_loss did not improve from 0.00467\n",
            "27/27 [==============================] - 7s 249ms/step - loss: 0.0040 - attention_mae: 0.0263 - val_loss: 0.0049 - val_attention_mae: 0.0260\n",
            "Epoch 76/300\n",
            "27/27 [==============================] - ETA: 0s - loss: 0.0041 - attention_mae: 0.0265\n",
            "Epoch 76: val_loss did not improve from 0.00467\n",
            "27/27 [==============================] - 7s 247ms/step - loss: 0.0041 - attention_mae: 0.0265 - val_loss: 0.0048 - val_attention_mae: 0.0284\n",
            "Epoch 77/300\n",
            "27/27 [==============================] - ETA: 0s - loss: 0.0041 - attention_mae: 0.0269\n",
            "Epoch 77: val_loss did not improve from 0.00467\n",
            "27/27 [==============================] - 7s 250ms/step - loss: 0.0041 - attention_mae: 0.0269 - val_loss: 0.0050 - val_attention_mae: 0.0294\n",
            "Epoch 78/300\n",
            "27/27 [==============================] - ETA: 0s - loss: 0.0041 - attention_mae: 0.0268\n",
            "Epoch 78: val_loss did not improve from 0.00467\n",
            "27/27 [==============================] - 7s 247ms/step - loss: 0.0041 - attention_mae: 0.0268 - val_loss: 0.0052 - val_attention_mae: 0.0250\n",
            "Epoch 79/300\n",
            "27/27 [==============================] - ETA: 0s - loss: 0.0041 - attention_mae: 0.0274\n",
            "Epoch 79: val_loss did not improve from 0.00467\n",
            "27/27 [==============================] - 7s 251ms/step - loss: 0.0041 - attention_mae: 0.0274 - val_loss: 0.0051 - val_attention_mae: 0.0284\n",
            "Epoch 80/300\n",
            "27/27 [==============================] - ETA: 0s - loss: 0.0040 - attention_mae: 0.0262\n",
            "Epoch 80: val_loss did not improve from 0.00467\n",
            "27/27 [==============================] - 7s 247ms/step - loss: 0.0040 - attention_mae: 0.0262 - val_loss: 0.0048 - val_attention_mae: 0.0251\n",
            "Epoch 81/300\n",
            "27/27 [==============================] - ETA: 0s - loss: 0.0039 - attention_mae: 0.0260\n",
            "Epoch 81: val_loss did not improve from 0.00467\n",
            "27/27 [==============================] - 7s 249ms/step - loss: 0.0039 - attention_mae: 0.0260 - val_loss: 0.0048 - val_attention_mae: 0.0242\n",
            "Epoch 82/300\n",
            "27/27 [==============================] - ETA: 0s - loss: 0.0040 - attention_mae: 0.0263\n",
            "Epoch 82: val_loss did not improve from 0.00467\n",
            "27/27 [==============================] - 7s 248ms/step - loss: 0.0040 - attention_mae: 0.0263 - val_loss: 0.0060 - val_attention_mae: 0.0324\n",
            "Epoch 83/300\n",
            "27/27 [==============================] - ETA: 0s - loss: 0.0039 - attention_mae: 0.0264\n",
            "Epoch 83: val_loss improved from 0.00467 to 0.00463, saving model to /content/drive/MyDrive/Research/TAVI/Models/Curvature_2_Pressure_MultiViewUNet_DO_0.5\n",
            "27/27 [==============================] - 7s 275ms/step - loss: 0.0039 - attention_mae: 0.0264 - val_loss: 0.0046 - val_attention_mae: 0.0249\n",
            "Epoch 84/300\n",
            "27/27 [==============================] - ETA: 0s - loss: 0.0039 - attention_mae: 0.0261\n",
            "Epoch 84: val_loss did not improve from 0.00463\n",
            "27/27 [==============================] - 7s 248ms/step - loss: 0.0039 - attention_mae: 0.0261 - val_loss: 0.0049 - val_attention_mae: 0.0248\n",
            "Epoch 85/300\n",
            "27/27 [==============================] - ETA: 0s - loss: 0.0038 - attention_mae: 0.0254\n",
            "Epoch 85: val_loss did not improve from 0.00463\n",
            "27/27 [==============================] - 7s 252ms/step - loss: 0.0038 - attention_mae: 0.0254 - val_loss: 0.0050 - val_attention_mae: 0.0259\n",
            "Epoch 86/300\n",
            "27/27 [==============================] - ETA: 0s - loss: 0.0038 - attention_mae: 0.0253\n",
            "Epoch 86: val_loss did not improve from 0.00463\n",
            "27/27 [==============================] - 7s 248ms/step - loss: 0.0038 - attention_mae: 0.0253 - val_loss: 0.0047 - val_attention_mae: 0.0250\n",
            "Epoch 87/300\n",
            "27/27 [==============================] - ETA: 0s - loss: 0.0038 - attention_mae: 0.0252\n",
            "Epoch 87: val_loss did not improve from 0.00463\n",
            "27/27 [==============================] - 7s 250ms/step - loss: 0.0038 - attention_mae: 0.0252 - val_loss: 0.0047 - val_attention_mae: 0.0251\n",
            "Epoch 88/300\n",
            "27/27 [==============================] - ETA: 0s - loss: 0.0038 - attention_mae: 0.0250\n",
            "Epoch 88: val_loss did not improve from 0.00463\n",
            "27/27 [==============================] - 7s 248ms/step - loss: 0.0038 - attention_mae: 0.0250 - val_loss: 0.0048 - val_attention_mae: 0.0240\n",
            "Epoch 89/300\n",
            "27/27 [==============================] - ETA: 0s - loss: 0.0037 - attention_mae: 0.0248\n",
            "Epoch 89: val_loss did not improve from 0.00463\n",
            "27/27 [==============================] - 7s 251ms/step - loss: 0.0037 - attention_mae: 0.0248 - val_loss: 0.0047 - val_attention_mae: 0.0251\n",
            "Epoch 90/300\n",
            "27/27 [==============================] - ETA: 0s - loss: 0.0037 - attention_mae: 0.0248\n",
            "Epoch 90: val_loss did not improve from 0.00463\n",
            "27/27 [==============================] - 7s 247ms/step - loss: 0.0037 - attention_mae: 0.0248 - val_loss: 0.0049 - val_attention_mae: 0.0262\n",
            "Epoch 91/300\n",
            "27/27 [==============================] - ETA: 0s - loss: 0.0038 - attention_mae: 0.0253\n",
            "Epoch 91: val_loss did not improve from 0.00463\n",
            "27/27 [==============================] - 7s 248ms/step - loss: 0.0038 - attention_mae: 0.0253 - val_loss: 0.0049 - val_attention_mae: 0.0260\n",
            "Epoch 92/300\n",
            "27/27 [==============================] - ETA: 0s - loss: 0.0037 - attention_mae: 0.0247\n",
            "Epoch 92: val_loss did not improve from 0.00463\n",
            "27/27 [==============================] - 7s 250ms/step - loss: 0.0037 - attention_mae: 0.0247 - val_loss: 0.0051 - val_attention_mae: 0.0278\n",
            "Epoch 93/300\n",
            "27/27 [==============================] - ETA: 0s - loss: 0.0037 - attention_mae: 0.0250\n",
            "Epoch 93: val_loss did not improve from 0.00463\n",
            "27/27 [==============================] - 7s 250ms/step - loss: 0.0037 - attention_mae: 0.0250 - val_loss: 0.0049 - val_attention_mae: 0.0256\n",
            "Epoch 94/300\n",
            "27/27 [==============================] - ETA: 0s - loss: 0.0037 - attention_mae: 0.0250\n",
            "Epoch 94: val_loss did not improve from 0.00463\n",
            "27/27 [==============================] - 7s 247ms/step - loss: 0.0037 - attention_mae: 0.0250 - val_loss: 0.0050 - val_attention_mae: 0.0240\n",
            "Epoch 95/300\n",
            "27/27 [==============================] - ETA: 0s - loss: 0.0037 - attention_mae: 0.0249\n",
            "Epoch 95: val_loss did not improve from 0.00463\n",
            "27/27 [==============================] - 7s 252ms/step - loss: 0.0037 - attention_mae: 0.0249 - val_loss: 0.0049 - val_attention_mae: 0.0248\n",
            "Epoch 96/300\n",
            "27/27 [==============================] - ETA: 0s - loss: 0.0037 - attention_mae: 0.0247\n",
            "Epoch 96: val_loss did not improve from 0.00463\n",
            "27/27 [==============================] - 7s 247ms/step - loss: 0.0037 - attention_mae: 0.0247 - val_loss: 0.0050 - val_attention_mae: 0.0272\n",
            "Epoch 97/300\n",
            "27/27 [==============================] - ETA: 0s - loss: 0.0036 - attention_mae: 0.0243\n",
            "Epoch 97: val_loss did not improve from 0.00463\n",
            "27/27 [==============================] - 7s 251ms/step - loss: 0.0036 - attention_mae: 0.0243 - val_loss: 0.0049 - val_attention_mae: 0.0268\n",
            "Epoch 98/300\n",
            "27/27 [==============================] - ETA: 0s - loss: 0.0036 - attention_mae: 0.0245\n",
            "Epoch 98: val_loss did not improve from 0.00463\n",
            "27/27 [==============================] - 7s 248ms/step - loss: 0.0036 - attention_mae: 0.0245 - val_loss: 0.0047 - val_attention_mae: 0.0238\n",
            "Epoch 99/300\n",
            "27/27 [==============================] - ETA: 0s - loss: 0.0037 - attention_mae: 0.0254\n",
            "Epoch 99: val_loss did not improve from 0.00463\n",
            "27/27 [==============================] - 7s 251ms/step - loss: 0.0037 - attention_mae: 0.0254 - val_loss: 0.0049 - val_attention_mae: 0.0250\n",
            "Epoch 100/300\n",
            "27/27 [==============================] - ETA: 0s - loss: 0.0035 - attention_mae: 0.0240\n",
            "Epoch 100: val_loss did not improve from 0.00463\n",
            "27/27 [==============================] - 7s 249ms/step - loss: 0.0035 - attention_mae: 0.0240 - val_loss: 0.0047 - val_attention_mae: 0.0242\n",
            "Epoch 101/300\n",
            "27/27 [==============================] - ETA: 0s - loss: 0.0035 - attention_mae: 0.0237\n",
            "Epoch 101: val_loss did not improve from 0.00463\n",
            "27/27 [==============================] - 7s 248ms/step - loss: 0.0035 - attention_mae: 0.0237 - val_loss: 0.0047 - val_attention_mae: 0.0236\n",
            "Epoch 102/300\n",
            "27/27 [==============================] - ETA: 0s - loss: 0.0035 - attention_mae: 0.0234\n",
            "Epoch 102: val_loss did not improve from 0.00463\n",
            "27/27 [==============================] - 7s 247ms/step - loss: 0.0035 - attention_mae: 0.0234 - val_loss: 0.0051 - val_attention_mae: 0.0273\n",
            "Epoch 103/300\n",
            "27/27 [==============================] - ETA: 0s - loss: 0.0034 - attention_mae: 0.0234\n",
            "Epoch 103: val_loss did not improve from 0.00463\n",
            "27/27 [==============================] - 7s 250ms/step - loss: 0.0034 - attention_mae: 0.0234 - val_loss: 0.0049 - val_attention_mae: 0.0238\n",
            "Epoch 104/300\n",
            "27/27 [==============================] - ETA: 0s - loss: 0.0035 - attention_mae: 0.0238\n",
            "Epoch 104: val_loss did not improve from 0.00463\n",
            "27/27 [==============================] - 7s 248ms/step - loss: 0.0035 - attention_mae: 0.0238 - val_loss: 0.0049 - val_attention_mae: 0.0250\n",
            "Epoch 105/300\n",
            "27/27 [==============================] - ETA: 0s - loss: 0.0034 - attention_mae: 0.0235\n",
            "Epoch 105: val_loss did not improve from 0.00463\n",
            "27/27 [==============================] - 7s 251ms/step - loss: 0.0034 - attention_mae: 0.0235 - val_loss: 0.0047 - val_attention_mae: 0.0240\n",
            "Epoch 106/300\n",
            "27/27 [==============================] - ETA: 0s - loss: 0.0034 - attention_mae: 0.0234\n",
            "Epoch 106: val_loss did not improve from 0.00463\n",
            "27/27 [==============================] - 7s 248ms/step - loss: 0.0034 - attention_mae: 0.0234 - val_loss: 0.0047 - val_attention_mae: 0.0241\n",
            "Epoch 107/300\n",
            "27/27 [==============================] - ETA: 0s - loss: 0.0034 - attention_mae: 0.0234\n",
            "Epoch 107: val_loss did not improve from 0.00463\n",
            "27/27 [==============================] - 7s 250ms/step - loss: 0.0034 - attention_mae: 0.0234 - val_loss: 0.0048 - val_attention_mae: 0.0249\n",
            "Epoch 108/300\n",
            "27/27 [==============================] - ETA: 0s - loss: 0.0034 - attention_mae: 0.0235\n",
            "Epoch 108: val_loss did not improve from 0.00463\n",
            "27/27 [==============================] - 7s 249ms/step - loss: 0.0034 - attention_mae: 0.0235 - val_loss: 0.0049 - val_attention_mae: 0.0255\n",
            "Epoch 109/300\n",
            "27/27 [==============================] - ETA: 0s - loss: 0.0033 - attention_mae: 0.0227\n",
            "Epoch 109: val_loss did not improve from 0.00463\n",
            "27/27 [==============================] - 7s 247ms/step - loss: 0.0033 - attention_mae: 0.0227 - val_loss: 0.0047 - val_attention_mae: 0.0237\n",
            "Epoch 110/300\n",
            "27/27 [==============================] - ETA: 0s - loss: 0.0033 - attention_mae: 0.0224\n",
            "Epoch 110: val_loss did not improve from 0.00463\n",
            "27/27 [==============================] - 7s 251ms/step - loss: 0.0033 - attention_mae: 0.0224 - val_loss: 0.0047 - val_attention_mae: 0.0228\n",
            "Epoch 111/300\n",
            "27/27 [==============================] - ETA: 0s - loss: 0.0033 - attention_mae: 0.0224\n",
            "Epoch 111: val_loss did not improve from 0.00463\n",
            "27/27 [==============================] - 7s 248ms/step - loss: 0.0033 - attention_mae: 0.0224 - val_loss: 0.0048 - val_attention_mae: 0.0227\n",
            "Epoch 112/300\n",
            "27/27 [==============================] - ETA: 0s - loss: 0.0032 - attention_mae: 0.0224\n",
            "Epoch 112: val_loss did not improve from 0.00463\n",
            "27/27 [==============================] - 7s 251ms/step - loss: 0.0032 - attention_mae: 0.0224 - val_loss: 0.0048 - val_attention_mae: 0.0248\n",
            "Epoch 113/300\n",
            "27/27 [==============================] - ETA: 0s - loss: 0.0033 - attention_mae: 0.0228\n",
            "Epoch 113: val_loss did not improve from 0.00463\n",
            "27/27 [==============================] - 7s 251ms/step - loss: 0.0033 - attention_mae: 0.0228 - val_loss: 0.0053 - val_attention_mae: 0.0244\n"
          ]
        }
      ],
      "source": [
        "history = model.fit(\n",
        "    train_batches,\n",
        "    validation_data=test_batches,\n",
        "    epochs=N_EPOCHS,\n",
        "    batch_size=BATCH_SIZE,\n",
        "    callbacks=callbacks,\n",
        "    verbose=1,\n",
        ")"
      ]
    },
    {
      "cell_type": "markdown",
      "metadata": {
        "id": "MYJgw9qhh7ew"
      },
      "source": [
        "# Save Model"
      ]
    },
    {
      "cell_type": "code",
      "execution_count": 18,
      "metadata": {
        "id": "bux6go2yh7ew"
      },
      "outputs": [],
      "source": [
        "timestamp = datetime.datetime.now().strftime(\"%b-%d-%I:%M%p\")\n",
        "if not os.path.exists(model_path):\n",
        "    os.makedirs(model_path)\n",
        "\n",
        "model.save(os.path.join(model_path, timestamp))"
      ]
    },
    {
      "cell_type": "markdown",
      "metadata": {
        "id": "QMFZgyu9h7ex"
      },
      "source": [
        "# Save Predictions"
      ]
    },
    {
      "cell_type": "code",
      "execution_count": 19,
      "metadata": {
        "colab": {
          "base_uri": "https://localhost:8080/"
        },
        "id": "FnsfVhkDh7ex",
        "outputId": "1659309a-a211-4e63-f634-d72270c8a461"
      },
      "outputs": [
        {
          "name": "stderr",
          "output_type": "stream",
          "text": [
            "\r0it [00:00, ?it/s]"
          ]
        },
        {
          "name": "stdout",
          "output_type": "stream",
          "text": [
            "1/1 [==============================] - 2s 2s/step\n"
          ]
        },
        {
          "name": "stderr",
          "output_type": "stream",
          "text": [
            "\r1it [00:01,  1.88s/it]"
          ]
        },
        {
          "name": "stdout",
          "output_type": "stream",
          "text": [
            "1/1 [==============================] - 0s 55ms/step\n"
          ]
        },
        {
          "name": "stderr",
          "output_type": "stream",
          "text": [
            "\r2it [00:02,  1.12it/s]"
          ]
        },
        {
          "name": "stdout",
          "output_type": "stream",
          "text": [
            "1/1 [==============================] - 0s 64ms/step\n"
          ]
        },
        {
          "name": "stderr",
          "output_type": "stream",
          "text": [
            "\r3it [00:02,  1.74it/s]"
          ]
        },
        {
          "name": "stdout",
          "output_type": "stream",
          "text": [
            "1/1 [==============================] - 0s 34ms/step\n"
          ]
        },
        {
          "name": "stderr",
          "output_type": "stream",
          "text": [
            "\r4it [00:02,  2.33it/s]"
          ]
        },
        {
          "name": "stdout",
          "output_type": "stream",
          "text": [
            "1/1 [==============================] - 0s 72ms/step\n"
          ]
        },
        {
          "name": "stderr",
          "output_type": "stream",
          "text": [
            "\r5it [00:02,  2.64it/s]"
          ]
        },
        {
          "name": "stdout",
          "output_type": "stream",
          "text": [
            "1/1 [==============================] - 0s 51ms/step\n"
          ]
        },
        {
          "name": "stderr",
          "output_type": "stream",
          "text": [
            "\r6it [00:03,  3.03it/s]"
          ]
        },
        {
          "name": "stdout",
          "output_type": "stream",
          "text": [
            "1/1 [==============================] - 0s 42ms/step\n"
          ]
        },
        {
          "name": "stderr",
          "output_type": "stream",
          "text": [
            "\r7it [00:03,  3.51it/s]"
          ]
        },
        {
          "name": "stdout",
          "output_type": "stream",
          "text": [
            "1/1 [==============================] - 0s 39ms/step\n"
          ]
        },
        {
          "name": "stderr",
          "output_type": "stream",
          "text": [
            "\r8it [00:03,  4.00it/s]"
          ]
        },
        {
          "name": "stdout",
          "output_type": "stream",
          "text": [
            "1/1 [==============================] - 0s 45ms/step\n"
          ]
        },
        {
          "name": "stderr",
          "output_type": "stream",
          "text": [
            "\r9it [00:03,  4.56it/s]"
          ]
        },
        {
          "name": "stdout",
          "output_type": "stream",
          "text": [
            "1/1 [==============================] - 0s 41ms/step\n"
          ]
        },
        {
          "name": "stderr",
          "output_type": "stream",
          "text": [
            "\r10it [00:03,  5.01it/s]"
          ]
        },
        {
          "name": "stdout",
          "output_type": "stream",
          "text": [
            "1/1 [==============================] - 0s 46ms/step\n"
          ]
        },
        {
          "name": "stderr",
          "output_type": "stream",
          "text": [
            "\r11it [00:03,  4.85it/s]"
          ]
        },
        {
          "name": "stdout",
          "output_type": "stream",
          "text": [
            "1/1 [==============================] - 0s 39ms/step\n"
          ]
        },
        {
          "name": "stderr",
          "output_type": "stream",
          "text": [
            "\r12it [00:04,  4.62it/s]"
          ]
        },
        {
          "name": "stdout",
          "output_type": "stream",
          "text": [
            "1/1 [==============================] - 0s 42ms/step\n"
          ]
        },
        {
          "name": "stderr",
          "output_type": "stream",
          "text": [
            "\r13it [00:04,  5.05it/s]"
          ]
        },
        {
          "name": "stdout",
          "output_type": "stream",
          "text": [
            "1/1 [==============================] - 0s 57ms/step\n"
          ]
        },
        {
          "name": "stderr",
          "output_type": "stream",
          "text": [
            "\r14it [00:04,  5.13it/s]"
          ]
        },
        {
          "name": "stdout",
          "output_type": "stream",
          "text": [
            "1/1 [==============================] - 0s 33ms/step\n"
          ]
        },
        {
          "name": "stderr",
          "output_type": "stream",
          "text": [
            "\r15it [00:04,  5.65it/s]"
          ]
        },
        {
          "name": "stdout",
          "output_type": "stream",
          "text": [
            "1/1 [==============================] - 0s 50ms/step\n"
          ]
        },
        {
          "name": "stderr",
          "output_type": "stream",
          "text": [
            "\r16it [00:04,  5.75it/s]"
          ]
        },
        {
          "name": "stdout",
          "output_type": "stream",
          "text": [
            "1/1 [==============================] - 0s 87ms/step\n"
          ]
        },
        {
          "name": "stderr",
          "output_type": "stream",
          "text": [
            "\r17it [00:05,  4.34it/s]"
          ]
        },
        {
          "name": "stdout",
          "output_type": "stream",
          "text": [
            "1/1 [==============================] - 0s 101ms/step\n"
          ]
        },
        {
          "name": "stderr",
          "output_type": "stream",
          "text": [
            "\r18it [00:05,  3.31it/s]"
          ]
        },
        {
          "name": "stdout",
          "output_type": "stream",
          "text": [
            "1/1 [==============================] - 0s 77ms/step\n"
          ]
        },
        {
          "name": "stderr",
          "output_type": "stream",
          "text": [
            "\r19it [00:05,  3.26it/s]"
          ]
        },
        {
          "name": "stdout",
          "output_type": "stream",
          "text": [
            "1/1 [==============================] - 0s 120ms/step\n"
          ]
        },
        {
          "name": "stderr",
          "output_type": "stream",
          "text": [
            "\r20it [00:06,  3.00it/s]"
          ]
        },
        {
          "name": "stdout",
          "output_type": "stream",
          "text": [
            "1/1 [==============================] - 0s 84ms/step\n"
          ]
        },
        {
          "name": "stderr",
          "output_type": "stream",
          "text": [
            "\r21it [00:06,  3.04it/s]"
          ]
        },
        {
          "name": "stdout",
          "output_type": "stream",
          "text": [
            "1/1 [==============================] - 0s 97ms/step\n"
          ]
        },
        {
          "name": "stderr",
          "output_type": "stream",
          "text": [
            "\r22it [00:07,  2.75it/s]"
          ]
        },
        {
          "name": "stdout",
          "output_type": "stream",
          "text": [
            "1/1 [==============================] - 0s 69ms/step\n"
          ]
        },
        {
          "name": "stderr",
          "output_type": "stream",
          "text": [
            "\r23it [00:07,  2.66it/s]"
          ]
        },
        {
          "name": "stdout",
          "output_type": "stream",
          "text": [
            "1/1 [==============================] - 0s 119ms/step\n"
          ]
        },
        {
          "name": "stderr",
          "output_type": "stream",
          "text": [
            "\r24it [00:07,  2.61it/s]"
          ]
        },
        {
          "name": "stdout",
          "output_type": "stream",
          "text": [
            "1/1 [==============================] - 0s 207ms/step\n"
          ]
        },
        {
          "name": "stderr",
          "output_type": "stream",
          "text": [
            "\r25it [00:08,  2.47it/s]"
          ]
        },
        {
          "name": "stdout",
          "output_type": "stream",
          "text": [
            "1/1 [==============================] - 0s 123ms/step\n"
          ]
        },
        {
          "name": "stderr",
          "output_type": "stream",
          "text": [
            "\r26it [00:08,  2.37it/s]"
          ]
        },
        {
          "name": "stdout",
          "output_type": "stream",
          "text": [
            "1/1 [==============================] - 0s 94ms/step\n"
          ]
        },
        {
          "name": "stderr",
          "output_type": "stream",
          "text": [
            "\r27it [00:09,  2.36it/s]"
          ]
        },
        {
          "name": "stdout",
          "output_type": "stream",
          "text": [
            "1/1 [==============================] - 0s 188ms/step\n"
          ]
        },
        {
          "name": "stderr",
          "output_type": "stream",
          "text": [
            "\r28it [00:09,  2.21it/s]"
          ]
        },
        {
          "name": "stdout",
          "output_type": "stream",
          "text": [
            "1/1 [==============================] - 0s 144ms/step\n"
          ]
        },
        {
          "name": "stderr",
          "output_type": "stream",
          "text": [
            "\r29it [00:10,  2.13it/s]"
          ]
        },
        {
          "name": "stdout",
          "output_type": "stream",
          "text": [
            "1/1 [==============================] - 0s 123ms/step\n"
          ]
        },
        {
          "name": "stderr",
          "output_type": "stream",
          "text": [
            "\r30it [00:10,  2.30it/s]"
          ]
        },
        {
          "name": "stdout",
          "output_type": "stream",
          "text": [
            "1/1 [==============================] - 0s 80ms/step\n"
          ]
        },
        {
          "name": "stderr",
          "output_type": "stream",
          "text": [
            "\r31it [00:10,  2.51it/s]"
          ]
        },
        {
          "name": "stdout",
          "output_type": "stream",
          "text": [
            "1/1 [==============================] - 0s 97ms/step\n"
          ]
        },
        {
          "name": "stderr",
          "output_type": "stream",
          "text": [
            "\r32it [00:11,  2.56it/s]"
          ]
        },
        {
          "name": "stdout",
          "output_type": "stream",
          "text": [
            "1/1 [==============================] - 0s 89ms/step\n"
          ]
        },
        {
          "name": "stderr",
          "output_type": "stream",
          "text": [
            "\r33it [00:11,  2.61it/s]"
          ]
        },
        {
          "name": "stdout",
          "output_type": "stream",
          "text": [
            "1/1 [==============================] - 0s 71ms/step\n"
          ]
        },
        {
          "name": "stderr",
          "output_type": "stream",
          "text": [
            "\r34it [00:12,  2.62it/s]"
          ]
        },
        {
          "name": "stdout",
          "output_type": "stream",
          "text": [
            "1/1 [==============================] - 0s 75ms/step\n"
          ]
        },
        {
          "name": "stderr",
          "output_type": "stream",
          "text": [
            "\r35it [00:12,  2.59it/s]"
          ]
        },
        {
          "name": "stdout",
          "output_type": "stream",
          "text": [
            "1/1 [==============================] - 0s 33ms/step\n"
          ]
        },
        {
          "name": "stderr",
          "output_type": "stream",
          "text": [
            "\r36it [00:12,  3.07it/s]"
          ]
        },
        {
          "name": "stdout",
          "output_type": "stream",
          "text": [
            "1/1 [==============================] - 0s 49ms/step\n"
          ]
        },
        {
          "name": "stderr",
          "output_type": "stream",
          "text": [
            "\r37it [00:12,  3.35it/s]"
          ]
        },
        {
          "name": "stdout",
          "output_type": "stream",
          "text": [
            "1/1 [==============================] - 0s 44ms/step\n"
          ]
        },
        {
          "name": "stderr",
          "output_type": "stream",
          "text": [
            "\r38it [00:13,  3.85it/s]"
          ]
        },
        {
          "name": "stdout",
          "output_type": "stream",
          "text": [
            "1/1 [==============================] - 0s 48ms/step\n"
          ]
        },
        {
          "name": "stderr",
          "output_type": "stream",
          "text": [
            "\r39it [00:13,  4.24it/s]"
          ]
        },
        {
          "name": "stdout",
          "output_type": "stream",
          "text": [
            "1/1 [==============================] - 0s 34ms/step\n"
          ]
        },
        {
          "name": "stderr",
          "output_type": "stream",
          "text": [
            "\r40it [00:13,  4.66it/s]"
          ]
        },
        {
          "name": "stdout",
          "output_type": "stream",
          "text": [
            "1/1 [==============================] - 0s 41ms/step\n"
          ]
        },
        {
          "name": "stderr",
          "output_type": "stream",
          "text": [
            "\r41it [00:13,  4.68it/s]"
          ]
        },
        {
          "name": "stdout",
          "output_type": "stream",
          "text": [
            "1/1 [==============================] - 0s 41ms/step\n"
          ]
        },
        {
          "name": "stderr",
          "output_type": "stream",
          "text": [
            "\r42it [00:13,  4.42it/s]"
          ]
        },
        {
          "name": "stdout",
          "output_type": "stream",
          "text": [
            "1/1 [==============================] - 0s 60ms/step\n"
          ]
        },
        {
          "name": "stderr",
          "output_type": "stream",
          "text": [
            "\r43it [00:14,  4.47it/s]"
          ]
        },
        {
          "name": "stdout",
          "output_type": "stream",
          "text": [
            "1/1 [==============================] - 0s 32ms/step\n"
          ]
        },
        {
          "name": "stderr",
          "output_type": "stream",
          "text": [
            "\r44it [00:14,  4.69it/s]"
          ]
        },
        {
          "name": "stdout",
          "output_type": "stream",
          "text": [
            "1/1 [==============================] - 0s 35ms/step\n"
          ]
        },
        {
          "name": "stderr",
          "output_type": "stream",
          "text": [
            "\r45it [00:14,  5.13it/s]"
          ]
        },
        {
          "name": "stdout",
          "output_type": "stream",
          "text": [
            "1/1 [==============================] - 0s 48ms/step\n"
          ]
        },
        {
          "name": "stderr",
          "output_type": "stream",
          "text": [
            "\r46it [00:14,  5.42it/s]"
          ]
        },
        {
          "name": "stdout",
          "output_type": "stream",
          "text": [
            "1/1 [==============================] - 0s 63ms/step\n"
          ]
        },
        {
          "name": "stderr",
          "output_type": "stream",
          "text": [
            "\r47it [00:14,  5.41it/s]"
          ]
        },
        {
          "name": "stdout",
          "output_type": "stream",
          "text": [
            "1/1 [==============================] - 0s 36ms/step\n"
          ]
        },
        {
          "name": "stderr",
          "output_type": "stream",
          "text": [
            "\r48it [00:14,  5.55it/s]"
          ]
        },
        {
          "name": "stdout",
          "output_type": "stream",
          "text": [
            "1/1 [==============================] - 0s 41ms/step\n"
          ]
        },
        {
          "name": "stderr",
          "output_type": "stream",
          "text": [
            "\r49it [00:15,  5.72it/s]"
          ]
        },
        {
          "name": "stdout",
          "output_type": "stream",
          "text": [
            "1/1 [==============================] - 0s 36ms/step\n"
          ]
        },
        {
          "name": "stderr",
          "output_type": "stream",
          "text": [
            "\r50it [00:15,  5.60it/s]"
          ]
        },
        {
          "name": "stdout",
          "output_type": "stream",
          "text": [
            "1/1 [==============================] - 0s 49ms/step\n"
          ]
        },
        {
          "name": "stderr",
          "output_type": "stream",
          "text": [
            "\r51it [00:15,  5.70it/s]"
          ]
        },
        {
          "name": "stdout",
          "output_type": "stream",
          "text": [
            "1/1 [==============================] - 0s 96ms/step\n"
          ]
        },
        {
          "name": "stderr",
          "output_type": "stream",
          "text": [
            "\r52it [00:15,  4.61it/s]"
          ]
        },
        {
          "name": "stdout",
          "output_type": "stream",
          "text": [
            "1/1 [==============================] - 0s 58ms/step\n"
          ]
        },
        {
          "name": "stderr",
          "output_type": "stream",
          "text": [
            "\r53it [00:16,  4.05it/s]"
          ]
        },
        {
          "name": "stdout",
          "output_type": "stream",
          "text": [
            "1/1 [==============================] - 0s 79ms/step\n"
          ]
        },
        {
          "name": "stderr",
          "output_type": "stream",
          "text": [
            "\r54it [00:16,  4.31it/s]"
          ]
        },
        {
          "name": "stdout",
          "output_type": "stream",
          "text": [
            "1/1 [==============================] - 0s 36ms/step\n"
          ]
        },
        {
          "name": "stderr",
          "output_type": "stream",
          "text": [
            "\r55it [00:16,  4.57it/s]"
          ]
        },
        {
          "name": "stdout",
          "output_type": "stream",
          "text": [
            "1/1 [==============================] - 0s 52ms/step\n"
          ]
        },
        {
          "name": "stderr",
          "output_type": "stream",
          "text": [
            "\r56it [00:16,  4.49it/s]"
          ]
        },
        {
          "name": "stdout",
          "output_type": "stream",
          "text": [
            "1/1 [==============================] - 0s 76ms/step\n"
          ]
        },
        {
          "name": "stderr",
          "output_type": "stream",
          "text": [
            "\r57it [00:16,  4.67it/s]"
          ]
        },
        {
          "name": "stdout",
          "output_type": "stream",
          "text": [
            "1/1 [==============================] - 0s 34ms/step\n"
          ]
        },
        {
          "name": "stderr",
          "output_type": "stream",
          "text": [
            "\r58it [00:17,  5.18it/s]"
          ]
        },
        {
          "name": "stdout",
          "output_type": "stream",
          "text": [
            "1/1 [==============================] - 0s 40ms/step\n"
          ]
        },
        {
          "name": "stderr",
          "output_type": "stream",
          "text": [
            "\r59it [00:17,  5.29it/s]"
          ]
        },
        {
          "name": "stdout",
          "output_type": "stream",
          "text": [
            "1/1 [==============================] - 0s 80ms/step\n"
          ]
        },
        {
          "name": "stderr",
          "output_type": "stream",
          "text": [
            "\r60it [00:17,  4.58it/s]"
          ]
        },
        {
          "name": "stdout",
          "output_type": "stream",
          "text": [
            "1/1 [==============================] - 0s 59ms/step\n"
          ]
        },
        {
          "name": "stderr",
          "output_type": "stream",
          "text": [
            "\r61it [00:17,  4.54it/s]"
          ]
        },
        {
          "name": "stdout",
          "output_type": "stream",
          "text": [
            "1/1 [==============================] - 0s 55ms/step\n"
          ]
        },
        {
          "name": "stderr",
          "output_type": "stream",
          "text": [
            "\r62it [00:17,  4.30it/s]"
          ]
        },
        {
          "name": "stdout",
          "output_type": "stream",
          "text": [
            "1/1 [==============================] - 0s 112ms/step\n"
          ]
        },
        {
          "name": "stderr",
          "output_type": "stream",
          "text": [
            "\r63it [00:18,  3.46it/s]"
          ]
        },
        {
          "name": "stdout",
          "output_type": "stream",
          "text": [
            "1/1 [==============================] - 0s 116ms/step\n"
          ]
        },
        {
          "name": "stderr",
          "output_type": "stream",
          "text": [
            "\r64it [00:18,  3.24it/s]"
          ]
        },
        {
          "name": "stdout",
          "output_type": "stream",
          "text": [
            "1/1 [==============================] - 0s 33ms/step\n"
          ]
        },
        {
          "name": "stderr",
          "output_type": "stream",
          "text": [
            "\r65it [00:18,  3.72it/s]"
          ]
        },
        {
          "name": "stdout",
          "output_type": "stream",
          "text": [
            "1/1 [==============================] - 0s 62ms/step\n"
          ]
        },
        {
          "name": "stderr",
          "output_type": "stream",
          "text": [
            "\r66it [00:19,  3.85it/s]"
          ]
        },
        {
          "name": "stdout",
          "output_type": "stream",
          "text": [
            "1/1 [==============================] - 0s 82ms/step\n"
          ]
        },
        {
          "name": "stderr",
          "output_type": "stream",
          "text": [
            "\r67it [00:19,  4.12it/s]"
          ]
        },
        {
          "name": "stdout",
          "output_type": "stream",
          "text": [
            "1/1 [==============================] - 0s 43ms/step\n"
          ]
        },
        {
          "name": "stderr",
          "output_type": "stream",
          "text": [
            "\r68it [00:19,  4.43it/s]"
          ]
        },
        {
          "name": "stdout",
          "output_type": "stream",
          "text": [
            "1/1 [==============================] - 0s 74ms/step\n"
          ]
        },
        {
          "name": "stderr",
          "output_type": "stream",
          "text": [
            "\r69it [00:19,  4.14it/s]"
          ]
        },
        {
          "name": "stdout",
          "output_type": "stream",
          "text": [
            "1/1 [==============================] - 0s 33ms/step\n"
          ]
        },
        {
          "name": "stderr",
          "output_type": "stream",
          "text": [
            "\r70it [00:20,  3.97it/s]"
          ]
        },
        {
          "name": "stdout",
          "output_type": "stream",
          "text": [
            "1/1 [==============================] - 0s 55ms/step\n"
          ]
        },
        {
          "name": "stderr",
          "output_type": "stream",
          "text": [
            "\r71it [00:20,  4.43it/s]"
          ]
        },
        {
          "name": "stdout",
          "output_type": "stream",
          "text": [
            "1/1 [==============================] - 0s 44ms/step\n"
          ]
        },
        {
          "name": "stderr",
          "output_type": "stream",
          "text": [
            "\r72it [00:20,  4.60it/s]"
          ]
        },
        {
          "name": "stdout",
          "output_type": "stream",
          "text": [
            "1/1 [==============================] - 0s 36ms/step\n"
          ]
        },
        {
          "name": "stderr",
          "output_type": "stream",
          "text": [
            "\r73it [00:20,  5.06it/s]"
          ]
        },
        {
          "name": "stdout",
          "output_type": "stream",
          "text": [
            "1/1 [==============================] - 0s 55ms/step\n"
          ]
        },
        {
          "name": "stderr",
          "output_type": "stream",
          "text": [
            "\r74it [00:20,  5.03it/s]"
          ]
        },
        {
          "name": "stdout",
          "output_type": "stream",
          "text": [
            "1/1 [==============================] - 0s 45ms/step\n"
          ]
        },
        {
          "name": "stderr",
          "output_type": "stream",
          "text": [
            "\r75it [00:20,  5.32it/s]"
          ]
        },
        {
          "name": "stdout",
          "output_type": "stream",
          "text": [
            "1/1 [==============================] - 0s 39ms/step\n"
          ]
        },
        {
          "name": "stderr",
          "output_type": "stream",
          "text": [
            "\r76it [00:21,  4.64it/s]"
          ]
        },
        {
          "name": "stdout",
          "output_type": "stream",
          "text": [
            "1/1 [==============================] - 0s 80ms/step\n"
          ]
        },
        {
          "name": "stderr",
          "output_type": "stream",
          "text": [
            "\r77it [00:21,  4.52it/s]"
          ]
        },
        {
          "name": "stdout",
          "output_type": "stream",
          "text": [
            "1/1 [==============================] - 0s 39ms/step\n"
          ]
        },
        {
          "name": "stderr",
          "output_type": "stream",
          "text": [
            "\r78it [00:21,  4.99it/s]"
          ]
        },
        {
          "name": "stdout",
          "output_type": "stream",
          "text": [
            "1/1 [==============================] - 0s 49ms/step\n"
          ]
        },
        {
          "name": "stderr",
          "output_type": "stream",
          "text": [
            "\r79it [00:21,  5.19it/s]"
          ]
        },
        {
          "name": "stdout",
          "output_type": "stream",
          "text": [
            "1/1 [==============================] - 0s 40ms/step\n"
          ]
        },
        {
          "name": "stderr",
          "output_type": "stream",
          "text": [
            "\r80it [00:21,  5.53it/s]"
          ]
        },
        {
          "name": "stdout",
          "output_type": "stream",
          "text": [
            "1/1 [==============================] - 0s 34ms/step\n"
          ]
        },
        {
          "name": "stderr",
          "output_type": "stream",
          "text": [
            "\r81it [00:22,  5.56it/s]"
          ]
        },
        {
          "name": "stdout",
          "output_type": "stream",
          "text": [
            "1/1 [==============================] - 0s 38ms/step\n"
          ]
        },
        {
          "name": "stderr",
          "output_type": "stream",
          "text": [
            "\r82it [00:22,  5.56it/s]"
          ]
        },
        {
          "name": "stdout",
          "output_type": "stream",
          "text": [
            "1/1 [==============================] - 0s 69ms/step\n"
          ]
        },
        {
          "name": "stderr",
          "output_type": "stream",
          "text": [
            "\r83it [00:22,  5.03it/s]"
          ]
        },
        {
          "name": "stdout",
          "output_type": "stream",
          "text": [
            "1/1 [==============================] - 0s 108ms/step\n"
          ]
        },
        {
          "name": "stderr",
          "output_type": "stream",
          "text": [
            "\r84it [00:23,  3.75it/s]"
          ]
        },
        {
          "name": "stdout",
          "output_type": "stream",
          "text": [
            "1/1 [==============================] - 0s 135ms/step\n"
          ]
        },
        {
          "name": "stderr",
          "output_type": "stream",
          "text": [
            "\r85it [00:23,  3.33it/s]"
          ]
        },
        {
          "name": "stdout",
          "output_type": "stream",
          "text": [
            "1/1 [==============================] - 0s 107ms/step\n"
          ]
        },
        {
          "name": "stderr",
          "output_type": "stream",
          "text": [
            "\r86it [00:23,  3.28it/s]"
          ]
        },
        {
          "name": "stdout",
          "output_type": "stream",
          "text": [
            "1/1 [==============================] - 0s 98ms/step\n"
          ]
        },
        {
          "name": "stderr",
          "output_type": "stream",
          "text": [
            "\r87it [00:24,  2.95it/s]"
          ]
        },
        {
          "name": "stdout",
          "output_type": "stream",
          "text": [
            "1/1 [==============================] - 0s 127ms/step\n"
          ]
        },
        {
          "name": "stderr",
          "output_type": "stream",
          "text": [
            "\r88it [00:24,  2.86it/s]"
          ]
        },
        {
          "name": "stdout",
          "output_type": "stream",
          "text": [
            "1/1 [==============================] - 0s 105ms/step\n"
          ]
        },
        {
          "name": "stderr",
          "output_type": "stream",
          "text": [
            "\r89it [00:24,  2.72it/s]"
          ]
        },
        {
          "name": "stdout",
          "output_type": "stream",
          "text": [
            "1/1 [==============================] - 0s 107ms/step\n"
          ]
        },
        {
          "name": "stderr",
          "output_type": "stream",
          "text": [
            "\r90it [00:25,  2.58it/s]"
          ]
        },
        {
          "name": "stdout",
          "output_type": "stream",
          "text": [
            "1/1 [==============================] - 0s 109ms/step\n"
          ]
        },
        {
          "name": "stderr",
          "output_type": "stream",
          "text": [
            "\r91it [00:25,  2.49it/s]"
          ]
        },
        {
          "name": "stdout",
          "output_type": "stream",
          "text": [
            "1/1 [==============================] - 0s 68ms/step\n"
          ]
        },
        {
          "name": "stderr",
          "output_type": "stream",
          "text": [
            "\r92it [00:26,  2.60it/s]"
          ]
        },
        {
          "name": "stdout",
          "output_type": "stream",
          "text": [
            "1/1 [==============================] - 0s 85ms/step\n"
          ]
        },
        {
          "name": "stderr",
          "output_type": "stream",
          "text": [
            "\r93it [00:26,  2.71it/s]"
          ]
        },
        {
          "name": "stdout",
          "output_type": "stream",
          "text": [
            "1/1 [==============================] - 0s 112ms/step\n"
          ]
        },
        {
          "name": "stderr",
          "output_type": "stream",
          "text": [
            "\r94it [00:26,  2.75it/s]"
          ]
        },
        {
          "name": "stdout",
          "output_type": "stream",
          "text": [
            "1/1 [==============================] - 0s 63ms/step\n"
          ]
        },
        {
          "name": "stderr",
          "output_type": "stream",
          "text": [
            "\r95it [00:27,  2.93it/s]"
          ]
        },
        {
          "name": "stdout",
          "output_type": "stream",
          "text": [
            "1/1 [==============================] - 0s 80ms/step\n"
          ]
        },
        {
          "name": "stderr",
          "output_type": "stream",
          "text": [
            "96it [00:27,  3.50it/s]\n"
          ]
        }
      ],
      "source": [
        "test_ds_unbatched = test_batches.unbatch()\n",
        "\n",
        "pred_path = os.path.join(PRED_PATH, EXP_NAME, timestamp)\n",
        "if not os.path.exists(pred_path):\n",
        "    os.makedirs(pred_path)\n",
        "\n",
        "metrics = pd.DataFrame()\n",
        "\n",
        "for idx, (input, target) in enumerate(tqdm(test_ds_unbatched)):\n",
        "    target = tf.squeeze(target)\n",
        "    prediction = tf.squeeze(model.predict(tf.expand_dims(input, axis=0)))\n",
        "\n",
        "    channel_sum = tf.expand_dims(tf.reduce_sum(target, axis=-1), axis=-1)\n",
        "    white_mask = tf.reduce_all(tf.equal(channel_sum, 3.0), axis=-1)\n",
        "    expanded_mask = tf.expand_dims(white_mask, axis=-1)\n",
        "    expanded_mask = tf.tile(expanded_mask, [1, 1, 3])\n",
        "    prediction = tf.where(expanded_mask, tf.ones_like(prediction), prediction)\n",
        "\n",
        "    target_pil = Image.fromarray(np.array(target * 255.0, dtype=np.uint8))\n",
        "    prediction_pil = Image.fromarray(\n",
        "        np.array(prediction * 255.0, dtype=np.uint8))\n",
        "\n",
        "    target_pil.save(os.path.join(pred_path, f\"{idx}_T.png\"))\n",
        "    prediction_pil.save(os.path.join(pred_path, f\"{idx}_P.png\"))"
      ]
    },
    {
      "cell_type": "markdown",
      "metadata": {
        "id": "yHrb18xrh7ex"
      },
      "source": [
        "# Loss Curve"
      ]
    },
    {
      "cell_type": "code",
      "execution_count": 20,
      "metadata": {
        "colab": {
          "base_uri": "https://localhost:8080/",
          "height": 607
        },
        "id": "27vxXlXEh7ex",
        "outputId": "41980221-c91d-440c-c699-bf84e5e9fc03"
      },
      "outputs": [
        {
          "data": {
            "image/png": "[encoded data removed]",
            "text/plain": [
              "<Figure size 800x600 with 1 Axes>"
            ]
          },
          "metadata": {},
          "output_type": "display_data"
        }
      ],
      "source": [
        "try:\n",
        "    loss = history.history['loss']\n",
        "    val_loss = history.history['val_loss']\n",
        "\n",
        "    plt.figure(figsize=(8, 6))\n",
        "    plt.plot(loss, label='Training Loss')\n",
        "    plt.plot(val_loss, label='Validation Loss')\n",
        "    plt.legend(loc='upper right')\n",
        "    plt.ylabel('Attention MAE')\n",
        "    plt.title('Training and Validation Loss')\n",
        "    plt.xlabel('Epoch')\n",
        "    plt.tight_layout()\n",
        "    plt.savefig(os.path.join(model_path, timestamp + \".png\"))\n",
        "    plt.show()\n",
        "except:\n",
        "    print(\"Model did not finish training\")"
      ]
    },
    {
      "cell_type": "markdown",
      "metadata": {
        "id": "McOnJlPwh7ex"
      },
      "source": [
        "# Metrics"
      ]
    },
    {
      "cell_type": "code",
      "execution_count": 21,
      "metadata": {
        "colab": {
          "base_uri": "https://localhost:8080/"
        },
        "id": "8kbXsKlmh7e0",
        "outputId": "07034469-2eec-46b2-b380-86f98ad32e19"
      },
      "outputs": [
        {
          "name": "stdout",
          "output_type": "stream",
          "text": [
            "6/6 [==============================] - 0s 60ms/step - loss: 0.0046 - attention_mae: 0.0249\n",
            "EMSE: 0.004631634335964918\n",
            "EMAE: 0.024922484531998634\n"
          ]
        }
      ],
      "source": [
        "EMSE, EMAE = model.evaluate(test_batches)\n",
        "print(f\"EMSE: {EMSE}\\nEMAE: {EMAE}\")"
      ]
    }
  ],
  "metadata": {
    "accelerator": "GPU",
    "colab": {
      "gpuType": "V100",
      "provenance": [],
      "toc_visible": true
    },
    "kernelspec": {
      "display_name": "Python 3",
      "name": "python3"
    },
    "language_info": {
      "codemirror_mode": {
        "name": "ipython",
        "version": 3
      },
      "file_extension": ".py",
      "mimetype": "text/x-python",
      "name": "python",
      "nbconvert_exporter": "python",
      "pygments_lexer": "ipython3",
      "version": "3.11.5"
    }
  },
  "nbformat": 4,
  "nbformat_minor": 0
}
