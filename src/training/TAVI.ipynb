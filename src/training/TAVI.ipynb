{
  "cells": [
    {
      "cell_type": "markdown",
      "metadata": {
        "id": "7qGP76Soh7eo"
      },
      "source": [
        "# Runtime Config"
      ]
    },
    {
      "cell_type": "code",
      "execution_count": 1,
      "metadata": {
        "id": "DxmV-3idh7eq"
      },
      "outputs": [],
      "source": [
        "LOCAL_MACHINE = False"
      ]
    },
    {
      "cell_type": "code",
      "execution_count": 2,
      "metadata": {
        "colab": {
          "base_uri": "https://localhost:8080/"
        },
        "id": "B_TCNqhSh7er",
        "outputId": "2f9c3c3c-adce-4b8c-d085-d73bc72c1cfa"
      },
      "outputs": [
        {
          "output_type": "stream",
          "name": "stdout",
          "text": [
            "Mon Nov 27 11:04:52 2023       \n",
            "+-----------------------------------------------------------------------------+\n",
            "| NVIDIA-SMI 525.105.17   Driver Version: 525.105.17   CUDA Version: 12.0     |\n",
            "|-------------------------------+----------------------+----------------------+\n",
            "| GPU  Name        Persistence-M| Bus-Id        Disp.A | Volatile Uncorr. ECC |\n",
            "| Fan  Temp  Perf  Pwr:Usage/Cap|         Memory-Usage | GPU-Util  Compute M. |\n",
            "|                               |                      |               MIG M. |\n",
            "|===============================+======================+======================|\n",
            "|   0  Tesla V100-SXM2...  Off  | 00000000:00:04.0 Off |                    0 |\n",
            "| N/A   39C    P0    24W / 300W |      0MiB / 16384MiB |      0%      Default |\n",
            "|                               |                      |                  N/A |\n",
            "+-------------------------------+----------------------+----------------------+\n",
            "                                                                               \n",
            "+-----------------------------------------------------------------------------+\n",
            "| Processes:                                                                  |\n",
            "|  GPU   GI   CI        PID   Type   Process name                  GPU Memory |\n",
            "|        ID   ID                                                   Usage      |\n",
            "|=============================================================================|\n",
            "|  No running processes found                                                 |\n",
            "+-----------------------------------------------------------------------------+\n",
            "Your runtime has 13.6 gigabytes of available RAM\n",
            "\n",
            "Not using a high-RAM runtime\n"
          ]
        }
      ],
      "source": [
        "from psutil import virtual_memory\n",
        "\n",
        "gpu_info = !nvidia-smi\n",
        "gpu_info = '\\n'.join(gpu_info)\n",
        "if gpu_info.find('failed') >= 0:\n",
        "    print('Not connected to a GPU')\n",
        "else:\n",
        "    print(gpu_info)\n",
        "\n",
        "\n",
        "ram_gb = virtual_memory().total / 1e9\n",
        "print('Your runtime has {:.1f} gigabytes of available RAM\\n'.format(ram_gb))\n",
        "\n",
        "if ram_gb < 20:\n",
        "    print('Not using a high-RAM runtime')\n",
        "else:\n",
        "    print('You are using a high-RAM runtime!')"
      ]
    },
    {
      "cell_type": "markdown",
      "metadata": {
        "id": "9lBmQa9Rh7es"
      },
      "source": [
        "# Fix G-Drive"
      ]
    },
    {
      "cell_type": "code",
      "execution_count": 3,
      "metadata": {
        "colab": {
          "base_uri": "https://localhost:8080/"
        },
        "id": "KBNHcIMGh7es",
        "outputId": "e25add0a-04a3-4e65-ab9d-3e83807c281b"
      },
      "outputs": [
        {
          "output_type": "stream",
          "name": "stdout",
          "text": [
            "Installing G-Drive ... \n",
            "Install Pix2Pix\n"
          ]
        }
      ],
      "source": [
        "import os\n",
        "\n",
        "if not LOCAL_MACHINE:\n",
        "    print(\"Installing G-Drive ... \")\n",
        "    os.system(\"pip install -U --no-cache-dir gdown --pre > /dev/null\")\n",
        "    print(\"Install Pix2Pix\")\n",
        "    os.system(\"pip install git+https://github.com/tensorflow/examples.git\")"
      ]
    },
    {
      "cell_type": "markdown",
      "metadata": {
        "id": "ZfrLpMKph7et"
      },
      "source": [
        "# Mount G-Drive"
      ]
    },
    {
      "cell_type": "code",
      "execution_count": 4,
      "metadata": {
        "colab": {
          "base_uri": "https://localhost:8080/"
        },
        "id": "P9xbY2Ggh7et",
        "outputId": "49fcbd83-307b-4bd8-8ec8-94e2e24917a7"
      },
      "outputs": [
        {
          "output_type": "stream",
          "name": "stdout",
          "text": [
            "Drive already mounted at /content/drive; to attempt to forcibly remount, call drive.mount(\"/content/drive\", force_remount=True).\n"
          ]
        }
      ],
      "source": [
        "if not LOCAL_MACHINE:\n",
        "    from google.colab import drive\n",
        "\n",
        "    drive.mount(\"/content/drive\")"
      ]
    },
    {
      "cell_type": "markdown",
      "metadata": {
        "id": "0lWGNCyCh7et"
      },
      "source": [
        "# Download and Extract Dataset"
      ]
    },
    {
      "cell_type": "code",
      "execution_count": 5,
      "metadata": {
        "colab": {
          "base_uri": "https://localhost:8080/"
        },
        "id": "ImKwSB_kh7et",
        "outputId": "30d7d2ec-58cf-41d3-90c9-0263e4e70451"
      },
      "outputs": [
        {
          "output_type": "stream",
          "name": "stdout",
          "text": [
            "Downloading Dataset ... \n",
            "Extracting Dataset ... \n"
          ]
        }
      ],
      "source": [
        "if not LOCAL_MACHINE:\n",
        "    print(\"Downloading Dataset ... \")\n",
        "    os.system(\"gdown 1xBO079FPIeE7T5VVsFwc8QeZxAfS4J9O\")\n",
        "    print(\"Extracting Dataset ... \")\n",
        "    os.system('unzip -o \"TAVI_REG_r17.zip\" > /dev/null')"
      ]
    },
    {
      "cell_type": "markdown",
      "metadata": {
        "id": "tq1mCzROh7eu"
      },
      "source": [
        "# Imports"
      ]
    },
    {
      "cell_type": "code",
      "execution_count": 6,
      "metadata": {
        "id": "nClEc8uph7eu"
      },
      "outputs": [],
      "source": [
        "import datetime\n",
        "import numpy as np\n",
        "import pandas as pd\n",
        "import tensorflow as tf\n",
        "import matplotlib.pyplot as plt\n",
        "\n",
        "from tqdm import tqdm\n",
        "from PIL import Image\n",
        "\n",
        "from tensorflow_examples.models.pix2pix import pix2pix"
      ]
    },
    {
      "cell_type": "markdown",
      "metadata": {
        "id": "cqPlBIIPh7eu"
      },
      "source": [
        "# Problem Config"
      ]
    },
    {
      "cell_type": "code",
      "execution_count": 7,
      "metadata": {
        "id": "njUHcK7Xh7eu"
      },
      "outputs": [],
      "source": [
        "PROBLEM = \"Curvature_2_Pressure\"\n",
        "\n",
        "MODEL_NAME = \"MultiViewUNet-MobileNet\"\n",
        "DATASET_PATH = \"/content/Images/\"\n",
        "TRAIN_DIR = \"Train/\"\n",
        "TEST_DIR = \"Test/\"\n",
        "INPUT_DIR = PROBLEM.split(\"_2_\")[0]\n",
        "TARGET_DIR = PROBLEM.split(\"_2_\")[1]\n",
        "MODEL_PATH = \"/content/drive/MyDrive/Research/TAVI/Models/\"\n",
        "PRED_PATH = \"/content/drive/MyDrive/Research/TAVI/Predictions/\"\n",
        "IMG_SIZE = 224\n",
        "BATCH_SIZE = 16\n",
        "BUFFER_SIZE = 1000\n",
        "VAL_SPLIT = 0.2\n",
        "LEARNING_RATE = 0.001\n",
        "N_EPOCHS = 300\n",
        "PATIENCE = 30\n",
        "DROPOUT = 0.5\n",
        "\n",
        "EXP_NAME = f\"{PROBLEM}_{MODEL_NAME}_DO_{DROPOUT}\""
      ]
    },
    {
      "cell_type": "markdown",
      "metadata": {
        "id": "yfz3WJv1h7eu"
      },
      "source": [
        "# Architecture"
      ]
    },
    {
      "cell_type": "markdown",
      "metadata": {
        "id": "VJM2NlWwh7eu"
      },
      "source": [
        "## Vanilla UNet"
      ]
    },
    {
      "cell_type": "code",
      "execution_count": 8,
      "metadata": {
        "id": "e1VqTrGrh7eu"
      },
      "outputs": [],
      "source": [
        "class UNet:\n",
        "    def __init__(\n",
        "        self,\n",
        "        img_size: int,\n",
        "        n_channels: int = 3,\n",
        "        width: int = 32,\n",
        "        depth: int = 4,\n",
        "        kernel_size: int = 3,\n",
        "    ):\n",
        "        self.img_size = img_size\n",
        "        self.n_channels = n_channels\n",
        "        self.width = width\n",
        "        self.depth = depth\n",
        "        self.kernel_size = kernel_size\n",
        "\n",
        "    @staticmethod\n",
        "    def conv(x: tf.Tensor, filters: int, kernel_size: int) -> tf.Tensor:\n",
        "        for i in range(2):\n",
        "            x = tf.keras.layers.Conv2D(\n",
        "                filters=filters,\n",
        "                kernel_size=kernel_size,\n",
        "                strides=1,\n",
        "                padding=\"same\",\n",
        "                data_format=\"channels_last\",\n",
        "                dilation_rate=1,\n",
        "                groups=1,\n",
        "                activation=None,\n",
        "                use_bias=True,\n",
        "                kernel_initializer=\"glorot_uniform\",\n",
        "                bias_initializer=\"zeros\",\n",
        "            )(x)\n",
        "\n",
        "            x = tf.keras.layers.BatchNormalization()(x)\n",
        "            x = tf.keras.layers.Activation(\"relu\")(x)\n",
        "\n",
        "        return x\n",
        "\n",
        "    @staticmethod\n",
        "    def deconv(x: tf.Tensor, filters: int) -> tf.Tensor:\n",
        "        x = tf.keras.layers.Conv2DTranspose(\n",
        "            filters=filters,\n",
        "            kernel_size=2,\n",
        "            strides=2,\n",
        "            padding=\"same\",\n",
        "            output_padding=None,\n",
        "            data_format=None,\n",
        "            dilation_rate=1,\n",
        "            activation=None,\n",
        "            use_bias=True,\n",
        "            kernel_initializer=\"glorot_uniform\",\n",
        "            bias_initializer=\"zeros\",\n",
        "        )(x)\n",
        "\n",
        "        x = tf.keras.layers.BatchNormalization()(x)\n",
        "        x = tf.keras.layers.Activation(\"relu\")(x)\n",
        "\n",
        "        return x\n",
        "\n",
        "    @staticmethod\n",
        "    def output(x: tf.Tensor) -> tf.Tensor:\n",
        "        return tf.keras.layers.Conv2D(3, (1, 1), activation=\"sigmoid\")(x)\n",
        "\n",
        "    @staticmethod\n",
        "    def pool(x: tf.Tensor, pool_size: int = 2) -> tf.Tensor:\n",
        "        return tf.keras.layers.MaxPool2D(pool_size)(x)\n",
        "\n",
        "    @staticmethod\n",
        "    def dropout(x: tf.Tensor, amount: float = 0.5) -> tf.Tensor:\n",
        "        return tf.keras.layers.Dropout(amount)(x)\n",
        "\n",
        "    def __call__(self) -> tf.keras.Model:\n",
        "        inputs = tf.keras.layers.Input(\n",
        "            shape=(self.img_size, self.img_size, self.n_channels)\n",
        "        )\n",
        "\n",
        "        # scaled = tf.keras.layers.Rescaling(1./255.0, offset=0)(inputs)\n",
        "\n",
        "        # ------------------ Downsampling ---------------------\n",
        "        downsample_layers = []\n",
        "        downsample_layers.append(\n",
        "            self.conv(x=inputs, filters=self.width,\n",
        "                      kernel_size=self.kernel_size)\n",
        "        )\n",
        "        for i in range(1, self.depth):\n",
        "            dropout_amount = 0.2 if i == 1 else DROPOUT\n",
        "            filters = int((2**i) * self.width)\n",
        "            downsample_layers.append(\n",
        "                self.dropout(\n",
        "                    self.pool(\n",
        "                        self.conv(\n",
        "                            x=downsample_layers[i - 1],\n",
        "                            filters=filters,\n",
        "                            kernel_size=self.kernel_size,\n",
        "                        )\n",
        "                    ),\n",
        "                    amount=dropout_amount,\n",
        "                )\n",
        "            )\n",
        "\n",
        "        # ------------------- Features --------------------\n",
        "        n_features = int((2**self.depth) * self.width)\n",
        "        self.features = self.pool(\n",
        "            self.conv(\n",
        "                x=downsample_layers[-1],\n",
        "                filters=n_features,\n",
        "                kernel_size=self.kernel_size,\n",
        "            )\n",
        "        )\n",
        "\n",
        "        # ------------------- Upsampling --------------------\n",
        "        upsample_layers = []\n",
        "        upsample_layers.append(self.features)\n",
        "        for i in range(1, self.depth + 1):\n",
        "            filters = int((2 ** (self.depth - i)) * self.width)\n",
        "            upsample_layers.append(\n",
        "                self.conv(\n",
        "                    x=self.dropout(\n",
        "                        tf.keras.layers.concatenate(\n",
        "                            [\n",
        "                                downsample_layers[self.depth - i],\n",
        "                                self.deconv(\n",
        "                                    x=upsample_layers[i - 1], filters=filters),\n",
        "                            ]\n",
        "                        ),\n",
        "                        amount=0.2\n",
        "                    ),\n",
        "                    filters=filters,\n",
        "                    kernel_size=self.kernel_size,\n",
        "                )\n",
        "            )\n",
        "\n",
        "        # ---------------------- Output -----------------------\n",
        "        outputs = self.output(upsample_layers[-1])\n",
        "\n",
        "        return tf.keras.Model(inputs, outputs)"
      ]
    },
    {
      "cell_type": "markdown",
      "metadata": {
        "id": "DDBA0xvgwjUb"
      },
      "source": [
        "# UNet - MobileNetv2"
      ]
    },
    {
      "cell_type": "code",
      "execution_count": 9,
      "metadata": {
        "id": "xyoeknw1wizE"
      },
      "outputs": [],
      "source": [
        "base_model = tf.keras.applications.MobileNetV2(\n",
        "    input_shape=[IMG_SIZE, IMG_SIZE, 3], include_top=False\n",
        ")\n",
        "\n",
        "# Use the activations of these layers\n",
        "layer_names = [\n",
        "    \"block_1_expand_relu\",  # 112x112\n",
        "    \"block_3_expand_relu\",  # 56x56\n",
        "    \"block_6_expand_relu\",  # 28x28\n",
        "    \"block_13_expand_relu\",  # 14x14\n",
        "    \"block_16_project\",  # 7x7\n",
        "]\n",
        "base_model_outputs = [base_model.get_layer(name).output for name in layer_names]\n",
        "\n",
        "# Create the feature extraction model\n",
        "down_stack = tf.keras.Model(inputs=base_model.input, outputs=base_model_outputs)\n",
        "\n",
        "down_stack.trainable = True\n",
        "\n",
        "up_stack = [\n",
        "    pix2pix.upsample(512, 3),  # 4x4 -> 8x8\n",
        "    pix2pix.upsample(256, 3),  # 8x8 -> 16x16\n",
        "    pix2pix.upsample(128, 3),  # 16x16 -> 32x32\n",
        "    pix2pix.upsample(64, 3),  # 32x32 -> 64x64\n",
        "]\n",
        "\n",
        "\n",
        "def unet_model(output_channels: int = 3):\n",
        "    inputs = tf.keras.layers.Input(shape=[IMG_SIZE, IMG_SIZE, 3])\n",
        "\n",
        "    # Downsampling through the model\n",
        "    skips = down_stack(inputs)\n",
        "    x = skips[-1]\n",
        "    skips = reversed(skips[:-1])\n",
        "\n",
        "    # Upsampling and establishing the skip connections\n",
        "    for up, skip in zip(up_stack, skips):\n",
        "        x = up(x)\n",
        "        concat = tf.keras.layers.Concatenate()\n",
        "        x = concat([x, skip])\n",
        "\n",
        "    # This is the last layer of the model\n",
        "    last = tf.keras.layers.Conv2DTranspose(\n",
        "        filters=output_channels,\n",
        "        kernel_size=3,\n",
        "        strides=2,\n",
        "        padding=\"same\",\n",
        "        activation=\"sigmoid\",\n",
        "    )  # 64x64 -> 128x128\n",
        "\n",
        "    x = last(x)\n",
        "\n",
        "    return tf.keras.Model(inputs=inputs, outputs=x)"
      ]
    },
    {
      "cell_type": "markdown",
      "metadata": {
        "id": "demEopCeh7ev"
      },
      "source": [
        "# Loss Functions / Metrics"
      ]
    },
    {
      "cell_type": "code",
      "execution_count": 10,
      "metadata": {
        "id": "9-ke3H-6h7ev"
      },
      "outputs": [],
      "source": [
        "def attention_mse(y_true, y_pred):\n",
        "    _y_true = y_true[y_true != 1.0]\n",
        "    _y_pred = y_pred[y_true != 1.0]\n",
        "    squared_difference = tf.square(_y_true - _y_pred)\n",
        "    return tf.reduce_mean(squared_difference, axis=-1)\n",
        "\n",
        "\n",
        "def attention_mae(y_true, y_pred):\n",
        "    _y_true = y_true[y_true != 1.0]\n",
        "    _y_pred = y_pred[y_true != 1.0]\n",
        "    squared_difference = tf.abs(_y_true - _y_pred)\n",
        "    return tf.reduce_mean(squared_difference, axis=-1)"
      ]
    },
    {
      "cell_type": "markdown",
      "metadata": {
        "id": "JS70cKevh7ev"
      },
      "source": [
        "# Data Loader"
      ]
    },
    {
      "cell_type": "code",
      "execution_count": 11,
      "metadata": {
        "id": "1nL0lVRSh7ev"
      },
      "outputs": [],
      "source": [
        "def load_data_from_dir(path: str) -> tf.data.Dataset:\n",
        "    return tf.keras.utils.image_dataset_from_directory(\n",
        "        directory=path,\n",
        "        labels=None,\n",
        "        color_mode=\"rgb\",\n",
        "        batch_size=BATCH_SIZE,\n",
        "        image_size=(IMG_SIZE, IMG_SIZE),\n",
        "        shuffle=False,\n",
        "        seed=42,\n",
        "        interpolation=\"bilinear\",\n",
        "        follow_links=False,\n",
        "        crop_to_aspect_ratio=False,\n",
        "    )"
      ]
    },
    {
      "cell_type": "markdown",
      "metadata": {
        "id": "fUnFP3mFh7ev"
      },
      "source": [
        "# Load Dataset"
      ]
    },
    {
      "cell_type": "code",
      "execution_count": 12,
      "metadata": {
        "colab": {
          "base_uri": "https://localhost:8080/"
        },
        "id": "M40uLH5mh7ev",
        "outputId": "bc8edd51-a90e-4f19-e82f-1a44761ce91e"
      },
      "outputs": [
        {
          "output_type": "stream",
          "name": "stdout",
          "text": [
            "Found 432 files belonging to 1 classes.\n",
            "Found 432 files belonging to 1 classes.\n",
            "Found 96 files belonging to 1 classes.\n",
            "Found 96 files belonging to 1 classes.\n",
            "(TensorSpec(shape=(None, 224, 224, 3), dtype=tf.float32, name=None), TensorSpec(shape=(None, 224, 224, 3), dtype=tf.float32, name=None))\n",
            "(TensorSpec(shape=(None, 224, 224, 3), dtype=tf.float32, name=None), TensorSpec(shape=(None, 224, 224, 3), dtype=tf.float32, name=None))\n"
          ]
        }
      ],
      "source": [
        "trainX = load_data_from_dir(os.path.join(DATASET_PATH, TRAIN_DIR, INPUT_DIR))\n",
        "trainY = load_data_from_dir(os.path.join(DATASET_PATH, TRAIN_DIR, TARGET_DIR))\n",
        "testX = load_data_from_dir(os.path.join(DATASET_PATH, TEST_DIR, INPUT_DIR))\n",
        "testY = load_data_from_dir(os.path.join(DATASET_PATH, TEST_DIR, TARGET_DIR))\n",
        "\n",
        "train_ds = tf.data.Dataset.zip((trainX, trainY))\n",
        "test_ds = tf.data.Dataset.zip((testX, testY))\n",
        "\n",
        "print(train_ds.element_spec)\n",
        "print(test_ds.element_spec)"
      ]
    },
    {
      "cell_type": "markdown",
      "metadata": {
        "id": "syHL14qrh7ev"
      },
      "source": [
        "# Normalization"
      ]
    },
    {
      "cell_type": "code",
      "execution_count": 13,
      "metadata": {
        "id": "F3FQHVSih7ew"
      },
      "outputs": [],
      "source": [
        "normalization_layer = tf.keras.layers.Rescaling(1.0 / 255)\n",
        "train_ds = train_ds.map(lambda x, y: (\n",
        "    normalization_layer(x), normalization_layer(y)))\n",
        "test_ds = test_ds.map(lambda x, y: (\n",
        "    normalization_layer(x), normalization_layer(y)))"
      ]
    },
    {
      "cell_type": "markdown",
      "metadata": {
        "id": "_tz4Gni1h7ew"
      },
      "source": [
        "# Optimization"
      ]
    },
    {
      "cell_type": "code",
      "execution_count": 14,
      "metadata": {
        "id": "T0ftWoxzh7ew"
      },
      "outputs": [],
      "source": [
        "AUTOTUNE = tf.data.AUTOTUNE\n",
        "train_batches = train_ds.cache().shuffle(\n",
        "    BUFFER_SIZE).prefetch(buffer_size=AUTOTUNE)\n",
        "test_batches = test_ds.cache().prefetch(buffer_size=AUTOTUNE)"
      ]
    },
    {
      "cell_type": "markdown",
      "metadata": {
        "id": "VizdFzJFh7ew"
      },
      "source": [
        "# Training Config"
      ]
    },
    {
      "cell_type": "code",
      "execution_count": 15,
      "metadata": {
        "id": "KsEiuUyIh7ew"
      },
      "outputs": [],
      "source": [
        "model_path = os.path.join(MODEL_PATH, EXP_NAME)\n",
        "\n",
        "callbacks = [\n",
        "    tf.keras.callbacks.EarlyStopping(\n",
        "        monitor=\"val_loss\", patience=PATIENCE, restore_best_weights=True\n",
        "    ),\n",
        "    tf.keras.callbacks.ModelCheckpoint(\n",
        "        model_path,\n",
        "        monitor=\"val_loss\",\n",
        "        verbose=1,\n",
        "        save_best_only=True,\n",
        "        save_weights_only=True,\n",
        "    ),\n",
        "]\n",
        "\n",
        "optimizer = tf.keras.optimizers.Adam(learning_rate=LEARNING_RATE)\n",
        "\n",
        "# model = UNet(IMG_SIZE)()\n",
        "model = unet_model()\n",
        "\n",
        "model.compile(loss=attention_mse, optimizer=optimizer, metrics=[attention_mae])"
      ]
    },
    {
      "cell_type": "markdown",
      "metadata": {
        "id": "DJN5uRXih7ew"
      },
      "source": [
        "# Load Saved Weights"
      ]
    },
    {
      "cell_type": "code",
      "execution_count": 16,
      "metadata": {
        "id": "ncDyEeavh7ew"
      },
      "outputs": [],
      "source": [
        "# try:\n",
        "#     model.load_weights(model_path)\n",
        "# except:\n",
        "#     print(\"Checkpoint not found\")\n",
        "#     pass"
      ]
    },
    {
      "cell_type": "markdown",
      "metadata": {
        "id": "LNG5F76Dh7ew"
      },
      "source": [
        "# Training"
      ]
    },
    {
      "cell_type": "code",
      "execution_count": 17,
      "metadata": {
        "colab": {
          "base_uri": "https://localhost:8080/"
        },
        "id": "RmJMzj-Yh7ew",
        "outputId": "0b9811e4-a640-447d-b0be-94dafbeea531"
      },
      "outputs": [
        {
          "output_type": "stream",
          "name": "stdout",
          "text": [
            "Epoch 1/300\n",
            "27/27 [==============================] - ETA: 0s - loss: 0.0338 - attention_mae: 0.1361\n",
            "Epoch 1: val_loss improved from inf to 0.02622, saving model to /content/drive/MyDrive/Research/TAVI/Models/Curvature_2_Pressure_MultiViewUNet-MobileNet_DO_0.5\n",
            "27/27 [==============================] - 54s 286ms/step - loss: 0.0338 - attention_mae: 0.1361 - val_loss: 0.0262 - val_attention_mae: 0.1239\n",
            "Epoch 2/300\n",
            "27/27 [==============================] - ETA: 0s - loss: 0.0158 - attention_mae: 0.0890\n",
            "Epoch 2: val_loss improved from 0.02622 to 0.02159, saving model to /content/drive/MyDrive/Research/TAVI/Models/Curvature_2_Pressure_MultiViewUNet-MobileNet_DO_0.5\n",
            "27/27 [==============================] - 3s 95ms/step - loss: 0.0158 - attention_mae: 0.0890 - val_loss: 0.0216 - val_attention_mae: 0.1105\n",
            "Epoch 3/300\n",
            "27/27 [==============================] - ETA: 0s - loss: 0.0120 - attention_mae: 0.0733\n",
            "Epoch 3: val_loss did not improve from 0.02159\n",
            "27/27 [==============================] - 2s 56ms/step - loss: 0.0120 - attention_mae: 0.0733 - val_loss: 0.0252 - val_attention_mae: 0.1204\n",
            "Epoch 4/300\n",
            "26/27 [===========================>..] - ETA: 0s - loss: 0.0111 - attention_mae: 0.0692\n",
            "Epoch 4: val_loss did not improve from 0.02159\n",
            "27/27 [==============================] - 1s 55ms/step - loss: 0.0111 - attention_mae: 0.0690 - val_loss: 0.0243 - val_attention_mae: 0.1190\n",
            "Epoch 5/300\n",
            "27/27 [==============================] - ETA: 0s - loss: 0.0100 - attention_mae: 0.0643\n",
            "Epoch 5: val_loss improved from 0.02159 to 0.02121, saving model to /content/drive/MyDrive/Research/TAVI/Models/Curvature_2_Pressure_MultiViewUNet-MobileNet_DO_0.5\n",
            "27/27 [==============================] - 3s 101ms/step - loss: 0.0100 - attention_mae: 0.0643 - val_loss: 0.0212 - val_attention_mae: 0.1109\n",
            "Epoch 6/300\n",
            "27/27 [==============================] - ETA: 0s - loss: 0.0093 - attention_mae: 0.0613\n",
            "Epoch 6: val_loss did not improve from 0.02121\n",
            "27/27 [==============================] - 2s 65ms/step - loss: 0.0093 - attention_mae: 0.0613 - val_loss: 0.0373 - val_attention_mae: 0.1539\n",
            "Epoch 7/300\n",
            "27/27 [==============================] - ETA: 0s - loss: 0.0086 - attention_mae: 0.0572\n",
            "Epoch 7: val_loss did not improve from 0.02121\n",
            "27/27 [==============================] - 2s 65ms/step - loss: 0.0086 - attention_mae: 0.0572 - val_loss: 0.0326 - val_attention_mae: 0.1429\n",
            "Epoch 8/300\n",
            "27/27 [==============================] - ETA: 0s - loss: 0.0079 - attention_mae: 0.0536\n",
            "Epoch 8: val_loss did not improve from 0.02121\n",
            "27/27 [==============================] - 2s 59ms/step - loss: 0.0079 - attention_mae: 0.0536 - val_loss: 0.0276 - val_attention_mae: 0.1323\n",
            "Epoch 9/300\n",
            "27/27 [==============================] - ETA: 0s - loss: 0.0075 - attention_mae: 0.0515\n",
            "Epoch 9: val_loss did not improve from 0.02121\n",
            "27/27 [==============================] - 2s 59ms/step - loss: 0.0075 - attention_mae: 0.0515 - val_loss: 0.0326 - val_attention_mae: 0.1455\n",
            "Epoch 10/300\n",
            "27/27 [==============================] - ETA: 0s - loss: 0.0072 - attention_mae: 0.0498\n",
            "Epoch 10: val_loss did not improve from 0.02121\n",
            "27/27 [==============================] - 1s 56ms/step - loss: 0.0072 - attention_mae: 0.0498 - val_loss: 0.0307 - val_attention_mae: 0.1403\n",
            "Epoch 11/300\n",
            "27/27 [==============================] - ETA: 0s - loss: 0.0071 - attention_mae: 0.0491\n",
            "Epoch 11: val_loss did not improve from 0.02121\n",
            "27/27 [==============================] - 1s 55ms/step - loss: 0.0071 - attention_mae: 0.0491 - val_loss: 0.0365 - val_attention_mae: 0.1547\n",
            "Epoch 12/300\n",
            "27/27 [==============================] - ETA: 0s - loss: 0.0067 - attention_mae: 0.0473\n",
            "Epoch 12: val_loss did not improve from 0.02121\n",
            "27/27 [==============================] - 1s 54ms/step - loss: 0.0067 - attention_mae: 0.0473 - val_loss: 0.0348 - val_attention_mae: 0.1510\n",
            "Epoch 13/300\n",
            "27/27 [==============================] - ETA: 0s - loss: 0.0065 - attention_mae: 0.0453\n",
            "Epoch 13: val_loss did not improve from 0.02121\n",
            "27/27 [==============================] - 2s 56ms/step - loss: 0.0065 - attention_mae: 0.0453 - val_loss: 0.0331 - val_attention_mae: 0.1465\n",
            "Epoch 14/300\n",
            "27/27 [==============================] - ETA: 0s - loss: 0.0064 - attention_mae: 0.0450\n",
            "Epoch 14: val_loss did not improve from 0.02121\n",
            "27/27 [==============================] - 2s 61ms/step - loss: 0.0064 - attention_mae: 0.0450 - val_loss: 0.0262 - val_attention_mae: 0.1286\n",
            "Epoch 15/300\n",
            "27/27 [==============================] - ETA: 0s - loss: 0.0061 - attention_mae: 0.0432\n",
            "Epoch 15: val_loss did not improve from 0.02121\n",
            "27/27 [==============================] - 2s 64ms/step - loss: 0.0061 - attention_mae: 0.0432 - val_loss: 0.0323 - val_attention_mae: 0.1443\n",
            "Epoch 16/300\n",
            "27/27 [==============================] - ETA: 0s - loss: 0.0060 - attention_mae: 0.0426\n",
            "Epoch 16: val_loss did not improve from 0.02121\n",
            "27/27 [==============================] - 2s 61ms/step - loss: 0.0060 - attention_mae: 0.0426 - val_loss: 0.0328 - val_attention_mae: 0.1450\n",
            "Epoch 17/300\n",
            "27/27 [==============================] - ETA: 0s - loss: 0.0059 - attention_mae: 0.0419\n",
            "Epoch 17: val_loss did not improve from 0.02121\n",
            "27/27 [==============================] - 2s 56ms/step - loss: 0.0059 - attention_mae: 0.0419 - val_loss: 0.0259 - val_attention_mae: 0.1267\n",
            "Epoch 18/300\n",
            "27/27 [==============================] - ETA: 0s - loss: 0.0057 - attention_mae: 0.0409\n",
            "Epoch 18: val_loss did not improve from 0.02121\n",
            "27/27 [==============================] - 1s 55ms/step - loss: 0.0057 - attention_mae: 0.0409 - val_loss: 0.0284 - val_attention_mae: 0.1329\n",
            "Epoch 19/300\n",
            "26/27 [===========================>..] - ETA: 0s - loss: 0.0056 - attention_mae: 0.0404\n",
            "Epoch 19: val_loss did not improve from 0.02121\n",
            "27/27 [==============================] - 1s 56ms/step - loss: 0.0056 - attention_mae: 0.0402 - val_loss: 0.0260 - val_attention_mae: 0.1263\n",
            "Epoch 20/300\n",
            "27/27 [==============================] - ETA: 0s - loss: 0.0054 - attention_mae: 0.0392\n",
            "Epoch 20: val_loss did not improve from 0.02121\n",
            "27/27 [==============================] - 1s 55ms/step - loss: 0.0054 - attention_mae: 0.0392 - val_loss: 0.0275 - val_attention_mae: 0.1315\n",
            "Epoch 21/300\n",
            "26/27 [===========================>..] - ETA: 0s - loss: 0.0053 - attention_mae: 0.0390\n",
            "Epoch 21: val_loss did not improve from 0.02121\n",
            "27/27 [==============================] - 1s 54ms/step - loss: 0.0053 - attention_mae: 0.0389 - val_loss: 0.0246 - val_attention_mae: 0.1219\n",
            "Epoch 22/300\n",
            "27/27 [==============================] - ETA: 0s - loss: 0.0052 - attention_mae: 0.0383\n",
            "Epoch 22: val_loss did not improve from 0.02121\n",
            "27/27 [==============================] - 2s 61ms/step - loss: 0.0052 - attention_mae: 0.0383 - val_loss: 0.0226 - val_attention_mae: 0.1144\n",
            "Epoch 23/300\n",
            "27/27 [==============================] - ETA: 0s - loss: 0.0051 - attention_mae: 0.0380\n",
            "Epoch 23: val_loss did not improve from 0.02121\n",
            "27/27 [==============================] - 2s 64ms/step - loss: 0.0051 - attention_mae: 0.0380 - val_loss: 0.0230 - val_attention_mae: 0.1163\n",
            "Epoch 24/300\n",
            "27/27 [==============================] - ETA: 0s - loss: 0.0050 - attention_mae: 0.0374\n",
            "Epoch 24: val_loss did not improve from 0.02121\n",
            "27/27 [==============================] - 2s 65ms/step - loss: 0.0050 - attention_mae: 0.0374 - val_loss: 0.0220 - val_attention_mae: 0.1123\n",
            "Epoch 25/300\n",
            "27/27 [==============================] - ETA: 0s - loss: 0.0049 - attention_mae: 0.0370\n",
            "Epoch 25: val_loss did not improve from 0.02121\n",
            "27/27 [==============================] - 1s 56ms/step - loss: 0.0049 - attention_mae: 0.0370 - val_loss: 0.0222 - val_attention_mae: 0.1124\n",
            "Epoch 26/300\n",
            "27/27 [==============================] - ETA: 0s - loss: 0.0048 - attention_mae: 0.0364\n",
            "Epoch 26: val_loss did not improve from 0.02121\n",
            "27/27 [==============================] - 1s 55ms/step - loss: 0.0048 - attention_mae: 0.0364 - val_loss: 0.0218 - val_attention_mae: 0.1114\n",
            "Epoch 27/300\n",
            "27/27 [==============================] - ETA: 0s - loss: 0.0047 - attention_mae: 0.0357\n",
            "Epoch 27: val_loss improved from 0.02121 to 0.01973, saving model to /content/drive/MyDrive/Research/TAVI/Models/Curvature_2_Pressure_MultiViewUNet-MobileNet_DO_0.5\n",
            "27/27 [==============================] - 3s 112ms/step - loss: 0.0047 - attention_mae: 0.0357 - val_loss: 0.0197 - val_attention_mae: 0.1032\n",
            "Epoch 28/300\n",
            "27/27 [==============================] - ETA: 0s - loss: 0.0046 - attention_mae: 0.0351\n",
            "Epoch 28: val_loss improved from 0.01973 to 0.01928, saving model to /content/drive/MyDrive/Research/TAVI/Models/Curvature_2_Pressure_MultiViewUNet-MobileNet_DO_0.5\n",
            "27/27 [==============================] - 3s 108ms/step - loss: 0.0046 - attention_mae: 0.0351 - val_loss: 0.0193 - val_attention_mae: 0.1012\n",
            "Epoch 29/300\n",
            "27/27 [==============================] - ETA: 0s - loss: 0.0045 - attention_mae: 0.0348\n",
            "Epoch 29: val_loss improved from 0.01928 to 0.01755, saving model to /content/drive/MyDrive/Research/TAVI/Models/Curvature_2_Pressure_MultiViewUNet-MobileNet_DO_0.5\n",
            "27/27 [==============================] - 3s 124ms/step - loss: 0.0045 - attention_mae: 0.0348 - val_loss: 0.0176 - val_attention_mae: 0.0951\n",
            "Epoch 30/300\n",
            "27/27 [==============================] - ETA: 0s - loss: 0.0044 - attention_mae: 0.0343\n",
            "Epoch 30: val_loss did not improve from 0.01755\n",
            "27/27 [==============================] - 2s 61ms/step - loss: 0.0044 - attention_mae: 0.0343 - val_loss: 0.0185 - val_attention_mae: 0.0974\n",
            "Epoch 31/300\n",
            "27/27 [==============================] - ETA: 0s - loss: 0.0043 - attention_mae: 0.0342\n",
            "Epoch 31: val_loss improved from 0.01755 to 0.01647, saving model to /content/drive/MyDrive/Research/TAVI/Models/Curvature_2_Pressure_MultiViewUNet-MobileNet_DO_0.5\n",
            "27/27 [==============================] - 2s 92ms/step - loss: 0.0043 - attention_mae: 0.0342 - val_loss: 0.0165 - val_attention_mae: 0.0896\n",
            "Epoch 32/300\n",
            "27/27 [==============================] - ETA: 0s - loss: 0.0042 - attention_mae: 0.0337\n",
            "Epoch 32: val_loss did not improve from 0.01647\n",
            "27/27 [==============================] - 2s 56ms/step - loss: 0.0042 - attention_mae: 0.0337 - val_loss: 0.0179 - val_attention_mae: 0.0945\n",
            "Epoch 33/300\n",
            "27/27 [==============================] - ETA: 0s - loss: 0.0041 - attention_mae: 0.0333\n",
            "Epoch 33: val_loss improved from 0.01647 to 0.01644, saving model to /content/drive/MyDrive/Research/TAVI/Models/Curvature_2_Pressure_MultiViewUNet-MobileNet_DO_0.5\n",
            "27/27 [==============================] - 3s 102ms/step - loss: 0.0041 - attention_mae: 0.0333 - val_loss: 0.0164 - val_attention_mae: 0.0887\n",
            "Epoch 34/300\n",
            "27/27 [==============================] - ETA: 0s - loss: 0.0041 - attention_mae: 0.0333\n",
            "Epoch 34: val_loss did not improve from 0.01644\n",
            "27/27 [==============================] - 2s 64ms/step - loss: 0.0041 - attention_mae: 0.0333 - val_loss: 0.0170 - val_attention_mae: 0.0898\n",
            "Epoch 35/300\n",
            "27/27 [==============================] - ETA: 0s - loss: 0.0041 - attention_mae: 0.0332\n",
            "Epoch 35: val_loss did not improve from 0.01644\n",
            "27/27 [==============================] - 2s 62ms/step - loss: 0.0041 - attention_mae: 0.0332 - val_loss: 0.0170 - val_attention_mae: 0.0896\n",
            "Epoch 36/300\n",
            "27/27 [==============================] - ETA: 0s - loss: 0.0039 - attention_mae: 0.0322\n",
            "Epoch 36: val_loss improved from 0.01644 to 0.01450, saving model to /content/drive/MyDrive/Research/TAVI/Models/Curvature_2_Pressure_MultiViewUNet-MobileNet_DO_0.5\n",
            "27/27 [==============================] - 3s 97ms/step - loss: 0.0039 - attention_mae: 0.0322 - val_loss: 0.0145 - val_attention_mae: 0.0802\n",
            "Epoch 37/300\n",
            "27/27 [==============================] - ETA: 0s - loss: 0.0038 - attention_mae: 0.0318\n",
            "Epoch 37: val_loss improved from 0.01450 to 0.01428, saving model to /content/drive/MyDrive/Research/TAVI/Models/Curvature_2_Pressure_MultiViewUNet-MobileNet_DO_0.5\n",
            "27/27 [==============================] - 3s 95ms/step - loss: 0.0038 - attention_mae: 0.0318 - val_loss: 0.0143 - val_attention_mae: 0.0788\n",
            "Epoch 38/300\n",
            "27/27 [==============================] - ETA: 0s - loss: 0.0038 - attention_mae: 0.0315\n",
            "Epoch 38: val_loss improved from 0.01428 to 0.01368, saving model to /content/drive/MyDrive/Research/TAVI/Models/Curvature_2_Pressure_MultiViewUNet-MobileNet_DO_0.5\n",
            "27/27 [==============================] - 3s 100ms/step - loss: 0.0038 - attention_mae: 0.0315 - val_loss: 0.0137 - val_attention_mae: 0.0750\n",
            "Epoch 39/300\n",
            "27/27 [==============================] - ETA: 0s - loss: 0.0036 - attention_mae: 0.0309\n",
            "Epoch 39: val_loss did not improve from 0.01368\n",
            "27/27 [==============================] - 1s 56ms/step - loss: 0.0036 - attention_mae: 0.0309 - val_loss: 0.0138 - val_attention_mae: 0.0754\n",
            "Epoch 40/300\n",
            "27/27 [==============================] - ETA: 0s - loss: 0.0036 - attention_mae: 0.0305\n",
            "Epoch 40: val_loss did not improve from 0.01368\n",
            "27/27 [==============================] - 2s 59ms/step - loss: 0.0036 - attention_mae: 0.0305 - val_loss: 0.0138 - val_attention_mae: 0.0757\n",
            "Epoch 41/300\n",
            "27/27 [==============================] - ETA: 0s - loss: 0.0035 - attention_mae: 0.0302\n",
            "Epoch 41: val_loss improved from 0.01368 to 0.01326, saving model to /content/drive/MyDrive/Research/TAVI/Models/Curvature_2_Pressure_MultiViewUNet-MobileNet_DO_0.5\n",
            "27/27 [==============================] - 3s 114ms/step - loss: 0.0035 - attention_mae: 0.0302 - val_loss: 0.0133 - val_attention_mae: 0.0732\n",
            "Epoch 42/300\n",
            "27/27 [==============================] - ETA: 0s - loss: 0.0034 - attention_mae: 0.0298\n",
            "Epoch 42: val_loss improved from 0.01326 to 0.01325, saving model to /content/drive/MyDrive/Research/TAVI/Models/Curvature_2_Pressure_MultiViewUNet-MobileNet_DO_0.5\n",
            "27/27 [==============================] - 4s 134ms/step - loss: 0.0034 - attention_mae: 0.0298 - val_loss: 0.0133 - val_attention_mae: 0.0736\n",
            "Epoch 43/300\n",
            "27/27 [==============================] - ETA: 0s - loss: 0.0033 - attention_mae: 0.0296\n",
            "Epoch 43: val_loss improved from 0.01325 to 0.01322, saving model to /content/drive/MyDrive/Research/TAVI/Models/Curvature_2_Pressure_MultiViewUNet-MobileNet_DO_0.5\n",
            "27/27 [==============================] - 4s 140ms/step - loss: 0.0033 - attention_mae: 0.0296 - val_loss: 0.0132 - val_attention_mae: 0.0725\n",
            "Epoch 44/300\n",
            "27/27 [==============================] - ETA: 0s - loss: 0.0033 - attention_mae: 0.0293\n",
            "Epoch 44: val_loss improved from 0.01322 to 0.01287, saving model to /content/drive/MyDrive/Research/TAVI/Models/Curvature_2_Pressure_MultiViewUNet-MobileNet_DO_0.5\n",
            "27/27 [==============================] - 5s 185ms/step - loss: 0.0033 - attention_mae: 0.0293 - val_loss: 0.0129 - val_attention_mae: 0.0711\n",
            "Epoch 45/300\n",
            "27/27 [==============================] - ETA: 0s - loss: 0.0033 - attention_mae: 0.0296\n",
            "Epoch 45: val_loss did not improve from 0.01287\n",
            "27/27 [==============================] - 4s 131ms/step - loss: 0.0033 - attention_mae: 0.0296 - val_loss: 0.0129 - val_attention_mae: 0.0720\n",
            "Epoch 46/300\n",
            "27/27 [==============================] - ETA: 0s - loss: 0.0032 - attention_mae: 0.0292\n",
            "Epoch 46: val_loss did not improve from 0.01287\n",
            "27/27 [==============================] - 2s 81ms/step - loss: 0.0032 - attention_mae: 0.0292 - val_loss: 0.0130 - val_attention_mae: 0.0694\n",
            "Epoch 47/300\n",
            "27/27 [==============================] - ETA: 0s - loss: 0.0031 - attention_mae: 0.0286\n",
            "Epoch 47: val_loss improved from 0.01287 to 0.01255, saving model to /content/drive/MyDrive/Research/TAVI/Models/Curvature_2_Pressure_MultiViewUNet-MobileNet_DO_0.5\n",
            "27/27 [==============================] - 2s 92ms/step - loss: 0.0031 - attention_mae: 0.0286 - val_loss: 0.0125 - val_attention_mae: 0.0686\n",
            "Epoch 48/300\n",
            "27/27 [==============================] - ETA: 0s - loss: 0.0030 - attention_mae: 0.0279\n",
            "Epoch 48: val_loss improved from 0.01255 to 0.01152, saving model to /content/drive/MyDrive/Research/TAVI/Models/Curvature_2_Pressure_MultiViewUNet-MobileNet_DO_0.5\n",
            "27/27 [==============================] - 3s 101ms/step - loss: 0.0030 - attention_mae: 0.0279 - val_loss: 0.0115 - val_attention_mae: 0.0637\n",
            "Epoch 49/300\n",
            "27/27 [==============================] - ETA: 0s - loss: 0.0031 - attention_mae: 0.0285\n",
            "Epoch 49: val_loss did not improve from 0.01152\n",
            "27/27 [==============================] - 2s 56ms/step - loss: 0.0031 - attention_mae: 0.0285 - val_loss: 0.0121 - val_attention_mae: 0.0661\n",
            "Epoch 50/300\n",
            "27/27 [==============================] - ETA: 0s - loss: 0.0030 - attention_mae: 0.0279\n",
            "Epoch 50: val_loss did not improve from 0.01152\n",
            "27/27 [==============================] - 2s 57ms/step - loss: 0.0030 - attention_mae: 0.0279 - val_loss: 0.0118 - val_attention_mae: 0.0644\n",
            "Epoch 51/300\n",
            "27/27 [==============================] - ETA: 0s - loss: 0.0030 - attention_mae: 0.0281\n",
            "Epoch 51: val_loss did not improve from 0.01152\n",
            "27/27 [==============================] - 2s 65ms/step - loss: 0.0030 - attention_mae: 0.0281 - val_loss: 0.0117 - val_attention_mae: 0.0648\n",
            "Epoch 52/300\n",
            "27/27 [==============================] - ETA: 0s - loss: 0.0029 - attention_mae: 0.0275\n",
            "Epoch 52: val_loss improved from 0.01152 to 0.01087, saving model to /content/drive/MyDrive/Research/TAVI/Models/Curvature_2_Pressure_MultiViewUNet-MobileNet_DO_0.5\n",
            "27/27 [==============================] - 3s 123ms/step - loss: 0.0029 - attention_mae: 0.0275 - val_loss: 0.0109 - val_attention_mae: 0.0609\n",
            "Epoch 53/300\n",
            "27/27 [==============================] - ETA: 0s - loss: 0.0028 - attention_mae: 0.0275\n",
            "Epoch 53: val_loss did not improve from 0.01087\n",
            "27/27 [==============================] - 2s 57ms/step - loss: 0.0028 - attention_mae: 0.0275 - val_loss: 0.0113 - val_attention_mae: 0.0630\n",
            "Epoch 54/300\n",
            "27/27 [==============================] - ETA: 0s - loss: 0.0028 - attention_mae: 0.0278\n",
            "Epoch 54: val_loss did not improve from 0.01087\n",
            "27/27 [==============================] - 2s 57ms/step - loss: 0.0028 - attention_mae: 0.0278 - val_loss: 0.0113 - val_attention_mae: 0.0625\n",
            "Epoch 55/300\n",
            "27/27 [==============================] - ETA: 0s - loss: 0.0028 - attention_mae: 0.0272\n",
            "Epoch 55: val_loss did not improve from 0.01087\n",
            "27/27 [==============================] - 2s 57ms/step - loss: 0.0028 - attention_mae: 0.0272 - val_loss: 0.0114 - val_attention_mae: 0.0621\n",
            "Epoch 56/300\n",
            "27/27 [==============================] - ETA: 0s - loss: 0.0028 - attention_mae: 0.0270\n",
            "Epoch 56: val_loss did not improve from 0.01087\n",
            "27/27 [==============================] - 2s 57ms/step - loss: 0.0028 - attention_mae: 0.0270 - val_loss: 0.0110 - val_attention_mae: 0.0618\n",
            "Epoch 57/300\n",
            "27/27 [==============================] - ETA: 0s - loss: 0.0026 - attention_mae: 0.0264\n",
            "Epoch 57: val_loss did not improve from 0.01087\n",
            "27/27 [==============================] - 2s 58ms/step - loss: 0.0026 - attention_mae: 0.0264 - val_loss: 0.0114 - val_attention_mae: 0.0630\n",
            "Epoch 58/300\n",
            "27/27 [==============================] - ETA: 0s - loss: 0.0026 - attention_mae: 0.0266\n",
            "Epoch 58: val_loss did not improve from 0.01087\n",
            "27/27 [==============================] - 2s 67ms/step - loss: 0.0026 - attention_mae: 0.0266 - val_loss: 0.0115 - val_attention_mae: 0.0632\n",
            "Epoch 59/300\n",
            "27/27 [==============================] - ETA: 0s - loss: 0.0025 - attention_mae: 0.0262\n",
            "Epoch 59: val_loss did not improve from 0.01087\n",
            "27/27 [==============================] - 2s 65ms/step - loss: 0.0025 - attention_mae: 0.0262 - val_loss: 0.0109 - val_attention_mae: 0.0609\n",
            "Epoch 60/300\n",
            "27/27 [==============================] - ETA: 0s - loss: 0.0025 - attention_mae: 0.0257\n",
            "Epoch 60: val_loss improved from 0.01087 to 0.01074, saving model to /content/drive/MyDrive/Research/TAVI/Models/Curvature_2_Pressure_MultiViewUNet-MobileNet_DO_0.5\n",
            "27/27 [==============================] - 3s 113ms/step - loss: 0.0025 - attention_mae: 0.0257 - val_loss: 0.0107 - val_attention_mae: 0.0599\n",
            "Epoch 61/300\n",
            "27/27 [==============================] - ETA: 0s - loss: 0.0024 - attention_mae: 0.0251\n",
            "Epoch 61: val_loss improved from 0.01074 to 0.01063, saving model to /content/drive/MyDrive/Research/TAVI/Models/Curvature_2_Pressure_MultiViewUNet-MobileNet_DO_0.5\n",
            "27/27 [==============================] - 3s 104ms/step - loss: 0.0024 - attention_mae: 0.0251 - val_loss: 0.0106 - val_attention_mae: 0.0599\n",
            "Epoch 62/300\n",
            "27/27 [==============================] - ETA: 0s - loss: 0.0024 - attention_mae: 0.0249\n",
            "Epoch 62: val_loss improved from 0.01063 to 0.01047, saving model to /content/drive/MyDrive/Research/TAVI/Models/Curvature_2_Pressure_MultiViewUNet-MobileNet_DO_0.5\n",
            "27/27 [==============================] - 2s 92ms/step - loss: 0.0024 - attention_mae: 0.0249 - val_loss: 0.0105 - val_attention_mae: 0.0594\n",
            "Epoch 63/300\n",
            "27/27 [==============================] - ETA: 0s - loss: 0.0023 - attention_mae: 0.0246\n",
            "Epoch 63: val_loss did not improve from 0.01047\n",
            "27/27 [==============================] - 2s 57ms/step - loss: 0.0023 - attention_mae: 0.0246 - val_loss: 0.0107 - val_attention_mae: 0.0603\n",
            "Epoch 64/300\n",
            "27/27 [==============================] - ETA: 0s - loss: 0.0022 - attention_mae: 0.0242\n",
            "Epoch 64: val_loss improved from 0.01047 to 0.01042, saving model to /content/drive/MyDrive/Research/TAVI/Models/Curvature_2_Pressure_MultiViewUNet-MobileNet_DO_0.5\n",
            "27/27 [==============================] - 2s 93ms/step - loss: 0.0022 - attention_mae: 0.0242 - val_loss: 0.0104 - val_attention_mae: 0.0591\n",
            "Epoch 65/300\n",
            "27/27 [==============================] - ETA: 0s - loss: 0.0023 - attention_mae: 0.0247\n",
            "Epoch 65: val_loss did not improve from 0.01042\n",
            "27/27 [==============================] - 2s 63ms/step - loss: 0.0023 - attention_mae: 0.0247 - val_loss: 0.0106 - val_attention_mae: 0.0591\n",
            "Epoch 66/300\n",
            "27/27 [==============================] - ETA: 0s - loss: 0.0022 - attention_mae: 0.0244\n",
            "Epoch 66: val_loss improved from 0.01042 to 0.01036, saving model to /content/drive/MyDrive/Research/TAVI/Models/Curvature_2_Pressure_MultiViewUNet-MobileNet_DO_0.5\n",
            "27/27 [==============================] - 3s 123ms/step - loss: 0.0022 - attention_mae: 0.0244 - val_loss: 0.0104 - val_attention_mae: 0.0599\n",
            "Epoch 67/300\n",
            "27/27 [==============================] - ETA: 0s - loss: 0.0022 - attention_mae: 0.0243\n",
            "Epoch 67: val_loss did not improve from 0.01036\n",
            "27/27 [==============================] - 2s 62ms/step - loss: 0.0022 - attention_mae: 0.0243 - val_loss: 0.0108 - val_attention_mae: 0.0609\n",
            "Epoch 68/300\n",
            "27/27 [==============================] - ETA: 0s - loss: 0.0022 - attention_mae: 0.0238\n",
            "Epoch 68: val_loss improved from 0.01036 to 0.01028, saving model to /content/drive/MyDrive/Research/TAVI/Models/Curvature_2_Pressure_MultiViewUNet-MobileNet_DO_0.5\n",
            "27/27 [==============================] - 3s 98ms/step - loss: 0.0022 - attention_mae: 0.0238 - val_loss: 0.0103 - val_attention_mae: 0.0591\n",
            "Epoch 69/300\n",
            "27/27 [==============================] - ETA: 0s - loss: 0.0021 - attention_mae: 0.0234\n",
            "Epoch 69: val_loss did not improve from 0.01028\n",
            "27/27 [==============================] - 2s 57ms/step - loss: 0.0021 - attention_mae: 0.0234 - val_loss: 0.0104 - val_attention_mae: 0.0593\n",
            "Epoch 70/300\n",
            "27/27 [==============================] - ETA: 0s - loss: 0.0020 - attention_mae: 0.0231\n",
            "Epoch 70: val_loss did not improve from 0.01028\n",
            "27/27 [==============================] - 2s 57ms/step - loss: 0.0020 - attention_mae: 0.0231 - val_loss: 0.0104 - val_attention_mae: 0.0596\n",
            "Epoch 71/300\n",
            "27/27 [==============================] - ETA: 0s - loss: 0.0020 - attention_mae: 0.0236\n",
            "Epoch 71: val_loss did not improve from 0.01028\n",
            "27/27 [==============================] - 2s 64ms/step - loss: 0.0020 - attention_mae: 0.0236 - val_loss: 0.0107 - val_attention_mae: 0.0598\n",
            "Epoch 72/300\n",
            "27/27 [==============================] - ETA: 0s - loss: 0.0020 - attention_mae: 0.0234\n",
            "Epoch 72: val_loss improved from 0.01028 to 0.01012, saving model to /content/drive/MyDrive/Research/TAVI/Models/Curvature_2_Pressure_MultiViewUNet-MobileNet_DO_0.5\n",
            "27/27 [==============================] - 3s 126ms/step - loss: 0.0020 - attention_mae: 0.0234 - val_loss: 0.0101 - val_attention_mae: 0.0582\n",
            "Epoch 73/300\n",
            "27/27 [==============================] - ETA: 0s - loss: 0.0020 - attention_mae: 0.0233\n",
            "Epoch 73: val_loss did not improve from 0.01012\n",
            "27/27 [==============================] - 2s 59ms/step - loss: 0.0020 - attention_mae: 0.0233 - val_loss: 0.0103 - val_attention_mae: 0.0591\n",
            "Epoch 74/300\n",
            "27/27 [==============================] - ETA: 0s - loss: 0.0020 - attention_mae: 0.0230\n",
            "Epoch 74: val_loss did not improve from 0.01012\n",
            "27/27 [==============================] - 2s 57ms/step - loss: 0.0020 - attention_mae: 0.0230 - val_loss: 0.0103 - val_attention_mae: 0.0591\n",
            "Epoch 75/300\n",
            "27/27 [==============================] - ETA: 0s - loss: 0.0020 - attention_mae: 0.0227\n",
            "Epoch 75: val_loss did not improve from 0.01012\n",
            "27/27 [==============================] - 2s 56ms/step - loss: 0.0020 - attention_mae: 0.0227 - val_loss: 0.0103 - val_attention_mae: 0.0594\n",
            "Epoch 76/300\n",
            "27/27 [==============================] - ETA: 0s - loss: 0.0019 - attention_mae: 0.0226\n",
            "Epoch 76: val_loss improved from 0.01012 to 0.01003, saving model to /content/drive/MyDrive/Research/TAVI/Models/Curvature_2_Pressure_MultiViewUNet-MobileNet_DO_0.5\n",
            "27/27 [==============================] - 2s 91ms/step - loss: 0.0019 - attention_mae: 0.0226 - val_loss: 0.0100 - val_attention_mae: 0.0576\n",
            "Epoch 77/300\n",
            "27/27 [==============================] - ETA: 0s - loss: 0.0019 - attention_mae: 0.0222\n",
            "Epoch 77: val_loss did not improve from 0.01003\n",
            "27/27 [==============================] - 2s 56ms/step - loss: 0.0019 - attention_mae: 0.0222 - val_loss: 0.0102 - val_attention_mae: 0.0585\n",
            "Epoch 78/300\n",
            "27/27 [==============================] - ETA: 0s - loss: 0.0019 - attention_mae: 0.0224\n",
            "Epoch 78: val_loss did not improve from 0.01003\n",
            "27/27 [==============================] - 2s 57ms/step - loss: 0.0019 - attention_mae: 0.0224 - val_loss: 0.0101 - val_attention_mae: 0.0581\n",
            "Epoch 79/300\n",
            "27/27 [==============================] - ETA: 0s - loss: 0.0019 - attention_mae: 0.0225\n",
            "Epoch 79: val_loss did not improve from 0.01003\n",
            "27/27 [==============================] - 2s 65ms/step - loss: 0.0019 - attention_mae: 0.0225 - val_loss: 0.0101 - val_attention_mae: 0.0574\n",
            "Epoch 80/300\n",
            "27/27 [==============================] - ETA: 0s - loss: 0.0018 - attention_mae: 0.0224\n",
            "Epoch 80: val_loss did not improve from 0.01003\n",
            "27/27 [==============================] - 2s 66ms/step - loss: 0.0018 - attention_mae: 0.0224 - val_loss: 0.0101 - val_attention_mae: 0.0580\n",
            "Epoch 81/300\n",
            "27/27 [==============================] - ETA: 0s - loss: 0.0019 - attention_mae: 0.0224\n",
            "Epoch 81: val_loss did not improve from 0.01003\n",
            "27/27 [==============================] - 2s 65ms/step - loss: 0.0019 - attention_mae: 0.0224 - val_loss: 0.0102 - val_attention_mae: 0.0571\n",
            "Epoch 82/300\n",
            "27/27 [==============================] - ETA: 0s - loss: 0.0018 - attention_mae: 0.0219\n",
            "Epoch 82: val_loss improved from 0.01003 to 0.00989, saving model to /content/drive/MyDrive/Research/TAVI/Models/Curvature_2_Pressure_MultiViewUNet-MobileNet_DO_0.5\n",
            "27/27 [==============================] - 3s 103ms/step - loss: 0.0018 - attention_mae: 0.0219 - val_loss: 0.0099 - val_attention_mae: 0.0562\n",
            "Epoch 83/300\n",
            "27/27 [==============================] - ETA: 0s - loss: 0.0018 - attention_mae: 0.0216\n",
            "Epoch 83: val_loss did not improve from 0.00989\n",
            "27/27 [==============================] - 2s 57ms/step - loss: 0.0018 - attention_mae: 0.0216 - val_loss: 0.0099 - val_attention_mae: 0.0563\n",
            "Epoch 84/300\n",
            "27/27 [==============================] - ETA: 0s - loss: 0.0017 - attention_mae: 0.0217\n",
            "Epoch 84: val_loss improved from 0.00989 to 0.00977, saving model to /content/drive/MyDrive/Research/TAVI/Models/Curvature_2_Pressure_MultiViewUNet-MobileNet_DO_0.5\n",
            "27/27 [==============================] - 3s 99ms/step - loss: 0.0017 - attention_mae: 0.0217 - val_loss: 0.0098 - val_attention_mae: 0.0561\n",
            "Epoch 85/300\n",
            "27/27 [==============================] - ETA: 0s - loss: 0.0017 - attention_mae: 0.0216\n",
            "Epoch 85: val_loss improved from 0.00977 to 0.00971, saving model to /content/drive/MyDrive/Research/TAVI/Models/Curvature_2_Pressure_MultiViewUNet-MobileNet_DO_0.5\n",
            "27/27 [==============================] - 3s 95ms/step - loss: 0.0017 - attention_mae: 0.0216 - val_loss: 0.0097 - val_attention_mae: 0.0552\n",
            "Epoch 86/300\n",
            "27/27 [==============================] - ETA: 0s - loss: 0.0017 - attention_mae: 0.0213\n",
            "Epoch 86: val_loss improved from 0.00971 to 0.00955, saving model to /content/drive/MyDrive/Research/TAVI/Models/Curvature_2_Pressure_MultiViewUNet-MobileNet_DO_0.5\n",
            "27/27 [==============================] - 3s 115ms/step - loss: 0.0017 - attention_mae: 0.0213 - val_loss: 0.0095 - val_attention_mae: 0.0544\n",
            "Epoch 87/300\n",
            "27/27 [==============================] - ETA: 0s - loss: 0.0016 - attention_mae: 0.0209\n",
            "Epoch 87: val_loss did not improve from 0.00955\n",
            "27/27 [==============================] - 2s 57ms/step - loss: 0.0016 - attention_mae: 0.0209 - val_loss: 0.0097 - val_attention_mae: 0.0545\n",
            "Epoch 88/300\n",
            "27/27 [==============================] - ETA: 0s - loss: 0.0016 - attention_mae: 0.0207\n",
            "Epoch 88: val_loss improved from 0.00955 to 0.00944, saving model to /content/drive/MyDrive/Research/TAVI/Models/Curvature_2_Pressure_MultiViewUNet-MobileNet_DO_0.5\n",
            "27/27 [==============================] - 2s 92ms/step - loss: 0.0016 - attention_mae: 0.0207 - val_loss: 0.0094 - val_attention_mae: 0.0534\n",
            "Epoch 89/300\n",
            "27/27 [==============================] - ETA: 0s - loss: 0.0016 - attention_mae: 0.0211\n",
            "Epoch 89: val_loss did not improve from 0.00944\n",
            "27/27 [==============================] - 2s 58ms/step - loss: 0.0016 - attention_mae: 0.0211 - val_loss: 0.0096 - val_attention_mae: 0.0548\n",
            "Epoch 90/300\n",
            "27/27 [==============================] - ETA: 0s - loss: 0.0016 - attention_mae: 0.0210\n",
            "Epoch 90: val_loss did not improve from 0.00944\n",
            "27/27 [==============================] - 2s 58ms/step - loss: 0.0016 - attention_mae: 0.0210 - val_loss: 0.0097 - val_attention_mae: 0.0546\n",
            "Epoch 91/300\n",
            "27/27 [==============================] - ETA: 0s - loss: 0.0016 - attention_mae: 0.0209\n",
            "Epoch 91: val_loss did not improve from 0.00944\n",
            "27/27 [==============================] - 2s 59ms/step - loss: 0.0016 - attention_mae: 0.0209 - val_loss: 0.0096 - val_attention_mae: 0.0542\n",
            "Epoch 92/300\n",
            "27/27 [==============================] - ETA: 0s - loss: 0.0016 - attention_mae: 0.0210\n",
            "Epoch 92: val_loss did not improve from 0.00944\n",
            "27/27 [==============================] - 2s 62ms/step - loss: 0.0016 - attention_mae: 0.0210 - val_loss: 0.0096 - val_attention_mae: 0.0539\n",
            "Epoch 93/300\n",
            "27/27 [==============================] - ETA: 0s - loss: 0.0016 - attention_mae: 0.0209\n",
            "Epoch 93: val_loss did not improve from 0.00944\n",
            "27/27 [==============================] - 2s 62ms/step - loss: 0.0016 - attention_mae: 0.0209 - val_loss: 0.0097 - val_attention_mae: 0.0544\n",
            "Epoch 94/300\n",
            "27/27 [==============================] - ETA: 0s - loss: 0.0016 - attention_mae: 0.0206\n",
            "Epoch 94: val_loss did not improve from 0.00944\n",
            "27/27 [==============================] - 2s 60ms/step - loss: 0.0016 - attention_mae: 0.0206 - val_loss: 0.0096 - val_attention_mae: 0.0545\n",
            "Epoch 95/300\n",
            "27/27 [==============================] - ETA: 0s - loss: 0.0015 - attention_mae: 0.0208\n",
            "Epoch 95: val_loss did not improve from 0.00944\n",
            "27/27 [==============================] - 2s 57ms/step - loss: 0.0015 - attention_mae: 0.0208 - val_loss: 0.0095 - val_attention_mae: 0.0537\n",
            "Epoch 96/300\n",
            "27/27 [==============================] - ETA: 0s - loss: 0.0016 - attention_mae: 0.0211\n",
            "Epoch 96: val_loss did not improve from 0.00944\n",
            "27/27 [==============================] - 2s 58ms/step - loss: 0.0016 - attention_mae: 0.0211 - val_loss: 0.0097 - val_attention_mae: 0.0545\n",
            "Epoch 97/300\n",
            "27/27 [==============================] - ETA: 0s - loss: 0.0016 - attention_mae: 0.0212\n",
            "Epoch 97: val_loss improved from 0.00944 to 0.00940, saving model to /content/drive/MyDrive/Research/TAVI/Models/Curvature_2_Pressure_MultiViewUNet-MobileNet_DO_0.5\n",
            "27/27 [==============================] - 3s 106ms/step - loss: 0.0016 - attention_mae: 0.0212 - val_loss: 0.0094 - val_attention_mae: 0.0532\n",
            "Epoch 98/300\n",
            "27/27 [==============================] - ETA: 0s - loss: 0.0015 - attention_mae: 0.0211\n",
            "Epoch 98: val_loss did not improve from 0.00940\n",
            "27/27 [==============================] - 2s 61ms/step - loss: 0.0015 - attention_mae: 0.0211 - val_loss: 0.0094 - val_attention_mae: 0.0528\n",
            "Epoch 99/300\n",
            "27/27 [==============================] - ETA: 0s - loss: 0.0016 - attention_mae: 0.0217\n",
            "Epoch 99: val_loss did not improve from 0.00940\n",
            "27/27 [==============================] - 2s 66ms/step - loss: 0.0016 - attention_mae: 0.0217 - val_loss: 0.0094 - val_attention_mae: 0.0535\n",
            "Epoch 100/300\n",
            "27/27 [==============================] - ETA: 0s - loss: 0.0014 - attention_mae: 0.0200\n",
            "Epoch 100: val_loss did not improve from 0.00940\n",
            "27/27 [==============================] - 2s 64ms/step - loss: 0.0014 - attention_mae: 0.0200 - val_loss: 0.0095 - val_attention_mae: 0.0545\n",
            "Epoch 101/300\n",
            "27/27 [==============================] - ETA: 0s - loss: 0.0015 - attention_mae: 0.0202\n",
            "Epoch 101: val_loss did not improve from 0.00940\n",
            "27/27 [==============================] - 2s 58ms/step - loss: 0.0015 - attention_mae: 0.0202 - val_loss: 0.0094 - val_attention_mae: 0.0543\n",
            "Epoch 102/300\n",
            "27/27 [==============================] - ETA: 0s - loss: 0.0015 - attention_mae: 0.0199\n",
            "Epoch 102: val_loss did not improve from 0.00940\n",
            "27/27 [==============================] - 2s 59ms/step - loss: 0.0015 - attention_mae: 0.0199 - val_loss: 0.0095 - val_attention_mae: 0.0555\n",
            "Epoch 103/300\n",
            "27/27 [==============================] - ETA: 0s - loss: 0.0014 - attention_mae: 0.0197\n",
            "Epoch 103: val_loss did not improve from 0.00940\n",
            "27/27 [==============================] - 2s 58ms/step - loss: 0.0014 - attention_mae: 0.0197 - val_loss: 0.0096 - val_attention_mae: 0.0569\n",
            "Epoch 104/300\n",
            "27/27 [==============================] - ETA: 0s - loss: 0.0014 - attention_mae: 0.0201\n",
            "Epoch 104: val_loss did not improve from 0.00940\n",
            "27/27 [==============================] - 2s 62ms/step - loss: 0.0014 - attention_mae: 0.0201 - val_loss: 0.0097 - val_attention_mae: 0.0578\n",
            "Epoch 105/300\n",
            "27/27 [==============================] - ETA: 0s - loss: 0.0014 - attention_mae: 0.0199\n",
            "Epoch 105: val_loss did not improve from 0.00940\n",
            "27/27 [==============================] - 2s 61ms/step - loss: 0.0014 - attention_mae: 0.0199 - val_loss: 0.0095 - val_attention_mae: 0.0557\n",
            "Epoch 106/300\n",
            "27/27 [==============================] - ETA: 0s - loss: 0.0014 - attention_mae: 0.0195\n",
            "Epoch 106: val_loss did not improve from 0.00940\n",
            "27/27 [==============================] - 2s 66ms/step - loss: 0.0014 - attention_mae: 0.0195 - val_loss: 0.0095 - val_attention_mae: 0.0560\n",
            "Epoch 107/300\n",
            "27/27 [==============================] - ETA: 0s - loss: 0.0013 - attention_mae: 0.0192\n",
            "Epoch 107: val_loss improved from 0.00940 to 0.00930, saving model to /content/drive/MyDrive/Research/TAVI/Models/Curvature_2_Pressure_MultiViewUNet-MobileNet_DO_0.5\n",
            "27/27 [==============================] - 3s 107ms/step - loss: 0.0013 - attention_mae: 0.0192 - val_loss: 0.0093 - val_attention_mae: 0.0546\n",
            "Epoch 108/300\n",
            "27/27 [==============================] - ETA: 0s - loss: 0.0014 - attention_mae: 0.0199\n",
            "Epoch 108: val_loss did not improve from 0.00930\n",
            "27/27 [==============================] - 2s 58ms/step - loss: 0.0014 - attention_mae: 0.0199 - val_loss: 0.0098 - val_attention_mae: 0.0586\n",
            "Epoch 109/300\n",
            "27/27 [==============================] - ETA: 0s - loss: 0.0013 - attention_mae: 0.0195\n",
            "Epoch 109: val_loss did not improve from 0.00930\n",
            "27/27 [==============================] - 2s 59ms/step - loss: 0.0013 - attention_mae: 0.0195 - val_loss: 0.0095 - val_attention_mae: 0.0574\n",
            "Epoch 110/300\n",
            "27/27 [==============================] - ETA: 0s - loss: 0.0013 - attention_mae: 0.0193\n",
            "Epoch 110: val_loss did not improve from 0.00930\n",
            "27/27 [==============================] - 2s 57ms/step - loss: 0.0013 - attention_mae: 0.0193 - val_loss: 0.0095 - val_attention_mae: 0.0554\n",
            "Epoch 111/300\n",
            "27/27 [==============================] - ETA: 0s - loss: 0.0013 - attention_mae: 0.0195\n",
            "Epoch 111: val_loss improved from 0.00930 to 0.00928, saving model to /content/drive/MyDrive/Research/TAVI/Models/Curvature_2_Pressure_MultiViewUNet-MobileNet_DO_0.5\n",
            "27/27 [==============================] - 2s 93ms/step - loss: 0.0013 - attention_mae: 0.0195 - val_loss: 0.0093 - val_attention_mae: 0.0543\n",
            "Epoch 112/300\n",
            "27/27 [==============================] - ETA: 0s - loss: 0.0013 - attention_mae: 0.0191\n",
            "Epoch 112: val_loss did not improve from 0.00928\n",
            "27/27 [==============================] - 2s 67ms/step - loss: 0.0013 - attention_mae: 0.0191 - val_loss: 0.0094 - val_attention_mae: 0.0565\n",
            "Epoch 113/300\n",
            "27/27 [==============================] - ETA: 0s - loss: 0.0012 - attention_mae: 0.0181\n",
            "Epoch 113: val_loss did not improve from 0.00928\n",
            "27/27 [==============================] - 2s 68ms/step - loss: 0.0012 - attention_mae: 0.0181 - val_loss: 0.0095 - val_attention_mae: 0.0567\n",
            "Epoch 114/300\n",
            "27/27 [==============================] - ETA: 0s - loss: 0.0012 - attention_mae: 0.0179\n",
            "Epoch 114: val_loss did not improve from 0.00928\n",
            "27/27 [==============================] - 2s 60ms/step - loss: 0.0012 - attention_mae: 0.0179 - val_loss: 0.0099 - val_attention_mae: 0.0605\n",
            "Epoch 115/300\n",
            "27/27 [==============================] - ETA: 0s - loss: 0.0011 - attention_mae: 0.0178\n",
            "Epoch 115: val_loss did not improve from 0.00928\n",
            "27/27 [==============================] - 2s 59ms/step - loss: 0.0011 - attention_mae: 0.0178 - val_loss: 0.0096 - val_attention_mae: 0.0578\n",
            "Epoch 116/300\n",
            "27/27 [==============================] - ETA: 0s - loss: 0.0011 - attention_mae: 0.0176\n",
            "Epoch 116: val_loss did not improve from 0.00928\n",
            "27/27 [==============================] - 2s 63ms/step - loss: 0.0011 - attention_mae: 0.0176 - val_loss: 0.0095 - val_attention_mae: 0.0575\n",
            "Epoch 117/300\n",
            "27/27 [==============================] - ETA: 0s - loss: 0.0011 - attention_mae: 0.0177\n",
            "Epoch 117: val_loss did not improve from 0.00928\n",
            "27/27 [==============================] - 2s 59ms/step - loss: 0.0011 - attention_mae: 0.0177 - val_loss: 0.0097 - val_attention_mae: 0.0587\n",
            "Epoch 118/300\n",
            "27/27 [==============================] - ETA: 0s - loss: 0.0011 - attention_mae: 0.0178\n",
            "Epoch 118: val_loss did not improve from 0.00928\n",
            "27/27 [==============================] - 2s 58ms/step - loss: 0.0011 - attention_mae: 0.0178 - val_loss: 0.0099 - val_attention_mae: 0.0610\n",
            "Epoch 119/300\n",
            "27/27 [==============================] - ETA: 0s - loss: 0.0011 - attention_mae: 0.0177\n",
            "Epoch 119: val_loss did not improve from 0.00928\n",
            "27/27 [==============================] - 2s 59ms/step - loss: 0.0011 - attention_mae: 0.0177 - val_loss: 0.0096 - val_attention_mae: 0.0586\n",
            "Epoch 120/300\n",
            "27/27 [==============================] - ETA: 0s - loss: 0.0011 - attention_mae: 0.0177\n",
            "Epoch 120: val_loss did not improve from 0.00928\n",
            "27/27 [==============================] - 2s 66ms/step - loss: 0.0011 - attention_mae: 0.0177 - val_loss: 0.0096 - val_attention_mae: 0.0588\n",
            "Epoch 121/300\n",
            "27/27 [==============================] - ETA: 0s - loss: 0.0011 - attention_mae: 0.0177\n",
            "Epoch 121: val_loss did not improve from 0.00928\n",
            "27/27 [==============================] - 2s 65ms/step - loss: 0.0011 - attention_mae: 0.0177 - val_loss: 0.0098 - val_attention_mae: 0.0605\n",
            "Epoch 122/300\n",
            "27/27 [==============================] - ETA: 0s - loss: 0.0012 - attention_mae: 0.0188\n",
            "Epoch 122: val_loss did not improve from 0.00928\n",
            "27/27 [==============================] - 2s 61ms/step - loss: 0.0012 - attention_mae: 0.0188 - val_loss: 0.0104 - val_attention_mae: 0.0635\n",
            "Epoch 123/300\n",
            "27/27 [==============================] - ETA: 0s - loss: 0.0012 - attention_mae: 0.0185\n",
            "Epoch 123: val_loss did not improve from 0.00928\n",
            "27/27 [==============================] - 2s 59ms/step - loss: 0.0012 - attention_mae: 0.0185 - val_loss: 0.0098 - val_attention_mae: 0.0607\n",
            "Epoch 124/300\n",
            "27/27 [==============================] - ETA: 0s - loss: 0.0012 - attention_mae: 0.0188\n",
            "Epoch 124: val_loss did not improve from 0.00928\n",
            "27/27 [==============================] - 2s 59ms/step - loss: 0.0012 - attention_mae: 0.0188 - val_loss: 0.0101 - val_attention_mae: 0.0619\n",
            "Epoch 125/300\n",
            "27/27 [==============================] - ETA: 0s - loss: 0.0012 - attention_mae: 0.0182\n",
            "Epoch 125: val_loss did not improve from 0.00928\n",
            "27/27 [==============================] - 2s 60ms/step - loss: 0.0012 - attention_mae: 0.0182 - val_loss: 0.0103 - val_attention_mae: 0.0640\n",
            "Epoch 126/300\n",
            "27/27 [==============================] - ETA: 0s - loss: 0.0012 - attention_mae: 0.0189\n",
            "Epoch 126: val_loss did not improve from 0.00928\n",
            "27/27 [==============================] - 2s 59ms/step - loss: 0.0012 - attention_mae: 0.0189 - val_loss: 0.0102 - val_attention_mae: 0.0631\n",
            "Epoch 127/300\n",
            "27/27 [==============================] - ETA: 0s - loss: 0.0013 - attention_mae: 0.0195\n",
            "Epoch 127: val_loss did not improve from 0.00928\n",
            "27/27 [==============================] - 2s 67ms/step - loss: 0.0013 - attention_mae: 0.0195 - val_loss: 0.0100 - val_attention_mae: 0.0615\n",
            "Epoch 128/300\n",
            "27/27 [==============================] - ETA: 0s - loss: 0.0012 - attention_mae: 0.0193\n",
            "Epoch 128: val_loss did not improve from 0.00928\n",
            "27/27 [==============================] - 2s 65ms/step - loss: 0.0012 - attention_mae: 0.0193 - val_loss: 0.0104 - val_attention_mae: 0.0644\n",
            "Epoch 129/300\n",
            "27/27 [==============================] - ETA: 0s - loss: 0.0011 - attention_mae: 0.0183\n",
            "Epoch 129: val_loss did not improve from 0.00928\n",
            "27/27 [==============================] - 2s 64ms/step - loss: 0.0011 - attention_mae: 0.0183 - val_loss: 0.0101 - val_attention_mae: 0.0627\n",
            "Epoch 130/300\n",
            "27/27 [==============================] - ETA: 0s - loss: 0.0011 - attention_mae: 0.0176\n",
            "Epoch 130: val_loss did not improve from 0.00928\n",
            "27/27 [==============================] - 2s 59ms/step - loss: 0.0011 - attention_mae: 0.0176 - val_loss: 0.0102 - val_attention_mae: 0.0630\n",
            "Epoch 131/300\n",
            "27/27 [==============================] - ETA: 0s - loss: 0.0010 - attention_mae: 0.0172\n",
            "Epoch 131: val_loss did not improve from 0.00928\n",
            "27/27 [==============================] - 2s 58ms/step - loss: 0.0010 - attention_mae: 0.0172 - val_loss: 0.0100 - val_attention_mae: 0.0618\n",
            "Epoch 132/300\n",
            "27/27 [==============================] - ETA: 0s - loss: 0.0010 - attention_mae: 0.0172\n",
            "Epoch 132: val_loss did not improve from 0.00928\n",
            "27/27 [==============================] - 2s 60ms/step - loss: 0.0010 - attention_mae: 0.0172 - val_loss: 0.0098 - val_attention_mae: 0.0597\n",
            "Epoch 133/300\n",
            "27/27 [==============================] - ETA: 0s - loss: 0.0010 - attention_mae: 0.0177\n",
            "Epoch 133: val_loss did not improve from 0.00928\n",
            "27/27 [==============================] - 2s 59ms/step - loss: 0.0010 - attention_mae: 0.0177 - val_loss: 0.0100 - val_attention_mae: 0.0624\n",
            "Epoch 134/300\n",
            "27/27 [==============================] - ETA: 0s - loss: 9.6974e-04 - attention_mae: 0.0169\n",
            "Epoch 134: val_loss did not improve from 0.00928\n",
            "27/27 [==============================] - 2s 59ms/step - loss: 9.6974e-04 - attention_mae: 0.0169 - val_loss: 0.0098 - val_attention_mae: 0.0597\n",
            "Epoch 135/300\n",
            "27/27 [==============================] - ETA: 0s - loss: 9.5149e-04 - attention_mae: 0.0167\n",
            "Epoch 135: val_loss did not improve from 0.00928\n",
            "27/27 [==============================] - 2s 67ms/step - loss: 9.5149e-04 - attention_mae: 0.0167 - val_loss: 0.0103 - val_attention_mae: 0.0639\n",
            "Epoch 136/300\n",
            "27/27 [==============================] - ETA: 0s - loss: 9.3831e-04 - attention_mae: 0.0165\n",
            "Epoch 136: val_loss did not improve from 0.00928\n",
            "27/27 [==============================] - 2s 63ms/step - loss: 9.3831e-04 - attention_mae: 0.0165 - val_loss: 0.0108 - val_attention_mae: 0.0673\n",
            "Epoch 137/300\n",
            "27/27 [==============================] - ETA: 0s - loss: 9.3138e-04 - attention_mae: 0.0167\n",
            "Epoch 137: val_loss did not improve from 0.00928\n",
            "27/27 [==============================] - 2s 59ms/step - loss: 9.3138e-04 - attention_mae: 0.0167 - val_loss: 0.0100 - val_attention_mae: 0.0616\n",
            "Epoch 138/300\n",
            "27/27 [==============================] - ETA: 0s - loss: 9.2123e-04 - attention_mae: 0.0164\n",
            "Epoch 138: val_loss did not improve from 0.00928\n",
            "27/27 [==============================] - 2s 60ms/step - loss: 9.2123e-04 - attention_mae: 0.0164 - val_loss: 0.0105 - val_attention_mae: 0.0654\n",
            "Epoch 139/300\n",
            "27/27 [==============================] - ETA: 0s - loss: 9.2878e-04 - attention_mae: 0.0165\n",
            "Epoch 139: val_loss did not improve from 0.00928\n",
            "27/27 [==============================] - 2s 58ms/step - loss: 9.2878e-04 - attention_mae: 0.0165 - val_loss: 0.0105 - val_attention_mae: 0.0654\n",
            "Epoch 140/300\n",
            "27/27 [==============================] - ETA: 0s - loss: 9.1471e-04 - attention_mae: 0.0163\n",
            "Epoch 140: val_loss did not improve from 0.00928\n",
            "27/27 [==============================] - 2s 58ms/step - loss: 9.1471e-04 - attention_mae: 0.0163 - val_loss: 0.0101 - val_attention_mae: 0.0625\n",
            "Epoch 141/300\n",
            "27/27 [==============================] - ETA: 0s - loss: 9.4848e-04 - attention_mae: 0.0167\n",
            "Epoch 141: val_loss did not improve from 0.00928\n",
            "27/27 [==============================] - 2s 64ms/step - loss: 9.4848e-04 - attention_mae: 0.0167 - val_loss: 0.0103 - val_attention_mae: 0.0638\n"
          ]
        }
      ],
      "source": [
        "history = model.fit(\n",
        "    train_batches,\n",
        "    validation_data=test_batches,\n",
        "    epochs=N_EPOCHS,\n",
        "    batch_size=BATCH_SIZE,\n",
        "    callbacks=callbacks,\n",
        "    verbose=1,\n",
        ")"
      ]
    },
    {
      "cell_type": "markdown",
      "metadata": {
        "id": "MYJgw9qhh7ew"
      },
      "source": [
        "# Save Model"
      ]
    },
    {
      "cell_type": "code",
      "execution_count": 18,
      "metadata": {
        "id": "bux6go2yh7ew",
        "outputId": "4b8f5778-cf1e-4ba4-e6b2-f95bb30562e1",
        "colab": {
          "base_uri": "https://localhost:8080/"
        }
      },
      "outputs": [
        {
          "output_type": "stream",
          "name": "stderr",
          "text": [
            "/usr/local/lib/python3.10/dist-packages/keras/src/initializers/__init__.py:144: UserWarning: The `keras.initializers.serialize()` API should only be used for objects of type `keras.initializers.Initializer`. Found an instance of type <class 'tensorflow.python.ops.init_ops_v2.RandomNormal'>, which may lead to improper serialization.\n",
            "  warnings.warn(\n"
          ]
        }
      ],
      "source": [
        "timestamp = datetime.datetime.now().strftime(\"%b-%d-%I:%M%p\")\n",
        "if not os.path.exists(model_path):\n",
        "    os.makedirs(model_path)\n",
        "\n",
        "model.save(os.path.join(model_path, timestamp))"
      ]
    },
    {
      "cell_type": "markdown",
      "metadata": {
        "id": "QMFZgyu9h7ex"
      },
      "source": [
        "# Save Predictions"
      ]
    },
    {
      "cell_type": "code",
      "execution_count": 19,
      "metadata": {
        "colab": {
          "base_uri": "https://localhost:8080/"
        },
        "id": "FnsfVhkDh7ex",
        "outputId": "4080bbcc-3f29-4313-b312-815bd08fdf34"
      },
      "outputs": [
        {
          "output_type": "stream",
          "name": "stderr",
          "text": [
            "\r0it [00:00, ?it/s]"
          ]
        },
        {
          "output_type": "stream",
          "name": "stdout",
          "text": [
            "1/1 [==============================] - 1s 1s/step\n"
          ]
        },
        {
          "output_type": "stream",
          "name": "stderr",
          "text": [
            "\r1it [00:02,  2.59s/it]"
          ]
        },
        {
          "output_type": "stream",
          "name": "stdout",
          "text": [
            "1/1 [==============================] - 0s 27ms/step\n"
          ]
        },
        {
          "output_type": "stream",
          "name": "stderr",
          "text": [
            "\r2it [00:02,  1.13s/it]"
          ]
        },
        {
          "output_type": "stream",
          "name": "stdout",
          "text": [
            "1/1 [==============================] - 0s 29ms/step\n"
          ]
        },
        {
          "output_type": "stream",
          "name": "stderr",
          "text": [
            "\r3it [00:02,  1.51it/s]"
          ]
        },
        {
          "output_type": "stream",
          "name": "stdout",
          "text": [
            "1/1 [==============================] - 0s 26ms/step\n"
          ]
        },
        {
          "output_type": "stream",
          "name": "stderr",
          "text": [
            "\r4it [00:02,  2.26it/s]"
          ]
        },
        {
          "output_type": "stream",
          "name": "stdout",
          "text": [
            "1/1 [==============================] - 0s 25ms/step\n"
          ]
        },
        {
          "output_type": "stream",
          "name": "stderr",
          "text": [
            "\r5it [00:03,  3.11it/s]"
          ]
        },
        {
          "output_type": "stream",
          "name": "stdout",
          "text": [
            "1/1 [==============================] - 0s 27ms/step\n"
          ]
        },
        {
          "output_type": "stream",
          "name": "stderr",
          "text": [
            "\r6it [00:03,  4.03it/s]"
          ]
        },
        {
          "output_type": "stream",
          "name": "stdout",
          "text": [
            "1/1 [==============================] - 0s 25ms/step\n"
          ]
        },
        {
          "output_type": "stream",
          "name": "stderr",
          "text": [
            "\r7it [00:03,  4.94it/s]"
          ]
        },
        {
          "output_type": "stream",
          "name": "stdout",
          "text": [
            "1/1 [==============================] - 0s 29ms/step\n"
          ]
        },
        {
          "output_type": "stream",
          "name": "stderr",
          "text": [
            "\r8it [00:03,  5.74it/s]"
          ]
        },
        {
          "output_type": "stream",
          "name": "stdout",
          "text": [
            "1/1 [==============================] - 0s 26ms/step\n"
          ]
        },
        {
          "output_type": "stream",
          "name": "stderr",
          "text": [
            "\r9it [00:03,  6.61it/s]"
          ]
        },
        {
          "output_type": "stream",
          "name": "stdout",
          "text": [
            "1/1 [==============================] - 0s 26ms/step\n",
            "1/1 [==============================] - 0s 25ms/step\n"
          ]
        },
        {
          "output_type": "stream",
          "name": "stderr",
          "text": [
            "\r11it [00:03,  7.95it/s]"
          ]
        },
        {
          "output_type": "stream",
          "name": "stdout",
          "text": [
            "1/1 [==============================] - 0s 25ms/step\n"
          ]
        },
        {
          "output_type": "stream",
          "name": "stderr",
          "text": [
            "\r12it [00:03,  8.03it/s]"
          ]
        },
        {
          "output_type": "stream",
          "name": "stdout",
          "text": [
            "1/1 [==============================] - 0s 24ms/step\n"
          ]
        },
        {
          "output_type": "stream",
          "name": "stderr",
          "text": [
            "\r13it [00:03,  8.47it/s]"
          ]
        },
        {
          "output_type": "stream",
          "name": "stdout",
          "text": [
            "1/1 [==============================] - 0s 26ms/step\n"
          ]
        },
        {
          "output_type": "stream",
          "name": "stderr",
          "text": [
            "\r14it [00:03,  8.58it/s]"
          ]
        },
        {
          "output_type": "stream",
          "name": "stdout",
          "text": [
            "1/1 [==============================] - 0s 31ms/step\n"
          ]
        },
        {
          "output_type": "stream",
          "name": "stderr",
          "text": [
            "\r15it [00:04,  8.65it/s]"
          ]
        },
        {
          "output_type": "stream",
          "name": "stdout",
          "text": [
            "1/1 [==============================] - 0s 38ms/step\n"
          ]
        },
        {
          "output_type": "stream",
          "name": "stderr",
          "text": [
            "\r16it [00:04,  7.86it/s]"
          ]
        },
        {
          "output_type": "stream",
          "name": "stdout",
          "text": [
            "1/1 [==============================] - 0s 29ms/step\n"
          ]
        },
        {
          "output_type": "stream",
          "name": "stderr",
          "text": [
            "\r17it [00:04,  7.64it/s]"
          ]
        },
        {
          "output_type": "stream",
          "name": "stdout",
          "text": [
            "1/1 [==============================] - 0s 26ms/step\n"
          ]
        },
        {
          "output_type": "stream",
          "name": "stderr",
          "text": [
            "\r18it [00:04,  8.07it/s]"
          ]
        },
        {
          "output_type": "stream",
          "name": "stdout",
          "text": [
            "1/1 [==============================] - 0s 26ms/step\n"
          ]
        },
        {
          "output_type": "stream",
          "name": "stderr",
          "text": [
            "\r19it [00:04,  8.49it/s]"
          ]
        },
        {
          "output_type": "stream",
          "name": "stdout",
          "text": [
            "1/1 [==============================] - 0s 25ms/step\n"
          ]
        },
        {
          "output_type": "stream",
          "name": "stderr",
          "text": [
            "\r20it [00:04,  8.56it/s]"
          ]
        },
        {
          "output_type": "stream",
          "name": "stdout",
          "text": [
            "1/1 [==============================] - 0s 26ms/step\n",
            "1/1 [==============================] - 0s 25ms/step\n"
          ]
        },
        {
          "output_type": "stream",
          "name": "stderr",
          "text": [
            "\r22it [00:04,  9.09it/s]"
          ]
        },
        {
          "output_type": "stream",
          "name": "stdout",
          "text": [
            "1/1 [==============================] - 0s 35ms/step\n"
          ]
        },
        {
          "output_type": "stream",
          "name": "stderr",
          "text": [
            "\r23it [00:05,  8.39it/s]"
          ]
        },
        {
          "output_type": "stream",
          "name": "stdout",
          "text": [
            "1/1 [==============================] - 0s 35ms/step\n"
          ]
        },
        {
          "output_type": "stream",
          "name": "stderr",
          "text": [
            "\r24it [00:05,  8.16it/s]"
          ]
        },
        {
          "output_type": "stream",
          "name": "stdout",
          "text": [
            "1/1 [==============================] - 0s 25ms/step\n"
          ]
        },
        {
          "output_type": "stream",
          "name": "stderr",
          "text": [
            "\r25it [00:05,  8.57it/s]"
          ]
        },
        {
          "output_type": "stream",
          "name": "stdout",
          "text": [
            "1/1 [==============================] - 0s 40ms/step\n"
          ]
        },
        {
          "output_type": "stream",
          "name": "stderr",
          "text": [
            "\r26it [00:05,  8.24it/s]"
          ]
        },
        {
          "output_type": "stream",
          "name": "stdout",
          "text": [
            "1/1 [==============================] - 0s 27ms/step\n"
          ]
        },
        {
          "output_type": "stream",
          "name": "stderr",
          "text": [
            "\r27it [00:05,  8.44it/s]"
          ]
        },
        {
          "output_type": "stream",
          "name": "stdout",
          "text": [
            "1/1 [==============================] - 0s 32ms/step\n"
          ]
        },
        {
          "output_type": "stream",
          "name": "stderr",
          "text": [
            "\r28it [00:05,  8.46it/s]"
          ]
        },
        {
          "output_type": "stream",
          "name": "stdout",
          "text": [
            "1/1 [==============================] - 0s 25ms/step\n"
          ]
        },
        {
          "output_type": "stream",
          "name": "stderr",
          "text": [
            "\r29it [00:05,  8.30it/s]"
          ]
        },
        {
          "output_type": "stream",
          "name": "stdout",
          "text": [
            "1/1 [==============================] - 0s 28ms/step\n"
          ]
        },
        {
          "output_type": "stream",
          "name": "stderr",
          "text": [
            "\r30it [00:05,  8.57it/s]"
          ]
        },
        {
          "output_type": "stream",
          "name": "stdout",
          "text": [
            "1/1 [==============================] - 0s 39ms/step\n"
          ]
        },
        {
          "output_type": "stream",
          "name": "stderr",
          "text": [
            "\r31it [00:06,  8.09it/s]"
          ]
        },
        {
          "output_type": "stream",
          "name": "stdout",
          "text": [
            "1/1 [==============================] - 0s 27ms/step\n"
          ]
        },
        {
          "output_type": "stream",
          "name": "stderr",
          "text": [
            "\r32it [00:06,  8.04it/s]"
          ]
        },
        {
          "output_type": "stream",
          "name": "stdout",
          "text": [
            "1/1 [==============================] - 0s 26ms/step\n"
          ]
        },
        {
          "output_type": "stream",
          "name": "stderr",
          "text": [
            "\r33it [00:06,  8.31it/s]"
          ]
        },
        {
          "output_type": "stream",
          "name": "stdout",
          "text": [
            "1/1 [==============================] - 0s 27ms/step\n"
          ]
        },
        {
          "output_type": "stream",
          "name": "stderr",
          "text": [
            "\r34it [00:06,  8.58it/s]"
          ]
        },
        {
          "output_type": "stream",
          "name": "stdout",
          "text": [
            "1/1 [==============================] - 0s 24ms/step\n",
            "1/1 [==============================] - 0s 24ms/step\n"
          ]
        },
        {
          "output_type": "stream",
          "name": "stderr",
          "text": [
            "\r36it [00:06,  8.83it/s]"
          ]
        },
        {
          "output_type": "stream",
          "name": "stdout",
          "text": [
            "1/1 [==============================] - 0s 24ms/step\n"
          ]
        },
        {
          "output_type": "stream",
          "name": "stderr",
          "text": [
            "\r37it [00:06,  9.04it/s]"
          ]
        },
        {
          "output_type": "stream",
          "name": "stdout",
          "text": [
            "1/1 [==============================] - 0s 41ms/step\n"
          ]
        },
        {
          "output_type": "stream",
          "name": "stderr",
          "text": [
            "\r38it [00:06,  8.07it/s]"
          ]
        },
        {
          "output_type": "stream",
          "name": "stdout",
          "text": [
            "1/1 [==============================] - 0s 41ms/step\n"
          ]
        },
        {
          "output_type": "stream",
          "name": "stderr",
          "text": [
            "\r39it [00:07,  7.64it/s]"
          ]
        },
        {
          "output_type": "stream",
          "name": "stdout",
          "text": [
            "1/1 [==============================] - 0s 45ms/step\n"
          ]
        },
        {
          "output_type": "stream",
          "name": "stderr",
          "text": [
            "\r40it [00:07,  7.13it/s]"
          ]
        },
        {
          "output_type": "stream",
          "name": "stdout",
          "text": [
            "1/1 [==============================] - 0s 40ms/step\n"
          ]
        },
        {
          "output_type": "stream",
          "name": "stderr",
          "text": [
            "\r41it [00:07,  6.83it/s]"
          ]
        },
        {
          "output_type": "stream",
          "name": "stdout",
          "text": [
            "1/1 [==============================] - 0s 37ms/step\n"
          ]
        },
        {
          "output_type": "stream",
          "name": "stderr",
          "text": [
            "\r42it [00:07,  6.86it/s]"
          ]
        },
        {
          "output_type": "stream",
          "name": "stdout",
          "text": [
            "1/1 [==============================] - 0s 38ms/step\n"
          ]
        },
        {
          "output_type": "stream",
          "name": "stderr",
          "text": [
            "\r43it [00:07,  7.07it/s]"
          ]
        },
        {
          "output_type": "stream",
          "name": "stdout",
          "text": [
            "1/1 [==============================] - 0s 43ms/step\n"
          ]
        },
        {
          "output_type": "stream",
          "name": "stderr",
          "text": [
            "\r44it [00:07,  7.07it/s]"
          ]
        },
        {
          "output_type": "stream",
          "name": "stdout",
          "text": [
            "1/1 [==============================] - 0s 38ms/step\n"
          ]
        },
        {
          "output_type": "stream",
          "name": "stderr",
          "text": [
            "\r45it [00:07,  6.84it/s]"
          ]
        },
        {
          "output_type": "stream",
          "name": "stdout",
          "text": [
            "1/1 [==============================] - 0s 50ms/step\n"
          ]
        },
        {
          "output_type": "stream",
          "name": "stderr",
          "text": [
            "\r46it [00:08,  6.33it/s]"
          ]
        },
        {
          "output_type": "stream",
          "name": "stdout",
          "text": [
            "1/1 [==============================] - 0s 41ms/step\n"
          ]
        },
        {
          "output_type": "stream",
          "name": "stderr",
          "text": [
            "\r47it [00:08,  6.45it/s]"
          ]
        },
        {
          "output_type": "stream",
          "name": "stdout",
          "text": [
            "1/1 [==============================] - 0s 37ms/step\n"
          ]
        },
        {
          "output_type": "stream",
          "name": "stderr",
          "text": [
            "\r48it [00:08,  6.70it/s]"
          ]
        },
        {
          "output_type": "stream",
          "name": "stdout",
          "text": [
            "1/1 [==============================] - 0s 41ms/step\n"
          ]
        },
        {
          "output_type": "stream",
          "name": "stderr",
          "text": [
            "\r49it [00:08,  6.88it/s]"
          ]
        },
        {
          "output_type": "stream",
          "name": "stdout",
          "text": [
            "1/1 [==============================] - 0s 39ms/step\n"
          ]
        },
        {
          "output_type": "stream",
          "name": "stderr",
          "text": [
            "\r50it [00:08,  6.91it/s]"
          ]
        },
        {
          "output_type": "stream",
          "name": "stdout",
          "text": [
            "1/1 [==============================] - 0s 36ms/step\n"
          ]
        },
        {
          "output_type": "stream",
          "name": "stderr",
          "text": [
            "\r51it [00:08,  7.03it/s]"
          ]
        },
        {
          "output_type": "stream",
          "name": "stdout",
          "text": [
            "1/1 [==============================] - 0s 42ms/step\n"
          ]
        },
        {
          "output_type": "stream",
          "name": "stderr",
          "text": [
            "\r52it [00:08,  7.04it/s]"
          ]
        },
        {
          "output_type": "stream",
          "name": "stdout",
          "text": [
            "1/1 [==============================] - 0s 38ms/step\n"
          ]
        },
        {
          "output_type": "stream",
          "name": "stderr",
          "text": [
            "\r53it [00:09,  7.13it/s]"
          ]
        },
        {
          "output_type": "stream",
          "name": "stdout",
          "text": [
            "1/1 [==============================] - 0s 36ms/step\n"
          ]
        },
        {
          "output_type": "stream",
          "name": "stderr",
          "text": [
            "\r54it [00:09,  6.95it/s]"
          ]
        },
        {
          "output_type": "stream",
          "name": "stdout",
          "text": [
            "1/1 [==============================] - 0s 37ms/step\n"
          ]
        },
        {
          "output_type": "stream",
          "name": "stderr",
          "text": [
            "\r55it [00:09,  7.09it/s]"
          ]
        },
        {
          "output_type": "stream",
          "name": "stdout",
          "text": [
            "1/1 [==============================] - 0s 40ms/step\n"
          ]
        },
        {
          "output_type": "stream",
          "name": "stderr",
          "text": [
            "\r56it [00:09,  7.11it/s]"
          ]
        },
        {
          "output_type": "stream",
          "name": "stdout",
          "text": [
            "1/1 [==============================] - 0s 36ms/step\n"
          ]
        },
        {
          "output_type": "stream",
          "name": "stderr",
          "text": [
            "\r57it [00:09,  7.15it/s]"
          ]
        },
        {
          "output_type": "stream",
          "name": "stdout",
          "text": [
            "1/1 [==============================] - 0s 38ms/step\n"
          ]
        },
        {
          "output_type": "stream",
          "name": "stderr",
          "text": [
            "\r58it [00:09,  7.19it/s]"
          ]
        },
        {
          "output_type": "stream",
          "name": "stdout",
          "text": [
            "1/1 [==============================] - 0s 46ms/step\n"
          ]
        },
        {
          "output_type": "stream",
          "name": "stderr",
          "text": [
            "\r59it [00:09,  6.88it/s]"
          ]
        },
        {
          "output_type": "stream",
          "name": "stdout",
          "text": [
            "1/1 [==============================] - 0s 38ms/step\n"
          ]
        },
        {
          "output_type": "stream",
          "name": "stderr",
          "text": [
            "\r60it [00:10,  6.88it/s]"
          ]
        },
        {
          "output_type": "stream",
          "name": "stdout",
          "text": [
            "1/1 [==============================] - 0s 37ms/step\n"
          ]
        },
        {
          "output_type": "stream",
          "name": "stderr",
          "text": [
            "\r61it [00:10,  6.92it/s]"
          ]
        },
        {
          "output_type": "stream",
          "name": "stdout",
          "text": [
            "1/1 [==============================] - 0s 34ms/step\n"
          ]
        },
        {
          "output_type": "stream",
          "name": "stderr",
          "text": [
            "\r62it [00:10,  7.10it/s]"
          ]
        },
        {
          "output_type": "stream",
          "name": "stdout",
          "text": [
            "1/1 [==============================] - 0s 36ms/step\n"
          ]
        },
        {
          "output_type": "stream",
          "name": "stderr",
          "text": [
            "\r63it [00:10,  6.94it/s]"
          ]
        },
        {
          "output_type": "stream",
          "name": "stdout",
          "text": [
            "1/1 [==============================] - 0s 41ms/step\n"
          ]
        },
        {
          "output_type": "stream",
          "name": "stderr",
          "text": [
            "\r64it [00:10,  6.33it/s]"
          ]
        },
        {
          "output_type": "stream",
          "name": "stdout",
          "text": [
            "1/1 [==============================] - 0s 37ms/step\n"
          ]
        },
        {
          "output_type": "stream",
          "name": "stderr",
          "text": [
            "\r65it [00:10,  6.73it/s]"
          ]
        },
        {
          "output_type": "stream",
          "name": "stdout",
          "text": [
            "1/1 [==============================] - 0s 37ms/step\n"
          ]
        },
        {
          "output_type": "stream",
          "name": "stderr",
          "text": [
            "\r66it [00:10,  6.59it/s]"
          ]
        },
        {
          "output_type": "stream",
          "name": "stdout",
          "text": [
            "1/1 [==============================] - 0s 38ms/step\n"
          ]
        },
        {
          "output_type": "stream",
          "name": "stderr",
          "text": [
            "\r67it [00:11,  6.79it/s]"
          ]
        },
        {
          "output_type": "stream",
          "name": "stdout",
          "text": [
            "1/1 [==============================] - 0s 39ms/step\n"
          ]
        },
        {
          "output_type": "stream",
          "name": "stderr",
          "text": [
            "\r68it [00:11,  6.69it/s]"
          ]
        },
        {
          "output_type": "stream",
          "name": "stdout",
          "text": [
            "1/1 [==============================] - 0s 39ms/step\n"
          ]
        },
        {
          "output_type": "stream",
          "name": "stderr",
          "text": [
            "\r69it [00:11,  6.75it/s]"
          ]
        },
        {
          "output_type": "stream",
          "name": "stdout",
          "text": [
            "1/1 [==============================] - 0s 38ms/step\n"
          ]
        },
        {
          "output_type": "stream",
          "name": "stderr",
          "text": [
            "\r70it [00:11,  6.92it/s]"
          ]
        },
        {
          "output_type": "stream",
          "name": "stdout",
          "text": [
            "1/1 [==============================] - 0s 35ms/step\n"
          ]
        },
        {
          "output_type": "stream",
          "name": "stderr",
          "text": [
            "\r71it [00:11,  7.02it/s]"
          ]
        },
        {
          "output_type": "stream",
          "name": "stdout",
          "text": [
            "1/1 [==============================] - 0s 37ms/step\n"
          ]
        },
        {
          "output_type": "stream",
          "name": "stderr",
          "text": [
            "\r72it [00:11,  6.80it/s]"
          ]
        },
        {
          "output_type": "stream",
          "name": "stdout",
          "text": [
            "1/1 [==============================] - 0s 25ms/step\n"
          ]
        },
        {
          "output_type": "stream",
          "name": "stderr",
          "text": [
            "\r73it [00:11,  7.49it/s]"
          ]
        },
        {
          "output_type": "stream",
          "name": "stdout",
          "text": [
            "1/1 [==============================] - 0s 34ms/step\n"
          ]
        },
        {
          "output_type": "stream",
          "name": "stderr",
          "text": [
            "\r74it [00:12,  7.77it/s]"
          ]
        },
        {
          "output_type": "stream",
          "name": "stdout",
          "text": [
            "1/1 [==============================] - 0s 23ms/step\n",
            "1/1 [==============================] - 0s 24ms/step\n"
          ]
        },
        {
          "output_type": "stream",
          "name": "stderr",
          "text": [
            "\r76it [00:12,  8.53it/s]"
          ]
        },
        {
          "output_type": "stream",
          "name": "stdout",
          "text": [
            "1/1 [==============================] - 0s 26ms/step\n"
          ]
        },
        {
          "output_type": "stream",
          "name": "stderr",
          "text": [
            "\r77it [00:12,  8.32it/s]"
          ]
        },
        {
          "output_type": "stream",
          "name": "stdout",
          "text": [
            "1/1 [==============================] - 0s 25ms/step\n"
          ]
        },
        {
          "output_type": "stream",
          "name": "stderr",
          "text": [
            "\r78it [00:12,  8.63it/s]"
          ]
        },
        {
          "output_type": "stream",
          "name": "stdout",
          "text": [
            "1/1 [==============================] - 0s 26ms/step\n"
          ]
        },
        {
          "output_type": "stream",
          "name": "stderr",
          "text": [
            "\r79it [00:12,  8.91it/s]"
          ]
        },
        {
          "output_type": "stream",
          "name": "stdout",
          "text": [
            "1/1 [==============================] - 0s 28ms/step\n",
            "1/1 [==============================] - 0s 28ms/step\n"
          ]
        },
        {
          "output_type": "stream",
          "name": "stderr",
          "text": [
            "\r81it [00:12,  9.02it/s]"
          ]
        },
        {
          "output_type": "stream",
          "name": "stdout",
          "text": [
            "1/1 [==============================] - 0s 24ms/step\n"
          ]
        },
        {
          "output_type": "stream",
          "name": "stderr",
          "text": [
            "\r82it [00:12,  9.07it/s]"
          ]
        },
        {
          "output_type": "stream",
          "name": "stdout",
          "text": [
            "1/1 [==============================] - 0s 25ms/step\n"
          ]
        },
        {
          "output_type": "stream",
          "name": "stderr",
          "text": [
            "\r83it [00:13,  8.97it/s]"
          ]
        },
        {
          "output_type": "stream",
          "name": "stdout",
          "text": [
            "1/1 [==============================] - 0s 26ms/step\n",
            "1/1 [==============================] - 0s 27ms/step\n"
          ]
        },
        {
          "output_type": "stream",
          "name": "stderr",
          "text": [
            "\r85it [00:13,  9.42it/s]"
          ]
        },
        {
          "output_type": "stream",
          "name": "stdout",
          "text": [
            "1/1 [==============================] - 0s 27ms/step\n"
          ]
        },
        {
          "output_type": "stream",
          "name": "stderr",
          "text": [
            "\r86it [00:13,  9.18it/s]"
          ]
        },
        {
          "output_type": "stream",
          "name": "stdout",
          "text": [
            "1/1 [==============================] - 0s 24ms/step\n"
          ]
        },
        {
          "output_type": "stream",
          "name": "stderr",
          "text": [
            "\r87it [00:13,  9.32it/s]"
          ]
        },
        {
          "output_type": "stream",
          "name": "stdout",
          "text": [
            "1/1 [==============================] - 0s 27ms/step\n"
          ]
        },
        {
          "output_type": "stream",
          "name": "stderr",
          "text": [
            "\r88it [00:13,  9.24it/s]"
          ]
        },
        {
          "output_type": "stream",
          "name": "stdout",
          "text": [
            "1/1 [==============================] - 0s 28ms/step\n"
          ]
        },
        {
          "output_type": "stream",
          "name": "stderr",
          "text": [
            "\r89it [00:13,  9.42it/s]"
          ]
        },
        {
          "output_type": "stream",
          "name": "stdout",
          "text": [
            "1/1 [==============================] - 0s 29ms/step\n"
          ]
        },
        {
          "output_type": "stream",
          "name": "stderr",
          "text": [
            "\r90it [00:13,  9.09it/s]"
          ]
        },
        {
          "output_type": "stream",
          "name": "stdout",
          "text": [
            "1/1 [==============================] - 0s 28ms/step\n"
          ]
        },
        {
          "output_type": "stream",
          "name": "stderr",
          "text": [
            "\r91it [00:13,  9.18it/s]"
          ]
        },
        {
          "output_type": "stream",
          "name": "stdout",
          "text": [
            "1/1 [==============================] - 0s 24ms/step\n"
          ]
        },
        {
          "output_type": "stream",
          "name": "stderr",
          "text": [
            "\r92it [00:14,  9.37it/s]"
          ]
        },
        {
          "output_type": "stream",
          "name": "stdout",
          "text": [
            "1/1 [==============================] - 0s 25ms/step\n"
          ]
        },
        {
          "output_type": "stream",
          "name": "stderr",
          "text": [
            "\r93it [00:14,  9.34it/s]"
          ]
        },
        {
          "output_type": "stream",
          "name": "stdout",
          "text": [
            "1/1 [==============================] - 0s 27ms/step\n"
          ]
        },
        {
          "output_type": "stream",
          "name": "stderr",
          "text": [
            "\r94it [00:14,  9.38it/s]"
          ]
        },
        {
          "output_type": "stream",
          "name": "stdout",
          "text": [
            "1/1 [==============================] - 0s 24ms/step\n"
          ]
        },
        {
          "output_type": "stream",
          "name": "stderr",
          "text": [
            "\r95it [00:14,  9.32it/s]"
          ]
        },
        {
          "output_type": "stream",
          "name": "stdout",
          "text": [
            "1/1 [==============================] - 0s 27ms/step\n"
          ]
        },
        {
          "output_type": "stream",
          "name": "stderr",
          "text": [
            "96it [00:14,  6.65it/s]\n"
          ]
        }
      ],
      "source": [
        "test_ds_unbatched = test_batches.unbatch()\n",
        "\n",
        "pred_path = os.path.join(PRED_PATH, EXP_NAME, timestamp)\n",
        "if not os.path.exists(pred_path):\n",
        "    os.makedirs(pred_path)\n",
        "\n",
        "metrics = pd.DataFrame()\n",
        "\n",
        "for idx, (input, target) in enumerate(tqdm(test_ds_unbatched)):\n",
        "    target = tf.squeeze(target)\n",
        "    prediction = tf.squeeze(model.predict(tf.expand_dims(input, axis=0)))\n",
        "\n",
        "    channel_sum = tf.expand_dims(tf.reduce_sum(target, axis=-1), axis=-1)\n",
        "    white_mask = tf.reduce_all(tf.equal(channel_sum, 3.0), axis=-1)\n",
        "    expanded_mask = tf.expand_dims(white_mask, axis=-1)\n",
        "    expanded_mask = tf.tile(expanded_mask, [1, 1, 3])\n",
        "    prediction = tf.where(expanded_mask, tf.ones_like(prediction), prediction)\n",
        "\n",
        "    target_pil = Image.fromarray(np.array(target * 255.0, dtype=np.uint8))\n",
        "    prediction_pil = Image.fromarray(\n",
        "        np.array(prediction * 255.0, dtype=np.uint8))\n",
        "\n",
        "    target_pil.save(os.path.join(pred_path, f\"{idx}_T.png\"))\n",
        "    prediction_pil.save(os.path.join(pred_path, f\"{idx}_P.png\"))"
      ]
    },
    {
      "cell_type": "markdown",
      "metadata": {
        "id": "yHrb18xrh7ex"
      },
      "source": [
        "# Loss Curve"
      ]
    },
    {
      "cell_type": "code",
      "execution_count": 20,
      "metadata": {
        "colab": {
          "base_uri": "https://localhost:8080/",
          "height": 607
        },
        "id": "27vxXlXEh7ex",
        "outputId": "e185a91f-d83e-41b7-fcb3-0848062ba178"
      },
      "outputs": [
        {
          "output_type": "display_data",
          "data": {
            "text/plain": [
              "<Figure size 800x600 with 1 Axes>"
            ],
            "image/png": "[encoded data removed]"
          },
          "metadata": {}
        }
      ],
      "source": [
        "try:\n",
        "    loss = history.history['loss']\n",
        "    val_loss = history.history['val_loss']\n",
        "\n",
        "    plt.figure(figsize=(8, 6))\n",
        "    plt.plot(loss, label='Training Loss')\n",
        "    plt.plot(val_loss, label='Validation Loss')\n",
        "    plt.legend(loc='upper right')\n",
        "    plt.ylabel('Attention MAE')\n",
        "    plt.title('Training and Validation Loss')\n",
        "    plt.xlabel('Epoch')\n",
        "    plt.tight_layout()\n",
        "    plt.savefig(os.path.join(model_path, timestamp + \".png\"))\n",
        "    plt.show()\n",
        "except:\n",
        "    print(\"Model did not finish training\")"
      ]
    },
    {
      "cell_type": "markdown",
      "metadata": {
        "id": "McOnJlPwh7ex"
      },
      "source": [
        "# Metrics"
      ]
    },
    {
      "cell_type": "code",
      "execution_count": 21,
      "metadata": {
        "colab": {
          "base_uri": "https://localhost:8080/"
        },
        "id": "8kbXsKlmh7e0",
        "outputId": "75ddfeb7-2be7-4cd0-ec0f-79bd166e99e6"
      },
      "outputs": [
        {
          "output_type": "stream",
          "name": "stdout",
          "text": [
            "6/6 [==============================] - 0s 19ms/step - loss: 0.0093 - attention_mae: 0.0543\n",
            "EMSE: 0.009284191764891148\n",
            "EMAE: 0.05431511998176575\n"
          ]
        }
      ],
      "source": [
        "EMSE, EMAE = model.evaluate(test_batches)\n",
        "print(f\"EMSE: {EMSE}\\nEMAE: {EMAE}\")"
      ]
    }
  ],
  "metadata": {
    "accelerator": "GPU",
    "colab": {
      "gpuType": "V100",
      "provenance": [],
      "toc_visible": true
    },
    "kernelspec": {
      "display_name": "Python 3",
      "name": "python3"
    },
    "language_info": {
      "codemirror_mode": {
        "name": "ipython",
        "version": 3
      },
      "file_extension": ".py",
      "mimetype": "text/x-python",
      "name": "python",
      "nbconvert_exporter": "python",
      "pygments_lexer": "ipython3",
      "version": "3.11.5"
    }
  },
  "nbformat": 4,
  "nbformat_minor": 0
}