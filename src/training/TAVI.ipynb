{
  "cells": [
    {
      "cell_type": "markdown",
      "metadata": {
        "id": "view-in-github",
        "colab_type": "text"
      },
      "source": [
        "<a href=\"https://colab.research.google.com/github/atick-faisal/MultiViewUNet-TAVI/blob/dev/src/training/TAVI.ipynb\" target=\"_parent\"><img src=\"https://colab.research.google.com/assets/colab-badge.svg\" alt=\"Open In Colab\"/></a>"
      ]
    },
    {
      "cell_type": "markdown",
      "metadata": {
        "id": "7qGP76Soh7eo"
      },
      "source": [
        "# Runtime Config"
      ]
    },
    {
      "cell_type": "code",
      "execution_count": 1,
      "metadata": {
        "id": "DxmV-3idh7eq"
      },
      "outputs": [],
      "source": [
        "LOCAL_MACHINE = False"
      ]
    },
    {
      "cell_type": "code",
      "execution_count": 2,
      "metadata": {
        "id": "B_TCNqhSh7er",
        "outputId": "0c437c4d-6f69-4ecf-801a-c36add7cf4fa",
        "colab": {
          "base_uri": "https://localhost:8080/"
        }
      },
      "outputs": [
        {
          "output_type": "stream",
          "name": "stdout",
          "text": [
            "Mon Nov 27 06:52:49 2023       \n",
            "+-----------------------------------------------------------------------------+\n",
            "| NVIDIA-SMI 525.105.17   Driver Version: 525.105.17   CUDA Version: 12.0     |\n",
            "|-------------------------------+----------------------+----------------------+\n",
            "| GPU  Name        Persistence-M| Bus-Id        Disp.A | Volatile Uncorr. ECC |\n",
            "| Fan  Temp  Perf  Pwr:Usage/Cap|         Memory-Usage | GPU-Util  Compute M. |\n",
            "|                               |                      |               MIG M. |\n",
            "|===============================+======================+======================|\n",
            "|   0  Tesla V100-SXM2...  Off  | 00000000:00:04.0 Off |                    0 |\n",
            "| N/A   30C    P0    24W / 300W |      0MiB / 16384MiB |      0%      Default |\n",
            "|                               |                      |                  N/A |\n",
            "+-------------------------------+----------------------+----------------------+\n",
            "                                                                               \n",
            "+-----------------------------------------------------------------------------+\n",
            "| Processes:                                                                  |\n",
            "|  GPU   GI   CI        PID   Type   Process name                  GPU Memory |\n",
            "|        ID   ID                                                   Usage      |\n",
            "|=============================================================================|\n",
            "|  No running processes found                                                 |\n",
            "+-----------------------------------------------------------------------------+\n",
            "Your runtime has 13.6 gigabytes of available RAM\n",
            "\n",
            "Not using a high-RAM runtime\n"
          ]
        }
      ],
      "source": [
        "from psutil import virtual_memory\n",
        "\n",
        "gpu_info = !nvidia-smi\n",
        "gpu_info = '\\n'.join(gpu_info)\n",
        "if gpu_info.find('failed') >= 0:\n",
        "    print('Not connected to a GPU')\n",
        "else:\n",
        "    print(gpu_info)\n",
        "\n",
        "\n",
        "ram_gb = virtual_memory().total / 1e9\n",
        "print('Your runtime has {:.1f} gigabytes of available RAM\\n'.format(ram_gb))\n",
        "\n",
        "if ram_gb < 20:\n",
        "    print('Not using a high-RAM runtime')\n",
        "else:\n",
        "    print('You are using a high-RAM runtime!')"
      ]
    },
    {
      "cell_type": "markdown",
      "metadata": {
        "id": "9lBmQa9Rh7es"
      },
      "source": [
        "# Fix G-Drive"
      ]
    },
    {
      "cell_type": "code",
      "execution_count": 3,
      "metadata": {
        "id": "KBNHcIMGh7es",
        "outputId": "82358347-2946-4872-fd7d-ca4b3c519b3c",
        "colab": {
          "base_uri": "https://localhost:8080/"
        }
      },
      "outputs": [
        {
          "output_type": "stream",
          "name": "stdout",
          "text": [
            "Installing G-Drive ... \n"
          ]
        }
      ],
      "source": [
        "import os\n",
        "\n",
        "if not LOCAL_MACHINE:\n",
        "    print(\"Installing G-Drive ... \")\n",
        "    os.system(\"pip install -U --no-cache-dir gdown --pre > /dev/null\")"
      ]
    },
    {
      "cell_type": "markdown",
      "metadata": {
        "id": "ZfrLpMKph7et"
      },
      "source": [
        "# Mount G-Drive"
      ]
    },
    {
      "cell_type": "code",
      "execution_count": 4,
      "metadata": {
        "id": "P9xbY2Ggh7et",
        "outputId": "64e342ee-1f1b-4a84-c238-8888604a772f",
        "colab": {
          "base_uri": "https://localhost:8080/"
        }
      },
      "outputs": [
        {
          "output_type": "stream",
          "name": "stdout",
          "text": [
            "Drive already mounted at /content/drive; to attempt to forcibly remount, call drive.mount(\"/content/drive\", force_remount=True).\n"
          ]
        }
      ],
      "source": [
        "if not LOCAL_MACHINE:\n",
        "    from google.colab import drive\n",
        "\n",
        "    drive.mount(\"/content/drive\")"
      ]
    },
    {
      "cell_type": "markdown",
      "metadata": {
        "id": "0lWGNCyCh7et"
      },
      "source": [
        "# Download and Extract Dataset"
      ]
    },
    {
      "cell_type": "code",
      "execution_count": 5,
      "metadata": {
        "id": "ImKwSB_kh7et",
        "outputId": "ae8b6376-e09f-485c-e5ab-773dc63c3138",
        "colab": {
          "base_uri": "https://localhost:8080/"
        }
      },
      "outputs": [
        {
          "output_type": "stream",
          "name": "stdout",
          "text": [
            "Downloading Dataset ... \n",
            "Extracting Dataset ... \n"
          ]
        }
      ],
      "source": [
        "if not LOCAL_MACHINE:\n",
        "    print(\"Downloading Dataset ... \")\n",
        "    os.system(\"gdown 1xBO079FPIeE7T5VVsFwc8QeZxAfS4J9O\")\n",
        "    print(\"Extracting Dataset ... \")\n",
        "    os.system('unzip -o \"TAVI_REG_r17.zip\" > /dev/null')"
      ]
    },
    {
      "cell_type": "markdown",
      "metadata": {
        "id": "tq1mCzROh7eu"
      },
      "source": [
        "# Imports"
      ]
    },
    {
      "cell_type": "code",
      "execution_count": 6,
      "metadata": {
        "id": "nClEc8uph7eu"
      },
      "outputs": [],
      "source": [
        "import datetime\n",
        "import numpy as np\n",
        "import pandas as pd\n",
        "import tensorflow as tf\n",
        "import matplotlib.pyplot as plt\n",
        "\n",
        "from tqdm import tqdm\n",
        "from PIL import Image"
      ]
    },
    {
      "cell_type": "markdown",
      "metadata": {
        "id": "cqPlBIIPh7eu"
      },
      "source": [
        "# Problem Config"
      ]
    },
    {
      "cell_type": "code",
      "execution_count": 7,
      "metadata": {
        "id": "njUHcK7Xh7eu"
      },
      "outputs": [],
      "source": [
        "PROBLEM = \"Curvature_2_Pressure\"\n",
        "\n",
        "MODEL_NAME = \"MultiViewUNet\"\n",
        "DATASET_PATH = \"/content/Images/\"\n",
        "TRAIN_DIR = \"Train/\"\n",
        "TEST_DIR = \"Test/\"\n",
        "INPUT_DIR = PROBLEM.split(\"_2_\")[0]\n",
        "TARGET_DIR = PROBLEM.split(\"_2_\")[1]\n",
        "MODEL_PATH = \"/content/drive/MyDrive/Research/TAVI/Models/\"\n",
        "PRED_PATH = \"/content/drive/MyDrive/Research/TAVI/Predictions/\"\n",
        "IMG_SIZE = 256\n",
        "BATCH_SIZE = 16\n",
        "BUFFER_SIZE = 1000\n",
        "VAL_SPLIT = 0.2\n",
        "LEARNING_RATE = 0.001\n",
        "N_EPOCHS = 300\n",
        "PATIENCE = 30\n",
        "DROPOUT = 0.2\n",
        "\n",
        "EXP_NAME = f\"{PROBLEM}_{MODEL_NAME}_DO_{DROPOUT}\""
      ]
    },
    {
      "cell_type": "markdown",
      "metadata": {
        "id": "yfz3WJv1h7eu"
      },
      "source": [
        "# Architecture"
      ]
    },
    {
      "cell_type": "markdown",
      "metadata": {
        "id": "VJM2NlWwh7eu"
      },
      "source": [
        "## Vanilla UNet"
      ]
    },
    {
      "cell_type": "code",
      "execution_count": 8,
      "metadata": {
        "id": "e1VqTrGrh7eu"
      },
      "outputs": [],
      "source": [
        "class UNet:\n",
        "    def __init__(\n",
        "        self,\n",
        "        img_size: int,\n",
        "        n_channels: int = 3,\n",
        "        width: int = 32,\n",
        "        depth: int = 4,\n",
        "        kernel_size: int = 3,\n",
        "    ):\n",
        "        self.img_size = img_size\n",
        "        self.n_channels = n_channels\n",
        "        self.width = width\n",
        "        self.depth = depth\n",
        "        self.kernel_size = kernel_size\n",
        "\n",
        "    @staticmethod\n",
        "    def conv(x: tf.Tensor, filters: int, kernel_size: int) -> tf.Tensor:\n",
        "        for i in range(2):\n",
        "            x = tf.keras.layers.Conv2D(\n",
        "                filters=filters,\n",
        "                kernel_size=kernel_size,\n",
        "                strides=1,\n",
        "                padding=\"same\",\n",
        "                data_format=\"channels_last\",\n",
        "                dilation_rate=1,\n",
        "                groups=1,\n",
        "                activation=None,\n",
        "                use_bias=True,\n",
        "                kernel_initializer=\"glorot_uniform\",\n",
        "                bias_initializer=\"zeros\",\n",
        "            )(x)\n",
        "\n",
        "            x = tf.keras.layers.BatchNormalization()(x)\n",
        "            x = tf.keras.layers.Activation(\"relu\")(x)\n",
        "\n",
        "        return x\n",
        "\n",
        "    @staticmethod\n",
        "    def deconv(x: tf.Tensor, filters: int) -> tf.Tensor:\n",
        "        x = tf.keras.layers.Conv2DTranspose(\n",
        "            filters=filters,\n",
        "            kernel_size=2,\n",
        "            strides=2,\n",
        "            padding=\"same\",\n",
        "            output_padding=None,\n",
        "            data_format=None,\n",
        "            dilation_rate=1,\n",
        "            activation=None,\n",
        "            use_bias=True,\n",
        "            kernel_initializer=\"glorot_uniform\",\n",
        "            bias_initializer=\"zeros\",\n",
        "        )(x)\n",
        "\n",
        "        x = tf.keras.layers.BatchNormalization()(x)\n",
        "        x = tf.keras.layers.Activation(\"relu\")(x)\n",
        "\n",
        "        return x\n",
        "\n",
        "    @staticmethod\n",
        "    def output(x: tf.Tensor) -> tf.Tensor:\n",
        "        return tf.keras.layers.Conv2D(3, (1, 1), activation=\"sigmoid\")(x)\n",
        "\n",
        "    @staticmethod\n",
        "    def pool(x: tf.Tensor, pool_size: int = 2) -> tf.Tensor:\n",
        "        return tf.keras.layers.MaxPool2D(pool_size)(x)\n",
        "\n",
        "    @staticmethod\n",
        "    def dropout(x: tf.Tensor, amount: float = 0.2) -> tf.Tensor:\n",
        "        return tf.keras.layers.Dropout(amount)(x)\n",
        "\n",
        "    def __call__(self) -> tf.keras.Model:\n",
        "        inputs = tf.keras.layers.Input(\n",
        "            shape=(self.img_size, self.img_size, self.n_channels)\n",
        "        )\n",
        "\n",
        "        # scaled = tf.keras.layers.Rescaling(1./255.0, offset=0)(inputs)\n",
        "\n",
        "        # ------------------ Downsampling ---------------------\n",
        "        downsample_layers = []\n",
        "        downsample_layers.append(\n",
        "            self.conv(x=inputs, filters=self.width,\n",
        "                      kernel_size=self.kernel_size)\n",
        "        )\n",
        "        for i in range(1, self.depth):\n",
        "            dropout_amount = 0.2 if i == 1 else DROPOUT\n",
        "            filters = int((2**i) * self.width)\n",
        "            downsample_layers.append(\n",
        "                self.dropout(\n",
        "                    self.pool(\n",
        "                        self.conv(\n",
        "                            x=downsample_layers[i - 1],\n",
        "                            filters=filters,\n",
        "                            kernel_size=self.kernel_size,\n",
        "                        )\n",
        "                    ),\n",
        "                    amount=dropout_amount,\n",
        "                )\n",
        "            )\n",
        "\n",
        "        # ------------------- Features --------------------\n",
        "        n_features = int((2**self.depth) * self.width)\n",
        "        self.features = self.pool(\n",
        "            self.conv(\n",
        "                x=downsample_layers[-1],\n",
        "                filters=n_features,\n",
        "                kernel_size=self.kernel_size,\n",
        "            )\n",
        "        )\n",
        "\n",
        "        # ------------------- Upsampling --------------------\n",
        "        upsample_layers = []\n",
        "        upsample_layers.append(self.features)\n",
        "        for i in range(1, self.depth + 1):\n",
        "            filters = int((2 ** (self.depth - i)) * self.width)\n",
        "            upsample_layers.append(\n",
        "                self.conv(\n",
        "                    x=self.dropout(\n",
        "                        tf.keras.layers.concatenate(\n",
        "                            [\n",
        "                                downsample_layers[self.depth - i],\n",
        "                                self.deconv(\n",
        "                                    x=upsample_layers[i - 1], filters=filters),\n",
        "                            ]\n",
        "                        )\n",
        "                    ),\n",
        "                    filters=filters,\n",
        "                    kernel_size=self.kernel_size,\n",
        "                )\n",
        "            )\n",
        "\n",
        "        # ---------------------- Output -----------------------\n",
        "        outputs = self.output(upsample_layers[-1])\n",
        "\n",
        "        return tf.keras.Model(inputs, outputs)"
      ]
    },
    {
      "cell_type": "markdown",
      "metadata": {
        "id": "demEopCeh7ev"
      },
      "source": [
        "# Loss Functions / Metrics"
      ]
    },
    {
      "cell_type": "code",
      "execution_count": 9,
      "metadata": {
        "id": "9-ke3H-6h7ev"
      },
      "outputs": [],
      "source": [
        "def attention_mse(y_true, y_pred):\n",
        "    _y_true = y_true[y_true != 1.0]\n",
        "    _y_pred = y_pred[y_true != 1.0]\n",
        "    squared_difference = tf.square(_y_true - _y_pred)\n",
        "    return tf.reduce_mean(squared_difference, axis=-1)\n",
        "\n",
        "\n",
        "def attention_mae(y_true, y_pred):\n",
        "    _y_true = y_true[y_true != 1.0]\n",
        "    _y_pred = y_pred[y_true != 1.0]\n",
        "    squared_difference = tf.abs(_y_true - _y_pred)\n",
        "    return tf.reduce_mean(squared_difference, axis=-1)"
      ]
    },
    {
      "cell_type": "markdown",
      "metadata": {
        "id": "JS70cKevh7ev"
      },
      "source": [
        "# Data Loader"
      ]
    },
    {
      "cell_type": "code",
      "execution_count": 10,
      "metadata": {
        "id": "1nL0lVRSh7ev"
      },
      "outputs": [],
      "source": [
        "def load_data_from_dir(path: str) -> tf.data.Dataset:\n",
        "    return tf.keras.utils.image_dataset_from_directory(\n",
        "        directory=path,\n",
        "        labels=None,\n",
        "        color_mode=\"rgb\",\n",
        "        batch_size=BATCH_SIZE,\n",
        "        image_size=(IMG_SIZE, IMG_SIZE),\n",
        "        shuffle=False,\n",
        "        seed=42,\n",
        "        interpolation=\"bilinear\",\n",
        "        follow_links=False,\n",
        "        crop_to_aspect_ratio=False,\n",
        "    )"
      ]
    },
    {
      "cell_type": "markdown",
      "metadata": {
        "id": "fUnFP3mFh7ev"
      },
      "source": [
        "# Load Dataset"
      ]
    },
    {
      "cell_type": "code",
      "execution_count": 11,
      "metadata": {
        "id": "M40uLH5mh7ev",
        "outputId": "baf2efb4-6d73-485b-9600-203a6f5a3af7",
        "colab": {
          "base_uri": "https://localhost:8080/"
        }
      },
      "outputs": [
        {
          "output_type": "stream",
          "name": "stdout",
          "text": [
            "Found 504 files belonging to 1 classes.\n",
            "Found 504 files belonging to 1 classes.\n",
            "Found 144 files belonging to 1 classes.\n",
            "Found 144 files belonging to 1 classes.\n",
            "(TensorSpec(shape=(None, 256, 256, 3), dtype=tf.float32, name=None), TensorSpec(shape=(None, 256, 256, 3), dtype=tf.float32, name=None))\n",
            "(TensorSpec(shape=(None, 256, 256, 3), dtype=tf.float32, name=None), TensorSpec(shape=(None, 256, 256, 3), dtype=tf.float32, name=None))\n"
          ]
        }
      ],
      "source": [
        "trainX = load_data_from_dir(os.path.join(DATASET_PATH, TRAIN_DIR, INPUT_DIR))\n",
        "trainY = load_data_from_dir(os.path.join(DATASET_PATH, TRAIN_DIR, TARGET_DIR))\n",
        "testX = load_data_from_dir(os.path.join(DATASET_PATH, TEST_DIR, INPUT_DIR))\n",
        "testY = load_data_from_dir(os.path.join(DATASET_PATH, TEST_DIR, TARGET_DIR))\n",
        "\n",
        "train_ds = tf.data.Dataset.zip((trainX, trainY))\n",
        "test_ds = tf.data.Dataset.zip((testX, testY))\n",
        "\n",
        "print(train_ds.element_spec)\n",
        "print(test_ds.element_spec)"
      ]
    },
    {
      "cell_type": "markdown",
      "metadata": {
        "id": "syHL14qrh7ev"
      },
      "source": [
        "# Normalization"
      ]
    },
    {
      "cell_type": "code",
      "execution_count": 12,
      "metadata": {
        "id": "F3FQHVSih7ew"
      },
      "outputs": [],
      "source": [
        "normalization_layer = tf.keras.layers.Rescaling(1.0 / 255)\n",
        "train_ds = train_ds.map(lambda x, y: (\n",
        "    normalization_layer(x), normalization_layer(y)))\n",
        "test_ds = test_ds.map(lambda x, y: (\n",
        "    normalization_layer(x), normalization_layer(y)))"
      ]
    },
    {
      "cell_type": "markdown",
      "metadata": {
        "id": "_tz4Gni1h7ew"
      },
      "source": [
        "# Optimization"
      ]
    },
    {
      "cell_type": "code",
      "execution_count": 13,
      "metadata": {
        "id": "T0ftWoxzh7ew"
      },
      "outputs": [],
      "source": [
        "AUTOTUNE = tf.data.AUTOTUNE\n",
        "train_batches = train_ds.cache().shuffle(\n",
        "    BUFFER_SIZE).prefetch(buffer_size=AUTOTUNE)\n",
        "test_batches = test_ds.cache().prefetch(buffer_size=AUTOTUNE)"
      ]
    },
    {
      "cell_type": "markdown",
      "metadata": {
        "id": "VizdFzJFh7ew"
      },
      "source": [
        "# Training Config"
      ]
    },
    {
      "cell_type": "code",
      "execution_count": 14,
      "metadata": {
        "id": "KsEiuUyIh7ew"
      },
      "outputs": [],
      "source": [
        "model_path = os.path.join(MODEL_PATH, EXP_NAME)\n",
        "\n",
        "callbacks = [\n",
        "    tf.keras.callbacks.EarlyStopping(\n",
        "        monitor=\"val_loss\", patience=PATIENCE, restore_best_weights=True\n",
        "    ),\n",
        "    tf.keras.callbacks.ModelCheckpoint(\n",
        "        model_path,\n",
        "        monitor=\"val_loss\",\n",
        "        verbose=1,\n",
        "        save_best_only=True,\n",
        "        save_weights_only=True,\n",
        "    ),\n",
        "]\n",
        "\n",
        "optimizer = tf.keras.optimizers.Adam(learning_rate=LEARNING_RATE)\n",
        "\n",
        "model = UNet(IMG_SIZE)()\n",
        "\n",
        "model.compile(loss=attention_mse, optimizer=optimizer, metrics=[attention_mae])"
      ]
    },
    {
      "cell_type": "markdown",
      "metadata": {
        "id": "DJN5uRXih7ew"
      },
      "source": [
        "# Load Saved Weights"
      ]
    },
    {
      "cell_type": "code",
      "execution_count": 15,
      "metadata": {
        "id": "ncDyEeavh7ew"
      },
      "outputs": [],
      "source": [
        "# try:\n",
        "#     model.load_weights(model_path)\n",
        "# except:\n",
        "#     print(\"Checkpoint not found\")\n",
        "#     pass"
      ]
    },
    {
      "cell_type": "markdown",
      "metadata": {
        "id": "LNG5F76Dh7ew"
      },
      "source": [
        "# Training"
      ]
    },
    {
      "cell_type": "code",
      "execution_count": 16,
      "metadata": {
        "id": "RmJMzj-Yh7ew",
        "outputId": "7d51d07a-ad11-4938-ae7b-6facc67fe9e5",
        "colab": {
          "base_uri": "https://localhost:8080/"
        }
      },
      "outputs": [
        {
          "output_type": "stream",
          "name": "stdout",
          "text": [
            "Epoch 1/300\n",
            "32/32 [==============================] - ETA: 0s - loss: 0.0317 - attention_mae: 0.1318\n",
            "Epoch 1: val_loss improved from inf to 0.09316, saving model to /content/drive/MyDrive/Research/TAVI/Models/Curvature_2_Pressure_MultiViewUNet_DO_0.2\n",
            "32/32 [==============================] - 55s 454ms/step - loss: 0.0317 - attention_mae: 0.1318 - val_loss: 0.0932 - val_attention_mae: 0.2444\n",
            "Epoch 2/300\n",
            "32/32 [==============================] - ETA: 0s - loss: 0.0228 - attention_mae: 0.1083\n",
            "Epoch 2: val_loss improved from 0.09316 to 0.07629, saving model to /content/drive/MyDrive/Research/TAVI/Models/Curvature_2_Pressure_MultiViewUNet_DO_0.2\n",
            "32/32 [==============================] - 9s 274ms/step - loss: 0.0228 - attention_mae: 0.1083 - val_loss: 0.0763 - val_attention_mae: 0.2034\n",
            "Epoch 3/300\n",
            "32/32 [==============================] - ETA: 0s - loss: 0.0225 - attention_mae: 0.1074\n",
            "Epoch 3: val_loss improved from 0.07629 to 0.07144, saving model to /content/drive/MyDrive/Research/TAVI/Models/Curvature_2_Pressure_MultiViewUNet_DO_0.2\n",
            "32/32 [==============================] - 9s 292ms/step - loss: 0.0225 - attention_mae: 0.1074 - val_loss: 0.0714 - val_attention_mae: 0.1981\n",
            "Epoch 4/300\n",
            "32/32 [==============================] - ETA: 0s - loss: 0.0189 - attention_mae: 0.0945\n",
            "Epoch 4: val_loss improved from 0.07144 to 0.07113, saving model to /content/drive/MyDrive/Research/TAVI/Models/Curvature_2_Pressure_MultiViewUNet_DO_0.2\n",
            "32/32 [==============================] - 9s 282ms/step - loss: 0.0189 - attention_mae: 0.0945 - val_loss: 0.0711 - val_attention_mae: 0.1965\n",
            "Epoch 5/300\n",
            "32/32 [==============================] - ETA: 0s - loss: 0.0174 - attention_mae: 0.0910\n",
            "Epoch 5: val_loss improved from 0.07113 to 0.06878, saving model to /content/drive/MyDrive/Research/TAVI/Models/Curvature_2_Pressure_MultiViewUNet_DO_0.2\n",
            "32/32 [==============================] - 9s 268ms/step - loss: 0.0174 - attention_mae: 0.0910 - val_loss: 0.0688 - val_attention_mae: 0.1950\n",
            "Epoch 6/300\n",
            "32/32 [==============================] - ETA: 0s - loss: 0.0162 - attention_mae: 0.0852\n",
            "Epoch 6: val_loss improved from 0.06878 to 0.05653, saving model to /content/drive/MyDrive/Research/TAVI/Models/Curvature_2_Pressure_MultiViewUNet_DO_0.2\n",
            "32/32 [==============================] - 9s 287ms/step - loss: 0.0162 - attention_mae: 0.0852 - val_loss: 0.0565 - val_attention_mae: 0.1770\n",
            "Epoch 7/300\n",
            "32/32 [==============================] - ETA: 0s - loss: 0.0157 - attention_mae: 0.0855\n",
            "Epoch 7: val_loss improved from 0.05653 to 0.05484, saving model to /content/drive/MyDrive/Research/TAVI/Models/Curvature_2_Pressure_MultiViewUNet_DO_0.2\n",
            "32/32 [==============================] - 9s 269ms/step - loss: 0.0157 - attention_mae: 0.0855 - val_loss: 0.0548 - val_attention_mae: 0.1765\n",
            "Epoch 8/300\n",
            "32/32 [==============================] - ETA: 0s - loss: 0.0132 - attention_mae: 0.0745\n",
            "Epoch 8: val_loss improved from 0.05484 to 0.04609, saving model to /content/drive/MyDrive/Research/TAVI/Models/Curvature_2_Pressure_MultiViewUNet_DO_0.2\n",
            "32/32 [==============================] - 9s 282ms/step - loss: 0.0132 - attention_mae: 0.0745 - val_loss: 0.0461 - val_attention_mae: 0.1652\n",
            "Epoch 9/300\n",
            "32/32 [==============================] - ETA: 0s - loss: 0.0117 - attention_mae: 0.0695\n",
            "Epoch 9: val_loss improved from 0.04609 to 0.02507, saving model to /content/drive/MyDrive/Research/TAVI/Models/Curvature_2_Pressure_MultiViewUNet_DO_0.2\n",
            "32/32 [==============================] - 9s 275ms/step - loss: 0.0117 - attention_mae: 0.0695 - val_loss: 0.0251 - val_attention_mae: 0.1192\n",
            "Epoch 10/300\n",
            "32/32 [==============================] - ETA: 0s - loss: 0.0101 - attention_mae: 0.0610\n",
            "Epoch 10: val_loss improved from 0.02507 to 0.02266, saving model to /content/drive/MyDrive/Research/TAVI/Models/Curvature_2_Pressure_MultiViewUNet_DO_0.2\n",
            "32/32 [==============================] - 9s 269ms/step - loss: 0.0101 - attention_mae: 0.0610 - val_loss: 0.0227 - val_attention_mae: 0.1048\n",
            "Epoch 11/300\n",
            "32/32 [==============================] - ETA: 0s - loss: 0.0097 - attention_mae: 0.0602\n",
            "Epoch 11: val_loss did not improve from 0.02266\n",
            "32/32 [==============================] - 8s 248ms/step - loss: 0.0097 - attention_mae: 0.0602 - val_loss: 0.0277 - val_attention_mae: 0.1112\n",
            "Epoch 12/300\n",
            "32/32 [==============================] - ETA: 0s - loss: 0.0086 - attention_mae: 0.0534\n",
            "Epoch 12: val_loss improved from 0.02266 to 0.01985, saving model to /content/drive/MyDrive/Research/TAVI/Models/Curvature_2_Pressure_MultiViewUNet_DO_0.2\n",
            "32/32 [==============================] - 9s 275ms/step - loss: 0.0086 - attention_mae: 0.0534 - val_loss: 0.0198 - val_attention_mae: 0.0883\n",
            "Epoch 13/300\n",
            "32/32 [==============================] - ETA: 0s - loss: 0.0082 - attention_mae: 0.0507\n",
            "Epoch 13: val_loss did not improve from 0.01985\n",
            "32/32 [==============================] - 8s 248ms/step - loss: 0.0082 - attention_mae: 0.0507 - val_loss: 0.0212 - val_attention_mae: 0.0881\n",
            "Epoch 14/300\n",
            "32/32 [==============================] - ETA: 0s - loss: 0.0082 - attention_mae: 0.0502\n",
            "Epoch 14: val_loss improved from 0.01985 to 0.01243, saving model to /content/drive/MyDrive/Research/TAVI/Models/Curvature_2_Pressure_MultiViewUNet_DO_0.2\n",
            "32/32 [==============================] - 9s 268ms/step - loss: 0.0082 - attention_mae: 0.0502 - val_loss: 0.0124 - val_attention_mae: 0.0632\n",
            "Epoch 15/300\n",
            "32/32 [==============================] - ETA: 0s - loss: 0.0079 - attention_mae: 0.0490\n",
            "Epoch 15: val_loss did not improve from 0.01243\n",
            "32/32 [==============================] - 8s 256ms/step - loss: 0.0079 - attention_mae: 0.0490 - val_loss: 0.0193 - val_attention_mae: 0.0752\n",
            "Epoch 16/300\n",
            "32/32 [==============================] - ETA: 0s - loss: 0.0076 - attention_mae: 0.0475\n",
            "Epoch 16: val_loss did not improve from 0.01243\n",
            "32/32 [==============================] - 8s 247ms/step - loss: 0.0076 - attention_mae: 0.0475 - val_loss: 0.0137 - val_attention_mae: 0.0638\n",
            "Epoch 17/300\n",
            "32/32 [==============================] - ETA: 0s - loss: 0.0072 - attention_mae: 0.0457\n",
            "Epoch 17: val_loss did not improve from 0.01243\n",
            "32/32 [==============================] - 8s 250ms/step - loss: 0.0072 - attention_mae: 0.0457 - val_loss: 0.0129 - val_attention_mae: 0.0591\n",
            "Epoch 18/300\n",
            "32/32 [==============================] - ETA: 0s - loss: 0.0072 - attention_mae: 0.0457\n",
            "Epoch 18: val_loss improved from 0.01243 to 0.01041, saving model to /content/drive/MyDrive/Research/TAVI/Models/Curvature_2_Pressure_MultiViewUNet_DO_0.2\n",
            "32/32 [==============================] - 9s 277ms/step - loss: 0.0072 - attention_mae: 0.0457 - val_loss: 0.0104 - val_attention_mae: 0.0511\n",
            "Epoch 19/300\n",
            "32/32 [==============================] - ETA: 0s - loss: 0.0074 - attention_mae: 0.0459\n",
            "Epoch 19: val_loss did not improve from 0.01041\n",
            "32/32 [==============================] - 8s 248ms/step - loss: 0.0074 - attention_mae: 0.0459 - val_loss: 0.0130 - val_attention_mae: 0.0705\n",
            "Epoch 20/300\n",
            "32/32 [==============================] - ETA: 0s - loss: 0.0070 - attention_mae: 0.0442\n",
            "Epoch 20: val_loss did not improve from 0.01041\n",
            "32/32 [==============================] - 8s 247ms/step - loss: 0.0070 - attention_mae: 0.0442 - val_loss: 0.0123 - val_attention_mae: 0.0529\n",
            "Epoch 21/300\n",
            "32/32 [==============================] - ETA: 0s - loss: 0.0070 - attention_mae: 0.0448\n",
            "Epoch 21: val_loss did not improve from 0.01041\n",
            "32/32 [==============================] - 8s 249ms/step - loss: 0.0070 - attention_mae: 0.0448 - val_loss: 0.0158 - val_attention_mae: 0.0625\n",
            "Epoch 22/300\n",
            "32/32 [==============================] - ETA: 0s - loss: 0.0067 - attention_mae: 0.0431\n",
            "Epoch 22: val_loss improved from 0.01041 to 0.00883, saving model to /content/drive/MyDrive/Research/TAVI/Models/Curvature_2_Pressure_MultiViewUNet_DO_0.2\n",
            "32/32 [==============================] - 9s 271ms/step - loss: 0.0067 - attention_mae: 0.0431 - val_loss: 0.0088 - val_attention_mae: 0.0453\n",
            "Epoch 23/300\n",
            "32/32 [==============================] - ETA: 0s - loss: 0.0064 - attention_mae: 0.0414\n",
            "Epoch 23: val_loss improved from 0.00883 to 0.00873, saving model to /content/drive/MyDrive/Research/TAVI/Models/Curvature_2_Pressure_MultiViewUNet_DO_0.2\n",
            "32/32 [==============================] - 9s 268ms/step - loss: 0.0064 - attention_mae: 0.0414 - val_loss: 0.0087 - val_attention_mae: 0.0469\n",
            "Epoch 24/300\n",
            "32/32 [==============================] - ETA: 0s - loss: 0.0063 - attention_mae: 0.0410\n",
            "Epoch 24: val_loss improved from 0.00873 to 0.00728, saving model to /content/drive/MyDrive/Research/TAVI/Models/Curvature_2_Pressure_MultiViewUNet_DO_0.2\n",
            "32/32 [==============================] - 9s 297ms/step - loss: 0.0063 - attention_mae: 0.0410 - val_loss: 0.0073 - val_attention_mae: 0.0398\n",
            "Epoch 25/300\n",
            "32/32 [==============================] - ETA: 0s - loss: 0.0062 - attention_mae: 0.0406\n",
            "Epoch 25: val_loss did not improve from 0.00728\n",
            "32/32 [==============================] - 8s 248ms/step - loss: 0.0062 - attention_mae: 0.0406 - val_loss: 0.0082 - val_attention_mae: 0.0449\n",
            "Epoch 26/300\n",
            "32/32 [==============================] - ETA: 0s - loss: 0.0065 - attention_mae: 0.0410\n",
            "Epoch 26: val_loss improved from 0.00728 to 0.00715, saving model to /content/drive/MyDrive/Research/TAVI/Models/Curvature_2_Pressure_MultiViewUNet_DO_0.2\n",
            "32/32 [==============================] - 9s 280ms/step - loss: 0.0065 - attention_mae: 0.0410 - val_loss: 0.0071 - val_attention_mae: 0.0409\n",
            "Epoch 27/300\n",
            "32/32 [==============================] - ETA: 0s - loss: 0.0062 - attention_mae: 0.0403\n",
            "Epoch 27: val_loss improved from 0.00715 to 0.00669, saving model to /content/drive/MyDrive/Research/TAVI/Models/Curvature_2_Pressure_MultiViewUNet_DO_0.2\n",
            "32/32 [==============================] - 9s 267ms/step - loss: 0.0062 - attention_mae: 0.0403 - val_loss: 0.0067 - val_attention_mae: 0.0394\n",
            "Epoch 28/300\n",
            "32/32 [==============================] - ETA: 0s - loss: 0.0061 - attention_mae: 0.0397\n",
            "Epoch 28: val_loss did not improve from 0.00669\n",
            "32/32 [==============================] - 8s 256ms/step - loss: 0.0061 - attention_mae: 0.0397 - val_loss: 0.0071 - val_attention_mae: 0.0397\n",
            "Epoch 29/300\n",
            "32/32 [==============================] - ETA: 0s - loss: 0.0060 - attention_mae: 0.0387\n",
            "Epoch 29: val_loss did not improve from 0.00669\n",
            "32/32 [==============================] - 8s 247ms/step - loss: 0.0060 - attention_mae: 0.0387 - val_loss: 0.0080 - val_attention_mae: 0.0447\n",
            "Epoch 30/300\n",
            "32/32 [==============================] - ETA: 0s - loss: 0.0058 - attention_mae: 0.0377\n",
            "Epoch 30: val_loss did not improve from 0.00669\n",
            "32/32 [==============================] - 8s 250ms/step - loss: 0.0058 - attention_mae: 0.0377 - val_loss: 0.0078 - val_attention_mae: 0.0440\n",
            "Epoch 31/300\n",
            "32/32 [==============================] - ETA: 0s - loss: 0.0058 - attention_mae: 0.0379\n",
            "Epoch 31: val_loss did not improve from 0.00669\n",
            "32/32 [==============================] - 8s 250ms/step - loss: 0.0058 - attention_mae: 0.0379 - val_loss: 0.0084 - val_attention_mae: 0.0453\n",
            "Epoch 32/300\n",
            "32/32 [==============================] - ETA: 0s - loss: 0.0058 - attention_mae: 0.0373\n",
            "Epoch 32: val_loss did not improve from 0.00669\n",
            "32/32 [==============================] - 8s 257ms/step - loss: 0.0058 - attention_mae: 0.0373 - val_loss: 0.0086 - val_attention_mae: 0.0419\n",
            "Epoch 33/300\n",
            "32/32 [==============================] - ETA: 0s - loss: 0.0058 - attention_mae: 0.0374\n",
            "Epoch 33: val_loss did not improve from 0.00669\n",
            "32/32 [==============================] - 8s 247ms/step - loss: 0.0058 - attention_mae: 0.0374 - val_loss: 0.0075 - val_attention_mae: 0.0392\n",
            "Epoch 34/300\n",
            "32/32 [==============================] - ETA: 0s - loss: 0.0056 - attention_mae: 0.0364\n",
            "Epoch 34: val_loss did not improve from 0.00669\n",
            "32/32 [==============================] - 8s 256ms/step - loss: 0.0056 - attention_mae: 0.0364 - val_loss: 0.0075 - val_attention_mae: 0.0438\n",
            "Epoch 35/300\n",
            "32/32 [==============================] - ETA: 0s - loss: 0.0057 - attention_mae: 0.0374\n",
            "Epoch 35: val_loss did not improve from 0.00669\n",
            "32/32 [==============================] - 8s 247ms/step - loss: 0.0057 - attention_mae: 0.0374 - val_loss: 0.0098 - val_attention_mae: 0.0541\n",
            "Epoch 36/300\n",
            "32/32 [==============================] - ETA: 0s - loss: 0.0058 - attention_mae: 0.0372\n",
            "Epoch 36: val_loss did not improve from 0.00669\n",
            "32/32 [==============================] - 8s 250ms/step - loss: 0.0058 - attention_mae: 0.0372 - val_loss: 0.0078 - val_attention_mae: 0.0453\n",
            "Epoch 37/300\n",
            "32/32 [==============================] - ETA: 0s - loss: 0.0055 - attention_mae: 0.0358\n",
            "Epoch 37: val_loss did not improve from 0.00669\n",
            "32/32 [==============================] - 8s 254ms/step - loss: 0.0055 - attention_mae: 0.0358 - val_loss: 0.0083 - val_attention_mae: 0.0482\n",
            "Epoch 38/300\n",
            "32/32 [==============================] - ETA: 0s - loss: 0.0057 - attention_mae: 0.0370\n",
            "Epoch 38: val_loss did not improve from 0.00669\n",
            "32/32 [==============================] - 8s 249ms/step - loss: 0.0057 - attention_mae: 0.0370 - val_loss: 0.0101 - val_attention_mae: 0.0574\n",
            "Epoch 39/300\n",
            "32/32 [==============================] - ETA: 0s - loss: 0.0057 - attention_mae: 0.0376\n",
            "Epoch 39: val_loss did not improve from 0.00669\n",
            "32/32 [==============================] - 8s 246ms/step - loss: 0.0057 - attention_mae: 0.0376 - val_loss: 0.0088 - val_attention_mae: 0.0523\n",
            "Epoch 40/300\n",
            "32/32 [==============================] - ETA: 0s - loss: 0.0056 - attention_mae: 0.0366\n",
            "Epoch 40: val_loss did not improve from 0.00669\n",
            "32/32 [==============================] - 8s 257ms/step - loss: 0.0056 - attention_mae: 0.0366 - val_loss: 0.0069 - val_attention_mae: 0.0418\n",
            "Epoch 41/300\n",
            "32/32 [==============================] - ETA: 0s - loss: 0.0054 - attention_mae: 0.0350\n",
            "Epoch 41: val_loss did not improve from 0.00669\n",
            "32/32 [==============================] - 8s 247ms/step - loss: 0.0054 - attention_mae: 0.0350 - val_loss: 0.0091 - val_attention_mae: 0.0580\n",
            "Epoch 42/300\n",
            "32/32 [==============================] - ETA: 0s - loss: 0.0054 - attention_mae: 0.0347\n",
            "Epoch 42: val_loss improved from 0.00669 to 0.00641, saving model to /content/drive/MyDrive/Research/TAVI/Models/Curvature_2_Pressure_MultiViewUNet_DO_0.2\n",
            "32/32 [==============================] - 9s 268ms/step - loss: 0.0054 - attention_mae: 0.0347 - val_loss: 0.0064 - val_attention_mae: 0.0392\n",
            "Epoch 43/300\n",
            "32/32 [==============================] - ETA: 0s - loss: 0.0052 - attention_mae: 0.0337\n",
            "Epoch 43: val_loss did not improve from 0.00641\n",
            "32/32 [==============================] - 8s 254ms/step - loss: 0.0052 - attention_mae: 0.0337 - val_loss: 0.0076 - val_attention_mae: 0.0453\n",
            "Epoch 44/300\n",
            "32/32 [==============================] - ETA: 0s - loss: 0.0051 - attention_mae: 0.0334\n",
            "Epoch 44: val_loss did not improve from 0.00641\n",
            "32/32 [==============================] - 8s 249ms/step - loss: 0.0051 - attention_mae: 0.0334 - val_loss: 0.0077 - val_attention_mae: 0.0428\n",
            "Epoch 45/300\n",
            "32/32 [==============================] - ETA: 0s - loss: 0.0052 - attention_mae: 0.0334\n",
            "Epoch 45: val_loss improved from 0.00641 to 0.00622, saving model to /content/drive/MyDrive/Research/TAVI/Models/Curvature_2_Pressure_MultiViewUNet_DO_0.2\n",
            "32/32 [==============================] - 9s 280ms/step - loss: 0.0052 - attention_mae: 0.0334 - val_loss: 0.0062 - val_attention_mae: 0.0393\n",
            "Epoch 46/300\n",
            "32/32 [==============================] - ETA: 0s - loss: 0.0051 - attention_mae: 0.0331\n",
            "Epoch 46: val_loss did not improve from 0.00622\n",
            "32/32 [==============================] - 8s 248ms/step - loss: 0.0051 - attention_mae: 0.0331 - val_loss: 0.0075 - val_attention_mae: 0.0432\n",
            "Epoch 47/300\n",
            "32/32 [==============================] - ETA: 0s - loss: 0.0050 - attention_mae: 0.0323\n",
            "Epoch 47: val_loss did not improve from 0.00622\n",
            "32/32 [==============================] - 8s 256ms/step - loss: 0.0050 - attention_mae: 0.0323 - val_loss: 0.0075 - val_attention_mae: 0.0478\n",
            "Epoch 48/300\n",
            "32/32 [==============================] - ETA: 0s - loss: 0.0050 - attention_mae: 0.0326\n",
            "Epoch 48: val_loss did not improve from 0.00622\n",
            "32/32 [==============================] - 8s 247ms/step - loss: 0.0050 - attention_mae: 0.0326 - val_loss: 0.0094 - val_attention_mae: 0.0512\n",
            "Epoch 49/300\n",
            "32/32 [==============================] - ETA: 0s - loss: 0.0052 - attention_mae: 0.0342\n",
            "Epoch 49: val_loss did not improve from 0.00622\n",
            "32/32 [==============================] - 8s 257ms/step - loss: 0.0052 - attention_mae: 0.0342 - val_loss: 0.0102 - val_attention_mae: 0.0618\n",
            "Epoch 50/300\n",
            "32/32 [==============================] - ETA: 0s - loss: 0.0051 - attention_mae: 0.0333\n",
            "Epoch 50: val_loss did not improve from 0.00622\n",
            "32/32 [==============================] - 8s 247ms/step - loss: 0.0051 - attention_mae: 0.0333 - val_loss: 0.0074 - val_attention_mae: 0.0439\n",
            "Epoch 51/300\n",
            "32/32 [==============================] - ETA: 0s - loss: 0.0050 - attention_mae: 0.0323\n",
            "Epoch 51: val_loss did not improve from 0.00622\n",
            "32/32 [==============================] - 8s 251ms/step - loss: 0.0050 - attention_mae: 0.0323 - val_loss: 0.0069 - val_attention_mae: 0.0461\n",
            "Epoch 52/300\n",
            "32/32 [==============================] - ETA: 0s - loss: 0.0049 - attention_mae: 0.0320\n",
            "Epoch 52: val_loss improved from 0.00622 to 0.00604, saving model to /content/drive/MyDrive/Research/TAVI/Models/Curvature_2_Pressure_MultiViewUNet_DO_0.2\n",
            "32/32 [==============================] - 9s 291ms/step - loss: 0.0049 - attention_mae: 0.0320 - val_loss: 0.0060 - val_attention_mae: 0.0406\n",
            "Epoch 53/300\n",
            "32/32 [==============================] - ETA: 0s - loss: 0.0049 - attention_mae: 0.0325\n",
            "Epoch 53: val_loss did not improve from 0.00604\n",
            "32/32 [==============================] - 8s 249ms/step - loss: 0.0049 - attention_mae: 0.0325 - val_loss: 0.0073 - val_attention_mae: 0.0443\n",
            "Epoch 54/300\n",
            "32/32 [==============================] - ETA: 0s - loss: 0.0048 - attention_mae: 0.0318\n",
            "Epoch 54: val_loss did not improve from 0.00604\n",
            "32/32 [==============================] - 8s 255ms/step - loss: 0.0048 - attention_mae: 0.0318 - val_loss: 0.0062 - val_attention_mae: 0.0376\n",
            "Epoch 55/300\n",
            "32/32 [==============================] - ETA: 0s - loss: 0.0048 - attention_mae: 0.0313\n",
            "Epoch 55: val_loss did not improve from 0.00604\n",
            "32/32 [==============================] - 8s 250ms/step - loss: 0.0048 - attention_mae: 0.0313 - val_loss: 0.0077 - val_attention_mae: 0.0485\n",
            "Epoch 56/300\n",
            "32/32 [==============================] - ETA: 0s - loss: 0.0047 - attention_mae: 0.0312\n",
            "Epoch 56: val_loss did not improve from 0.00604\n",
            "32/32 [==============================] - 8s 255ms/step - loss: 0.0047 - attention_mae: 0.0312 - val_loss: 0.0068 - val_attention_mae: 0.0415\n",
            "Epoch 57/300\n",
            "32/32 [==============================] - ETA: 0s - loss: 0.0046 - attention_mae: 0.0305\n",
            "Epoch 57: val_loss did not improve from 0.00604\n",
            "32/32 [==============================] - 8s 249ms/step - loss: 0.0046 - attention_mae: 0.0305 - val_loss: 0.0077 - val_attention_mae: 0.0487\n",
            "Epoch 58/300\n",
            "32/32 [==============================] - ETA: 0s - loss: 0.0046 - attention_mae: 0.0304\n",
            "Epoch 58: val_loss did not improve from 0.00604\n",
            "32/32 [==============================] - 8s 255ms/step - loss: 0.0046 - attention_mae: 0.0304 - val_loss: 0.0071 - val_attention_mae: 0.0374\n",
            "Epoch 59/300\n",
            "32/32 [==============================] - ETA: 0s - loss: 0.0047 - attention_mae: 0.0305\n",
            "Epoch 59: val_loss did not improve from 0.00604\n",
            "32/32 [==============================] - 8s 250ms/step - loss: 0.0047 - attention_mae: 0.0305 - val_loss: 0.0064 - val_attention_mae: 0.0396\n",
            "Epoch 60/300\n",
            "32/32 [==============================] - ETA: 0s - loss: 0.0047 - attention_mae: 0.0310\n",
            "Epoch 60: val_loss improved from 0.00604 to 0.00532, saving model to /content/drive/MyDrive/Research/TAVI/Models/Curvature_2_Pressure_MultiViewUNet_DO_0.2\n",
            "32/32 [==============================] - 9s 285ms/step - loss: 0.0047 - attention_mae: 0.0310 - val_loss: 0.0053 - val_attention_mae: 0.0315\n",
            "Epoch 61/300\n",
            "32/32 [==============================] - ETA: 0s - loss: 0.0046 - attention_mae: 0.0304\n",
            "Epoch 61: val_loss did not improve from 0.00532\n",
            "32/32 [==============================] - 8s 248ms/step - loss: 0.0046 - attention_mae: 0.0304 - val_loss: 0.0081 - val_attention_mae: 0.0493\n",
            "Epoch 62/300\n",
            "32/32 [==============================] - ETA: 0s - loss: 0.0049 - attention_mae: 0.0320\n",
            "Epoch 62: val_loss did not improve from 0.00532\n",
            "32/32 [==============================] - 8s 256ms/step - loss: 0.0049 - attention_mae: 0.0320 - val_loss: 0.0059 - val_attention_mae: 0.0327\n",
            "Epoch 63/300\n",
            "32/32 [==============================] - ETA: 0s - loss: 0.0047 - attention_mae: 0.0309\n",
            "Epoch 63: val_loss did not improve from 0.00532\n",
            "32/32 [==============================] - 8s 247ms/step - loss: 0.0047 - attention_mae: 0.0309 - val_loss: 0.0061 - val_attention_mae: 0.0347\n",
            "Epoch 64/300\n",
            "32/32 [==============================] - ETA: 0s - loss: 0.0045 - attention_mae: 0.0297\n",
            "Epoch 64: val_loss did not improve from 0.00532\n",
            "32/32 [==============================] - 8s 250ms/step - loss: 0.0045 - attention_mae: 0.0297 - val_loss: 0.0058 - val_attention_mae: 0.0341\n",
            "Epoch 65/300\n",
            "32/32 [==============================] - ETA: 0s - loss: 0.0044 - attention_mae: 0.0293\n",
            "Epoch 65: val_loss did not improve from 0.00532\n",
            "32/32 [==============================] - 8s 248ms/step - loss: 0.0044 - attention_mae: 0.0293 - val_loss: 0.0081 - val_attention_mae: 0.0465\n",
            "Epoch 66/300\n",
            "32/32 [==============================] - ETA: 0s - loss: 0.0044 - attention_mae: 0.0295\n",
            "Epoch 66: val_loss improved from 0.00532 to 0.00521, saving model to /content/drive/MyDrive/Research/TAVI/Models/Curvature_2_Pressure_MultiViewUNet_DO_0.2\n",
            "32/32 [==============================] - 9s 287ms/step - loss: 0.0044 - attention_mae: 0.0295 - val_loss: 0.0052 - val_attention_mae: 0.0327\n",
            "Epoch 67/300\n",
            "32/32 [==============================] - ETA: 0s - loss: 0.0044 - attention_mae: 0.0288\n",
            "Epoch 67: val_loss did not improve from 0.00521\n",
            "32/32 [==============================] - 8s 248ms/step - loss: 0.0044 - attention_mae: 0.0288 - val_loss: 0.0058 - val_attention_mae: 0.0361\n",
            "Epoch 68/300\n",
            "32/32 [==============================] - ETA: 0s - loss: 0.0043 - attention_mae: 0.0284\n",
            "Epoch 68: val_loss did not improve from 0.00521\n",
            "32/32 [==============================] - 8s 252ms/step - loss: 0.0043 - attention_mae: 0.0284 - val_loss: 0.0056 - val_attention_mae: 0.0342\n",
            "Epoch 69/300\n",
            "32/32 [==============================] - ETA: 0s - loss: 0.0043 - attention_mae: 0.0284\n",
            "Epoch 69: val_loss did not improve from 0.00521\n",
            "32/32 [==============================] - 8s 247ms/step - loss: 0.0043 - attention_mae: 0.0284 - val_loss: 0.0064 - val_attention_mae: 0.0430\n",
            "Epoch 70/300\n",
            "32/32 [==============================] - ETA: 0s - loss: 0.0045 - attention_mae: 0.0298\n",
            "Epoch 70: val_loss did not improve from 0.00521\n",
            "32/32 [==============================] - 8s 251ms/step - loss: 0.0045 - attention_mae: 0.0298 - val_loss: 0.0083 - val_attention_mae: 0.0529\n",
            "Epoch 71/300\n",
            "32/32 [==============================] - ETA: 0s - loss: 0.0050 - attention_mae: 0.0323\n",
            "Epoch 71: val_loss did not improve from 0.00521\n",
            "32/32 [==============================] - 8s 247ms/step - loss: 0.0050 - attention_mae: 0.0323 - val_loss: 0.0124 - val_attention_mae: 0.0736\n",
            "Epoch 72/300\n",
            "32/32 [==============================] - ETA: 0s - loss: 0.0218 - attention_mae: 0.0913\n",
            "Epoch 72: val_loss did not improve from 0.00521\n",
            "32/32 [==============================] - 8s 257ms/step - loss: 0.0218 - attention_mae: 0.0913 - val_loss: 0.2690 - val_attention_mae: 0.4462\n",
            "Epoch 73/300\n",
            "32/32 [==============================] - ETA: 0s - loss: 0.0175 - attention_mae: 0.0897\n",
            "Epoch 73: val_loss did not improve from 0.00521\n",
            "32/32 [==============================] - 8s 254ms/step - loss: 0.0175 - attention_mae: 0.0897 - val_loss: 0.1146 - val_attention_mae: 0.2694\n",
            "Epoch 74/300\n",
            "32/32 [==============================] - ETA: 0s - loss: 0.0117 - attention_mae: 0.0664\n",
            "Epoch 74: val_loss did not improve from 0.00521\n",
            "32/32 [==============================] - 8s 253ms/step - loss: 0.0117 - attention_mae: 0.0664 - val_loss: 0.0868 - val_attention_mae: 0.2327\n",
            "Epoch 75/300\n",
            "32/32 [==============================] - ETA: 0s - loss: 0.0099 - attention_mae: 0.0572\n",
            "Epoch 75: val_loss did not improve from 0.00521\n",
            "32/32 [==============================] - 8s 247ms/step - loss: 0.0099 - attention_mae: 0.0572 - val_loss: 0.0331 - val_attention_mae: 0.1407\n",
            "Epoch 76/300\n",
            "32/32 [==============================] - ETA: 0s - loss: 0.0091 - attention_mae: 0.0524\n",
            "Epoch 76: val_loss did not improve from 0.00521\n",
            "32/32 [==============================] - 8s 250ms/step - loss: 0.0091 - attention_mae: 0.0524 - val_loss: 0.0199 - val_attention_mae: 0.1085\n",
            "Epoch 77/300\n",
            "32/32 [==============================] - ETA: 0s - loss: 0.0085 - attention_mae: 0.0485\n",
            "Epoch 77: val_loss did not improve from 0.00521\n",
            "32/32 [==============================] - 8s 254ms/step - loss: 0.0085 - attention_mae: 0.0485 - val_loss: 0.0177 - val_attention_mae: 0.0975\n",
            "Epoch 78/300\n",
            "32/32 [==============================] - ETA: 0s - loss: 0.0080 - attention_mae: 0.0468\n",
            "Epoch 78: val_loss did not improve from 0.00521\n",
            "32/32 [==============================] - 8s 250ms/step - loss: 0.0080 - attention_mae: 0.0468 - val_loss: 0.0181 - val_attention_mae: 0.0918\n",
            "Epoch 79/300\n",
            "32/32 [==============================] - ETA: 0s - loss: 0.0076 - attention_mae: 0.0441\n",
            "Epoch 79: val_loss did not improve from 0.00521\n",
            "32/32 [==============================] - 8s 255ms/step - loss: 0.0076 - attention_mae: 0.0441 - val_loss: 0.0107 - val_attention_mae: 0.0523\n",
            "Epoch 80/300\n",
            "32/32 [==============================] - ETA: 0s - loss: 0.0074 - attention_mae: 0.0445\n",
            "Epoch 80: val_loss did not improve from 0.00521\n",
            "32/32 [==============================] - 8s 250ms/step - loss: 0.0074 - attention_mae: 0.0445 - val_loss: 0.0114 - val_attention_mae: 0.0597\n",
            "Epoch 81/300\n",
            "32/32 [==============================] - ETA: 0s - loss: 0.0071 - attention_mae: 0.0420\n",
            "Epoch 81: val_loss did not improve from 0.00521\n",
            "32/32 [==============================] - 8s 254ms/step - loss: 0.0071 - attention_mae: 0.0420 - val_loss: 0.0112 - val_attention_mae: 0.0508\n",
            "Epoch 82/300\n",
            "32/32 [==============================] - ETA: 0s - loss: 0.0068 - attention_mae: 0.0412\n",
            "Epoch 82: val_loss did not improve from 0.00521\n",
            "32/32 [==============================] - 8s 250ms/step - loss: 0.0068 - attention_mae: 0.0412 - val_loss: 0.0108 - val_attention_mae: 0.0480\n",
            "Epoch 83/300\n",
            "32/32 [==============================] - ETA: 0s - loss: 0.0067 - attention_mae: 0.0408\n",
            "Epoch 83: val_loss did not improve from 0.00521\n",
            "32/32 [==============================] - 8s 254ms/step - loss: 0.0067 - attention_mae: 0.0408 - val_loss: 0.0086 - val_attention_mae: 0.0441\n",
            "Epoch 84/300\n",
            "32/32 [==============================] - ETA: 0s - loss: 0.0065 - attention_mae: 0.0390\n",
            "Epoch 84: val_loss did not improve from 0.00521\n",
            "32/32 [==============================] - 8s 250ms/step - loss: 0.0065 - attention_mae: 0.0390 - val_loss: 0.0101 - val_attention_mae: 0.0475\n",
            "Epoch 85/300\n",
            "32/32 [==============================] - ETA: 0s - loss: 0.0064 - attention_mae: 0.0390\n",
            "Epoch 85: val_loss did not improve from 0.00521\n",
            "32/32 [==============================] - 8s 247ms/step - loss: 0.0064 - attention_mae: 0.0390 - val_loss: 0.0100 - val_attention_mae: 0.0474\n",
            "Epoch 86/300\n",
            "32/32 [==============================] - ETA: 0s - loss: 0.0063 - attention_mae: 0.0385\n",
            "Epoch 86: val_loss did not improve from 0.00521\n",
            "32/32 [==============================] - 8s 250ms/step - loss: 0.0063 - attention_mae: 0.0385 - val_loss: 0.0108 - val_attention_mae: 0.0502\n",
            "Epoch 87/300\n",
            "32/32 [==============================] - ETA: 0s - loss: 0.0065 - attention_mae: 0.0399\n",
            "Epoch 87: val_loss did not improve from 0.00521\n",
            "32/32 [==============================] - 8s 248ms/step - loss: 0.0065 - attention_mae: 0.0399 - val_loss: 0.0103 - val_attention_mae: 0.0509\n",
            "Epoch 88/300\n",
            "32/32 [==============================] - ETA: 0s - loss: 0.0062 - attention_mae: 0.0378\n",
            "Epoch 88: val_loss did not improve from 0.00521\n",
            "32/32 [==============================] - 8s 249ms/step - loss: 0.0062 - attention_mae: 0.0378 - val_loss: 0.0092 - val_attention_mae: 0.0467\n",
            "Epoch 89/300\n",
            "32/32 [==============================] - ETA: 0s - loss: 0.0065 - attention_mae: 0.0400\n",
            "Epoch 89: val_loss did not improve from 0.00521\n",
            "32/32 [==============================] - 8s 255ms/step - loss: 0.0065 - attention_mae: 0.0400 - val_loss: 0.0149 - val_attention_mae: 0.0782\n",
            "Epoch 90/300\n",
            "32/32 [==============================] - ETA: 0s - loss: 0.0090 - attention_mae: 0.0538\n",
            "Epoch 90: val_loss did not improve from 0.00521\n",
            "32/32 [==============================] - 8s 249ms/step - loss: 0.0090 - attention_mae: 0.0538 - val_loss: 0.0443 - val_attention_mae: 0.1680\n",
            "Epoch 91/300\n",
            "32/32 [==============================] - ETA: 0s - loss: 0.0078 - attention_mae: 0.0464\n",
            "Epoch 91: val_loss did not improve from 0.00521\n",
            "32/32 [==============================] - 8s 255ms/step - loss: 0.0078 - attention_mae: 0.0464 - val_loss: 0.0286 - val_attention_mae: 0.1265\n",
            "Epoch 92/300\n",
            "32/32 [==============================] - ETA: 0s - loss: 0.0067 - attention_mae: 0.0415\n",
            "Epoch 92: val_loss did not improve from 0.00521\n",
            "32/32 [==============================] - 8s 253ms/step - loss: 0.0067 - attention_mae: 0.0415 - val_loss: 0.0190 - val_attention_mae: 0.0973\n",
            "Epoch 93/300\n",
            "32/32 [==============================] - ETA: 0s - loss: 0.0074 - attention_mae: 0.0449\n",
            "Epoch 93: val_loss did not improve from 0.00521\n",
            "32/32 [==============================] - 8s 255ms/step - loss: 0.0074 - attention_mae: 0.0449 - val_loss: 0.0182 - val_attention_mae: 0.1077\n",
            "Epoch 94/300\n",
            "32/32 [==============================] - ETA: 0s - loss: 0.0068 - attention_mae: 0.0419\n",
            "Epoch 94: val_loss did not improve from 0.00521\n",
            "32/32 [==============================] - 8s 247ms/step - loss: 0.0068 - attention_mae: 0.0419 - val_loss: 0.0164 - val_attention_mae: 0.0868\n",
            "Epoch 95/300\n",
            "32/32 [==============================] - ETA: 0s - loss: 0.0068 - attention_mae: 0.0416\n",
            "Epoch 95: val_loss did not improve from 0.00521\n",
            "32/32 [==============================] - 8s 256ms/step - loss: 0.0068 - attention_mae: 0.0416 - val_loss: 0.0145 - val_attention_mae: 0.0759\n",
            "Epoch 96/300\n",
            "32/32 [==============================] - ETA: 0s - loss: 0.0062 - attention_mae: 0.0390\n",
            "Epoch 96: val_loss did not improve from 0.00521\n",
            "32/32 [==============================] - 8s 251ms/step - loss: 0.0062 - attention_mae: 0.0390 - val_loss: 0.0101 - val_attention_mae: 0.0526\n"
          ]
        }
      ],
      "source": [
        "history = model.fit(\n",
        "    train_batches,\n",
        "    validation_data=test_batches,\n",
        "    epochs=N_EPOCHS,\n",
        "    batch_size=BATCH_SIZE,\n",
        "    callbacks=callbacks,\n",
        "    verbose=1,\n",
        ")"
      ]
    },
    {
      "cell_type": "markdown",
      "metadata": {
        "id": "MYJgw9qhh7ew"
      },
      "source": [
        "# Save Model"
      ]
    },
    {
      "cell_type": "code",
      "execution_count": 17,
      "metadata": {
        "id": "bux6go2yh7ew"
      },
      "outputs": [],
      "source": [
        "timestamp = datetime.datetime.now().strftime(\"%b-%d-%I:%M%p\")\n",
        "if not os.path.exists(model_path):\n",
        "    os.makedirs(model_path)\n",
        "\n",
        "model.save(os.path.join(model_path, timestamp))"
      ]
    },
    {
      "cell_type": "markdown",
      "metadata": {
        "id": "QMFZgyu9h7ex"
      },
      "source": [
        "# Save Predictions"
      ]
    },
    {
      "cell_type": "code",
      "execution_count": 18,
      "metadata": {
        "id": "FnsfVhkDh7ex",
        "outputId": "da6838d4-fa40-43e1-822a-17eb0e258f4c",
        "colab": {
          "base_uri": "https://localhost:8080/"
        }
      },
      "outputs": [
        {
          "output_type": "stream",
          "name": "stderr",
          "text": [
            "\r0it [00:00, ?it/s]"
          ]
        },
        {
          "output_type": "stream",
          "name": "stdout",
          "text": [
            "1/1 [==============================] - 1s 1s/step\n"
          ]
        },
        {
          "output_type": "stream",
          "name": "stderr",
          "text": [
            "\r1it [00:01,  1.25s/it]"
          ]
        },
        {
          "output_type": "stream",
          "name": "stdout",
          "text": [
            "1/1 [==============================] - 0s 25ms/step\n"
          ]
        },
        {
          "output_type": "stream",
          "name": "stderr",
          "text": [
            "\r2it [00:01,  1.73it/s]"
          ]
        },
        {
          "output_type": "stream",
          "name": "stdout",
          "text": [
            "1/1 [==============================] - 0s 25ms/step\n"
          ]
        },
        {
          "output_type": "stream",
          "name": "stderr",
          "text": [
            "\r3it [00:01,  2.76it/s]"
          ]
        },
        {
          "output_type": "stream",
          "name": "stdout",
          "text": [
            "1/1 [==============================] - 0s 27ms/step\n"
          ]
        },
        {
          "output_type": "stream",
          "name": "stderr",
          "text": [
            "\r4it [00:01,  3.69it/s]"
          ]
        },
        {
          "output_type": "stream",
          "name": "stdout",
          "text": [
            "1/1 [==============================] - 0s 24ms/step\n"
          ]
        },
        {
          "output_type": "stream",
          "name": "stderr",
          "text": [
            "\r5it [00:01,  4.66it/s]"
          ]
        },
        {
          "output_type": "stream",
          "name": "stdout",
          "text": [
            "1/1 [==============================] - 0s 28ms/step\n"
          ]
        },
        {
          "output_type": "stream",
          "name": "stderr",
          "text": [
            "\r6it [00:01,  5.57it/s]"
          ]
        },
        {
          "output_type": "stream",
          "name": "stdout",
          "text": [
            "1/1 [==============================] - 0s 24ms/step\n"
          ]
        },
        {
          "output_type": "stream",
          "name": "stderr",
          "text": [
            "\r7it [00:01,  6.28it/s]"
          ]
        },
        {
          "output_type": "stream",
          "name": "stdout",
          "text": [
            "1/1 [==============================] - 0s 23ms/step\n"
          ]
        },
        {
          "output_type": "stream",
          "name": "stderr",
          "text": [
            "\r8it [00:02,  6.94it/s]"
          ]
        },
        {
          "output_type": "stream",
          "name": "stdout",
          "text": [
            "1/1 [==============================] - 0s 24ms/step\n"
          ]
        },
        {
          "output_type": "stream",
          "name": "stderr",
          "text": [
            "\r9it [00:02,  7.58it/s]"
          ]
        },
        {
          "output_type": "stream",
          "name": "stdout",
          "text": [
            "1/1 [==============================] - 0s 25ms/step\n"
          ]
        },
        {
          "output_type": "stream",
          "name": "stderr",
          "text": [
            "\r10it [00:02,  7.63it/s]"
          ]
        },
        {
          "output_type": "stream",
          "name": "stdout",
          "text": [
            "1/1 [==============================] - 0s 22ms/step\n"
          ]
        },
        {
          "output_type": "stream",
          "name": "stderr",
          "text": [
            "\r11it [00:02,  8.17it/s]"
          ]
        },
        {
          "output_type": "stream",
          "name": "stdout",
          "text": [
            "1/1 [==============================] - 0s 23ms/step\n"
          ]
        },
        {
          "output_type": "stream",
          "name": "stderr",
          "text": [
            "\r12it [00:02,  8.55it/s]"
          ]
        },
        {
          "output_type": "stream",
          "name": "stdout",
          "text": [
            "1/1 [==============================] - 0s 22ms/step\n"
          ]
        },
        {
          "output_type": "stream",
          "name": "stderr",
          "text": [
            "\r13it [00:02,  8.84it/s]"
          ]
        },
        {
          "output_type": "stream",
          "name": "stdout",
          "text": [
            "1/1 [==============================] - 0s 26ms/step\n"
          ]
        },
        {
          "output_type": "stream",
          "name": "stderr",
          "text": [
            "\r14it [00:02,  8.99it/s]"
          ]
        },
        {
          "output_type": "stream",
          "name": "stdout",
          "text": [
            "1/1 [==============================] - 0s 22ms/step\n"
          ]
        },
        {
          "output_type": "stream",
          "name": "stderr",
          "text": [
            "\r15it [00:02,  9.01it/s]"
          ]
        },
        {
          "output_type": "stream",
          "name": "stdout",
          "text": [
            "1/1 [==============================] - 0s 23ms/step\n"
          ]
        },
        {
          "output_type": "stream",
          "name": "stderr",
          "text": [
            "\r16it [00:02,  9.01it/s]"
          ]
        },
        {
          "output_type": "stream",
          "name": "stdout",
          "text": [
            "1/1 [==============================] - 0s 23ms/step\n"
          ]
        },
        {
          "output_type": "stream",
          "name": "stderr",
          "text": [
            "\r17it [00:03,  9.19it/s]"
          ]
        },
        {
          "output_type": "stream",
          "name": "stdout",
          "text": [
            "1/1 [==============================] - 0s 24ms/step\n"
          ]
        },
        {
          "output_type": "stream",
          "name": "stderr",
          "text": [
            "\r18it [00:03,  9.26it/s]"
          ]
        },
        {
          "output_type": "stream",
          "name": "stdout",
          "text": [
            "1/1 [==============================] - 0s 21ms/step\n"
          ]
        },
        {
          "output_type": "stream",
          "name": "stderr",
          "text": [
            "\r19it [00:03,  8.89it/s]"
          ]
        },
        {
          "output_type": "stream",
          "name": "stdout",
          "text": [
            "1/1 [==============================] - 0s 21ms/step\n",
            "1/1 [==============================] - 0s 28ms/step\n"
          ]
        },
        {
          "output_type": "stream",
          "name": "stderr",
          "text": [
            "\r21it [00:03,  9.42it/s]"
          ]
        },
        {
          "output_type": "stream",
          "name": "stdout",
          "text": [
            "1/1 [==============================] - 0s 22ms/step\n"
          ]
        },
        {
          "output_type": "stream",
          "name": "stderr",
          "text": [
            "\r22it [00:03,  9.27it/s]"
          ]
        },
        {
          "output_type": "stream",
          "name": "stdout",
          "text": [
            "1/1 [==============================] - 0s 21ms/step\n",
            "1/1 [==============================] - 0s 21ms/step\n"
          ]
        },
        {
          "output_type": "stream",
          "name": "stderr",
          "text": [
            "\r24it [00:03,  9.62it/s]"
          ]
        },
        {
          "output_type": "stream",
          "name": "stdout",
          "text": [
            "1/1 [==============================] - 0s 22ms/step\n"
          ]
        },
        {
          "output_type": "stream",
          "name": "stderr",
          "text": [
            "\r25it [00:03,  9.23it/s]"
          ]
        },
        {
          "output_type": "stream",
          "name": "stdout",
          "text": [
            "1/1 [==============================] - 0s 21ms/step\n"
          ]
        },
        {
          "output_type": "stream",
          "name": "stderr",
          "text": [
            "\r26it [00:03,  9.29it/s]"
          ]
        },
        {
          "output_type": "stream",
          "name": "stdout",
          "text": [
            "1/1 [==============================] - 0s 27ms/step\n"
          ]
        },
        {
          "output_type": "stream",
          "name": "stderr",
          "text": [
            "\r27it [00:04,  9.24it/s]"
          ]
        },
        {
          "output_type": "stream",
          "name": "stdout",
          "text": [
            "1/1 [==============================] - 0s 22ms/step\n"
          ]
        },
        {
          "output_type": "stream",
          "name": "stderr",
          "text": [
            "\r28it [00:04,  8.99it/s]"
          ]
        },
        {
          "output_type": "stream",
          "name": "stdout",
          "text": [
            "1/1 [==============================] - 0s 29ms/step\n"
          ]
        },
        {
          "output_type": "stream",
          "name": "stderr",
          "text": [
            "\r29it [00:04,  8.71it/s]"
          ]
        },
        {
          "output_type": "stream",
          "name": "stdout",
          "text": [
            "1/1 [==============================] - 0s 24ms/step\n"
          ]
        },
        {
          "output_type": "stream",
          "name": "stderr",
          "text": [
            "\r30it [00:04,  8.77it/s]"
          ]
        },
        {
          "output_type": "stream",
          "name": "stdout",
          "text": [
            "1/1 [==============================] - 0s 25ms/step\n"
          ]
        },
        {
          "output_type": "stream",
          "name": "stderr",
          "text": [
            "\r31it [00:04,  8.60it/s]"
          ]
        },
        {
          "output_type": "stream",
          "name": "stdout",
          "text": [
            "1/1 [==============================] - 0s 35ms/step\n"
          ]
        },
        {
          "output_type": "stream",
          "name": "stderr",
          "text": [
            "\r32it [00:04,  8.08it/s]"
          ]
        },
        {
          "output_type": "stream",
          "name": "stdout",
          "text": [
            "1/1 [==============================] - 0s 28ms/step\n"
          ]
        },
        {
          "output_type": "stream",
          "name": "stderr",
          "text": [
            "\r33it [00:04,  7.87it/s]"
          ]
        },
        {
          "output_type": "stream",
          "name": "stdout",
          "text": [
            "1/1 [==============================] - 0s 33ms/step\n"
          ]
        },
        {
          "output_type": "stream",
          "name": "stderr",
          "text": [
            "\r34it [00:05,  7.37it/s]"
          ]
        },
        {
          "output_type": "stream",
          "name": "stdout",
          "text": [
            "1/1 [==============================] - 0s 34ms/step\n"
          ]
        },
        {
          "output_type": "stream",
          "name": "stderr",
          "text": [
            "\r35it [00:05,  6.70it/s]"
          ]
        },
        {
          "output_type": "stream",
          "name": "stdout",
          "text": [
            "1/1 [==============================] - 0s 37ms/step\n"
          ]
        },
        {
          "output_type": "stream",
          "name": "stderr",
          "text": [
            "\r36it [00:05,  6.11it/s]"
          ]
        },
        {
          "output_type": "stream",
          "name": "stdout",
          "text": [
            "1/1 [==============================] - 0s 46ms/step\n"
          ]
        },
        {
          "output_type": "stream",
          "name": "stderr",
          "text": [
            "\r37it [00:05,  5.46it/s]"
          ]
        },
        {
          "output_type": "stream",
          "name": "stdout",
          "text": [
            "1/1 [==============================] - 0s 41ms/step\n"
          ]
        },
        {
          "output_type": "stream",
          "name": "stderr",
          "text": [
            "\r38it [00:05,  5.29it/s]"
          ]
        },
        {
          "output_type": "stream",
          "name": "stdout",
          "text": [
            "1/1 [==============================] - 0s 46ms/step\n"
          ]
        },
        {
          "output_type": "stream",
          "name": "stderr",
          "text": [
            "\r39it [00:06,  4.84it/s]"
          ]
        },
        {
          "output_type": "stream",
          "name": "stdout",
          "text": [
            "1/1 [==============================] - 0s 79ms/step\n"
          ]
        },
        {
          "output_type": "stream",
          "name": "stderr",
          "text": [
            "\r40it [00:06,  4.85it/s]"
          ]
        },
        {
          "output_type": "stream",
          "name": "stdout",
          "text": [
            "1/1 [==============================] - 0s 51ms/step\n"
          ]
        },
        {
          "output_type": "stream",
          "name": "stderr",
          "text": [
            "\r41it [00:06,  4.98it/s]"
          ]
        },
        {
          "output_type": "stream",
          "name": "stdout",
          "text": [
            "1/1 [==============================] - 0s 41ms/step\n"
          ]
        },
        {
          "output_type": "stream",
          "name": "stderr",
          "text": [
            "\r42it [00:06,  5.36it/s]"
          ]
        },
        {
          "output_type": "stream",
          "name": "stdout",
          "text": [
            "1/1 [==============================] - 0s 32ms/step\n"
          ]
        },
        {
          "output_type": "stream",
          "name": "stderr",
          "text": [
            "\r43it [00:06,  5.77it/s]"
          ]
        },
        {
          "output_type": "stream",
          "name": "stdout",
          "text": [
            "1/1 [==============================] - 0s 41ms/step\n"
          ]
        },
        {
          "output_type": "stream",
          "name": "stderr",
          "text": [
            "\r44it [00:06,  5.81it/s]"
          ]
        },
        {
          "output_type": "stream",
          "name": "stdout",
          "text": [
            "1/1 [==============================] - 0s 33ms/step\n"
          ]
        },
        {
          "output_type": "stream",
          "name": "stderr",
          "text": [
            "\r45it [00:07,  5.89it/s]"
          ]
        },
        {
          "output_type": "stream",
          "name": "stdout",
          "text": [
            "1/1 [==============================] - 0s 39ms/step\n"
          ]
        },
        {
          "output_type": "stream",
          "name": "stderr",
          "text": [
            "\r46it [00:07,  6.03it/s]"
          ]
        },
        {
          "output_type": "stream",
          "name": "stdout",
          "text": [
            "1/1 [==============================] - 0s 31ms/step\n"
          ]
        },
        {
          "output_type": "stream",
          "name": "stderr",
          "text": [
            "\r47it [00:07,  6.31it/s]"
          ]
        },
        {
          "output_type": "stream",
          "name": "stdout",
          "text": [
            "1/1 [==============================] - 0s 33ms/step\n"
          ]
        },
        {
          "output_type": "stream",
          "name": "stderr",
          "text": [
            "\r48it [00:07,  6.37it/s]"
          ]
        },
        {
          "output_type": "stream",
          "name": "stdout",
          "text": [
            "1/1 [==============================] - 0s 32ms/step\n"
          ]
        },
        {
          "output_type": "stream",
          "name": "stderr",
          "text": [
            "\r49it [00:07,  6.52it/s]"
          ]
        },
        {
          "output_type": "stream",
          "name": "stdout",
          "text": [
            "1/1 [==============================] - 0s 40ms/step\n"
          ]
        },
        {
          "output_type": "stream",
          "name": "stderr",
          "text": [
            "\r50it [00:07,  6.41it/s]"
          ]
        },
        {
          "output_type": "stream",
          "name": "stdout",
          "text": [
            "1/1 [==============================] - 0s 39ms/step\n"
          ]
        },
        {
          "output_type": "stream",
          "name": "stderr",
          "text": [
            "\r51it [00:08,  6.27it/s]"
          ]
        },
        {
          "output_type": "stream",
          "name": "stdout",
          "text": [
            "1/1 [==============================] - 0s 33ms/step\n"
          ]
        },
        {
          "output_type": "stream",
          "name": "stderr",
          "text": [
            "\r52it [00:08,  6.32it/s]"
          ]
        },
        {
          "output_type": "stream",
          "name": "stdout",
          "text": [
            "1/1 [==============================] - 0s 36ms/step\n"
          ]
        },
        {
          "output_type": "stream",
          "name": "stderr",
          "text": [
            "\r53it [00:08,  6.25it/s]"
          ]
        },
        {
          "output_type": "stream",
          "name": "stdout",
          "text": [
            "1/1 [==============================] - 0s 38ms/step\n"
          ]
        },
        {
          "output_type": "stream",
          "name": "stderr",
          "text": [
            "\r54it [00:08,  6.11it/s]"
          ]
        },
        {
          "output_type": "stream",
          "name": "stdout",
          "text": [
            "1/1 [==============================] - 0s 39ms/step\n"
          ]
        },
        {
          "output_type": "stream",
          "name": "stderr",
          "text": [
            "\r55it [00:08,  5.66it/s]"
          ]
        },
        {
          "output_type": "stream",
          "name": "stdout",
          "text": [
            "1/1 [==============================] - 0s 38ms/step\n"
          ]
        },
        {
          "output_type": "stream",
          "name": "stderr",
          "text": [
            "\r56it [00:08,  5.74it/s]"
          ]
        },
        {
          "output_type": "stream",
          "name": "stdout",
          "text": [
            "1/1 [==============================] - 0s 38ms/step\n"
          ]
        },
        {
          "output_type": "stream",
          "name": "stderr",
          "text": [
            "\r57it [00:09,  5.91it/s]"
          ]
        },
        {
          "output_type": "stream",
          "name": "stdout",
          "text": [
            "1/1 [==============================] - 0s 30ms/step\n"
          ]
        },
        {
          "output_type": "stream",
          "name": "stderr",
          "text": [
            "\r58it [00:09,  6.22it/s]"
          ]
        },
        {
          "output_type": "stream",
          "name": "stdout",
          "text": [
            "1/1 [==============================] - 0s 33ms/step\n"
          ]
        },
        {
          "output_type": "stream",
          "name": "stderr",
          "text": [
            "\r59it [00:09,  6.33it/s]"
          ]
        },
        {
          "output_type": "stream",
          "name": "stdout",
          "text": [
            "1/1 [==============================] - 0s 38ms/step\n"
          ]
        },
        {
          "output_type": "stream",
          "name": "stderr",
          "text": [
            "\r60it [00:09,  6.37it/s]"
          ]
        },
        {
          "output_type": "stream",
          "name": "stdout",
          "text": [
            "1/1 [==============================] - 0s 35ms/step\n"
          ]
        },
        {
          "output_type": "stream",
          "name": "stderr",
          "text": [
            "\r61it [00:09,  6.61it/s]"
          ]
        },
        {
          "output_type": "stream",
          "name": "stdout",
          "text": [
            "1/1 [==============================] - 0s 35ms/step\n"
          ]
        },
        {
          "output_type": "stream",
          "name": "stderr",
          "text": [
            "\r62it [00:09,  6.77it/s]"
          ]
        },
        {
          "output_type": "stream",
          "name": "stdout",
          "text": [
            "1/1 [==============================] - 0s 34ms/step\n"
          ]
        },
        {
          "output_type": "stream",
          "name": "stderr",
          "text": [
            "\r63it [00:09,  6.77it/s]"
          ]
        },
        {
          "output_type": "stream",
          "name": "stdout",
          "text": [
            "1/1 [==============================] - 0s 46ms/step\n"
          ]
        },
        {
          "output_type": "stream",
          "name": "stderr",
          "text": [
            "\r64it [00:10,  6.40it/s]"
          ]
        },
        {
          "output_type": "stream",
          "name": "stdout",
          "text": [
            "1/1 [==============================] - 0s 36ms/step\n"
          ]
        },
        {
          "output_type": "stream",
          "name": "stderr",
          "text": [
            "\r65it [00:10,  6.36it/s]"
          ]
        },
        {
          "output_type": "stream",
          "name": "stdout",
          "text": [
            "1/1 [==============================] - 0s 37ms/step\n"
          ]
        },
        {
          "output_type": "stream",
          "name": "stderr",
          "text": [
            "\r66it [00:10,  6.56it/s]"
          ]
        },
        {
          "output_type": "stream",
          "name": "stdout",
          "text": [
            "1/1 [==============================] - 0s 47ms/step\n"
          ]
        },
        {
          "output_type": "stream",
          "name": "stderr",
          "text": [
            "\r67it [00:10,  6.55it/s]"
          ]
        },
        {
          "output_type": "stream",
          "name": "stdout",
          "text": [
            "1/1 [==============================] - 0s 31ms/step\n"
          ]
        },
        {
          "output_type": "stream",
          "name": "stderr",
          "text": [
            "\r68it [00:10,  6.96it/s]"
          ]
        },
        {
          "output_type": "stream",
          "name": "stdout",
          "text": [
            "1/1 [==============================] - 0s 34ms/step\n"
          ]
        },
        {
          "output_type": "stream",
          "name": "stderr",
          "text": [
            "\r69it [00:10,  7.21it/s]"
          ]
        },
        {
          "output_type": "stream",
          "name": "stdout",
          "text": [
            "1/1 [==============================] - 0s 40ms/step\n"
          ]
        },
        {
          "output_type": "stream",
          "name": "stderr",
          "text": [
            "\r70it [00:10,  7.32it/s]"
          ]
        },
        {
          "output_type": "stream",
          "name": "stdout",
          "text": [
            "1/1 [==============================] - 0s 32ms/step\n"
          ]
        },
        {
          "output_type": "stream",
          "name": "stderr",
          "text": [
            "\r71it [00:11,  7.57it/s]"
          ]
        },
        {
          "output_type": "stream",
          "name": "stdout",
          "text": [
            "1/1 [==============================] - 0s 36ms/step\n"
          ]
        },
        {
          "output_type": "stream",
          "name": "stderr",
          "text": [
            "\r72it [00:11,  7.41it/s]"
          ]
        },
        {
          "output_type": "stream",
          "name": "stdout",
          "text": [
            "1/1 [==============================] - 0s 36ms/step\n"
          ]
        },
        {
          "output_type": "stream",
          "name": "stderr",
          "text": [
            "\r73it [00:11,  7.48it/s]"
          ]
        },
        {
          "output_type": "stream",
          "name": "stdout",
          "text": [
            "1/1 [==============================] - 0s 37ms/step\n"
          ]
        },
        {
          "output_type": "stream",
          "name": "stderr",
          "text": [
            "\r74it [00:11,  7.19it/s]"
          ]
        },
        {
          "output_type": "stream",
          "name": "stdout",
          "text": [
            "1/1 [==============================] - 0s 54ms/step\n"
          ]
        },
        {
          "output_type": "stream",
          "name": "stderr",
          "text": [
            "\r75it [00:11,  6.79it/s]"
          ]
        },
        {
          "output_type": "stream",
          "name": "stdout",
          "text": [
            "1/1 [==============================] - 0s 41ms/step\n"
          ]
        },
        {
          "output_type": "stream",
          "name": "stderr",
          "text": [
            "\r76it [00:11,  6.76it/s]"
          ]
        },
        {
          "output_type": "stream",
          "name": "stdout",
          "text": [
            "1/1 [==============================] - 0s 34ms/step\n"
          ]
        },
        {
          "output_type": "stream",
          "name": "stderr",
          "text": [
            "\r77it [00:11,  6.95it/s]"
          ]
        },
        {
          "output_type": "stream",
          "name": "stdout",
          "text": [
            "1/1 [==============================] - 0s 25ms/step\n"
          ]
        },
        {
          "output_type": "stream",
          "name": "stderr",
          "text": [
            "\r78it [00:12,  7.29it/s]"
          ]
        },
        {
          "output_type": "stream",
          "name": "stdout",
          "text": [
            "1/1 [==============================] - 0s 25ms/step\n"
          ]
        },
        {
          "output_type": "stream",
          "name": "stderr",
          "text": [
            "\r79it [00:12,  7.89it/s]"
          ]
        },
        {
          "output_type": "stream",
          "name": "stdout",
          "text": [
            "1/1 [==============================] - 0s 23ms/step\n"
          ]
        },
        {
          "output_type": "stream",
          "name": "stderr",
          "text": [
            "\r80it [00:12,  8.25it/s]"
          ]
        },
        {
          "output_type": "stream",
          "name": "stdout",
          "text": [
            "1/1 [==============================] - 0s 24ms/step\n"
          ]
        },
        {
          "output_type": "stream",
          "name": "stderr",
          "text": [
            "\r81it [00:12,  8.39it/s]"
          ]
        },
        {
          "output_type": "stream",
          "name": "stdout",
          "text": [
            "1/1 [==============================] - 0s 39ms/step\n"
          ]
        },
        {
          "output_type": "stream",
          "name": "stderr",
          "text": [
            "\r82it [00:12,  8.23it/s]"
          ]
        },
        {
          "output_type": "stream",
          "name": "stdout",
          "text": [
            "1/1 [==============================] - 0s 23ms/step\n"
          ]
        },
        {
          "output_type": "stream",
          "name": "stderr",
          "text": [
            "\r83it [00:12,  8.38it/s]"
          ]
        },
        {
          "output_type": "stream",
          "name": "stdout",
          "text": [
            "1/1 [==============================] - 0s 24ms/step\n",
            "1/1 [==============================] - 0s 23ms/step\n"
          ]
        },
        {
          "output_type": "stream",
          "name": "stderr",
          "text": [
            "\r85it [00:12,  9.10it/s]"
          ]
        },
        {
          "output_type": "stream",
          "name": "stdout",
          "text": [
            "1/1 [==============================] - 0s 25ms/step\n"
          ]
        },
        {
          "output_type": "stream",
          "name": "stderr",
          "text": [
            "\r86it [00:12,  9.14it/s]"
          ]
        },
        {
          "output_type": "stream",
          "name": "stdout",
          "text": [
            "1/1 [==============================] - 0s 23ms/step\n"
          ]
        },
        {
          "output_type": "stream",
          "name": "stderr",
          "text": [
            "\r87it [00:13,  9.26it/s]"
          ]
        },
        {
          "output_type": "stream",
          "name": "stdout",
          "text": [
            "1/1 [==============================] - 0s 23ms/step\n"
          ]
        },
        {
          "output_type": "stream",
          "name": "stderr",
          "text": [
            "\r88it [00:13,  8.97it/s]"
          ]
        },
        {
          "output_type": "stream",
          "name": "stdout",
          "text": [
            "1/1 [==============================] - 0s 25ms/step\n"
          ]
        },
        {
          "output_type": "stream",
          "name": "stderr",
          "text": [
            "\r89it [00:13,  9.19it/s]"
          ]
        },
        {
          "output_type": "stream",
          "name": "stdout",
          "text": [
            "1/1 [==============================] - 0s 24ms/step\n"
          ]
        },
        {
          "output_type": "stream",
          "name": "stderr",
          "text": [
            "\r90it [00:13,  9.06it/s]"
          ]
        },
        {
          "output_type": "stream",
          "name": "stdout",
          "text": [
            "1/1 [==============================] - 0s 24ms/step\n"
          ]
        },
        {
          "output_type": "stream",
          "name": "stderr",
          "text": [
            "\r91it [00:13,  9.14it/s]"
          ]
        },
        {
          "output_type": "stream",
          "name": "stdout",
          "text": [
            "1/1 [==============================] - 0s 21ms/step\n"
          ]
        },
        {
          "output_type": "stream",
          "name": "stderr",
          "text": [
            "\r92it [00:13,  8.95it/s]"
          ]
        },
        {
          "output_type": "stream",
          "name": "stdout",
          "text": [
            "1/1 [==============================] - 0s 22ms/step\n"
          ]
        },
        {
          "output_type": "stream",
          "name": "stderr",
          "text": [
            "\r93it [00:13,  8.97it/s]"
          ]
        },
        {
          "output_type": "stream",
          "name": "stdout",
          "text": [
            "1/1 [==============================] - 0s 22ms/step\n"
          ]
        },
        {
          "output_type": "stream",
          "name": "stderr",
          "text": [
            "\r94it [00:13,  9.13it/s]"
          ]
        },
        {
          "output_type": "stream",
          "name": "stdout",
          "text": [
            "1/1 [==============================] - 0s 34ms/step\n"
          ]
        },
        {
          "output_type": "stream",
          "name": "stderr",
          "text": [
            "\r95it [00:13,  9.02it/s]"
          ]
        },
        {
          "output_type": "stream",
          "name": "stdout",
          "text": [
            "1/1 [==============================] - 0s 27ms/step\n"
          ]
        },
        {
          "output_type": "stream",
          "name": "stderr",
          "text": [
            "\r96it [00:14,  9.18it/s]"
          ]
        },
        {
          "output_type": "stream",
          "name": "stdout",
          "text": [
            "1/1 [==============================] - 0s 24ms/step\n"
          ]
        },
        {
          "output_type": "stream",
          "name": "stderr",
          "text": [
            "\r97it [00:14,  9.27it/s]"
          ]
        },
        {
          "output_type": "stream",
          "name": "stdout",
          "text": [
            "1/1 [==============================] - 0s 23ms/step\n"
          ]
        },
        {
          "output_type": "stream",
          "name": "stderr",
          "text": [
            "\r98it [00:14,  9.43it/s]"
          ]
        },
        {
          "output_type": "stream",
          "name": "stdout",
          "text": [
            "1/1 [==============================] - 0s 21ms/step\n"
          ]
        },
        {
          "output_type": "stream",
          "name": "stderr",
          "text": [
            "\r99it [00:14,  9.38it/s]"
          ]
        },
        {
          "output_type": "stream",
          "name": "stdout",
          "text": [
            "1/1 [==============================] - 0s 21ms/step\n"
          ]
        },
        {
          "output_type": "stream",
          "name": "stderr",
          "text": [
            "\r100it [00:14,  9.02it/s]"
          ]
        },
        {
          "output_type": "stream",
          "name": "stdout",
          "text": [
            "1/1 [==============================] - 0s 27ms/step\n"
          ]
        },
        {
          "output_type": "stream",
          "name": "stderr",
          "text": [
            "\r101it [00:14,  8.94it/s]"
          ]
        },
        {
          "output_type": "stream",
          "name": "stdout",
          "text": [
            "1/1 [==============================] - 0s 27ms/step\n"
          ]
        },
        {
          "output_type": "stream",
          "name": "stderr",
          "text": [
            "\r102it [00:14,  8.87it/s]"
          ]
        },
        {
          "output_type": "stream",
          "name": "stdout",
          "text": [
            "1/1 [==============================] - 0s 23ms/step\n",
            "1/1 [==============================] - 0s 21ms/step\n"
          ]
        },
        {
          "output_type": "stream",
          "name": "stderr",
          "text": [
            "\r104it [00:14,  9.37it/s]"
          ]
        },
        {
          "output_type": "stream",
          "name": "stdout",
          "text": [
            "1/1 [==============================] - 0s 22ms/step\n"
          ]
        },
        {
          "output_type": "stream",
          "name": "stderr",
          "text": [
            "\r105it [00:14,  9.30it/s]"
          ]
        },
        {
          "output_type": "stream",
          "name": "stdout",
          "text": [
            "1/1 [==============================] - 0s 22ms/step\n"
          ]
        },
        {
          "output_type": "stream",
          "name": "stderr",
          "text": [
            "\r106it [00:15,  9.19it/s]"
          ]
        },
        {
          "output_type": "stream",
          "name": "stdout",
          "text": [
            "1/1 [==============================] - 0s 22ms/step\n"
          ]
        },
        {
          "output_type": "stream",
          "name": "stderr",
          "text": [
            "\r107it [00:15,  9.24it/s]"
          ]
        },
        {
          "output_type": "stream",
          "name": "stdout",
          "text": [
            "1/1 [==============================] - 0s 23ms/step\n"
          ]
        },
        {
          "output_type": "stream",
          "name": "stderr",
          "text": [
            "\r108it [00:15,  9.35it/s]"
          ]
        },
        {
          "output_type": "stream",
          "name": "stdout",
          "text": [
            "1/1 [==============================] - 0s 22ms/step\n"
          ]
        },
        {
          "output_type": "stream",
          "name": "stderr",
          "text": [
            "\r109it [00:15,  9.02it/s]"
          ]
        },
        {
          "output_type": "stream",
          "name": "stdout",
          "text": [
            "1/1 [==============================] - 0s 22ms/step\n"
          ]
        },
        {
          "output_type": "stream",
          "name": "stderr",
          "text": [
            "\r110it [00:15,  8.81it/s]"
          ]
        },
        {
          "output_type": "stream",
          "name": "stdout",
          "text": [
            "1/1 [==============================] - 0s 21ms/step\n"
          ]
        },
        {
          "output_type": "stream",
          "name": "stderr",
          "text": [
            "\r111it [00:15,  8.85it/s]"
          ]
        },
        {
          "output_type": "stream",
          "name": "stdout",
          "text": [
            "1/1 [==============================] - 0s 26ms/step\n"
          ]
        },
        {
          "output_type": "stream",
          "name": "stderr",
          "text": [
            "\r112it [00:15,  8.73it/s]"
          ]
        },
        {
          "output_type": "stream",
          "name": "stdout",
          "text": [
            "1/1 [==============================] - 0s 23ms/step\n"
          ]
        },
        {
          "output_type": "stream",
          "name": "stderr",
          "text": [
            "\r113it [00:15,  8.82it/s]"
          ]
        },
        {
          "output_type": "stream",
          "name": "stdout",
          "text": [
            "1/1 [==============================] - 0s 22ms/step\n"
          ]
        },
        {
          "output_type": "stream",
          "name": "stderr",
          "text": [
            "\r114it [00:15,  9.04it/s]"
          ]
        },
        {
          "output_type": "stream",
          "name": "stdout",
          "text": [
            "1/1 [==============================] - 0s 22ms/step\n"
          ]
        },
        {
          "output_type": "stream",
          "name": "stderr",
          "text": [
            "\r115it [00:16,  9.03it/s]"
          ]
        },
        {
          "output_type": "stream",
          "name": "stdout",
          "text": [
            "1/1 [==============================] - 0s 21ms/step\n"
          ]
        },
        {
          "output_type": "stream",
          "name": "stderr",
          "text": [
            "\r116it [00:16,  8.99it/s]"
          ]
        },
        {
          "output_type": "stream",
          "name": "stdout",
          "text": [
            "1/1 [==============================] - 0s 20ms/step\n"
          ]
        },
        {
          "output_type": "stream",
          "name": "stderr",
          "text": [
            "\r117it [00:16,  9.07it/s]"
          ]
        },
        {
          "output_type": "stream",
          "name": "stdout",
          "text": [
            "1/1 [==============================] - 0s 21ms/step\n"
          ]
        },
        {
          "output_type": "stream",
          "name": "stderr",
          "text": [
            "\r118it [00:16,  8.74it/s]"
          ]
        },
        {
          "output_type": "stream",
          "name": "stdout",
          "text": [
            "1/1 [==============================] - 0s 34ms/step\n"
          ]
        },
        {
          "output_type": "stream",
          "name": "stderr",
          "text": [
            "\r119it [00:16,  8.34it/s]"
          ]
        },
        {
          "output_type": "stream",
          "name": "stdout",
          "text": [
            "1/1 [==============================] - 0s 21ms/step\n"
          ]
        },
        {
          "output_type": "stream",
          "name": "stderr",
          "text": [
            "\r120it [00:16,  8.44it/s]"
          ]
        },
        {
          "output_type": "stream",
          "name": "stdout",
          "text": [
            "1/1 [==============================] - 0s 22ms/step\n"
          ]
        },
        {
          "output_type": "stream",
          "name": "stderr",
          "text": [
            "\r121it [00:16,  8.39it/s]"
          ]
        },
        {
          "output_type": "stream",
          "name": "stdout",
          "text": [
            "1/1 [==============================] - 0s 23ms/step\n"
          ]
        },
        {
          "output_type": "stream",
          "name": "stderr",
          "text": [
            "\r122it [00:16,  8.54it/s]"
          ]
        },
        {
          "output_type": "stream",
          "name": "stdout",
          "text": [
            "1/1 [==============================] - 0s 25ms/step\n"
          ]
        },
        {
          "output_type": "stream",
          "name": "stderr",
          "text": [
            "\r123it [00:17,  8.66it/s]"
          ]
        },
        {
          "output_type": "stream",
          "name": "stdout",
          "text": [
            "1/1 [==============================] - 0s 20ms/step\n"
          ]
        },
        {
          "output_type": "stream",
          "name": "stderr",
          "text": [
            "\r124it [00:17,  8.92it/s]"
          ]
        },
        {
          "output_type": "stream",
          "name": "stdout",
          "text": [
            "1/1 [==============================] - 0s 21ms/step\n"
          ]
        },
        {
          "output_type": "stream",
          "name": "stderr",
          "text": [
            "\r125it [00:17,  8.95it/s]"
          ]
        },
        {
          "output_type": "stream",
          "name": "stdout",
          "text": [
            "1/1 [==============================] - 0s 21ms/step\n"
          ]
        },
        {
          "output_type": "stream",
          "name": "stderr",
          "text": [
            "\r126it [00:17,  9.12it/s]"
          ]
        },
        {
          "output_type": "stream",
          "name": "stdout",
          "text": [
            "1/1 [==============================] - 0s 22ms/step\n"
          ]
        },
        {
          "output_type": "stream",
          "name": "stderr",
          "text": [
            "\r127it [00:17,  8.64it/s]"
          ]
        },
        {
          "output_type": "stream",
          "name": "stdout",
          "text": [
            "1/1 [==============================] - 0s 23ms/step\n"
          ]
        },
        {
          "output_type": "stream",
          "name": "stderr",
          "text": [
            "\r128it [00:17,  8.61it/s]"
          ]
        },
        {
          "output_type": "stream",
          "name": "stdout",
          "text": [
            "1/1 [==============================] - 0s 21ms/step\n"
          ]
        },
        {
          "output_type": "stream",
          "name": "stderr",
          "text": [
            "\r129it [00:17,  8.49it/s]"
          ]
        },
        {
          "output_type": "stream",
          "name": "stdout",
          "text": [
            "1/1 [==============================] - 0s 23ms/step\n"
          ]
        },
        {
          "output_type": "stream",
          "name": "stderr",
          "text": [
            "\r130it [00:17,  8.71it/s]"
          ]
        },
        {
          "output_type": "stream",
          "name": "stdout",
          "text": [
            "1/1 [==============================] - 0s 27ms/step\n"
          ]
        },
        {
          "output_type": "stream",
          "name": "stderr",
          "text": [
            "\r131it [00:17,  8.80it/s]"
          ]
        },
        {
          "output_type": "stream",
          "name": "stdout",
          "text": [
            "1/1 [==============================] - 0s 23ms/step\n"
          ]
        },
        {
          "output_type": "stream",
          "name": "stderr",
          "text": [
            "\r132it [00:18,  8.94it/s]"
          ]
        },
        {
          "output_type": "stream",
          "name": "stdout",
          "text": [
            "1/1 [==============================] - 0s 25ms/step\n"
          ]
        },
        {
          "output_type": "stream",
          "name": "stderr",
          "text": [
            "\r133it [00:18,  9.10it/s]"
          ]
        },
        {
          "output_type": "stream",
          "name": "stdout",
          "text": [
            "1/1 [==============================] - 0s 21ms/step\n"
          ]
        },
        {
          "output_type": "stream",
          "name": "stderr",
          "text": [
            "\r134it [00:18,  8.99it/s]"
          ]
        },
        {
          "output_type": "stream",
          "name": "stdout",
          "text": [
            "1/1 [==============================] - 0s 20ms/step\n"
          ]
        },
        {
          "output_type": "stream",
          "name": "stderr",
          "text": [
            "\r135it [00:18,  9.08it/s]"
          ]
        },
        {
          "output_type": "stream",
          "name": "stdout",
          "text": [
            "1/1 [==============================] - 0s 22ms/step\n"
          ]
        },
        {
          "output_type": "stream",
          "name": "stderr",
          "text": [
            "\r136it [00:18,  8.56it/s]"
          ]
        },
        {
          "output_type": "stream",
          "name": "stdout",
          "text": [
            "1/1 [==============================] - 0s 26ms/step\n"
          ]
        },
        {
          "output_type": "stream",
          "name": "stderr",
          "text": [
            "\r137it [00:18,  8.54it/s]"
          ]
        },
        {
          "output_type": "stream",
          "name": "stdout",
          "text": [
            "1/1 [==============================] - 0s 22ms/step\n"
          ]
        },
        {
          "output_type": "stream",
          "name": "stderr",
          "text": [
            "\r138it [00:18,  8.66it/s]"
          ]
        },
        {
          "output_type": "stream",
          "name": "stdout",
          "text": [
            "1/1 [==============================] - 0s 22ms/step\n"
          ]
        },
        {
          "output_type": "stream",
          "name": "stderr",
          "text": [
            "\r139it [00:18,  8.97it/s]"
          ]
        },
        {
          "output_type": "stream",
          "name": "stdout",
          "text": [
            "1/1 [==============================] - 0s 27ms/step\n"
          ]
        },
        {
          "output_type": "stream",
          "name": "stderr",
          "text": [
            "\r140it [00:18,  8.73it/s]"
          ]
        },
        {
          "output_type": "stream",
          "name": "stdout",
          "text": [
            "1/1 [==============================] - 0s 24ms/step\n"
          ]
        },
        {
          "output_type": "stream",
          "name": "stderr",
          "text": [
            "\r141it [00:19,  8.85it/s]"
          ]
        },
        {
          "output_type": "stream",
          "name": "stdout",
          "text": [
            "1/1 [==============================] - 0s 22ms/step\n"
          ]
        },
        {
          "output_type": "stream",
          "name": "stderr",
          "text": [
            "\r142it [00:19,  8.66it/s]"
          ]
        },
        {
          "output_type": "stream",
          "name": "stdout",
          "text": [
            "1/1 [==============================] - 0s 21ms/step\n"
          ]
        },
        {
          "output_type": "stream",
          "name": "stderr",
          "text": [
            "\r143it [00:19,  8.88it/s]"
          ]
        },
        {
          "output_type": "stream",
          "name": "stdout",
          "text": [
            "1/1 [==============================] - 0s 21ms/step\n"
          ]
        },
        {
          "output_type": "stream",
          "name": "stderr",
          "text": [
            "144it [00:19,  7.40it/s]\n"
          ]
        }
      ],
      "source": [
        "test_ds_unbatched = test_batches.unbatch()\n",
        "\n",
        "pred_path = os.path.join(PRED_PATH, EXP_NAME, timestamp)\n",
        "if not os.path.exists(pred_path):\n",
        "    os.makedirs(pred_path)\n",
        "\n",
        "metrics = pd.DataFrame()\n",
        "\n",
        "for idx, (input, target) in enumerate(tqdm(test_ds_unbatched)):\n",
        "    target = tf.squeeze(target)\n",
        "    prediction = tf.squeeze(model.predict(tf.expand_dims(input, axis=0)))\n",
        "\n",
        "    channel_sum = tf.expand_dims(tf.reduce_sum(target, axis=-1), axis=-1)\n",
        "    white_mask = tf.reduce_all(tf.equal(channel_sum, 3.0), axis=-1)\n",
        "    expanded_mask = tf.expand_dims(white_mask, axis=-1)\n",
        "    expanded_mask = tf.tile(expanded_mask, [1, 1, 3])\n",
        "    prediction = tf.where(expanded_mask, tf.ones_like(prediction), prediction)\n",
        "\n",
        "    target_pil = Image.fromarray(np.array(target * 255.0, dtype=np.uint8))\n",
        "    prediction_pil = Image.fromarray(\n",
        "        np.array(prediction * 255.0, dtype=np.uint8))\n",
        "\n",
        "    target_pil.save(os.path.join(pred_path, f\"{idx}_T.png\"))\n",
        "    prediction_pil.save(os.path.join(pred_path, f\"{idx}_P.png\"))"
      ]
    },
    {
      "cell_type": "markdown",
      "metadata": {
        "id": "yHrb18xrh7ex"
      },
      "source": [
        "# Loss Curve"
      ]
    },
    {
      "cell_type": "code",
      "execution_count": 19,
      "metadata": {
        "id": "27vxXlXEh7ex",
        "outputId": "be7b2c1d-18bf-4435-8afd-c2d144efabb8",
        "colab": {
          "base_uri": "https://localhost:8080/",
          "height": 607
        }
      },
      "outputs": [
        {
          "output_type": "display_data",
          "data": {
            "text/plain": [
              "<Figure size 800x600 with 1 Axes>"
            ],
            "image/png": "[encoded data removed]"
          },
          "metadata": {}
        }
      ],
      "source": [
        "try:\n",
        "    loss = history.history['loss']\n",
        "    val_loss = history.history['val_loss']\n",
        "\n",
        "    plt.figure(figsize=(8, 6))\n",
        "    plt.plot(loss, label='Training Loss')\n",
        "    plt.plot(val_loss, label='Validation Loss')\n",
        "    plt.legend(loc='upper right')\n",
        "    plt.ylabel('Attention MAE')\n",
        "    plt.title('Training and Validation Loss')\n",
        "    plt.xlabel('Epoch')\n",
        "    plt.tight_layout()\n",
        "    plt.savefig(os.path.join(model_path, timestamp + \".png\"))\n",
        "    plt.show()\n",
        "except:\n",
        "    print(\"Model did not finish training\")"
      ]
    },
    {
      "cell_type": "markdown",
      "metadata": {
        "id": "McOnJlPwh7ex"
      },
      "source": [
        "# Metrics"
      ]
    },
    {
      "cell_type": "code",
      "execution_count": 20,
      "metadata": {
        "id": "8kbXsKlmh7e0",
        "outputId": "b1728c72-87f9-4c4f-8815-dcf336faa738",
        "colab": {
          "base_uri": "https://localhost:8080/"
        }
      },
      "outputs": [
        {
          "output_type": "stream",
          "name": "stdout",
          "text": [
            "9/9 [==============================] - 0s 52ms/step - loss: 0.0052 - attention_mae: 0.0327\n",
            "EMSE: 0.005209188908338547\n",
            "EMAE: 0.032743945717811584\n"
          ]
        }
      ],
      "source": [
        "EMSE, EMAE = model.evaluate(test_batches)\n",
        "print(f\"EMSE: {EMSE}\\nEMAE: {EMAE}\")"
      ]
    }
  ],
  "metadata": {
    "kernelspec": {
      "display_name": "Python 3",
      "name": "python3"
    },
    "language_info": {
      "codemirror_mode": {
        "name": "ipython",
        "version": 3
      },
      "file_extension": ".py",
      "mimetype": "text/x-python",
      "name": "python",
      "nbconvert_exporter": "python",
      "pygments_lexer": "ipython3",
      "version": "3.11.5"
    },
    "colab": {
      "provenance": [],
      "toc_visible": true,
      "gpuType": "V100",
      "include_colab_link": true
    },
    "accelerator": "GPU"
  },
  "nbformat": 4,
  "nbformat_minor": 0
}