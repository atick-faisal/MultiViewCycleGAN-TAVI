{
  "cells": [
    {
      "cell_type": "markdown",
      "metadata": {
        "id": "view-in-github",
        "colab_type": "text"
      },
      "source": [
        "<a href=\"https://colab.research.google.com/github/atick-faisal/MultiViewUNet-TAVI/blob/main/src/training/MultiViewUNet.ipynb\" target=\"_parent\"><img src=\"https://colab.research.google.com/assets/colab-badge.svg\" alt=\"Open In Colab\"/></a>"
      ]
    },
    {
      "cell_type": "markdown",
      "metadata": {
        "id": "0BWh-7swsY8G"
      },
      "source": [
        "# Colab Info"
      ]
    },
    {
      "cell_type": "code",
      "execution_count": 1,
      "metadata": {
        "id": "qKSzwmmpsY8K",
        "outputId": "37b7ce45-561b-4b90-f634-0e3600468860",
        "colab": {
          "base_uri": "https://localhost:8080/"
        }
      },
      "outputs": [
        {
          "output_type": "stream",
          "name": "stdout",
          "text": [
            "Sat Nov 11 09:19:07 2023       \n",
            "+-----------------------------------------------------------------------------+\n",
            "| NVIDIA-SMI 525.105.17   Driver Version: 525.105.17   CUDA Version: 12.0     |\n",
            "|-------------------------------+----------------------+----------------------+\n",
            "| GPU  Name        Persistence-M| Bus-Id        Disp.A | Volatile Uncorr. ECC |\n",
            "| Fan  Temp  Perf  Pwr:Usage/Cap|         Memory-Usage | GPU-Util  Compute M. |\n",
            "|                               |                      |               MIG M. |\n",
            "|===============================+======================+======================|\n",
            "|   0  Tesla T4            Off  | 00000000:00:04.0 Off |                    0 |\n",
            "| N/A   62C    P8    10W /  70W |      0MiB / 15360MiB |      0%      Default |\n",
            "|                               |                      |                  N/A |\n",
            "+-------------------------------+----------------------+----------------------+\n",
            "                                                                               \n",
            "+-----------------------------------------------------------------------------+\n",
            "| Processes:                                                                  |\n",
            "|  GPU   GI   CI        PID   Type   Process name                  GPU Memory |\n",
            "|        ID   ID                                                   Usage      |\n",
            "|=============================================================================|\n",
            "|  No running processes found                                                 |\n",
            "+-----------------------------------------------------------------------------+\n",
            "Your runtime has 13.6 gigabytes of available RAM\n",
            "\n",
            "Not using a high-RAM runtime\n"
          ]
        }
      ],
      "source": [
        "from psutil import virtual_memory\n",
        "\n",
        "gpu_info = !nvidia-smi\n",
        "gpu_info = '\\n'.join(gpu_info)\n",
        "if gpu_info.find('failed') >= 0:\n",
        "    print('Not connected to a GPU')\n",
        "else:\n",
        "    print(gpu_info)\n",
        "\n",
        "\n",
        "ram_gb = virtual_memory().total / 1e9\n",
        "print('Your runtime has {:.1f} gigabytes of available RAM\\n'.format(ram_gb))\n",
        "\n",
        "if ram_gb < 20:\n",
        "    print('Not using a high-RAM runtime')\n",
        "else:\n",
        "    print('You are using a high-RAM runtime!')\n"
      ]
    },
    {
      "cell_type": "markdown",
      "metadata": {
        "id": "1k2olxt7sY8M"
      },
      "source": [
        "# Fix for GDrive"
      ]
    },
    {
      "cell_type": "code",
      "execution_count": 2,
      "metadata": {
        "id": "WR_aYJ7WsY8M"
      },
      "outputs": [],
      "source": [
        "!pip install -U --no-cache-dir gdown --pre > /dev/null\n"
      ]
    },
    {
      "cell_type": "markdown",
      "source": [
        "# Mount GDrive"
      ],
      "metadata": {
        "id": "jm5cGHp0tGvo"
      }
    },
    {
      "cell_type": "code",
      "source": [
        "from google.colab import drive\n",
        "drive.mount('/content/drive')\n"
      ],
      "metadata": {
        "id": "0hZ7iR0AtJYj",
        "outputId": "b21a419c-17f6-439e-9950-d43415f1ff78",
        "colab": {
          "base_uri": "https://localhost:8080/"
        }
      },
      "execution_count": 3,
      "outputs": [
        {
          "output_type": "stream",
          "name": "stdout",
          "text": [
            "Mounted at /content/drive\n"
          ]
        }
      ]
    },
    {
      "cell_type": "markdown",
      "metadata": {
        "id": "ZjzwtNU2sY8M"
      },
      "source": [
        "# Download and Extract Dataset"
      ]
    },
    {
      "cell_type": "code",
      "execution_count": 4,
      "metadata": {
        "id": "9RSDCIWlsY8N",
        "outputId": "546a5497-bb03-4088-89b8-728669242002",
        "colab": {
          "base_uri": "https://localhost:8080/"
        }
      },
      "outputs": [
        {
          "output_type": "stream",
          "name": "stdout",
          "text": [
            "Downloading...\n",
            "From (uriginal): https://drive.google.com/uc?id=1IQSB-ZgQ0hC5L2mRQ6Ue11wJSux4VBkH\n",
            "From (redirected): https://drive.google.com/uc?id=1IQSB-ZgQ0hC5L2mRQ6Ue11wJSux4VBkH&confirm=t&uuid=fb5accdd-c104-4cfa-a2bc-210f5c57223a\n",
            "To: /content/TAVI_r5.zip\n",
            "100% 56.0M/56.0M [00:00<00:00, 175MB/s]\n"
          ]
        }
      ],
      "source": [
        "!gdown \"1IQSB-ZgQ0hC5L2mRQ6Ue11wJSux4VBkH\"\n",
        "!unzip -o \"TAVI_r5.zip\" > /dev/null\n"
      ]
    },
    {
      "cell_type": "markdown",
      "metadata": {
        "id": "yFAlpIdMsY8N"
      },
      "source": [
        "# Imports"
      ]
    },
    {
      "cell_type": "code",
      "execution_count": 5,
      "metadata": {
        "id": "xiEKM9gZsY8N"
      },
      "outputs": [],
      "source": [
        "import os\n",
        "import datetime\n",
        "import matplotlib\n",
        "import pandas as pd\n",
        "import tensorflow as tf\n",
        "import matplotlib.pyplot as plt\n",
        "\n",
        "from tqdm import tqdm\n",
        "\n",
        "matplotlib.use('Agg')\n",
        "plt.rcParams[\"font.size\"] = 16"
      ]
    },
    {
      "cell_type": "markdown",
      "metadata": {
        "id": "OCaqjLQYsY8O"
      },
      "source": [
        "# Config"
      ]
    },
    {
      "cell_type": "code",
      "execution_count": 6,
      "metadata": {
        "id": "Qby7HsHhsY8O"
      },
      "outputs": [],
      "source": [
        "PROBLEM = \"Curvature_2_Pressure\"\n",
        "\n",
        "MODEL_NAME = \"MultiViewUNet\"\n",
        "DATASET_PATH = \"/content/Images/\"\n",
        "TRAIN_DIR = \"Train/\"\n",
        "TEST_DIR = \"Test/\"\n",
        "INPUT_DIR = PROBLEM.split(\"_2_\")[0]\n",
        "TARGET_DIR = PROBLEM.split(\"_2_\")[1]\n",
        "MODEL_PATH = \"/content/drive/MyDrive/Research/TAVI/Models/\"\n",
        "PRED_PATH = \"/content/drive/MyDrive/Research/TAVI/Predictions/\"\n",
        "IMG_SIZE = 256\n",
        "BATCH_SIZE = 16\n",
        "BUFFER_SIZE = 1000\n",
        "VAL_SPLIT = 0.2\n",
        "LEARNING_RATE = 0.001\n",
        "N_EPOCHS = 300\n",
        "PATIENCE = 30\n",
        "\n",
        "EXP_NAME = f\"{PROBLEM}_{MODEL_NAME}_I{IMG_SIZE}_B{BATCH_SIZE}_LR{LEARNING_RATE}\"\n"
      ]
    },
    {
      "cell_type": "markdown",
      "metadata": {
        "id": "vnnlcTjjsY8O"
      },
      "source": [
        "# Architecture"
      ]
    },
    {
      "cell_type": "code",
      "execution_count": 7,
      "metadata": {
        "id": "QQWORDDysY8P"
      },
      "outputs": [],
      "source": [
        "class UNet:\n",
        "    def __init__(\n",
        "        self,\n",
        "        img_size: int,\n",
        "        n_channels: int = 3,\n",
        "        width: int = 32,\n",
        "        depth: int = 4,\n",
        "        kernel_size: int = 3\n",
        "    ):\n",
        "        self.img_size = img_size\n",
        "        self.n_channels = n_channels\n",
        "        self.width = width\n",
        "        self.depth = depth\n",
        "        self.kernel_size = kernel_size\n",
        "\n",
        "    @staticmethod\n",
        "    def conv(\n",
        "        x: tf.Tensor,\n",
        "        filters: int,\n",
        "        kernel_size: int\n",
        "    ) -> tf.Tensor:\n",
        "        for i in range(2):\n",
        "            x = tf.keras.layers.Conv2D(\n",
        "                filters=filters,\n",
        "                kernel_size=kernel_size,\n",
        "                strides=1,\n",
        "                padding=\"same\",\n",
        "                data_format=\"channels_last\",\n",
        "                dilation_rate=1,\n",
        "                groups=1,\n",
        "                activation=None,\n",
        "                use_bias=True,\n",
        "                kernel_initializer=\"glorot_uniform\",\n",
        "                bias_initializer=\"zeros\",\n",
        "            )(x)\n",
        "\n",
        "            x = tf.keras.layers.BatchNormalization()(x)\n",
        "            x = tf.keras.layers.Activation(\"relu\")(x)\n",
        "\n",
        "        return x\n",
        "\n",
        "    @staticmethod\n",
        "    def deconv(x: tf.Tensor, filters: int) -> tf.Tensor:\n",
        "        x = tf.keras.layers.Conv2DTranspose(\n",
        "            filters=filters,\n",
        "            kernel_size=2,\n",
        "            strides=2,\n",
        "            padding=\"same\",\n",
        "            output_padding=None,\n",
        "            data_format=None,\n",
        "            dilation_rate=1,\n",
        "            activation=None,\n",
        "            use_bias=True,\n",
        "            kernel_initializer=\"glorot_uniform\",\n",
        "            bias_initializer=\"zeros\",\n",
        "        )(x)\n",
        "\n",
        "        x = tf.keras.layers.BatchNormalization()(x)\n",
        "        x = tf.keras.layers.Activation(\"relu\")(x)\n",
        "\n",
        "        return x\n",
        "\n",
        "    @staticmethod\n",
        "    def output(x: tf.Tensor) -> tf.Tensor:\n",
        "        return tf.keras.layers.Conv2D(3, (1, 1), activation=\"sigmoid\")(x)\n",
        "\n",
        "    @staticmethod\n",
        "    def pool(x: tf.Tensor, pool_size: int = 2) -> tf.Tensor:\n",
        "        return tf.keras.layers.MaxPool2D(pool_size)(x)\n",
        "\n",
        "    @staticmethod\n",
        "    def dropout(x: tf.Tensor, amount: float = 0.5) -> tf.Tensor:\n",
        "        return tf.keras.layers.Dropout(amount)(x)\n",
        "\n",
        "    def __call__(self) -> tf.keras.Model:\n",
        "        inputs = tf.keras.layers.Input(\n",
        "            shape=(self.img_size, self.img_size, self.n_channels)\n",
        "        )\n",
        "\n",
        "        # scaled = tf.keras.layers.Rescaling(1./255.0, offset=0)(inputs)\n",
        "\n",
        "        # ------------------ Downsampling ---------------------\n",
        "        downsample_layers = []\n",
        "        downsample_layers.append(\n",
        "            self.conv(\n",
        "                x=inputs,\n",
        "                filters=self.width,\n",
        "                kernel_size=self.kernel_size\n",
        "            )\n",
        "        )\n",
        "        for i in range(1, self.depth):\n",
        "            dropout_amount = 0.2 if i == 1 else 0.5\n",
        "            filters = int((2 ** i) * self.width)\n",
        "            downsample_layers.append(\n",
        "                self.dropout(\n",
        "                    self.pool(\n",
        "                        self.conv(\n",
        "                            x=downsample_layers[i - 1],\n",
        "                            filters=filters,\n",
        "                            kernel_size=self.kernel_size\n",
        "                        )\n",
        "                    ),\n",
        "                    amount=dropout_amount\n",
        "                )\n",
        "            )\n",
        "\n",
        "        # ------------------- Features --------------------\n",
        "        n_features = int((2 ** self.depth) * self.width)\n",
        "        self.features = self.pool(\n",
        "            self.conv(\n",
        "                x=downsample_layers[-1],\n",
        "                filters=n_features,\n",
        "                kernel_size=self.kernel_size\n",
        "            )\n",
        "        )\n",
        "\n",
        "        # ------------------- Upsampling --------------------\n",
        "        upsample_layers = []\n",
        "        upsample_layers.append(self.features)\n",
        "        for i in range(1, self.depth + 1):\n",
        "            filters = int((2 ** (self.depth - i)) * self.width)\n",
        "            upsample_layers.append(\n",
        "                self.conv(\n",
        "                    x=self.dropout(\n",
        "                        tf.keras.layers.concatenate([\n",
        "                            downsample_layers[self.depth - i],\n",
        "                            self.deconv(\n",
        "                                x=upsample_layers[i - 1],\n",
        "                                filters=filters\n",
        "                            )\n",
        "                        ])\n",
        "                    ),\n",
        "                    filters=filters,\n",
        "                    kernel_size=self.kernel_size\n",
        "                )\n",
        "            )\n",
        "\n",
        "        # ---------------------- Output -----------------------\n",
        "        outputs = self.output(upsample_layers[-1])\n",
        "\n",
        "        return tf.keras.Model(inputs, outputs)\n"
      ]
    },
    {
      "cell_type": "markdown",
      "metadata": {
        "id": "3wNu29ilsY8Q"
      },
      "source": [
        "# Loss Functions / Metrics"
      ]
    },
    {
      "cell_type": "code",
      "execution_count": 8,
      "metadata": {
        "id": "EScLEIVTsY8R"
      },
      "outputs": [],
      "source": [
        "def attention_mse(y_true, y_pred):\n",
        "    _y_true = y_true[y_true != 1.0]\n",
        "    _y_pred = y_pred[y_true != 1.0]\n",
        "    squared_difference = tf.square(_y_true - _y_pred)\n",
        "    return tf.reduce_mean(squared_difference, axis=-1)\n",
        "\n",
        "\n",
        "def attention_mae(y_true, y_pred):\n",
        "    _y_true = y_true[y_true != 1.0]\n",
        "    _y_pred = y_pred[y_true != 1.0]\n",
        "    squared_difference = tf.abs(_y_true - _y_pred)\n",
        "    return tf.reduce_mean(squared_difference, axis=-1)\n"
      ]
    },
    {
      "cell_type": "markdown",
      "metadata": {
        "id": "UcGPtUeasY8R"
      },
      "source": [
        "# DataLoader"
      ]
    },
    {
      "cell_type": "code",
      "execution_count": 9,
      "metadata": {
        "id": "wEWrDHWDsY8R"
      },
      "outputs": [],
      "source": [
        "def load_data_from_dir(path: str) -> tf.data.Dataset:\n",
        "    return tf.keras.utils.image_dataset_from_directory(\n",
        "        directory=path,\n",
        "        labels=None,\n",
        "        color_mode='rgb',\n",
        "        batch_size=BATCH_SIZE,\n",
        "        image_size=(IMG_SIZE, IMG_SIZE),\n",
        "        shuffle=False,\n",
        "        seed=42,\n",
        "        interpolation='bilinear',\n",
        "        follow_links=False,\n",
        "        crop_to_aspect_ratio=False\n",
        "    )\n"
      ]
    },
    {
      "cell_type": "markdown",
      "metadata": {
        "id": "iHl8FzWEsY8R"
      },
      "source": [
        "# Load Dataset"
      ]
    },
    {
      "cell_type": "code",
      "execution_count": 10,
      "metadata": {
        "id": "_N_9KDvNsY8S",
        "colab": {
          "base_uri": "https://localhost:8080/"
        },
        "outputId": "c1a0264d-a35b-41e1-e357-dff321f27968"
      },
      "outputs": [
        {
          "output_type": "stream",
          "name": "stdout",
          "text": [
            "Found 360 files belonging to 1 classes.\n",
            "Found 360 files belonging to 1 classes.\n",
            "Found 96 files belonging to 1 classes.\n",
            "Found 96 files belonging to 1 classes.\n",
            "(TensorSpec(shape=(None, 256, 256, 3), dtype=tf.float32, name=None), TensorSpec(shape=(None, 256, 256, 3), dtype=tf.float32, name=None))\n",
            "(TensorSpec(shape=(None, 256, 256, 3), dtype=tf.float32, name=None), TensorSpec(shape=(None, 256, 256, 3), dtype=tf.float32, name=None))\n"
          ]
        }
      ],
      "source": [
        "trainX = load_data_from_dir(os.path.join(DATASET_PATH, TRAIN_DIR, INPUT_DIR))\n",
        "trainY = load_data_from_dir(os.path.join(DATASET_PATH, TRAIN_DIR, TARGET_DIR))\n",
        "testX = load_data_from_dir(os.path.join(DATASET_PATH, TEST_DIR, INPUT_DIR))\n",
        "testY = load_data_from_dir(os.path.join(DATASET_PATH, TEST_DIR, TARGET_DIR))\n",
        "\n",
        "train_ds = tf.data.Dataset.zip((trainX, trainY))\n",
        "test_ds = tf.data.Dataset.zip((testX, testY))\n",
        "\n",
        "print(train_ds.element_spec)\n",
        "print(test_ds.element_spec)\n"
      ]
    },
    {
      "cell_type": "markdown",
      "metadata": {
        "id": "siGY2orosY8S"
      },
      "source": [
        "# Normalization"
      ]
    },
    {
      "cell_type": "code",
      "execution_count": 11,
      "metadata": {
        "id": "iEVMVJIusY8S"
      },
      "outputs": [],
      "source": [
        "normalization_layer = tf.keras.layers.Rescaling(1./255)\n",
        "train_ds = train_ds.map(lambda x, y: (\n",
        "    normalization_layer(x), normalization_layer(y)))\n",
        "test_ds = test_ds.map(lambda x, y: (\n",
        "    normalization_layer(x), normalization_layer(y)))\n"
      ]
    },
    {
      "cell_type": "markdown",
      "metadata": {
        "id": "N0gpJ04WsY8T"
      },
      "source": [
        "# Augmentation"
      ]
    },
    {
      "cell_type": "code",
      "execution_count": 12,
      "metadata": {
        "id": "71pw2HYCsY8T"
      },
      "outputs": [],
      "source": [
        "class Augment(tf.keras.layers.Layer):\n",
        "    def __init__(self, seed=42):\n",
        "        super().__init__()\n",
        "        # both use the same seed, so they'll make the same random changes.\n",
        "        self.augment_inputs = tf.keras.layers.RandomZoom(\n",
        "            (-0.1, -0.7), seed=seed)\n",
        "        self.augment_labels = tf.keras.layers.RandomZoom(\n",
        "            (-0.1, -0.7), seed=seed)\n",
        "\n",
        "    def call(self, inputs, labels):\n",
        "        inputs = self.augment_inputs(inputs)\n",
        "        labels = self.augment_labels(labels)\n",
        "        return inputs, labels\n"
      ]
    },
    {
      "cell_type": "markdown",
      "metadata": {
        "id": "mymNUKessY8T"
      },
      "source": [
        "# Optimization"
      ]
    },
    {
      "cell_type": "code",
      "execution_count": 13,
      "metadata": {
        "id": "OFxFklYZsY8T"
      },
      "outputs": [],
      "source": [
        "AUTOTUNE = tf.data.AUTOTUNE\n",
        "\n",
        "train_batches = (\n",
        "    train_ds\n",
        "    .cache()\n",
        "    .shuffle(BUFFER_SIZE)\n",
        "    .prefetch(buffer_size=AUTOTUNE)\n",
        ")\n",
        "\n",
        "test_batches = (\n",
        "    test_ds\n",
        "    .cache()\n",
        "    .prefetch(buffer_size=AUTOTUNE)\n",
        ")\n"
      ]
    },
    {
      "cell_type": "markdown",
      "metadata": {
        "id": "j6ilqDbnsY8U"
      },
      "source": [
        "# Training Config"
      ]
    },
    {
      "cell_type": "code",
      "execution_count": 14,
      "metadata": {
        "id": "WlY6S1B6sY8U"
      },
      "outputs": [],
      "source": [
        "model_path = os.path.join(MODEL_PATH, EXP_NAME)\n",
        "\n",
        "callbacks = [\n",
        "    tf.keras.callbacks.EarlyStopping(\n",
        "        monitor=\"val_loss\",\n",
        "        patience=PATIENCE,\n",
        "        restore_best_weights=True\n",
        "    ),\n",
        "    tf.keras.callbacks.ModelCheckpoint(\n",
        "        model_path,\n",
        "        monitor='val_loss',\n",
        "        verbose=1,\n",
        "        save_best_only=True,\n",
        "        save_weights_only=True\n",
        "    )\n",
        "]\n",
        "\n",
        "optimizer = tf.keras.optimizers.Adam(\n",
        "    learning_rate=LEARNING_RATE\n",
        ")\n",
        "\n",
        "model = UNet(IMG_SIZE)()\n",
        "\n",
        "model.compile(\n",
        "    loss=attention_mse,\n",
        "    optimizer=optimizer,\n",
        "    metrics=[attention_mae]\n",
        ")\n",
        "\n",
        "try:\n",
        "    model.load_weights(model_path)\n",
        "except:\n",
        "    print(\"Checkpoint not found\")\n",
        "    pass\n"
      ]
    },
    {
      "cell_type": "markdown",
      "metadata": {
        "id": "zmjFkIYNsY8U"
      },
      "source": [
        "# Training"
      ]
    },
    {
      "cell_type": "code",
      "execution_count": 15,
      "metadata": {
        "id": "Nd0e5sXtsY8U",
        "outputId": "2c6362d8-84aa-4dee-c735-e4f1751a5708",
        "colab": {
          "base_uri": "https://localhost:8080/"
        }
      },
      "outputs": [
        {
          "output_type": "stream",
          "name": "stdout",
          "text": [
            "Epoch 1/300\n",
            "23/23 [==============================] - ETA: 0s - loss: 0.0102 - attention_mae: 0.0647\n",
            "Epoch 1: val_loss improved from inf to 0.18823, saving model to /content/drive/MyDrive/Research/TAVI/Models/Curvature_2_Pressure_MultiViewUNet_I256_B16_LR0.001\n",
            "23/23 [==============================] - 113s 1s/step - loss: 0.0102 - attention_mae: 0.0647 - val_loss: 0.1882 - val_attention_mae: 0.3270\n",
            "Epoch 2/300\n",
            "23/23 [==============================] - ETA: 0s - loss: 0.0024 - attention_mae: 0.0260\n",
            "Epoch 2: val_loss improved from 0.18823 to 0.18819, saving model to /content/drive/MyDrive/Research/TAVI/Models/Curvature_2_Pressure_MultiViewUNet_I256_B16_LR0.001\n",
            "23/23 [==============================] - 19s 829ms/step - loss: 0.0024 - attention_mae: 0.0260 - val_loss: 0.1882 - val_attention_mae: 0.3270\n",
            "Epoch 3/300\n",
            "23/23 [==============================] - ETA: 0s - loss: 0.0020 - attention_mae: 0.0229\n",
            "Epoch 3: val_loss improved from 0.18819 to 0.12208, saving model to /content/drive/MyDrive/Research/TAVI/Models/Curvature_2_Pressure_MultiViewUNet_I256_B16_LR0.001\n",
            "23/23 [==============================] - 20s 875ms/step - loss: 0.0020 - attention_mae: 0.0229 - val_loss: 0.1221 - val_attention_mae: 0.2447\n",
            "Epoch 4/300\n",
            "23/23 [==============================] - ETA: 0s - loss: 0.0019 - attention_mae: 0.0215\n",
            "Epoch 4: val_loss improved from 0.12208 to 0.03485, saving model to /content/drive/MyDrive/Research/TAVI/Models/Curvature_2_Pressure_MultiViewUNet_I256_B16_LR0.001\n",
            "23/23 [==============================] - 19s 831ms/step - loss: 0.0019 - attention_mae: 0.0215 - val_loss: 0.0348 - val_attention_mae: 0.1125\n",
            "Epoch 5/300\n",
            "23/23 [==============================] - ETA: 0s - loss: 0.0018 - attention_mae: 0.0207\n",
            "Epoch 5: val_loss improved from 0.03485 to 0.00472, saving model to /content/drive/MyDrive/Research/TAVI/Models/Curvature_2_Pressure_MultiViewUNet_I256_B16_LR0.001\n",
            "23/23 [==============================] - 19s 828ms/step - loss: 0.0018 - attention_mae: 0.0207 - val_loss: 0.0047 - val_attention_mae: 0.0448\n",
            "Epoch 6/300\n",
            "23/23 [==============================] - ETA: 0s - loss: 0.0017 - attention_mae: 0.0200\n",
            "Epoch 6: val_loss improved from 0.00472 to 0.00247, saving model to /content/drive/MyDrive/Research/TAVI/Models/Curvature_2_Pressure_MultiViewUNet_I256_B16_LR0.001\n",
            "23/23 [==============================] - 19s 844ms/step - loss: 0.0017 - attention_mae: 0.0200 - val_loss: 0.0025 - val_attention_mae: 0.0296\n",
            "Epoch 7/300\n",
            "23/23 [==============================] - ETA: 0s - loss: 0.0017 - attention_mae: 0.0197\n",
            "Epoch 7: val_loss improved from 0.00247 to 0.00204, saving model to /content/drive/MyDrive/Research/TAVI/Models/Curvature_2_Pressure_MultiViewUNet_I256_B16_LR0.001\n",
            "23/23 [==============================] - 19s 841ms/step - loss: 0.0017 - attention_mae: 0.0197 - val_loss: 0.0020 - val_attention_mae: 0.0261\n",
            "Epoch 8/300\n",
            "23/23 [==============================] - ETA: 0s - loss: 0.0016 - attention_mae: 0.0192\n",
            "Epoch 8: val_loss improved from 0.00204 to 0.00180, saving model to /content/drive/MyDrive/Research/TAVI/Models/Curvature_2_Pressure_MultiViewUNet_I256_B16_LR0.001\n",
            "23/23 [==============================] - 20s 878ms/step - loss: 0.0016 - attention_mae: 0.0192 - val_loss: 0.0018 - val_attention_mae: 0.0226\n",
            "Epoch 9/300\n",
            "23/23 [==============================] - ETA: 0s - loss: 0.0016 - attention_mae: 0.0183\n",
            "Epoch 9: val_loss improved from 0.00180 to 0.00174, saving model to /content/drive/MyDrive/Research/TAVI/Models/Curvature_2_Pressure_MultiViewUNet_I256_B16_LR0.001\n",
            "23/23 [==============================] - 19s 830ms/step - loss: 0.0016 - attention_mae: 0.0183 - val_loss: 0.0017 - val_attention_mae: 0.0210\n",
            "Epoch 10/300\n",
            "23/23 [==============================] - ETA: 0s - loss: 0.0016 - attention_mae: 0.0182\n",
            "Epoch 10: val_loss improved from 0.00174 to 0.00171, saving model to /content/drive/MyDrive/Research/TAVI/Models/Curvature_2_Pressure_MultiViewUNet_I256_B16_LR0.001\n",
            "23/23 [==============================] - 19s 829ms/step - loss: 0.0016 - attention_mae: 0.0182 - val_loss: 0.0017 - val_attention_mae: 0.0195\n",
            "Epoch 11/300\n",
            "23/23 [==============================] - ETA: 0s - loss: 0.0015 - attention_mae: 0.0177\n",
            "Epoch 11: val_loss did not improve from 0.00171\n",
            "23/23 [==============================] - 18s 805ms/step - loss: 0.0015 - attention_mae: 0.0177 - val_loss: 0.0017 - val_attention_mae: 0.0196\n",
            "Epoch 12/300\n",
            "23/23 [==============================] - ETA: 0s - loss: 0.0015 - attention_mae: 0.0176\n",
            "Epoch 12: val_loss did not improve from 0.00171\n",
            "23/23 [==============================] - 19s 821ms/step - loss: 0.0015 - attention_mae: 0.0176 - val_loss: 0.0017 - val_attention_mae: 0.0202\n",
            "Epoch 13/300\n",
            "23/23 [==============================] - ETA: 0s - loss: 0.0015 - attention_mae: 0.0172\n",
            "Epoch 13: val_loss did not improve from 0.00171\n",
            "23/23 [==============================] - 19s 820ms/step - loss: 0.0015 - attention_mae: 0.0172 - val_loss: 0.0017 - val_attention_mae: 0.0189\n",
            "Epoch 14/300\n",
            "23/23 [==============================] - ETA: 0s - loss: 0.0015 - attention_mae: 0.0172\n",
            "Epoch 14: val_loss did not improve from 0.00171\n",
            "23/23 [==============================] - 18s 803ms/step - loss: 0.0015 - attention_mae: 0.0172 - val_loss: 0.0018 - val_attention_mae: 0.0197\n",
            "Epoch 15/300\n",
            "23/23 [==============================] - ETA: 0s - loss: 0.0014 - attention_mae: 0.0166\n",
            "Epoch 15: val_loss did not improve from 0.00171\n",
            "23/23 [==============================] - 18s 805ms/step - loss: 0.0014 - attention_mae: 0.0166 - val_loss: 0.0018 - val_attention_mae: 0.0202\n",
            "Epoch 16/300\n",
            "23/23 [==============================] - ETA: 0s - loss: 0.0014 - attention_mae: 0.0169\n",
            "Epoch 16: val_loss did not improve from 0.00171\n",
            "23/23 [==============================] - 18s 803ms/step - loss: 0.0014 - attention_mae: 0.0169 - val_loss: 0.0018 - val_attention_mae: 0.0199\n",
            "Epoch 17/300\n",
            "23/23 [==============================] - ETA: 0s - loss: 0.0014 - attention_mae: 0.0169\n",
            "Epoch 17: val_loss did not improve from 0.00171\n",
            "23/23 [==============================] - 19s 820ms/step - loss: 0.0014 - attention_mae: 0.0169 - val_loss: 0.0017 - val_attention_mae: 0.0204\n",
            "Epoch 18/300\n",
            "23/23 [==============================] - ETA: 0s - loss: 0.0014 - attention_mae: 0.0162\n",
            "Epoch 18: val_loss improved from 0.00171 to 0.00168, saving model to /content/drive/MyDrive/Research/TAVI/Models/Curvature_2_Pressure_MultiViewUNet_I256_B16_LR0.001\n",
            "23/23 [==============================] - 19s 844ms/step - loss: 0.0014 - attention_mae: 0.0162 - val_loss: 0.0017 - val_attention_mae: 0.0186\n",
            "Epoch 19/300\n",
            "23/23 [==============================] - ETA: 0s - loss: 0.0014 - attention_mae: 0.0160\n",
            "Epoch 19: val_loss did not improve from 0.00168\n",
            "23/23 [==============================] - 19s 805ms/step - loss: 0.0014 - attention_mae: 0.0160 - val_loss: 0.0017 - val_attention_mae: 0.0193\n",
            "Epoch 20/300\n",
            "23/23 [==============================] - ETA: 0s - loss: 0.0013 - attention_mae: 0.0156\n",
            "Epoch 20: val_loss did not improve from 0.00168\n",
            "23/23 [==============================] - 19s 807ms/step - loss: 0.0013 - attention_mae: 0.0156 - val_loss: 0.0018 - val_attention_mae: 0.0197\n",
            "Epoch 21/300\n",
            "23/23 [==============================] - ETA: 0s - loss: 0.0013 - attention_mae: 0.0157\n",
            "Epoch 21: val_loss improved from 0.00168 to 0.00161, saving model to /content/drive/MyDrive/Research/TAVI/Models/Curvature_2_Pressure_MultiViewUNet_I256_B16_LR0.001\n",
            "23/23 [==============================] - 19s 839ms/step - loss: 0.0013 - attention_mae: 0.0157 - val_loss: 0.0016 - val_attention_mae: 0.0181\n",
            "Epoch 22/300\n",
            "23/23 [==============================] - ETA: 0s - loss: 0.0013 - attention_mae: 0.0155\n",
            "Epoch 22: val_loss did not improve from 0.00161\n",
            "23/23 [==============================] - 19s 820ms/step - loss: 0.0013 - attention_mae: 0.0155 - val_loss: 0.0017 - val_attention_mae: 0.0179\n",
            "Epoch 23/300\n",
            "23/23 [==============================] - ETA: 0s - loss: 0.0013 - attention_mae: 0.0153\n",
            "Epoch 23: val_loss improved from 0.00161 to 0.00158, saving model to /content/drive/MyDrive/Research/TAVI/Models/Curvature_2_Pressure_MultiViewUNet_I256_B16_LR0.001\n",
            "23/23 [==============================] - 20s 854ms/step - loss: 0.0013 - attention_mae: 0.0153 - val_loss: 0.0016 - val_attention_mae: 0.0162\n",
            "Epoch 24/300\n",
            "23/23 [==============================] - ETA: 0s - loss: 0.0013 - attention_mae: 0.0156\n",
            "Epoch 24: val_loss improved from 0.00158 to 0.00155, saving model to /content/drive/MyDrive/Research/TAVI/Models/Curvature_2_Pressure_MultiViewUNet_I256_B16_LR0.001\n",
            "23/23 [==============================] - 19s 831ms/step - loss: 0.0013 - attention_mae: 0.0156 - val_loss: 0.0016 - val_attention_mae: 0.0161\n",
            "Epoch 25/300\n",
            "23/23 [==============================] - ETA: 0s - loss: 0.0013 - attention_mae: 0.0147\n",
            "Epoch 25: val_loss did not improve from 0.00155\n",
            "23/23 [==============================] - 19s 807ms/step - loss: 0.0013 - attention_mae: 0.0147 - val_loss: 0.0016 - val_attention_mae: 0.0161\n",
            "Epoch 26/300\n",
            "23/23 [==============================] - ETA: 0s - loss: 0.0013 - attention_mae: 0.0151\n",
            "Epoch 26: val_loss did not improve from 0.00155\n",
            "23/23 [==============================] - 18s 805ms/step - loss: 0.0013 - attention_mae: 0.0151 - val_loss: 0.0016 - val_attention_mae: 0.0160\n",
            "Epoch 27/300\n",
            "23/23 [==============================] - ETA: 0s - loss: 0.0012 - attention_mae: 0.0145\n",
            "Epoch 27: val_loss did not improve from 0.00155\n",
            "23/23 [==============================] - 18s 804ms/step - loss: 0.0012 - attention_mae: 0.0145 - val_loss: 0.0017 - val_attention_mae: 0.0151\n",
            "Epoch 28/300\n",
            "23/23 [==============================] - ETA: 0s - loss: 0.0013 - attention_mae: 0.0146\n",
            "Epoch 28: val_loss improved from 0.00155 to 0.00153, saving model to /content/drive/MyDrive/Research/TAVI/Models/Curvature_2_Pressure_MultiViewUNet_I256_B16_LR0.001\n",
            "23/23 [==============================] - 19s 830ms/step - loss: 0.0013 - attention_mae: 0.0146 - val_loss: 0.0015 - val_attention_mae: 0.0152\n",
            "Epoch 29/300\n",
            "23/23 [==============================] - ETA: 0s - loss: 0.0013 - attention_mae: 0.0150\n",
            "Epoch 29: val_loss improved from 0.00153 to 0.00148, saving model to /content/drive/MyDrive/Research/TAVI/Models/Curvature_2_Pressure_MultiViewUNet_I256_B16_LR0.001\n",
            "23/23 [==============================] - 19s 862ms/step - loss: 0.0013 - attention_mae: 0.0150 - val_loss: 0.0015 - val_attention_mae: 0.0155\n",
            "Epoch 30/300\n",
            "23/23 [==============================] - ETA: 0s - loss: 0.0012 - attention_mae: 0.0142\n",
            "Epoch 30: val_loss did not improve from 0.00148\n",
            "23/23 [==============================] - 19s 821ms/step - loss: 0.0012 - attention_mae: 0.0142 - val_loss: 0.0015 - val_attention_mae: 0.0140\n",
            "Epoch 31/300\n",
            "23/23 [==============================] - ETA: 0s - loss: 0.0012 - attention_mae: 0.0141\n",
            "Epoch 31: val_loss improved from 0.00148 to 0.00134, saving model to /content/drive/MyDrive/Research/TAVI/Models/Curvature_2_Pressure_MultiViewUNet_I256_B16_LR0.001\n",
            "23/23 [==============================] - 20s 855ms/step - loss: 0.0012 - attention_mae: 0.0141 - val_loss: 0.0013 - val_attention_mae: 0.0135\n",
            "Epoch 32/300\n",
            "23/23 [==============================] - ETA: 0s - loss: 0.0012 - attention_mae: 0.0141\n",
            "Epoch 32: val_loss did not improve from 0.00134\n",
            "23/23 [==============================] - 19s 805ms/step - loss: 0.0012 - attention_mae: 0.0141 - val_loss: 0.0013 - val_attention_mae: 0.0141\n",
            "Epoch 33/300\n",
            "23/23 [==============================] - ETA: 0s - loss: 0.0012 - attention_mae: 0.0136\n",
            "Epoch 33: val_loss did not improve from 0.00134\n",
            "23/23 [==============================] - 18s 805ms/step - loss: 0.0012 - attention_mae: 0.0136 - val_loss: 0.0014 - val_attention_mae: 0.0137\n",
            "Epoch 34/300\n",
            "23/23 [==============================] - ETA: 0s - loss: 0.0012 - attention_mae: 0.0135\n",
            "Epoch 34: val_loss did not improve from 0.00134\n",
            "23/23 [==============================] - 19s 823ms/step - loss: 0.0012 - attention_mae: 0.0135 - val_loss: 0.0015 - val_attention_mae: 0.0138\n",
            "Epoch 35/300\n",
            "23/23 [==============================] - ETA: 0s - loss: 0.0012 - attention_mae: 0.0133\n",
            "Epoch 35: val_loss improved from 0.00134 to 0.00128, saving model to /content/drive/MyDrive/Research/TAVI/Models/Curvature_2_Pressure_MultiViewUNet_I256_B16_LR0.001\n",
            "23/23 [==============================] - 19s 845ms/step - loss: 0.0012 - attention_mae: 0.0133 - val_loss: 0.0013 - val_attention_mae: 0.0131\n",
            "Epoch 36/300\n",
            "23/23 [==============================] - ETA: 0s - loss: 0.0012 - attention_mae: 0.0133\n",
            "Epoch 36: val_loss did not improve from 0.00128\n",
            "23/23 [==============================] - 18s 805ms/step - loss: 0.0012 - attention_mae: 0.0133 - val_loss: 0.0014 - val_attention_mae: 0.0129\n",
            "Epoch 37/300\n",
            "23/23 [==============================] - ETA: 0s - loss: 0.0012 - attention_mae: 0.0133\n",
            "Epoch 37: val_loss did not improve from 0.00128\n",
            "23/23 [==============================] - 19s 821ms/step - loss: 0.0012 - attention_mae: 0.0133 - val_loss: 0.0013 - val_attention_mae: 0.0125\n",
            "Epoch 38/300\n",
            "23/23 [==============================] - ETA: 0s - loss: 0.0012 - attention_mae: 0.0131\n",
            "Epoch 38: val_loss did not improve from 0.00128\n",
            "23/23 [==============================] - 19s 805ms/step - loss: 0.0012 - attention_mae: 0.0131 - val_loss: 0.0014 - val_attention_mae: 0.0144\n",
            "Epoch 39/300\n",
            "23/23 [==============================] - ETA: 0s - loss: 0.0012 - attention_mae: 0.0131\n",
            "Epoch 39: val_loss improved from 0.00128 to 0.00125, saving model to /content/drive/MyDrive/Research/TAVI/Models/Curvature_2_Pressure_MultiViewUNet_I256_B16_LR0.001\n",
            "23/23 [==============================] - 19s 831ms/step - loss: 0.0012 - attention_mae: 0.0131 - val_loss: 0.0013 - val_attention_mae: 0.0130\n",
            "Epoch 40/300\n",
            "23/23 [==============================] - ETA: 0s - loss: 0.0012 - attention_mae: 0.0131\n",
            "Epoch 40: val_loss did not improve from 0.00125\n",
            "23/23 [==============================] - 19s 806ms/step - loss: 0.0012 - attention_mae: 0.0131 - val_loss: 0.0014 - val_attention_mae: 0.0150\n",
            "Epoch 41/300\n",
            "23/23 [==============================] - ETA: 0s - loss: 0.0011 - attention_mae: 0.0129\n",
            "Epoch 41: val_loss did not improve from 0.00125\n",
            "23/23 [==============================] - 18s 805ms/step - loss: 0.0011 - attention_mae: 0.0129 - val_loss: 0.0015 - val_attention_mae: 0.0162\n",
            "Epoch 42/300\n",
            "23/23 [==============================] - ETA: 0s - loss: 0.0011 - attention_mae: 0.0127\n",
            "Epoch 42: val_loss did not improve from 0.00125\n",
            "23/23 [==============================] - 18s 805ms/step - loss: 0.0011 - attention_mae: 0.0127 - val_loss: 0.0013 - val_attention_mae: 0.0123\n",
            "Epoch 43/300\n",
            "23/23 [==============================] - ETA: 0s - loss: 0.0011 - attention_mae: 0.0129\n",
            "Epoch 43: val_loss improved from 0.00125 to 0.00125, saving model to /content/drive/MyDrive/Research/TAVI/Models/Curvature_2_Pressure_MultiViewUNet_I256_B16_LR0.001\n",
            "23/23 [==============================] - 20s 855ms/step - loss: 0.0011 - attention_mae: 0.0129 - val_loss: 0.0012 - val_attention_mae: 0.0125\n",
            "Epoch 44/300\n",
            "23/23 [==============================] - ETA: 0s - loss: 0.0011 - attention_mae: 0.0127\n",
            "Epoch 44: val_loss did not improve from 0.00125\n",
            "23/23 [==============================] - 18s 805ms/step - loss: 0.0011 - attention_mae: 0.0127 - val_loss: 0.0014 - val_attention_mae: 0.0141\n",
            "Epoch 45/300\n",
            "23/23 [==============================] - ETA: 0s - loss: 0.0011 - attention_mae: 0.0127\n",
            "Epoch 45: val_loss did not improve from 0.00125\n",
            "23/23 [==============================] - 18s 804ms/step - loss: 0.0011 - attention_mae: 0.0127 - val_loss: 0.0013 - val_attention_mae: 0.0120\n",
            "Epoch 46/300\n",
            "23/23 [==============================] - ETA: 0s - loss: 0.0011 - attention_mae: 0.0125\n",
            "Epoch 46: val_loss did not improve from 0.00125\n",
            "23/23 [==============================] - 18s 804ms/step - loss: 0.0011 - attention_mae: 0.0125 - val_loss: 0.0013 - val_attention_mae: 0.0135\n",
            "Epoch 47/300\n",
            "23/23 [==============================] - ETA: 0s - loss: 0.0011 - attention_mae: 0.0126\n",
            "Epoch 47: val_loss improved from 0.00125 to 0.00115, saving model to /content/drive/MyDrive/Research/TAVI/Models/Curvature_2_Pressure_MultiViewUNet_I256_B16_LR0.001\n",
            "23/23 [==============================] - 19s 844ms/step - loss: 0.0011 - attention_mae: 0.0126 - val_loss: 0.0012 - val_attention_mae: 0.0121\n",
            "Epoch 48/300\n",
            "23/23 [==============================] - ETA: 0s - loss: 0.0011 - attention_mae: 0.0124\n",
            "Epoch 48: val_loss did not improve from 0.00115\n",
            "23/23 [==============================] - 19s 822ms/step - loss: 0.0011 - attention_mae: 0.0124 - val_loss: 0.0013 - val_attention_mae: 0.0143\n",
            "Epoch 49/300\n",
            "23/23 [==============================] - ETA: 0s - loss: 0.0011 - attention_mae: 0.0122\n",
            "Epoch 49: val_loss did not improve from 0.00115\n",
            "23/23 [==============================] - 19s 804ms/step - loss: 0.0011 - attention_mae: 0.0122 - val_loss: 0.0014 - val_attention_mae: 0.0156\n",
            "Epoch 50/300\n",
            "23/23 [==============================] - ETA: 0s - loss: 0.0011 - attention_mae: 0.0123\n",
            "Epoch 50: val_loss did not improve from 0.00115\n",
            "23/23 [==============================] - 19s 804ms/step - loss: 0.0011 - attention_mae: 0.0123 - val_loss: 0.0012 - val_attention_mae: 0.0125\n",
            "Epoch 51/300\n",
            "23/23 [==============================] - ETA: 0s - loss: 0.0011 - attention_mae: 0.0124\n",
            "Epoch 51: val_loss did not improve from 0.00115\n",
            "23/23 [==============================] - 18s 805ms/step - loss: 0.0011 - attention_mae: 0.0124 - val_loss: 0.0014 - val_attention_mae: 0.0155\n",
            "Epoch 52/300\n",
            "23/23 [==============================] - ETA: 0s - loss: 0.0011 - attention_mae: 0.0122\n",
            "Epoch 52: val_loss did not improve from 0.00115\n",
            "23/23 [==============================] - 19s 821ms/step - loss: 0.0011 - attention_mae: 0.0122 - val_loss: 0.0020 - val_attention_mae: 0.0229\n",
            "Epoch 53/300\n",
            "23/23 [==============================] - ETA: 0s - loss: 0.0011 - attention_mae: 0.0122\n",
            "Epoch 53: val_loss improved from 0.00115 to 0.00114, saving model to /content/drive/MyDrive/Research/TAVI/Models/Curvature_2_Pressure_MultiViewUNet_I256_B16_LR0.001\n",
            "23/23 [==============================] - 19s 832ms/step - loss: 0.0011 - attention_mae: 0.0122 - val_loss: 0.0011 - val_attention_mae: 0.0119\n",
            "Epoch 54/300\n",
            "23/23 [==============================] - ETA: 0s - loss: 0.0011 - attention_mae: 0.0118\n",
            "Epoch 54: val_loss did not improve from 0.00114\n",
            "23/23 [==============================] - 19s 806ms/step - loss: 0.0011 - attention_mae: 0.0118 - val_loss: 0.0012 - val_attention_mae: 0.0130\n",
            "Epoch 55/300\n",
            "23/23 [==============================] - ETA: 0s - loss: 0.0011 - attention_mae: 0.0118\n",
            "Epoch 55: val_loss did not improve from 0.00114\n",
            "23/23 [==============================] - 18s 805ms/step - loss: 0.0011 - attention_mae: 0.0118 - val_loss: 0.0016 - val_attention_mae: 0.0182\n",
            "Epoch 56/300\n",
            "23/23 [==============================] - ETA: 0s - loss: 0.0011 - attention_mae: 0.0118\n",
            "Epoch 56: val_loss did not improve from 0.00114\n",
            "23/23 [==============================] - 18s 805ms/step - loss: 0.0011 - attention_mae: 0.0118 - val_loss: 0.0012 - val_attention_mae: 0.0135\n",
            "Epoch 57/300\n",
            "23/23 [==============================] - ETA: 0s - loss: 0.0011 - attention_mae: 0.0120\n",
            "Epoch 57: val_loss did not improve from 0.00114\n",
            "23/23 [==============================] - 19s 821ms/step - loss: 0.0011 - attention_mae: 0.0120 - val_loss: 0.0013 - val_attention_mae: 0.0144\n",
            "Epoch 58/300\n",
            "23/23 [==============================] - ETA: 0s - loss: 0.0011 - attention_mae: 0.0118\n",
            "Epoch 58: val_loss did not improve from 0.00114\n",
            "23/23 [==============================] - 18s 805ms/step - loss: 0.0011 - attention_mae: 0.0118 - val_loss: 0.0012 - val_attention_mae: 0.0118\n",
            "Epoch 59/300\n",
            "23/23 [==============================] - ETA: 0s - loss: 0.0011 - attention_mae: 0.0118\n",
            "Epoch 59: val_loss did not improve from 0.00114\n",
            "23/23 [==============================] - 18s 805ms/step - loss: 0.0011 - attention_mae: 0.0118 - val_loss: 0.0016 - val_attention_mae: 0.0198\n",
            "Epoch 60/300\n",
            "23/23 [==============================] - ETA: 0s - loss: 0.0010 - attention_mae: 0.0117\n",
            "Epoch 60: val_loss improved from 0.00114 to 0.00112, saving model to /content/drive/MyDrive/Research/TAVI/Models/Curvature_2_Pressure_MultiViewUNet_I256_B16_LR0.001\n",
            "23/23 [==============================] - 19s 844ms/step - loss: 0.0010 - attention_mae: 0.0117 - val_loss: 0.0011 - val_attention_mae: 0.0116\n",
            "Epoch 61/300\n",
            "23/23 [==============================] - ETA: 0s - loss: 0.0010 - attention_mae: 0.0115\n",
            "Epoch 61: val_loss did not improve from 0.00112\n",
            "23/23 [==============================] - 19s 822ms/step - loss: 0.0010 - attention_mae: 0.0115 - val_loss: 0.0012 - val_attention_mae: 0.0130\n",
            "Epoch 62/300\n",
            "23/23 [==============================] - ETA: 0s - loss: 0.0010 - attention_mae: 0.0116\n",
            "Epoch 62: val_loss did not improve from 0.00112\n",
            "23/23 [==============================] - 18s 805ms/step - loss: 0.0010 - attention_mae: 0.0116 - val_loss: 0.0012 - val_attention_mae: 0.0131\n",
            "Epoch 63/300\n",
            "23/23 [==============================] - ETA: 0s - loss: 0.0010 - attention_mae: 0.0115\n",
            "Epoch 63: val_loss improved from 0.00112 to 0.00108, saving model to /content/drive/MyDrive/Research/TAVI/Models/Curvature_2_Pressure_MultiViewUNet_I256_B16_LR0.001\n",
            "23/23 [==============================] - 19s 831ms/step - loss: 0.0010 - attention_mae: 0.0115 - val_loss: 0.0011 - val_attention_mae: 0.0112\n",
            "Epoch 64/300\n",
            "23/23 [==============================] - ETA: 0s - loss: 0.0010 - attention_mae: 0.0116\n",
            "Epoch 64: val_loss did not improve from 0.00108\n",
            "23/23 [==============================] - 19s 821ms/step - loss: 0.0010 - attention_mae: 0.0116 - val_loss: 0.0011 - val_attention_mae: 0.0124\n",
            "Epoch 65/300\n",
            "23/23 [==============================] - ETA: 0s - loss: 0.0010 - attention_mae: 0.0116\n",
            "Epoch 65: val_loss improved from 0.00108 to 0.00106, saving model to /content/drive/MyDrive/Research/TAVI/Models/Curvature_2_Pressure_MultiViewUNet_I256_B16_LR0.001\n",
            "23/23 [==============================] - 19s 831ms/step - loss: 0.0010 - attention_mae: 0.0116 - val_loss: 0.0011 - val_attention_mae: 0.0111\n",
            "Epoch 66/300\n",
            "23/23 [==============================] - ETA: 0s - loss: 0.0010 - attention_mae: 0.0114\n",
            "Epoch 66: val_loss improved from 0.00106 to 0.00106, saving model to /content/drive/MyDrive/Research/TAVI/Models/Curvature_2_Pressure_MultiViewUNet_I256_B16_LR0.001\n",
            "23/23 [==============================] - 19s 831ms/step - loss: 0.0010 - attention_mae: 0.0114 - val_loss: 0.0011 - val_attention_mae: 0.0101\n",
            "Epoch 67/300\n",
            "23/23 [==============================] - ETA: 0s - loss: 0.0010 - attention_mae: 0.0113    \n",
            "Epoch 67: val_loss did not improve from 0.00106\n",
            "23/23 [==============================] - 18s 806ms/step - loss: 0.0010 - attention_mae: 0.0113 - val_loss: 0.0011 - val_attention_mae: 0.0123\n",
            "Epoch 68/300\n",
            "23/23 [==============================] - ETA: 0s - loss: 9.9928e-04 - attention_mae: 0.0112\n",
            "Epoch 68: val_loss did not improve from 0.00106\n",
            "23/23 [==============================] - 19s 820ms/step - loss: 9.9928e-04 - attention_mae: 0.0112 - val_loss: 0.0011 - val_attention_mae: 0.0116\n",
            "Epoch 69/300\n",
            "23/23 [==============================] - ETA: 0s - loss: 9.9417e-04 - attention_mae: 0.0111\n",
            "Epoch 69: val_loss improved from 0.00106 to 0.00103, saving model to /content/drive/MyDrive/Research/TAVI/Models/Curvature_2_Pressure_MultiViewUNet_I256_B16_LR0.001\n",
            "23/23 [==============================] - 20s 854ms/step - loss: 9.9417e-04 - attention_mae: 0.0111 - val_loss: 0.0010 - val_attention_mae: 0.0105\n",
            "Epoch 70/300\n",
            "23/23 [==============================] - ETA: 0s - loss: 0.0010 - attention_mae: 0.0113\n",
            "Epoch 70: val_loss did not improve from 0.00103\n",
            "23/23 [==============================] - 18s 805ms/step - loss: 0.0010 - attention_mae: 0.0113 - val_loss: 0.0011 - val_attention_mae: 0.0120\n",
            "Epoch 71/300\n",
            "23/23 [==============================] - ETA: 0s - loss: 9.8970e-04 - attention_mae: 0.0111\n",
            "Epoch 71: val_loss did not improve from 0.00103\n",
            "23/23 [==============================] - 18s 805ms/step - loss: 9.8970e-04 - attention_mae: 0.0111 - val_loss: 0.0011 - val_attention_mae: 0.0119\n",
            "Epoch 72/300\n",
            "23/23 [==============================] - ETA: 0s - loss: 9.8231e-04 - attention_mae: 0.0109\n",
            "Epoch 72: val_loss did not improve from 0.00103\n",
            "23/23 [==============================] - 18s 804ms/step - loss: 9.8231e-04 - attention_mae: 0.0109 - val_loss: 0.0011 - val_attention_mae: 0.0114\n",
            "Epoch 73/300\n",
            "23/23 [==============================] - ETA: 0s - loss: 9.7687e-04 - attention_mae: 0.0109\n",
            "Epoch 73: val_loss did not improve from 0.00103\n",
            "23/23 [==============================] - 19s 819ms/step - loss: 9.7687e-04 - attention_mae: 0.0109 - val_loss: 0.0011 - val_attention_mae: 0.0110\n",
            "Epoch 74/300\n",
            "23/23 [==============================] - ETA: 0s - loss: 9.8182e-04 - attention_mae: 0.0110\n",
            "Epoch 74: val_loss did not improve from 0.00103\n",
            "23/23 [==============================] - 19s 823ms/step - loss: 9.8182e-04 - attention_mae: 0.0110 - val_loss: 0.0011 - val_attention_mae: 0.0116\n",
            "Epoch 75/300\n",
            "23/23 [==============================] - ETA: 0s - loss: 9.6537e-04 - attention_mae: 0.0108\n",
            "Epoch 75: val_loss improved from 0.00103 to 0.00098, saving model to /content/drive/MyDrive/Research/TAVI/Models/Curvature_2_Pressure_MultiViewUNet_I256_B16_LR0.001\n",
            "23/23 [==============================] - 19s 846ms/step - loss: 9.6537e-04 - attention_mae: 0.0108 - val_loss: 9.7650e-04 - val_attention_mae: 0.0098\n",
            "Epoch 76/300\n",
            "23/23 [==============================] - ETA: 0s - loss: 9.6503e-04 - attention_mae: 0.0108\n",
            "Epoch 76: val_loss did not improve from 0.00098\n",
            "23/23 [==============================] - 18s 805ms/step - loss: 9.6503e-04 - attention_mae: 0.0108 - val_loss: 9.9230e-04 - val_attention_mae: 0.0102\n",
            "Epoch 77/300\n",
            "23/23 [==============================] - ETA: 0s - loss: 9.6187e-04 - attention_mae: 0.0107\n",
            "Epoch 77: val_loss did not improve from 0.00098\n",
            "23/23 [==============================] - 18s 821ms/step - loss: 9.6187e-04 - attention_mae: 0.0107 - val_loss: 0.0010 - val_attention_mae: 0.0092\n",
            "Epoch 78/300\n",
            "23/23 [==============================] - ETA: 0s - loss: 9.6289e-04 - attention_mae: 0.0108\n",
            "Epoch 78: val_loss did not improve from 0.00098\n",
            "23/23 [==============================] - 18s 804ms/step - loss: 9.6289e-04 - attention_mae: 0.0108 - val_loss: 0.0010 - val_attention_mae: 0.0094\n",
            "Epoch 79/300\n",
            "23/23 [==============================] - ETA: 0s - loss: 9.6418e-04 - attention_mae: 0.0109\n",
            "Epoch 79: val_loss did not improve from 0.00098\n",
            "23/23 [==============================] - 19s 806ms/step - loss: 9.6418e-04 - attention_mae: 0.0109 - val_loss: 0.0011 - val_attention_mae: 0.0116\n",
            "Epoch 80/300\n",
            "23/23 [==============================] - ETA: 0s - loss: 9.4761e-04 - attention_mae: 0.0107\n",
            "Epoch 80: val_loss did not improve from 0.00098\n",
            "23/23 [==============================] - 19s 822ms/step - loss: 9.4761e-04 - attention_mae: 0.0107 - val_loss: 9.8711e-04 - val_attention_mae: 0.0103\n",
            "Epoch 81/300\n",
            "23/23 [==============================] - ETA: 0s - loss: 9.5065e-04 - attention_mae: 0.0107\n",
            "Epoch 81: val_loss did not improve from 0.00098\n",
            "23/23 [==============================] - 18s 803ms/step - loss: 9.5065e-04 - attention_mae: 0.0107 - val_loss: 9.8359e-04 - val_attention_mae: 0.0096\n",
            "Epoch 82/300\n",
            "23/23 [==============================] - ETA: 0s - loss: 9.3978e-04 - attention_mae: 0.0105\n",
            "Epoch 82: val_loss improved from 0.00098 to 0.00097, saving model to /content/drive/MyDrive/Research/TAVI/Models/Curvature_2_Pressure_MultiViewUNet_I256_B16_LR0.001\n",
            "23/23 [==============================] - 19s 830ms/step - loss: 9.3978e-04 - attention_mae: 0.0105 - val_loss: 9.7212e-04 - val_attention_mae: 0.0093\n",
            "Epoch 83/300\n",
            "23/23 [==============================] - ETA: 0s - loss: 9.3470e-04 - attention_mae: 0.0105\n",
            "Epoch 83: val_loss did not improve from 0.00097\n",
            "23/23 [==============================] - 18s 805ms/step - loss: 9.3470e-04 - attention_mae: 0.0105 - val_loss: 0.0010 - val_attention_mae: 0.0109\n",
            "Epoch 84/300\n",
            "23/23 [==============================] - ETA: 0s - loss: 9.2721e-04 - attention_mae: 0.0104\n",
            "Epoch 84: val_loss improved from 0.00097 to 0.00095, saving model to /content/drive/MyDrive/Research/TAVI/Models/Curvature_2_Pressure_MultiViewUNet_I256_B16_LR0.001\n",
            "23/23 [==============================] - 19s 847ms/step - loss: 9.2721e-04 - attention_mae: 0.0104 - val_loss: 9.5195e-04 - val_attention_mae: 0.0092\n",
            "Epoch 85/300\n",
            "23/23 [==============================] - ETA: 0s - loss: 9.3313e-04 - attention_mae: 0.0104\n",
            "Epoch 85: val_loss did not improve from 0.00095\n",
            "23/23 [==============================] - 19s 806ms/step - loss: 9.3313e-04 - attention_mae: 0.0104 - val_loss: 0.0010 - val_attention_mae: 0.0101\n",
            "Epoch 86/300\n",
            "23/23 [==============================] - ETA: 0s - loss: 9.2674e-04 - attention_mae: 0.0104\n",
            "Epoch 86: val_loss did not improve from 0.00095\n",
            "23/23 [==============================] - 19s 822ms/step - loss: 9.2674e-04 - attention_mae: 0.0104 - val_loss: 9.5318e-04 - val_attention_mae: 0.0094\n",
            "Epoch 87/300\n",
            "23/23 [==============================] - ETA: 0s - loss: 9.1874e-04 - attention_mae: 0.0102\n",
            "Epoch 87: val_loss improved from 0.00095 to 0.00094, saving model to /content/drive/MyDrive/Research/TAVI/Models/Curvature_2_Pressure_MultiViewUNet_I256_B16_LR0.001\n",
            "23/23 [==============================] - 20s 856ms/step - loss: 9.1874e-04 - attention_mae: 0.0102 - val_loss: 9.4435e-04 - val_attention_mae: 0.0092\n",
            "Epoch 88/300\n",
            "23/23 [==============================] - ETA: 0s - loss: 9.2125e-04 - attention_mae: 0.0104\n",
            "Epoch 88: val_loss did not improve from 0.00094\n",
            "23/23 [==============================] - 19s 806ms/step - loss: 9.2125e-04 - attention_mae: 0.0104 - val_loss: 9.7016e-04 - val_attention_mae: 0.0090\n",
            "Epoch 89/300\n",
            "23/23 [==============================] - ETA: 0s - loss: 9.2923e-04 - attention_mae: 0.0105\n",
            "Epoch 89: val_loss did not improve from 0.00094\n",
            "23/23 [==============================] - 19s 805ms/step - loss: 9.2923e-04 - attention_mae: 0.0105 - val_loss: 0.0011 - val_attention_mae: 0.0117\n",
            "Epoch 90/300\n",
            "23/23 [==============================] - ETA: 0s - loss: 9.2292e-04 - attention_mae: 0.0105\n",
            "Epoch 90: val_loss did not improve from 0.00094\n",
            "23/23 [==============================] - 19s 822ms/step - loss: 9.2292e-04 - attention_mae: 0.0105 - val_loss: 9.5632e-04 - val_attention_mae: 0.0089\n",
            "Epoch 91/300\n",
            "23/23 [==============================] - ETA: 0s - loss: 9.1393e-04 - attention_mae: 0.0104\n",
            "Epoch 91: val_loss did not improve from 0.00094\n",
            "23/23 [==============================] - 19s 804ms/step - loss: 9.1393e-04 - attention_mae: 0.0104 - val_loss: 9.9603e-04 - val_attention_mae: 0.0096\n",
            "Epoch 92/300\n",
            "23/23 [==============================] - ETA: 0s - loss: 9.0912e-04 - attention_mae: 0.0102\n",
            "Epoch 92: val_loss did not improve from 0.00094\n",
            "23/23 [==============================] - 18s 805ms/step - loss: 9.0912e-04 - attention_mae: 0.0102 - val_loss: 9.7201e-04 - val_attention_mae: 0.0091\n",
            "Epoch 93/300\n",
            "23/23 [==============================] - ETA: 0s - loss: 9.0887e-04 - attention_mae: 0.0103\n",
            "Epoch 93: val_loss did not improve from 0.00094\n",
            "23/23 [==============================] - 18s 806ms/step - loss: 9.0887e-04 - attention_mae: 0.0103 - val_loss: 9.5069e-04 - val_attention_mae: 0.0095\n",
            "Epoch 94/300\n",
            "23/23 [==============================] - ETA: 0s - loss: 9.0862e-04 - attention_mae: 0.0103\n",
            "Epoch 94: val_loss improved from 0.00094 to 0.00092, saving model to /content/drive/MyDrive/Research/TAVI/Models/Curvature_2_Pressure_MultiViewUNet_I256_B16_LR0.001\n",
            "23/23 [==============================] - 19s 852ms/step - loss: 9.0862e-04 - attention_mae: 0.0103 - val_loss: 9.1729e-04 - val_attention_mae: 0.0094\n",
            "Epoch 95/300\n",
            "23/23 [==============================] - ETA: 0s - loss: 8.9940e-04 - attention_mae: 0.0102\n",
            "Epoch 95: val_loss did not improve from 0.00092\n",
            "23/23 [==============================] - 18s 805ms/step - loss: 8.9940e-04 - attention_mae: 0.0102 - val_loss: 9.8089e-04 - val_attention_mae: 0.0105\n",
            "Epoch 96/300\n",
            "23/23 [==============================] - ETA: 0s - loss: 8.9196e-04 - attention_mae: 0.0101\n",
            "Epoch 96: val_loss improved from 0.00092 to 0.00092, saving model to /content/drive/MyDrive/Research/TAVI/Models/Curvature_2_Pressure_MultiViewUNet_I256_B16_LR0.001\n",
            "23/23 [==============================] - 19s 830ms/step - loss: 8.9196e-04 - attention_mae: 0.0101 - val_loss: 9.1623e-04 - val_attention_mae: 0.0088\n",
            "Epoch 97/300\n",
            "23/23 [==============================] - ETA: 0s - loss: 8.9409e-04 - attention_mae: 0.0101\n",
            "Epoch 97: val_loss did not improve from 0.00092\n",
            "23/23 [==============================] - 19s 805ms/step - loss: 8.9409e-04 - attention_mae: 0.0101 - val_loss: 9.3899e-04 - val_attention_mae: 0.0098\n",
            "Epoch 98/300\n",
            "23/23 [==============================] - ETA: 0s - loss: 8.8466e-04 - attention_mae: 0.0100\n",
            "Epoch 98: val_loss did not improve from 0.00092\n",
            "23/23 [==============================] - 18s 806ms/step - loss: 8.8466e-04 - attention_mae: 0.0100 - val_loss: 9.2996e-04 - val_attention_mae: 0.0097\n",
            "Epoch 99/300\n",
            "23/23 [==============================] - ETA: 0s - loss: 8.8192e-04 - attention_mae: 0.0100\n",
            "Epoch 99: val_loss improved from 0.00092 to 0.00091, saving model to /content/drive/MyDrive/Research/TAVI/Models/Curvature_2_Pressure_MultiViewUNet_I256_B16_LR0.001\n",
            "23/23 [==============================] - 20s 854ms/step - loss: 8.8192e-04 - attention_mae: 0.0100 - val_loss: 9.1072e-04 - val_attention_mae: 0.0091\n",
            "Epoch 100/300\n",
            "23/23 [==============================] - ETA: 0s - loss: 8.7859e-04 - attention_mae: 0.0099\n",
            "Epoch 100: val_loss did not improve from 0.00091\n",
            "23/23 [==============================] - 19s 820ms/step - loss: 8.7859e-04 - attention_mae: 0.0099 - val_loss: 9.1341e-04 - val_attention_mae: 0.0088\n",
            "Epoch 101/300\n",
            "23/23 [==============================] - ETA: 0s - loss: 8.7659e-04 - attention_mae: 0.0100\n",
            "Epoch 101: val_loss did not improve from 0.00091\n",
            "23/23 [==============================] - 19s 807ms/step - loss: 8.7659e-04 - attention_mae: 0.0100 - val_loss: 9.1486e-04 - val_attention_mae: 0.0091\n",
            "Epoch 102/300\n",
            "23/23 [==============================] - ETA: 0s - loss: 8.7795e-04 - attention_mae: 0.0100\n",
            "Epoch 102: val_loss did not improve from 0.00091\n",
            "23/23 [==============================] - 18s 804ms/step - loss: 8.7795e-04 - attention_mae: 0.0100 - val_loss: 9.2528e-04 - val_attention_mae: 0.0093\n",
            "Epoch 103/300\n",
            "23/23 [==============================] - ETA: 0s - loss: 8.7367e-04 - attention_mae: 0.0097\n",
            "Epoch 103: val_loss improved from 0.00091 to 0.00088, saving model to /content/drive/MyDrive/Research/TAVI/Models/Curvature_2_Pressure_MultiViewUNet_I256_B16_LR0.001\n",
            "23/23 [==============================] - 20s 854ms/step - loss: 8.7367e-04 - attention_mae: 0.0097 - val_loss: 8.8290e-04 - val_attention_mae: 0.0087\n",
            "Epoch 104/300\n",
            "23/23 [==============================] - ETA: 0s - loss: 8.7031e-04 - attention_mae: 0.0098\n",
            "Epoch 104: val_loss did not improve from 0.00088\n",
            "23/23 [==============================] - 19s 822ms/step - loss: 8.7031e-04 - attention_mae: 0.0098 - val_loss: 9.2492e-04 - val_attention_mae: 0.0085\n",
            "Epoch 105/300\n",
            "23/23 [==============================] - ETA: 0s - loss: 8.6720e-04 - attention_mae: 0.0098\n",
            "Epoch 105: val_loss did not improve from 0.00088\n",
            "23/23 [==============================] - 18s 804ms/step - loss: 8.6720e-04 - attention_mae: 0.0098 - val_loss: 8.9438e-04 - val_attention_mae: 0.0087\n",
            "Epoch 106/300\n",
            "23/23 [==============================] - ETA: 0s - loss: 8.8907e-04 - attention_mae: 0.0102\n",
            "Epoch 106: val_loss did not improve from 0.00088\n",
            "23/23 [==============================] - 18s 805ms/step - loss: 8.8907e-04 - attention_mae: 0.0102 - val_loss: 0.0010 - val_attention_mae: 0.0110\n",
            "Epoch 107/300\n",
            "23/23 [==============================] - ETA: 0s - loss: 8.8492e-04 - attention_mae: 0.0103\n",
            "Epoch 107: val_loss did not improve from 0.00088\n",
            "23/23 [==============================] - 18s 805ms/step - loss: 8.8492e-04 - attention_mae: 0.0103 - val_loss: 9.8718e-04 - val_attention_mae: 0.0088\n",
            "Epoch 108/300\n",
            "23/23 [==============================] - ETA: 0s - loss: 8.6649e-04 - attention_mae: 0.0099\n",
            "Epoch 108: val_loss did not improve from 0.00088\n",
            "23/23 [==============================] - 18s 803ms/step - loss: 8.6649e-04 - attention_mae: 0.0099 - val_loss: 9.9168e-04 - val_attention_mae: 0.0085\n",
            "Epoch 109/300\n",
            "23/23 [==============================] - ETA: 0s - loss: 8.5828e-04 - attention_mae: 0.0097\n",
            "Epoch 109: val_loss did not improve from 0.00088\n",
            "23/23 [==============================] - 19s 819ms/step - loss: 8.5828e-04 - attention_mae: 0.0097 - val_loss: 9.0614e-04 - val_attention_mae: 0.0087\n",
            "Epoch 110/300\n",
            "23/23 [==============================] - ETA: 0s - loss: 8.5918e-04 - attention_mae: 0.0099\n",
            "Epoch 110: val_loss did not improve from 0.00088\n",
            "23/23 [==============================] - 19s 804ms/step - loss: 8.5918e-04 - attention_mae: 0.0099 - val_loss: 8.8647e-04 - val_attention_mae: 0.0085\n",
            "Epoch 111/300\n",
            "23/23 [==============================] - ETA: 0s - loss: 8.5080e-04 - attention_mae: 0.0097\n",
            "Epoch 111: val_loss improved from 0.00088 to 0.00087, saving model to /content/drive/MyDrive/Research/TAVI/Models/Curvature_2_Pressure_MultiViewUNet_I256_B16_LR0.001\n",
            "23/23 [==============================] - 19s 831ms/step - loss: 8.5080e-04 - attention_mae: 0.0097 - val_loss: 8.6682e-04 - val_attention_mae: 0.0088\n",
            "Epoch 112/300\n",
            "23/23 [==============================] - ETA: 0s - loss: 8.4706e-04 - attention_mae: 0.0097\n",
            "Epoch 112: val_loss did not improve from 0.00087\n",
            "23/23 [==============================] - 18s 804ms/step - loss: 8.4706e-04 - attention_mae: 0.0097 - val_loss: 8.7411e-04 - val_attention_mae: 0.0089\n",
            "Epoch 113/300\n",
            "23/23 [==============================] - ETA: 0s - loss: 8.4106e-04 - attention_mae: 0.0095\n",
            "Epoch 113: val_loss did not improve from 0.00087\n",
            "23/23 [==============================] - 19s 820ms/step - loss: 8.4106e-04 - attention_mae: 0.0095 - val_loss: 8.7376e-04 - val_attention_mae: 0.0085\n",
            "Epoch 114/300\n",
            "23/23 [==============================] - ETA: 0s - loss: 8.4215e-04 - attention_mae: 0.0096\n",
            "Epoch 114: val_loss did not improve from 0.00087\n",
            "23/23 [==============================] - 19s 822ms/step - loss: 8.4215e-04 - attention_mae: 0.0096 - val_loss: 8.8730e-04 - val_attention_mae: 0.0091\n",
            "Epoch 115/300\n",
            "23/23 [==============================] - ETA: 0s - loss: 8.4839e-04 - attention_mae: 0.0097\n",
            "Epoch 115: val_loss did not improve from 0.00087\n",
            "23/23 [==============================] - 19s 823ms/step - loss: 8.4839e-04 - attention_mae: 0.0097 - val_loss: 8.6718e-04 - val_attention_mae: 0.0087\n",
            "Epoch 116/300\n",
            "23/23 [==============================] - ETA: 0s - loss: 8.4079e-04 - attention_mae: 0.0095\n",
            "Epoch 116: val_loss did not improve from 0.00087\n",
            "23/23 [==============================] - 18s 805ms/step - loss: 8.4079e-04 - attention_mae: 0.0095 - val_loss: 8.9228e-04 - val_attention_mae: 0.0091\n",
            "Epoch 117/300\n",
            "23/23 [==============================] - ETA: 0s - loss: 8.3886e-04 - attention_mae: 0.0095\n",
            "Epoch 117: val_loss did not improve from 0.00087\n",
            "23/23 [==============================] - 18s 804ms/step - loss: 8.3886e-04 - attention_mae: 0.0095 - val_loss: 8.8408e-04 - val_attention_mae: 0.0083\n",
            "Epoch 118/300\n",
            "23/23 [==============================] - ETA: 0s - loss: 8.4279e-04 - attention_mae: 0.0097\n",
            "Epoch 118: val_loss did not improve from 0.00087\n",
            "23/23 [==============================] - 19s 804ms/step - loss: 8.4279e-04 - attention_mae: 0.0097 - val_loss: 0.0010 - val_attention_mae: 0.0084\n",
            "Epoch 119/300\n",
            "23/23 [==============================] - ETA: 0s - loss: 8.3302e-04 - attention_mae: 0.0095\n",
            "Epoch 119: val_loss did not improve from 0.00087\n",
            "23/23 [==============================] - 19s 822ms/step - loss: 8.3302e-04 - attention_mae: 0.0095 - val_loss: 8.7075e-04 - val_attention_mae: 0.0093\n",
            "Epoch 120/300\n",
            "23/23 [==============================] - ETA: 0s - loss: 8.3357e-04 - attention_mae: 0.0095\n",
            "Epoch 120: val_loss improved from 0.00087 to 0.00084, saving model to /content/drive/MyDrive/Research/TAVI/Models/Curvature_2_Pressure_MultiViewUNet_I256_B16_LR0.001\n",
            "23/23 [==============================] - 20s 864ms/step - loss: 8.3357e-04 - attention_mae: 0.0095 - val_loss: 8.4400e-04 - val_attention_mae: 0.0084\n",
            "Epoch 121/300\n",
            "23/23 [==============================] - ETA: 0s - loss: 8.2731e-04 - attention_mae: 0.0094\n",
            "Epoch 121: val_loss did not improve from 0.00084\n",
            "23/23 [==============================] - 18s 805ms/step - loss: 8.2731e-04 - attention_mae: 0.0094 - val_loss: 8.7180e-04 - val_attention_mae: 0.0083\n",
            "Epoch 122/300\n",
            "23/23 [==============================] - ETA: 0s - loss: 8.3323e-04 - attention_mae: 0.0095\n",
            "Epoch 122: val_loss did not improve from 0.00084\n",
            "23/23 [==============================] - 18s 804ms/step - loss: 8.3323e-04 - attention_mae: 0.0095 - val_loss: 8.6246e-04 - val_attention_mae: 0.0090\n",
            "Epoch 123/300\n",
            "23/23 [==============================] - ETA: 0s - loss: 8.2282e-04 - attention_mae: 0.0096\n",
            "Epoch 123: val_loss improved from 0.00084 to 0.00084, saving model to /content/drive/MyDrive/Research/TAVI/Models/Curvature_2_Pressure_MultiViewUNet_I256_B16_LR0.001\n",
            "23/23 [==============================] - 19s 833ms/step - loss: 8.2282e-04 - attention_mae: 0.0096 - val_loss: 8.3941e-04 - val_attention_mae: 0.0089\n",
            "Epoch 124/300\n",
            "23/23 [==============================] - ETA: 0s - loss: 8.2028e-04 - attention_mae: 0.0095\n",
            "Epoch 124: val_loss improved from 0.00084 to 0.00084, saving model to /content/drive/MyDrive/Research/TAVI/Models/Curvature_2_Pressure_MultiViewUNet_I256_B16_LR0.001\n",
            "23/23 [==============================] - 19s 840ms/step - loss: 8.2028e-04 - attention_mae: 0.0095 - val_loss: 8.3887e-04 - val_attention_mae: 0.0086\n",
            "Epoch 125/300\n",
            "23/23 [==============================] - ETA: 0s - loss: 8.1400e-04 - attention_mae: 0.0094\n",
            "Epoch 125: val_loss improved from 0.00084 to 0.00083, saving model to /content/drive/MyDrive/Research/TAVI/Models/Curvature_2_Pressure_MultiViewUNet_I256_B16_LR0.001\n",
            "23/23 [==============================] - 20s 863ms/step - loss: 8.1400e-04 - attention_mae: 0.0094 - val_loss: 8.2988e-04 - val_attention_mae: 0.0084\n",
            "Epoch 126/300\n",
            "23/23 [==============================] - ETA: 0s - loss: 8.1727e-04 - attention_mae: 0.0094\n",
            "Epoch 126: val_loss did not improve from 0.00083\n",
            "23/23 [==============================] - 19s 806ms/step - loss: 8.1727e-04 - attention_mae: 0.0094 - val_loss: 8.3083e-04 - val_attention_mae: 0.0083\n",
            "Epoch 127/300\n",
            "23/23 [==============================] - ETA: 0s - loss: 8.0996e-04 - attention_mae: 0.0092\n",
            "Epoch 127: val_loss improved from 0.00083 to 0.00082, saving model to /content/drive/MyDrive/Research/TAVI/Models/Curvature_2_Pressure_MultiViewUNet_I256_B16_LR0.001\n",
            "23/23 [==============================] - 19s 841ms/step - loss: 8.0996e-04 - attention_mae: 0.0092 - val_loss: 8.2430e-04 - val_attention_mae: 0.0084\n",
            "Epoch 128/300\n",
            "23/23 [==============================] - ETA: 0s - loss: 8.1172e-04 - attention_mae: 0.0095\n",
            "Epoch 128: val_loss did not improve from 0.00082\n",
            "23/23 [==============================] - 19s 806ms/step - loss: 8.1172e-04 - attention_mae: 0.0095 - val_loss: 9.5094e-04 - val_attention_mae: 0.0087\n",
            "Epoch 129/300\n",
            "23/23 [==============================] - ETA: 0s - loss: 8.0860e-04 - attention_mae: 0.0093\n",
            "Epoch 129: val_loss did not improve from 0.00082\n",
            "23/23 [==============================] - 18s 804ms/step - loss: 8.0860e-04 - attention_mae: 0.0093 - val_loss: 8.6658e-04 - val_attention_mae: 0.0085\n",
            "Epoch 130/300\n",
            "23/23 [==============================] - ETA: 0s - loss: 8.0489e-04 - attention_mae: 0.0093\n",
            "Epoch 130: val_loss did not improve from 0.00082\n",
            "23/23 [==============================] - 19s 821ms/step - loss: 8.0489e-04 - attention_mae: 0.0093 - val_loss: 9.0468e-04 - val_attention_mae: 0.0095\n",
            "Epoch 131/300\n",
            "23/23 [==============================] - ETA: 0s - loss: 8.0132e-04 - attention_mae: 0.0092\n",
            "Epoch 131: val_loss improved from 0.00082 to 0.00082, saving model to /content/drive/MyDrive/Research/TAVI/Models/Curvature_2_Pressure_MultiViewUNet_I256_B16_LR0.001\n",
            "23/23 [==============================] - 19s 846ms/step - loss: 8.0132e-04 - attention_mae: 0.0092 - val_loss: 8.2009e-04 - val_attention_mae: 0.0081\n",
            "Epoch 132/300\n",
            "23/23 [==============================] - ETA: 0s - loss: 7.9724e-04 - attention_mae: 0.0092\n",
            "Epoch 132: val_loss did not improve from 0.00082\n",
            "23/23 [==============================] - 18s 805ms/step - loss: 7.9724e-04 - attention_mae: 0.0092 - val_loss: 8.2761e-04 - val_attention_mae: 0.0086\n",
            "Epoch 133/300\n",
            "23/23 [==============================] - ETA: 0s - loss: 7.9833e-04 - attention_mae: 0.0092\n",
            "Epoch 133: val_loss did not improve from 0.00082\n",
            "23/23 [==============================] - 18s 805ms/step - loss: 7.9833e-04 - attention_mae: 0.0092 - val_loss: 8.5726e-04 - val_attention_mae: 0.0090\n",
            "Epoch 134/300\n",
            "23/23 [==============================] - ETA: 0s - loss: 8.0253e-04 - attention_mae: 0.0095\n",
            "Epoch 134: val_loss did not improve from 0.00082\n",
            "23/23 [==============================] - 18s 804ms/step - loss: 8.0253e-04 - attention_mae: 0.0095 - val_loss: 0.0010 - val_attention_mae: 0.0111\n",
            "Epoch 135/300\n",
            "23/23 [==============================] - ETA: 0s - loss: 7.9577e-04 - attention_mae: 0.0092\n",
            "Epoch 135: val_loss improved from 0.00082 to 0.00081, saving model to /content/drive/MyDrive/Research/TAVI/Models/Curvature_2_Pressure_MultiViewUNet_I256_B16_LR0.001\n",
            "23/23 [==============================] - 19s 841ms/step - loss: 7.9577e-04 - attention_mae: 0.0092 - val_loss: 8.0874e-04 - val_attention_mae: 0.0082\n",
            "Epoch 136/300\n",
            "23/23 [==============================] - ETA: 0s - loss: 7.9055e-04 - attention_mae: 0.0092\n",
            "Epoch 136: val_loss did not improve from 0.00081\n",
            "23/23 [==============================] - 18s 804ms/step - loss: 7.9055e-04 - attention_mae: 0.0092 - val_loss: 8.7090e-04 - val_attention_mae: 0.0082\n",
            "Epoch 137/300\n",
            "23/23 [==============================] - ETA: 0s - loss: 7.8431e-04 - attention_mae: 0.0089\n",
            "Epoch 137: val_loss did not improve from 0.00081\n",
            "23/23 [==============================] - 18s 803ms/step - loss: 7.8431e-04 - attention_mae: 0.0089 - val_loss: 8.1348e-04 - val_attention_mae: 0.0081\n",
            "Epoch 138/300\n",
            "23/23 [==============================] - ETA: 0s - loss: 7.8515e-04 - attention_mae: 0.0090\n",
            "Epoch 138: val_loss improved from 0.00081 to 0.00080, saving model to /content/drive/MyDrive/Research/TAVI/Models/Curvature_2_Pressure_MultiViewUNet_I256_B16_LR0.001\n",
            "23/23 [==============================] - 19s 846ms/step - loss: 7.8515e-04 - attention_mae: 0.0090 - val_loss: 7.9686e-04 - val_attention_mae: 0.0083\n",
            "Epoch 139/300\n",
            "23/23 [==============================] - ETA: 0s - loss: 7.8508e-04 - attention_mae: 0.0090\n",
            "Epoch 139: val_loss did not improve from 0.00080\n",
            "23/23 [==============================] - 19s 805ms/step - loss: 7.8508e-04 - attention_mae: 0.0090 - val_loss: 8.3679e-04 - val_attention_mae: 0.0082\n",
            "Epoch 140/300\n",
            "23/23 [==============================] - ETA: 0s - loss: 7.9260e-04 - attention_mae: 0.0092\n",
            "Epoch 140: val_loss did not improve from 0.00080\n",
            "23/23 [==============================] - 19s 824ms/step - loss: 7.9260e-04 - attention_mae: 0.0092 - val_loss: 8.6250e-04 - val_attention_mae: 0.0089\n",
            "Epoch 141/300\n",
            "23/23 [==============================] - ETA: 0s - loss: 7.8809e-04 - attention_mae: 0.0091\n",
            "Epoch 141: val_loss did not improve from 0.00080\n",
            "23/23 [==============================] - 19s 805ms/step - loss: 7.8809e-04 - attention_mae: 0.0091 - val_loss: 8.3218e-04 - val_attention_mae: 0.0087\n",
            "Epoch 142/300\n",
            "23/23 [==============================] - ETA: 0s - loss: 7.8220e-04 - attention_mae: 0.0091\n",
            "Epoch 142: val_loss did not improve from 0.00080\n",
            "23/23 [==============================] - 18s 804ms/step - loss: 7.8220e-04 - attention_mae: 0.0091 - val_loss: 8.1363e-04 - val_attention_mae: 0.0082\n",
            "Epoch 143/300\n",
            "23/23 [==============================] - ETA: 0s - loss: 7.8421e-04 - attention_mae: 0.0093\n",
            "Epoch 143: val_loss did not improve from 0.00080\n",
            "23/23 [==============================] - 18s 805ms/step - loss: 7.8421e-04 - attention_mae: 0.0093 - val_loss: 8.1572e-04 - val_attention_mae: 0.0084\n",
            "Epoch 144/300\n",
            "23/23 [==============================] - ETA: 0s - loss: 7.8866e-04 - attention_mae: 0.0092\n",
            "Epoch 144: val_loss did not improve from 0.00080\n",
            "23/23 [==============================] - 19s 820ms/step - loss: 7.8866e-04 - attention_mae: 0.0092 - val_loss: 8.5302e-04 - val_attention_mae: 0.0091\n",
            "Epoch 145/300\n",
            "23/23 [==============================] - ETA: 0s - loss: 7.7823e-04 - attention_mae: 0.0091\n",
            "Epoch 145: val_loss did not improve from 0.00080\n",
            "23/23 [==============================] - 18s 804ms/step - loss: 7.7823e-04 - attention_mae: 0.0091 - val_loss: 8.4579e-04 - val_attention_mae: 0.0085\n",
            "Epoch 146/300\n",
            "23/23 [==============================] - ETA: 0s - loss: 7.8016e-04 - attention_mae: 0.0092\n",
            "Epoch 146: val_loss did not improve from 0.00080\n",
            "23/23 [==============================] - 18s 804ms/step - loss: 7.8016e-04 - attention_mae: 0.0092 - val_loss: 8.0723e-04 - val_attention_mae: 0.0086\n",
            "Epoch 147/300\n",
            "23/23 [==============================] - ETA: 0s - loss: 7.7314e-04 - attention_mae: 0.0090\n",
            "Epoch 147: val_loss did not improve from 0.00080\n",
            "23/23 [==============================] - 18s 804ms/step - loss: 7.7314e-04 - attention_mae: 0.0090 - val_loss: 8.5638e-04 - val_attention_mae: 0.0081\n",
            "Epoch 148/300\n",
            "23/23 [==============================] - ETA: 0s - loss: 7.6920e-04 - attention_mae: 0.0091\n",
            "Epoch 148: val_loss did not improve from 0.00080\n",
            "23/23 [==============================] - 18s 804ms/step - loss: 7.6920e-04 - attention_mae: 0.0091 - val_loss: 8.3652e-04 - val_attention_mae: 0.0080\n",
            "Epoch 149/300\n",
            "23/23 [==============================] - ETA: 0s - loss: 7.6455e-04 - attention_mae: 0.0088\n",
            "Epoch 149: val_loss did not improve from 0.00080\n",
            "23/23 [==============================] - 19s 821ms/step - loss: 7.6455e-04 - attention_mae: 0.0088 - val_loss: 8.3370e-04 - val_attention_mae: 0.0088\n",
            "Epoch 150/300\n",
            "23/23 [==============================] - ETA: 0s - loss: 7.6228e-04 - attention_mae: 0.0088\n",
            "Epoch 150: val_loss did not improve from 0.00080\n",
            "23/23 [==============================] - 18s 805ms/step - loss: 7.6228e-04 - attention_mae: 0.0088 - val_loss: 8.8279e-04 - val_attention_mae: 0.0081\n",
            "Epoch 151/300\n",
            "23/23 [==============================] - ETA: 0s - loss: 7.5898e-04 - attention_mae: 0.0088\n",
            "Epoch 151: val_loss did not improve from 0.00080\n",
            "23/23 [==============================] - 19s 820ms/step - loss: 7.5898e-04 - attention_mae: 0.0088 - val_loss: 8.2422e-04 - val_attention_mae: 0.0087\n",
            "Epoch 152/300\n",
            "23/23 [==============================] - ETA: 0s - loss: 7.5778e-04 - attention_mae: 0.0088\n",
            "Epoch 152: val_loss did not improve from 0.00080\n",
            "23/23 [==============================] - 18s 805ms/step - loss: 7.5778e-04 - attention_mae: 0.0088 - val_loss: 8.1454e-04 - val_attention_mae: 0.0086\n",
            "Epoch 153/300\n",
            "23/23 [==============================] - ETA: 0s - loss: 7.5823e-04 - attention_mae: 0.0088\n",
            "Epoch 153: val_loss did not improve from 0.00080\n",
            "23/23 [==============================] - 19s 823ms/step - loss: 7.5823e-04 - attention_mae: 0.0088 - val_loss: 8.3617e-04 - val_attention_mae: 0.0089\n",
            "Epoch 154/300\n",
            "23/23 [==============================] - ETA: 0s - loss: 7.5850e-04 - attention_mae: 0.0090\n",
            "Epoch 154: val_loss improved from 0.00080 to 0.00077, saving model to /content/drive/MyDrive/Research/TAVI/Models/Curvature_2_Pressure_MultiViewUNet_I256_B16_LR0.001\n",
            "23/23 [==============================] - 19s 837ms/step - loss: 7.5850e-04 - attention_mae: 0.0090 - val_loss: 7.6631e-04 - val_attention_mae: 0.0079\n",
            "Epoch 155/300\n",
            "23/23 [==============================] - ETA: 0s - loss: 7.5394e-04 - attention_mae: 0.0087\n",
            "Epoch 155: val_loss did not improve from 0.00077\n",
            "23/23 [==============================] - 19s 821ms/step - loss: 7.5394e-04 - attention_mae: 0.0087 - val_loss: 8.4230e-04 - val_attention_mae: 0.0087\n",
            "Epoch 156/300\n",
            "23/23 [==============================] - ETA: 0s - loss: 7.5445e-04 - attention_mae: 0.0088\n",
            "Epoch 156: val_loss did not improve from 0.00077\n",
            "23/23 [==============================] - 19s 805ms/step - loss: 7.5445e-04 - attention_mae: 0.0088 - val_loss: 7.8179e-04 - val_attention_mae: 0.0077\n",
            "Epoch 157/300\n",
            "23/23 [==============================] - ETA: 0s - loss: 7.5241e-04 - attention_mae: 0.0087\n",
            "Epoch 157: val_loss did not improve from 0.00077\n",
            "23/23 [==============================] - 18s 805ms/step - loss: 7.5241e-04 - attention_mae: 0.0087 - val_loss: 8.5837e-04 - val_attention_mae: 0.0086\n",
            "Epoch 158/300\n",
            "23/23 [==============================] - ETA: 0s - loss: 7.5157e-04 - attention_mae: 0.0087\n",
            "Epoch 158: val_loss did not improve from 0.00077\n",
            "23/23 [==============================] - 18s 804ms/step - loss: 7.5157e-04 - attention_mae: 0.0087 - val_loss: 7.9942e-04 - val_attention_mae: 0.0079\n",
            "Epoch 159/300\n",
            "23/23 [==============================] - ETA: 0s - loss: 7.4509e-04 - attention_mae: 0.0087\n",
            "Epoch 159: val_loss improved from 0.00077 to 0.00077, saving model to /content/drive/MyDrive/Research/TAVI/Models/Curvature_2_Pressure_MultiViewUNet_I256_B16_LR0.001\n",
            "23/23 [==============================] - 20s 855ms/step - loss: 7.4509e-04 - attention_mae: 0.0087 - val_loss: 7.6575e-04 - val_attention_mae: 0.0079\n",
            "Epoch 160/300\n",
            "23/23 [==============================] - ETA: 0s - loss: 7.4329e-04 - attention_mae: 0.0086\n",
            "Epoch 160: val_loss did not improve from 0.00077\n",
            "23/23 [==============================] - 19s 804ms/step - loss: 7.4329e-04 - attention_mae: 0.0086 - val_loss: 8.1775e-04 - val_attention_mae: 0.0078\n",
            "Epoch 161/300\n",
            "23/23 [==============================] - ETA: 0s - loss: 7.4199e-04 - attention_mae: 0.0087\n",
            "Epoch 161: val_loss improved from 0.00077 to 0.00075, saving model to /content/drive/MyDrive/Research/TAVI/Models/Curvature_2_Pressure_MultiViewUNet_I256_B16_LR0.001\n",
            "23/23 [==============================] - 19s 836ms/step - loss: 7.4199e-04 - attention_mae: 0.0087 - val_loss: 7.5281e-04 - val_attention_mae: 0.0079\n",
            "Epoch 162/300\n",
            "23/23 [==============================] - ETA: 0s - loss: 7.5134e-04 - attention_mae: 0.0090\n",
            "Epoch 162: val_loss did not improve from 0.00075\n",
            "23/23 [==============================] - 19s 806ms/step - loss: 7.5134e-04 - attention_mae: 0.0090 - val_loss: 8.0415e-04 - val_attention_mae: 0.0080\n",
            "Epoch 163/300\n",
            "23/23 [==============================] - ETA: 0s - loss: 7.4502e-04 - attention_mae: 0.0088\n",
            "Epoch 163: val_loss did not improve from 0.00075\n",
            "23/23 [==============================] - 18s 805ms/step - loss: 7.4502e-04 - attention_mae: 0.0088 - val_loss: 7.7950e-04 - val_attention_mae: 0.0084\n",
            "Epoch 164/300\n",
            "23/23 [==============================] - ETA: 0s - loss: 7.3898e-04 - attention_mae: 0.0087\n",
            "Epoch 164: val_loss did not improve from 0.00075\n",
            "23/23 [==============================] - 19s 820ms/step - loss: 7.3898e-04 - attention_mae: 0.0087 - val_loss: 7.6246e-04 - val_attention_mae: 0.0077\n",
            "Epoch 165/300\n",
            "23/23 [==============================] - ETA: 0s - loss: 7.3408e-04 - attention_mae: 0.0086\n",
            "Epoch 165: val_loss improved from 0.00075 to 0.00075, saving model to /content/drive/MyDrive/Research/TAVI/Models/Curvature_2_Pressure_MultiViewUNet_I256_B16_LR0.001\n",
            "23/23 [==============================] - 20s 854ms/step - loss: 7.3408e-04 - attention_mae: 0.0086 - val_loss: 7.4887e-04 - val_attention_mae: 0.0079\n",
            "Epoch 166/300\n",
            "23/23 [==============================] - ETA: 0s - loss: 7.3462e-04 - attention_mae: 0.0086\n",
            "Epoch 166: val_loss did not improve from 0.00075\n",
            "23/23 [==============================] - 19s 822ms/step - loss: 7.3462e-04 - attention_mae: 0.0086 - val_loss: 7.7062e-04 - val_attention_mae: 0.0082\n",
            "Epoch 167/300\n",
            "23/23 [==============================] - ETA: 0s - loss: 7.3655e-04 - attention_mae: 0.0088\n",
            "Epoch 167: val_loss did not improve from 0.00075\n",
            "23/23 [==============================] - 18s 805ms/step - loss: 7.3655e-04 - attention_mae: 0.0088 - val_loss: 7.9012e-04 - val_attention_mae: 0.0078\n",
            "Epoch 168/300\n",
            "23/23 [==============================] - ETA: 0s - loss: 7.2670e-04 - attention_mae: 0.0084\n",
            "Epoch 168: val_loss improved from 0.00075 to 0.00074, saving model to /content/drive/MyDrive/Research/TAVI/Models/Curvature_2_Pressure_MultiViewUNet_I256_B16_LR0.001\n",
            "23/23 [==============================] - 19s 861ms/step - loss: 7.2670e-04 - attention_mae: 0.0084 - val_loss: 7.4210e-04 - val_attention_mae: 0.0076\n",
            "Epoch 169/300\n",
            "23/23 [==============================] - ETA: 0s - loss: 7.2626e-04 - attention_mae: 0.0085\n",
            "Epoch 169: val_loss did not improve from 0.00074\n",
            "23/23 [==============================] - 18s 805ms/step - loss: 7.2626e-04 - attention_mae: 0.0085 - val_loss: 7.5248e-04 - val_attention_mae: 0.0080\n",
            "Epoch 170/300\n",
            "23/23 [==============================] - ETA: 0s - loss: 7.2383e-04 - attention_mae: 0.0085\n",
            "Epoch 170: val_loss did not improve from 0.00074\n",
            "23/23 [==============================] - 19s 821ms/step - loss: 7.2383e-04 - attention_mae: 0.0085 - val_loss: 7.6437e-04 - val_attention_mae: 0.0080\n",
            "Epoch 171/300\n",
            "23/23 [==============================] - ETA: 0s - loss: 7.2731e-04 - attention_mae: 0.0085\n",
            "Epoch 171: val_loss did not improve from 0.00074\n",
            "23/23 [==============================] - 19s 806ms/step - loss: 7.2731e-04 - attention_mae: 0.0085 - val_loss: 7.8305e-04 - val_attention_mae: 0.0084\n",
            "Epoch 172/300\n",
            "23/23 [==============================] - ETA: 0s - loss: 7.2170e-04 - attention_mae: 0.0084\n",
            "Epoch 172: val_loss did not improve from 0.00074\n",
            "23/23 [==============================] - 18s 804ms/step - loss: 7.2170e-04 - attention_mae: 0.0084 - val_loss: 7.6141e-04 - val_attention_mae: 0.0078\n",
            "Epoch 173/300\n",
            "23/23 [==============================] - ETA: 0s - loss: 7.2099e-04 - attention_mae: 0.0084\n",
            "Epoch 173: val_loss did not improve from 0.00074\n",
            "23/23 [==============================] - 19s 806ms/step - loss: 7.2099e-04 - attention_mae: 0.0084 - val_loss: 7.7460e-04 - val_attention_mae: 0.0083\n",
            "Epoch 174/300\n",
            "23/23 [==============================] - ETA: 0s - loss: 7.1677e-04 - attention_mae: 0.0085\n",
            "Epoch 174: val_loss did not improve from 0.00074\n",
            "23/23 [==============================] - 18s 804ms/step - loss: 7.1677e-04 - attention_mae: 0.0085 - val_loss: 7.9134e-04 - val_attention_mae: 0.0079\n",
            "Epoch 175/300\n",
            "23/23 [==============================] - ETA: 0s - loss: 7.1596e-04 - attention_mae: 0.0085\n",
            "Epoch 175: val_loss did not improve from 0.00074\n",
            "23/23 [==============================] - 19s 820ms/step - loss: 7.1596e-04 - attention_mae: 0.0085 - val_loss: 7.4624e-04 - val_attention_mae: 0.0077\n",
            "Epoch 176/300\n",
            "23/23 [==============================] - ETA: 0s - loss: 7.1604e-04 - attention_mae: 0.0084\n",
            "Epoch 176: val_loss did not improve from 0.00074\n",
            "23/23 [==============================] - 19s 806ms/step - loss: 7.1604e-04 - attention_mae: 0.0084 - val_loss: 7.5683e-04 - val_attention_mae: 0.0080\n",
            "Epoch 177/300\n",
            "23/23 [==============================] - ETA: 0s - loss: 7.1198e-04 - attention_mae: 0.0083\n",
            "Epoch 177: val_loss did not improve from 0.00074\n",
            "23/23 [==============================] - 19s 823ms/step - loss: 7.1198e-04 - attention_mae: 0.0083 - val_loss: 7.7075e-04 - val_attention_mae: 0.0075\n",
            "Epoch 178/300\n",
            "23/23 [==============================] - ETA: 0s - loss: 7.1381e-04 - attention_mae: 0.0083\n",
            "Epoch 178: val_loss improved from 0.00074 to 0.00072, saving model to /content/drive/MyDrive/Research/TAVI/Models/Curvature_2_Pressure_MultiViewUNet_I256_B16_LR0.001\n",
            "23/23 [==============================] - 19s 831ms/step - loss: 7.1381e-04 - attention_mae: 0.0083 - val_loss: 7.1888e-04 - val_attention_mae: 0.0074\n",
            "Epoch 179/300\n",
            "23/23 [==============================] - ETA: 0s - loss: 7.1264e-04 - attention_mae: 0.0083\n",
            "Epoch 179: val_loss did not improve from 0.00072\n",
            "23/23 [==============================] - 19s 806ms/step - loss: 7.1264e-04 - attention_mae: 0.0083 - val_loss: 7.4091e-04 - val_attention_mae: 0.0077\n",
            "Epoch 180/300\n",
            "23/23 [==============================] - ETA: 0s - loss: 7.1088e-04 - attention_mae: 0.0083\n",
            "Epoch 180: val_loss did not improve from 0.00072\n",
            "23/23 [==============================] - 18s 805ms/step - loss: 7.1088e-04 - attention_mae: 0.0083 - val_loss: 7.3501e-04 - val_attention_mae: 0.0077\n",
            "Epoch 181/300\n",
            "23/23 [==============================] - ETA: 0s - loss: 7.0630e-04 - attention_mae: 0.0082\n",
            "Epoch 181: val_loss improved from 0.00072 to 0.00072, saving model to /content/drive/MyDrive/Research/TAVI/Models/Curvature_2_Pressure_MultiViewUNet_I256_B16_LR0.001\n",
            "23/23 [==============================] - 20s 856ms/step - loss: 7.0630e-04 - attention_mae: 0.0082 - val_loss: 7.1773e-04 - val_attention_mae: 0.0074\n",
            "Epoch 182/300\n",
            "23/23 [==============================] - ETA: 0s - loss: 7.0021e-04 - attention_mae: 0.0082\n",
            "Epoch 182: val_loss did not improve from 0.00072\n",
            "23/23 [==============================] - 19s 806ms/step - loss: 7.0021e-04 - attention_mae: 0.0082 - val_loss: 7.6153e-04 - val_attention_mae: 0.0081\n",
            "Epoch 183/300\n",
            "23/23 [==============================] - ETA: 0s - loss: 7.0412e-04 - attention_mae: 0.0083\n",
            "Epoch 183: val_loss did not improve from 0.00072\n",
            "23/23 [==============================] - 19s 806ms/step - loss: 7.0412e-04 - attention_mae: 0.0083 - val_loss: 7.6328e-04 - val_attention_mae: 0.0074\n",
            "Epoch 184/300\n",
            "23/23 [==============================] - ETA: 0s - loss: 6.9953e-04 - attention_mae: 0.0083\n",
            "Epoch 184: val_loss did not improve from 0.00072\n",
            "23/23 [==============================] - 18s 805ms/step - loss: 6.9953e-04 - attention_mae: 0.0083 - val_loss: 7.6630e-04 - val_attention_mae: 0.0083\n",
            "Epoch 185/300\n",
            "23/23 [==============================] - ETA: 0s - loss: 6.9642e-04 - attention_mae: 0.0081\n",
            "Epoch 185: val_loss did not improve from 0.00072\n",
            "23/23 [==============================] - 18s 805ms/step - loss: 6.9642e-04 - attention_mae: 0.0081 - val_loss: 7.2023e-04 - val_attention_mae: 0.0075\n",
            "Epoch 186/300\n",
            "23/23 [==============================] - ETA: 0s - loss: 6.9187e-04 - attention_mae: 0.0081\n",
            "Epoch 186: val_loss did not improve from 0.00072\n",
            "23/23 [==============================] - 19s 820ms/step - loss: 6.9187e-04 - attention_mae: 0.0081 - val_loss: 7.3782e-04 - val_attention_mae: 0.0076\n",
            "Epoch 187/300\n",
            "23/23 [==============================] - ETA: 0s - loss: 6.9228e-04 - attention_mae: 0.0080\n",
            "Epoch 187: val_loss improved from 0.00072 to 0.00072, saving model to /content/drive/MyDrive/Research/TAVI/Models/Curvature_2_Pressure_MultiViewUNet_I256_B16_LR0.001\n",
            "23/23 [==============================] - 19s 831ms/step - loss: 6.9228e-04 - attention_mae: 0.0080 - val_loss: 7.1735e-04 - val_attention_mae: 0.0075\n",
            "Epoch 188/300\n",
            "23/23 [==============================] - ETA: 0s - loss: 6.9800e-04 - attention_mae: 0.0082\n",
            "Epoch 188: val_loss did not improve from 0.00072\n",
            "23/23 [==============================] - 19s 824ms/step - loss: 6.9800e-04 - attention_mae: 0.0082 - val_loss: 9.4674e-04 - val_attention_mae: 0.0095\n",
            "Epoch 189/300\n",
            "23/23 [==============================] - ETA: 0s - loss: 7.0717e-04 - attention_mae: 0.0086\n",
            "Epoch 189: val_loss did not improve from 0.00072\n",
            "23/23 [==============================] - 19s 806ms/step - loss: 7.0717e-04 - attention_mae: 0.0086 - val_loss: 0.0013 - val_attention_mae: 0.0128\n",
            "Epoch 190/300\n",
            "23/23 [==============================] - ETA: 0s - loss: 6.9222e-04 - attention_mae: 0.0082\n",
            "Epoch 190: val_loss improved from 0.00072 to 0.00070, saving model to /content/drive/MyDrive/Research/TAVI/Models/Curvature_2_Pressure_MultiViewUNet_I256_B16_LR0.001\n",
            "23/23 [==============================] - 20s 867ms/step - loss: 6.9222e-04 - attention_mae: 0.0082 - val_loss: 7.0472e-04 - val_attention_mae: 0.0076\n",
            "Epoch 191/300\n",
            "23/23 [==============================] - ETA: 0s - loss: 6.9148e-04 - attention_mae: 0.0082\n",
            "Epoch 191: val_loss did not improve from 0.00070\n",
            "23/23 [==============================] - 19s 821ms/step - loss: 6.9148e-04 - attention_mae: 0.0082 - val_loss: 9.4719e-04 - val_attention_mae: 0.0097\n",
            "Epoch 192/300\n",
            "23/23 [==============================] - ETA: 0s - loss: 6.8321e-04 - attention_mae: 0.0080\n",
            "Epoch 192: val_loss improved from 0.00070 to 0.00070, saving model to /content/drive/MyDrive/Research/TAVI/Models/Curvature_2_Pressure_MultiViewUNet_I256_B16_LR0.001\n",
            "23/23 [==============================] - 19s 847ms/step - loss: 6.8321e-04 - attention_mae: 0.0080 - val_loss: 7.0269e-04 - val_attention_mae: 0.0074\n",
            "Epoch 193/300\n",
            "23/23 [==============================] - ETA: 0s - loss: 6.8065e-04 - attention_mae: 0.0079\n",
            "Epoch 193: val_loss did not improve from 0.00070\n",
            "23/23 [==============================] - 18s 805ms/step - loss: 6.8065e-04 - attention_mae: 0.0079 - val_loss: 8.3326e-04 - val_attention_mae: 0.0088\n",
            "Epoch 194/300\n",
            "23/23 [==============================] - ETA: 0s - loss: 6.8208e-04 - attention_mae: 0.0081\n",
            "Epoch 194: val_loss did not improve from 0.00070\n",
            "23/23 [==============================] - 19s 805ms/step - loss: 6.8208e-04 - attention_mae: 0.0081 - val_loss: 7.2662e-04 - val_attention_mae: 0.0073\n",
            "Epoch 195/300\n",
            "23/23 [==============================] - ETA: 0s - loss: 6.8276e-04 - attention_mae: 0.0081\n",
            "Epoch 195: val_loss did not improve from 0.00070\n",
            "23/23 [==============================] - 19s 822ms/step - loss: 6.8276e-04 - attention_mae: 0.0081 - val_loss: 7.1026e-04 - val_attention_mae: 0.0077\n",
            "Epoch 196/300\n",
            "23/23 [==============================] - ETA: 0s - loss: 6.8107e-04 - attention_mae: 0.0081\n",
            "Epoch 196: val_loss did not improve from 0.00070\n",
            "23/23 [==============================] - 18s 804ms/step - loss: 6.8107e-04 - attention_mae: 0.0081 - val_loss: 7.2123e-04 - val_attention_mae: 0.0078\n",
            "Epoch 197/300\n",
            "23/23 [==============================] - ETA: 0s - loss: 6.8344e-04 - attention_mae: 0.0082\n",
            "Epoch 197: val_loss improved from 0.00070 to 0.00070, saving model to /content/drive/MyDrive/Research/TAVI/Models/Curvature_2_Pressure_MultiViewUNet_I256_B16_LR0.001\n",
            "23/23 [==============================] - 19s 830ms/step - loss: 6.8344e-04 - attention_mae: 0.0082 - val_loss: 7.0175e-04 - val_attention_mae: 0.0072\n",
            "Epoch 198/300\n",
            "23/23 [==============================] - ETA: 0s - loss: 6.8133e-04 - attention_mae: 0.0081\n",
            "Epoch 198: val_loss did not improve from 0.00070\n",
            "23/23 [==============================] - 19s 805ms/step - loss: 6.8133e-04 - attention_mae: 0.0081 - val_loss: 7.3352e-04 - val_attention_mae: 0.0078\n",
            "Epoch 199/300\n",
            "23/23 [==============================] - ETA: 0s - loss: 6.7652e-04 - attention_mae: 0.0082\n",
            "Epoch 199: val_loss improved from 0.00070 to 0.00070, saving model to /content/drive/MyDrive/Research/TAVI/Models/Curvature_2_Pressure_MultiViewUNet_I256_B16_LR0.001\n",
            "23/23 [==============================] - 20s 868ms/step - loss: 6.7652e-04 - attention_mae: 0.0082 - val_loss: 7.0128e-04 - val_attention_mae: 0.0075\n",
            "Epoch 200/300\n",
            "23/23 [==============================] - ETA: 0s - loss: 6.7097e-04 - attention_mae: 0.0081\n",
            "Epoch 200: val_loss did not improve from 0.00070\n",
            "23/23 [==============================] - 19s 807ms/step - loss: 6.7097e-04 - attention_mae: 0.0081 - val_loss: 7.3250e-04 - val_attention_mae: 0.0078\n",
            "Epoch 201/300\n",
            "23/23 [==============================] - ETA: 0s - loss: 6.7870e-04 - attention_mae: 0.0082\n",
            "Epoch 201: val_loss did not improve from 0.00070\n",
            "23/23 [==============================] - 18s 821ms/step - loss: 6.7870e-04 - attention_mae: 0.0082 - val_loss: 7.2751e-04 - val_attention_mae: 0.0076\n",
            "Epoch 202/300\n",
            "23/23 [==============================] - ETA: 0s - loss: 6.7004e-04 - attention_mae: 0.0080\n",
            "Epoch 202: val_loss did not improve from 0.00070\n",
            "23/23 [==============================] - 18s 804ms/step - loss: 6.7004e-04 - attention_mae: 0.0080 - val_loss: 7.5969e-04 - val_attention_mae: 0.0074\n",
            "Epoch 203/300\n",
            "23/23 [==============================] - ETA: 0s - loss: 6.6696e-04 - attention_mae: 0.0080\n",
            "Epoch 203: val_loss did not improve from 0.00070\n",
            "23/23 [==============================] - 19s 820ms/step - loss: 6.6696e-04 - attention_mae: 0.0080 - val_loss: 7.0283e-04 - val_attention_mae: 0.0072\n",
            "Epoch 204/300\n",
            "23/23 [==============================] - ETA: 0s - loss: 6.6763e-04 - attention_mae: 0.0079\n",
            "Epoch 204: val_loss did not improve from 0.00070\n",
            "23/23 [==============================] - 19s 821ms/step - loss: 6.6763e-04 - attention_mae: 0.0079 - val_loss: 7.0450e-04 - val_attention_mae: 0.0071\n",
            "Epoch 205/300\n",
            "23/23 [==============================] - ETA: 0s - loss: 6.6283e-04 - attention_mae: 0.0078\n",
            "Epoch 205: val_loss did not improve from 0.00070\n",
            "23/23 [==============================] - 19s 806ms/step - loss: 6.6283e-04 - attention_mae: 0.0078 - val_loss: 7.6452e-04 - val_attention_mae: 0.0074\n",
            "Epoch 206/300\n",
            "23/23 [==============================] - ETA: 0s - loss: 6.6082e-04 - attention_mae: 0.0077\n",
            "Epoch 206: val_loss did not improve from 0.00070\n",
            "23/23 [==============================] - 18s 806ms/step - loss: 6.6082e-04 - attention_mae: 0.0077 - val_loss: 7.2842e-04 - val_attention_mae: 0.0072\n",
            "Epoch 207/300\n",
            "23/23 [==============================] - ETA: 0s - loss: 6.6114e-04 - attention_mae: 0.0077\n",
            "Epoch 207: val_loss improved from 0.00070 to 0.00069, saving model to /content/drive/MyDrive/Research/TAVI/Models/Curvature_2_Pressure_MultiViewUNet_I256_B16_LR0.001\n",
            "23/23 [==============================] - 20s 854ms/step - loss: 6.6114e-04 - attention_mae: 0.0077 - val_loss: 6.9151e-04 - val_attention_mae: 0.0074\n",
            "Epoch 208/300\n",
            "23/23 [==============================] - ETA: 0s - loss: 6.5891e-04 - attention_mae: 0.0077\n",
            "Epoch 208: val_loss did not improve from 0.00069\n",
            "23/23 [==============================] - 18s 805ms/step - loss: 6.5891e-04 - attention_mae: 0.0077 - val_loss: 6.9873e-04 - val_attention_mae: 0.0072\n",
            "Epoch 209/300\n",
            "23/23 [==============================] - ETA: 0s - loss: 6.5565e-04 - attention_mae: 0.0078\n",
            "Epoch 209: val_loss did not improve from 0.00069\n",
            "23/23 [==============================] - 18s 805ms/step - loss: 6.5565e-04 - attention_mae: 0.0078 - val_loss: 7.2444e-04 - val_attention_mae: 0.0077\n",
            "Epoch 210/300\n",
            "23/23 [==============================] - ETA: 0s - loss: 6.6351e-04 - attention_mae: 0.0082\n",
            "Epoch 210: val_loss did not improve from 0.00069\n",
            "23/23 [==============================] - 18s 805ms/step - loss: 6.6351e-04 - attention_mae: 0.0082 - val_loss: 6.9737e-04 - val_attention_mae: 0.0074\n",
            "Epoch 211/300\n",
            "23/23 [==============================] - ETA: 0s - loss: 6.5998e-04 - attention_mae: 0.0080\n",
            "Epoch 211: val_loss did not improve from 0.00069\n",
            "23/23 [==============================] - 19s 805ms/step - loss: 6.5998e-04 - attention_mae: 0.0080 - val_loss: 7.2235e-04 - val_attention_mae: 0.0078\n",
            "Epoch 212/300\n",
            "23/23 [==============================] - ETA: 0s - loss: 6.5469e-04 - attention_mae: 0.0079\n",
            "Epoch 212: val_loss improved from 0.00069 to 0.00068, saving model to /content/drive/MyDrive/Research/TAVI/Models/Curvature_2_Pressure_MultiViewUNet_I256_B16_LR0.001\n",
            "23/23 [==============================] - 19s 839ms/step - loss: 6.5469e-04 - attention_mae: 0.0079 - val_loss: 6.8286e-04 - val_attention_mae: 0.0069\n",
            "Epoch 213/300\n",
            "23/23 [==============================] - ETA: 0s - loss: 6.6624e-04 - attention_mae: 0.0079\n",
            "Epoch 213: val_loss did not improve from 0.00068\n",
            "23/23 [==============================] - 19s 805ms/step - loss: 6.6624e-04 - attention_mae: 0.0079 - val_loss: 8.4692e-04 - val_attention_mae: 0.0081\n",
            "Epoch 214/300\n",
            "23/23 [==============================] - ETA: 0s - loss: 6.7085e-04 - attention_mae: 0.0083\n",
            "Epoch 214: val_loss improved from 0.00068 to 0.00068, saving model to /content/drive/MyDrive/Research/TAVI/Models/Curvature_2_Pressure_MultiViewUNet_I256_B16_LR0.001\n",
            "23/23 [==============================] - 19s 842ms/step - loss: 6.7085e-04 - attention_mae: 0.0083 - val_loss: 6.7795e-04 - val_attention_mae: 0.0072\n",
            "Epoch 215/300\n",
            "23/23 [==============================] - ETA: 0s - loss: 6.5138e-04 - attention_mae: 0.0077\n",
            "Epoch 215: val_loss improved from 0.00068 to 0.00065, saving model to /content/drive/MyDrive/Research/TAVI/Models/Curvature_2_Pressure_MultiViewUNet_I256_B16_LR0.001\n",
            "23/23 [==============================] - 19s 831ms/step - loss: 6.5138e-04 - attention_mae: 0.0077 - val_loss: 6.5476e-04 - val_attention_mae: 0.0069\n",
            "Epoch 216/300\n",
            "23/23 [==============================] - ETA: 0s - loss: 6.4610e-04 - attention_mae: 0.0077\n",
            "Epoch 216: val_loss did not improve from 0.00065\n",
            "23/23 [==============================] - 19s 821ms/step - loss: 6.4610e-04 - attention_mae: 0.0077 - val_loss: 6.7707e-04 - val_attention_mae: 0.0071\n",
            "Epoch 217/300\n",
            "23/23 [==============================] - ETA: 0s - loss: 6.4382e-04 - attention_mae: 0.0076\n",
            "Epoch 217: val_loss did not improve from 0.00065\n",
            "23/23 [==============================] - 19s 805ms/step - loss: 6.4382e-04 - attention_mae: 0.0076 - val_loss: 6.8623e-04 - val_attention_mae: 0.0072\n",
            "Epoch 218/300\n",
            "23/23 [==============================] - ETA: 0s - loss: 6.4884e-04 - attention_mae: 0.0078\n",
            "Epoch 218: val_loss did not improve from 0.00065\n",
            "23/23 [==============================] - 19s 805ms/step - loss: 6.4884e-04 - attention_mae: 0.0078 - val_loss: 6.7230e-04 - val_attention_mae: 0.0074\n",
            "Epoch 219/300\n",
            "23/23 [==============================] - ETA: 0s - loss: 6.4384e-04 - attention_mae: 0.0078\n",
            "Epoch 219: val_loss did not improve from 0.00065\n",
            "23/23 [==============================] - 19s 805ms/step - loss: 6.4384e-04 - attention_mae: 0.0078 - val_loss: 7.2013e-04 - val_attention_mae: 0.0078\n",
            "Epoch 220/300\n",
            "23/23 [==============================] - ETA: 0s - loss: 6.4581e-04 - attention_mae: 0.0080\n",
            "Epoch 220: val_loss did not improve from 0.00065\n",
            "23/23 [==============================] - 19s 805ms/step - loss: 6.4581e-04 - attention_mae: 0.0080 - val_loss: 6.5956e-04 - val_attention_mae: 0.0071\n",
            "Epoch 221/300\n",
            "23/23 [==============================] - ETA: 0s - loss: 6.4914e-04 - attention_mae: 0.0081\n",
            "Epoch 221: val_loss improved from 0.00065 to 0.00065, saving model to /content/drive/MyDrive/Research/TAVI/Models/Curvature_2_Pressure_MultiViewUNet_I256_B16_LR0.001\n",
            "23/23 [==============================] - 19s 845ms/step - loss: 6.4914e-04 - attention_mae: 0.0081 - val_loss: 6.5341e-04 - val_attention_mae: 0.0070\n",
            "Epoch 222/300\n",
            "23/23 [==============================] - ETA: 0s - loss: 6.4436e-04 - attention_mae: 0.0078\n",
            "Epoch 222: val_loss did not improve from 0.00065\n",
            "23/23 [==============================] - 18s 805ms/step - loss: 6.4436e-04 - attention_mae: 0.0078 - val_loss: 9.2519e-04 - val_attention_mae: 0.0091\n",
            "Epoch 223/300\n",
            "23/23 [==============================] - ETA: 0s - loss: 6.3564e-04 - attention_mae: 0.0076\n",
            "Epoch 223: val_loss did not improve from 0.00065\n",
            "23/23 [==============================] - 18s 805ms/step - loss: 6.3564e-04 - attention_mae: 0.0076 - val_loss: 6.7852e-04 - val_attention_mae: 0.0073\n",
            "Epoch 224/300\n",
            "23/23 [==============================] - ETA: 0s - loss: 6.3391e-04 - attention_mae: 0.0075\n",
            "Epoch 224: val_loss improved from 0.00065 to 0.00064, saving model to /content/drive/MyDrive/Research/TAVI/Models/Curvature_2_Pressure_MultiViewUNet_I256_B16_LR0.001\n",
            "23/23 [==============================] - 19s 840ms/step - loss: 6.3391e-04 - attention_mae: 0.0075 - val_loss: 6.3776e-04 - val_attention_mae: 0.0070\n",
            "Epoch 225/300\n",
            "23/23 [==============================] - ETA: 0s - loss: 6.3499e-04 - attention_mae: 0.0076\n",
            "Epoch 225: val_loss did not improve from 0.00064\n",
            "23/23 [==============================] - 19s 804ms/step - loss: 6.3499e-04 - attention_mae: 0.0076 - val_loss: 6.7105e-04 - val_attention_mae: 0.0069\n",
            "Epoch 226/300\n",
            "23/23 [==============================] - ETA: 0s - loss: 6.3536e-04 - attention_mae: 0.0075\n",
            "Epoch 226: val_loss did not improve from 0.00064\n",
            "23/23 [==============================] - 19s 806ms/step - loss: 6.3536e-04 - attention_mae: 0.0075 - val_loss: 6.3917e-04 - val_attention_mae: 0.0070\n",
            "Epoch 227/300\n",
            "23/23 [==============================] - ETA: 0s - loss: 6.3127e-04 - attention_mae: 0.0075\n",
            "Epoch 227: val_loss did not improve from 0.00064\n",
            "23/23 [==============================] - 18s 805ms/step - loss: 6.3127e-04 - attention_mae: 0.0075 - val_loss: 6.6760e-04 - val_attention_mae: 0.0069\n",
            "Epoch 228/300\n",
            "23/23 [==============================] - ETA: 0s - loss: 6.2930e-04 - attention_mae: 0.0075\n",
            "Epoch 228: val_loss did not improve from 0.00064\n",
            "23/23 [==============================] - 19s 820ms/step - loss: 6.2930e-04 - attention_mae: 0.0075 - val_loss: 6.6993e-04 - val_attention_mae: 0.0072\n",
            "Epoch 229/300\n",
            "23/23 [==============================] - ETA: 0s - loss: 6.3033e-04 - attention_mae: 0.0076\n",
            "Epoch 229: val_loss did not improve from 0.00064\n",
            "23/23 [==============================] - 19s 806ms/step - loss: 6.3033e-04 - attention_mae: 0.0076 - val_loss: 7.1453e-04 - val_attention_mae: 0.0076\n",
            "Epoch 230/300\n",
            "23/23 [==============================] - ETA: 0s - loss: 6.3075e-04 - attention_mae: 0.0078\n",
            "Epoch 230: val_loss did not improve from 0.00064\n",
            "23/23 [==============================] - 19s 821ms/step - loss: 6.3075e-04 - attention_mae: 0.0078 - val_loss: 7.2856e-04 - val_attention_mae: 0.0077\n",
            "Epoch 231/300\n",
            "23/23 [==============================] - ETA: 0s - loss: 6.2989e-04 - attention_mae: 0.0078\n",
            "Epoch 231: val_loss did not improve from 0.00064\n",
            "23/23 [==============================] - 18s 819ms/step - loss: 6.2989e-04 - attention_mae: 0.0078 - val_loss: 7.3472e-04 - val_attention_mae: 0.0085\n",
            "Epoch 232/300\n",
            "23/23 [==============================] - ETA: 0s - loss: 6.2293e-04 - attention_mae: 0.0075\n",
            "Epoch 232: val_loss did not improve from 0.00064\n",
            "23/23 [==============================] - 18s 805ms/step - loss: 6.2293e-04 - attention_mae: 0.0075 - val_loss: 6.5328e-04 - val_attention_mae: 0.0069\n",
            "Epoch 233/300\n",
            "23/23 [==============================] - ETA: 0s - loss: 6.2353e-04 - attention_mae: 0.0077\n",
            "Epoch 233: val_loss did not improve from 0.00064\n",
            "23/23 [==============================] - 18s 805ms/step - loss: 6.2353e-04 - attention_mae: 0.0077 - val_loss: 7.3821e-04 - val_attention_mae: 0.0067\n",
            "Epoch 234/300\n",
            "23/23 [==============================] - ETA: 0s - loss: 6.2701e-04 - attention_mae: 0.0079\n",
            "Epoch 234: val_loss did not improve from 0.00064\n",
            "23/23 [==============================] - 19s 820ms/step - loss: 6.2701e-04 - attention_mae: 0.0079 - val_loss: 6.3960e-04 - val_attention_mae: 0.0068\n",
            "Epoch 235/300\n",
            "23/23 [==============================] - ETA: 0s - loss: 6.2292e-04 - attention_mae: 0.0077\n",
            "Epoch 235: val_loss improved from 0.00064 to 0.00064, saving model to /content/drive/MyDrive/Research/TAVI/Models/Curvature_2_Pressure_MultiViewUNet_I256_B16_LR0.001\n",
            "23/23 [==============================] - 19s 831ms/step - loss: 6.2292e-04 - attention_mae: 0.0077 - val_loss: 6.3691e-04 - val_attention_mae: 0.0072\n",
            "Epoch 236/300\n",
            "23/23 [==============================] - ETA: 0s - loss: 6.1933e-04 - attention_mae: 0.0076\n",
            "Epoch 236: val_loss improved from 0.00064 to 0.00062, saving model to /content/drive/MyDrive/Research/TAVI/Models/Curvature_2_Pressure_MultiViewUNet_I256_B16_LR0.001\n",
            "23/23 [==============================] - 19s 838ms/step - loss: 6.1933e-04 - attention_mae: 0.0076 - val_loss: 6.1995e-04 - val_attention_mae: 0.0067\n",
            "Epoch 237/300\n",
            "23/23 [==============================] - ETA: 0s - loss: 6.1762e-04 - attention_mae: 0.0075\n",
            "Epoch 237: val_loss did not improve from 0.00062\n",
            "23/23 [==============================] - 19s 806ms/step - loss: 6.1762e-04 - attention_mae: 0.0075 - val_loss: 6.2856e-04 - val_attention_mae: 0.0066\n",
            "Epoch 238/300\n",
            "23/23 [==============================] - ETA: 0s - loss: 6.2301e-04 - attention_mae: 0.0077\n",
            "Epoch 238: val_loss did not improve from 0.00062\n",
            "23/23 [==============================] - 19s 820ms/step - loss: 6.2301e-04 - attention_mae: 0.0077 - val_loss: 6.6724e-04 - val_attention_mae: 0.0066\n",
            "Epoch 239/300\n",
            "23/23 [==============================] - ETA: 0s - loss: 6.2109e-04 - attention_mae: 0.0076\n",
            "Epoch 239: val_loss did not improve from 0.00062\n",
            "23/23 [==============================] - 18s 804ms/step - loss: 6.2109e-04 - attention_mae: 0.0076 - val_loss: 7.3637e-04 - val_attention_mae: 0.0069\n",
            "Epoch 240/300\n",
            "23/23 [==============================] - ETA: 0s - loss: 6.1108e-04 - attention_mae: 0.0073\n",
            "Epoch 240: val_loss did not improve from 0.00062\n",
            "23/23 [==============================] - 18s 804ms/step - loss: 6.1108e-04 - attention_mae: 0.0073 - val_loss: 6.3483e-04 - val_attention_mae: 0.0067\n",
            "Epoch 241/300\n",
            "23/23 [==============================] - ETA: 0s - loss: 6.0925e-04 - attention_mae: 0.0074\n",
            "Epoch 241: val_loss did not improve from 0.00062\n",
            "23/23 [==============================] - 18s 804ms/step - loss: 6.0925e-04 - attention_mae: 0.0074 - val_loss: 6.4847e-04 - val_attention_mae: 0.0069\n",
            "Epoch 242/300\n",
            "23/23 [==============================] - ETA: 0s - loss: 6.0519e-04 - attention_mae: 0.0072\n",
            "Epoch 242: val_loss did not improve from 0.00062\n",
            "23/23 [==============================] - 18s 806ms/step - loss: 6.0519e-04 - attention_mae: 0.0072 - val_loss: 6.5657e-04 - val_attention_mae: 0.0072\n",
            "Epoch 243/300\n",
            "23/23 [==============================] - ETA: 0s - loss: 6.0988e-04 - attention_mae: 0.0075\n",
            "Epoch 243: val_loss did not improve from 0.00062\n",
            "23/23 [==============================] - 19s 821ms/step - loss: 6.0988e-04 - attention_mae: 0.0075 - val_loss: 6.5569e-04 - val_attention_mae: 0.0068\n",
            "Epoch 244/300\n",
            "23/23 [==============================] - ETA: 0s - loss: 6.1476e-04 - attention_mae: 0.0079\n",
            "Epoch 244: val_loss did not improve from 0.00062\n",
            "23/23 [==============================] - 18s 806ms/step - loss: 6.1476e-04 - attention_mae: 0.0079 - val_loss: 6.4789e-04 - val_attention_mae: 0.0071\n",
            "Epoch 245/300\n",
            "23/23 [==============================] - ETA: 0s - loss: 6.1475e-04 - attention_mae: 0.0079\n",
            "Epoch 245: val_loss did not improve from 0.00062\n",
            "23/23 [==============================] - 19s 822ms/step - loss: 6.1475e-04 - attention_mae: 0.0079 - val_loss: 6.3789e-04 - val_attention_mae: 0.0070\n",
            "Epoch 246/300\n",
            "23/23 [==============================] - ETA: 0s - loss: 6.0508e-04 - attention_mae: 0.0076\n",
            "Epoch 246: val_loss did not improve from 0.00062\n",
            "23/23 [==============================] - 18s 804ms/step - loss: 6.0508e-04 - attention_mae: 0.0076 - val_loss: 6.3282e-04 - val_attention_mae: 0.0068\n",
            "Epoch 247/300\n",
            "23/23 [==============================] - ETA: 0s - loss: 5.9861e-04 - attention_mae: 0.0072\n",
            "Epoch 247: val_loss did not improve from 0.00062\n",
            "23/23 [==============================] - 19s 819ms/step - loss: 5.9861e-04 - attention_mae: 0.0072 - val_loss: 6.7951e-04 - val_attention_mae: 0.0072\n",
            "Epoch 248/300\n",
            "23/23 [==============================] - ETA: 0s - loss: 5.9842e-04 - attention_mae: 0.0073\n",
            "Epoch 248: val_loss did not improve from 0.00062\n",
            "23/23 [==============================] - 18s 804ms/step - loss: 5.9842e-04 - attention_mae: 0.0073 - val_loss: 6.2305e-04 - val_attention_mae: 0.0064\n",
            "Epoch 249/300\n",
            "23/23 [==============================] - ETA: 0s - loss: 5.9974e-04 - attention_mae: 0.0072\n",
            "Epoch 249: val_loss improved from 0.00062 to 0.00062, saving model to /content/drive/MyDrive/Research/TAVI/Models/Curvature_2_Pressure_MultiViewUNet_I256_B16_LR0.001\n",
            "23/23 [==============================] - 20s 858ms/step - loss: 5.9974e-04 - attention_mae: 0.0072 - val_loss: 6.1606e-04 - val_attention_mae: 0.0066\n",
            "Epoch 250/300\n",
            "23/23 [==============================] - ETA: 0s - loss: 5.9634e-04 - attention_mae: 0.0072\n",
            "Epoch 250: val_loss did not improve from 0.00062\n",
            "23/23 [==============================] - 18s 803ms/step - loss: 5.9634e-04 - attention_mae: 0.0072 - val_loss: 7.9279e-04 - val_attention_mae: 0.0072\n",
            "Epoch 251/300\n",
            "23/23 [==============================] - ETA: 0s - loss: 6.0165e-04 - attention_mae: 0.0073\n",
            "Epoch 251: val_loss improved from 0.00062 to 0.00061, saving model to /content/drive/MyDrive/Research/TAVI/Models/Curvature_2_Pressure_MultiViewUNet_I256_B16_LR0.001\n",
            "23/23 [==============================] - 19s 843ms/step - loss: 6.0165e-04 - attention_mae: 0.0073 - val_loss: 6.1104e-04 - val_attention_mae: 0.0067\n",
            "Epoch 252/300\n",
            "23/23 [==============================] - ETA: 0s - loss: 6.0610e-04 - attention_mae: 0.0076\n",
            "Epoch 252: val_loss did not improve from 0.00061\n",
            "23/23 [==============================] - 18s 803ms/step - loss: 6.0610e-04 - attention_mae: 0.0076 - val_loss: 6.4721e-04 - val_attention_mae: 0.0072\n",
            "Epoch 253/300\n",
            "23/23 [==============================] - ETA: 0s - loss: 5.9820e-04 - attention_mae: 0.0073\n",
            "Epoch 253: val_loss did not improve from 0.00061\n",
            "23/23 [==============================] - 18s 804ms/step - loss: 5.9820e-04 - attention_mae: 0.0073 - val_loss: 6.3344e-04 - val_attention_mae: 0.0063\n",
            "Epoch 254/300\n",
            "23/23 [==============================] - ETA: 0s - loss: 5.9860e-04 - attention_mae: 0.0072\n",
            "Epoch 254: val_loss did not improve from 0.00061\n",
            "23/23 [==============================] - 19s 820ms/step - loss: 5.9860e-04 - attention_mae: 0.0072 - val_loss: 8.7920e-04 - val_attention_mae: 0.0070\n",
            "Epoch 255/300\n",
            "23/23 [==============================] - ETA: 0s - loss: 6.2138e-04 - attention_mae: 0.0079\n",
            "Epoch 255: val_loss did not improve from 0.00061\n",
            "23/23 [==============================] - 19s 807ms/step - loss: 6.2138e-04 - attention_mae: 0.0079 - val_loss: 6.4190e-04 - val_attention_mae: 0.0067\n",
            "Epoch 256/300\n",
            "23/23 [==============================] - ETA: 0s - loss: 6.1666e-04 - attention_mae: 0.0082\n",
            "Epoch 256: val_loss did not improve from 0.00061\n",
            "23/23 [==============================] - 18s 804ms/step - loss: 6.1666e-04 - attention_mae: 0.0082 - val_loss: 8.3216e-04 - val_attention_mae: 0.0083\n",
            "Epoch 257/300\n",
            "23/23 [==============================] - ETA: 0s - loss: 6.0314e-04 - attention_mae: 0.0075\n",
            "Epoch 257: val_loss did not improve from 0.00061\n",
            "23/23 [==============================] - 19s 804ms/step - loss: 6.0314e-04 - attention_mae: 0.0075 - val_loss: 6.2848e-04 - val_attention_mae: 0.0069\n",
            "Epoch 258/300\n",
            "23/23 [==============================] - ETA: 0s - loss: 6.0586e-04 - attention_mae: 0.0079\n",
            "Epoch 258: val_loss did not improve from 0.00061\n",
            "23/23 [==============================] - 19s 821ms/step - loss: 6.0586e-04 - attention_mae: 0.0079 - val_loss: 6.5423e-04 - val_attention_mae: 0.0071\n",
            "Epoch 259/300\n",
            "23/23 [==============================] - ETA: 0s - loss: 5.9420e-04 - attention_mae: 0.0073\n",
            "Epoch 259: val_loss improved from 0.00061 to 0.00059, saving model to /content/drive/MyDrive/Research/TAVI/Models/Curvature_2_Pressure_MultiViewUNet_I256_B16_LR0.001\n",
            "23/23 [==============================] - 19s 846ms/step - loss: 5.9420e-04 - attention_mae: 0.0073 - val_loss: 5.8992e-04 - val_attention_mae: 0.0064\n",
            "Epoch 260/300\n",
            "23/23 [==============================] - ETA: 0s - loss: 5.8517e-04 - attention_mae: 0.0072\n",
            "Epoch 260: val_loss did not improve from 0.00059\n",
            "23/23 [==============================] - 18s 805ms/step - loss: 5.8517e-04 - attention_mae: 0.0072 - val_loss: 6.2829e-04 - val_attention_mae: 0.0065\n",
            "Epoch 261/300\n",
            "23/23 [==============================] - ETA: 0s - loss: 5.8373e-04 - attention_mae: 0.0072\n",
            "Epoch 261: val_loss improved from 0.00059 to 0.00058, saving model to /content/drive/MyDrive/Research/TAVI/Models/Curvature_2_Pressure_MultiViewUNet_I256_B16_LR0.001\n",
            "23/23 [==============================] - 19s 846ms/step - loss: 5.8373e-04 - attention_mae: 0.0072 - val_loss: 5.8232e-04 - val_attention_mae: 0.0063\n",
            "Epoch 262/300\n",
            "23/23 [==============================] - ETA: 0s - loss: 5.8087e-04 - attention_mae: 0.0070\n",
            "Epoch 262: val_loss did not improve from 0.00058\n",
            "23/23 [==============================] - 19s 822ms/step - loss: 5.8087e-04 - attention_mae: 0.0070 - val_loss: 6.4100e-04 - val_attention_mae: 0.0068\n",
            "Epoch 263/300\n",
            "23/23 [==============================] - ETA: 0s - loss: 5.7946e-04 - attention_mae: 0.0072\n",
            "Epoch 263: val_loss did not improve from 0.00058\n",
            "23/23 [==============================] - 18s 803ms/step - loss: 5.7946e-04 - attention_mae: 0.0072 - val_loss: 6.1474e-04 - val_attention_mae: 0.0066\n",
            "Epoch 264/300\n",
            "23/23 [==============================] - ETA: 0s - loss: 5.7978e-04 - attention_mae: 0.0073\n",
            "Epoch 264: val_loss did not improve from 0.00058\n",
            "23/23 [==============================] - 18s 804ms/step - loss: 5.7978e-04 - attention_mae: 0.0073 - val_loss: 5.8789e-04 - val_attention_mae: 0.0063\n",
            "Epoch 265/300\n",
            "23/23 [==============================] - ETA: 0s - loss: 5.7888e-04 - attention_mae: 0.0071\n",
            "Epoch 265: val_loss did not improve from 0.00058\n",
            "23/23 [==============================] - 18s 804ms/step - loss: 5.7888e-04 - attention_mae: 0.0071 - val_loss: 6.4751e-04 - val_attention_mae: 0.0070\n",
            "Epoch 266/300\n",
            "23/23 [==============================] - ETA: 0s - loss: 5.8006e-04 - attention_mae: 0.0072\n",
            "Epoch 266: val_loss did not improve from 0.00058\n",
            "23/23 [==============================] - 19s 820ms/step - loss: 5.8006e-04 - attention_mae: 0.0072 - val_loss: 5.9318e-04 - val_attention_mae: 0.0065\n",
            "Epoch 267/300\n",
            "23/23 [==============================] - ETA: 0s - loss: 5.8195e-04 - attention_mae: 0.0075\n",
            "Epoch 267: val_loss did not improve from 0.00058\n",
            "23/23 [==============================] - 19s 820ms/step - loss: 5.8195e-04 - attention_mae: 0.0075 - val_loss: 7.1266e-04 - val_attention_mae: 0.0072\n",
            "Epoch 268/300\n",
            "23/23 [==============================] - ETA: 0s - loss: 5.7834e-04 - attention_mae: 0.0072\n",
            "Epoch 268: val_loss did not improve from 0.00058\n",
            "23/23 [==============================] - 18s 805ms/step - loss: 5.7834e-04 - attention_mae: 0.0072 - val_loss: 6.1657e-04 - val_attention_mae: 0.0068\n",
            "Epoch 269/300\n",
            "23/23 [==============================] - ETA: 0s - loss: 5.7433e-04 - attention_mae: 0.0072\n",
            "Epoch 269: val_loss did not improve from 0.00058\n",
            "23/23 [==============================] - 18s 804ms/step - loss: 5.7433e-04 - attention_mae: 0.0072 - val_loss: 6.1582e-04 - val_attention_mae: 0.0067\n",
            "Epoch 270/300\n",
            "23/23 [==============================] - ETA: 0s - loss: 5.7368e-04 - attention_mae: 0.0071\n",
            "Epoch 270: val_loss improved from 0.00058 to 0.00058, saving model to /content/drive/MyDrive/Research/TAVI/Models/Curvature_2_Pressure_MultiViewUNet_I256_B16_LR0.001\n",
            "23/23 [==============================] - 19s 830ms/step - loss: 5.7368e-04 - attention_mae: 0.0071 - val_loss: 5.8205e-04 - val_attention_mae: 0.0062\n",
            "Epoch 271/300\n",
            "23/23 [==============================] - ETA: 0s - loss: 5.7357e-04 - attention_mae: 0.0070\n",
            "Epoch 271: val_loss did not improve from 0.00058\n",
            "23/23 [==============================] - 18s 804ms/step - loss: 5.7357e-04 - attention_mae: 0.0070 - val_loss: 7.5206e-04 - val_attention_mae: 0.0079\n",
            "Epoch 272/300\n",
            "23/23 [==============================] - ETA: 0s - loss: 5.7181e-04 - attention_mae: 0.0071\n",
            "Epoch 272: val_loss did not improve from 0.00058\n",
            "23/23 [==============================] - 19s 822ms/step - loss: 5.7181e-04 - attention_mae: 0.0071 - val_loss: 6.6692e-04 - val_attention_mae: 0.0064\n",
            "Epoch 273/300\n",
            "23/23 [==============================] - ETA: 0s - loss: 5.7426e-04 - attention_mae: 0.0072\n",
            "Epoch 273: val_loss improved from 0.00058 to 0.00057, saving model to /content/drive/MyDrive/Research/TAVI/Models/Curvature_2_Pressure_MultiViewUNet_I256_B16_LR0.001\n",
            "23/23 [==============================] - 19s 836ms/step - loss: 5.7426e-04 - attention_mae: 0.0072 - val_loss: 5.7362e-04 - val_attention_mae: 0.0065\n",
            "Epoch 274/300\n",
            "23/23 [==============================] - ETA: 0s - loss: 5.7018e-04 - attention_mae: 0.0071\n",
            "Epoch 274: val_loss improved from 0.00057 to 0.00057, saving model to /content/drive/MyDrive/Research/TAVI/Models/Curvature_2_Pressure_MultiViewUNet_I256_B16_LR0.001\n",
            "23/23 [==============================] - 19s 843ms/step - loss: 5.7018e-04 - attention_mae: 0.0071 - val_loss: 5.7001e-04 - val_attention_mae: 0.0065\n",
            "Epoch 275/300\n",
            "23/23 [==============================] - ETA: 0s - loss: 5.6720e-04 - attention_mae: 0.0071\n",
            "Epoch 275: val_loss did not improve from 0.00057\n",
            "23/23 [==============================] - 18s 805ms/step - loss: 5.6720e-04 - attention_mae: 0.0071 - val_loss: 5.9297e-04 - val_attention_mae: 0.0062\n",
            "Epoch 276/300\n",
            "23/23 [==============================] - ETA: 0s - loss: 5.6918e-04 - attention_mae: 0.0072\n",
            "Epoch 276: val_loss did not improve from 0.00057\n",
            "23/23 [==============================] - 19s 820ms/step - loss: 5.6918e-04 - attention_mae: 0.0072 - val_loss: 5.9574e-04 - val_attention_mae: 0.0063\n",
            "Epoch 277/300\n",
            "23/23 [==============================] - ETA: 0s - loss: 5.7054e-04 - attention_mae: 0.0071\n",
            "Epoch 277: val_loss did not improve from 0.00057\n",
            "23/23 [==============================] - 19s 805ms/step - loss: 5.7054e-04 - attention_mae: 0.0071 - val_loss: 5.8389e-04 - val_attention_mae: 0.0067\n",
            "Epoch 278/300\n",
            "23/23 [==============================] - ETA: 0s - loss: 5.7026e-04 - attention_mae: 0.0071\n",
            "Epoch 278: val_loss did not improve from 0.00057\n",
            "23/23 [==============================] - 19s 804ms/step - loss: 5.7026e-04 - attention_mae: 0.0071 - val_loss: 6.4673e-04 - val_attention_mae: 0.0069\n",
            "Epoch 279/300\n",
            "23/23 [==============================] - ETA: 0s - loss: 5.6343e-04 - attention_mae: 0.0072\n",
            "Epoch 279: val_loss did not improve from 0.00057\n",
            "23/23 [==============================] - 18s 804ms/step - loss: 5.6343e-04 - attention_mae: 0.0072 - val_loss: 5.7602e-04 - val_attention_mae: 0.0062\n",
            "Epoch 280/300\n",
            "23/23 [==============================] - ETA: 0s - loss: 5.6685e-04 - attention_mae: 0.0070\n",
            "Epoch 280: val_loss did not improve from 0.00057\n",
            "23/23 [==============================] - 19s 819ms/step - loss: 5.6685e-04 - attention_mae: 0.0070 - val_loss: 5.8619e-04 - val_attention_mae: 0.0064\n",
            "Epoch 281/300\n",
            "23/23 [==============================] - ETA: 0s - loss: 5.6843e-04 - attention_mae: 0.0072\n",
            "Epoch 281: val_loss did not improve from 0.00057\n",
            "23/23 [==============================] - 19s 822ms/step - loss: 5.6843e-04 - attention_mae: 0.0072 - val_loss: 6.2361e-04 - val_attention_mae: 0.0069\n",
            "Epoch 282/300\n",
            "23/23 [==============================] - ETA: 0s - loss: 5.6966e-04 - attention_mae: 0.0071\n",
            "Epoch 282: val_loss did not improve from 0.00057\n",
            "23/23 [==============================] - 18s 803ms/step - loss: 5.6966e-04 - attention_mae: 0.0071 - val_loss: 6.0156e-04 - val_attention_mae: 0.0068\n",
            "Epoch 283/300\n",
            "23/23 [==============================] - ETA: 0s - loss: 5.7001e-04 - attention_mae: 0.0074\n",
            "Epoch 283: val_loss did not improve from 0.00057\n",
            "23/23 [==============================] - 18s 804ms/step - loss: 5.7001e-04 - attention_mae: 0.0074 - val_loss: 5.8088e-04 - val_attention_mae: 0.0062\n",
            "Epoch 284/300\n",
            "23/23 [==============================] - ETA: 0s - loss: 5.6646e-04 - attention_mae: 0.0071\n",
            "Epoch 284: val_loss did not improve from 0.00057\n",
            "23/23 [==============================] - 18s 805ms/step - loss: 5.6646e-04 - attention_mae: 0.0071 - val_loss: 6.3319e-04 - val_attention_mae: 0.0068\n",
            "Epoch 285/300\n",
            "23/23 [==============================] - ETA: 0s - loss: 5.6127e-04 - attention_mae: 0.0072\n",
            "Epoch 285: val_loss did not improve from 0.00057\n",
            "23/23 [==============================] - 19s 821ms/step - loss: 5.6127e-04 - attention_mae: 0.0072 - val_loss: 5.7262e-04 - val_attention_mae: 0.0060\n",
            "Epoch 286/300\n",
            "23/23 [==============================] - ETA: 0s - loss: 5.6238e-04 - attention_mae: 0.0071\n",
            "Epoch 286: val_loss did not improve from 0.00057\n",
            "23/23 [==============================] - 18s 803ms/step - loss: 5.6238e-04 - attention_mae: 0.0071 - val_loss: 5.8000e-04 - val_attention_mae: 0.0065\n",
            "Epoch 287/300\n",
            "23/23 [==============================] - ETA: 0s - loss: 5.5898e-04 - attention_mae: 0.0070\n",
            "Epoch 287: val_loss improved from 0.00057 to 0.00056, saving model to /content/drive/MyDrive/Research/TAVI/Models/Curvature_2_Pressure_MultiViewUNet_I256_B16_LR0.001\n",
            "23/23 [==============================] - 19s 831ms/step - loss: 5.5898e-04 - attention_mae: 0.0070 - val_loss: 5.6374e-04 - val_attention_mae: 0.0061\n",
            "Epoch 288/300\n",
            "23/23 [==============================] - ETA: 0s - loss: 5.5612e-04 - attention_mae: 0.0069\n",
            "Epoch 288: val_loss did not improve from 0.00056\n",
            "23/23 [==============================] - 18s 804ms/step - loss: 5.5612e-04 - attention_mae: 0.0069 - val_loss: 6.0025e-04 - val_attention_mae: 0.0066\n",
            "Epoch 289/300\n",
            "23/23 [==============================] - ETA: 0s - loss: 5.5750e-04 - attention_mae: 0.0069\n",
            "Epoch 289: val_loss did not improve from 0.00056\n",
            "23/23 [==============================] - 19s 821ms/step - loss: 5.5750e-04 - attention_mae: 0.0069 - val_loss: 5.8742e-04 - val_attention_mae: 0.0064\n",
            "Epoch 290/300\n",
            "23/23 [==============================] - ETA: 0s - loss: 5.5985e-04 - attention_mae: 0.0072\n",
            "Epoch 290: val_loss did not improve from 0.00056\n",
            "23/23 [==============================] - 18s 803ms/step - loss: 5.5985e-04 - attention_mae: 0.0072 - val_loss: 6.2908e-04 - val_attention_mae: 0.0063\n",
            "Epoch 291/300\n",
            "23/23 [==============================] - ETA: 0s - loss: 5.5455e-04 - attention_mae: 0.0070\n",
            "Epoch 291: val_loss did not improve from 0.00056\n",
            "23/23 [==============================] - 18s 803ms/step - loss: 5.5455e-04 - attention_mae: 0.0070 - val_loss: 5.6483e-04 - val_attention_mae: 0.0061\n",
            "Epoch 292/300\n",
            "23/23 [==============================] - ETA: 0s - loss: 5.5230e-04 - attention_mae: 0.0069\n",
            "Epoch 292: val_loss did not improve from 0.00056\n",
            "23/23 [==============================] - 18s 804ms/step - loss: 5.5230e-04 - attention_mae: 0.0069 - val_loss: 5.6488e-04 - val_attention_mae: 0.0063\n",
            "Epoch 293/300\n",
            "23/23 [==============================] - ETA: 0s - loss: 5.5198e-04 - attention_mae: 0.0072\n",
            "Epoch 293: val_loss did not improve from 0.00056\n",
            "23/23 [==============================] - 18s 804ms/step - loss: 5.5198e-04 - attention_mae: 0.0072 - val_loss: 5.6529e-04 - val_attention_mae: 0.0061\n",
            "Epoch 294/300\n",
            "23/23 [==============================] - ETA: 0s - loss: 5.4938e-04 - attention_mae: 0.0068\n",
            "Epoch 294: val_loss did not improve from 0.00056\n",
            "23/23 [==============================] - 19s 820ms/step - loss: 5.4938e-04 - attention_mae: 0.0068 - val_loss: 5.7237e-04 - val_attention_mae: 0.0061\n",
            "Epoch 295/300\n",
            "23/23 [==============================] - ETA: 0s - loss: 5.4703e-04 - attention_mae: 0.0068\n",
            "Epoch 295: val_loss did not improve from 0.00056\n",
            "23/23 [==============================] - 19s 805ms/step - loss: 5.4703e-04 - attention_mae: 0.0068 - val_loss: 6.0367e-04 - val_attention_mae: 0.0063\n",
            "Epoch 296/300\n",
            "23/23 [==============================] - ETA: 0s - loss: 5.4504e-04 - attention_mae: 0.0070\n",
            "Epoch 296: val_loss did not improve from 0.00056\n",
            "23/23 [==============================] - 18s 804ms/step - loss: 5.4504e-04 - attention_mae: 0.0070 - val_loss: 5.9818e-04 - val_attention_mae: 0.0066\n",
            "Epoch 297/300\n",
            "23/23 [==============================] - ETA: 0s - loss: 5.4872e-04 - attention_mae: 0.0070\n",
            "Epoch 297: val_loss did not improve from 0.00056\n",
            "23/23 [==============================] - 18s 803ms/step - loss: 5.4872e-04 - attention_mae: 0.0070 - val_loss: 5.7844e-04 - val_attention_mae: 0.0063\n",
            "Epoch 298/300\n",
            "23/23 [==============================] - ETA: 0s - loss: 5.4377e-04 - attention_mae: 0.0069\n",
            "Epoch 298: val_loss did not improve from 0.00056\n",
            "23/23 [==============================] - 18s 803ms/step - loss: 5.4377e-04 - attention_mae: 0.0069 - val_loss: 5.7129e-04 - val_attention_mae: 0.0061\n",
            "Epoch 299/300\n",
            "23/23 [==============================] - ETA: 0s - loss: 5.4574e-04 - attention_mae: 0.0070\n",
            "Epoch 299: val_loss did not improve from 0.00056\n",
            "23/23 [==============================] - 18s 805ms/step - loss: 5.4574e-04 - attention_mae: 0.0070 - val_loss: 8.3806e-04 - val_attention_mae: 0.0084\n",
            "Epoch 300/300\n",
            "23/23 [==============================] - ETA: 0s - loss: 5.4252e-04 - attention_mae: 0.0068\n",
            "Epoch 300: val_loss improved from 0.00056 to 0.00055, saving model to /content/drive/MyDrive/Research/TAVI/Models/Curvature_2_Pressure_MultiViewUNet_I256_B16_LR0.001\n",
            "23/23 [==============================] - 20s 864ms/step - loss: 5.4252e-04 - attention_mae: 0.0068 - val_loss: 5.4965e-04 - val_attention_mae: 0.0062\n"
          ]
        }
      ],
      "source": [
        "history = model.fit(\n",
        "    train_batches,\n",
        "    validation_data=test_batches,\n",
        "    epochs=N_EPOCHS,\n",
        "    batch_size=BATCH_SIZE,\n",
        "    callbacks=callbacks,\n",
        "    verbose=1\n",
        ")\n"
      ]
    },
    {
      "cell_type": "markdown",
      "metadata": {
        "id": "o0izY6BrsY8U"
      },
      "source": [
        "# Save Model"
      ]
    },
    {
      "cell_type": "code",
      "execution_count": 16,
      "metadata": {
        "id": "BriaW2DnsY8V"
      },
      "outputs": [],
      "source": [
        "timestamp = datetime.datetime.now().strftime('%b-%d-%I:%M%p')\n",
        "if not os.path.exists(model_path):\n",
        "    os.makedirs(model_path)\n",
        "\n",
        "model.save(os.path.join(model_path, timestamp))"
      ]
    },
    {
      "cell_type": "code",
      "source": [
        "model_path"
      ],
      "metadata": {
        "id": "3IADrMxkC9v2",
        "outputId": "04bacb19-f39d-4fdb-de04-dbba0673a9fb",
        "colab": {
          "base_uri": "https://localhost:8080/",
          "height": 36
        }
      },
      "execution_count": 20,
      "outputs": [
        {
          "output_type": "execute_result",
          "data": {
            "text/plain": [
              "'/content/drive/MyDrive/Research/TAVI/Models/Curvature_2_Pressure_MultiViewUNet_I256_B16_LR0.001'"
            ],
            "application/vnd.google.colaboratory.intrinsic+json": {
              "type": "string"
            }
          },
          "metadata": {},
          "execution_count": 20
        }
      ]
    },
    {
      "cell_type": "markdown",
      "metadata": {
        "id": "i_Oi8OvMsY8V"
      },
      "source": [
        "# Save Predictions"
      ]
    },
    {
      "cell_type": "code",
      "execution_count": 17,
      "metadata": {
        "id": "lvBEcrXCsY8V",
        "outputId": "2a04791b-c3a9-4f50-e525-978ee800f030",
        "colab": {
          "base_uri": "https://localhost:8080/"
        }
      },
      "outputs": [
        {
          "output_type": "stream",
          "name": "stderr",
          "text": [
            "\r0it [00:00, ?it/s]"
          ]
        },
        {
          "output_type": "stream",
          "name": "stdout",
          "text": [
            "1/1 [==============================] - 2s 2s/step\n"
          ]
        },
        {
          "output_type": "stream",
          "name": "stderr",
          "text": [
            "\r1it [00:02,  2.94s/it]"
          ]
        },
        {
          "output_type": "stream",
          "name": "stdout",
          "text": [
            "1/1 [==============================] - 0s 33ms/step\n"
          ]
        },
        {
          "output_type": "stream",
          "name": "stderr",
          "text": [
            "\r2it [00:03,  1.56s/it]"
          ]
        },
        {
          "output_type": "stream",
          "name": "stdout",
          "text": [
            "1/1 [==============================] - 0s 38ms/step\n"
          ]
        },
        {
          "output_type": "stream",
          "name": "stderr",
          "text": [
            "\r3it [00:04,  1.10s/it]"
          ]
        },
        {
          "output_type": "stream",
          "name": "stdout",
          "text": [
            "1/1 [==============================] - 0s 32ms/step\n"
          ]
        },
        {
          "output_type": "stream",
          "name": "stderr",
          "text": [
            "\r4it [00:04,  1.14it/s]"
          ]
        },
        {
          "output_type": "stream",
          "name": "stdout",
          "text": [
            "1/1 [==============================] - 0s 32ms/step\n"
          ]
        },
        {
          "output_type": "stream",
          "name": "stderr",
          "text": [
            "\r5it [00:05,  1.34it/s]"
          ]
        },
        {
          "output_type": "stream",
          "name": "stdout",
          "text": [
            "1/1 [==============================] - 0s 20ms/step\n"
          ]
        },
        {
          "output_type": "stream",
          "name": "stderr",
          "text": [
            "\r6it [00:05,  1.61it/s]"
          ]
        },
        {
          "output_type": "stream",
          "name": "stdout",
          "text": [
            "1/1 [==============================] - 0s 22ms/step\n"
          ]
        },
        {
          "output_type": "stream",
          "name": "stderr",
          "text": [
            "\r7it [00:05,  1.83it/s]"
          ]
        },
        {
          "output_type": "stream",
          "name": "stdout",
          "text": [
            "1/1 [==============================] - 0s 20ms/step\n"
          ]
        },
        {
          "output_type": "stream",
          "name": "stderr",
          "text": [
            "\r8it [00:06,  2.03it/s]"
          ]
        },
        {
          "output_type": "stream",
          "name": "stdout",
          "text": [
            "1/1 [==============================] - 0s 20ms/step\n"
          ]
        },
        {
          "output_type": "stream",
          "name": "stderr",
          "text": [
            "\r9it [00:06,  2.11it/s]"
          ]
        },
        {
          "output_type": "stream",
          "name": "stdout",
          "text": [
            "1/1 [==============================] - 0s 22ms/step\n"
          ]
        },
        {
          "output_type": "stream",
          "name": "stderr",
          "text": [
            "\r10it [00:07,  2.16it/s]"
          ]
        },
        {
          "output_type": "stream",
          "name": "stdout",
          "text": [
            "1/1 [==============================] - 0s 26ms/step\n"
          ]
        },
        {
          "output_type": "stream",
          "name": "stderr",
          "text": [
            "\r11it [00:07,  2.13it/s]"
          ]
        },
        {
          "output_type": "stream",
          "name": "stdout",
          "text": [
            "1/1 [==============================] - 0s 20ms/step\n"
          ]
        },
        {
          "output_type": "stream",
          "name": "stderr",
          "text": [
            "\r12it [00:08,  2.16it/s]"
          ]
        },
        {
          "output_type": "stream",
          "name": "stdout",
          "text": [
            "1/1 [==============================] - 0s 30ms/step\n"
          ]
        },
        {
          "output_type": "stream",
          "name": "stderr",
          "text": [
            "\r13it [00:08,  2.18it/s]"
          ]
        },
        {
          "output_type": "stream",
          "name": "stdout",
          "text": [
            "1/1 [==============================] - 0s 25ms/step\n"
          ]
        },
        {
          "output_type": "stream",
          "name": "stderr",
          "text": [
            "\r14it [00:08,  2.27it/s]"
          ]
        },
        {
          "output_type": "stream",
          "name": "stdout",
          "text": [
            "1/1 [==============================] - 0s 19ms/step\n"
          ]
        },
        {
          "output_type": "stream",
          "name": "stderr",
          "text": [
            "\r15it [00:09,  2.36it/s]"
          ]
        },
        {
          "output_type": "stream",
          "name": "stdout",
          "text": [
            "1/1 [==============================] - 0s 24ms/step\n"
          ]
        },
        {
          "output_type": "stream",
          "name": "stderr",
          "text": [
            "\r16it [00:09,  2.33it/s]"
          ]
        },
        {
          "output_type": "stream",
          "name": "stdout",
          "text": [
            "1/1 [==============================] - 0s 21ms/step\n"
          ]
        },
        {
          "output_type": "stream",
          "name": "stderr",
          "text": [
            "\r17it [00:10,  2.40it/s]"
          ]
        },
        {
          "output_type": "stream",
          "name": "stdout",
          "text": [
            "1/1 [==============================] - 0s 20ms/step\n"
          ]
        },
        {
          "output_type": "stream",
          "name": "stderr",
          "text": [
            "\r18it [00:10,  2.44it/s]"
          ]
        },
        {
          "output_type": "stream",
          "name": "stdout",
          "text": [
            "1/1 [==============================] - 0s 19ms/step\n"
          ]
        },
        {
          "output_type": "stream",
          "name": "stderr",
          "text": [
            "\r19it [00:10,  2.42it/s]"
          ]
        },
        {
          "output_type": "stream",
          "name": "stdout",
          "text": [
            "1/1 [==============================] - 0s 19ms/step\n"
          ]
        },
        {
          "output_type": "stream",
          "name": "stderr",
          "text": [
            "\r20it [00:11,  2.48it/s]"
          ]
        },
        {
          "output_type": "stream",
          "name": "stdout",
          "text": [
            "1/1 [==============================] - 0s 19ms/step\n"
          ]
        },
        {
          "output_type": "stream",
          "name": "stderr",
          "text": [
            "\r21it [00:11,  2.50it/s]"
          ]
        },
        {
          "output_type": "stream",
          "name": "stdout",
          "text": [
            "1/1 [==============================] - 0s 20ms/step\n"
          ]
        },
        {
          "output_type": "stream",
          "name": "stderr",
          "text": [
            "\r22it [00:12,  2.51it/s]"
          ]
        },
        {
          "output_type": "stream",
          "name": "stdout",
          "text": [
            "1/1 [==============================] - 0s 25ms/step\n"
          ]
        },
        {
          "output_type": "stream",
          "name": "stderr",
          "text": [
            "\r23it [00:12,  2.53it/s]"
          ]
        },
        {
          "output_type": "stream",
          "name": "stdout",
          "text": [
            "1/1 [==============================] - 0s 20ms/step\n"
          ]
        },
        {
          "output_type": "stream",
          "name": "stderr",
          "text": [
            "\r24it [00:12,  2.54it/s]"
          ]
        },
        {
          "output_type": "stream",
          "name": "stdout",
          "text": [
            "1/1 [==============================] - 0s 19ms/step\n"
          ]
        },
        {
          "output_type": "stream",
          "name": "stderr",
          "text": [
            "\r25it [00:13,  2.50it/s]"
          ]
        },
        {
          "output_type": "stream",
          "name": "stdout",
          "text": [
            "1/1 [==============================] - 0s 20ms/step\n"
          ]
        },
        {
          "output_type": "stream",
          "name": "stderr",
          "text": [
            "\r26it [00:13,  2.52it/s]"
          ]
        },
        {
          "output_type": "stream",
          "name": "stdout",
          "text": [
            "1/1 [==============================] - 0s 23ms/step\n"
          ]
        },
        {
          "output_type": "stream",
          "name": "stderr",
          "text": [
            "\r27it [00:14,  2.55it/s]"
          ]
        },
        {
          "output_type": "stream",
          "name": "stdout",
          "text": [
            "1/1 [==============================] - 0s 22ms/step\n"
          ]
        },
        {
          "output_type": "stream",
          "name": "stderr",
          "text": [
            "\r28it [00:14,  2.58it/s]"
          ]
        },
        {
          "output_type": "stream",
          "name": "stdout",
          "text": [
            "1/1 [==============================] - 0s 20ms/step\n"
          ]
        },
        {
          "output_type": "stream",
          "name": "stderr",
          "text": [
            "\r29it [00:14,  2.57it/s]"
          ]
        },
        {
          "output_type": "stream",
          "name": "stdout",
          "text": [
            "1/1 [==============================] - 0s 24ms/step\n"
          ]
        },
        {
          "output_type": "stream",
          "name": "stderr",
          "text": [
            "\r30it [00:15,  2.37it/s]"
          ]
        },
        {
          "output_type": "stream",
          "name": "stdout",
          "text": [
            "1/1 [==============================] - 0s 31ms/step\n"
          ]
        },
        {
          "output_type": "stream",
          "name": "stderr",
          "text": [
            "\r31it [00:15,  2.10it/s]"
          ]
        },
        {
          "output_type": "stream",
          "name": "stdout",
          "text": [
            "1/1 [==============================] - 0s 31ms/step\n"
          ]
        },
        {
          "output_type": "stream",
          "name": "stderr",
          "text": [
            "\r32it [00:16,  1.96it/s]"
          ]
        },
        {
          "output_type": "stream",
          "name": "stdout",
          "text": [
            "1/1 [==============================] - 0s 40ms/step\n"
          ]
        },
        {
          "output_type": "stream",
          "name": "stderr",
          "text": [
            "\r33it [00:17,  1.81it/s]"
          ]
        },
        {
          "output_type": "stream",
          "name": "stdout",
          "text": [
            "1/1 [==============================] - 0s 28ms/step\n"
          ]
        },
        {
          "output_type": "stream",
          "name": "stderr",
          "text": [
            "\r34it [00:17,  1.76it/s]"
          ]
        },
        {
          "output_type": "stream",
          "name": "stdout",
          "text": [
            "1/1 [==============================] - 0s 33ms/step\n"
          ]
        },
        {
          "output_type": "stream",
          "name": "stderr",
          "text": [
            "\r35it [00:18,  1.77it/s]"
          ]
        },
        {
          "output_type": "stream",
          "name": "stdout",
          "text": [
            "1/1 [==============================] - 0s 28ms/step\n"
          ]
        },
        {
          "output_type": "stream",
          "name": "stderr",
          "text": [
            "\r36it [00:19,  1.66it/s]"
          ]
        },
        {
          "output_type": "stream",
          "name": "stdout",
          "text": [
            "1/1 [==============================] - 0s 30ms/step\n"
          ]
        },
        {
          "output_type": "stream",
          "name": "stderr",
          "text": [
            "\r37it [00:19,  1.61it/s]"
          ]
        },
        {
          "output_type": "stream",
          "name": "stdout",
          "text": [
            "1/1 [==============================] - 0s 29ms/step\n"
          ]
        },
        {
          "output_type": "stream",
          "name": "stderr",
          "text": [
            "\r38it [00:20,  1.64it/s]"
          ]
        },
        {
          "output_type": "stream",
          "name": "stdout",
          "text": [
            "1/1 [==============================] - 0s 30ms/step\n"
          ]
        },
        {
          "output_type": "stream",
          "name": "stderr",
          "text": [
            "\r39it [00:20,  1.62it/s]"
          ]
        },
        {
          "output_type": "stream",
          "name": "stdout",
          "text": [
            "1/1 [==============================] - 0s 31ms/step\n"
          ]
        },
        {
          "output_type": "stream",
          "name": "stderr",
          "text": [
            "\r40it [00:21,  1.65it/s]"
          ]
        },
        {
          "output_type": "stream",
          "name": "stdout",
          "text": [
            "1/1 [==============================] - 0s 20ms/step\n"
          ]
        },
        {
          "output_type": "stream",
          "name": "stderr",
          "text": [
            "\r41it [00:21,  1.80it/s]"
          ]
        },
        {
          "output_type": "stream",
          "name": "stdout",
          "text": [
            "1/1 [==============================] - 0s 19ms/step\n"
          ]
        },
        {
          "output_type": "stream",
          "name": "stderr",
          "text": [
            "\r42it [00:22,  1.99it/s]"
          ]
        },
        {
          "output_type": "stream",
          "name": "stdout",
          "text": [
            "1/1 [==============================] - 0s 20ms/step\n"
          ]
        },
        {
          "output_type": "stream",
          "name": "stderr",
          "text": [
            "\r43it [00:22,  2.15it/s]"
          ]
        },
        {
          "output_type": "stream",
          "name": "stdout",
          "text": [
            "1/1 [==============================] - 0s 20ms/step\n"
          ]
        },
        {
          "output_type": "stream",
          "name": "stderr",
          "text": [
            "\r44it [00:23,  2.25it/s]"
          ]
        },
        {
          "output_type": "stream",
          "name": "stdout",
          "text": [
            "1/1 [==============================] - 0s 24ms/step\n"
          ]
        },
        {
          "output_type": "stream",
          "name": "stderr",
          "text": [
            "\r45it [00:23,  2.35it/s]"
          ]
        },
        {
          "output_type": "stream",
          "name": "stdout",
          "text": [
            "1/1 [==============================] - 0s 19ms/step\n"
          ]
        },
        {
          "output_type": "stream",
          "name": "stderr",
          "text": [
            "\r46it [00:23,  2.38it/s]"
          ]
        },
        {
          "output_type": "stream",
          "name": "stdout",
          "text": [
            "1/1 [==============================] - 0s 20ms/step\n"
          ]
        },
        {
          "output_type": "stream",
          "name": "stderr",
          "text": [
            "\r47it [00:24,  2.45it/s]"
          ]
        },
        {
          "output_type": "stream",
          "name": "stdout",
          "text": [
            "1/1 [==============================] - 0s 19ms/step\n"
          ]
        },
        {
          "output_type": "stream",
          "name": "stderr",
          "text": [
            "\r48it [00:24,  2.50it/s]"
          ]
        },
        {
          "output_type": "stream",
          "name": "stdout",
          "text": [
            "1/1 [==============================] - 0s 19ms/step\n"
          ]
        },
        {
          "output_type": "stream",
          "name": "stderr",
          "text": [
            "\r49it [00:25,  2.50it/s]"
          ]
        },
        {
          "output_type": "stream",
          "name": "stdout",
          "text": [
            "1/1 [==============================] - 0s 21ms/step\n"
          ]
        },
        {
          "output_type": "stream",
          "name": "stderr",
          "text": [
            "\r50it [00:25,  2.50it/s]"
          ]
        },
        {
          "output_type": "stream",
          "name": "stdout",
          "text": [
            "1/1 [==============================] - 0s 21ms/step\n"
          ]
        },
        {
          "output_type": "stream",
          "name": "stderr",
          "text": [
            "\r51it [00:26,  1.83it/s]"
          ]
        },
        {
          "output_type": "stream",
          "name": "stdout",
          "text": [
            "1/1 [==============================] - 0s 22ms/step\n"
          ]
        },
        {
          "output_type": "stream",
          "name": "stderr",
          "text": [
            "\r52it [00:26,  2.01it/s]"
          ]
        },
        {
          "output_type": "stream",
          "name": "stdout",
          "text": [
            "1/1 [==============================] - 0s 22ms/step\n"
          ]
        },
        {
          "output_type": "stream",
          "name": "stderr",
          "text": [
            "\r53it [00:27,  2.16it/s]"
          ]
        },
        {
          "output_type": "stream",
          "name": "stdout",
          "text": [
            "1/1 [==============================] - 0s 22ms/step\n"
          ]
        },
        {
          "output_type": "stream",
          "name": "stderr",
          "text": [
            "\r54it [00:27,  2.25it/s]"
          ]
        },
        {
          "output_type": "stream",
          "name": "stdout",
          "text": [
            "1/1 [==============================] - 0s 22ms/step\n"
          ]
        },
        {
          "output_type": "stream",
          "name": "stderr",
          "text": [
            "\r55it [00:27,  2.35it/s]"
          ]
        },
        {
          "output_type": "stream",
          "name": "stdout",
          "text": [
            "1/1 [==============================] - 0s 21ms/step\n"
          ]
        },
        {
          "output_type": "stream",
          "name": "stderr",
          "text": [
            "\r56it [00:28,  2.41it/s]"
          ]
        },
        {
          "output_type": "stream",
          "name": "stdout",
          "text": [
            "1/1 [==============================] - 0s 21ms/step\n"
          ]
        },
        {
          "output_type": "stream",
          "name": "stderr",
          "text": [
            "\r57it [00:28,  2.47it/s]"
          ]
        },
        {
          "output_type": "stream",
          "name": "stdout",
          "text": [
            "1/1 [==============================] - 0s 20ms/step\n"
          ]
        },
        {
          "output_type": "stream",
          "name": "stderr",
          "text": [
            "\r58it [00:29,  2.50it/s]"
          ]
        },
        {
          "output_type": "stream",
          "name": "stdout",
          "text": [
            "1/1 [==============================] - 0s 20ms/step\n"
          ]
        },
        {
          "output_type": "stream",
          "name": "stderr",
          "text": [
            "\r59it [00:29,  2.47it/s]"
          ]
        },
        {
          "output_type": "stream",
          "name": "stdout",
          "text": [
            "1/1 [==============================] - 0s 22ms/step\n"
          ]
        },
        {
          "output_type": "stream",
          "name": "stderr",
          "text": [
            "\r60it [00:29,  2.52it/s]"
          ]
        },
        {
          "output_type": "stream",
          "name": "stdout",
          "text": [
            "1/1 [==============================] - 0s 20ms/step\n"
          ]
        },
        {
          "output_type": "stream",
          "name": "stderr",
          "text": [
            "\r61it [00:30,  2.53it/s]"
          ]
        },
        {
          "output_type": "stream",
          "name": "stdout",
          "text": [
            "1/1 [==============================] - 0s 22ms/step\n"
          ]
        },
        {
          "output_type": "stream",
          "name": "stderr",
          "text": [
            "\r62it [00:30,  2.56it/s]"
          ]
        },
        {
          "output_type": "stream",
          "name": "stdout",
          "text": [
            "1/1 [==============================] - 0s 20ms/step\n"
          ]
        },
        {
          "output_type": "stream",
          "name": "stderr",
          "text": [
            "\r63it [00:30,  2.58it/s]"
          ]
        },
        {
          "output_type": "stream",
          "name": "stdout",
          "text": [
            "1/1 [==============================] - 0s 27ms/step\n"
          ]
        },
        {
          "output_type": "stream",
          "name": "stderr",
          "text": [
            "\r64it [00:31,  2.59it/s]"
          ]
        },
        {
          "output_type": "stream",
          "name": "stdout",
          "text": [
            "1/1 [==============================] - 0s 20ms/step\n"
          ]
        },
        {
          "output_type": "stream",
          "name": "stderr",
          "text": [
            "\r65it [00:31,  2.34it/s]"
          ]
        },
        {
          "output_type": "stream",
          "name": "stdout",
          "text": [
            "1/1 [==============================] - 0s 30ms/step\n"
          ]
        },
        {
          "output_type": "stream",
          "name": "stderr",
          "text": [
            "\r66it [00:32,  2.06it/s]"
          ]
        },
        {
          "output_type": "stream",
          "name": "stdout",
          "text": [
            "1/1 [==============================] - 0s 28ms/step\n"
          ]
        },
        {
          "output_type": "stream",
          "name": "stderr",
          "text": [
            "\r67it [00:33,  2.00it/s]"
          ]
        },
        {
          "output_type": "stream",
          "name": "stdout",
          "text": [
            "1/1 [==============================] - 0s 43ms/step\n"
          ]
        },
        {
          "output_type": "stream",
          "name": "stderr",
          "text": [
            "\r68it [00:33,  1.84it/s]"
          ]
        },
        {
          "output_type": "stream",
          "name": "stdout",
          "text": [
            "1/1 [==============================] - 0s 29ms/step\n"
          ]
        },
        {
          "output_type": "stream",
          "name": "stderr",
          "text": [
            "\r69it [00:34,  1.79it/s]"
          ]
        },
        {
          "output_type": "stream",
          "name": "stdout",
          "text": [
            "1/1 [==============================] - 0s 32ms/step\n"
          ]
        },
        {
          "output_type": "stream",
          "name": "stderr",
          "text": [
            "\r70it [00:34,  1.76it/s]"
          ]
        },
        {
          "output_type": "stream",
          "name": "stdout",
          "text": [
            "1/1 [==============================] - 0s 31ms/step\n"
          ]
        },
        {
          "output_type": "stream",
          "name": "stderr",
          "text": [
            "\r71it [00:35,  1.75it/s]"
          ]
        },
        {
          "output_type": "stream",
          "name": "stdout",
          "text": [
            "1/1 [==============================] - 0s 31ms/step\n"
          ]
        },
        {
          "output_type": "stream",
          "name": "stderr",
          "text": [
            "\r72it [00:36,  1.76it/s]"
          ]
        },
        {
          "output_type": "stream",
          "name": "stdout",
          "text": [
            "1/1 [==============================] - 0s 35ms/step\n"
          ]
        },
        {
          "output_type": "stream",
          "name": "stderr",
          "text": [
            "\r73it [00:36,  1.77it/s]"
          ]
        },
        {
          "output_type": "stream",
          "name": "stdout",
          "text": [
            "1/1 [==============================] - 0s 34ms/step\n"
          ]
        },
        {
          "output_type": "stream",
          "name": "stderr",
          "text": [
            "\r74it [00:37,  1.79it/s]"
          ]
        },
        {
          "output_type": "stream",
          "name": "stdout",
          "text": [
            "1/1 [==============================] - 0s 37ms/step\n"
          ]
        },
        {
          "output_type": "stream",
          "name": "stderr",
          "text": [
            "\r75it [00:37,  1.71it/s]"
          ]
        },
        {
          "output_type": "stream",
          "name": "stdout",
          "text": [
            "1/1 [==============================] - 0s 32ms/step\n"
          ]
        },
        {
          "output_type": "stream",
          "name": "stderr",
          "text": [
            "\r76it [00:38,  1.83it/s]"
          ]
        },
        {
          "output_type": "stream",
          "name": "stdout",
          "text": [
            "1/1 [==============================] - 0s 20ms/step\n"
          ]
        },
        {
          "output_type": "stream",
          "name": "stderr",
          "text": [
            "\r77it [00:38,  2.00it/s]"
          ]
        },
        {
          "output_type": "stream",
          "name": "stdout",
          "text": [
            "1/1 [==============================] - 0s 22ms/step\n"
          ]
        },
        {
          "output_type": "stream",
          "name": "stderr",
          "text": [
            "\r78it [00:39,  2.13it/s]"
          ]
        },
        {
          "output_type": "stream",
          "name": "stdout",
          "text": [
            "1/1 [==============================] - 0s 22ms/step\n"
          ]
        },
        {
          "output_type": "stream",
          "name": "stderr",
          "text": [
            "\r79it [00:39,  2.24it/s]"
          ]
        },
        {
          "output_type": "stream",
          "name": "stdout",
          "text": [
            "1/1 [==============================] - 0s 22ms/step\n"
          ]
        },
        {
          "output_type": "stream",
          "name": "stderr",
          "text": [
            "\r80it [00:39,  2.33it/s]"
          ]
        },
        {
          "output_type": "stream",
          "name": "stdout",
          "text": [
            "1/1 [==============================] - 0s 25ms/step\n"
          ]
        },
        {
          "output_type": "stream",
          "name": "stderr",
          "text": [
            "\r81it [00:40,  2.40it/s]"
          ]
        },
        {
          "output_type": "stream",
          "name": "stdout",
          "text": [
            "1/1 [==============================] - 0s 19ms/step\n"
          ]
        },
        {
          "output_type": "stream",
          "name": "stderr",
          "text": [
            "\r82it [00:40,  2.45it/s]"
          ]
        },
        {
          "output_type": "stream",
          "name": "stdout",
          "text": [
            "1/1 [==============================] - 0s 21ms/step\n"
          ]
        },
        {
          "output_type": "stream",
          "name": "stderr",
          "text": [
            "\r83it [00:40,  2.50it/s]"
          ]
        },
        {
          "output_type": "stream",
          "name": "stdout",
          "text": [
            "1/1 [==============================] - 0s 22ms/step\n"
          ]
        },
        {
          "output_type": "stream",
          "name": "stderr",
          "text": [
            "\r84it [00:41,  2.54it/s]"
          ]
        },
        {
          "output_type": "stream",
          "name": "stdout",
          "text": [
            "1/1 [==============================] - 0s 19ms/step\n"
          ]
        },
        {
          "output_type": "stream",
          "name": "stderr",
          "text": [
            "\r85it [00:41,  2.55it/s]"
          ]
        },
        {
          "output_type": "stream",
          "name": "stdout",
          "text": [
            "1/1 [==============================] - 0s 19ms/step\n"
          ]
        },
        {
          "output_type": "stream",
          "name": "stderr",
          "text": [
            "\r86it [00:42,  2.57it/s]"
          ]
        },
        {
          "output_type": "stream",
          "name": "stdout",
          "text": [
            "1/1 [==============================] - 0s 19ms/step\n"
          ]
        },
        {
          "output_type": "stream",
          "name": "stderr",
          "text": [
            "\r87it [00:42,  2.56it/s]"
          ]
        },
        {
          "output_type": "stream",
          "name": "stdout",
          "text": [
            "1/1 [==============================] - 0s 20ms/step\n"
          ]
        },
        {
          "output_type": "stream",
          "name": "stderr",
          "text": [
            "\r88it [00:42,  2.50it/s]"
          ]
        },
        {
          "output_type": "stream",
          "name": "stdout",
          "text": [
            "1/1 [==============================] - 0s 19ms/step\n"
          ]
        },
        {
          "output_type": "stream",
          "name": "stderr",
          "text": [
            "\r89it [00:43,  2.53it/s]"
          ]
        },
        {
          "output_type": "stream",
          "name": "stdout",
          "text": [
            "1/1 [==============================] - 0s 19ms/step\n"
          ]
        },
        {
          "output_type": "stream",
          "name": "stderr",
          "text": [
            "\r90it [00:43,  2.51it/s]"
          ]
        },
        {
          "output_type": "stream",
          "name": "stdout",
          "text": [
            "1/1 [==============================] - 0s 20ms/step\n"
          ]
        },
        {
          "output_type": "stream",
          "name": "stderr",
          "text": [
            "\r91it [00:44,  2.53it/s]"
          ]
        },
        {
          "output_type": "stream",
          "name": "stdout",
          "text": [
            "1/1 [==============================] - 0s 21ms/step\n"
          ]
        },
        {
          "output_type": "stream",
          "name": "stderr",
          "text": [
            "\r92it [00:44,  2.57it/s]"
          ]
        },
        {
          "output_type": "stream",
          "name": "stdout",
          "text": [
            "1/1 [==============================] - 0s 19ms/step\n"
          ]
        },
        {
          "output_type": "stream",
          "name": "stderr",
          "text": [
            "\r93it [00:44,  2.57it/s]"
          ]
        },
        {
          "output_type": "stream",
          "name": "stdout",
          "text": [
            "1/1 [==============================] - 0s 21ms/step\n"
          ]
        },
        {
          "output_type": "stream",
          "name": "stderr",
          "text": [
            "\r94it [00:45,  2.53it/s]"
          ]
        },
        {
          "output_type": "stream",
          "name": "stdout",
          "text": [
            "1/1 [==============================] - 0s 22ms/step\n"
          ]
        },
        {
          "output_type": "stream",
          "name": "stderr",
          "text": [
            "\r95it [00:45,  2.47it/s]"
          ]
        },
        {
          "output_type": "stream",
          "name": "stdout",
          "text": [
            "1/1 [==============================] - 0s 20ms/step\n"
          ]
        },
        {
          "output_type": "stream",
          "name": "stderr",
          "text": [
            "96it [00:46,  2.08it/s]\n"
          ]
        }
      ],
      "source": [
        "test_ds_unbatched = test_batches.unbatch()\n",
        "\n",
        "pred_path = os.path.join(PRED_PATH, EXP_NAME, timestamp)\n",
        "if not os.path.exists(pred_path):\n",
        "    os.makedirs(pred_path)\n",
        "\n",
        "metrics = pd.DataFrame()\n",
        "\n",
        "for idx, (input, target) in enumerate(tqdm(test_ds_unbatched)):\n",
        "\n",
        "    target = tf.squeeze(target).numpy()\n",
        "    prediction = tf.squeeze(\n",
        "        model.predict(\n",
        "            tf.expand_dims(input, axis=0)\n",
        "        )\n",
        "    )\n",
        "\n",
        "    channel_sum = tf.expand_dims(tf.reduce_sum(target, axis=-1), axis=-1)\n",
        "    white_mask = tf.reduce_all(tf.equal(channel_sum, 3.0), axis=-1)\n",
        "    expanded_mask = tf.expand_dims(white_mask, axis=-1)\n",
        "    expanded_mask = tf.tile(expanded_mask, [1, 1, 3])\n",
        "    prediction = tf.where(expanded_mask, tf.ones_like(prediction), prediction)\n",
        "\n",
        "    plt.figure(figsize=(7, 14))\n",
        "    plt.subplot(2, 1, 1)\n",
        "    plt.imshow(target)\n",
        "    plt.axis(\"off\")\n",
        "    plt.tight_layout()\n",
        "\n",
        "    plt.subplot(2, 1, 2)\n",
        "    plt.imshow(prediction)\n",
        "    plt.axis(\"off\")\n",
        "    plt.tight_layout()\n",
        "    plt.savefig(os.path.join(pred_path, f\"{idx}.png\"))\n",
        "    plt.close()\n"
      ]
    },
    {
      "cell_type": "markdown",
      "metadata": {
        "id": "7X8uip-GsY8V"
      },
      "source": [
        "# Loss Curve"
      ]
    },
    {
      "cell_type": "code",
      "execution_count": 18,
      "metadata": {
        "id": "uSb9pzrasY8W"
      },
      "outputs": [],
      "source": [
        "try:\n",
        "    loss = history.history['loss']\n",
        "    val_loss = history.history['val_loss']\n",
        "\n",
        "    plt.figure(figsize=(8, 6))\n",
        "    plt.plot(loss, label='Training Loss')\n",
        "    plt.plot(val_loss, label='Validation Loss')\n",
        "    plt.legend(loc='upper right')\n",
        "    plt.ylabel('Attention MAE')\n",
        "    plt.title('Training and Validation Loss')\n",
        "    plt.xlabel('Epoch')\n",
        "    plt.tight_layout()\n",
        "    plt.savefig(os.path.join(model_path, timestamp + \".png\"))\n",
        "    plt.close()\n",
        "except:\n",
        "    print(\"Model did not finish training\")\n"
      ]
    },
    {
      "cell_type": "markdown",
      "metadata": {
        "id": "1hMNNE0VsY8W"
      },
      "source": [
        "# Metrics"
      ]
    },
    {
      "cell_type": "code",
      "execution_count": 19,
      "metadata": {
        "id": "QGXSmlicsY8W",
        "outputId": "125066e5-1113-4c11-d43e-cb2e5e2311f9",
        "colab": {
          "base_uri": "https://localhost:8080/"
        }
      },
      "outputs": [
        {
          "output_type": "stream",
          "name": "stdout",
          "text": [
            "6/6 [==============================] - 1s 157ms/step - loss: 5.4965e-04 - attention_mae: 0.0062\n"
          ]
        },
        {
          "output_type": "execute_result",
          "data": {
            "text/plain": [
              "[0.000549649412278086, 0.006199168507009745]"
            ]
          },
          "metadata": {},
          "execution_count": 19
        }
      ],
      "source": [
        "model.evaluate(test_batches)\n"
      ]
    }
  ],
  "metadata": {
    "kernelspec": {
      "display_name": "Python 3",
      "name": "python3"
    },
    "language_info": {
      "codemirror_mode": {
        "name": "ipython",
        "version": 3
      },
      "file_extension": ".py",
      "mimetype": "text/x-python",
      "name": "python",
      "nbconvert_exporter": "python",
      "pygments_lexer": "ipython3",
      "version": "3.10.9"
    },
    "orig_nbformat": 4,
    "colab": {
      "provenance": [],
      "toc_visible": true,
      "gpuType": "T4",
      "include_colab_link": true
    },
    "accelerator": "GPU"
  },
  "nbformat": 4,
  "nbformat_minor": 0
}