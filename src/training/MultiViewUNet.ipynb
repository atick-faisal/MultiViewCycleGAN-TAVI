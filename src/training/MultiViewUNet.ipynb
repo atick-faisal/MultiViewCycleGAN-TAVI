{
  "cells": [
    {
      "cell_type": "markdown",
      "metadata": {
        "colab_type": "text",
        "id": "view-in-github"
      },
      "source": [
        "<a href=\"https://colab.research.google.com/github/atick-faisal/MultiViewUNet-TAVI/blob/main/src/training/MultiViewUNet.ipynb\" target=\"_parent\"><img src=\"https://colab.research.google.com/assets/colab-badge.svg\" alt=\"Open In Colab\"/></a>"
      ]
    },
    {
      "cell_type": "code",
      "execution_count": 1,
      "metadata": {},
      "outputs": [
        {
          "data": {
            "text/plain": [
              "[PhysicalDevice(name='/physical_device:GPU:0', device_type='GPU')]"
            ]
          },
          "execution_count": 1,
          "metadata": {},
          "output_type": "execute_result"
        }
      ],
      "source": [
        "import tensorflow as tf\n",
        "tf.config.list_physical_devices('GPU')"
      ]
    },
    {
      "cell_type": "code",
      "execution_count": 2,
      "metadata": {},
      "outputs": [
        {
          "data": {
            "text/plain": [
              "'2.10.1'"
            ]
          },
          "execution_count": 2,
          "metadata": {},
          "output_type": "execute_result"
        }
      ],
      "source": [
        "import tensorflow as tf\n",
        "tf.__version__"
      ]
    },
    {
      "cell_type": "markdown",
      "metadata": {
        "id": "0BWh-7swsY8G"
      },
      "source": [
        "# Colab Info"
      ]
    },
    {
      "cell_type": "code",
      "execution_count": 3,
      "metadata": {
<<<<<<< HEAD
=======
        "id": "qKSzwmmpsY8K",
        "outputId": "50757d05-420d-4c5d-8b7b-520ebef34962",
>>>>>>> 7d1275fb32dc40a8572b4960c1ee2b78f9ead99a
        "colab": {
          "base_uri": "https://localhost:8080/"
        },
        "id": "qKSzwmmpsY8K",
        "outputId": "37b7ce45-561b-4b90-f634-0e3600468860"
      },
      "outputs": [
        {
          "name": "stdout",
          "output_type": "stream",
          "text": [
<<<<<<< HEAD
            "Sun Nov 12 02:00:27 2023       \n",
            "+---------------------------------------------------------------------------------------+\n",
            "| NVIDIA-SMI 536.23                 Driver Version: 536.23       CUDA Version: 12.2     |\n",
            "|-----------------------------------------+----------------------+----------------------+\n",
            "| GPU  Name                     TCC/WDDM  | Bus-Id        Disp.A | Volatile Uncorr. ECC |\n",
            "| Fan  Temp   Perf          Pwr:Usage/Cap |         Memory-Usage | GPU-Util  Compute M. |\n",
            "|                                         |                      |               MIG M. |\n",
            "|=========================================+======================+======================|\n",
            "|   0  NVIDIA GeForce RTX 3090      WDDM  | 00000000:04:00.0 Off |                  N/A |\n",
            "|  0%   50C    P8              27W / 350W |   1109MiB / 24576MiB |     20%      Default |\n",
            "|                                         |                      |                  N/A |\n",
            "+-----------------------------------------+----------------------+----------------------+\n",
            "                                                                                         \n",
            "+---------------------------------------------------------------------------------------+\n",
            "| Processes:                                                                            |\n",
            "|  GPU   GI   CI        PID   Type   Process name                            GPU Memory |\n",
            "|        ID   ID                                                             Usage      |\n",
            "|=======================================================================================|\n",
            "|    0   N/A  N/A      1888    C+G   C:\\Windows\\System32\\dwm.exe               N/A      |\n",
            "|    0   N/A  N/A      4032    C+G   ...CBS_cw5n1h2txyewy\\TextInputHost.exe    N/A      |\n",
            "|    0   N/A  N/A      4448    C+G   ...ekyb3d8bbwe\\PhoneExperienceHost.exe    N/A      |\n",
            "|    0   N/A  N/A      4904    C+G   ...1.0_x64__8wekyb3d8bbwe\\Video.UI.exe    N/A      |\n",
            "|    0   N/A  N/A      7884    C+G   C:\\Windows\\explorer.exe                   N/A      |\n",
            "|    0   N/A  N/A     10216    C+G   ...2txyewy\\StartMenuExperienceHost.exe    N/A      |\n",
            "|    0   N/A  N/A     10748    C+G   ...siveControlPanel\\SystemSettings.exe    N/A      |\n",
            "|    0   N/A  N/A     10856    C+G   ....Search_cw5n1h2txyewy\\SearchApp.exe    N/A      |\n",
            "|    0   N/A  N/A     11300    C+G   ...5n1h2txyewy\\ShellExperienceHost.exe    N/A      |\n",
            "|    0   N/A  N/A     12196    C+G   ...t.LockApp_cw5n1h2txyewy\\LockApp.exe    N/A      |\n",
            "|    0   N/A  N/A     14532    C+G   ...cal\\Microsoft\\OneDrive\\OneDrive.exe    N/A      |\n",
            "|    0   N/A  N/A     15308    C+G   ...crosoft\\Edge\\Application\\msedge.exe    N/A      |\n",
            "|    0   N/A  N/A     18516    C+G   ...Programs\\Microsoft VS Code\\Code.exe    N/A      |\n",
            "+---------------------------------------------------------------------------------------+\n",
            "Your runtime has 68.6 gigabytes of available RAM\n",
=======
            "Sun Nov 12 10:30:26 2023       \n",
            "+-----------------------------------------------------------------------------+\n",
            "| NVIDIA-SMI 525.105.17   Driver Version: 525.105.17   CUDA Version: 12.0     |\n",
            "|-------------------------------+----------------------+----------------------+\n",
            "| GPU  Name        Persistence-M| Bus-Id        Disp.A | Volatile Uncorr. ECC |\n",
            "| Fan  Temp  Perf  Pwr:Usage/Cap|         Memory-Usage | GPU-Util  Compute M. |\n",
            "|                               |                      |               MIG M. |\n",
            "|===============================+======================+======================|\n",
            "|   0  Tesla T4            Off  | 00000000:00:04.0 Off |                    0 |\n",
            "| N/A   62C    P0    28W /  70W |      0MiB / 15360MiB |      0%      Default |\n",
            "|                               |                      |                  N/A |\n",
            "+-------------------------------+----------------------+----------------------+\n",
            "                                                                               \n",
            "+-----------------------------------------------------------------------------+\n",
            "| Processes:                                                                  |\n",
            "|  GPU   GI   CI        PID   Type   Process name                  GPU Memory |\n",
            "|        ID   ID                                                   Usage      |\n",
            "|=============================================================================|\n",
            "|  No running processes found                                                 |\n",
            "+-----------------------------------------------------------------------------+\n",
            "Your runtime has 13.6 gigabytes of available RAM\n",
>>>>>>> 7d1275fb32dc40a8572b4960c1ee2b78f9ead99a
            "\n",
            "You are using a high-RAM runtime!\n"
          ]
        }
      ],
      "source": [
        "from psutil import virtual_memory\n",
        "\n",
        "gpu_info = !nvidia-smi\n",
        "gpu_info = '\\n'.join(gpu_info)\n",
        "if gpu_info.find('failed') >= 0:\n",
        "    print('Not connected to a GPU')\n",
        "else:\n",
        "    print(gpu_info)\n",
        "\n",
        "\n",
        "ram_gb = virtual_memory().total / 1e9\n",
        "print('Your runtime has {:.1f} gigabytes of available RAM\\n'.format(ram_gb))\n",
        "\n",
        "if ram_gb < 20:\n",
        "    print('Not using a high-RAM runtime')\n",
        "else:\n",
        "    print('You are using a high-RAM runtime!')\n"
      ]
    },
    {
      "cell_type": "markdown",
      "metadata": {
        "id": "1k2olxt7sY8M"
      },
      "source": [
        "# Fix for GDrive"
      ]
    },
    {
      "cell_type": "code",
      "execution_count": 4,
      "metadata": {
        "id": "WR_aYJ7WsY8M"
      },
      "outputs": [],
      "source": [
        "# !pip install -U --no-cache-dir gdown --pre > /dev/null\n"
      ]
    },
    {
      "cell_type": "markdown",
      "metadata": {
        "id": "jm5cGHp0tGvo"
      },
      "source": [
        "# Mount GDrive"
      ]
    },
    {
      "cell_type": "code",
      "execution_count": 5,
      "metadata": {
<<<<<<< HEAD
=======
        "id": "0hZ7iR0AtJYj",
        "outputId": "606e56d2-0a84-43a2-82f3-1d3869df2f79",
>>>>>>> 7d1275fb32dc40a8572b4960c1ee2b78f9ead99a
        "colab": {
          "base_uri": "https://localhost:8080/"
        },
        "id": "0hZ7iR0AtJYj",
        "outputId": "b21a419c-17f6-439e-9950-d43415f1ff78"
      },
<<<<<<< HEAD
      "outputs": [],
      "source": [
        "# from google.colab import drive\n",
        "# drive.mount('/content/drive')\n"
=======
      "execution_count": 3,
      "outputs": [
        {
          "output_type": "stream",
          "name": "stdout",
          "text": [
            "Drive already mounted at /content/drive; to attempt to forcibly remount, call drive.mount(\"/content/drive\", force_remount=True).\n"
          ]
        }
>>>>>>> 7d1275fb32dc40a8572b4960c1ee2b78f9ead99a
      ]
    },
    {
      "cell_type": "markdown",
      "metadata": {
        "id": "ZjzwtNU2sY8M"
      },
      "source": [
        "# Download and Extract Dataset"
      ]
    },
    {
      "cell_type": "code",
      "execution_count": 6,
      "metadata": {
<<<<<<< HEAD
=======
        "id": "9RSDCIWlsY8N",
        "outputId": "d8fc5925-ad9c-4f68-a6de-a4720ee3a217",
>>>>>>> 7d1275fb32dc40a8572b4960c1ee2b78f9ead99a
        "colab": {
          "base_uri": "https://localhost:8080/"
        },
        "id": "9RSDCIWlsY8N",
        "outputId": "546a5497-bb03-4088-89b8-728669242002"
      },
<<<<<<< HEAD
      "outputs": [],
      "source": [
        "# !gdown \"1ed_j7LQTFCU_pPsc7Ep7snm7PBrYiP11\"\n",
        "# !unzip -o \"TAVI_r13.zip\" > /dev/null\n"
=======
      "outputs": [
        {
          "output_type": "stream",
          "name": "stdout",
          "text": [
            "Downloading...\n",
            "From (uriginal): https://drive.google.com/uc?id=1ed_j7LQTFCU_pPsc7Ep7snm7PBrYiP11\n",
            "From (redirected): https://drive.google.com/uc?id=1ed_j7LQTFCU_pPsc7Ep7snm7PBrYiP11&confirm=t&uuid=8f1c9718-714e-4757-9317-7a04e618e0f6\n",
            "To: /content/TAVI_r13.zip\n",
            "100% 116M/116M [00:00<00:00, 123MB/s]\n"
          ]
        }
      ],
      "source": [
        "!gdown \"1ed_j7LQTFCU_pPsc7Ep7snm7PBrYiP11\"\n",
        "!unzip -o \"TAVI_r13.zip\" > /dev/null\n"
>>>>>>> 7d1275fb32dc40a8572b4960c1ee2b78f9ead99a
      ]
    },
    {
      "cell_type": "markdown",
      "metadata": {
        "id": "yFAlpIdMsY8N"
      },
      "source": [
        "# Imports"
      ]
    },
    {
      "cell_type": "code",
      "execution_count": 7,
      "metadata": {
        "id": "xiEKM9gZsY8N"
      },
      "outputs": [],
      "source": [
        "import os\n",
        "import datetime\n",
        "import matplotlib\n",
        "import pandas as pd\n",
        "import tensorflow as tf\n",
        "import matplotlib.pyplot as plt\n",
        "\n",
        "from tqdm import tqdm\n",
        "\n",
        "matplotlib.use('Agg')\n",
        "plt.rcParams[\"font.size\"] = 16"
      ]
    },
    {
      "cell_type": "markdown",
      "metadata": {
        "id": "OCaqjLQYsY8O"
      },
      "source": [
        "# Config"
      ]
    },
    {
      "cell_type": "code",
      "execution_count": 8,
      "metadata": {
        "id": "Qby7HsHhsY8O"
      },
      "outputs": [],
      "source": [
        "PROBLEM = \"Curvature_2_Pressure\"\n",
        "\n",
        "MODEL_NAME = \"MultiViewUNet\"\n",
        "DATASET_PATH = \"../../dataset/Images/\"\n",
        "TRAIN_DIR = \"Train/\"\n",
        "TEST_DIR = \"Test/\"\n",
        "INPUT_DIR = PROBLEM.split(\"_2_\")[0]\n",
        "TARGET_DIR = PROBLEM.split(\"_2_\")[1]\n",
        "MODEL_PATH = \"../../Models/\"\n",
        "PRED_PATH = \"../../Predictions/\"\n",
        "IMG_SIZE = 512\n",
        "BATCH_SIZE = 8\n",
        "BUFFER_SIZE = 1000\n",
        "VAL_SPLIT = 0.2\n",
        "LEARNING_RATE = 0.001\n",
        "N_EPOCHS = 300\n",
        "PATIENCE = 30\n",
        "\n",
        "EXP_NAME = f\"{PROBLEM}_{MODEL_NAME}_I{IMG_SIZE}_B{BATCH_SIZE}_LR{LEARNING_RATE}\"\n"
      ]
    },
    {
      "cell_type": "markdown",
      "metadata": {
        "id": "vnnlcTjjsY8O"
      },
      "source": [
        "# Architecture"
      ]
    },
    {
      "cell_type": "code",
      "execution_count": 9,
      "metadata": {
        "id": "QQWORDDysY8P"
      },
      "outputs": [],
      "source": [
        "class UNet:\n",
        "    def __init__(\n",
        "        self,\n",
        "        img_size: int,\n",
        "        n_channels: int = 3,\n",
        "        width: int = 32,\n",
        "        depth: int = 5,\n",
        "        kernel_size: int = 3\n",
        "    ):\n",
        "        self.img_size = img_size\n",
        "        self.n_channels = n_channels\n",
        "        self.width = width\n",
        "        self.depth = depth\n",
        "        self.kernel_size = kernel_size\n",
        "\n",
        "    @staticmethod\n",
        "    def conv(\n",
        "        x: tf.Tensor,\n",
        "        filters: int,\n",
        "        kernel_size: int\n",
        "    ) -> tf.Tensor:\n",
        "        for i in range(2):\n",
        "            x = tf.keras.layers.Conv2D(\n",
        "                filters=filters,\n",
        "                kernel_size=kernel_size,\n",
        "                strides=1,\n",
        "                padding=\"same\",\n",
        "                data_format=\"channels_last\",\n",
        "                dilation_rate=1,\n",
        "                groups=1,\n",
        "                activation=None,\n",
        "                use_bias=True,\n",
        "                kernel_initializer=\"glorot_uniform\",\n",
        "                bias_initializer=\"zeros\",\n",
        "            )(x)\n",
        "\n",
        "            x = tf.keras.layers.BatchNormalization()(x)\n",
        "            x = tf.keras.layers.Activation(\"relu\")(x)\n",
        "\n",
        "        return x\n",
        "\n",
        "    @staticmethod\n",
        "    def deconv(x: tf.Tensor, filters: int) -> tf.Tensor:\n",
        "        x = tf.keras.layers.Conv2DTranspose(\n",
        "            filters=filters,\n",
        "            kernel_size=2,\n",
        "            strides=2,\n",
        "            padding=\"same\",\n",
        "            output_padding=None,\n",
        "            data_format=None,\n",
        "            dilation_rate=1,\n",
        "            activation=None,\n",
        "            use_bias=True,\n",
        "            kernel_initializer=\"glorot_uniform\",\n",
        "            bias_initializer=\"zeros\",\n",
        "        )(x)\n",
        "\n",
        "        x = tf.keras.layers.BatchNormalization()(x)\n",
        "        x = tf.keras.layers.Activation(\"relu\")(x)\n",
        "\n",
        "        return x\n",
        "\n",
        "    @staticmethod\n",
        "    def output(x: tf.Tensor) -> tf.Tensor:\n",
        "        return tf.keras.layers.Conv2D(3, (1, 1), activation=\"sigmoid\")(x)\n",
        "\n",
        "    @staticmethod\n",
        "    def pool(x: tf.Tensor, pool_size: int = 2) -> tf.Tensor:\n",
        "        return tf.keras.layers.MaxPool2D(pool_size)(x)\n",
        "\n",
        "    @staticmethod\n",
        "    def dropout(x: tf.Tensor, amount: float = 0.5) -> tf.Tensor:\n",
        "        return tf.keras.layers.Dropout(amount)(x)\n",
        "\n",
        "    def __call__(self) -> tf.keras.Model:\n",
        "        inputs = tf.keras.layers.Input(\n",
        "            shape=(self.img_size, self.img_size, self.n_channels)\n",
        "        )\n",
        "\n",
        "        # scaled = tf.keras.layers.Rescaling(1./255.0, offset=0)(inputs)\n",
        "\n",
        "        # ------------------ Downsampling ---------------------\n",
        "        downsample_layers = []\n",
        "        downsample_layers.append(\n",
        "            self.conv(\n",
        "                x=inputs,\n",
        "                filters=self.width,\n",
        "                kernel_size=self.kernel_size\n",
        "            )\n",
        "        )\n",
        "        for i in range(1, self.depth):\n",
        "            dropout_amount = 0.2 if i == 1 else 0.5\n",
        "            filters = int((2 ** i) * self.width)\n",
        "            downsample_layers.append(\n",
        "                self.dropout(\n",
        "                    self.pool(\n",
        "                        self.conv(\n",
        "                            x=downsample_layers[i - 1],\n",
        "                            filters=filters,\n",
        "                            kernel_size=self.kernel_size\n",
        "                        )\n",
        "                    ),\n",
        "                    amount=dropout_amount\n",
        "                )\n",
        "            )\n",
        "\n",
        "        # ------------------- Features --------------------\n",
        "        n_features = int((2 ** self.depth) * self.width)\n",
        "        self.features = self.pool(\n",
        "            self.conv(\n",
        "                x=downsample_layers[-1],\n",
        "                filters=n_features,\n",
        "                kernel_size=self.kernel_size\n",
        "            )\n",
        "        )\n",
        "\n",
        "        # ------------------- Upsampling --------------------\n",
        "        upsample_layers = []\n",
        "        upsample_layers.append(self.features)\n",
        "        for i in range(1, self.depth + 1):\n",
        "            filters = int((2 ** (self.depth - i)) * self.width)\n",
        "            upsample_layers.append(\n",
        "                self.conv(\n",
        "                    x=self.dropout(\n",
        "                        tf.keras.layers.concatenate([\n",
        "                            downsample_layers[self.depth - i],\n",
        "                            self.deconv(\n",
        "                                x=upsample_layers[i - 1],\n",
        "                                filters=filters\n",
        "                            )\n",
        "                        ])\n",
        "                    ),\n",
        "                    filters=filters,\n",
        "                    kernel_size=self.kernel_size\n",
        "                )\n",
        "            )\n",
        "\n",
        "        # ---------------------- Output -----------------------\n",
        "        outputs = self.output(upsample_layers[-1])\n",
        "\n",
        "        return tf.keras.Model(inputs, outputs)\n"
      ]
    },
    {
      "cell_type": "markdown",
      "metadata": {
        "id": "3wNu29ilsY8Q"
      },
      "source": [
        "# Loss Functions / Metrics"
      ]
    },
    {
      "cell_type": "code",
      "execution_count": 10,
      "metadata": {
        "id": "EScLEIVTsY8R"
      },
      "outputs": [],
      "source": [
        "def attention_mse(y_true, y_pred):\n",
        "    _y_true = y_true[y_true != 1.0]\n",
        "    _y_pred = y_pred[y_true != 1.0]\n",
        "    squared_difference = tf.square(_y_true - _y_pred)\n",
        "    return tf.reduce_mean(squared_difference, axis=-1)\n",
        "\n",
        "\n",
        "def attention_mae(y_true, y_pred):\n",
        "    _y_true = y_true[y_true != 1.0]\n",
        "    _y_pred = y_pred[y_true != 1.0]\n",
        "    squared_difference = tf.abs(_y_true - _y_pred)\n",
        "    return tf.reduce_mean(squared_difference, axis=-1)\n"
      ]
    },
    {
      "cell_type": "markdown",
      "metadata": {
        "id": "UcGPtUeasY8R"
      },
      "source": [
        "# DataLoader"
      ]
    },
    {
      "cell_type": "code",
      "execution_count": 11,
      "metadata": {
        "id": "wEWrDHWDsY8R"
      },
      "outputs": [],
      "source": [
        "def load_data_from_dir(path: str) -> tf.data.Dataset:\n",
        "    return tf.keras.utils.image_dataset_from_directory(\n",
        "        directory=path,\n",
        "        labels=None,\n",
        "        color_mode='rgb',\n",
        "        batch_size=BATCH_SIZE,\n",
        "        image_size=(IMG_SIZE, IMG_SIZE),\n",
        "        shuffle=False,\n",
        "        seed=42,\n",
        "        interpolation='bilinear',\n",
        "        follow_links=False,\n",
        "        crop_to_aspect_ratio=False\n",
        "    )\n"
      ]
    },
    {
      "cell_type": "markdown",
      "metadata": {
        "id": "iHl8FzWEsY8R"
      },
      "source": [
        "# Load Dataset"
      ]
    },
    {
      "cell_type": "code",
      "execution_count": 12,
      "metadata": {
        "colab": {
          "base_uri": "https://localhost:8080/"
        },
<<<<<<< HEAD
        "id": "_N_9KDvNsY8S",
        "outputId": "c1a0264d-a35b-41e1-e357-dff321f27968"
=======
        "outputId": "3d4d8326-c942-4984-b0e7-b4b26e7e707b"
>>>>>>> 7d1275fb32dc40a8572b4960c1ee2b78f9ead99a
      },
      "outputs": [
        {
          "name": "stdout",
          "output_type": "stream",
          "text": [
            "Found 360 files belonging to 1 classes.\n",
            "Found 360 files belonging to 1 classes.\n",
            "Found 84 files belonging to 1 classes.\n",
            "Found 84 files belonging to 1 classes.\n",
<<<<<<< HEAD
            "(TensorSpec(shape=(None, 512, 512, 3), dtype=tf.float32, name=None), TensorSpec(shape=(None, 512, 512, 3), dtype=tf.float32, name=None))\n",
            "(TensorSpec(shape=(None, 512, 512, 3), dtype=tf.float32, name=None), TensorSpec(shape=(None, 512, 512, 3), dtype=tf.float32, name=None))\n"
=======
            "(TensorSpec(shape=(None, 256, 256, 3), dtype=tf.float32, name=None), TensorSpec(shape=(None, 256, 256, 3), dtype=tf.float32, name=None))\n",
            "(TensorSpec(shape=(None, 256, 256, 3), dtype=tf.float32, name=None), TensorSpec(shape=(None, 256, 256, 3), dtype=tf.float32, name=None))\n"
>>>>>>> 7d1275fb32dc40a8572b4960c1ee2b78f9ead99a
          ]
        }
      ],
      "source": [
        "trainX = load_data_from_dir(os.path.join(DATASET_PATH, TRAIN_DIR, INPUT_DIR))\n",
        "trainY = load_data_from_dir(os.path.join(DATASET_PATH, TRAIN_DIR, TARGET_DIR))\n",
        "testX = load_data_from_dir(os.path.join(DATASET_PATH, TEST_DIR, INPUT_DIR))\n",
        "testY = load_data_from_dir(os.path.join(DATASET_PATH, TEST_DIR, TARGET_DIR))\n",
        "\n",
        "train_ds = tf.data.Dataset.zip((trainX, trainY))\n",
        "test_ds = tf.data.Dataset.zip((testX, testY))\n",
        "\n",
        "print(train_ds.element_spec)\n",
        "print(test_ds.element_spec)\n"
      ]
    },
    {
      "cell_type": "markdown",
      "metadata": {
        "id": "siGY2orosY8S"
      },
      "source": [
        "# Normalization"
      ]
    },
    {
      "cell_type": "code",
      "execution_count": 13,
      "metadata": {
        "id": "iEVMVJIusY8S"
      },
      "outputs": [],
      "source": [
        "normalization_layer = tf.keras.layers.Rescaling(1./255)\n",
        "train_ds = train_ds.map(lambda x, y: (\n",
        "    normalization_layer(x), normalization_layer(y)))\n",
        "test_ds = test_ds.map(lambda x, y: (\n",
        "    normalization_layer(x), normalization_layer(y)))\n"
      ]
    },
    {
      "cell_type": "markdown",
      "metadata": {
        "id": "N0gpJ04WsY8T"
      },
      "source": [
        "# Augmentation"
      ]
    },
    {
      "cell_type": "code",
      "execution_count": 14,
      "metadata": {
        "id": "71pw2HYCsY8T"
      },
      "outputs": [],
      "source": [
        "class Augment(tf.keras.layers.Layer):\n",
        "    def __init__(self, seed=42):\n",
        "        super().__init__()\n",
        "        # both use the same seed, so they'll make the same random changes.\n",
        "        self.augment_inputs = tf.keras.layers.RandomZoom(\n",
        "            (-0.1, -0.7), seed=seed)\n",
        "        self.augment_labels = tf.keras.layers.RandomZoom(\n",
        "            (-0.1, -0.7), seed=seed)\n",
        "\n",
        "    def call(self, inputs, labels):\n",
        "        inputs = self.augment_inputs(inputs)\n",
        "        labels = self.augment_labels(labels)\n",
        "        return inputs, labels\n"
      ]
    },
    {
      "cell_type": "markdown",
      "metadata": {
        "id": "mymNUKessY8T"
      },
      "source": [
        "# Optimization"
      ]
    },
    {
      "cell_type": "code",
      "execution_count": 15,
      "metadata": {
        "id": "OFxFklYZsY8T"
      },
      "outputs": [],
      "source": [
        "AUTOTUNE = tf.data.AUTOTUNE\n",
        "\n",
        "train_batches = (\n",
        "    train_ds\n",
        "    .cache()\n",
        "    .shuffle(BUFFER_SIZE)\n",
        "    .prefetch(buffer_size=AUTOTUNE)\n",
        ")\n",
        "\n",
        "test_batches = (\n",
        "    test_ds\n",
        "    .cache()\n",
        "    .prefetch(buffer_size=AUTOTUNE)\n",
        ")\n"
      ]
    },
    {
      "cell_type": "markdown",
      "metadata": {
        "id": "j6ilqDbnsY8U"
      },
      "source": [
        "# Training Config"
      ]
    },
    {
      "cell_type": "code",
      "execution_count": 16,
      "metadata": {
        "id": "WlY6S1B6sY8U"
      },
      "outputs": [],
      "source": [
        "model_path = os.path.join(MODEL_PATH, EXP_NAME)\n",
        "\n",
        "callbacks = [\n",
        "    tf.keras.callbacks.EarlyStopping(\n",
        "        monitor=\"val_loss\",\n",
        "        patience=PATIENCE,\n",
        "        restore_best_weights=True\n",
        "    ),\n",
        "    tf.keras.callbacks.ModelCheckpoint(\n",
        "        model_path,\n",
        "        monitor='val_loss',\n",
        "        verbose=1,\n",
        "        save_best_only=True,\n",
        "        save_weights_only=True\n",
        "    )\n",
        "]\n",
        "\n",
        "optimizer = tf.keras.optimizers.Adam(\n",
        "    learning_rate=LEARNING_RATE\n",
        ")\n",
        "\n",
        "model = UNet(IMG_SIZE)()\n",
        "\n",
        "model.compile(\n",
        "    loss=attention_mse,\n",
        "    optimizer=optimizer,\n",
        "    metrics=[attention_mae]\n",
        ")\n",
        "\n",
        "# try:\n",
        "#     model.load_weights(model_path)\n",
        "# except:\n",
        "#     print(\"Checkpoint not found\")\n",
        "#     pass\n"
      ]
    },
    {
      "cell_type": "markdown",
      "metadata": {
        "id": "zmjFkIYNsY8U"
      },
      "source": [
        "# Training"
      ]
    },
    {
      "cell_type": "code",
      "execution_count": 17,
      "metadata": {
<<<<<<< HEAD
=======
        "id": "Nd0e5sXtsY8U",
        "outputId": "1dca593d-1cd0-4f79-fe01-c98bb670e6a4",
>>>>>>> 7d1275fb32dc40a8572b4960c1ee2b78f9ead99a
        "colab": {
          "base_uri": "https://localhost:8080/"
        },
        "id": "Nd0e5sXtsY8U",
        "outputId": "2c6362d8-84aa-4dee-c735-e4f1751a5708"
      },
      "outputs": [
        {
          "name": "stdout",
          "output_type": "stream",
          "text": [
            "Epoch 1/300\n",
<<<<<<< HEAD
            "45/45 [==============================] - ETA: 0s - loss: 0.0082 - attention_mae: 0.0467\n",
            "Epoch 1: val_loss improved from inf to 0.04204, saving model to ../../Models\\Curvature_2_Pressure_MultiViewUNet_I512_B8_LR0.001\n",
            "45/45 [==============================] - 77s 783ms/step - loss: 0.0082 - attention_mae: 0.0467 - val_loss: 0.0420 - val_attention_mae: 0.1489\n",
            "Epoch 2/300\n",
            "45/45 [==============================] - ETA: 0s - loss: 0.0080 - attention_mae: 0.0459\n",
            "Epoch 2: val_loss improved from 0.04204 to 0.04141, saving model to ../../Models\\Curvature_2_Pressure_MultiViewUNet_I512_B8_LR0.001\n",
            "45/45 [==============================] - 34s 747ms/step - loss: 0.0080 - attention_mae: 0.0459 - val_loss: 0.0414 - val_attention_mae: 0.1506\n",
            "Epoch 3/300\n",
            "45/45 [==============================] - ETA: 0s - loss: 0.0078 - attention_mae: 0.0440\n",
            "Epoch 3: val_loss did not improve from 0.04141\n",
            "45/45 [==============================] - 31s 681ms/step - loss: 0.0078 - attention_mae: 0.0440 - val_loss: 0.0467 - val_attention_mae: 0.1634\n",
            "Epoch 4/300\n",
            "45/45 [==============================] - ETA: 0s - loss: 0.0076 - attention_mae: 0.0440\n",
            "Epoch 4: val_loss did not improve from 0.04141\n",
            "45/45 [==============================] - 31s 679ms/step - loss: 0.0076 - attention_mae: 0.0440 - val_loss: 0.0656 - val_attention_mae: 0.2091\n",
            "Epoch 5/300\n",
            "45/45 [==============================] - ETA: 0s - loss: 0.0073 - attention_mae: 0.0418\n",
            "Epoch 5: val_loss improved from 0.04141 to 0.03208, saving model to ../../Models\\Curvature_2_Pressure_MultiViewUNet_I512_B8_LR0.001\n",
            "45/45 [==============================] - 33s 735ms/step - loss: 0.0073 - attention_mae: 0.0418 - val_loss: 0.0321 - val_attention_mae: 0.1251\n",
            "Epoch 6/300\n",
            "45/45 [==============================] - ETA: 0s - loss: 0.0070 - attention_mae: 0.0404\n",
            "Epoch 6: val_loss improved from 0.03208 to 0.02106, saving model to ../../Models\\Curvature_2_Pressure_MultiViewUNet_I512_B8_LR0.001\n",
            "45/45 [==============================] - 33s 729ms/step - loss: 0.0070 - attention_mae: 0.0404 - val_loss: 0.0211 - val_attention_mae: 0.0869\n",
            "Epoch 7/300\n",
            "45/45 [==============================] - ETA: 0s - loss: 0.0067 - attention_mae: 0.0392\n",
            "Epoch 7: val_loss did not improve from 0.02106\n",
            "45/45 [==============================] - 30s 674ms/step - loss: 0.0067 - attention_mae: 0.0392 - val_loss: 0.0217 - val_attention_mae: 0.0871\n",
            "Epoch 8/300\n",
            "45/45 [==============================] - ETA: 0s - loss: 0.0065 - attention_mae: 0.0385\n",
            "Epoch 8: val_loss improved from 0.02106 to 0.01326, saving model to ../../Models\\Curvature_2_Pressure_MultiViewUNet_I512_B8_LR0.001\n",
            "45/45 [==============================] - 31s 701ms/step - loss: 0.0065 - attention_mae: 0.0385 - val_loss: 0.0133 - val_attention_mae: 0.0634\n",
            "Epoch 9/300\n",
            "45/45 [==============================] - ETA: 0s - loss: 0.0065 - attention_mae: 0.0385\n",
            "Epoch 9: val_loss improved from 0.01326 to 0.01270, saving model to ../../Models\\Curvature_2_Pressure_MultiViewUNet_I512_B8_LR0.001\n",
            "45/45 [==============================] - 32s 700ms/step - loss: 0.0065 - attention_mae: 0.0385 - val_loss: 0.0127 - val_attention_mae: 0.0637\n",
            "Epoch 10/300\n",
            "45/45 [==============================] - ETA: 0s - loss: 0.0061 - attention_mae: 0.0368\n",
            "Epoch 10: val_loss did not improve from 0.01270\n",
            "45/45 [==============================] - 30s 656ms/step - loss: 0.0061 - attention_mae: 0.0368 - val_loss: 0.0141 - val_attention_mae: 0.0610\n",
            "Epoch 11/300\n",
            "45/45 [==============================] - ETA: 0s - loss: 0.0059 - attention_mae: 0.0355\n",
            "Epoch 11: val_loss improved from 0.01270 to 0.00960, saving model to ../../Models\\Curvature_2_Pressure_MultiViewUNet_I512_B8_LR0.001\n",
            "45/45 [==============================] - 32s 705ms/step - loss: 0.0059 - attention_mae: 0.0355 - val_loss: 0.0096 - val_attention_mae: 0.0468\n",
            "Epoch 12/300\n",
            "45/45 [==============================] - ETA: 0s - loss: 0.0058 - attention_mae: 0.0353\n",
            "Epoch 12: val_loss improved from 0.00960 to 0.00923, saving model to ../../Models\\Curvature_2_Pressure_MultiViewUNet_I512_B8_LR0.001\n",
            "45/45 [==============================] - 32s 702ms/step - loss: 0.0058 - attention_mae: 0.0353 - val_loss: 0.0092 - val_attention_mae: 0.0501\n",
            "Epoch 13/300\n",
            "45/45 [==============================] - ETA: 0s - loss: 0.0057 - attention_mae: 0.0351\n",
            "Epoch 13: val_loss did not improve from 0.00923\n",
            "45/45 [==============================] - 30s 656ms/step - loss: 0.0057 - attention_mae: 0.0351 - val_loss: 0.0106 - val_attention_mae: 0.0599\n",
            "Epoch 14/300\n",
            "45/45 [==============================] - ETA: 0s - loss: 0.0056 - attention_mae: 0.0344\n",
            "Epoch 14: val_loss did not improve from 0.00923\n",
            "45/45 [==============================] - 29s 654ms/step - loss: 0.0056 - attention_mae: 0.0344 - val_loss: 0.0093 - val_attention_mae: 0.0450\n",
            "Epoch 15/300\n",
            "45/45 [==============================] - ETA: 0s - loss: 0.0055 - attention_mae: 0.0341\n",
            "Epoch 15: val_loss improved from 0.00923 to 0.00894, saving model to ../../Models\\Curvature_2_Pressure_MultiViewUNet_I512_B8_LR0.001\n",
            "45/45 [==============================] - 31s 702ms/step - loss: 0.0055 - attention_mae: 0.0341 - val_loss: 0.0089 - val_attention_mae: 0.0481\n",
            "Epoch 16/300\n",
            "45/45 [==============================] - ETA: 0s - loss: 0.0054 - attention_mae: 0.0329\n",
            "Epoch 16: val_loss improved from 0.00894 to 0.00810, saving model to ../../Models\\Curvature_2_Pressure_MultiViewUNet_I512_B8_LR0.001\n",
            "45/45 [==============================] - 31s 698ms/step - loss: 0.0054 - attention_mae: 0.0329 - val_loss: 0.0081 - val_attention_mae: 0.0402\n",
            "Epoch 17/300\n",
            "45/45 [==============================] - ETA: 0s - loss: 0.0052 - attention_mae: 0.0323\n",
            "Epoch 17: val_loss did not improve from 0.00810\n",
            "45/45 [==============================] - 30s 655ms/step - loss: 0.0052 - attention_mae: 0.0323 - val_loss: 0.0084 - val_attention_mae: 0.0397\n",
            "Epoch 18/300\n",
            "45/45 [==============================] - ETA: 0s - loss: 0.0051 - attention_mae: 0.0313\n",
            "Epoch 18: val_loss did not improve from 0.00810\n",
            "45/45 [==============================] - 29s 655ms/step - loss: 0.0051 - attention_mae: 0.0313 - val_loss: 0.0085 - val_attention_mae: 0.0457\n",
            "Epoch 19/300\n",
            "45/45 [==============================] - ETA: 0s - loss: 0.0053 - attention_mae: 0.0324\n",
            "Epoch 19: val_loss did not improve from 0.00810\n",
            "45/45 [==============================] - 29s 655ms/step - loss: 0.0053 - attention_mae: 0.0324 - val_loss: 0.0103 - val_attention_mae: 0.0440\n",
            "Epoch 20/300\n",
            "45/45 [==============================] - ETA: 0s - loss: 0.0051 - attention_mae: 0.0316\n",
            "Epoch 20: val_loss improved from 0.00810 to 0.00740, saving model to ../../Models\\Curvature_2_Pressure_MultiViewUNet_I512_B8_LR0.001\n",
            "45/45 [==============================] - 31s 699ms/step - loss: 0.0051 - attention_mae: 0.0316 - val_loss: 0.0074 - val_attention_mae: 0.0387\n",
            "Epoch 21/300\n",
            "45/45 [==============================] - ETA: 0s - loss: 0.0050 - attention_mae: 0.0311\n",
            "Epoch 21: val_loss improved from 0.00740 to 0.00702, saving model to ../../Models\\Curvature_2_Pressure_MultiViewUNet_I512_B8_LR0.001\n",
            "45/45 [==============================] - 32s 702ms/step - loss: 0.0050 - attention_mae: 0.0311 - val_loss: 0.0070 - val_attention_mae: 0.0415\n",
            "Epoch 22/300\n",
            "45/45 [==============================] - ETA: 0s - loss: 0.0049 - attention_mae: 0.0299\n",
            "Epoch 22: val_loss did not improve from 0.00702\n",
            "45/45 [==============================] - 30s 657ms/step - loss: 0.0049 - attention_mae: 0.0299 - val_loss: 0.0072 - val_attention_mae: 0.0383\n",
            "Epoch 23/300\n",
            "45/45 [==============================] - ETA: 0s - loss: 0.0048 - attention_mae: 0.0298\n",
            "Epoch 23: val_loss did not improve from 0.00702\n",
            "45/45 [==============================] - 29s 655ms/step - loss: 0.0048 - attention_mae: 0.0298 - val_loss: 0.0072 - val_attention_mae: 0.0380\n",
            "Epoch 24/300\n",
            "45/45 [==============================] - ETA: 0s - loss: 0.0047 - attention_mae: 0.0296\n",
            "Epoch 24: val_loss did not improve from 0.00702\n",
            "45/45 [==============================] - 29s 655ms/step - loss: 0.0047 - attention_mae: 0.0296 - val_loss: 0.0073 - val_attention_mae: 0.0389\n",
            "Epoch 25/300\n",
            "45/45 [==============================] - ETA: 0s - loss: 0.0047 - attention_mae: 0.0289\n",
            "Epoch 25: val_loss did not improve from 0.00702\n",
            "45/45 [==============================] - 29s 655ms/step - loss: 0.0047 - attention_mae: 0.0289 - val_loss: 0.0082 - val_attention_mae: 0.0443\n",
            "Epoch 26/300\n",
            "45/45 [==============================] - ETA: 0s - loss: 0.0047 - attention_mae: 0.0293\n",
            "Epoch 26: val_loss improved from 0.00702 to 0.00693, saving model to ../../Models\\Curvature_2_Pressure_MultiViewUNet_I512_B8_LR0.001\n",
            "45/45 [==============================] - 32s 704ms/step - loss: 0.0047 - attention_mae: 0.0293 - val_loss: 0.0069 - val_attention_mae: 0.0354\n",
            "Epoch 27/300\n",
            "45/45 [==============================] - ETA: 0s - loss: 0.0047 - attention_mae: 0.0291\n",
            "Epoch 27: val_loss did not improve from 0.00693\n",
            "45/45 [==============================] - 30s 654ms/step - loss: 0.0047 - attention_mae: 0.0291 - val_loss: 0.0070 - val_attention_mae: 0.0403\n",
            "Epoch 28/300\n",
            "45/45 [==============================] - ETA: 0s - loss: 0.0046 - attention_mae: 0.0286\n",
            "Epoch 28: val_loss improved from 0.00693 to 0.00686, saving model to ../../Models\\Curvature_2_Pressure_MultiViewUNet_I512_B8_LR0.001\n",
            "45/45 [==============================] - 31s 701ms/step - loss: 0.0046 - attention_mae: 0.0286 - val_loss: 0.0069 - val_attention_mae: 0.0344\n",
            "Epoch 29/300\n",
            "45/45 [==============================] - ETA: 0s - loss: 0.0046 - attention_mae: 0.0283\n",
            "Epoch 29: val_loss did not improve from 0.00686\n",
            "45/45 [==============================] - 30s 655ms/step - loss: 0.0046 - attention_mae: 0.0283 - val_loss: 0.0069 - val_attention_mae: 0.0363\n",
            "Epoch 30/300\n",
            "45/45 [==============================] - ETA: 0s - loss: 0.0046 - attention_mae: 0.0281\n",
            "Epoch 30: val_loss improved from 0.00686 to 0.00662, saving model to ../../Models\\Curvature_2_Pressure_MultiViewUNet_I512_B8_LR0.001\n",
            "45/45 [==============================] - 31s 700ms/step - loss: 0.0046 - attention_mae: 0.0281 - val_loss: 0.0066 - val_attention_mae: 0.0345\n",
            "Epoch 31/300\n",
            "45/45 [==============================] - ETA: 0s - loss: 0.0044 - attention_mae: 0.0270\n",
            "Epoch 31: val_loss did not improve from 0.00662\n",
            "45/45 [==============================] - 30s 655ms/step - loss: 0.0044 - attention_mae: 0.0270 - val_loss: 0.0074 - val_attention_mae: 0.0407\n",
            "Epoch 32/300\n",
            "45/45 [==============================] - ETA: 0s - loss: 0.0044 - attention_mae: 0.0273\n",
            "Epoch 32: val_loss did not improve from 0.00662\n",
            "45/45 [==============================] - 29s 655ms/step - loss: 0.0044 - attention_mae: 0.0273 - val_loss: 0.0068 - val_attention_mae: 0.0358\n",
            "Epoch 33/300\n",
            "45/45 [==============================] - ETA: 0s - loss: 0.0043 - attention_mae: 0.0270\n",
            "Epoch 33: val_loss did not improve from 0.00662\n",
            "45/45 [==============================] - 29s 655ms/step - loss: 0.0043 - attention_mae: 0.0270 - val_loss: 0.0068 - val_attention_mae: 0.0387\n",
            "Epoch 34/300\n",
            "45/45 [==============================] - ETA: 0s - loss: 0.0042 - attention_mae: 0.0265\n",
            "Epoch 34: val_loss did not improve from 0.00662\n",
            "45/45 [==============================] - 29s 655ms/step - loss: 0.0042 - attention_mae: 0.0265 - val_loss: 0.0068 - val_attention_mae: 0.0343\n",
            "Epoch 35/300\n",
            "45/45 [==============================] - ETA: 0s - loss: 0.0043 - attention_mae: 0.0268\n",
            "Epoch 35: val_loss improved from 0.00662 to 0.00658, saving model to ../../Models\\Curvature_2_Pressure_MultiViewUNet_I512_B8_LR0.001\n",
            "45/45 [==============================] - 31s 700ms/step - loss: 0.0043 - attention_mae: 0.0268 - val_loss: 0.0066 - val_attention_mae: 0.0332\n",
            "Epoch 36/300\n",
            "45/45 [==============================] - ETA: 0s - loss: 0.0042 - attention_mae: 0.0265\n",
            "Epoch 36: val_loss did not improve from 0.00658\n",
            "45/45 [==============================] - 30s 655ms/step - loss: 0.0042 - attention_mae: 0.0265 - val_loss: 0.0069 - val_attention_mae: 0.0348\n",
            "Epoch 37/300\n",
            "45/45 [==============================] - ETA: 0s - loss: 0.0042 - attention_mae: 0.0261\n",
            "Epoch 37: val_loss improved from 0.00658 to 0.00630, saving model to ../../Models\\Curvature_2_Pressure_MultiViewUNet_I512_B8_LR0.001\n",
            "45/45 [==============================] - 31s 698ms/step - loss: 0.0042 - attention_mae: 0.0261 - val_loss: 0.0063 - val_attention_mae: 0.0327\n",
            "Epoch 38/300\n",
            "45/45 [==============================] - ETA: 0s - loss: 0.0041 - attention_mae: 0.0253\n",
            "Epoch 38: val_loss did not improve from 0.00630\n",
            "45/45 [==============================] - 30s 655ms/step - loss: 0.0041 - attention_mae: 0.0253 - val_loss: 0.0065 - val_attention_mae: 0.0332\n",
            "Epoch 39/300\n",
            "45/45 [==============================] - ETA: 0s - loss: 0.0041 - attention_mae: 0.0258\n",
            "Epoch 39: val_loss did not improve from 0.00630\n",
            "45/45 [==============================] - 29s 655ms/step - loss: 0.0041 - attention_mae: 0.0258 - val_loss: 0.0064 - val_attention_mae: 0.0338\n",
            "Epoch 40/300\n",
            "45/45 [==============================] - ETA: 0s - loss: 0.0040 - attention_mae: 0.0249\n",
            "Epoch 40: val_loss did not improve from 0.00630\n",
            "45/45 [==============================] - 29s 655ms/step - loss: 0.0040 - attention_mae: 0.0249 - val_loss: 0.0067 - val_attention_mae: 0.0329\n",
            "Epoch 41/300\n",
            "45/45 [==============================] - ETA: 0s - loss: 0.0040 - attention_mae: 0.0248\n",
            "Epoch 41: val_loss improved from 0.00630 to 0.00621, saving model to ../../Models\\Curvature_2_Pressure_MultiViewUNet_I512_B8_LR0.001\n",
            "45/45 [==============================] - 31s 702ms/step - loss: 0.0040 - attention_mae: 0.0248 - val_loss: 0.0062 - val_attention_mae: 0.0340\n",
            "Epoch 42/300\n",
            "45/45 [==============================] - ETA: 0s - loss: 0.0039 - attention_mae: 0.0245\n",
            "Epoch 42: val_loss did not improve from 0.00621\n",
            "45/45 [==============================] - 30s 655ms/step - loss: 0.0039 - attention_mae: 0.0245 - val_loss: 0.0066 - val_attention_mae: 0.0339\n",
            "Epoch 43/300\n",
            "45/45 [==============================] - ETA: 0s - loss: 0.0039 - attention_mae: 0.0245\n",
            "Epoch 43: val_loss did not improve from 0.00621\n",
            "45/45 [==============================] - 29s 655ms/step - loss: 0.0039 - attention_mae: 0.0245 - val_loss: 0.0065 - val_attention_mae: 0.0325\n",
            "Epoch 44/300\n",
            "45/45 [==============================] - ETA: 0s - loss: 0.0039 - attention_mae: 0.0244\n",
            "Epoch 44: val_loss did not improve from 0.00621\n",
            "45/45 [==============================] - 29s 655ms/step - loss: 0.0039 - attention_mae: 0.0244 - val_loss: 0.0063 - val_attention_mae: 0.0322\n",
            "Epoch 45/300\n",
            "45/45 [==============================] - ETA: 0s - loss: 0.0038 - attention_mae: 0.0243\n",
            "Epoch 45: val_loss did not improve from 0.00621\n",
            "45/45 [==============================] - 29s 655ms/step - loss: 0.0038 - attention_mae: 0.0243 - val_loss: 0.0066 - val_attention_mae: 0.0354\n",
            "Epoch 46/300\n",
            "45/45 [==============================] - ETA: 0s - loss: 0.0038 - attention_mae: 0.0241\n",
            "Epoch 46: val_loss did not improve from 0.00621\n",
            "45/45 [==============================] - 29s 655ms/step - loss: 0.0038 - attention_mae: 0.0241 - val_loss: 0.0064 - val_attention_mae: 0.0325\n",
            "Epoch 47/300\n",
            "45/45 [==============================] - ETA: 0s - loss: 0.0038 - attention_mae: 0.0238\n",
            "Epoch 47: val_loss did not improve from 0.00621\n",
            "45/45 [==============================] - 29s 655ms/step - loss: 0.0038 - attention_mae: 0.0238 - val_loss: 0.0071 - val_attention_mae: 0.0328\n",
            "Epoch 48/300\n",
            "45/45 [==============================] - ETA: 0s - loss: 0.0037 - attention_mae: 0.0237\n",
            "Epoch 48: val_loss improved from 0.00621 to 0.00600, saving model to ../../Models\\Curvature_2_Pressure_MultiViewUNet_I512_B8_LR0.001\n",
            "45/45 [==============================] - 31s 699ms/step - loss: 0.0037 - attention_mae: 0.0237 - val_loss: 0.0060 - val_attention_mae: 0.0313\n",
            "Epoch 49/300\n",
            "45/45 [==============================] - ETA: 0s - loss: 0.0037 - attention_mae: 0.0234\n",
            "Epoch 49: val_loss did not improve from 0.00600\n",
            "45/45 [==============================] - 30s 655ms/step - loss: 0.0037 - attention_mae: 0.0234 - val_loss: 0.0065 - val_attention_mae: 0.0316\n",
            "Epoch 50/300\n",
            "45/45 [==============================] - ETA: 0s - loss: 0.0037 - attention_mae: 0.0232\n",
            "Epoch 50: val_loss did not improve from 0.00600\n",
            "45/45 [==============================] - 29s 655ms/step - loss: 0.0037 - attention_mae: 0.0232 - val_loss: 0.0062 - val_attention_mae: 0.0302\n",
            "Epoch 51/300\n",
            "45/45 [==============================] - ETA: 0s - loss: 0.0037 - attention_mae: 0.0232\n",
            "Epoch 51: val_loss did not improve from 0.00600\n",
            "45/45 [==============================] - 29s 655ms/step - loss: 0.0037 - attention_mae: 0.0232 - val_loss: 0.0066 - val_attention_mae: 0.0345\n",
            "Epoch 52/300\n",
            "45/45 [==============================] - ETA: 0s - loss: 0.0036 - attention_mae: 0.0227\n",
            "Epoch 52: val_loss did not improve from 0.00600\n",
            "45/45 [==============================] - 29s 655ms/step - loss: 0.0036 - attention_mae: 0.0227 - val_loss: 0.0064 - val_attention_mae: 0.0352\n",
            "Epoch 53/300\n",
            "45/45 [==============================] - ETA: 0s - loss: 0.0036 - attention_mae: 0.0226\n",
            "Epoch 53: val_loss did not improve from 0.00600\n",
            "45/45 [==============================] - 29s 654ms/step - loss: 0.0036 - attention_mae: 0.0226 - val_loss: 0.0062 - val_attention_mae: 0.0319\n",
            "Epoch 54/300\n",
            "45/45 [==============================] - ETA: 0s - loss: 0.0035 - attention_mae: 0.0225\n",
            "Epoch 54: val_loss did not improve from 0.00600\n",
            "45/45 [==============================] - 29s 654ms/step - loss: 0.0035 - attention_mae: 0.0225 - val_loss: 0.0065 - val_attention_mae: 0.0330\n",
            "Epoch 55/300\n",
            "45/45 [==============================] - ETA: 0s - loss: 0.0035 - attention_mae: 0.0221\n",
            "Epoch 55: val_loss did not improve from 0.00600\n",
            "45/45 [==============================] - 29s 655ms/step - loss: 0.0035 - attention_mae: 0.0221 - val_loss: 0.0065 - val_attention_mae: 0.0342\n",
            "Epoch 56/300\n",
            "45/45 [==============================] - ETA: 0s - loss: 0.0035 - attention_mae: 0.0225\n",
            "Epoch 56: val_loss did not improve from 0.00600\n",
            "45/45 [==============================] - 29s 655ms/step - loss: 0.0035 - attention_mae: 0.0225 - val_loss: 0.0069 - val_attention_mae: 0.0343\n",
            "Epoch 57/300\n",
            "45/45 [==============================] - ETA: 0s - loss: 0.0035 - attention_mae: 0.0224\n",
            "Epoch 57: val_loss did not improve from 0.00600\n",
            "45/45 [==============================] - 29s 655ms/step - loss: 0.0035 - attention_mae: 0.0224 - val_loss: 0.0062 - val_attention_mae: 0.0340\n",
            "Epoch 58/300\n",
            "45/45 [==============================] - ETA: 0s - loss: 0.0035 - attention_mae: 0.0218\n",
            "Epoch 58: val_loss did not improve from 0.00600\n",
            "45/45 [==============================] - 29s 655ms/step - loss: 0.0035 - attention_mae: 0.0218 - val_loss: 0.0064 - val_attention_mae: 0.0322\n",
            "Epoch 59/300\n",
            "45/45 [==============================] - ETA: 0s - loss: 0.0034 - attention_mae: 0.0215\n",
            "Epoch 59: val_loss did not improve from 0.00600\n",
            "45/45 [==============================] - 29s 655ms/step - loss: 0.0034 - attention_mae: 0.0215 - val_loss: 0.0067 - val_attention_mae: 0.0332\n",
            "Epoch 60/300\n",
            "45/45 [==============================] - ETA: 0s - loss: 0.0033 - attention_mae: 0.0213\n",
            "Epoch 60: val_loss did not improve from 0.00600\n",
            "45/45 [==============================] - 29s 655ms/step - loss: 0.0033 - attention_mae: 0.0213 - val_loss: 0.0066 - val_attention_mae: 0.0329\n",
            "Epoch 61/300\n",
            "45/45 [==============================] - ETA: 0s - loss: 0.0033 - attention_mae: 0.0212\n",
            "Epoch 61: val_loss did not improve from 0.00600\n",
            "45/45 [==============================] - 29s 654ms/step - loss: 0.0033 - attention_mae: 0.0212 - val_loss: 0.0065 - val_attention_mae: 0.0309\n",
            "Epoch 62/300\n",
            "45/45 [==============================] - ETA: 0s - loss: 0.0032 - attention_mae: 0.0210\n",
            "Epoch 62: val_loss improved from 0.00600 to 0.00596, saving model to ../../Models\\Curvature_2_Pressure_MultiViewUNet_I512_B8_LR0.001\n",
            "45/45 [==============================] - 31s 696ms/step - loss: 0.0032 - attention_mae: 0.0210 - val_loss: 0.0060 - val_attention_mae: 0.0292\n",
            "Epoch 63/300\n",
            "45/45 [==============================] - ETA: 0s - loss: 0.0032 - attention_mae: 0.0207\n",
            "Epoch 63: val_loss did not improve from 0.00596\n",
            "45/45 [==============================] - 30s 654ms/step - loss: 0.0032 - attention_mae: 0.0207 - val_loss: 0.0067 - val_attention_mae: 0.0314\n",
            "Epoch 64/300\n",
            "45/45 [==============================] - ETA: 0s - loss: 0.0032 - attention_mae: 0.0206\n",
            "Epoch 64: val_loss did not improve from 0.00596\n",
            "45/45 [==============================] - 29s 655ms/step - loss: 0.0032 - attention_mae: 0.0206 - val_loss: 0.0067 - val_attention_mae: 0.0325\n",
            "Epoch 65/300\n",
            "45/45 [==============================] - ETA: 0s - loss: 0.0032 - attention_mae: 0.0206\n",
            "Epoch 65: val_loss did not improve from 0.00596\n",
            "45/45 [==============================] - 29s 654ms/step - loss: 0.0032 - attention_mae: 0.0206 - val_loss: 0.0064 - val_attention_mae: 0.0312\n",
            "Epoch 66/300\n",
            "45/45 [==============================] - ETA: 0s - loss: 0.0031 - attention_mae: 0.0205\n",
            "Epoch 66: val_loss did not improve from 0.00596\n",
            "45/45 [==============================] - 29s 654ms/step - loss: 0.0031 - attention_mae: 0.0205 - val_loss: 0.0061 - val_attention_mae: 0.0296\n",
            "Epoch 67/300\n",
            "45/45 [==============================] - ETA: 0s - loss: 0.0032 - attention_mae: 0.0211\n",
            "Epoch 67: val_loss did not improve from 0.00596\n",
            "45/45 [==============================] - 29s 654ms/step - loss: 0.0032 - attention_mae: 0.0211 - val_loss: 0.0068 - val_attention_mae: 0.0296\n",
            "Epoch 68/300\n",
            "45/45 [==============================] - ETA: 0s - loss: 0.0032 - attention_mae: 0.0211\n",
            "Epoch 68: val_loss did not improve from 0.00596\n",
            "45/45 [==============================] - 29s 655ms/step - loss: 0.0032 - attention_mae: 0.0211 - val_loss: 0.0066 - val_attention_mae: 0.0336\n",
            "Epoch 69/300\n",
            "45/45 [==============================] - ETA: 0s - loss: 0.0031 - attention_mae: 0.0206\n",
            "Epoch 69: val_loss did not improve from 0.00596\n",
            "45/45 [==============================] - 29s 655ms/step - loss: 0.0031 - attention_mae: 0.0206 - val_loss: 0.0065 - val_attention_mae: 0.0308\n",
            "Epoch 70/300\n",
            "45/45 [==============================] - ETA: 0s - loss: 0.0031 - attention_mae: 0.0201\n",
            "Epoch 70: val_loss did not improve from 0.00596\n",
            "45/45 [==============================] - 29s 654ms/step - loss: 0.0031 - attention_mae: 0.0201 - val_loss: 0.0062 - val_attention_mae: 0.0306\n",
            "Epoch 71/300\n",
            "45/45 [==============================] - ETA: 0s - loss: 0.0030 - attention_mae: 0.0199\n",
            "Epoch 71: val_loss did not improve from 0.00596\n",
            "45/45 [==============================] - 29s 654ms/step - loss: 0.0030 - attention_mae: 0.0199 - val_loss: 0.0064 - val_attention_mae: 0.0298\n",
            "Epoch 72/300\n",
            "45/45 [==============================] - ETA: 0s - loss: 0.0030 - attention_mae: 0.0201\n",
            "Epoch 72: val_loss did not improve from 0.00596\n",
            "45/45 [==============================] - 29s 654ms/step - loss: 0.0030 - attention_mae: 0.0201 - val_loss: 0.0069 - val_attention_mae: 0.0312\n",
            "Epoch 73/300\n",
            "45/45 [==============================] - ETA: 0s - loss: 0.0030 - attention_mae: 0.0195\n",
            "Epoch 73: val_loss did not improve from 0.00596\n",
            "45/45 [==============================] - 29s 654ms/step - loss: 0.0030 - attention_mae: 0.0195 - val_loss: 0.0063 - val_attention_mae: 0.0293\n",
            "Epoch 74/300\n",
            "45/45 [==============================] - ETA: 0s - loss: 0.0029 - attention_mae: 0.0195\n",
            "Epoch 74: val_loss did not improve from 0.00596\n",
            "45/45 [==============================] - 29s 654ms/step - loss: 0.0029 - attention_mae: 0.0195 - val_loss: 0.0063 - val_attention_mae: 0.0294\n",
            "Epoch 75/300\n",
            "45/45 [==============================] - ETA: 0s - loss: 0.0030 - attention_mae: 0.0196\n",
            "Epoch 75: val_loss did not improve from 0.00596\n",
            "45/45 [==============================] - 29s 654ms/step - loss: 0.0030 - attention_mae: 0.0196 - val_loss: 0.0068 - val_attention_mae: 0.0311\n",
            "Epoch 76/300\n",
            "45/45 [==============================] - ETA: 0s - loss: 0.0029 - attention_mae: 0.0194\n",
            "Epoch 76: val_loss did not improve from 0.00596\n",
            "45/45 [==============================] - 29s 654ms/step - loss: 0.0029 - attention_mae: 0.0194 - val_loss: 0.0063 - val_attention_mae: 0.0297\n",
            "Epoch 77/300\n",
            "45/45 [==============================] - ETA: 0s - loss: 0.0028 - attention_mae: 0.0187\n",
            "Epoch 77: val_loss did not improve from 0.00596\n",
            "45/45 [==============================] - 29s 655ms/step - loss: 0.0028 - attention_mae: 0.0187 - val_loss: 0.0064 - val_attention_mae: 0.0292\n",
            "Epoch 78/300\n",
            "45/45 [==============================] - ETA: 0s - loss: 0.0028 - attention_mae: 0.0188\n",
            "Epoch 78: val_loss did not improve from 0.00596\n",
            "45/45 [==============================] - 29s 654ms/step - loss: 0.0028 - attention_mae: 0.0188 - val_loss: 0.0063 - val_attention_mae: 0.0292\n",
            "Epoch 79/300\n",
            "45/45 [==============================] - ETA: 0s - loss: 0.0028 - attention_mae: 0.0191\n",
            "Epoch 79: val_loss did not improve from 0.00596\n",
            "45/45 [==============================] - 29s 654ms/step - loss: 0.0028 - attention_mae: 0.0191 - val_loss: 0.0063 - val_attention_mae: 0.0301\n",
            "Epoch 80/300\n",
            "45/45 [==============================] - ETA: 0s - loss: 0.0028 - attention_mae: 0.0188\n",
            "Epoch 80: val_loss did not improve from 0.00596\n",
            "45/45 [==============================] - 29s 653ms/step - loss: 0.0028 - attention_mae: 0.0188 - val_loss: 0.0062 - val_attention_mae: 0.0281\n",
            "Epoch 81/300\n",
            "45/45 [==============================] - ETA: 0s - loss: 0.0028 - attention_mae: 0.0190\n",
            "Epoch 81: val_loss did not improve from 0.00596\n",
            "45/45 [==============================] - 29s 655ms/step - loss: 0.0028 - attention_mae: 0.0190 - val_loss: 0.0064 - val_attention_mae: 0.0305\n",
            "Epoch 82/300\n",
            "45/45 [==============================] - ETA: 0s - loss: 0.0028 - attention_mae: 0.0186\n",
            "Epoch 82: val_loss did not improve from 0.00596\n",
            "45/45 [==============================] - 29s 655ms/step - loss: 0.0028 - attention_mae: 0.0186 - val_loss: 0.0062 - val_attention_mae: 0.0291\n",
            "Epoch 83/300\n",
            "45/45 [==============================] - ETA: 0s - loss: 0.0027 - attention_mae: 0.0184\n",
            "Epoch 83: val_loss did not improve from 0.00596\n",
            "45/45 [==============================] - 29s 655ms/step - loss: 0.0027 - attention_mae: 0.0184 - val_loss: 0.0064 - val_attention_mae: 0.0289\n",
            "Epoch 84/300\n",
            "45/45 [==============================] - ETA: 0s - loss: 0.0028 - attention_mae: 0.0189\n",
            "Epoch 84: val_loss did not improve from 0.00596\n",
            "45/45 [==============================] - 29s 654ms/step - loss: 0.0028 - attention_mae: 0.0189 - val_loss: 0.0062 - val_attention_mae: 0.0286\n",
            "Epoch 85/300\n",
            "45/45 [==============================] - ETA: 0s - loss: 0.0027 - attention_mae: 0.0185\n",
            "Epoch 85: val_loss did not improve from 0.00596\n",
            "45/45 [==============================] - 29s 654ms/step - loss: 0.0027 - attention_mae: 0.0185 - val_loss: 0.0086 - val_attention_mae: 0.0346\n",
            "Epoch 86/300\n",
            "45/45 [==============================] - ETA: 0s - loss: 0.0027 - attention_mae: 0.0179\n",
            "Epoch 86: val_loss did not improve from 0.00596\n",
            "45/45 [==============================] - 29s 655ms/step - loss: 0.0027 - attention_mae: 0.0179 - val_loss: 0.0062 - val_attention_mae: 0.0285\n",
            "Epoch 87/300\n",
            "45/45 [==============================] - ETA: 0s - loss: 0.0026 - attention_mae: 0.0178\n",
            "Epoch 87: val_loss did not improve from 0.00596\n",
            "45/45 [==============================] - 29s 654ms/step - loss: 0.0026 - attention_mae: 0.0178 - val_loss: 0.0066 - val_attention_mae: 0.0297\n",
            "Epoch 88/300\n",
            "45/45 [==============================] - ETA: 0s - loss: 0.0027 - attention_mae: 0.0185\n",
            "Epoch 88: val_loss did not improve from 0.00596\n",
            "45/45 [==============================] - 29s 654ms/step - loss: 0.0027 - attention_mae: 0.0185 - val_loss: 0.0062 - val_attention_mae: 0.0289\n",
            "Epoch 89/300\n",
            "45/45 [==============================] - ETA: 0s - loss: 0.0026 - attention_mae: 0.0178\n",
            "Epoch 89: val_loss did not improve from 0.00596\n",
            "45/45 [==============================] - 29s 654ms/step - loss: 0.0026 - attention_mae: 0.0178 - val_loss: 0.0064 - val_attention_mae: 0.0282\n",
            "Epoch 90/300\n",
            "45/45 [==============================] - ETA: 0s - loss: 0.0026 - attention_mae: 0.0177\n",
            "Epoch 90: val_loss did not improve from 0.00596\n",
            "45/45 [==============================] - 29s 654ms/step - loss: 0.0026 - attention_mae: 0.0177 - val_loss: 0.0063 - val_attention_mae: 0.0281\n",
            "Epoch 91/300\n",
            "45/45 [==============================] - ETA: 0s - loss: 0.0025 - attention_mae: 0.0174\n",
            "Epoch 91: val_loss did not improve from 0.00596\n",
            "45/45 [==============================] - 29s 654ms/step - loss: 0.0025 - attention_mae: 0.0174 - val_loss: 0.0061 - val_attention_mae: 0.0280\n",
            "Epoch 92/300\n",
            "45/45 [==============================] - ETA: 0s - loss: 0.0025 - attention_mae: 0.0174\n",
            "Epoch 92: val_loss did not improve from 0.00596\n",
            "45/45 [==============================] - 30s 657ms/step - loss: 0.0025 - attention_mae: 0.0174 - val_loss: 0.0062 - val_attention_mae: 0.0290\n"
=======
            "23/23 [==============================] - ETA: 0s - loss: 0.0204 - attention_mae: 0.0994\n",
            "Epoch 1: val_loss improved from inf to 0.24287, saving model to /content/drive/MyDrive/Research/TAVI/Models/Curvature_2_Pressure_MultiViewUNet_I256_B16_LR0.001\n",
            "23/23 [==============================] - 89s 2s/step - loss: 0.0204 - attention_mae: 0.0994 - val_loss: 0.2429 - val_attention_mae: 0.4279\n",
            "Epoch 2/300\n",
            "23/23 [==============================] - ETA: 0s - loss: 0.0114 - attention_mae: 0.0676\n",
            "Epoch 2: val_loss improved from 0.24287 to 0.09342, saving model to /content/drive/MyDrive/Research/TAVI/Models/Curvature_2_Pressure_MultiViewUNet_I256_B16_LR0.001\n",
            "23/23 [==============================] - 19s 839ms/step - loss: 0.0114 - attention_mae: 0.0676 - val_loss: 0.0934 - val_attention_mae: 0.2470\n",
            "Epoch 3/300\n",
            "23/23 [==============================] - ETA: 0s - loss: 0.0100 - attention_mae: 0.0584\n",
            "Epoch 3: val_loss improved from 0.09342 to 0.05600, saving model to /content/drive/MyDrive/Research/TAVI/Models/Curvature_2_Pressure_MultiViewUNet_I256_B16_LR0.001\n",
            "23/23 [==============================] - 20s 863ms/step - loss: 0.0100 - attention_mae: 0.0584 - val_loss: 0.0560 - val_attention_mae: 0.1828\n",
            "Epoch 4/300\n",
            "23/23 [==============================] - ETA: 0s - loss: 0.0095 - attention_mae: 0.0547\n",
            "Epoch 4: val_loss improved from 0.05600 to 0.04431, saving model to /content/drive/MyDrive/Research/TAVI/Models/Curvature_2_Pressure_MultiViewUNet_I256_B16_LR0.001\n",
            "23/23 [==============================] - 20s 863ms/step - loss: 0.0095 - attention_mae: 0.0547 - val_loss: 0.0443 - val_attention_mae: 0.1541\n",
            "Epoch 5/300\n",
            "23/23 [==============================] - ETA: 0s - loss: 0.0092 - attention_mae: 0.0525\n",
            "Epoch 5: val_loss improved from 0.04431 to 0.04271, saving model to /content/drive/MyDrive/Research/TAVI/Models/Curvature_2_Pressure_MultiViewUNet_I256_B16_LR0.001\n",
            "23/23 [==============================] - 20s 851ms/step - loss: 0.0092 - attention_mae: 0.0525 - val_loss: 0.0427 - val_attention_mae: 0.1479\n",
            "Epoch 6/300\n",
            "23/23 [==============================] - ETA: 0s - loss: 0.0090 - attention_mae: 0.0513\n",
            "Epoch 6: val_loss improved from 0.04271 to 0.03936, saving model to /content/drive/MyDrive/Research/TAVI/Models/Curvature_2_Pressure_MultiViewUNet_I256_B16_LR0.001\n",
            "23/23 [==============================] - 19s 845ms/step - loss: 0.0090 - attention_mae: 0.0513 - val_loss: 0.0394 - val_attention_mae: 0.1378\n",
            "Epoch 7/300\n",
            "23/23 [==============================] - ETA: 0s - loss: 0.0086 - attention_mae: 0.0493\n",
            "Epoch 7: val_loss did not improve from 0.03936\n",
            "23/23 [==============================] - 19s 813ms/step - loss: 0.0086 - attention_mae: 0.0493 - val_loss: 0.0425 - val_attention_mae: 0.1452\n",
            "Epoch 8/300\n",
            "23/23 [==============================] - ETA: 0s - loss: 0.0083 - attention_mae: 0.0478\n",
            "Epoch 8: val_loss did not improve from 0.03936\n",
            "23/23 [==============================] - 19s 812ms/step - loss: 0.0083 - attention_mae: 0.0478 - val_loss: 0.0431 - val_attention_mae: 0.1490\n",
            "Epoch 9/300\n",
            "23/23 [==============================] - ETA: 0s - loss: 0.0080 - attention_mae: 0.0468\n",
            "Epoch 9: val_loss did not improve from 0.03936\n",
            "23/23 [==============================] - 19s 815ms/step - loss: 0.0080 - attention_mae: 0.0468 - val_loss: 0.0453 - val_attention_mae: 0.1562\n",
            "Epoch 10/300\n",
            "23/23 [==============================] - ETA: 0s - loss: 0.0077 - attention_mae: 0.0454\n",
            "Epoch 10: val_loss did not improve from 0.03936\n",
            "23/23 [==============================] - 19s 816ms/step - loss: 0.0077 - attention_mae: 0.0454 - val_loss: 0.0585 - val_attention_mae: 0.1814\n",
            "Epoch 11/300\n",
            "23/23 [==============================] - ETA: 0s - loss: 0.0076 - attention_mae: 0.0452\n",
            "Epoch 11: val_loss did not improve from 0.03936\n",
            "23/23 [==============================] - 19s 814ms/step - loss: 0.0076 - attention_mae: 0.0452 - val_loss: 0.0422 - val_attention_mae: 0.1487\n",
            "Epoch 12/300\n",
            "23/23 [==============================] - ETA: 0s - loss: 0.0074 - attention_mae: 0.0437\n",
            "Epoch 12: val_loss improved from 0.03936 to 0.03872, saving model to /content/drive/MyDrive/Research/TAVI/Models/Curvature_2_Pressure_MultiViewUNet_I256_B16_LR0.001\n",
            "23/23 [==============================] - 20s 882ms/step - loss: 0.0074 - attention_mae: 0.0437 - val_loss: 0.0387 - val_attention_mae: 0.1401\n",
            "Epoch 13/300\n",
            "23/23 [==============================] - ETA: 0s - loss: 0.0072 - attention_mae: 0.0426\n",
            "Epoch 13: val_loss improved from 0.03872 to 0.02860, saving model to /content/drive/MyDrive/Research/TAVI/Models/Curvature_2_Pressure_MultiViewUNet_I256_B16_LR0.001\n",
            "23/23 [==============================] - 20s 880ms/step - loss: 0.0072 - attention_mae: 0.0426 - val_loss: 0.0286 - val_attention_mae: 0.1135\n",
            "Epoch 14/300\n",
            "23/23 [==============================] - ETA: 0s - loss: 0.0071 - attention_mae: 0.0425\n",
            "Epoch 14: val_loss improved from 0.02860 to 0.02792, saving model to /content/drive/MyDrive/Research/TAVI/Models/Curvature_2_Pressure_MultiViewUNet_I256_B16_LR0.001\n",
            "23/23 [==============================] - 19s 844ms/step - loss: 0.0071 - attention_mae: 0.0425 - val_loss: 0.0279 - val_attention_mae: 0.1090\n",
            "Epoch 15/300\n",
            "23/23 [==============================] - ETA: 0s - loss: 0.0069 - attention_mae: 0.0413\n",
            "Epoch 15: val_loss improved from 0.02792 to 0.02502, saving model to /content/drive/MyDrive/Research/TAVI/Models/Curvature_2_Pressure_MultiViewUNet_I256_B16_LR0.001\n",
            "23/23 [==============================] - 19s 845ms/step - loss: 0.0069 - attention_mae: 0.0413 - val_loss: 0.0250 - val_attention_mae: 0.0974\n",
            "Epoch 16/300\n",
            "23/23 [==============================] - ETA: 0s - loss: 0.0068 - attention_mae: 0.0409\n",
            "Epoch 16: val_loss improved from 0.02502 to 0.02070, saving model to /content/drive/MyDrive/Research/TAVI/Models/Curvature_2_Pressure_MultiViewUNet_I256_B16_LR0.001\n",
            "23/23 [==============================] - 20s 872ms/step - loss: 0.0068 - attention_mae: 0.0409 - val_loss: 0.0207 - val_attention_mae: 0.0824\n",
            "Epoch 17/300\n",
            "23/23 [==============================] - ETA: 0s - loss: 0.0066 - attention_mae: 0.0401\n",
            "Epoch 17: val_loss improved from 0.02070 to 0.01956, saving model to /content/drive/MyDrive/Research/TAVI/Models/Curvature_2_Pressure_MultiViewUNet_I256_B16_LR0.001\n",
            "23/23 [==============================] - 20s 851ms/step - loss: 0.0066 - attention_mae: 0.0401 - val_loss: 0.0196 - val_attention_mae: 0.0772\n",
            "Epoch 18/300\n",
            "23/23 [==============================] - ETA: 0s - loss: 0.0066 - attention_mae: 0.0401\n",
            "Epoch 18: val_loss improved from 0.01956 to 0.01506, saving model to /content/drive/MyDrive/Research/TAVI/Models/Curvature_2_Pressure_MultiViewUNet_I256_B16_LR0.001\n",
            "23/23 [==============================] - 19s 844ms/step - loss: 0.0066 - attention_mae: 0.0401 - val_loss: 0.0151 - val_attention_mae: 0.0650\n",
            "Epoch 19/300\n",
            "23/23 [==============================] - ETA: 0s - loss: 0.0066 - attention_mae: 0.0402\n",
            "Epoch 19: val_loss improved from 0.01506 to 0.01361, saving model to /content/drive/MyDrive/Research/TAVI/Models/Curvature_2_Pressure_MultiViewUNet_I256_B16_LR0.001\n",
            "23/23 [==============================] - 20s 857ms/step - loss: 0.0066 - attention_mae: 0.0402 - val_loss: 0.0136 - val_attention_mae: 0.0611\n",
            "Epoch 20/300\n",
            "23/23 [==============================] - ETA: 0s - loss: 0.0065 - attention_mae: 0.0394\n",
            "Epoch 20: val_loss improved from 0.01361 to 0.01173, saving model to /content/drive/MyDrive/Research/TAVI/Models/Curvature_2_Pressure_MultiViewUNet_I256_B16_LR0.001\n",
            "23/23 [==============================] - 20s 873ms/step - loss: 0.0065 - attention_mae: 0.0394 - val_loss: 0.0117 - val_attention_mae: 0.0562\n",
            "Epoch 21/300\n",
            "23/23 [==============================] - ETA: 0s - loss: 0.0064 - attention_mae: 0.0382\n",
            "Epoch 21: val_loss did not improve from 0.01173\n",
            "23/23 [==============================] - 19s 838ms/step - loss: 0.0064 - attention_mae: 0.0382 - val_loss: 0.0125 - val_attention_mae: 0.0544\n",
            "Epoch 22/300\n",
            "23/23 [==============================] - ETA: 0s - loss: 0.0062 - attention_mae: 0.0380\n",
            "Epoch 22: val_loss did not improve from 0.01173\n",
            "23/23 [==============================] - 19s 818ms/step - loss: 0.0062 - attention_mae: 0.0380 - val_loss: 0.0135 - val_attention_mae: 0.0558\n",
            "Epoch 23/300\n",
            "23/23 [==============================] - ETA: 0s - loss: 0.0063 - attention_mae: 0.0382\n",
            "Epoch 23: val_loss improved from 0.01173 to 0.01159, saving model to /content/drive/MyDrive/Research/TAVI/Models/Curvature_2_Pressure_MultiViewUNet_I256_B16_LR0.001\n",
            "23/23 [==============================] - 19s 846ms/step - loss: 0.0063 - attention_mae: 0.0382 - val_loss: 0.0116 - val_attention_mae: 0.0519\n",
            "Epoch 24/300\n",
            "23/23 [==============================] - ETA: 0s - loss: 0.0062 - attention_mae: 0.0376\n",
            "Epoch 24: val_loss improved from 0.01159 to 0.01057, saving model to /content/drive/MyDrive/Research/TAVI/Models/Curvature_2_Pressure_MultiViewUNet_I256_B16_LR0.001\n",
            "23/23 [==============================] - 19s 846ms/step - loss: 0.0062 - attention_mae: 0.0376 - val_loss: 0.0106 - val_attention_mae: 0.0483\n",
            "Epoch 25/300\n",
            "23/23 [==============================] - ETA: 0s - loss: 0.0061 - attention_mae: 0.0371\n",
            "Epoch 25: val_loss did not improve from 0.01057\n",
            "23/23 [==============================] - 19s 837ms/step - loss: 0.0061 - attention_mae: 0.0371 - val_loss: 0.0106 - val_attention_mae: 0.0505\n",
            "Epoch 26/300\n",
            "23/23 [==============================] - ETA: 0s - loss: 0.0060 - attention_mae: 0.0365\n",
            "Epoch 26: val_loss improved from 0.01057 to 0.01012, saving model to /content/drive/MyDrive/Research/TAVI/Models/Curvature_2_Pressure_MultiViewUNet_I256_B16_LR0.001\n",
            "23/23 [==============================] - 19s 845ms/step - loss: 0.0060 - attention_mae: 0.0365 - val_loss: 0.0101 - val_attention_mae: 0.0483\n",
            "Epoch 27/300\n",
            "23/23 [==============================] - ETA: 0s - loss: 0.0059 - attention_mae: 0.0363\n",
            "Epoch 27: val_loss improved from 0.01012 to 0.00929, saving model to /content/drive/MyDrive/Research/TAVI/Models/Curvature_2_Pressure_MultiViewUNet_I256_B16_LR0.001\n",
            "23/23 [==============================] - 20s 859ms/step - loss: 0.0059 - attention_mae: 0.0363 - val_loss: 0.0093 - val_attention_mae: 0.0476\n",
            "Epoch 28/300\n",
            "23/23 [==============================] - ETA: 0s - loss: 0.0059 - attention_mae: 0.0362\n",
            "Epoch 28: val_loss did not improve from 0.00929\n",
            "23/23 [==============================] - 19s 819ms/step - loss: 0.0059 - attention_mae: 0.0362 - val_loss: 0.0112 - val_attention_mae: 0.0492\n",
            "Epoch 29/300\n",
            "23/23 [==============================] - ETA: 0s - loss: 0.0059 - attention_mae: 0.0360\n",
            "Epoch 29: val_loss improved from 0.00929 to 0.00911, saving model to /content/drive/MyDrive/Research/TAVI/Models/Curvature_2_Pressure_MultiViewUNet_I256_B16_LR0.001\n",
            "23/23 [==============================] - 20s 874ms/step - loss: 0.0059 - attention_mae: 0.0360 - val_loss: 0.0091 - val_attention_mae: 0.0522\n",
            "Epoch 30/300\n",
            "23/23 [==============================] - ETA: 0s - loss: 0.0058 - attention_mae: 0.0355\n",
            "Epoch 30: val_loss improved from 0.00911 to 0.00835, saving model to /content/drive/MyDrive/Research/TAVI/Models/Curvature_2_Pressure_MultiViewUNet_I256_B16_LR0.001\n",
            "23/23 [==============================] - 20s 867ms/step - loss: 0.0058 - attention_mae: 0.0355 - val_loss: 0.0083 - val_attention_mae: 0.0467\n",
            "Epoch 31/300\n",
            "23/23 [==============================] - ETA: 0s - loss: 0.0058 - attention_mae: 0.0351\n",
            "Epoch 31: val_loss did not improve from 0.00835\n",
            "23/23 [==============================] - 19s 817ms/step - loss: 0.0058 - attention_mae: 0.0351 - val_loss: 0.0090 - val_attention_mae: 0.0426\n",
            "Epoch 32/300\n",
            "23/23 [==============================] - ETA: 0s - loss: 0.0056 - attention_mae: 0.0343\n",
            "Epoch 32: val_loss improved from 0.00835 to 0.00803, saving model to /content/drive/MyDrive/Research/TAVI/Models/Curvature_2_Pressure_MultiViewUNet_I256_B16_LR0.001\n",
            "23/23 [==============================] - 19s 847ms/step - loss: 0.0056 - attention_mae: 0.0343 - val_loss: 0.0080 - val_attention_mae: 0.0421\n",
            "Epoch 33/300\n",
            "23/23 [==============================] - ETA: 0s - loss: 0.0056 - attention_mae: 0.0340\n",
            "Epoch 33: val_loss improved from 0.00803 to 0.00791, saving model to /content/drive/MyDrive/Research/TAVI/Models/Curvature_2_Pressure_MultiViewUNet_I256_B16_LR0.001\n",
            "23/23 [==============================] - 20s 877ms/step - loss: 0.0056 - attention_mae: 0.0340 - val_loss: 0.0079 - val_attention_mae: 0.0432\n",
            "Epoch 34/300\n",
            "23/23 [==============================] - ETA: 0s - loss: 0.0057 - attention_mae: 0.0350\n",
            "Epoch 34: val_loss did not improve from 0.00791\n",
            "23/23 [==============================] - 19s 819ms/step - loss: 0.0057 - attention_mae: 0.0350 - val_loss: 0.0080 - val_attention_mae: 0.0435\n",
            "Epoch 35/300\n",
            "23/23 [==============================] - ETA: 0s - loss: 0.0056 - attention_mae: 0.0341\n",
            "Epoch 35: val_loss did not improve from 0.00791\n",
            "23/23 [==============================] - 19s 819ms/step - loss: 0.0056 - attention_mae: 0.0341 - val_loss: 0.0097 - val_attention_mae: 0.0451\n",
            "Epoch 36/300\n",
            "23/23 [==============================] - ETA: 0s - loss: 0.0055 - attention_mae: 0.0342\n",
            "Epoch 36: val_loss did not improve from 0.00791\n",
            "23/23 [==============================] - 19s 819ms/step - loss: 0.0055 - attention_mae: 0.0342 - val_loss: 0.0088 - val_attention_mae: 0.0419\n",
            "Epoch 37/300\n",
            "23/23 [==============================] - ETA: 0s - loss: 0.0055 - attention_mae: 0.0343\n",
            "Epoch 37: val_loss did not improve from 0.00791\n",
            "23/23 [==============================] - 19s 820ms/step - loss: 0.0055 - attention_mae: 0.0343 - val_loss: 0.0091 - val_attention_mae: 0.0422\n",
            "Epoch 38/300\n",
            "23/23 [==============================] - ETA: 0s - loss: 0.0055 - attention_mae: 0.0336\n",
            "Epoch 38: val_loss did not improve from 0.00791\n",
            "23/23 [==============================] - 19s 820ms/step - loss: 0.0055 - attention_mae: 0.0336 - val_loss: 0.0083 - val_attention_mae: 0.0467\n",
            "Epoch 39/300\n",
            "23/23 [==============================] - ETA: 0s - loss: 0.0053 - attention_mae: 0.0326\n",
            "Epoch 39: val_loss did not improve from 0.00791\n",
            "23/23 [==============================] - 19s 820ms/step - loss: 0.0053 - attention_mae: 0.0326 - val_loss: 0.0080 - val_attention_mae: 0.0418\n",
            "Epoch 40/300\n",
            "23/23 [==============================] - ETA: 0s - loss: 0.0052 - attention_mae: 0.0325\n",
            "Epoch 40: val_loss did not improve from 0.00791\n",
            "23/23 [==============================] - 19s 819ms/step - loss: 0.0052 - attention_mae: 0.0325 - val_loss: 0.0080 - val_attention_mae: 0.0406\n",
            "Epoch 41/300\n",
            "23/23 [==============================] - ETA: 0s - loss: 0.0052 - attention_mae: 0.0321\n",
            "Epoch 41: val_loss did not improve from 0.00791\n",
            "23/23 [==============================] - 19s 819ms/step - loss: 0.0052 - attention_mae: 0.0321 - val_loss: 0.0087 - val_attention_mae: 0.0402\n",
            "Epoch 42/300\n",
            "23/23 [==============================] - ETA: 0s - loss: 0.0052 - attention_mae: 0.0321\n",
            "Epoch 42: val_loss improved from 0.00791 to 0.00777, saving model to /content/drive/MyDrive/Research/TAVI/Models/Curvature_2_Pressure_MultiViewUNet_I256_B16_LR0.001\n",
            "23/23 [==============================] - 19s 847ms/step - loss: 0.0052 - attention_mae: 0.0321 - val_loss: 0.0078 - val_attention_mae: 0.0406\n",
            "Epoch 43/300\n",
            "23/23 [==============================] - ETA: 0s - loss: 0.0052 - attention_mae: 0.0319\n",
            "Epoch 43: val_loss did not improve from 0.00777\n",
            "23/23 [==============================] - 19s 838ms/step - loss: 0.0052 - attention_mae: 0.0319 - val_loss: 0.0082 - val_attention_mae: 0.0423\n",
            "Epoch 44/300\n",
            "23/23 [==============================] - ETA: 0s - loss: 0.0051 - attention_mae: 0.0313\n",
            "Epoch 44: val_loss did not improve from 0.00777\n",
            "23/23 [==============================] - 19s 818ms/step - loss: 0.0051 - attention_mae: 0.0313 - val_loss: 0.0084 - val_attention_mae: 0.0433\n",
            "Epoch 45/300\n",
            "23/23 [==============================] - ETA: 0s - loss: 0.0050 - attention_mae: 0.0308\n",
            "Epoch 45: val_loss improved from 0.00777 to 0.00767, saving model to /content/drive/MyDrive/Research/TAVI/Models/Curvature_2_Pressure_MultiViewUNet_I256_B16_LR0.001\n",
            "23/23 [==============================] - 20s 854ms/step - loss: 0.0050 - attention_mae: 0.0308 - val_loss: 0.0077 - val_attention_mae: 0.0397\n",
            "Epoch 46/300\n",
            "23/23 [==============================] - ETA: 0s - loss: 0.0050 - attention_mae: 0.0305\n",
            "Epoch 46: val_loss did not improve from 0.00767\n",
            "23/23 [==============================] - 19s 819ms/step - loss: 0.0050 - attention_mae: 0.0305 - val_loss: 0.0084 - val_attention_mae: 0.0397\n",
            "Epoch 47/300\n",
            "23/23 [==============================] - ETA: 0s - loss: 0.0050 - attention_mae: 0.0306\n",
            "Epoch 47: val_loss did not improve from 0.00767\n",
            "23/23 [==============================] - 19s 821ms/step - loss: 0.0050 - attention_mae: 0.0306 - val_loss: 0.0083 - val_attention_mae: 0.0391\n",
            "Epoch 48/300\n",
            "23/23 [==============================] - ETA: 0s - loss: 0.0049 - attention_mae: 0.0302\n",
            "Epoch 48: val_loss did not improve from 0.00767\n",
            "23/23 [==============================] - 19s 819ms/step - loss: 0.0049 - attention_mae: 0.0302 - val_loss: 0.0077 - val_attention_mae: 0.0379\n",
            "Epoch 49/300\n",
            "23/23 [==============================] - ETA: 0s - loss: 0.0048 - attention_mae: 0.0301\n",
            "Epoch 49: val_loss did not improve from 0.00767\n",
            "23/23 [==============================] - 19s 819ms/step - loss: 0.0048 - attention_mae: 0.0301 - val_loss: 0.0080 - val_attention_mae: 0.0384\n",
            "Epoch 50/300\n",
            "23/23 [==============================] - ETA: 0s - loss: 0.0049 - attention_mae: 0.0302\n",
            "Epoch 50: val_loss improved from 0.00767 to 0.00751, saving model to /content/drive/MyDrive/Research/TAVI/Models/Curvature_2_Pressure_MultiViewUNet_I256_B16_LR0.001\n",
            "23/23 [==============================] - 20s 880ms/step - loss: 0.0049 - attention_mae: 0.0302 - val_loss: 0.0075 - val_attention_mae: 0.0387\n",
            "Epoch 51/300\n",
            "23/23 [==============================] - ETA: 0s - loss: 0.0048 - attention_mae: 0.0298\n",
            "Epoch 51: val_loss did not improve from 0.00751\n",
            "23/23 [==============================] - 19s 821ms/step - loss: 0.0048 - attention_mae: 0.0298 - val_loss: 0.0076 - val_attention_mae: 0.0374\n",
            "Epoch 52/300\n",
            "23/23 [==============================] - ETA: 0s - loss: 0.0048 - attention_mae: 0.0298\n",
            "Epoch 52: val_loss did not improve from 0.00751\n",
            "23/23 [==============================] - 19s 819ms/step - loss: 0.0048 - attention_mae: 0.0298 - val_loss: 0.0075 - val_attention_mae: 0.0383\n",
            "Epoch 53/300\n",
            "23/23 [==============================] - ETA: 0s - loss: 0.0047 - attention_mae: 0.0291\n",
            "Epoch 53: val_loss improved from 0.00751 to 0.00736, saving model to /content/drive/MyDrive/Research/TAVI/Models/Curvature_2_Pressure_MultiViewUNet_I256_B16_LR0.001\n",
            "23/23 [==============================] - 19s 847ms/step - loss: 0.0047 - attention_mae: 0.0291 - val_loss: 0.0074 - val_attention_mae: 0.0396\n",
            "Epoch 54/300\n",
            "23/23 [==============================] - ETA: 0s - loss: 0.0046 - attention_mae: 0.0288\n",
            "Epoch 54: val_loss improved from 0.00736 to 0.00718, saving model to /content/drive/MyDrive/Research/TAVI/Models/Curvature_2_Pressure_MultiViewUNet_I256_B16_LR0.001\n",
            "23/23 [==============================] - 19s 847ms/step - loss: 0.0046 - attention_mae: 0.0288 - val_loss: 0.0072 - val_attention_mae: 0.0372\n",
            "Epoch 55/300\n",
            "23/23 [==============================] - ETA: 0s - loss: 0.0047 - attention_mae: 0.0290\n",
            "Epoch 55: val_loss did not improve from 0.00718\n",
            "23/23 [==============================] - 19s 839ms/step - loss: 0.0047 - attention_mae: 0.0290 - val_loss: 0.0079 - val_attention_mae: 0.0366\n",
            "Epoch 56/300\n",
            "23/23 [==============================] - ETA: 0s - loss: 0.0047 - attention_mae: 0.0291\n",
            "Epoch 56: val_loss did not improve from 0.00718\n",
            "23/23 [==============================] - 19s 840ms/step - loss: 0.0047 - attention_mae: 0.0291 - val_loss: 0.0077 - val_attention_mae: 0.0376\n",
            "Epoch 57/300\n",
            "23/23 [==============================] - ETA: 0s - loss: 0.0046 - attention_mae: 0.0286\n",
            "Epoch 57: val_loss did not improve from 0.00718\n",
            "23/23 [==============================] - 19s 820ms/step - loss: 0.0046 - attention_mae: 0.0286 - val_loss: 0.0073 - val_attention_mae: 0.0380\n",
            "Epoch 58/300\n",
            "23/23 [==============================] - ETA: 0s - loss: 0.0045 - attention_mae: 0.0282\n",
            "Epoch 58: val_loss did not improve from 0.00718\n",
            "23/23 [==============================] - 19s 818ms/step - loss: 0.0045 - attention_mae: 0.0282 - val_loss: 0.0074 - val_attention_mae: 0.0361\n",
            "Epoch 59/300\n",
            "23/23 [==============================] - ETA: 0s - loss: 0.0046 - attention_mae: 0.0285\n",
            "Epoch 59: val_loss did not improve from 0.00718\n",
            "23/23 [==============================] - 19s 819ms/step - loss: 0.0046 - attention_mae: 0.0285 - val_loss: 0.0072 - val_attention_mae: 0.0363\n",
            "Epoch 60/300\n",
            "23/23 [==============================] - ETA: 0s - loss: 0.0046 - attention_mae: 0.0289\n",
            "Epoch 60: val_loss did not improve from 0.00718\n",
            "23/23 [==============================] - 19s 855ms/step - loss: 0.0046 - attention_mae: 0.0289 - val_loss: 0.0073 - val_attention_mae: 0.0358\n",
            "Epoch 61/300\n",
            "23/23 [==============================] - ETA: 0s - loss: 0.0045 - attention_mae: 0.0285\n",
            "Epoch 61: val_loss did not improve from 0.00718\n",
            "23/23 [==============================] - 19s 820ms/step - loss: 0.0045 - attention_mae: 0.0285 - val_loss: 0.0075 - val_attention_mae: 0.0361\n",
            "Epoch 62/300\n",
            "23/23 [==============================] - ETA: 0s - loss: 0.0045 - attention_mae: 0.0284\n",
            "Epoch 62: val_loss did not improve from 0.00718\n",
            "23/23 [==============================] - 19s 819ms/step - loss: 0.0045 - attention_mae: 0.0284 - val_loss: 0.0073 - val_attention_mae: 0.0372\n",
            "Epoch 63/300\n",
            "23/23 [==============================] - ETA: 0s - loss: 0.0045 - attention_mae: 0.0279\n",
            "Epoch 63: val_loss did not improve from 0.00718\n",
            "23/23 [==============================] - 19s 818ms/step - loss: 0.0045 - attention_mae: 0.0279 - val_loss: 0.0073 - val_attention_mae: 0.0359\n",
            "Epoch 64/300\n",
            "23/23 [==============================] - ETA: 0s - loss: 0.0043 - attention_mae: 0.0269\n",
            "Epoch 64: val_loss improved from 0.00718 to 0.00713, saving model to /content/drive/MyDrive/Research/TAVI/Models/Curvature_2_Pressure_MultiViewUNet_I256_B16_LR0.001\n",
            "23/23 [==============================] - 20s 868ms/step - loss: 0.0043 - attention_mae: 0.0269 - val_loss: 0.0071 - val_attention_mae: 0.0366\n",
            "Epoch 65/300\n",
            "23/23 [==============================] - ETA: 0s - loss: 0.0043 - attention_mae: 0.0269\n",
            "Epoch 65: val_loss did not improve from 0.00713\n",
            "23/23 [==============================] - 19s 820ms/step - loss: 0.0043 - attention_mae: 0.0269 - val_loss: 0.0071 - val_attention_mae: 0.0374\n",
            "Epoch 66/300\n",
            "23/23 [==============================] - ETA: 0s - loss: 0.0044 - attention_mae: 0.0273\n",
            "Epoch 66: val_loss did not improve from 0.00713\n",
            "23/23 [==============================] - 19s 819ms/step - loss: 0.0044 - attention_mae: 0.0273 - val_loss: 0.0079 - val_attention_mae: 0.0351\n",
            "Epoch 67/300\n",
            "23/23 [==============================] - ETA: 0s - loss: 0.0044 - attention_mae: 0.0269\n",
            "Epoch 67: val_loss improved from 0.00713 to 0.00709, saving model to /content/drive/MyDrive/Research/TAVI/Models/Curvature_2_Pressure_MultiViewUNet_I256_B16_LR0.001\n",
            "23/23 [==============================] - 19s 846ms/step - loss: 0.0044 - attention_mae: 0.0269 - val_loss: 0.0071 - val_attention_mae: 0.0353\n",
            "Epoch 68/300\n",
            "23/23 [==============================] - ETA: 0s - loss: 0.0043 - attention_mae: 0.0268\n",
            "Epoch 68: val_loss did not improve from 0.00709\n",
            "23/23 [==============================] - 19s 818ms/step - loss: 0.0043 - attention_mae: 0.0268 - val_loss: 0.0077 - val_attention_mae: 0.0357\n",
            "Epoch 69/300\n",
            "23/23 [==============================] - ETA: 0s - loss: 0.0043 - attention_mae: 0.0268\n",
            "Epoch 69: val_loss did not improve from 0.00709\n",
            "23/23 [==============================] - 19s 819ms/step - loss: 0.0043 - attention_mae: 0.0268 - val_loss: 0.0071 - val_attention_mae: 0.0352\n",
            "Epoch 70/300\n",
            "23/23 [==============================] - ETA: 0s - loss: 0.0043 - attention_mae: 0.0268\n",
            "Epoch 70: val_loss did not improve from 0.00709\n",
            "23/23 [==============================] - 19s 840ms/step - loss: 0.0043 - attention_mae: 0.0268 - val_loss: 0.0074 - val_attention_mae: 0.0349\n",
            "Epoch 71/300\n",
            "23/23 [==============================] - ETA: 0s - loss: 0.0042 - attention_mae: 0.0265\n",
            "Epoch 71: val_loss did not improve from 0.00709\n",
            "23/23 [==============================] - 19s 818ms/step - loss: 0.0042 - attention_mae: 0.0265 - val_loss: 0.0072 - val_attention_mae: 0.0343\n",
            "Epoch 72/300\n",
            "23/23 [==============================] - ETA: 0s - loss: 0.0042 - attention_mae: 0.0265\n",
            "Epoch 72: val_loss did not improve from 0.00709\n",
            "23/23 [==============================] - 19s 817ms/step - loss: 0.0042 - attention_mae: 0.0265 - val_loss: 0.0073 - val_attention_mae: 0.0365\n",
            "Epoch 73/300\n",
            "23/23 [==============================] - ETA: 0s - loss: 0.0042 - attention_mae: 0.0263\n",
            "Epoch 73: val_loss did not improve from 0.00709\n",
            "23/23 [==============================] - 19s 836ms/step - loss: 0.0042 - attention_mae: 0.0263 - val_loss: 0.0074 - val_attention_mae: 0.0359\n",
            "Epoch 74/300\n",
            "23/23 [==============================] - ETA: 0s - loss: 0.0041 - attention_mae: 0.0259\n",
            "Epoch 74: val_loss did not improve from 0.00709\n",
            "23/23 [==============================] - 19s 839ms/step - loss: 0.0041 - attention_mae: 0.0259 - val_loss: 0.0073 - val_attention_mae: 0.0345\n",
            "Epoch 75/300\n",
            "23/23 [==============================] - ETA: 0s - loss: 0.0041 - attention_mae: 0.0258\n",
            "Epoch 75: val_loss did not improve from 0.00709\n",
            "23/23 [==============================] - 19s 819ms/step - loss: 0.0041 - attention_mae: 0.0258 - val_loss: 0.0074 - val_attention_mae: 0.0343\n",
            "Epoch 76/300\n",
            "23/23 [==============================] - ETA: 0s - loss: 0.0041 - attention_mae: 0.0256\n",
            "Epoch 76: val_loss did not improve from 0.00709\n",
            "23/23 [==============================] - 19s 819ms/step - loss: 0.0041 - attention_mae: 0.0256 - val_loss: 0.0073 - val_attention_mae: 0.0353\n",
            "Epoch 77/300\n",
            "23/23 [==============================] - ETA: 0s - loss: 0.0040 - attention_mae: 0.0253\n",
            "Epoch 77: val_loss did not improve from 0.00709\n",
            "23/23 [==============================] - 19s 819ms/step - loss: 0.0040 - attention_mae: 0.0253 - val_loss: 0.0072 - val_attention_mae: 0.0349\n",
            "Epoch 78/300\n",
            "23/23 [==============================] - ETA: 0s - loss: 0.0040 - attention_mae: 0.0256\n",
            "Epoch 78: val_loss improved from 0.00709 to 0.00701, saving model to /content/drive/MyDrive/Research/TAVI/Models/Curvature_2_Pressure_MultiViewUNet_I256_B16_LR0.001\n",
            "23/23 [==============================] - 20s 851ms/step - loss: 0.0040 - attention_mae: 0.0256 - val_loss: 0.0070 - val_attention_mae: 0.0344\n",
            "Epoch 79/300\n",
            "23/23 [==============================] - ETA: 0s - loss: 0.0040 - attention_mae: 0.0257\n",
            "Epoch 79: val_loss did not improve from 0.00701\n",
            "23/23 [==============================] - 19s 839ms/step - loss: 0.0040 - attention_mae: 0.0257 - val_loss: 0.0070 - val_attention_mae: 0.0342\n",
            "Epoch 80/300\n",
            "23/23 [==============================] - ETA: 0s - loss: 0.0041 - attention_mae: 0.0256\n",
            "Epoch 80: val_loss improved from 0.00701 to 0.00697, saving model to /content/drive/MyDrive/Research/TAVI/Models/Curvature_2_Pressure_MultiViewUNet_I256_B16_LR0.001\n",
            "23/23 [==============================] - 20s 856ms/step - loss: 0.0041 - attention_mae: 0.0256 - val_loss: 0.0070 - val_attention_mae: 0.0336\n",
            "Epoch 81/300\n",
            "23/23 [==============================] - ETA: 0s - loss: 0.0040 - attention_mae: 0.0250\n",
            "Epoch 81: val_loss did not improve from 0.00697\n",
            "23/23 [==============================] - 19s 820ms/step - loss: 0.0040 - attention_mae: 0.0250 - val_loss: 0.0072 - val_attention_mae: 0.0333\n",
            "Epoch 82/300\n",
            "23/23 [==============================] - ETA: 0s - loss: 0.0040 - attention_mae: 0.0256\n",
            "Epoch 82: val_loss did not improve from 0.00697\n",
            "23/23 [==============================] - 19s 819ms/step - loss: 0.0040 - attention_mae: 0.0256 - val_loss: 0.0078 - val_attention_mae: 0.0343\n",
            "Epoch 83/300\n",
            "23/23 [==============================] - ETA: 0s - loss: 0.0040 - attention_mae: 0.0251\n",
            "Epoch 83: val_loss did not improve from 0.00697\n",
            "23/23 [==============================] - 19s 820ms/step - loss: 0.0040 - attention_mae: 0.0251 - val_loss: 0.0071 - val_attention_mae: 0.0345\n",
            "Epoch 84/300\n",
            "23/23 [==============================] - ETA: 0s - loss: 0.0040 - attention_mae: 0.0250\n",
            "Epoch 84: val_loss did not improve from 0.00697\n",
            "23/23 [==============================] - 19s 821ms/step - loss: 0.0040 - attention_mae: 0.0250 - val_loss: 0.0076 - val_attention_mae: 0.0346\n",
            "Epoch 85/300\n",
            "23/23 [==============================] - ETA: 0s - loss: 0.0040 - attention_mae: 0.0250\n",
            "Epoch 85: val_loss did not improve from 0.00697\n",
            "23/23 [==============================] - 19s 818ms/step - loss: 0.0040 - attention_mae: 0.0250 - val_loss: 0.0071 - val_attention_mae: 0.0339\n",
            "Epoch 86/300\n",
            "23/23 [==============================] - ETA: 0s - loss: 0.0039 - attention_mae: 0.0246\n",
            "Epoch 86: val_loss improved from 0.00697 to 0.00695, saving model to /content/drive/MyDrive/Research/TAVI/Models/Curvature_2_Pressure_MultiViewUNet_I256_B16_LR0.001\n",
            "23/23 [==============================] - 19s 846ms/step - loss: 0.0039 - attention_mae: 0.0246 - val_loss: 0.0069 - val_attention_mae: 0.0338\n",
            "Epoch 87/300\n",
            "23/23 [==============================] - ETA: 0s - loss: 0.0038 - attention_mae: 0.0241\n",
            "Epoch 87: val_loss improved from 0.00695 to 0.00690, saving model to /content/drive/MyDrive/Research/TAVI/Models/Curvature_2_Pressure_MultiViewUNet_I256_B16_LR0.001\n",
            "23/23 [==============================] - 20s 857ms/step - loss: 0.0038 - attention_mae: 0.0241 - val_loss: 0.0069 - val_attention_mae: 0.0337\n",
            "Epoch 88/300\n",
            "23/23 [==============================] - ETA: 0s - loss: 0.0038 - attention_mae: 0.0247\n",
            "Epoch 88: val_loss did not improve from 0.00690\n",
            "23/23 [==============================] - 19s 839ms/step - loss: 0.0038 - attention_mae: 0.0247 - val_loss: 0.0071 - val_attention_mae: 0.0358\n",
            "Epoch 89/300\n",
            "23/23 [==============================] - ETA: 0s - loss: 0.0038 - attention_mae: 0.0244\n",
            "Epoch 89: val_loss did not improve from 0.00690\n",
            "23/23 [==============================] - 19s 821ms/step - loss: 0.0038 - attention_mae: 0.0244 - val_loss: 0.0070 - val_attention_mae: 0.0334\n",
            "Epoch 90/300\n",
            "23/23 [==============================] - ETA: 0s - loss: 0.0038 - attention_mae: 0.0239\n",
            "Epoch 90: val_loss did not improve from 0.00690\n",
            "23/23 [==============================] - 19s 820ms/step - loss: 0.0038 - attention_mae: 0.0239 - val_loss: 0.0070 - val_attention_mae: 0.0336\n",
            "Epoch 91/300\n",
            "23/23 [==============================] - ETA: 0s - loss: 0.0038 - attention_mae: 0.0242\n",
            "Epoch 91: val_loss did not improve from 0.00690\n",
            "23/23 [==============================] - 19s 839ms/step - loss: 0.0038 - attention_mae: 0.0242 - val_loss: 0.0071 - val_attention_mae: 0.0331\n",
            "Epoch 92/300\n",
            "23/23 [==============================] - ETA: 0s - loss: 0.0038 - attention_mae: 0.0240\n",
            "Epoch 92: val_loss did not improve from 0.00690\n",
            "23/23 [==============================] - 19s 818ms/step - loss: 0.0038 - attention_mae: 0.0240 - val_loss: 0.0069 - val_attention_mae: 0.0336\n",
            "Epoch 93/300\n",
            "23/23 [==============================] - ETA: 0s - loss: 0.0037 - attention_mae: 0.0239\n",
            "Epoch 93: val_loss did not improve from 0.00690\n",
            "23/23 [==============================] - 19s 839ms/step - loss: 0.0037 - attention_mae: 0.0239 - val_loss: 0.0070 - val_attention_mae: 0.0329\n",
            "Epoch 94/300\n",
            "23/23 [==============================] - ETA: 0s - loss: 0.0037 - attention_mae: 0.0241\n",
            "Epoch 94: val_loss did not improve from 0.00690\n",
            "23/23 [==============================] - 19s 820ms/step - loss: 0.0037 - attention_mae: 0.0241 - val_loss: 0.0073 - val_attention_mae: 0.0331\n",
            "Epoch 95/300\n",
            "23/23 [==============================] - ETA: 0s - loss: 0.0037 - attention_mae: 0.0237\n",
            "Epoch 95: val_loss did not improve from 0.00690\n",
            "23/23 [==============================] - 19s 819ms/step - loss: 0.0037 - attention_mae: 0.0237 - val_loss: 0.0070 - val_attention_mae: 0.0332\n",
            "Epoch 96/300\n",
            "23/23 [==============================] - ETA: 0s - loss: 0.0037 - attention_mae: 0.0236\n",
            "Epoch 96: val_loss did not improve from 0.00690\n",
            "23/23 [==============================] - 19s 820ms/step - loss: 0.0037 - attention_mae: 0.0236 - val_loss: 0.0071 - val_attention_mae: 0.0340\n",
            "Epoch 97/300\n",
            "23/23 [==============================] - ETA: 0s - loss: 0.0036 - attention_mae: 0.0233\n",
            "Epoch 97: val_loss did not improve from 0.00690\n",
            "23/23 [==============================] - 19s 820ms/step - loss: 0.0036 - attention_mae: 0.0233 - val_loss: 0.0070 - val_attention_mae: 0.0329\n",
            "Epoch 98/300\n",
            "23/23 [==============================] - ETA: 0s - loss: 0.0037 - attention_mae: 0.0235\n",
            "Epoch 98: val_loss did not improve from 0.00690\n",
            "23/23 [==============================] - 19s 839ms/step - loss: 0.0037 - attention_mae: 0.0235 - val_loss: 0.0070 - val_attention_mae: 0.0332\n",
            "Epoch 99/300\n",
            "23/23 [==============================] - ETA: 0s - loss: 0.0036 - attention_mae: 0.0235\n",
            "Epoch 99: val_loss improved from 0.00690 to 0.00688, saving model to /content/drive/MyDrive/Research/TAVI/Models/Curvature_2_Pressure_MultiViewUNet_I256_B16_LR0.001\n",
            "23/23 [==============================] - 19s 847ms/step - loss: 0.0036 - attention_mae: 0.0235 - val_loss: 0.0069 - val_attention_mae: 0.0331\n",
            "Epoch 100/300\n",
            "23/23 [==============================] - ETA: 0s - loss: 0.0036 - attention_mae: 0.0233\n",
            "Epoch 100: val_loss did not improve from 0.00688\n",
            "23/23 [==============================] - 19s 818ms/step - loss: 0.0036 - attention_mae: 0.0233 - val_loss: 0.0070 - val_attention_mae: 0.0324\n",
            "Epoch 101/300\n",
            "23/23 [==============================] - ETA: 0s - loss: 0.0036 - attention_mae: 0.0229\n",
            "Epoch 101: val_loss did not improve from 0.00688\n",
            "23/23 [==============================] - 19s 820ms/step - loss: 0.0036 - attention_mae: 0.0229 - val_loss: 0.0069 - val_attention_mae: 0.0331\n",
            "Epoch 102/300\n",
            "23/23 [==============================] - ETA: 0s - loss: 0.0036 - attention_mae: 0.0233\n",
            "Epoch 102: val_loss did not improve from 0.00688\n",
            "23/23 [==============================] - 19s 820ms/step - loss: 0.0036 - attention_mae: 0.0233 - val_loss: 0.0070 - val_attention_mae: 0.0324\n",
            "Epoch 103/300\n",
            "23/23 [==============================] - ETA: 0s - loss: 0.0036 - attention_mae: 0.0233\n",
            "Epoch 103: val_loss did not improve from 0.00688\n",
            "23/23 [==============================] - 19s 839ms/step - loss: 0.0036 - attention_mae: 0.0233 - val_loss: 0.0070 - val_attention_mae: 0.0332\n",
            "Epoch 104/300\n",
            "23/23 [==============================] - ETA: 0s - loss: 0.0035 - attention_mae: 0.0229\n",
            "Epoch 104: val_loss did not improve from 0.00688\n",
            "23/23 [==============================] - 19s 818ms/step - loss: 0.0035 - attention_mae: 0.0229 - val_loss: 0.0069 - val_attention_mae: 0.0328\n",
            "Epoch 105/300\n",
            "23/23 [==============================] - ETA: 0s - loss: 0.0035 - attention_mae: 0.0229\n",
            "Epoch 105: val_loss did not improve from 0.00688\n",
            "23/23 [==============================] - 19s 818ms/step - loss: 0.0035 - attention_mae: 0.0229 - val_loss: 0.0070 - val_attention_mae: 0.0332\n",
            "Epoch 106/300\n",
            "23/23 [==============================] - ETA: 0s - loss: 0.0035 - attention_mae: 0.0228\n",
            "Epoch 106: val_loss did not improve from 0.00688\n",
            "23/23 [==============================] - 19s 818ms/step - loss: 0.0035 - attention_mae: 0.0228 - val_loss: 0.0071 - val_attention_mae: 0.0325\n",
            "Epoch 107/300\n",
            "23/23 [==============================] - ETA: 0s - loss: 0.0035 - attention_mae: 0.0226\n",
            "Epoch 107: val_loss did not improve from 0.00688\n",
            "23/23 [==============================] - 19s 819ms/step - loss: 0.0035 - attention_mae: 0.0226 - val_loss: 0.0073 - val_attention_mae: 0.0337\n",
            "Epoch 108/300\n",
            "23/23 [==============================] - ETA: 0s - loss: 0.0036 - attention_mae: 0.0227\n",
            "Epoch 108: val_loss did not improve from 0.00688\n",
            "23/23 [==============================] - 19s 836ms/step - loss: 0.0036 - attention_mae: 0.0227 - val_loss: 0.0072 - val_attention_mae: 0.0322\n",
            "Epoch 109/300\n",
            "23/23 [==============================] - ETA: 0s - loss: 0.0035 - attention_mae: 0.0225\n",
            "Epoch 109: val_loss did not improve from 0.00688\n",
            "23/23 [==============================] - 19s 818ms/step - loss: 0.0035 - attention_mae: 0.0225 - val_loss: 0.0071 - val_attention_mae: 0.0327\n",
            "Epoch 110/300\n",
            "23/23 [==============================] - ETA: 0s - loss: 0.0035 - attention_mae: 0.0224\n",
            "Epoch 110: val_loss did not improve from 0.00688\n",
            "23/23 [==============================] - 19s 838ms/step - loss: 0.0035 - attention_mae: 0.0224 - val_loss: 0.0077 - val_attention_mae: 0.0323\n",
            "Epoch 111/300\n",
            "23/23 [==============================] - ETA: 0s - loss: 0.0035 - attention_mae: 0.0228\n",
            "Epoch 111: val_loss did not improve from 0.00688\n",
            "23/23 [==============================] - 19s 819ms/step - loss: 0.0035 - attention_mae: 0.0228 - val_loss: 0.0071 - val_attention_mae: 0.0335\n",
            "Epoch 112/300\n",
            "23/23 [==============================] - ETA: 0s - loss: 0.0035 - attention_mae: 0.0227\n",
            "Epoch 112: val_loss did not improve from 0.00688\n",
            "23/23 [==============================] - 19s 817ms/step - loss: 0.0035 - attention_mae: 0.0227 - val_loss: 0.0070 - val_attention_mae: 0.0321\n",
            "Epoch 113/300\n",
            "23/23 [==============================] - ETA: 0s - loss: 0.0034 - attention_mae: 0.0224\n",
            "Epoch 113: val_loss did not improve from 0.00688\n",
            "23/23 [==============================] - 19s 837ms/step - loss: 0.0034 - attention_mae: 0.0224 - val_loss: 0.0073 - val_attention_mae: 0.0321\n",
            "Epoch 114/300\n",
            "23/23 [==============================] - ETA: 0s - loss: 0.0034 - attention_mae: 0.0224\n",
            "Epoch 114: val_loss did not improve from 0.00688\n",
            "23/23 [==============================] - 19s 818ms/step - loss: 0.0034 - attention_mae: 0.0224 - val_loss: 0.0072 - val_attention_mae: 0.0326\n",
            "Epoch 115/300\n",
            "23/23 [==============================] - ETA: 0s - loss: 0.0034 - attention_mae: 0.0221\n",
            "Epoch 115: val_loss did not improve from 0.00688\n",
            "23/23 [==============================] - 19s 817ms/step - loss: 0.0034 - attention_mae: 0.0221 - val_loss: 0.0070 - val_attention_mae: 0.0325\n",
            "Epoch 116/300\n",
            "23/23 [==============================] - ETA: 0s - loss: 0.0034 - attention_mae: 0.0221\n",
            "Epoch 116: val_loss did not improve from 0.00688\n",
            "23/23 [==============================] - 19s 819ms/step - loss: 0.0034 - attention_mae: 0.0221 - val_loss: 0.0069 - val_attention_mae: 0.0322\n",
            "Epoch 117/300\n",
            "23/23 [==============================] - ETA: 0s - loss: 0.0034 - attention_mae: 0.0218\n",
            "Epoch 117: val_loss did not improve from 0.00688\n",
            "23/23 [==============================] - 19s 819ms/step - loss: 0.0034 - attention_mae: 0.0218 - val_loss: 0.0073 - val_attention_mae: 0.0316\n",
            "Epoch 118/300\n",
            "23/23 [==============================] - ETA: 0s - loss: 0.0034 - attention_mae: 0.0218\n",
            "Epoch 118: val_loss did not improve from 0.00688\n",
            "23/23 [==============================] - 19s 819ms/step - loss: 0.0034 - attention_mae: 0.0218 - val_loss: 0.0070 - val_attention_mae: 0.0315\n",
            "Epoch 119/300\n",
            "23/23 [==============================] - ETA: 0s - loss: 0.0033 - attention_mae: 0.0217\n",
            "Epoch 119: val_loss did not improve from 0.00688\n",
            "23/23 [==============================] - 19s 819ms/step - loss: 0.0033 - attention_mae: 0.0217 - val_loss: 0.0072 - val_attention_mae: 0.0323\n",
            "Epoch 120/300\n",
            "23/23 [==============================] - ETA: 0s - loss: 0.0033 - attention_mae: 0.0217\n",
            "Epoch 120: val_loss did not improve from 0.00688\n",
            "23/23 [==============================] - 19s 838ms/step - loss: 0.0033 - attention_mae: 0.0217 - val_loss: 0.0070 - val_attention_mae: 0.0317\n",
            "Epoch 121/300\n",
            "23/23 [==============================] - ETA: 0s - loss: 0.0033 - attention_mae: 0.0219\n",
            "Epoch 121: val_loss did not improve from 0.00688\n",
            "23/23 [==============================] - 19s 819ms/step - loss: 0.0033 - attention_mae: 0.0219 - val_loss: 0.0070 - val_attention_mae: 0.0324\n",
            "Epoch 122/300\n",
            "23/23 [==============================] - ETA: 0s - loss: 0.0033 - attention_mae: 0.0219\n",
            "Epoch 122: val_loss did not improve from 0.00688\n",
            "23/23 [==============================] - 19s 819ms/step - loss: 0.0033 - attention_mae: 0.0219 - val_loss: 0.0070 - val_attention_mae: 0.0315\n",
            "Epoch 123/300\n",
            "23/23 [==============================] - ETA: 0s - loss: 0.0033 - attention_mae: 0.0219\n",
            "Epoch 123: val_loss improved from 0.00688 to 0.00686, saving model to /content/drive/MyDrive/Research/TAVI/Models/Curvature_2_Pressure_MultiViewUNet_I256_B16_LR0.001\n",
            "23/23 [==============================] - 20s 867ms/step - loss: 0.0033 - attention_mae: 0.0219 - val_loss: 0.0069 - val_attention_mae: 0.0317\n",
            "Epoch 124/300\n",
            "23/23 [==============================] - ETA: 0s - loss: 0.0033 - attention_mae: 0.0219\n",
            "Epoch 124: val_loss did not improve from 0.00686\n",
            "23/23 [==============================] - 19s 819ms/step - loss: 0.0033 - attention_mae: 0.0219 - val_loss: 0.0071 - val_attention_mae: 0.0318\n",
            "Epoch 125/300\n",
            "23/23 [==============================] - ETA: 0s - loss: 0.0033 - attention_mae: 0.0217\n",
            "Epoch 125: val_loss did not improve from 0.00686\n",
            "23/23 [==============================] - 19s 819ms/step - loss: 0.0033 - attention_mae: 0.0217 - val_loss: 0.0070 - val_attention_mae: 0.0320\n",
            "Epoch 126/300\n",
            "23/23 [==============================] - ETA: 0s - loss: 0.0032 - attention_mae: 0.0214\n",
            "Epoch 126: val_loss did not improve from 0.00686\n",
            "23/23 [==============================] - 19s 819ms/step - loss: 0.0032 - attention_mae: 0.0214 - val_loss: 0.0071 - val_attention_mae: 0.0318\n",
            "Epoch 127/300\n",
            "23/23 [==============================] - ETA: 0s - loss: 0.0033 - attention_mae: 0.0216\n",
            "Epoch 127: val_loss did not improve from 0.00686\n",
            "23/23 [==============================] - 19s 819ms/step - loss: 0.0033 - attention_mae: 0.0216 - val_loss: 0.0073 - val_attention_mae: 0.0341\n",
            "Epoch 128/300\n",
            "23/23 [==============================] - ETA: 0s - loss: 0.0033 - attention_mae: 0.0218\n",
            "Epoch 128: val_loss did not improve from 0.00686\n",
            "23/23 [==============================] - 19s 837ms/step - loss: 0.0033 - attention_mae: 0.0218 - val_loss: 0.0071 - val_attention_mae: 0.0318\n",
            "Epoch 129/300\n",
            "23/23 [==============================] - ETA: 0s - loss: 0.0032 - attention_mae: 0.0218\n",
            "Epoch 129: val_loss did not improve from 0.00686\n",
            "23/23 [==============================] - 19s 819ms/step - loss: 0.0032 - attention_mae: 0.0218 - val_loss: 0.0071 - val_attention_mae: 0.0325\n",
            "Epoch 130/300\n",
            "23/23 [==============================] - ETA: 0s - loss: 0.0032 - attention_mae: 0.0215\n",
            "Epoch 130: val_loss did not improve from 0.00686\n",
            "23/23 [==============================] - 19s 818ms/step - loss: 0.0032 - attention_mae: 0.0215 - val_loss: 0.0073 - val_attention_mae: 0.0324\n",
            "Epoch 131/300\n",
            "23/23 [==============================] - ETA: 0s - loss: 0.0032 - attention_mae: 0.0214\n",
            "Epoch 131: val_loss did not improve from 0.00686\n",
            "23/23 [==============================] - 19s 839ms/step - loss: 0.0032 - attention_mae: 0.0214 - val_loss: 0.0070 - val_attention_mae: 0.0315\n",
            "Epoch 132/300\n",
            "23/23 [==============================] - ETA: 0s - loss: 0.0032 - attention_mae: 0.0208\n",
            "Epoch 132: val_loss did not improve from 0.00686\n",
            "23/23 [==============================] - 19s 838ms/step - loss: 0.0032 - attention_mae: 0.0208 - val_loss: 0.0072 - val_attention_mae: 0.0318\n",
            "Epoch 133/300\n",
            "23/23 [==============================] - ETA: 0s - loss: 0.0032 - attention_mae: 0.0215\n",
            "Epoch 133: val_loss did not improve from 0.00686\n",
            "23/23 [==============================] - 19s 819ms/step - loss: 0.0032 - attention_mae: 0.0215 - val_loss: 0.0070 - val_attention_mae: 0.0323\n",
            "Epoch 134/300\n",
            "23/23 [==============================] - ETA: 0s - loss: 0.0032 - attention_mae: 0.0213\n",
            "Epoch 134: val_loss did not improve from 0.00686\n",
            "23/23 [==============================] - 19s 838ms/step - loss: 0.0032 - attention_mae: 0.0213 - val_loss: 0.0071 - val_attention_mae: 0.0318\n",
            "Epoch 135/300\n",
            "23/23 [==============================] - ETA: 0s - loss: 0.0032 - attention_mae: 0.0209\n",
            "Epoch 135: val_loss did not improve from 0.00686\n",
            "23/23 [==============================] - 19s 819ms/step - loss: 0.0032 - attention_mae: 0.0209 - val_loss: 0.0072 - val_attention_mae: 0.0331\n",
            "Epoch 136/300\n",
            "23/23 [==============================] - ETA: 0s - loss: 0.0032 - attention_mae: 0.0212\n",
            "Epoch 136: val_loss did not improve from 0.00686\n",
            "23/23 [==============================] - 19s 819ms/step - loss: 0.0032 - attention_mae: 0.0212 - val_loss: 0.0070 - val_attention_mae: 0.0315\n",
            "Epoch 137/300\n",
            "23/23 [==============================] - ETA: 0s - loss: 0.0031 - attention_mae: 0.0211\n",
            "Epoch 137: val_loss did not improve from 0.00686\n",
            "23/23 [==============================] - 19s 838ms/step - loss: 0.0031 - attention_mae: 0.0211 - val_loss: 0.0071 - val_attention_mae: 0.0311\n",
            "Epoch 138/300\n",
            "23/23 [==============================] - ETA: 0s - loss: 0.0032 - attention_mae: 0.0212\n",
            "Epoch 138: val_loss did not improve from 0.00686\n",
            "23/23 [==============================] - 19s 819ms/step - loss: 0.0032 - attention_mae: 0.0212 - val_loss: 0.0072 - val_attention_mae: 0.0318\n",
            "Epoch 139/300\n",
            "23/23 [==============================] - ETA: 0s - loss: 0.0032 - attention_mae: 0.0215\n",
            "Epoch 139: val_loss did not improve from 0.00686\n",
            "23/23 [==============================] - 19s 818ms/step - loss: 0.0032 - attention_mae: 0.0215 - val_loss: 0.0073 - val_attention_mae: 0.0324\n",
            "Epoch 140/300\n",
            "23/23 [==============================] - ETA: 0s - loss: 0.0032 - attention_mae: 0.0212\n",
            "Epoch 140: val_loss did not improve from 0.00686\n",
            "23/23 [==============================] - 19s 818ms/step - loss: 0.0032 - attention_mae: 0.0212 - val_loss: 0.0070 - val_attention_mae: 0.0307\n",
            "Epoch 141/300\n",
            "23/23 [==============================] - ETA: 0s - loss: 0.0031 - attention_mae: 0.0211\n",
            "Epoch 141: val_loss did not improve from 0.00686\n",
            "23/23 [==============================] - 19s 819ms/step - loss: 0.0031 - attention_mae: 0.0211 - val_loss: 0.0071 - val_attention_mae: 0.0324\n",
            "Epoch 142/300\n",
            "23/23 [==============================] - ETA: 0s - loss: 0.0033 - attention_mae: 0.0221\n",
            "Epoch 142: val_loss did not improve from 0.00686\n",
            "23/23 [==============================] - 19s 818ms/step - loss: 0.0033 - attention_mae: 0.0221 - val_loss: 0.0072 - val_attention_mae: 0.0328\n",
            "Epoch 143/300\n",
            "23/23 [==============================] - ETA: 0s - loss: 0.0031 - attention_mae: 0.0210\n",
            "Epoch 143: val_loss did not improve from 0.00686\n",
            "23/23 [==============================] - 19s 818ms/step - loss: 0.0031 - attention_mae: 0.0210 - val_loss: 0.0073 - val_attention_mae: 0.0329\n",
            "Epoch 144/300\n",
            "23/23 [==============================] - ETA: 0s - loss: 0.0031 - attention_mae: 0.0209\n",
            "Epoch 144: val_loss did not improve from 0.00686\n",
            "23/23 [==============================] - 19s 838ms/step - loss: 0.0031 - attention_mae: 0.0209 - val_loss: 0.0070 - val_attention_mae: 0.0316\n",
            "Epoch 145/300\n",
            "23/23 [==============================] - ETA: 0s - loss: 0.0030 - attention_mae: 0.0206\n",
            "Epoch 145: val_loss did not improve from 0.00686\n",
            "23/23 [==============================] - 19s 818ms/step - loss: 0.0030 - attention_mae: 0.0206 - val_loss: 0.0070 - val_attention_mae: 0.0309\n",
            "Epoch 146/300\n",
            "23/23 [==============================] - ETA: 0s - loss: 0.0030 - attention_mae: 0.0203\n",
            "Epoch 146: val_loss did not improve from 0.00686\n",
            "23/23 [==============================] - 19s 819ms/step - loss: 0.0030 - attention_mae: 0.0203 - val_loss: 0.0070 - val_attention_mae: 0.0309\n",
            "Epoch 147/300\n",
            "23/23 [==============================] - ETA: 0s - loss: 0.0030 - attention_mae: 0.0201\n",
            "Epoch 147: val_loss did not improve from 0.00686\n",
            "23/23 [==============================] - 19s 839ms/step - loss: 0.0030 - attention_mae: 0.0201 - val_loss: 0.0071 - val_attention_mae: 0.0317\n",
            "Epoch 148/300\n",
            "23/23 [==============================] - ETA: 0s - loss: 0.0031 - attention_mae: 0.0208\n",
            "Epoch 148: val_loss did not improve from 0.00686\n",
            "23/23 [==============================] - 19s 819ms/step - loss: 0.0031 - attention_mae: 0.0208 - val_loss: 0.0077 - val_attention_mae: 0.0318\n",
            "Epoch 149/300\n",
            "23/23 [==============================] - ETA: 0s - loss: 0.0031 - attention_mae: 0.0204\n",
            "Epoch 149: val_loss did not improve from 0.00686\n",
            "23/23 [==============================] - 19s 818ms/step - loss: 0.0031 - attention_mae: 0.0204 - val_loss: 0.0071 - val_attention_mae: 0.0323\n",
            "Epoch 150/300\n",
            "23/23 [==============================] - ETA: 0s - loss: 0.0031 - attention_mae: 0.0206\n",
            "Epoch 150: val_loss did not improve from 0.00686\n",
            "23/23 [==============================] - 19s 820ms/step - loss: 0.0031 - attention_mae: 0.0206 - val_loss: 0.0076 - val_attention_mae: 0.0311\n",
            "Epoch 151/300\n",
            "23/23 [==============================] - ETA: 0s - loss: 0.0030 - attention_mae: 0.0204\n",
            "Epoch 151: val_loss did not improve from 0.00686\n",
            "23/23 [==============================] - 19s 819ms/step - loss: 0.0030 - attention_mae: 0.0204 - val_loss: 0.0072 - val_attention_mae: 0.0312\n",
            "Epoch 152/300\n",
            "23/23 [==============================] - ETA: 0s - loss: 0.0030 - attention_mae: 0.0201\n",
            "Epoch 152: val_loss did not improve from 0.00686\n",
            "23/23 [==============================] - 19s 818ms/step - loss: 0.0030 - attention_mae: 0.0201 - val_loss: 0.0073 - val_attention_mae: 0.0314\n",
            "Epoch 153/300\n",
            "23/23 [==============================] - ETA: 0s - loss: 0.0030 - attention_mae: 0.0201\n",
            "Epoch 153: val_loss did not improve from 0.00686\n",
            "23/23 [==============================] - 19s 822ms/step - loss: 0.0030 - attention_mae: 0.0201 - val_loss: 0.0072 - val_attention_mae: 0.0311\n"
>>>>>>> 7d1275fb32dc40a8572b4960c1ee2b78f9ead99a
          ]
        }
      ],
      "source": [
        "history = model.fit(\n",
        "    train_batches,\n",
        "    validation_data=test_batches,\n",
        "    epochs=N_EPOCHS,\n",
        "    batch_size=BATCH_SIZE,\n",
        "    callbacks=callbacks,\n",
        "    verbose=1\n",
        ")\n"
      ]
    },
    {
      "cell_type": "markdown",
      "metadata": {
        "id": "o0izY6BrsY8U"
      },
      "source": [
        "# Save Model"
      ]
    },
    {
      "cell_type": "code",
      "execution_count": 18,
      "metadata": {
        "id": "BriaW2DnsY8V"
      },
      "outputs": [
        {
          "name": "stderr",
          "output_type": "stream",
          "text": [
            "WARNING:absl:Found untraced functions such as _jit_compiled_convolution_op, _jit_compiled_convolution_op, _jit_compiled_convolution_op, _jit_compiled_convolution_op, _jit_compiled_convolution_op while saving (showing 5 of 28). These functions will not be directly callable after loading.\n"
          ]
        },
        {
          "name": "stdout",
          "output_type": "stream",
          "text": [
            "INFO:tensorflow:Assets written to: ../../Models/Curvature_2_Pressure_MultiViewUNet_I512_B8_LR0.001\\Nov-12-02-47AM\\assets\n"
          ]
        },
        {
          "name": "stderr",
          "output_type": "stream",
          "text": [
            "INFO:tensorflow:Assets written to: ../../Models/Curvature_2_Pressure_MultiViewUNet_I512_B8_LR0.001\\Nov-12-02-47AM\\assets\n"
          ]
        }
      ],
      "source": [
        "timestamp = datetime.datetime.now().strftime('%b-%d-%I-%M%p')\n",
        "if not os.path.exists(model_path):\n",
        "    os.makedirs(model_path)\n",
        "\n",
        "model.save(os.path.join(model_path, timestamp))"
      ]
    },
    {
      "cell_type": "code",
      "execution_count": 19,
      "metadata": {
<<<<<<< HEAD
=======
        "id": "3IADrMxkC9v2",
        "outputId": "0cac6bc3-0612-48cd-d295-237bb3432fc3",
>>>>>>> 7d1275fb32dc40a8572b4960c1ee2b78f9ead99a
        "colab": {
          "base_uri": "https://localhost:8080/",
          "height": 36
        },
        "id": "3IADrMxkC9v2",
        "outputId": "04bacb19-f39d-4fdb-de04-dbba0673a9fb"
      },
<<<<<<< HEAD
=======
      "execution_count": 17,
>>>>>>> 7d1275fb32dc40a8572b4960c1ee2b78f9ead99a
      "outputs": [
        {
          "data": {
            "text/plain": [
              "'../../Models/Curvature_2_Pressure_MultiViewUNet_I512_B8_LR0.001'"
            ]
          },
          "execution_count": 19,
          "metadata": {},
<<<<<<< HEAD
          "output_type": "execute_result"
=======
          "execution_count": 17
>>>>>>> 7d1275fb32dc40a8572b4960c1ee2b78f9ead99a
        }
      ],
      "source": [
        "model_path"
      ]
    },
    {
      "cell_type": "markdown",
      "metadata": {
        "id": "i_Oi8OvMsY8V"
      },
      "source": [
        "# Save Predictions"
      ]
    },
    {
      "cell_type": "code",
<<<<<<< HEAD
      "execution_count": 20,
      "metadata": {
=======
      "execution_count": 18,
      "metadata": {
        "id": "lvBEcrXCsY8V",
        "outputId": "c7bf8bd8-5220-4e9a-9f3c-c5f58b36de28",
>>>>>>> 7d1275fb32dc40a8572b4960c1ee2b78f9ead99a
        "colab": {
          "base_uri": "https://localhost:8080/"
        },
        "id": "lvBEcrXCsY8V",
        "outputId": "2a04791b-c3a9-4f50-e525-978ee800f030"
      },
      "outputs": [
        {
          "name": "stderr",
          "output_type": "stream",
          "text": [
            "0it [00:00, ?it/s]"
          ]
        },
        {
          "name": "stdout",
          "output_type": "stream",
          "text": [
            "1/1 [==============================] - 1s 1s/step\n"
          ]
        },
        {
          "name": "stderr",
          "output_type": "stream",
          "text": [
<<<<<<< HEAD
            "1it [00:02,  2.13s/it]"
          ]
        },
        {
          "name": "stdout",
          "output_type": "stream",
          "text": [
            "1/1 [==============================] - 0s 50ms/step\n"
          ]
        },
        {
          "name": "stderr",
          "output_type": "stream",
          "text": [
            "2it [00:02,  1.22s/it]"
          ]
        },
        {
          "name": "stdout",
          "output_type": "stream",
          "text": [
            "1/1 [==============================] - 0s 41ms/step\n"
          ]
        },
        {
          "name": "stderr",
          "output_type": "stream",
          "text": [
            "3it [00:03,  1.09it/s]"
          ]
        },
        {
          "name": "stdout",
          "output_type": "stream",
          "text": [
            "1/1 [==============================] - 0s 40ms/step\n"
          ]
        },
        {
          "name": "stderr",
          "output_type": "stream",
          "text": [
            "4it [00:03,  1.27it/s]"
          ]
        },
        {
          "name": "stdout",
          "output_type": "stream",
          "text": [
            "1/1 [==============================] - 0s 47ms/step\n"
          ]
        },
        {
          "name": "stderr",
          "output_type": "stream",
          "text": [
            "5it [00:04,  1.39it/s]"
          ]
        },
        {
          "name": "stdout",
          "output_type": "stream",
          "text": [
            "1/1 [==============================] - 0s 42ms/step\n"
          ]
        },
        {
          "name": "stderr",
          "output_type": "stream",
          "text": [
            "6it [00:05,  1.41it/s]"
          ]
        },
        {
          "name": "stdout",
          "output_type": "stream",
          "text": [
            "1/1 [==============================] - 0s 42ms/step\n"
          ]
        },
        {
          "name": "stderr",
          "output_type": "stream",
          "text": [
            "7it [00:05,  1.41it/s]"
=======
            "\r1it [00:02,  2.43s/it]"
          ]
        },
        {
          "output_type": "stream",
          "name": "stdout",
          "text": [
            "1/1 [==============================] - 0s 20ms/step\n"
          ]
        },
        {
          "output_type": "stream",
          "name": "stderr",
          "text": [
            "\r2it [00:02,  1.25s/it]"
          ]
        },
        {
          "output_type": "stream",
          "name": "stdout",
          "text": [
            "1/1 [==============================] - 0s 21ms/step\n"
          ]
        },
        {
          "output_type": "stream",
          "name": "stderr",
          "text": [
            "\r3it [00:03,  1.13it/s]"
          ]
        },
        {
          "output_type": "stream",
          "name": "stdout",
          "text": [
            "1/1 [==============================] - 0s 21ms/step\n"
          ]
        },
        {
          "output_type": "stream",
          "name": "stderr",
          "text": [
            "\r4it [00:03,  1.39it/s]"
          ]
        },
        {
          "output_type": "stream",
          "name": "stdout",
          "text": [
            "1/1 [==============================] - 0s 23ms/step\n"
          ]
        },
        {
          "output_type": "stream",
          "name": "stderr",
          "text": [
            "\r5it [00:04,  1.60it/s]"
          ]
        },
        {
          "output_type": "stream",
          "name": "stdout",
          "text": [
            "1/1 [==============================] - 0s 21ms/step\n"
          ]
        },
        {
          "output_type": "stream",
          "name": "stderr",
          "text": [
            "\r6it [00:04,  1.76it/s]"
          ]
        },
        {
          "output_type": "stream",
          "name": "stdout",
          "text": [
            "1/1 [==============================] - 0s 24ms/step\n"
          ]
        },
        {
          "output_type": "stream",
          "name": "stderr",
          "text": [
            "\r7it [00:05,  1.88it/s]"
          ]
        },
        {
          "output_type": "stream",
          "name": "stdout",
          "text": [
            "1/1 [==============================] - 0s 21ms/step\n"
          ]
        },
        {
          "output_type": "stream",
          "name": "stderr",
          "text": [
            "\r8it [00:05,  1.87it/s]"
>>>>>>> 7d1275fb32dc40a8572b4960c1ee2b78f9ead99a
          ]
        },
        {
          "name": "stdout",
          "output_type": "stream",
          "text": [
            "1/1 [==============================] - 0s 45ms/step\n"
          ]
        },
        {
          "name": "stderr",
          "output_type": "stream",
          "text": [
<<<<<<< HEAD
            "8it [00:06,  1.51it/s]"
          ]
        },
        {
          "name": "stdout",
          "output_type": "stream",
          "text": [
            "1/1 [==============================] - 0s 43ms/step\n"
          ]
        },
        {
          "name": "stderr",
          "output_type": "stream",
          "text": [
            "9it [00:06,  1.58it/s]"
          ]
        },
        {
          "name": "stdout",
          "output_type": "stream",
          "text": [
            "1/1 [==============================] - 0s 51ms/step\n"
          ]
        },
        {
          "name": "stderr",
          "output_type": "stream",
          "text": [
            "10it [00:07,  1.63it/s]"
          ]
        },
        {
          "name": "stdout",
          "output_type": "stream",
          "text": [
            "1/1 [==============================] - 0s 42ms/step\n"
          ]
        },
        {
          "name": "stderr",
          "output_type": "stream",
          "text": [
            "11it [00:08,  1.51it/s]"
          ]
        },
        {
          "name": "stdout",
          "output_type": "stream",
          "text": [
            "1/1 [==============================] - 0s 42ms/step\n"
          ]
        },
        {
          "name": "stderr",
          "output_type": "stream",
          "text": [
            "12it [00:08,  1.59it/s]"
          ]
        },
        {
          "name": "stdout",
          "output_type": "stream",
          "text": [
            "1/1 [==============================] - 0s 46ms/step\n"
          ]
        },
        {
          "name": "stderr",
          "output_type": "stream",
          "text": [
            "13it [00:09,  1.65it/s]"
          ]
        },
        {
          "name": "stdout",
          "output_type": "stream",
          "text": [
            "1/1 [==============================] - 0s 42ms/step\n"
          ]
        },
        {
          "name": "stderr",
          "output_type": "stream",
          "text": [
            "14it [00:10,  1.67it/s]"
          ]
        },
        {
          "name": "stdout",
          "output_type": "stream",
          "text": [
            "1/1 [==============================] - 0s 43ms/step\n"
          ]
        },
        {
          "name": "stderr",
          "output_type": "stream",
          "text": [
            "15it [00:10,  1.67it/s]"
          ]
        },
        {
          "name": "stdout",
          "output_type": "stream",
          "text": [
            "1/1 [==============================] - 0s 42ms/step\n"
          ]
        },
        {
          "name": "stderr",
          "output_type": "stream",
          "text": [
            "16it [00:11,  1.51it/s]"
          ]
        },
        {
          "name": "stdout",
          "output_type": "stream",
          "text": [
            "1/1 [==============================] - 0s 43ms/step\n"
          ]
        },
        {
          "name": "stderr",
          "output_type": "stream",
          "text": [
            "17it [00:12,  1.46it/s]"
          ]
        },
        {
          "name": "stdout",
          "output_type": "stream",
          "text": [
            "1/1 [==============================] - 0s 45ms/step\n"
          ]
        },
        {
          "name": "stderr",
          "output_type": "stream",
          "text": [
            "18it [00:12,  1.52it/s]"
          ]
        },
        {
          "name": "stdout",
          "output_type": "stream",
          "text": [
            "1/1 [==============================] - 0s 42ms/step\n"
          ]
        },
        {
          "name": "stderr",
          "output_type": "stream",
          "text": [
            "19it [00:13,  1.51it/s]"
          ]
        },
        {
          "name": "stdout",
          "output_type": "stream",
          "text": [
            "1/1 [==============================] - 0s 42ms/step\n"
          ]
        },
        {
          "name": "stderr",
          "output_type": "stream",
          "text": [
            "20it [00:14,  1.49it/s]"
          ]
        },
        {
          "name": "stdout",
          "output_type": "stream",
          "text": [
            "1/1 [==============================] - 0s 42ms/step\n"
          ]
        },
        {
          "name": "stderr",
          "output_type": "stream",
          "text": [
            "21it [00:14,  1.54it/s]"
=======
            "\r9it [00:06,  1.73it/s]"
          ]
        },
        {
          "output_type": "stream",
          "name": "stdout",
          "text": [
            "1/1 [==============================] - 0s 31ms/step\n"
          ]
        },
        {
          "output_type": "stream",
          "name": "stderr",
          "text": [
            "\r10it [00:06,  1.70it/s]"
          ]
        },
        {
          "output_type": "stream",
          "name": "stdout",
          "text": [
            "1/1 [==============================] - 0s 31ms/step\n"
          ]
        },
        {
          "output_type": "stream",
          "name": "stderr",
          "text": [
            "\r11it [00:07,  1.63it/s]"
          ]
        },
        {
          "output_type": "stream",
          "name": "stdout",
          "text": [
            "1/1 [==============================] - 0s 30ms/step\n"
          ]
        },
        {
          "output_type": "stream",
          "name": "stderr",
          "text": [
            "\r12it [00:08,  1.49it/s]"
          ]
        },
        {
          "output_type": "stream",
          "name": "stdout",
          "text": [
            "1/1 [==============================] - 0s 30ms/step\n"
          ]
        },
        {
          "output_type": "stream",
          "name": "stderr",
          "text": [
            "\r13it [00:09,  1.33it/s]"
          ]
        },
        {
          "output_type": "stream",
          "name": "stdout",
          "text": [
            "1/1 [==============================] - 0s 30ms/step\n"
          ]
        },
        {
          "output_type": "stream",
          "name": "stderr",
          "text": [
            "\r14it [00:10,  1.38it/s]"
          ]
        },
        {
          "output_type": "stream",
          "name": "stdout",
          "text": [
            "1/1 [==============================] - 0s 38ms/step\n"
          ]
        },
        {
          "output_type": "stream",
          "name": "stderr",
          "text": [
            "\r15it [00:10,  1.47it/s]"
          ]
        },
        {
          "output_type": "stream",
          "name": "stdout",
          "text": [
            "1/1 [==============================] - 0s 22ms/step\n"
          ]
        },
        {
          "output_type": "stream",
          "name": "stderr",
          "text": [
            "\r16it [00:11,  1.63it/s]"
          ]
        },
        {
          "output_type": "stream",
          "name": "stdout",
          "text": [
            "1/1 [==============================] - 0s 20ms/step\n"
          ]
        },
        {
          "output_type": "stream",
          "name": "stderr",
          "text": [
            "\r17it [00:11,  1.78it/s]"
          ]
        },
        {
          "output_type": "stream",
          "name": "stdout",
          "text": [
            "1/1 [==============================] - 0s 22ms/step\n"
          ]
        },
        {
          "output_type": "stream",
          "name": "stderr",
          "text": [
            "\r18it [00:11,  1.89it/s]"
          ]
        },
        {
          "output_type": "stream",
          "name": "stdout",
          "text": [
            "1/1 [==============================] - 0s 21ms/step\n"
          ]
        },
        {
          "output_type": "stream",
          "name": "stderr",
          "text": [
            "\r19it [00:12,  1.99it/s]"
          ]
        },
        {
          "output_type": "stream",
          "name": "stdout",
          "text": [
            "1/1 [==============================] - 0s 24ms/step\n"
          ]
        },
        {
          "output_type": "stream",
          "name": "stderr",
          "text": [
            "\r20it [00:12,  2.06it/s]"
          ]
        },
        {
          "output_type": "stream",
          "name": "stdout",
          "text": [
            "1/1 [==============================] - 0s 20ms/step\n"
          ]
        },
        {
          "output_type": "stream",
          "name": "stderr",
          "text": [
            "\r21it [00:13,  2.12it/s]"
          ]
        },
        {
          "output_type": "stream",
          "name": "stdout",
          "text": [
            "1/1 [==============================] - 0s 21ms/step\n"
          ]
        },
        {
          "output_type": "stream",
          "name": "stderr",
          "text": [
            "\r22it [00:13,  2.10it/s]"
          ]
        },
        {
          "output_type": "stream",
          "name": "stdout",
          "text": [
            "1/1 [==============================] - 0s 20ms/step\n"
          ]
        },
        {
          "output_type": "stream",
          "name": "stderr",
          "text": [
            "\r23it [00:14,  2.12it/s]"
          ]
        },
        {
          "output_type": "stream",
          "name": "stdout",
          "text": [
            "1/1 [==============================] - 0s 20ms/step\n"
          ]
        },
        {
          "output_type": "stream",
          "name": "stderr",
          "text": [
            "\r24it [00:14,  2.13it/s]"
          ]
        },
        {
          "output_type": "stream",
          "name": "stdout",
          "text": [
            "1/1 [==============================] - 0s 20ms/step\n"
          ]
        },
        {
          "output_type": "stream",
          "name": "stderr",
          "text": [
            "\r25it [00:15,  2.17it/s]"
          ]
        },
        {
          "output_type": "stream",
          "name": "stdout",
          "text": [
            "1/1 [==============================] - 0s 21ms/step\n"
          ]
        },
        {
          "output_type": "stream",
          "name": "stderr",
          "text": [
            "\r26it [00:15,  2.17it/s]"
          ]
        },
        {
          "output_type": "stream",
          "name": "stdout",
          "text": [
            "1/1 [==============================] - 0s 20ms/step\n"
          ]
        },
        {
          "output_type": "stream",
          "name": "stderr",
          "text": [
            "\r27it [00:16,  2.18it/s]"
          ]
        },
        {
          "output_type": "stream",
          "name": "stdout",
          "text": [
            "1/1 [==============================] - 0s 22ms/step\n"
          ]
        },
        {
          "output_type": "stream",
          "name": "stderr",
          "text": [
            "\r28it [00:16,  2.17it/s]"
          ]
        },
        {
          "output_type": "stream",
          "name": "stdout",
          "text": [
            "1/1 [==============================] - 0s 20ms/step\n"
          ]
        },
        {
          "output_type": "stream",
          "name": "stderr",
          "text": [
            "\r29it [00:17,  1.69it/s]"
>>>>>>> 7d1275fb32dc40a8572b4960c1ee2b78f9ead99a
          ]
        },
        {
          "name": "stdout",
          "output_type": "stream",
          "text": [
            "1/1 [==============================] - 0s 42ms/step\n"
          ]
        },
        {
          "name": "stderr",
          "output_type": "stream",
          "text": [
<<<<<<< HEAD
            "22it [00:15,  1.22it/s]"
          ]
        },
        {
          "name": "stdout",
          "output_type": "stream",
          "text": [
            "1/1 [==============================] - 0s 42ms/step\n"
          ]
        },
        {
          "name": "stderr",
          "output_type": "stream",
          "text": [
            "23it [00:16,  1.28it/s]"
          ]
        },
        {
          "name": "stdout",
          "output_type": "stream",
          "text": [
            "1/1 [==============================] - 0s 41ms/step\n"
          ]
        },
        {
          "name": "stderr",
          "output_type": "stream",
          "text": [
            "24it [00:17,  1.37it/s]"
=======
            "\r30it [00:17,  1.82it/s]"
>>>>>>> 7d1275fb32dc40a8572b4960c1ee2b78f9ead99a
          ]
        },
        {
          "name": "stdout",
          "output_type": "stream",
          "text": [
            "1/1 [==============================] - 0s 42ms/step\n"
          ]
        },
        {
          "name": "stderr",
          "output_type": "stream",
          "text": [
<<<<<<< HEAD
            "25it [00:17,  1.40it/s]"
=======
            "\r31it [00:18,  1.88it/s]"
>>>>>>> 7d1275fb32dc40a8572b4960c1ee2b78f9ead99a
          ]
        },
        {
          "name": "stdout",
          "output_type": "stream",
          "text": [
<<<<<<< HEAD
            "1/1 [==============================] - 0s 42ms/step\n"
=======
            "1/1 [==============================] - 0s 26ms/step\n"
>>>>>>> 7d1275fb32dc40a8572b4960c1ee2b78f9ead99a
          ]
        },
        {
          "name": "stderr",
          "output_type": "stream",
          "text": [
<<<<<<< HEAD
            "26it [00:18,  1.45it/s]"
          ]
        },
        {
          "name": "stdout",
          "output_type": "stream",
          "text": [
            "1/1 [==============================] - 0s 41ms/step\n"
          ]
        },
        {
          "name": "stderr",
          "output_type": "stream",
          "text": [
            "27it [00:19,  1.38it/s]"
          ]
        },
        {
          "name": "stdout",
          "output_type": "stream",
          "text": [
            "1/1 [==============================] - 0s 42ms/step\n"
          ]
        },
        {
          "name": "stderr",
          "output_type": "stream",
          "text": [
            "28it [00:19,  1.47it/s]"
          ]
        },
        {
          "name": "stdout",
          "output_type": "stream",
          "text": [
            "1/1 [==============================] - 0s 42ms/step\n"
          ]
        },
        {
          "name": "stderr",
          "output_type": "stream",
          "text": [
            "29it [00:20,  1.55it/s]"
          ]
        },
        {
          "name": "stdout",
          "output_type": "stream",
          "text": [
            "1/1 [==============================] - 0s 42ms/step\n"
          ]
        },
        {
          "name": "stderr",
          "output_type": "stream",
          "text": [
            "30it [00:21,  1.59it/s]"
          ]
        },
        {
          "name": "stdout",
          "output_type": "stream",
          "text": [
            "1/1 [==============================] - 0s 42ms/step\n"
          ]
        },
        {
          "name": "stderr",
          "output_type": "stream",
          "text": [
            "31it [00:21,  1.61it/s]"
          ]
        },
        {
          "name": "stdout",
          "output_type": "stream",
          "text": [
            "1/1 [==============================] - 0s 40ms/step\n"
          ]
        },
        {
          "name": "stderr",
          "output_type": "stream",
          "text": [
            "32it [00:22,  1.61it/s]"
          ]
        },
        {
          "name": "stdout",
          "output_type": "stream",
          "text": [
            "1/1 [==============================] - 0s 43ms/step\n"
          ]
        },
        {
          "name": "stderr",
          "output_type": "stream",
          "text": [
            "33it [00:22,  1.60it/s]"
          ]
        },
        {
          "name": "stdout",
          "output_type": "stream",
          "text": [
            "1/1 [==============================] - 0s 42ms/step\n"
          ]
        },
        {
          "name": "stderr",
          "output_type": "stream",
          "text": [
            "34it [00:23,  1.51it/s]"
          ]
        },
        {
          "name": "stdout",
          "output_type": "stream",
          "text": [
            "1/1 [==============================] - 0s 41ms/step\n"
          ]
        },
        {
          "name": "stderr",
          "output_type": "stream",
          "text": [
            "35it [00:24,  1.55it/s]"
=======
            "\r32it [00:18,  1.97it/s]"
>>>>>>> 7d1275fb32dc40a8572b4960c1ee2b78f9ead99a
          ]
        },
        {
          "name": "stdout",
          "output_type": "stream",
          "text": [
            "1/1 [==============================] - 0s 42ms/step\n"
          ]
        },
        {
          "name": "stderr",
          "output_type": "stream",
          "text": [
<<<<<<< HEAD
            "36it [00:24,  1.62it/s]"
=======
            "\r33it [00:19,  2.04it/s]"
          ]
        },
        {
          "output_type": "stream",
          "name": "stdout",
          "text": [
            "1/1 [==============================] - 0s 21ms/step\n"
          ]
        },
        {
          "output_type": "stream",
          "name": "stderr",
          "text": [
            "\r34it [00:19,  2.09it/s]"
          ]
        },
        {
          "output_type": "stream",
          "name": "stdout",
          "text": [
            "1/1 [==============================] - 0s 21ms/step\n"
          ]
        },
        {
          "output_type": "stream",
          "name": "stderr",
          "text": [
            "\r35it [00:20,  2.12it/s]"
          ]
        },
        {
          "output_type": "stream",
          "name": "stdout",
          "text": [
            "1/1 [==============================] - 0s 22ms/step\n"
          ]
        },
        {
          "output_type": "stream",
          "name": "stderr",
          "text": [
            "\r36it [00:20,  1.94it/s]"
          ]
        },
        {
          "output_type": "stream",
          "name": "stdout",
          "text": [
            "1/1 [==============================] - 0s 33ms/step\n"
          ]
        },
        {
          "output_type": "stream",
          "name": "stderr",
          "text": [
            "\r37it [00:21,  1.79it/s]"
          ]
        },
        {
          "output_type": "stream",
          "name": "stdout",
          "text": [
            "1/1 [==============================] - 0s 40ms/step\n"
          ]
        },
        {
          "output_type": "stream",
          "name": "stderr",
          "text": [
            "\r38it [00:22,  1.67it/s]"
          ]
        },
        {
          "output_type": "stream",
          "name": "stdout",
          "text": [
            "1/1 [==============================] - 0s 30ms/step\n"
          ]
        },
        {
          "output_type": "stream",
          "name": "stderr",
          "text": [
            "\r39it [00:22,  1.59it/s]"
          ]
        },
        {
          "output_type": "stream",
          "name": "stdout",
          "text": [
            "1/1 [==============================] - 0s 32ms/step\n"
          ]
        },
        {
          "output_type": "stream",
          "name": "stderr",
          "text": [
            "\r40it [00:23,  1.53it/s]"
          ]
        },
        {
          "output_type": "stream",
          "name": "stdout",
          "text": [
            "1/1 [==============================] - 0s 41ms/step\n"
          ]
        },
        {
          "output_type": "stream",
          "name": "stderr",
          "text": [
            "\r41it [00:24,  1.48it/s]"
          ]
        },
        {
          "output_type": "stream",
          "name": "stdout",
          "text": [
            "1/1 [==============================] - 0s 31ms/step\n"
          ]
        },
        {
          "output_type": "stream",
          "name": "stderr",
          "text": [
            "\r42it [00:24,  1.51it/s]"
          ]
        },
        {
          "output_type": "stream",
          "name": "stdout",
          "text": [
            "1/1 [==============================] - 0s 34ms/step\n"
          ]
        },
        {
          "output_type": "stream",
          "name": "stderr",
          "text": [
            "\r43it [00:25,  1.56it/s]"
          ]
        },
        {
          "output_type": "stream",
          "name": "stdout",
          "text": [
            "1/1 [==============================] - 0s 21ms/step\n"
          ]
        },
        {
          "output_type": "stream",
          "name": "stderr",
          "text": [
            "\r44it [00:25,  1.71it/s]"
          ]
        },
        {
          "output_type": "stream",
          "name": "stdout",
          "text": [
            "1/1 [==============================] - 0s 24ms/step\n"
          ]
        },
        {
          "output_type": "stream",
          "name": "stderr",
          "text": [
            "\r45it [00:26,  1.83it/s]"
          ]
        },
        {
          "output_type": "stream",
          "name": "stdout",
          "text": [
            "1/1 [==============================] - 0s 22ms/step\n"
          ]
        },
        {
          "output_type": "stream",
          "name": "stderr",
          "text": [
            "\r46it [00:26,  1.87it/s]"
          ]
        },
        {
          "output_type": "stream",
          "name": "stdout",
          "text": [
            "1/1 [==============================] - 0s 21ms/step\n"
          ]
        },
        {
          "output_type": "stream",
          "name": "stderr",
          "text": [
            "\r47it [00:27,  1.96it/s]"
>>>>>>> 7d1275fb32dc40a8572b4960c1ee2b78f9ead99a
          ]
        },
        {
          "name": "stdout",
          "output_type": "stream",
          "text": [
            "1/1 [==============================] - 0s 40ms/step\n"
          ]
        },
        {
          "name": "stderr",
          "output_type": "stream",
          "text": [
<<<<<<< HEAD
            "37it [00:25,  1.52it/s]"
          ]
        },
        {
          "name": "stdout",
          "output_type": "stream",
=======
            "\r48it [00:27,  2.01it/s]"
          ]
        },
        {
          "output_type": "stream",
          "name": "stdout",
          "text": [
            "1/1 [==============================] - 0s 20ms/step\n"
          ]
        },
        {
          "output_type": "stream",
          "name": "stderr",
          "text": [
            "\r49it [00:28,  2.06it/s]"
          ]
        },
        {
          "output_type": "stream",
          "name": "stdout",
          "text": [
            "1/1 [==============================] - 0s 25ms/step\n"
          ]
        },
        {
          "output_type": "stream",
          "name": "stderr",
          "text": [
            "\r50it [00:28,  2.10it/s]"
          ]
        },
        {
          "output_type": "stream",
          "name": "stdout",
          "text": [
            "1/1 [==============================] - 0s 20ms/step\n"
          ]
        },
        {
          "output_type": "stream",
          "name": "stderr",
          "text": [
            "\r51it [00:29,  2.12it/s]"
          ]
        },
        {
          "output_type": "stream",
          "name": "stdout",
          "text": [
            "1/1 [==============================] - 0s 20ms/step\n"
          ]
        },
        {
          "output_type": "stream",
          "name": "stderr",
          "text": [
            "\r52it [00:29,  2.13it/s]"
          ]
        },
        {
          "output_type": "stream",
          "name": "stdout",
          "text": [
            "1/1 [==============================] - 0s 20ms/step\n"
          ]
        },
        {
          "output_type": "stream",
          "name": "stderr",
          "text": [
            "\r53it [00:30,  2.14it/s]"
          ]
        },
        {
          "output_type": "stream",
          "name": "stdout",
          "text": [
            "1/1 [==============================] - 0s 20ms/step\n"
          ]
        },
        {
          "output_type": "stream",
          "name": "stderr",
          "text": [
            "\r54it [00:30,  2.14it/s]"
          ]
        },
        {
          "output_type": "stream",
          "name": "stdout",
          "text": [
            "1/1 [==============================] - 0s 25ms/step\n"
          ]
        },
        {
          "output_type": "stream",
          "name": "stderr",
          "text": [
            "\r55it [00:31,  2.12it/s]"
          ]
        },
        {
          "output_type": "stream",
          "name": "stdout",
          "text": [
            "1/1 [==============================] - 0s 20ms/step\n"
          ]
        },
        {
          "output_type": "stream",
          "name": "stderr",
          "text": [
            "\r56it [00:31,  2.14it/s]"
          ]
        },
        {
          "output_type": "stream",
          "name": "stdout",
          "text": [
            "1/1 [==============================] - 0s 22ms/step\n"
          ]
        },
        {
          "output_type": "stream",
          "name": "stderr",
          "text": [
            "\r57it [00:32,  2.15it/s]"
          ]
        },
        {
          "output_type": "stream",
          "name": "stdout",
          "text": [
            "1/1 [==============================] - 0s 20ms/step\n"
          ]
        },
        {
          "output_type": "stream",
          "name": "stderr",
          "text": [
            "\r58it [00:32,  2.17it/s]"
          ]
        },
        {
          "output_type": "stream",
          "name": "stdout",
          "text": [
            "1/1 [==============================] - 0s 25ms/step\n"
          ]
        },
        {
          "output_type": "stream",
          "name": "stderr",
          "text": [
            "\r59it [00:32,  2.10it/s]"
          ]
        },
        {
          "output_type": "stream",
          "name": "stdout",
          "text": [
            "1/1 [==============================] - 0s 22ms/step\n"
          ]
        },
        {
          "output_type": "stream",
          "name": "stderr",
          "text": [
            "\r60it [00:33,  2.13it/s]"
          ]
        },
        {
          "output_type": "stream",
          "name": "stdout",
          "text": [
            "1/1 [==============================] - 0s 20ms/step\n"
          ]
        },
        {
          "output_type": "stream",
          "name": "stderr",
          "text": [
            "\r61it [00:33,  2.11it/s]"
          ]
        },
        {
          "output_type": "stream",
          "name": "stdout",
          "text": [
            "1/1 [==============================] - 0s 21ms/step\n"
          ]
        },
        {
          "output_type": "stream",
          "name": "stderr",
          "text": [
            "\r62it [00:34,  2.12it/s]"
          ]
        },
        {
          "output_type": "stream",
          "name": "stdout",
          "text": [
            "1/1 [==============================] - 0s 20ms/step\n"
          ]
        },
        {
          "output_type": "stream",
          "name": "stderr",
          "text": [
            "\r63it [00:34,  2.14it/s]"
          ]
        },
        {
          "output_type": "stream",
          "name": "stdout",
          "text": [
            "1/1 [==============================] - 0s 22ms/step\n"
          ]
        },
        {
          "output_type": "stream",
          "name": "stderr",
          "text": [
            "\r64it [00:35,  2.14it/s]"
          ]
        },
        {
          "output_type": "stream",
          "name": "stdout",
          "text": [
            "1/1 [==============================] - 0s 21ms/step\n"
          ]
        },
        {
          "output_type": "stream",
          "name": "stderr",
          "text": [
            "\r65it [00:35,  1.92it/s]"
          ]
        },
        {
          "output_type": "stream",
          "name": "stdout",
          "text": [
            "1/1 [==============================] - 0s 32ms/step\n"
          ]
        },
        {
          "output_type": "stream",
          "name": "stderr",
          "text": [
            "\r66it [00:36,  1.80it/s]"
          ]
        },
        {
          "output_type": "stream",
          "name": "stdout",
          "text": [
            "1/1 [==============================] - 0s 30ms/step\n"
          ]
        },
        {
          "output_type": "stream",
          "name": "stderr",
          "text": [
            "\r67it [00:37,  1.66it/s]"
          ]
        },
        {
          "output_type": "stream",
          "name": "stdout",
          "text": [
            "1/1 [==============================] - 0s 34ms/step\n"
          ]
        },
        {
          "output_type": "stream",
          "name": "stderr",
          "text": [
            "\r68it [00:37,  1.59it/s]"
          ]
        },
        {
          "output_type": "stream",
          "name": "stdout",
>>>>>>> 7d1275fb32dc40a8572b4960c1ee2b78f9ead99a
          "text": [
            "1/1 [==============================] - 0s 42ms/step\n"
          ]
        },
        {
<<<<<<< HEAD
          "name": "stderr",
          "output_type": "stream",
          "text": [
            "38it [00:26,  1.54it/s]"
          ]
        },
        {
          "name": "stdout",
          "output_type": "stream",
          "text": [
            "1/1 [==============================] - 0s 41ms/step\n"
          ]
        },
        {
          "name": "stderr",
          "output_type": "stream",
          "text": [
            "39it [00:26,  1.56it/s]"
          ]
        },
        {
          "name": "stdout",
          "output_type": "stream",
          "text": [
            "1/1 [==============================] - 0s 43ms/step\n"
          ]
        },
        {
          "name": "stderr",
          "output_type": "stream",
          "text": [
            "40it [00:27,  1.44it/s]"
          ]
        },
        {
          "name": "stdout",
          "output_type": "stream",
          "text": [
            "1/1 [==============================] - 0s 43ms/step\n"
          ]
        },
        {
          "name": "stderr",
          "output_type": "stream",
          "text": [
            "41it [00:28,  1.42it/s]"
          ]
        },
        {
          "name": "stdout",
          "output_type": "stream",
          "text": [
            "1/1 [==============================] - 0s 42ms/step\n"
          ]
        },
        {
          "name": "stderr",
          "output_type": "stream",
          "text": [
            "42it [00:29,  1.42it/s]"
          ]
        },
        {
          "name": "stdout",
          "output_type": "stream",
          "text": [
            "1/1 [==============================] - 0s 42ms/step\n"
          ]
        },
        {
          "name": "stderr",
          "output_type": "stream",
          "text": [
            "43it [00:29,  1.50it/s]"
          ]
        },
        {
          "name": "stdout",
          "output_type": "stream",
          "text": [
            "1/1 [==============================] - 0s 41ms/step\n"
          ]
        },
        {
          "name": "stderr",
          "output_type": "stream",
          "text": [
            "44it [00:30,  1.55it/s]"
          ]
        },
        {
          "name": "stdout",
          "output_type": "stream",
          "text": [
            "1/1 [==============================] - 0s 41ms/step\n"
          ]
        },
        {
          "name": "stderr",
          "output_type": "stream",
          "text": [
            "45it [00:30,  1.60it/s]"
          ]
        },
        {
          "name": "stdout",
          "output_type": "stream",
          "text": [
            "1/1 [==============================] - 0s 43ms/step\n"
          ]
        },
        {
          "name": "stderr",
          "output_type": "stream",
          "text": [
            "46it [00:31,  1.53it/s]"
          ]
        },
        {
          "name": "stdout",
          "output_type": "stream",
          "text": [
            "1/1 [==============================] - 0s 42ms/step\n"
          ]
        },
        {
          "name": "stderr",
          "output_type": "stream",
          "text": [
            "47it [00:32,  1.51it/s]"
          ]
        },
        {
          "name": "stdout",
          "output_type": "stream",
          "text": [
            "1/1 [==============================] - 0s 41ms/step\n"
          ]
        },
        {
          "name": "stderr",
          "output_type": "stream",
          "text": [
            "48it [00:32,  1.57it/s]"
          ]
        },
        {
          "name": "stdout",
          "output_type": "stream",
          "text": [
            "1/1 [==============================] - 0s 42ms/step\n"
          ]
        },
        {
          "name": "stderr",
          "output_type": "stream",
          "text": [
            "49it [00:33,  1.54it/s]"
          ]
        },
        {
          "name": "stdout",
          "output_type": "stream",
          "text": [
            "1/1 [==============================] - 0s 43ms/step\n"
          ]
        },
        {
          "name": "stderr",
          "output_type": "stream",
          "text": [
            "50it [00:34,  1.46it/s]"
          ]
        },
        {
          "name": "stdout",
          "output_type": "stream",
          "text": [
            "1/1 [==============================] - 0s 42ms/step\n"
          ]
        },
        {
          "name": "stderr",
          "output_type": "stream",
          "text": [
            "51it [00:34,  1.54it/s]"
          ]
        },
        {
          "name": "stdout",
          "output_type": "stream",
          "text": [
            "1/1 [==============================] - 0s 41ms/step\n"
          ]
        },
        {
          "name": "stderr",
          "output_type": "stream",
          "text": [
            "52it [00:35,  1.53it/s]"
          ]
        },
        {
          "name": "stdout",
          "output_type": "stream",
          "text": [
            "1/1 [==============================] - 0s 40ms/step\n"
          ]
        },
        {
          "name": "stderr",
          "output_type": "stream",
          "text": [
            "53it [00:36,  1.58it/s]"
          ]
        },
        {
          "name": "stdout",
          "output_type": "stream",
          "text": [
            "1/1 [==============================] - 0s 41ms/step\n"
          ]
        },
        {
          "name": "stderr",
          "output_type": "stream",
          "text": [
            "54it [00:36,  1.58it/s]"
          ]
        },
        {
          "name": "stdout",
          "output_type": "stream",
          "text": [
            "1/1 [==============================] - 0s 53ms/step\n"
          ]
        },
        {
          "name": "stderr",
          "output_type": "stream",
          "text": [
            "55it [00:37,  1.54it/s]"
          ]
        },
        {
          "name": "stdout",
          "output_type": "stream",
          "text": [
            "1/1 [==============================] - 0s 41ms/step\n"
          ]
        },
        {
          "name": "stderr",
          "output_type": "stream",
          "text": [
            "56it [00:38,  1.54it/s]"
          ]
        },
        {
          "name": "stdout",
          "output_type": "stream",
          "text": [
            "1/1 [==============================] - 0s 42ms/step\n"
          ]
        },
        {
          "name": "stderr",
          "output_type": "stream",
          "text": [
            "57it [00:38,  1.56it/s]"
          ]
        },
        {
          "name": "stdout",
          "output_type": "stream",
          "text": [
            "1/1 [==============================] - 0s 42ms/step\n"
          ]
        },
        {
          "name": "stderr",
          "output_type": "stream",
          "text": [
            "58it [00:39,  1.44it/s]"
          ]
        },
        {
          "name": "stdout",
          "output_type": "stream",
          "text": [
            "1/1 [==============================] - 0s 41ms/step\n"
          ]
        },
        {
          "name": "stderr",
          "output_type": "stream",
          "text": [
            "59it [00:40,  1.52it/s]"
          ]
        },
        {
          "name": "stdout",
          "output_type": "stream",
          "text": [
            "1/1 [==============================] - 0s 41ms/step\n"
          ]
        },
        {
          "name": "stderr",
          "output_type": "stream",
          "text": [
            "60it [00:40,  1.56it/s]"
          ]
        },
        {
          "name": "stdout",
          "output_type": "stream",
          "text": [
            "1/1 [==============================] - 0s 57ms/step\n"
          ]
        },
        {
          "name": "stderr",
          "output_type": "stream",
          "text": [
            "61it [00:41,  1.56it/s]"
          ]
        },
        {
          "name": "stdout",
          "output_type": "stream",
          "text": [
            "1/1 [==============================] - 0s 42ms/step\n"
          ]
        },
        {
          "name": "stderr",
          "output_type": "stream",
          "text": [
            "62it [00:42,  1.51it/s]"
          ]
        },
        {
          "name": "stdout",
          "output_type": "stream",
          "text": [
            "1/1 [==============================] - 0s 41ms/step\n"
          ]
        },
        {
          "name": "stderr",
          "output_type": "stream",
          "text": [
            "63it [00:42,  1.57it/s]"
          ]
        },
        {
          "name": "stdout",
          "output_type": "stream",
          "text": [
            "1/1 [==============================] - 0s 46ms/step\n"
          ]
        },
        {
          "name": "stderr",
          "output_type": "stream",
          "text": [
            "64it [00:43,  1.36it/s]"
          ]
        },
        {
          "name": "stdout",
          "output_type": "stream",
          "text": [
            "1/1 [==============================] - 0s 43ms/step\n"
          ]
        },
        {
          "name": "stderr",
          "output_type": "stream",
          "text": [
            "65it [00:44,  1.41it/s]"
          ]
        },
        {
          "name": "stdout",
          "output_type": "stream",
          "text": [
            "1/1 [==============================] - 0s 41ms/step\n"
          ]
        },
        {
          "name": "stderr",
          "output_type": "stream",
          "text": [
            "66it [00:44,  1.46it/s]"
          ]
        },
        {
          "name": "stdout",
          "output_type": "stream",
          "text": [
            "1/1 [==============================] - 0s 40ms/step\n"
          ]
        },
        {
          "name": "stderr",
          "output_type": "stream",
          "text": [
            "67it [00:45,  1.47it/s]"
          ]
        },
        {
          "name": "stdout",
          "output_type": "stream",
          "text": [
            "1/1 [==============================] - 0s 44ms/step\n"
          ]
        },
        {
          "name": "stderr",
          "output_type": "stream",
          "text": [
            "68it [00:46,  1.44it/s]"
          ]
        },
        {
          "name": "stdout",
          "output_type": "stream",
          "text": [
            "1/1 [==============================] - 0s 41ms/step\n"
          ]
        },
        {
          "name": "stderr",
          "output_type": "stream",
          "text": [
            "69it [00:46,  1.51it/s]"
          ]
        },
        {
          "name": "stdout",
          "output_type": "stream",
          "text": [
            "1/1 [==============================] - 0s 41ms/step\n"
          ]
        },
        {
          "name": "stderr",
          "output_type": "stream",
          "text": [
            "70it [00:47,  1.52it/s]"
          ]
        },
        {
          "name": "stdout",
          "output_type": "stream",
          "text": [
            "1/1 [==============================] - 0s 40ms/step\n"
          ]
        },
        {
          "name": "stderr",
          "output_type": "stream",
          "text": [
            "71it [00:48,  1.57it/s]"
          ]
        },
        {
          "name": "stdout",
          "output_type": "stream",
          "text": [
            "1/1 [==============================] - 0s 42ms/step\n"
          ]
        },
        {
          "name": "stderr",
          "output_type": "stream",
          "text": [
            "72it [00:48,  1.52it/s]"
          ]
        },
        {
          "name": "stdout",
          "output_type": "stream",
          "text": [
            "1/1 [==============================] - 0s 43ms/step\n"
          ]
        },
        {
          "name": "stderr",
          "output_type": "stream",
          "text": [
            "73it [00:49,  1.45it/s]"
          ]
        },
        {
          "name": "stdout",
          "output_type": "stream",
          "text": [
            "1/1 [==============================] - 0s 43ms/step\n"
          ]
        },
        {
          "name": "stderr",
          "output_type": "stream",
          "text": [
            "74it [00:50,  1.53it/s]"
          ]
        },
        {
          "name": "stdout",
          "output_type": "stream",
          "text": [
            "1/1 [==============================] - 0s 41ms/step\n"
          ]
        },
        {
          "name": "stderr",
          "output_type": "stream",
          "text": [
            "75it [00:50,  1.58it/s]"
          ]
        },
        {
          "name": "stdout",
          "output_type": "stream",
          "text": [
            "1/1 [==============================] - 0s 41ms/step\n"
          ]
        },
        {
          "name": "stderr",
          "output_type": "stream",
          "text": [
            "76it [00:51,  1.59it/s]"
          ]
        },
        {
          "name": "stdout",
          "output_type": "stream",
          "text": [
            "1/1 [==============================] - 0s 41ms/step\n"
          ]
        },
        {
          "name": "stderr",
          "output_type": "stream",
          "text": [
            "77it [00:52,  1.52it/s]"
          ]
        },
        {
          "name": "stdout",
          "output_type": "stream",
          "text": [
            "1/1 [==============================] - 0s 41ms/step\n"
          ]
        },
        {
          "name": "stderr",
          "output_type": "stream",
          "text": [
            "78it [00:52,  1.50it/s]"
          ]
        },
        {
          "name": "stdout",
          "output_type": "stream",
          "text": [
            "1/1 [==============================] - 0s 41ms/step\n"
          ]
        },
        {
          "name": "stderr",
          "output_type": "stream",
          "text": [
            "79it [00:53,  1.53it/s]"
          ]
        },
        {
          "name": "stdout",
          "output_type": "stream",
          "text": [
            "1/1 [==============================] - 0s 42ms/step\n"
          ]
        },
        {
          "name": "stderr",
          "output_type": "stream",
          "text": [
            "80it [00:54,  1.49it/s]"
          ]
        },
        {
          "name": "stdout",
          "output_type": "stream",
          "text": [
            "1/1 [==============================] - 0s 42ms/step\n"
          ]
        },
        {
          "name": "stderr",
          "output_type": "stream",
          "text": [
            "81it [00:54,  1.48it/s]"
          ]
        },
        {
          "name": "stdout",
          "output_type": "stream",
          "text": [
            "1/1 [==============================] - 0s 41ms/step\n"
          ]
        },
        {
          "name": "stderr",
          "output_type": "stream",
          "text": [
            "82it [00:55,  1.50it/s]"
          ]
        },
        {
          "name": "stdout",
          "output_type": "stream",
          "text": [
            "1/1 [==============================] - 0s 41ms/step\n"
          ]
        },
        {
          "name": "stderr",
          "output_type": "stream",
          "text": [
            "83it [00:56,  1.53it/s]"
          ]
        },
        {
          "name": "stdout",
          "output_type": "stream",
          "text": [
            "1/1 [==============================] - 0s 43ms/step\n"
          ]
        },
        {
          "name": "stderr",
          "output_type": "stream",
          "text": [
            "84it [00:56,  1.48it/s]\n"
=======
          "output_type": "stream",
          "name": "stderr",
          "text": [
            "\r69it [00:38,  1.56it/s]"
          ]
        },
        {
          "output_type": "stream",
          "name": "stdout",
          "text": [
            "1/1 [==============================] - 0s 35ms/step\n"
          ]
        },
        {
          "output_type": "stream",
          "name": "stderr",
          "text": [
            "\r70it [00:39,  1.48it/s]"
          ]
        },
        {
          "output_type": "stream",
          "name": "stdout",
          "text": [
            "1/1 [==============================] - 0s 29ms/step\n"
          ]
        },
        {
          "output_type": "stream",
          "name": "stderr",
          "text": [
            "\r71it [00:40,  1.46it/s]"
          ]
        },
        {
          "output_type": "stream",
          "name": "stdout",
          "text": [
            "1/1 [==============================] - 0s 33ms/step\n"
          ]
        },
        {
          "output_type": "stream",
          "name": "stderr",
          "text": [
            "\r72it [00:40,  1.49it/s]"
          ]
        },
        {
          "output_type": "stream",
          "name": "stdout",
          "text": [
            "1/1 [==============================] - 0s 21ms/step\n"
          ]
        },
        {
          "output_type": "stream",
          "name": "stderr",
          "text": [
            "\r73it [00:41,  1.60it/s]"
          ]
        },
        {
          "output_type": "stream",
          "name": "stdout",
          "text": [
            "1/1 [==============================] - 0s 21ms/step\n"
          ]
        },
        {
          "output_type": "stream",
          "name": "stderr",
          "text": [
            "\r74it [00:41,  1.70it/s]"
          ]
        },
        {
          "output_type": "stream",
          "name": "stdout",
          "text": [
            "1/1 [==============================] - 0s 22ms/step\n"
          ]
        },
        {
          "output_type": "stream",
          "name": "stderr",
          "text": [
            "\r75it [00:42,  1.80it/s]"
          ]
        },
        {
          "output_type": "stream",
          "name": "stdout",
          "text": [
            "1/1 [==============================] - 0s 20ms/step\n"
          ]
        },
        {
          "output_type": "stream",
          "name": "stderr",
          "text": [
            "\r76it [00:42,  1.89it/s]"
          ]
        },
        {
          "output_type": "stream",
          "name": "stdout",
          "text": [
            "1/1 [==============================] - 0s 22ms/step\n"
          ]
        },
        {
          "output_type": "stream",
          "name": "stderr",
          "text": [
            "\r77it [00:43,  1.96it/s]"
          ]
        },
        {
          "output_type": "stream",
          "name": "stdout",
          "text": [
            "1/1 [==============================] - 0s 27ms/step\n"
          ]
        },
        {
          "output_type": "stream",
          "name": "stderr",
          "text": [
            "\r78it [00:43,  1.96it/s]"
          ]
        },
        {
          "output_type": "stream",
          "name": "stdout",
          "text": [
            "1/1 [==============================] - 0s 20ms/step\n"
          ]
        },
        {
          "output_type": "stream",
          "name": "stderr",
          "text": [
            "\r79it [00:44,  2.01it/s]"
          ]
        },
        {
          "output_type": "stream",
          "name": "stdout",
          "text": [
            "1/1 [==============================] - 0s 20ms/step\n"
          ]
        },
        {
          "output_type": "stream",
          "name": "stderr",
          "text": [
            "\r80it [00:44,  2.05it/s]"
          ]
        },
        {
          "output_type": "stream",
          "name": "stdout",
          "text": [
            "1/1 [==============================] - 0s 20ms/step\n"
          ]
        },
        {
          "output_type": "stream",
          "name": "stderr",
          "text": [
            "\r81it [00:45,  2.08it/s]"
          ]
        },
        {
          "output_type": "stream",
          "name": "stdout",
          "text": [
            "1/1 [==============================] - 0s 21ms/step\n"
          ]
        },
        {
          "output_type": "stream",
          "name": "stderr",
          "text": [
            "\r82it [00:45,  2.09it/s]"
          ]
        },
        {
          "output_type": "stream",
          "name": "stdout",
          "text": [
            "1/1 [==============================] - 0s 21ms/step\n"
          ]
        },
        {
          "output_type": "stream",
          "name": "stderr",
          "text": [
            "\r83it [00:46,  2.08it/s]"
          ]
        },
        {
          "output_type": "stream",
          "name": "stdout",
          "text": [
            "1/1 [==============================] - 0s 20ms/step\n"
          ]
        },
        {
          "output_type": "stream",
          "name": "stderr",
          "text": [
            "84it [01:21,  1.03it/s]\n"
>>>>>>> 7d1275fb32dc40a8572b4960c1ee2b78f9ead99a
          ]
        }
      ],
      "source": [
        "test_ds_unbatched = test_batches.unbatch()\n",
        "\n",
        "pred_path = os.path.join(PRED_PATH, EXP_NAME, timestamp)\n",
        "if not os.path.exists(pred_path):\n",
        "    os.makedirs(pred_path)\n",
        "\n",
        "metrics = pd.DataFrame()\n",
        "\n",
        "for idx, (input, target) in enumerate(tqdm(test_ds_unbatched)):\n",
        "\n",
        "    target = tf.squeeze(target).numpy()\n",
        "    prediction = tf.squeeze(\n",
        "        model.predict(\n",
        "            tf.expand_dims(input, axis=0)\n",
        "        )\n",
        "    )\n",
        "\n",
        "    channel_sum = tf.expand_dims(tf.reduce_sum(target, axis=-1), axis=-1)\n",
        "    white_mask = tf.reduce_all(tf.equal(channel_sum, 3.0), axis=-1)\n",
        "    expanded_mask = tf.expand_dims(white_mask, axis=-1)\n",
        "    expanded_mask = tf.tile(expanded_mask, [1, 1, 3])\n",
        "    prediction = tf.where(expanded_mask, tf.ones_like(prediction), prediction)\n",
        "\n",
        "    plt.figure(figsize=(7, 14))\n",
        "    plt.subplot(2, 1, 1)\n",
        "    plt.imshow(target)\n",
        "    plt.axis(\"off\")\n",
        "    plt.tight_layout()\n",
        "\n",
        "    plt.subplot(2, 1, 2)\n",
        "    plt.imshow(prediction)\n",
        "    plt.axis(\"off\")\n",
        "    plt.tight_layout()\n",
        "    plt.savefig(os.path.join(pred_path, f\"{idx}.png\"))\n",
        "    plt.close()\n"
      ]
    },
    {
      "cell_type": "markdown",
      "metadata": {
        "id": "7X8uip-GsY8V"
      },
      "source": [
        "# Loss Curve"
      ]
    },
    {
      "cell_type": "code",
<<<<<<< HEAD
      "execution_count": 21,
=======
      "execution_count": 19,
>>>>>>> 7d1275fb32dc40a8572b4960c1ee2b78f9ead99a
      "metadata": {
        "id": "uSb9pzrasY8W"
      },
      "outputs": [],
      "source": [
        "try:\n",
        "    loss = history.history['loss']\n",
        "    val_loss = history.history['val_loss']\n",
        "\n",
        "    plt.figure(figsize=(8, 6))\n",
        "    plt.plot(loss, label='Training Loss')\n",
        "    plt.plot(val_loss, label='Validation Loss')\n",
        "    plt.legend(loc='upper right')\n",
        "    plt.ylabel('Attention MAE')\n",
        "    plt.title('Training and Validation Loss')\n",
        "    plt.xlabel('Epoch')\n",
        "    plt.tight_layout()\n",
        "    plt.savefig(os.path.join(model_path, timestamp + \".png\"))\n",
        "    plt.close()\n",
        "except:\n",
        "    print(\"Model did not finish training\")\n"
      ]
    },
    {
      "cell_type": "markdown",
      "metadata": {
        "id": "1hMNNE0VsY8W"
      },
      "source": [
        "# Metrics"
      ]
    },
    {
      "cell_type": "code",
<<<<<<< HEAD
      "execution_count": 22,
      "metadata": {
=======
      "execution_count": 20,
      "metadata": {
        "id": "QGXSmlicsY8W",
        "outputId": "2cd240bd-0602-4cff-9aed-1a7ae7a0a7af",
>>>>>>> 7d1275fb32dc40a8572b4960c1ee2b78f9ead99a
        "colab": {
          "base_uri": "https://localhost:8080/"
        },
        "id": "QGXSmlicsY8W",
        "outputId": "125066e5-1113-4c11-d43e-cb2e5e2311f9"
      },
      "outputs": [
        {
          "name": "stdout",
          "output_type": "stream",
          "text": [
<<<<<<< HEAD
            "11/11 [==============================] - 2s 178ms/step - loss: 0.0060 - attention_mae: 0.0292\n"
=======
            "6/6 [==============================] - 1s 143ms/step - loss: 0.0069 - attention_mae: 0.0317\n"
>>>>>>> 7d1275fb32dc40a8572b4960c1ee2b78f9ead99a
          ]
        },
        {
          "data": {
            "text/plain": [
<<<<<<< HEAD
              "[0.005964013747870922, 0.029223937541246414]"
=======
              "[0.006857483647763729, 0.03168083727359772]"
>>>>>>> 7d1275fb32dc40a8572b4960c1ee2b78f9ead99a
            ]
          },
          "execution_count": 22,
          "metadata": {},
<<<<<<< HEAD
          "output_type": "execute_result"
=======
          "execution_count": 20
>>>>>>> 7d1275fb32dc40a8572b4960c1ee2b78f9ead99a
        }
      ],
      "source": [
        "model.evaluate(test_batches)\n"
      ]
    }
  ],
  "metadata": {
    "accelerator": "GPU",
    "colab": {
      "gpuType": "T4",
      "include_colab_link": true,
      "provenance": [],
      "toc_visible": true
    },
    "kernelspec": {
      "display_name": "Python 3",
      "name": "python3"
    },
    "language_info": {
      "codemirror_mode": {
        "name": "ipython",
        "version": 3
      },
      "file_extension": ".py",
      "mimetype": "text/x-python",
      "name": "python",
      "nbconvert_exporter": "python",
      "pygments_lexer": "ipython3",
      "version": "3.10.13"
    },
    "orig_nbformat": 4
  },
  "nbformat": 4,
  "nbformat_minor": 0
}
