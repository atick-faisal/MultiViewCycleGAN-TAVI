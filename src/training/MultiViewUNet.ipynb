{
  "cells": [
    {
      "cell_type": "markdown",
      "metadata": {
        "id": "view-in-github",
        "colab_type": "text"
      },
      "source": [
        "<a href=\"https://colab.research.google.com/github/atick-faisal/MultiViewUNet-TAVI/blob/main/src/training/MultiViewUNet.ipynb\" target=\"_parent\"><img src=\"https://colab.research.google.com/assets/colab-badge.svg\" alt=\"Open In Colab\"/></a>"
      ]
    },
    {
      "cell_type": "markdown",
      "metadata": {
        "id": "0BWh-7swsY8G"
      },
      "source": [
        "# Colab Info"
      ]
    },
    {
      "cell_type": "code",
      "execution_count": 1,
      "metadata": {
        "id": "qKSzwmmpsY8K",
        "outputId": "79944297-2a57-48b3-8332-e682f1dccf8d",
        "colab": {
          "base_uri": "https://localhost:8080/"
        }
      },
      "outputs": [
        {
          "output_type": "stream",
          "name": "stdout",
          "text": [
            "Mon Jun 12 19:43:09 2023       \n",
            "+-----------------------------------------------------------------------------+\n",
            "| NVIDIA-SMI 525.85.12    Driver Version: 525.85.12    CUDA Version: 12.0     |\n",
            "|-------------------------------+----------------------+----------------------+\n",
            "| GPU  Name        Persistence-M| Bus-Id        Disp.A | Volatile Uncorr. ECC |\n",
            "| Fan  Temp  Perf  Pwr:Usage/Cap|         Memory-Usage | GPU-Util  Compute M. |\n",
            "|                               |                      |               MIG M. |\n",
            "|===============================+======================+======================|\n",
            "|   0  Tesla T4            Off  | 00000000:00:04.0 Off |                    0 |\n",
            "| N/A   44C    P8     9W /  70W |      0MiB / 15360MiB |      0%      Default |\n",
            "|                               |                      |                  N/A |\n",
            "+-------------------------------+----------------------+----------------------+\n",
            "                                                                               \n",
            "+-----------------------------------------------------------------------------+\n",
            "| Processes:                                                                  |\n",
            "|  GPU   GI   CI        PID   Type   Process name                  GPU Memory |\n",
            "|        ID   ID                                                   Usage      |\n",
            "|=============================================================================|\n",
            "|  No running processes found                                                 |\n",
            "+-----------------------------------------------------------------------------+\n",
            "Your runtime has 27.3 gigabytes of available RAM\n",
            "\n",
            "You are using a high-RAM runtime!\n"
          ]
        }
      ],
      "source": [
        "from psutil import virtual_memory\n",
        "\n",
        "gpu_info = !nvidia-smi\n",
        "gpu_info = '\\n'.join(gpu_info)\n",
        "if gpu_info.find('failed') >= 0:\n",
        "    print('Not connected to a GPU')\n",
        "else:\n",
        "    print(gpu_info)\n",
        "\n",
        "\n",
        "ram_gb = virtual_memory().total / 1e9\n",
        "print('Your runtime has {:.1f} gigabytes of available RAM\\n'.format(ram_gb))\n",
        "\n",
        "if ram_gb < 20:\n",
        "    print('Not using a high-RAM runtime')\n",
        "else:\n",
        "    print('You are using a high-RAM runtime!')\n"
      ]
    },
    {
      "cell_type": "markdown",
      "metadata": {
        "id": "1k2olxt7sY8M"
      },
      "source": [
        "# Fix for GDrive"
      ]
    },
    {
      "cell_type": "code",
      "execution_count": 2,
      "metadata": {
        "id": "WR_aYJ7WsY8M"
      },
      "outputs": [],
      "source": [
        "!pip install -U --no-cache-dir gdown --pre > /dev/null\n"
      ]
    },
    {
      "cell_type": "markdown",
      "source": [
        "# Mount GDrive"
      ],
      "metadata": {
        "id": "jm5cGHp0tGvo"
      }
    },
    {
      "cell_type": "code",
      "source": [
        "from google.colab import drive\n",
        "drive.mount('/content/drive')\n"
      ],
      "metadata": {
        "id": "0hZ7iR0AtJYj",
        "outputId": "0570fa62-e455-48e2-9015-b3f278a20ca6",
        "colab": {
          "base_uri": "https://localhost:8080/"
        }
      },
      "execution_count": 3,
      "outputs": [
        {
          "output_type": "stream",
          "name": "stdout",
          "text": [
            "Mounted at /content/drive\n"
          ]
        }
      ]
    },
    {
      "cell_type": "markdown",
      "metadata": {
        "id": "ZjzwtNU2sY8M"
      },
      "source": [
        "# Download and Extract Dataset"
      ]
    },
    {
      "cell_type": "code",
      "execution_count": 4,
      "metadata": {
        "id": "9RSDCIWlsY8N",
        "outputId": "92170032-2316-4f54-d439-246528605b97",
        "colab": {
          "base_uri": "https://localhost:8080/"
        }
      },
      "outputs": [
        {
          "output_type": "stream",
          "name": "stdout",
          "text": [
            "Downloading...\n",
            "From (uriginal): https://drive.google.com/uc?id=1fJhrdjmRHp1sqPU_UpfKOTtadjrPPUEO\n",
            "From (redirected): https://drive.google.com/uc?id=1fJhrdjmRHp1sqPU_UpfKOTtadjrPPUEO&confirm=t&uuid=80879925-d449-489f-9be3-3793ad894546\n",
            "To: /content/TAVI_r1.zip\n",
            "100% 27.2M/27.2M [00:01<00:00, 25.5MB/s]\n"
          ]
        }
      ],
      "source": [
        "!gdown \"1fJhrdjmRHp1sqPU_UpfKOTtadjrPPUEO\"\n",
        "!unzip -o \"TAVI_r1.zip\" > /dev/null\n"
      ]
    },
    {
      "cell_type": "markdown",
      "metadata": {
        "id": "yFAlpIdMsY8N"
      },
      "source": [
        "# Imports"
      ]
    },
    {
      "cell_type": "code",
      "execution_count": 5,
      "metadata": {
        "id": "xiEKM9gZsY8N"
      },
      "outputs": [],
      "source": [
        "import os\n",
        "import datetime\n",
        "import matplotlib\n",
        "import pandas as pd\n",
        "import tensorflow as tf\n",
        "import matplotlib.pyplot as plt\n",
        "\n",
        "from tqdm import tqdm\n",
        "\n",
        "matplotlib.use('Agg')\n",
        "plt.rcParams[\"font.size\"] = 16"
      ]
    },
    {
      "cell_type": "markdown",
      "metadata": {
        "id": "OCaqjLQYsY8O"
      },
      "source": [
        "# Config"
      ]
    },
    {
      "cell_type": "code",
      "execution_count": 6,
      "metadata": {
        "id": "Qby7HsHhsY8O"
      },
      "outputs": [],
      "source": [
        "PROBLEM = \"Curvature_2_Pressure\"\n",
        "\n",
        "MODEL_NAME = \"MultiViewUNet\"\n",
        "DATASET_PATH = \"/content/Images/\"\n",
        "TRAIN_DIR = \"Train/\"\n",
        "TEST_DIR = \"Test/\"\n",
        "INPUT_DIR = PROBLEM.split(\"_2_\")[0]\n",
        "TARGET_DIR = PROBLEM.split(\"_2_\")[1]\n",
        "MODEL_PATH = \"/content/drive/MyDrive/Research/TAVI/Models/\"\n",
        "PRED_PATH = \"/content/drive/MyDrive/Research/TAVI/Predictions/\"\n",
        "IMG_SIZE = 256\n",
        "BATCH_SIZE = 16\n",
        "BUFFER_SIZE = 1000\n",
        "VAL_SPLIT = 0.2\n",
        "LEARNING_RATE = 0.001\n",
        "N_EPOCHS = 300\n",
        "PATIENCE = 30\n",
        "\n",
        "EXP_NAME = f\"{PROBLEM}_{MODEL_NAME}_I{IMG_SIZE}_B{BATCH_SIZE}_LR{LEARNING_RATE}\"\n"
      ]
    },
    {
      "cell_type": "markdown",
      "metadata": {
        "id": "vnnlcTjjsY8O"
      },
      "source": [
        "# Architecture"
      ]
    },
    {
      "cell_type": "code",
      "execution_count": 7,
      "metadata": {
        "id": "QQWORDDysY8P"
      },
      "outputs": [],
      "source": [
        "class UNet:\n",
        "    def __init__(\n",
        "        self,\n",
        "        img_size: int,\n",
        "        n_channels: int = 3,\n",
        "        width: int = 32,\n",
        "        depth: int = 4,\n",
        "        kernel_size: int = 3\n",
        "    ):\n",
        "        self.img_size = img_size\n",
        "        self.n_channels = n_channels\n",
        "        self.width = width\n",
        "        self.depth = depth\n",
        "        self.kernel_size = kernel_size\n",
        "\n",
        "    @staticmethod\n",
        "    def conv(\n",
        "        x: tf.Tensor,\n",
        "        filters: int,\n",
        "        kernel_size: int\n",
        "    ) -> tf.Tensor:\n",
        "        for i in range(2):\n",
        "            x = tf.keras.layers.Conv2D(\n",
        "                filters=filters,\n",
        "                kernel_size=kernel_size,\n",
        "                strides=1,\n",
        "                padding=\"same\",\n",
        "                data_format=\"channels_last\",\n",
        "                dilation_rate=1,\n",
        "                groups=1,\n",
        "                activation=None,\n",
        "                use_bias=True,\n",
        "                kernel_initializer=\"glorot_uniform\",\n",
        "                bias_initializer=\"zeros\",\n",
        "            )(x)\n",
        "\n",
        "            x = tf.keras.layers.BatchNormalization()(x)\n",
        "            x = tf.keras.layers.Activation(\"relu\")(x)\n",
        "\n",
        "        return x\n",
        "\n",
        "    @staticmethod\n",
        "    def deconv(x: tf.Tensor, filters: int) -> tf.Tensor:\n",
        "        x = tf.keras.layers.Conv2DTranspose(\n",
        "            filters=filters,\n",
        "            kernel_size=2,\n",
        "            strides=2,\n",
        "            padding=\"same\",\n",
        "            output_padding=None,\n",
        "            data_format=None,\n",
        "            dilation_rate=1,\n",
        "            activation=None,\n",
        "            use_bias=True,\n",
        "            kernel_initializer=\"glorot_uniform\",\n",
        "            bias_initializer=\"zeros\",\n",
        "        )(x)\n",
        "\n",
        "        x = tf.keras.layers.BatchNormalization()(x)\n",
        "        x = tf.keras.layers.Activation(\"relu\")(x)\n",
        "\n",
        "        return x\n",
        "\n",
        "    @staticmethod\n",
        "    def output(x: tf.Tensor) -> tf.Tensor:\n",
        "        return tf.keras.layers.Conv2D(3, (1, 1), activation=\"sigmoid\")(x)\n",
        "\n",
        "    @staticmethod\n",
        "    def pool(x: tf.Tensor, pool_size: int = 2) -> tf.Tensor:\n",
        "        return tf.keras.layers.MaxPool2D(pool_size)(x)\n",
        "\n",
        "    @staticmethod\n",
        "    def dropout(x: tf.Tensor, amount: float = 0.5) -> tf.Tensor:\n",
        "        return tf.keras.layers.Dropout(amount)(x)\n",
        "\n",
        "    def __call__(self) -> tf.keras.Model:\n",
        "        inputs = tf.keras.layers.Input(\n",
        "            shape=(self.img_size, self.img_size, self.n_channels)\n",
        "        )\n",
        "\n",
        "        # scaled = tf.keras.layers.Rescaling(1./255.0, offset=0)(inputs)\n",
        "\n",
        "        # ------------------ Downsampling ---------------------\n",
        "        downsample_layers = []\n",
        "        downsample_layers.append(\n",
        "            self.conv(\n",
        "                x=inputs,\n",
        "                filters=self.width,\n",
        "                kernel_size=self.kernel_size\n",
        "            )\n",
        "        )\n",
        "        for i in range(1, self.depth):\n",
        "            dropout_amount = 0.2 if i == 1 else 0.5\n",
        "            filters = int((2 ** i) * self.width)\n",
        "            downsample_layers.append(\n",
        "                self.dropout(\n",
        "                    self.pool(\n",
        "                        self.conv(\n",
        "                            x=downsample_layers[i - 1],\n",
        "                            filters=filters,\n",
        "                            kernel_size=self.kernel_size\n",
        "                        )\n",
        "                    ),\n",
        "                    amount=dropout_amount\n",
        "                )\n",
        "            )\n",
        "\n",
        "        # ------------------- Features --------------------\n",
        "        n_features = int((2 ** self.depth) * self.width)\n",
        "        self.features = self.pool(\n",
        "            self.conv(\n",
        "                x=downsample_layers[-1],\n",
        "                filters=n_features,\n",
        "                kernel_size=self.kernel_size\n",
        "            )\n",
        "        )\n",
        "\n",
        "        # ------------------- Upsampling --------------------\n",
        "        upsample_layers = []\n",
        "        upsample_layers.append(self.features)\n",
        "        for i in range(1, self.depth + 1):\n",
        "            filters = int((2 ** (self.depth - i)) * self.width)\n",
        "            upsample_layers.append(\n",
        "                self.conv(\n",
        "                    x=self.dropout(\n",
        "                        tf.keras.layers.concatenate([\n",
        "                            downsample_layers[self.depth - i],\n",
        "                            self.deconv(\n",
        "                                x=upsample_layers[i - 1],\n",
        "                                filters=filters\n",
        "                            )\n",
        "                        ])\n",
        "                    ),\n",
        "                    filters=filters,\n",
        "                    kernel_size=self.kernel_size\n",
        "                )\n",
        "            )\n",
        "\n",
        "        # ---------------------- Output -----------------------\n",
        "        outputs = self.output(upsample_layers[-1])\n",
        "\n",
        "        return tf.keras.Model(inputs, outputs)\n"
      ]
    },
    {
      "cell_type": "markdown",
      "metadata": {
        "id": "3wNu29ilsY8Q"
      },
      "source": [
        "# Loss Functions / Metrics"
      ]
    },
    {
      "cell_type": "code",
      "execution_count": 8,
      "metadata": {
        "id": "EScLEIVTsY8R"
      },
      "outputs": [],
      "source": [
        "def attention_mse(y_true, y_pred):\n",
        "    _y_true = y_true[y_true != 1.0]\n",
        "    _y_pred = y_pred[y_true != 1.0]\n",
        "    squared_difference = tf.square(_y_true - _y_pred)\n",
        "    return tf.reduce_mean(squared_difference, axis=-1)\n",
        "\n",
        "\n",
        "def attention_mae(y_true, y_pred):\n",
        "    _y_true = y_true[y_true != 1.0]\n",
        "    _y_pred = y_pred[y_true != 1.0]\n",
        "    squared_difference = tf.abs(_y_true - _y_pred)\n",
        "    return tf.reduce_mean(squared_difference, axis=-1)\n"
      ]
    },
    {
      "cell_type": "markdown",
      "metadata": {
        "id": "UcGPtUeasY8R"
      },
      "source": [
        "# DataLoader"
      ]
    },
    {
      "cell_type": "code",
      "execution_count": 9,
      "metadata": {
        "id": "wEWrDHWDsY8R"
      },
      "outputs": [],
      "source": [
        "def load_data_from_dir(path: str) -> tf.data.Dataset:\n",
        "    return tf.keras.utils.image_dataset_from_directory(\n",
        "        directory=path,\n",
        "        labels=None,\n",
        "        color_mode='rgb',\n",
        "        batch_size=BATCH_SIZE,\n",
        "        image_size=(IMG_SIZE, IMG_SIZE),\n",
        "        shuffle=False,\n",
        "        seed=42,\n",
        "        interpolation='bilinear',\n",
        "        follow_links=False,\n",
        "        crop_to_aspect_ratio=False\n",
        "    )\n"
      ]
    },
    {
      "cell_type": "markdown",
      "metadata": {
        "id": "iHl8FzWEsY8R"
      },
      "source": [
        "# Load Dataset"
      ]
    },
    {
      "cell_type": "code",
      "execution_count": 10,
      "metadata": {
        "id": "_N_9KDvNsY8S",
        "colab": {
          "base_uri": "https://localhost:8080/"
        },
        "outputId": "50be8163-2bb4-4a09-8f8a-1377045b9fc6"
      },
      "outputs": [
        {
          "output_type": "stream",
          "name": "stdout",
          "text": [
            "Found 240 files belonging to 1 classes.\n",
            "Found 240 files belonging to 1 classes.\n",
            "Found 36 files belonging to 1 classes.\n",
            "Found 36 files belonging to 1 classes.\n",
            "(TensorSpec(shape=(None, 256, 256, 3), dtype=tf.float32, name=None), TensorSpec(shape=(None, 256, 256, 3), dtype=tf.float32, name=None))\n",
            "(TensorSpec(shape=(None, 256, 256, 3), dtype=tf.float32, name=None), TensorSpec(shape=(None, 256, 256, 3), dtype=tf.float32, name=None))\n"
          ]
        }
      ],
      "source": [
        "trainX = load_data_from_dir(os.path.join(DATASET_PATH, TRAIN_DIR, INPUT_DIR))\n",
        "trainY = load_data_from_dir(os.path.join(DATASET_PATH, TRAIN_DIR, TARGET_DIR))\n",
        "testX = load_data_from_dir(os.path.join(DATASET_PATH, TEST_DIR, INPUT_DIR))\n",
        "testY = load_data_from_dir(os.path.join(DATASET_PATH, TEST_DIR, TARGET_DIR))\n",
        "\n",
        "train_ds = tf.data.Dataset.zip((trainX, trainY))\n",
        "test_ds = tf.data.Dataset.zip((testX, testY))\n",
        "\n",
        "print(train_ds.element_spec)\n",
        "print(test_ds.element_spec)\n"
      ]
    },
    {
      "cell_type": "markdown",
      "metadata": {
        "id": "siGY2orosY8S"
      },
      "source": [
        "# Normalization"
      ]
    },
    {
      "cell_type": "code",
      "execution_count": 11,
      "metadata": {
        "id": "iEVMVJIusY8S"
      },
      "outputs": [],
      "source": [
        "normalization_layer = tf.keras.layers.Rescaling(1./255)\n",
        "train_ds = train_ds.map(lambda x, y: (\n",
        "    normalization_layer(x), normalization_layer(y)))\n",
        "test_ds = test_ds.map(lambda x, y: (\n",
        "    normalization_layer(x), normalization_layer(y)))\n"
      ]
    },
    {
      "cell_type": "markdown",
      "metadata": {
        "id": "N0gpJ04WsY8T"
      },
      "source": [
        "# Augmentation"
      ]
    },
    {
      "cell_type": "code",
      "execution_count": 12,
      "metadata": {
        "id": "71pw2HYCsY8T"
      },
      "outputs": [],
      "source": [
        "class Augment(tf.keras.layers.Layer):\n",
        "    def __init__(self, seed=42):\n",
        "        super().__init__()\n",
        "        # both use the same seed, so they'll make the same random changes.\n",
        "        self.augment_inputs = tf.keras.layers.RandomZoom(\n",
        "            (-0.1, -0.7), seed=seed)\n",
        "        self.augment_labels = tf.keras.layers.RandomZoom(\n",
        "            (-0.1, -0.7), seed=seed)\n",
        "\n",
        "    def call(self, inputs, labels):\n",
        "        inputs = self.augment_inputs(inputs)\n",
        "        labels = self.augment_labels(labels)\n",
        "        return inputs, labels\n"
      ]
    },
    {
      "cell_type": "markdown",
      "metadata": {
        "id": "mymNUKessY8T"
      },
      "source": [
        "# Optimization"
      ]
    },
    {
      "cell_type": "code",
      "execution_count": 13,
      "metadata": {
        "id": "OFxFklYZsY8T"
      },
      "outputs": [],
      "source": [
        "AUTOTUNE = tf.data.AUTOTUNE\n",
        "\n",
        "train_batches = (\n",
        "    train_ds\n",
        "    .cache()\n",
        "    .shuffle(BUFFER_SIZE)\n",
        "    .prefetch(buffer_size=AUTOTUNE)\n",
        ")\n",
        "\n",
        "test_batches = (\n",
        "    test_ds\n",
        "    .cache()\n",
        "    .prefetch(buffer_size=AUTOTUNE)\n",
        ")\n"
      ]
    },
    {
      "cell_type": "markdown",
      "metadata": {
        "id": "j6ilqDbnsY8U"
      },
      "source": [
        "# Training Config"
      ]
    },
    {
      "cell_type": "code",
      "execution_count": 14,
      "metadata": {
        "id": "WlY6S1B6sY8U"
      },
      "outputs": [],
      "source": [
        "model_path = os.path.join(MODEL_PATH, EXP_NAME)\n",
        "\n",
        "callbacks = [\n",
        "    tf.keras.callbacks.EarlyStopping(\n",
        "        monitor=\"val_loss\",\n",
        "        patience=PATIENCE,\n",
        "        restore_best_weights=True\n",
        "    ),\n",
        "    tf.keras.callbacks.ModelCheckpoint(\n",
        "        model_path,\n",
        "        monitor='val_loss',\n",
        "        verbose=1,\n",
        "        save_best_only=True,\n",
        "        save_weights_only=True\n",
        "    )\n",
        "]\n",
        "\n",
        "optimizer = tf.keras.optimizers.Adam(\n",
        "    learning_rate=LEARNING_RATE\n",
        ")\n",
        "\n",
        "model = UNet(IMG_SIZE)()\n",
        "\n",
        "model.compile(\n",
        "    loss=attention_mse,\n",
        "    optimizer=optimizer,\n",
        "    metrics=[attention_mae]\n",
        ")\n",
        "\n",
        "try:\n",
        "    model.load_weights(model_path)\n",
        "except:\n",
        "    print(\"Checkpoint not found\")\n",
        "    pass\n"
      ]
    },
    {
      "cell_type": "markdown",
      "metadata": {
        "id": "zmjFkIYNsY8U"
      },
      "source": [
        "# Training"
      ]
    },
    {
      "cell_type": "code",
      "execution_count": 15,
      "metadata": {
        "id": "Nd0e5sXtsY8U",
        "colab": {
          "base_uri": "https://localhost:8080/"
        },
        "outputId": "232c8a55-137f-46d6-de37-a895af43fc63"
      },
      "outputs": [
        {
          "output_type": "stream",
          "name": "stdout",
          "text": [
            "Epoch 1/300\n",
            "15/15 [==============================] - ETA: 0s - loss: 0.0028 - attention_mae: 0.0211\n",
            "Epoch 1: val_loss improved from inf to 0.00299, saving model to /content/drive/MyDrive/Research/TAVI/Models/Curvature_2_Pressure_MultiViewUNet_I256_B16_LR0.001\n",
            "15/15 [==============================] - 166s 1s/step - loss: 0.0028 - attention_mae: 0.0211 - val_loss: 0.0030 - val_attention_mae: 0.0182\n",
            "Epoch 2/300\n",
            "15/15 [==============================] - ETA: 0s - loss: 0.0028 - attention_mae: 0.0204\n",
            "Epoch 2: val_loss improved from 0.00299 to 0.00298, saving model to /content/drive/MyDrive/Research/TAVI/Models/Curvature_2_Pressure_MultiViewUNet_I256_B16_LR0.001\n",
            "15/15 [==============================] - 12s 835ms/step - loss: 0.0028 - attention_mae: 0.0204 - val_loss: 0.0030 - val_attention_mae: 0.0197\n",
            "Epoch 3/300\n",
            "15/15 [==============================] - ETA: 0s - loss: 0.0027 - attention_mae: 0.0196\n",
            "Epoch 3: val_loss improved from 0.00298 to 0.00290, saving model to /content/drive/MyDrive/Research/TAVI/Models/Curvature_2_Pressure_MultiViewUNet_I256_B16_LR0.001\n",
            "15/15 [==============================] - 13s 847ms/step - loss: 0.0027 - attention_mae: 0.0196 - val_loss: 0.0029 - val_attention_mae: 0.0161\n",
            "Epoch 4/300\n",
            "15/15 [==============================] - ETA: 0s - loss: 0.0027 - attention_mae: 0.0198\n",
            "Epoch 4: val_loss did not improve from 0.00290\n",
            "15/15 [==============================] - 12s 814ms/step - loss: 0.0027 - attention_mae: 0.0198 - val_loss: 0.0030 - val_attention_mae: 0.0178\n",
            "Epoch 5/300\n",
            "15/15 [==============================] - ETA: 0s - loss: 0.0027 - attention_mae: 0.0194\n",
            "Epoch 5: val_loss improved from 0.00290 to 0.00275, saving model to /content/drive/MyDrive/Research/TAVI/Models/Curvature_2_Pressure_MultiViewUNet_I256_B16_LR0.001\n",
            "15/15 [==============================] - 13s 856ms/step - loss: 0.0027 - attention_mae: 0.0194 - val_loss: 0.0028 - val_attention_mae: 0.0171\n",
            "Epoch 6/300\n",
            "15/15 [==============================] - ETA: 0s - loss: 0.0027 - attention_mae: 0.0191\n",
            "Epoch 6: val_loss did not improve from 0.00275\n",
            "15/15 [==============================] - 12s 809ms/step - loss: 0.0027 - attention_mae: 0.0191 - val_loss: 0.0032 - val_attention_mae: 0.0189\n",
            "Epoch 7/300\n",
            "15/15 [==============================] - ETA: 0s - loss: 0.0026 - attention_mae: 0.0187\n",
            "Epoch 7: val_loss did not improve from 0.00275\n",
            "15/15 [==============================] - 12s 805ms/step - loss: 0.0026 - attention_mae: 0.0187 - val_loss: 0.0031 - val_attention_mae: 0.0165\n",
            "Epoch 8/300\n",
            "15/15 [==============================] - ETA: 0s - loss: 0.0026 - attention_mae: 0.0186\n",
            "Epoch 8: val_loss did not improve from 0.00275\n",
            "15/15 [==============================] - 12s 804ms/step - loss: 0.0026 - attention_mae: 0.0186 - val_loss: 0.0032 - val_attention_mae: 0.0170\n",
            "Epoch 9/300\n",
            "15/15 [==============================] - ETA: 0s - loss: 0.0026 - attention_mae: 0.0182\n",
            "Epoch 9: val_loss did not improve from 0.00275\n",
            "15/15 [==============================] - 12s 805ms/step - loss: 0.0026 - attention_mae: 0.0182 - val_loss: 0.0032 - val_attention_mae: 0.0175\n",
            "Epoch 10/300\n",
            "15/15 [==============================] - ETA: 0s - loss: 0.0026 - attention_mae: 0.0183\n",
            "Epoch 10: val_loss did not improve from 0.00275\n",
            "15/15 [==============================] - 12s 807ms/step - loss: 0.0026 - attention_mae: 0.0183 - val_loss: 0.0030 - val_attention_mae: 0.0161\n",
            "Epoch 11/300\n",
            "15/15 [==============================] - ETA: 0s - loss: 0.0026 - attention_mae: 0.0185\n",
            "Epoch 11: val_loss did not improve from 0.00275\n",
            "15/15 [==============================] - 12s 810ms/step - loss: 0.0026 - attention_mae: 0.0185 - val_loss: 0.0028 - val_attention_mae: 0.0163\n",
            "Epoch 12/300\n",
            "15/15 [==============================] - ETA: 0s - loss: 0.0026 - attention_mae: 0.0178\n",
            "Epoch 12: val_loss did not improve from 0.00275\n",
            "15/15 [==============================] - 12s 809ms/step - loss: 0.0026 - attention_mae: 0.0178 - val_loss: 0.0037 - val_attention_mae: 0.0195\n",
            "Epoch 13/300\n",
            "15/15 [==============================] - ETA: 0s - loss: 0.0025 - attention_mae: 0.0181\n",
            "Epoch 13: val_loss improved from 0.00275 to 0.00270, saving model to /content/drive/MyDrive/Research/TAVI/Models/Curvature_2_Pressure_MultiViewUNet_I256_B16_LR0.001\n",
            "15/15 [==============================] - 13s 842ms/step - loss: 0.0025 - attention_mae: 0.0181 - val_loss: 0.0027 - val_attention_mae: 0.0160\n",
            "Epoch 14/300\n",
            "15/15 [==============================] - ETA: 0s - loss: 0.0025 - attention_mae: 0.0174\n",
            "Epoch 14: val_loss improved from 0.00270 to 0.00251, saving model to /content/drive/MyDrive/Research/TAVI/Models/Curvature_2_Pressure_MultiViewUNet_I256_B16_LR0.001\n",
            "15/15 [==============================] - 13s 853ms/step - loss: 0.0025 - attention_mae: 0.0174 - val_loss: 0.0025 - val_attention_mae: 0.0174\n",
            "Epoch 15/300\n",
            "15/15 [==============================] - ETA: 0s - loss: 0.0025 - attention_mae: 0.0172\n",
            "Epoch 15: val_loss did not improve from 0.00251\n",
            "15/15 [==============================] - 12s 812ms/step - loss: 0.0025 - attention_mae: 0.0172 - val_loss: 0.0028 - val_attention_mae: 0.0165\n",
            "Epoch 16/300\n",
            "15/15 [==============================] - ETA: 0s - loss: 0.0024 - attention_mae: 0.0169\n",
            "Epoch 16: val_loss did not improve from 0.00251\n",
            "15/15 [==============================] - 12s 809ms/step - loss: 0.0024 - attention_mae: 0.0169 - val_loss: 0.0027 - val_attention_mae: 0.0152\n",
            "Epoch 17/300\n",
            "15/15 [==============================] - ETA: 0s - loss: 0.0024 - attention_mae: 0.0164\n",
            "Epoch 17: val_loss did not improve from 0.00251\n",
            "15/15 [==============================] - 12s 807ms/step - loss: 0.0024 - attention_mae: 0.0164 - val_loss: 0.0027 - val_attention_mae: 0.0139\n",
            "Epoch 18/300\n",
            "15/15 [==============================] - ETA: 0s - loss: 0.0024 - attention_mae: 0.0170\n",
            "Epoch 18: val_loss did not improve from 0.00251\n",
            "15/15 [==============================] - 12s 807ms/step - loss: 0.0024 - attention_mae: 0.0170 - val_loss: 0.0031 - val_attention_mae: 0.0176\n",
            "Epoch 19/300\n",
            "15/15 [==============================] - ETA: 0s - loss: 0.0024 - attention_mae: 0.0165\n",
            "Epoch 19: val_loss did not improve from 0.00251\n",
            "15/15 [==============================] - 12s 808ms/step - loss: 0.0024 - attention_mae: 0.0165 - val_loss: 0.0026 - val_attention_mae: 0.0156\n",
            "Epoch 20/300\n",
            "15/15 [==============================] - ETA: 0s - loss: 0.0024 - attention_mae: 0.0166\n",
            "Epoch 20: val_loss did not improve from 0.00251\n",
            "15/15 [==============================] - 12s 808ms/step - loss: 0.0024 - attention_mae: 0.0166 - val_loss: 0.0028 - val_attention_mae: 0.0143\n",
            "Epoch 21/300\n",
            "15/15 [==============================] - ETA: 0s - loss: 0.0024 - attention_mae: 0.0163\n",
            "Epoch 21: val_loss did not improve from 0.00251\n",
            "15/15 [==============================] - 12s 808ms/step - loss: 0.0024 - attention_mae: 0.0163 - val_loss: 0.0028 - val_attention_mae: 0.0157\n",
            "Epoch 22/300\n",
            "15/15 [==============================] - ETA: 0s - loss: 0.0024 - attention_mae: 0.0161\n",
            "Epoch 22: val_loss did not improve from 0.00251\n",
            "15/15 [==============================] - 12s 808ms/step - loss: 0.0024 - attention_mae: 0.0161 - val_loss: 0.0028 - val_attention_mae: 0.0175\n",
            "Epoch 23/300\n",
            "15/15 [==============================] - ETA: 0s - loss: 0.0024 - attention_mae: 0.0160\n",
            "Epoch 23: val_loss improved from 0.00251 to 0.00247, saving model to /content/drive/MyDrive/Research/TAVI/Models/Curvature_2_Pressure_MultiViewUNet_I256_B16_LR0.001\n",
            "15/15 [==============================] - 13s 846ms/step - loss: 0.0024 - attention_mae: 0.0160 - val_loss: 0.0025 - val_attention_mae: 0.0152\n",
            "Epoch 24/300\n",
            "15/15 [==============================] - ETA: 0s - loss: 0.0024 - attention_mae: 0.0158\n",
            "Epoch 24: val_loss did not improve from 0.00247\n",
            "15/15 [==============================] - 12s 803ms/step - loss: 0.0024 - attention_mae: 0.0158 - val_loss: 0.0025 - val_attention_mae: 0.0141\n",
            "Epoch 25/300\n",
            "15/15 [==============================] - ETA: 0s - loss: 0.0024 - attention_mae: 0.0163\n",
            "Epoch 25: val_loss did not improve from 0.00247\n",
            "15/15 [==============================] - 12s 811ms/step - loss: 0.0024 - attention_mae: 0.0163 - val_loss: 0.0026 - val_attention_mae: 0.0162\n",
            "Epoch 26/300\n",
            "15/15 [==============================] - ETA: 0s - loss: 0.0023 - attention_mae: 0.0155\n",
            "Epoch 26: val_loss improved from 0.00247 to 0.00243, saving model to /content/drive/MyDrive/Research/TAVI/Models/Curvature_2_Pressure_MultiViewUNet_I256_B16_LR0.001\n",
            "15/15 [==============================] - 13s 859ms/step - loss: 0.0023 - attention_mae: 0.0155 - val_loss: 0.0024 - val_attention_mae: 0.0156\n",
            "Epoch 27/300\n",
            "15/15 [==============================] - ETA: 0s - loss: 0.0024 - attention_mae: 0.0157\n",
            "Epoch 27: val_loss did not improve from 0.00243\n",
            "15/15 [==============================] - 12s 811ms/step - loss: 0.0024 - attention_mae: 0.0157 - val_loss: 0.0026 - val_attention_mae: 0.0159\n",
            "Epoch 28/300\n",
            "15/15 [==============================] - ETA: 0s - loss: 0.0023 - attention_mae: 0.0157\n",
            "Epoch 28: val_loss did not improve from 0.00243\n",
            "15/15 [==============================] - 12s 808ms/step - loss: 0.0023 - attention_mae: 0.0157 - val_loss: 0.0026 - val_attention_mae: 0.0145\n",
            "Epoch 29/300\n",
            "15/15 [==============================] - ETA: 0s - loss: 0.0023 - attention_mae: 0.0153\n",
            "Epoch 29: val_loss did not improve from 0.00243\n",
            "15/15 [==============================] - 12s 807ms/step - loss: 0.0023 - attention_mae: 0.0153 - val_loss: 0.0027 - val_attention_mae: 0.0142\n",
            "Epoch 30/300\n",
            "15/15 [==============================] - ETA: 0s - loss: 0.0023 - attention_mae: 0.0151\n",
            "Epoch 30: val_loss did not improve from 0.00243\n",
            "15/15 [==============================] - 12s 806ms/step - loss: 0.0023 - attention_mae: 0.0151 - val_loss: 0.0027 - val_attention_mae: 0.0144\n",
            "Epoch 31/300\n",
            "15/15 [==============================] - ETA: 0s - loss: 0.0023 - attention_mae: 0.0148\n",
            "Epoch 31: val_loss did not improve from 0.00243\n",
            "15/15 [==============================] - 12s 808ms/step - loss: 0.0023 - attention_mae: 0.0148 - val_loss: 0.0025 - val_attention_mae: 0.0140\n",
            "Epoch 32/300\n",
            "15/15 [==============================] - ETA: 0s - loss: 0.0022 - attention_mae: 0.0150\n",
            "Epoch 32: val_loss did not improve from 0.00243\n",
            "15/15 [==============================] - 12s 808ms/step - loss: 0.0022 - attention_mae: 0.0150 - val_loss: 0.0025 - val_attention_mae: 0.0139\n",
            "Epoch 33/300\n",
            "15/15 [==============================] - ETA: 0s - loss: 0.0022 - attention_mae: 0.0146\n",
            "Epoch 33: val_loss improved from 0.00243 to 0.00242, saving model to /content/drive/MyDrive/Research/TAVI/Models/Curvature_2_Pressure_MultiViewUNet_I256_B16_LR0.001\n",
            "15/15 [==============================] - 13s 853ms/step - loss: 0.0022 - attention_mae: 0.0146 - val_loss: 0.0024 - val_attention_mae: 0.0130\n",
            "Epoch 34/300\n",
            "15/15 [==============================] - ETA: 0s - loss: 0.0022 - attention_mae: 0.0150\n",
            "Epoch 34: val_loss improved from 0.00242 to 0.00235, saving model to /content/drive/MyDrive/Research/TAVI/Models/Curvature_2_Pressure_MultiViewUNet_I256_B16_LR0.001\n",
            "15/15 [==============================] - 13s 851ms/step - loss: 0.0022 - attention_mae: 0.0150 - val_loss: 0.0023 - val_attention_mae: 0.0148\n",
            "Epoch 35/300\n",
            "15/15 [==============================] - ETA: 0s - loss: 0.0022 - attention_mae: 0.0146\n",
            "Epoch 35: val_loss did not improve from 0.00235\n",
            "15/15 [==============================] - 12s 809ms/step - loss: 0.0022 - attention_mae: 0.0146 - val_loss: 0.0024 - val_attention_mae: 0.0140\n",
            "Epoch 36/300\n",
            "15/15 [==============================] - ETA: 0s - loss: 0.0022 - attention_mae: 0.0144\n",
            "Epoch 36: val_loss improved from 0.00235 to 0.00233, saving model to /content/drive/MyDrive/Research/TAVI/Models/Curvature_2_Pressure_MultiViewUNet_I256_B16_LR0.001\n",
            "15/15 [==============================] - 13s 852ms/step - loss: 0.0022 - attention_mae: 0.0144 - val_loss: 0.0023 - val_attention_mae: 0.0130\n",
            "Epoch 37/300\n",
            "15/15 [==============================] - ETA: 0s - loss: 0.0022 - attention_mae: 0.0143\n",
            "Epoch 37: val_loss did not improve from 0.00233\n",
            "15/15 [==============================] - 12s 810ms/step - loss: 0.0022 - attention_mae: 0.0143 - val_loss: 0.0027 - val_attention_mae: 0.0126\n",
            "Epoch 38/300\n",
            "15/15 [==============================] - ETA: 0s - loss: 0.0022 - attention_mae: 0.0143\n",
            "Epoch 38: val_loss did not improve from 0.00233\n",
            "15/15 [==============================] - 12s 810ms/step - loss: 0.0022 - attention_mae: 0.0143 - val_loss: 0.0025 - val_attention_mae: 0.0131\n",
            "Epoch 39/300\n",
            "15/15 [==============================] - ETA: 0s - loss: 0.0022 - attention_mae: 0.0144\n",
            "Epoch 39: val_loss improved from 0.00233 to 0.00232, saving model to /content/drive/MyDrive/Research/TAVI/Models/Curvature_2_Pressure_MultiViewUNet_I256_B16_LR0.001\n",
            "15/15 [==============================] - 13s 850ms/step - loss: 0.0022 - attention_mae: 0.0144 - val_loss: 0.0023 - val_attention_mae: 0.0143\n",
            "Epoch 40/300\n",
            "15/15 [==============================] - ETA: 0s - loss: 0.0022 - attention_mae: 0.0151\n",
            "Epoch 40: val_loss did not improve from 0.00232\n",
            "15/15 [==============================] - 12s 809ms/step - loss: 0.0022 - attention_mae: 0.0151 - val_loss: 0.0025 - val_attention_mae: 0.0142\n",
            "Epoch 41/300\n",
            "15/15 [==============================] - ETA: 0s - loss: 0.0022 - attention_mae: 0.0144\n",
            "Epoch 41: val_loss improved from 0.00232 to 0.00218, saving model to /content/drive/MyDrive/Research/TAVI/Models/Curvature_2_Pressure_MultiViewUNet_I256_B16_LR0.001\n",
            "15/15 [==============================] - 13s 850ms/step - loss: 0.0022 - attention_mae: 0.0144 - val_loss: 0.0022 - val_attention_mae: 0.0126\n",
            "Epoch 42/300\n",
            "15/15 [==============================] - ETA: 0s - loss: 0.0021 - attention_mae: 0.0141\n",
            "Epoch 42: val_loss did not improve from 0.00218\n",
            "15/15 [==============================] - 12s 808ms/step - loss: 0.0021 - attention_mae: 0.0141 - val_loss: 0.0025 - val_attention_mae: 0.0137\n",
            "Epoch 43/300\n",
            "15/15 [==============================] - ETA: 0s - loss: 0.0021 - attention_mae: 0.0137\n",
            "Epoch 43: val_loss did not improve from 0.00218\n",
            "15/15 [==============================] - 12s 808ms/step - loss: 0.0021 - attention_mae: 0.0137 - val_loss: 0.0023 - val_attention_mae: 0.0122\n",
            "Epoch 44/300\n",
            "15/15 [==============================] - ETA: 0s - loss: 0.0022 - attention_mae: 0.0144\n",
            "Epoch 44: val_loss did not improve from 0.00218\n",
            "15/15 [==============================] - 12s 808ms/step - loss: 0.0022 - attention_mae: 0.0144 - val_loss: 0.0022 - val_attention_mae: 0.0149\n",
            "Epoch 45/300\n",
            "15/15 [==============================] - ETA: 0s - loss: 0.0021 - attention_mae: 0.0138\n",
            "Epoch 45: val_loss did not improve from 0.00218\n",
            "15/15 [==============================] - 12s 808ms/step - loss: 0.0021 - attention_mae: 0.0138 - val_loss: 0.0022 - val_attention_mae: 0.0145\n",
            "Epoch 46/300\n",
            "15/15 [==============================] - ETA: 0s - loss: 0.0021 - attention_mae: 0.0136\n",
            "Epoch 46: val_loss did not improve from 0.00218\n",
            "15/15 [==============================] - 12s 808ms/step - loss: 0.0021 - attention_mae: 0.0136 - val_loss: 0.0024 - val_attention_mae: 0.0133\n",
            "Epoch 47/300\n",
            "15/15 [==============================] - ETA: 0s - loss: 0.0021 - attention_mae: 0.0137\n",
            "Epoch 47: val_loss did not improve from 0.00218\n",
            "15/15 [==============================] - 12s 808ms/step - loss: 0.0021 - attention_mae: 0.0137 - val_loss: 0.0024 - val_attention_mae: 0.0118\n",
            "Epoch 48/300\n",
            "15/15 [==============================] - ETA: 0s - loss: 0.0021 - attention_mae: 0.0133\n",
            "Epoch 48: val_loss did not improve from 0.00218\n",
            "15/15 [==============================] - 12s 808ms/step - loss: 0.0021 - attention_mae: 0.0133 - val_loss: 0.0023 - val_attention_mae: 0.0136\n",
            "Epoch 49/300\n",
            "15/15 [==============================] - ETA: 0s - loss: 0.0021 - attention_mae: 0.0136\n",
            "Epoch 49: val_loss did not improve from 0.00218\n",
            "15/15 [==============================] - 12s 808ms/step - loss: 0.0021 - attention_mae: 0.0136 - val_loss: 0.0023 - val_attention_mae: 0.0124\n",
            "Epoch 50/300\n",
            "15/15 [==============================] - ETA: 0s - loss: 0.0021 - attention_mae: 0.0136\n",
            "Epoch 50: val_loss improved from 0.00218 to 0.00214, saving model to /content/drive/MyDrive/Research/TAVI/Models/Curvature_2_Pressure_MultiViewUNet_I256_B16_LR0.001\n",
            "15/15 [==============================] - 13s 853ms/step - loss: 0.0021 - attention_mae: 0.0136 - val_loss: 0.0021 - val_attention_mae: 0.0123\n",
            "Epoch 51/300\n",
            "15/15 [==============================] - ETA: 0s - loss: 0.0022 - attention_mae: 0.0135\n",
            "Epoch 51: val_loss did not improve from 0.00214\n",
            "15/15 [==============================] - 12s 808ms/step - loss: 0.0022 - attention_mae: 0.0135 - val_loss: 0.0026 - val_attention_mae: 0.0137\n",
            "Epoch 52/300\n",
            "15/15 [==============================] - ETA: 0s - loss: 0.0022 - attention_mae: 0.0142\n",
            "Epoch 52: val_loss did not improve from 0.00214\n",
            "15/15 [==============================] - 12s 808ms/step - loss: 0.0022 - attention_mae: 0.0142 - val_loss: 0.0026 - val_attention_mae: 0.0175\n",
            "Epoch 53/300\n",
            "15/15 [==============================] - ETA: 0s - loss: 0.0022 - attention_mae: 0.0133\n",
            "Epoch 53: val_loss did not improve from 0.00214\n",
            "15/15 [==============================] - 12s 808ms/step - loss: 0.0022 - attention_mae: 0.0133 - val_loss: 0.0026 - val_attention_mae: 0.0120\n",
            "Epoch 54/300\n",
            "15/15 [==============================] - ETA: 0s - loss: 0.0021 - attention_mae: 0.0137\n",
            "Epoch 54: val_loss improved from 0.00214 to 0.00212, saving model to /content/drive/MyDrive/Research/TAVI/Models/Curvature_2_Pressure_MultiViewUNet_I256_B16_LR0.001\n",
            "15/15 [==============================] - 13s 851ms/step - loss: 0.0021 - attention_mae: 0.0137 - val_loss: 0.0021 - val_attention_mae: 0.0121\n",
            "Epoch 55/300\n",
            "15/15 [==============================] - ETA: 0s - loss: 0.0021 - attention_mae: 0.0135\n",
            "Epoch 55: val_loss improved from 0.00212 to 0.00211, saving model to /content/drive/MyDrive/Research/TAVI/Models/Curvature_2_Pressure_MultiViewUNet_I256_B16_LR0.001\n",
            "15/15 [==============================] - 13s 851ms/step - loss: 0.0021 - attention_mae: 0.0135 - val_loss: 0.0021 - val_attention_mae: 0.0121\n",
            "Epoch 56/300\n",
            "15/15 [==============================] - ETA: 0s - loss: 0.0021 - attention_mae: 0.0131\n",
            "Epoch 56: val_loss improved from 0.00211 to 0.00209, saving model to /content/drive/MyDrive/Research/TAVI/Models/Curvature_2_Pressure_MultiViewUNet_I256_B16_LR0.001\n",
            "15/15 [==============================] - 13s 851ms/step - loss: 0.0021 - attention_mae: 0.0131 - val_loss: 0.0021 - val_attention_mae: 0.0146\n",
            "Epoch 57/300\n",
            "15/15 [==============================] - ETA: 0s - loss: 0.0021 - attention_mae: 0.0141\n",
            "Epoch 57: val_loss improved from 0.00209 to 0.00208, saving model to /content/drive/MyDrive/Research/TAVI/Models/Curvature_2_Pressure_MultiViewUNet_I256_B16_LR0.001\n",
            "15/15 [==============================] - 13s 844ms/step - loss: 0.0021 - attention_mae: 0.0141 - val_loss: 0.0021 - val_attention_mae: 0.0124\n",
            "Epoch 58/300\n",
            "15/15 [==============================] - ETA: 0s - loss: 0.0020 - attention_mae: 0.0131\n",
            "Epoch 58: val_loss did not improve from 0.00208\n",
            "15/15 [==============================] - 12s 813ms/step - loss: 0.0020 - attention_mae: 0.0131 - val_loss: 0.0021 - val_attention_mae: 0.0135\n",
            "Epoch 59/300\n",
            "15/15 [==============================] - ETA: 0s - loss: 0.0020 - attention_mae: 0.0127\n",
            "Epoch 59: val_loss improved from 0.00208 to 0.00198, saving model to /content/drive/MyDrive/Research/TAVI/Models/Curvature_2_Pressure_MultiViewUNet_I256_B16_LR0.001\n",
            "15/15 [==============================] - 13s 856ms/step - loss: 0.0020 - attention_mae: 0.0127 - val_loss: 0.0020 - val_attention_mae: 0.0125\n",
            "Epoch 60/300\n",
            "15/15 [==============================] - ETA: 0s - loss: 0.0020 - attention_mae: 0.0128\n",
            "Epoch 60: val_loss did not improve from 0.00198\n",
            "15/15 [==============================] - 12s 810ms/step - loss: 0.0020 - attention_mae: 0.0128 - val_loss: 0.0020 - val_attention_mae: 0.0115\n",
            "Epoch 61/300\n",
            "15/15 [==============================] - ETA: 0s - loss: 0.0020 - attention_mae: 0.0130\n",
            "Epoch 61: val_loss did not improve from 0.00198\n",
            "15/15 [==============================] - 12s 808ms/step - loss: 0.0020 - attention_mae: 0.0130 - val_loss: 0.0021 - val_attention_mae: 0.0116\n",
            "Epoch 62/300\n",
            "15/15 [==============================] - ETA: 0s - loss: 0.0020 - attention_mae: 0.0131\n",
            "Epoch 62: val_loss did not improve from 0.00198\n",
            "15/15 [==============================] - 12s 807ms/step - loss: 0.0020 - attention_mae: 0.0131 - val_loss: 0.0020 - val_attention_mae: 0.0141\n",
            "Epoch 63/300\n",
            "15/15 [==============================] - ETA: 0s - loss: 0.0020 - attention_mae: 0.0130\n",
            "Epoch 63: val_loss did not improve from 0.00198\n",
            "15/15 [==============================] - 12s 808ms/step - loss: 0.0020 - attention_mae: 0.0130 - val_loss: 0.0020 - val_attention_mae: 0.0137\n",
            "Epoch 64/300\n",
            "15/15 [==============================] - ETA: 0s - loss: 0.0020 - attention_mae: 0.0129\n",
            "Epoch 64: val_loss did not improve from 0.00198\n",
            "15/15 [==============================] - 12s 809ms/step - loss: 0.0020 - attention_mae: 0.0129 - val_loss: 0.0021 - val_attention_mae: 0.0117\n",
            "Epoch 65/300\n",
            "15/15 [==============================] - ETA: 0s - loss: 0.0020 - attention_mae: 0.0129\n",
            "Epoch 65: val_loss did not improve from 0.00198\n",
            "15/15 [==============================] - 12s 805ms/step - loss: 0.0020 - attention_mae: 0.0129 - val_loss: 0.0024 - val_attention_mae: 0.0164\n",
            "Epoch 66/300\n",
            "15/15 [==============================] - ETA: 0s - loss: 0.0020 - attention_mae: 0.0132\n",
            "Epoch 66: val_loss did not improve from 0.00198\n",
            "15/15 [==============================] - 12s 813ms/step - loss: 0.0020 - attention_mae: 0.0132 - val_loss: 0.0022 - val_attention_mae: 0.0123\n",
            "Epoch 67/300\n",
            "15/15 [==============================] - ETA: 0s - loss: 0.0020 - attention_mae: 0.0125\n",
            "Epoch 67: val_loss did not improve from 0.00198\n",
            "15/15 [==============================] - 12s 817ms/step - loss: 0.0020 - attention_mae: 0.0125 - val_loss: 0.0020 - val_attention_mae: 0.0141\n",
            "Epoch 68/300\n",
            "15/15 [==============================] - ETA: 0s - loss: 0.0020 - attention_mae: 0.0123\n",
            "Epoch 68: val_loss improved from 0.00198 to 0.00194, saving model to /content/drive/MyDrive/Research/TAVI/Models/Curvature_2_Pressure_MultiViewUNet_I256_B16_LR0.001\n",
            "15/15 [==============================] - 13s 850ms/step - loss: 0.0020 - attention_mae: 0.0123 - val_loss: 0.0019 - val_attention_mae: 0.0124\n",
            "Epoch 69/300\n",
            "15/15 [==============================] - ETA: 0s - loss: 0.0019 - attention_mae: 0.0124\n",
            "Epoch 69: val_loss did not improve from 0.00194\n",
            "15/15 [==============================] - 12s 808ms/step - loss: 0.0019 - attention_mae: 0.0124 - val_loss: 0.0020 - val_attention_mae: 0.0111\n",
            "Epoch 70/300\n",
            "15/15 [==============================] - ETA: 0s - loss: 0.0020 - attention_mae: 0.0120\n",
            "Epoch 70: val_loss improved from 0.00194 to 0.00189, saving model to /content/drive/MyDrive/Research/TAVI/Models/Curvature_2_Pressure_MultiViewUNet_I256_B16_LR0.001\n",
            "15/15 [==============================] - 13s 846ms/step - loss: 0.0020 - attention_mae: 0.0120 - val_loss: 0.0019 - val_attention_mae: 0.0116\n",
            "Epoch 71/300\n",
            "15/15 [==============================] - ETA: 0s - loss: 0.0020 - attention_mae: 0.0120\n",
            "Epoch 71: val_loss did not improve from 0.00189\n",
            "15/15 [==============================] - 12s 808ms/step - loss: 0.0020 - attention_mae: 0.0120 - val_loss: 0.0020 - val_attention_mae: 0.0152\n",
            "Epoch 72/300\n",
            "15/15 [==============================] - ETA: 0s - loss: 0.0020 - attention_mae: 0.0125\n",
            "Epoch 72: val_loss did not improve from 0.00189\n",
            "15/15 [==============================] - 12s 809ms/step - loss: 0.0020 - attention_mae: 0.0125 - val_loss: 0.0020 - val_attention_mae: 0.0121\n",
            "Epoch 73/300\n",
            "15/15 [==============================] - ETA: 0s - loss: 0.0019 - attention_mae: 0.0120\n",
            "Epoch 73: val_loss did not improve from 0.00189\n",
            "15/15 [==============================] - 12s 810ms/step - loss: 0.0019 - attention_mae: 0.0120 - val_loss: 0.0021 - val_attention_mae: 0.0111\n",
            "Epoch 74/300\n",
            "15/15 [==============================] - ETA: 0s - loss: 0.0019 - attention_mae: 0.0119\n",
            "Epoch 74: val_loss did not improve from 0.00189\n",
            "15/15 [==============================] - 12s 810ms/step - loss: 0.0019 - attention_mae: 0.0119 - val_loss: 0.0019 - val_attention_mae: 0.0115\n",
            "Epoch 75/300\n",
            "15/15 [==============================] - ETA: 0s - loss: 0.0019 - attention_mae: 0.0120\n",
            "Epoch 75: val_loss did not improve from 0.00189\n",
            "15/15 [==============================] - 12s 810ms/step - loss: 0.0019 - attention_mae: 0.0120 - val_loss: 0.0019 - val_attention_mae: 0.0106\n",
            "Epoch 76/300\n",
            "15/15 [==============================] - ETA: 0s - loss: 0.0018 - attention_mae: 0.0120\n",
            "Epoch 76: val_loss improved from 0.00189 to 0.00188, saving model to /content/drive/MyDrive/Research/TAVI/Models/Curvature_2_Pressure_MultiViewUNet_I256_B16_LR0.001\n",
            "15/15 [==============================] - 13s 850ms/step - loss: 0.0018 - attention_mae: 0.0120 - val_loss: 0.0019 - val_attention_mae: 0.0109\n",
            "Epoch 77/300\n",
            "15/15 [==============================] - ETA: 0s - loss: 0.0018 - attention_mae: 0.0117\n",
            "Epoch 77: val_loss did not improve from 0.00188\n",
            "15/15 [==============================] - 12s 809ms/step - loss: 0.0018 - attention_mae: 0.0117 - val_loss: 0.0019 - val_attention_mae: 0.0108\n",
            "Epoch 78/300\n",
            "15/15 [==============================] - ETA: 0s - loss: 0.0019 - attention_mae: 0.0117\n",
            "Epoch 78: val_loss did not improve from 0.00188\n",
            "15/15 [==============================] - 12s 810ms/step - loss: 0.0019 - attention_mae: 0.0117 - val_loss: 0.0019 - val_attention_mae: 0.0125\n",
            "Epoch 79/300\n",
            "15/15 [==============================] - ETA: 0s - loss: 0.0018 - attention_mae: 0.0118\n",
            "Epoch 79: val_loss did not improve from 0.00188\n",
            "15/15 [==============================] - 12s 809ms/step - loss: 0.0018 - attention_mae: 0.0118 - val_loss: 0.0020 - val_attention_mae: 0.0116\n",
            "Epoch 80/300\n",
            "15/15 [==============================] - ETA: 0s - loss: 0.0018 - attention_mae: 0.0118\n",
            "Epoch 80: val_loss did not improve from 0.00188\n",
            "15/15 [==============================] - 12s 809ms/step - loss: 0.0018 - attention_mae: 0.0118 - val_loss: 0.0019 - val_attention_mae: 0.0116\n",
            "Epoch 81/300\n",
            "15/15 [==============================] - ETA: 0s - loss: 0.0018 - attention_mae: 0.0117\n",
            "Epoch 81: val_loss did not improve from 0.00188\n",
            "15/15 [==============================] - 12s 810ms/step - loss: 0.0018 - attention_mae: 0.0117 - val_loss: 0.0019 - val_attention_mae: 0.0111\n",
            "Epoch 82/300\n",
            "15/15 [==============================] - ETA: 0s - loss: 0.0018 - attention_mae: 0.0116\n",
            "Epoch 82: val_loss did not improve from 0.00188\n",
            "15/15 [==============================] - 12s 810ms/step - loss: 0.0018 - attention_mae: 0.0116 - val_loss: 0.0019 - val_attention_mae: 0.0101\n",
            "Epoch 83/300\n",
            "15/15 [==============================] - ETA: 0s - loss: 0.0019 - attention_mae: 0.0119\n",
            "Epoch 83: val_loss did not improve from 0.00188\n",
            "15/15 [==============================] - 12s 810ms/step - loss: 0.0019 - attention_mae: 0.0119 - val_loss: 0.0019 - val_attention_mae: 0.0112\n",
            "Epoch 84/300\n",
            "15/15 [==============================] - ETA: 0s - loss: 0.0019 - attention_mae: 0.0120\n",
            "Epoch 84: val_loss improved from 0.00188 to 0.00179, saving model to /content/drive/MyDrive/Research/TAVI/Models/Curvature_2_Pressure_MultiViewUNet_I256_B16_LR0.001\n",
            "15/15 [==============================] - 13s 849ms/step - loss: 0.0019 - attention_mae: 0.0120 - val_loss: 0.0018 - val_attention_mae: 0.0126\n",
            "Epoch 85/300\n",
            "15/15 [==============================] - ETA: 0s - loss: 0.0019 - attention_mae: 0.0120\n",
            "Epoch 85: val_loss did not improve from 0.00179\n",
            "15/15 [==============================] - 12s 811ms/step - loss: 0.0019 - attention_mae: 0.0120 - val_loss: 0.0020 - val_attention_mae: 0.0135\n",
            "Epoch 86/300\n",
            "15/15 [==============================] - ETA: 0s - loss: 0.0019 - attention_mae: 0.0116\n",
            "Epoch 86: val_loss did not improve from 0.00179\n",
            "15/15 [==============================] - 12s 810ms/step - loss: 0.0019 - attention_mae: 0.0116 - val_loss: 0.0019 - val_attention_mae: 0.0109\n",
            "Epoch 87/300\n",
            "15/15 [==============================] - ETA: 0s - loss: 0.0019 - attention_mae: 0.0118\n",
            "Epoch 87: val_loss improved from 0.00179 to 0.00175, saving model to /content/drive/MyDrive/Research/TAVI/Models/Curvature_2_Pressure_MultiViewUNet_I256_B16_LR0.001\n",
            "15/15 [==============================] - 13s 850ms/step - loss: 0.0019 - attention_mae: 0.0118 - val_loss: 0.0018 - val_attention_mae: 0.0113\n",
            "Epoch 88/300\n",
            "15/15 [==============================] - ETA: 0s - loss: 0.0018 - attention_mae: 0.0115\n",
            "Epoch 88: val_loss did not improve from 0.00175\n",
            "15/15 [==============================] - 12s 809ms/step - loss: 0.0018 - attention_mae: 0.0115 - val_loss: 0.0018 - val_attention_mae: 0.0141\n",
            "Epoch 89/300\n",
            "15/15 [==============================] - ETA: 0s - loss: 0.0018 - attention_mae: 0.0115\n",
            "Epoch 89: val_loss did not improve from 0.00175\n",
            "15/15 [==============================] - 12s 809ms/step - loss: 0.0018 - attention_mae: 0.0115 - val_loss: 0.0019 - val_attention_mae: 0.0109\n",
            "Epoch 90/300\n",
            "15/15 [==============================] - ETA: 0s - loss: 0.0018 - attention_mae: 0.0114\n",
            "Epoch 90: val_loss did not improve from 0.00175\n",
            "15/15 [==============================] - 12s 808ms/step - loss: 0.0018 - attention_mae: 0.0114 - val_loss: 0.0019 - val_attention_mae: 0.0130\n",
            "Epoch 91/300\n",
            "15/15 [==============================] - ETA: 0s - loss: 0.0018 - attention_mae: 0.0114\n",
            "Epoch 91: val_loss did not improve from 0.00175\n",
            "15/15 [==============================] - 12s 808ms/step - loss: 0.0018 - attention_mae: 0.0114 - val_loss: 0.0018 - val_attention_mae: 0.0112\n",
            "Epoch 92/300\n",
            "15/15 [==============================] - ETA: 0s - loss: 0.0018 - attention_mae: 0.0115\n",
            "Epoch 92: val_loss did not improve from 0.00175\n",
            "15/15 [==============================] - 12s 808ms/step - loss: 0.0018 - attention_mae: 0.0115 - val_loss: 0.0018 - val_attention_mae: 0.0105\n",
            "Epoch 93/300\n",
            "15/15 [==============================] - ETA: 0s - loss: 0.0017 - attention_mae: 0.0113\n",
            "Epoch 93: val_loss improved from 0.00175 to 0.00164, saving model to /content/drive/MyDrive/Research/TAVI/Models/Curvature_2_Pressure_MultiViewUNet_I256_B16_LR0.001\n",
            "15/15 [==============================] - 13s 848ms/step - loss: 0.0017 - attention_mae: 0.0113 - val_loss: 0.0016 - val_attention_mae: 0.0108\n",
            "Epoch 94/300\n",
            "15/15 [==============================] - ETA: 0s - loss: 0.0018 - attention_mae: 0.0118\n",
            "Epoch 94: val_loss did not improve from 0.00164\n",
            "15/15 [==============================] - 12s 810ms/step - loss: 0.0018 - attention_mae: 0.0118 - val_loss: 0.0021 - val_attention_mae: 0.0136\n",
            "Epoch 95/300\n",
            "15/15 [==============================] - ETA: 0s - loss: 0.0017 - attention_mae: 0.0114\n",
            "Epoch 95: val_loss did not improve from 0.00164\n",
            "15/15 [==============================] - 12s 809ms/step - loss: 0.0017 - attention_mae: 0.0114 - val_loss: 0.0017 - val_attention_mae: 0.0106\n",
            "Epoch 96/300\n",
            "15/15 [==============================] - ETA: 0s - loss: 0.0017 - attention_mae: 0.0109\n",
            "Epoch 96: val_loss did not improve from 0.00164\n",
            "15/15 [==============================] - 12s 809ms/step - loss: 0.0017 - attention_mae: 0.0109 - val_loss: 0.0017 - val_attention_mae: 0.0102\n",
            "Epoch 97/300\n",
            "15/15 [==============================] - ETA: 0s - loss: 0.0017 - attention_mae: 0.0111\n",
            "Epoch 97: val_loss improved from 0.00164 to 0.00162, saving model to /content/drive/MyDrive/Research/TAVI/Models/Curvature_2_Pressure_MultiViewUNet_I256_B16_LR0.001\n",
            "15/15 [==============================] - 13s 848ms/step - loss: 0.0017 - attention_mae: 0.0111 - val_loss: 0.0016 - val_attention_mae: 0.0105\n",
            "Epoch 98/300\n",
            "15/15 [==============================] - ETA: 0s - loss: 0.0017 - attention_mae: 0.0110\n",
            "Epoch 98: val_loss did not improve from 0.00162\n",
            "15/15 [==============================] - 12s 809ms/step - loss: 0.0017 - attention_mae: 0.0110 - val_loss: 0.0017 - val_attention_mae: 0.0108\n",
            "Epoch 99/300\n",
            "15/15 [==============================] - ETA: 0s - loss: 0.0017 - attention_mae: 0.0107\n",
            "Epoch 99: val_loss improved from 0.00162 to 0.00159, saving model to /content/drive/MyDrive/Research/TAVI/Models/Curvature_2_Pressure_MultiViewUNet_I256_B16_LR0.001\n",
            "15/15 [==============================] - 13s 850ms/step - loss: 0.0017 - attention_mae: 0.0107 - val_loss: 0.0016 - val_attention_mae: 0.0105\n",
            "Epoch 100/300\n",
            "15/15 [==============================] - ETA: 0s - loss: 0.0017 - attention_mae: 0.0108\n",
            "Epoch 100: val_loss did not improve from 0.00159\n",
            "15/15 [==============================] - 12s 810ms/step - loss: 0.0017 - attention_mae: 0.0108 - val_loss: 0.0016 - val_attention_mae: 0.0099\n",
            "Epoch 101/300\n",
            "15/15 [==============================] - ETA: 0s - loss: 0.0017 - attention_mae: 0.0108\n",
            "Epoch 101: val_loss did not improve from 0.00159\n",
            "15/15 [==============================] - 12s 810ms/step - loss: 0.0017 - attention_mae: 0.0108 - val_loss: 0.0017 - val_attention_mae: 0.0128\n",
            "Epoch 102/300\n",
            "15/15 [==============================] - ETA: 0s - loss: 0.0017 - attention_mae: 0.0115\n",
            "Epoch 102: val_loss did not improve from 0.00159\n",
            "15/15 [==============================] - 12s 810ms/step - loss: 0.0017 - attention_mae: 0.0115 - val_loss: 0.0017 - val_attention_mae: 0.0140\n",
            "Epoch 103/300\n",
            "15/15 [==============================] - ETA: 0s - loss: 0.0017 - attention_mae: 0.0115\n",
            "Epoch 103: val_loss did not improve from 0.00159\n",
            "15/15 [==============================] - 12s 810ms/step - loss: 0.0017 - attention_mae: 0.0115 - val_loss: 0.0016 - val_attention_mae: 0.0118\n",
            "Epoch 104/300\n",
            "15/15 [==============================] - ETA: 0s - loss: 0.0016 - attention_mae: 0.0105\n",
            "Epoch 104: val_loss improved from 0.00159 to 0.00153, saving model to /content/drive/MyDrive/Research/TAVI/Models/Curvature_2_Pressure_MultiViewUNet_I256_B16_LR0.001\n",
            "15/15 [==============================] - 13s 849ms/step - loss: 0.0016 - attention_mae: 0.0105 - val_loss: 0.0015 - val_attention_mae: 0.0101\n",
            "Epoch 105/300\n",
            "15/15 [==============================] - ETA: 0s - loss: 0.0016 - attention_mae: 0.0108\n",
            "Epoch 105: val_loss did not improve from 0.00153\n",
            "15/15 [==============================] - 12s 810ms/step - loss: 0.0016 - attention_mae: 0.0108 - val_loss: 0.0016 - val_attention_mae: 0.0101\n",
            "Epoch 106/300\n",
            "15/15 [==============================] - ETA: 0s - loss: 0.0017 - attention_mae: 0.0109\n",
            "Epoch 106: val_loss did not improve from 0.00153\n",
            "15/15 [==============================] - 12s 810ms/step - loss: 0.0017 - attention_mae: 0.0109 - val_loss: 0.0016 - val_attention_mae: 0.0129\n",
            "Epoch 107/300\n",
            "15/15 [==============================] - ETA: 0s - loss: 0.0017 - attention_mae: 0.0107\n",
            "Epoch 107: val_loss did not improve from 0.00153\n",
            "15/15 [==============================] - 12s 809ms/step - loss: 0.0017 - attention_mae: 0.0107 - val_loss: 0.0017 - val_attention_mae: 0.0114\n",
            "Epoch 108/300\n",
            "15/15 [==============================] - ETA: 0s - loss: 0.0018 - attention_mae: 0.0115\n",
            "Epoch 108: val_loss did not improve from 0.00153\n",
            "15/15 [==============================] - 12s 809ms/step - loss: 0.0018 - attention_mae: 0.0115 - val_loss: 0.0021 - val_attention_mae: 0.0123\n",
            "Epoch 109/300\n",
            "15/15 [==============================] - ETA: 0s - loss: 0.0021 - attention_mae: 0.0120\n",
            "Epoch 109: val_loss did not improve from 0.00153\n",
            "15/15 [==============================] - 12s 805ms/step - loss: 0.0021 - attention_mae: 0.0120 - val_loss: 0.0052 - val_attention_mae: 0.0266\n",
            "Epoch 110/300\n",
            "15/15 [==============================] - ETA: 0s - loss: 0.0018 - attention_mae: 0.0111\n",
            "Epoch 110: val_loss did not improve from 0.00153\n",
            "15/15 [==============================] - 12s 813ms/step - loss: 0.0018 - attention_mae: 0.0111 - val_loss: 0.0055 - val_attention_mae: 0.0185\n",
            "Epoch 111/300\n",
            "15/15 [==============================] - ETA: 0s - loss: 0.0017 - attention_mae: 0.0109\n",
            "Epoch 111: val_loss did not improve from 0.00153\n",
            "15/15 [==============================] - 12s 815ms/step - loss: 0.0017 - attention_mae: 0.0109 - val_loss: 0.0032 - val_attention_mae: 0.0156\n",
            "Epoch 112/300\n",
            "15/15 [==============================] - ETA: 0s - loss: 0.0017 - attention_mae: 0.0104\n",
            "Epoch 112: val_loss did not improve from 0.00153\n",
            "15/15 [==============================] - 12s 811ms/step - loss: 0.0017 - attention_mae: 0.0104 - val_loss: 0.0021 - val_attention_mae: 0.0108\n",
            "Epoch 113/300\n",
            "15/15 [==============================] - ETA: 0s - loss: 0.0016 - attention_mae: 0.0102\n",
            "Epoch 113: val_loss did not improve from 0.00153\n",
            "15/15 [==============================] - 12s 809ms/step - loss: 0.0016 - attention_mae: 0.0102 - val_loss: 0.0016 - val_attention_mae: 0.0100\n",
            "Epoch 114/300\n",
            "15/15 [==============================] - ETA: 0s - loss: 0.0016 - attention_mae: 0.0104\n",
            "Epoch 114: val_loss did not improve from 0.00153\n",
            "15/15 [==============================] - 12s 806ms/step - loss: 0.0016 - attention_mae: 0.0104 - val_loss: 0.0015 - val_attention_mae: 0.0109\n",
            "Epoch 115/300\n",
            "15/15 [==============================] - ETA: 0s - loss: 0.0016 - attention_mae: 0.0104\n",
            "Epoch 115: val_loss did not improve from 0.00153\n",
            "15/15 [==============================] - 12s 807ms/step - loss: 0.0016 - attention_mae: 0.0104 - val_loss: 0.0015 - val_attention_mae: 0.0093\n",
            "Epoch 116/300\n",
            "15/15 [==============================] - ETA: 0s - loss: 0.0016 - attention_mae: 0.0105\n",
            "Epoch 116: val_loss did not improve from 0.00153\n",
            "15/15 [==============================] - 12s 809ms/step - loss: 0.0016 - attention_mae: 0.0105 - val_loss: 0.0016 - val_attention_mae: 0.0114\n",
            "Epoch 117/300\n",
            "15/15 [==============================] - ETA: 0s - loss: 0.0016 - attention_mae: 0.0101\n",
            "Epoch 117: val_loss improved from 0.00153 to 0.00150, saving model to /content/drive/MyDrive/Research/TAVI/Models/Curvature_2_Pressure_MultiViewUNet_I256_B16_LR0.001\n",
            "15/15 [==============================] - 13s 851ms/step - loss: 0.0016 - attention_mae: 0.0101 - val_loss: 0.0015 - val_attention_mae: 0.0094\n",
            "Epoch 118/300\n",
            "15/15 [==============================] - ETA: 0s - loss: 0.0016 - attention_mae: 0.0101\n",
            "Epoch 118: val_loss improved from 0.00150 to 0.00148, saving model to /content/drive/MyDrive/Research/TAVI/Models/Curvature_2_Pressure_MultiViewUNet_I256_B16_LR0.001\n",
            "15/15 [==============================] - 13s 849ms/step - loss: 0.0016 - attention_mae: 0.0101 - val_loss: 0.0015 - val_attention_mae: 0.0097\n",
            "Epoch 119/300\n",
            "15/15 [==============================] - ETA: 0s - loss: 0.0016 - attention_mae: 0.0103\n",
            "Epoch 119: val_loss did not improve from 0.00148\n",
            "15/15 [==============================] - 12s 810ms/step - loss: 0.0016 - attention_mae: 0.0103 - val_loss: 0.0017 - val_attention_mae: 0.0115\n",
            "Epoch 120/300\n",
            "15/15 [==============================] - ETA: 0s - loss: 0.0016 - attention_mae: 0.0100\n",
            "Epoch 120: val_loss did not improve from 0.00148\n",
            "15/15 [==============================] - 12s 810ms/step - loss: 0.0016 - attention_mae: 0.0100 - val_loss: 0.0016 - val_attention_mae: 0.0099\n",
            "Epoch 121/300\n",
            "15/15 [==============================] - ETA: 0s - loss: 0.0016 - attention_mae: 0.0101\n",
            "Epoch 121: val_loss did not improve from 0.00148\n",
            "15/15 [==============================] - 12s 809ms/step - loss: 0.0016 - attention_mae: 0.0101 - val_loss: 0.0016 - val_attention_mae: 0.0110\n",
            "Epoch 122/300\n",
            "15/15 [==============================] - ETA: 0s - loss: 0.0016 - attention_mae: 0.0102\n",
            "Epoch 122: val_loss did not improve from 0.00148\n",
            "15/15 [==============================] - 12s 809ms/step - loss: 0.0016 - attention_mae: 0.0102 - val_loss: 0.0017 - val_attention_mae: 0.0096\n",
            "Epoch 123/300\n",
            "15/15 [==============================] - ETA: 0s - loss: 0.0016 - attention_mae: 0.0107\n",
            "Epoch 123: val_loss did not improve from 0.00148\n",
            "15/15 [==============================] - 12s 810ms/step - loss: 0.0016 - attention_mae: 0.0107 - val_loss: 0.0016 - val_attention_mae: 0.0146\n",
            "Epoch 124/300\n",
            "15/15 [==============================] - ETA: 0s - loss: 0.0016 - attention_mae: 0.0104\n",
            "Epoch 124: val_loss improved from 0.00148 to 0.00145, saving model to /content/drive/MyDrive/Research/TAVI/Models/Curvature_2_Pressure_MultiViewUNet_I256_B16_LR0.001\n",
            "15/15 [==============================] - 13s 849ms/step - loss: 0.0016 - attention_mae: 0.0104 - val_loss: 0.0014 - val_attention_mae: 0.0103\n",
            "Epoch 125/300\n",
            "15/15 [==============================] - ETA: 0s - loss: 0.0016 - attention_mae: 0.0101\n",
            "Epoch 125: val_loss improved from 0.00145 to 0.00144, saving model to /content/drive/MyDrive/Research/TAVI/Models/Curvature_2_Pressure_MultiViewUNet_I256_B16_LR0.001\n",
            "15/15 [==============================] - 13s 850ms/step - loss: 0.0016 - attention_mae: 0.0101 - val_loss: 0.0014 - val_attention_mae: 0.0088\n",
            "Epoch 126/300\n",
            "15/15 [==============================] - ETA: 0s - loss: 0.0015 - attention_mae: 0.0100\n",
            "Epoch 126: val_loss improved from 0.00144 to 0.00142, saving model to /content/drive/MyDrive/Research/TAVI/Models/Curvature_2_Pressure_MultiViewUNet_I256_B16_LR0.001\n",
            "15/15 [==============================] - 13s 850ms/step - loss: 0.0015 - attention_mae: 0.0100 - val_loss: 0.0014 - val_attention_mae: 0.0089\n",
            "Epoch 127/300\n",
            "15/15 [==============================] - ETA: 0s - loss: 0.0015 - attention_mae: 0.0100\n",
            "Epoch 127: val_loss did not improve from 0.00142\n",
            "15/15 [==============================] - 12s 809ms/step - loss: 0.0015 - attention_mae: 0.0100 - val_loss: 0.0015 - val_attention_mae: 0.0096\n",
            "Epoch 128/300\n",
            "15/15 [==============================] - ETA: 0s - loss: 0.0015 - attention_mae: 0.0103\n",
            "Epoch 128: val_loss did not improve from 0.00142\n",
            "15/15 [==============================] - 12s 809ms/step - loss: 0.0015 - attention_mae: 0.0103 - val_loss: 0.0015 - val_attention_mae: 0.0139\n",
            "Epoch 129/300\n",
            "15/15 [==============================] - ETA: 0s - loss: 0.0015 - attention_mae: 0.0108\n",
            "Epoch 129: val_loss did not improve from 0.00142\n",
            "15/15 [==============================] - 12s 808ms/step - loss: 0.0015 - attention_mae: 0.0108 - val_loss: 0.0014 - val_attention_mae: 0.0121\n",
            "Epoch 130/300\n",
            "15/15 [==============================] - ETA: 0s - loss: 0.0015 - attention_mae: 0.0104\n",
            "Epoch 130: val_loss improved from 0.00142 to 0.00137, saving model to /content/drive/MyDrive/Research/TAVI/Models/Curvature_2_Pressure_MultiViewUNet_I256_B16_LR0.001\n",
            "15/15 [==============================] - 13s 850ms/step - loss: 0.0015 - attention_mae: 0.0104 - val_loss: 0.0014 - val_attention_mae: 0.0093\n",
            "Epoch 131/300\n",
            "15/15 [==============================] - ETA: 0s - loss: 0.0015 - attention_mae: 0.0100\n",
            "Epoch 131: val_loss did not improve from 0.00137\n",
            "15/15 [==============================] - 12s 810ms/step - loss: 0.0015 - attention_mae: 0.0100 - val_loss: 0.0014 - val_attention_mae: 0.0104\n",
            "Epoch 132/300\n",
            "15/15 [==============================] - ETA: 0s - loss: 0.0015 - attention_mae: 0.0098\n",
            "Epoch 132: val_loss did not improve from 0.00137\n",
            "15/15 [==============================] - 12s 810ms/step - loss: 0.0015 - attention_mae: 0.0098 - val_loss: 0.0014 - val_attention_mae: 0.0088\n",
            "Epoch 133/300\n",
            "15/15 [==============================] - ETA: 0s - loss: 0.0015 - attention_mae: 0.0097\n",
            "Epoch 133: val_loss did not improve from 0.00137\n",
            "15/15 [==============================] - 12s 810ms/step - loss: 0.0015 - attention_mae: 0.0097 - val_loss: 0.0014 - val_attention_mae: 0.0091\n",
            "Epoch 134/300\n",
            "15/15 [==============================] - ETA: 0s - loss: 0.0015 - attention_mae: 0.0097\n",
            "Epoch 134: val_loss did not improve from 0.00137\n",
            "15/15 [==============================] - 12s 810ms/step - loss: 0.0015 - attention_mae: 0.0097 - val_loss: 0.0014 - val_attention_mae: 0.0104\n",
            "Epoch 135/300\n",
            "15/15 [==============================] - ETA: 0s - loss: 0.0015 - attention_mae: 0.0101\n",
            "Epoch 135: val_loss did not improve from 0.00137\n",
            "15/15 [==============================] - 12s 810ms/step - loss: 0.0015 - attention_mae: 0.0101 - val_loss: 0.0014 - val_attention_mae: 0.0101\n",
            "Epoch 136/300\n",
            "15/15 [==============================] - ETA: 0s - loss: 0.0016 - attention_mae: 0.0101\n",
            "Epoch 136: val_loss did not improve from 0.00137\n",
            "15/15 [==============================] - 12s 810ms/step - loss: 0.0016 - attention_mae: 0.0101 - val_loss: 0.0015 - val_attention_mae: 0.0100\n",
            "Epoch 137/300\n",
            "15/15 [==============================] - ETA: 0s - loss: 0.0015 - attention_mae: 0.0102\n",
            "Epoch 137: val_loss did not improve from 0.00137\n",
            "15/15 [==============================] - 12s 809ms/step - loss: 0.0015 - attention_mae: 0.0102 - val_loss: 0.0014 - val_attention_mae: 0.0123\n",
            "Epoch 138/300\n",
            "15/15 [==============================] - ETA: 0s - loss: 0.0015 - attention_mae: 0.0098\n",
            "Epoch 138: val_loss improved from 0.00137 to 0.00133, saving model to /content/drive/MyDrive/Research/TAVI/Models/Curvature_2_Pressure_MultiViewUNet_I256_B16_LR0.001\n",
            "15/15 [==============================] - 13s 848ms/step - loss: 0.0015 - attention_mae: 0.0098 - val_loss: 0.0013 - val_attention_mae: 0.0098\n",
            "Epoch 139/300\n",
            "15/15 [==============================] - ETA: 0s - loss: 0.0015 - attention_mae: 0.0097\n",
            "Epoch 139: val_loss did not improve from 0.00133\n",
            "15/15 [==============================] - 12s 806ms/step - loss: 0.0015 - attention_mae: 0.0097 - val_loss: 0.0014 - val_attention_mae: 0.0090\n",
            "Epoch 140/300\n",
            "15/15 [==============================] - ETA: 0s - loss: 0.0015 - attention_mae: 0.0100\n",
            "Epoch 140: val_loss did not improve from 0.00133\n",
            "15/15 [==============================] - 12s 813ms/step - loss: 0.0015 - attention_mae: 0.0100 - val_loss: 0.0015 - val_attention_mae: 0.0117\n",
            "Epoch 141/300\n",
            "15/15 [==============================] - ETA: 0s - loss: 0.0015 - attention_mae: 0.0098\n",
            "Epoch 141: val_loss did not improve from 0.00133\n",
            "15/15 [==============================] - 12s 816ms/step - loss: 0.0015 - attention_mae: 0.0098 - val_loss: 0.0013 - val_attention_mae: 0.0102\n",
            "Epoch 142/300\n",
            "15/15 [==============================] - ETA: 0s - loss: 0.0015 - attention_mae: 0.0095\n",
            "Epoch 142: val_loss did not improve from 0.00133\n",
            "15/15 [==============================] - 12s 811ms/step - loss: 0.0015 - attention_mae: 0.0095 - val_loss: 0.0014 - val_attention_mae: 0.0091\n",
            "Epoch 143/300\n",
            "15/15 [==============================] - ETA: 0s - loss: 0.0014 - attention_mae: 0.0092\n",
            "Epoch 143: val_loss improved from 0.00133 to 0.00131, saving model to /content/drive/MyDrive/Research/TAVI/Models/Curvature_2_Pressure_MultiViewUNet_I256_B16_LR0.001\n",
            "15/15 [==============================] - 13s 850ms/step - loss: 0.0014 - attention_mae: 0.0092 - val_loss: 0.0013 - val_attention_mae: 0.0100\n",
            "Epoch 144/300\n",
            "15/15 [==============================] - ETA: 0s - loss: 0.0014 - attention_mae: 0.0094\n",
            "Epoch 144: val_loss did not improve from 0.00131\n",
            "15/15 [==============================] - 12s 807ms/step - loss: 0.0014 - attention_mae: 0.0094 - val_loss: 0.0013 - val_attention_mae: 0.0096\n",
            "Epoch 145/300\n",
            "15/15 [==============================] - ETA: 0s - loss: 0.0014 - attention_mae: 0.0095\n",
            "Epoch 145: val_loss improved from 0.00131 to 0.00127, saving model to /content/drive/MyDrive/Research/TAVI/Models/Curvature_2_Pressure_MultiViewUNet_I256_B16_LR0.001\n",
            "15/15 [==============================] - 13s 848ms/step - loss: 0.0014 - attention_mae: 0.0095 - val_loss: 0.0013 - val_attention_mae: 0.0089\n",
            "Epoch 146/300\n",
            "15/15 [==============================] - ETA: 0s - loss: 0.0014 - attention_mae: 0.0092\n",
            "Epoch 146: val_loss did not improve from 0.00127\n",
            "15/15 [==============================] - 12s 808ms/step - loss: 0.0014 - attention_mae: 0.0092 - val_loss: 0.0015 - val_attention_mae: 0.0090\n",
            "Epoch 147/300\n",
            "15/15 [==============================] - ETA: 0s - loss: 0.0014 - attention_mae: 0.0090\n",
            "Epoch 147: val_loss did not improve from 0.00127\n",
            "15/15 [==============================] - 12s 810ms/step - loss: 0.0014 - attention_mae: 0.0090 - val_loss: 0.0013 - val_attention_mae: 0.0102\n",
            "Epoch 148/300\n",
            "15/15 [==============================] - ETA: 0s - loss: 0.0014 - attention_mae: 0.0094\n",
            "Epoch 148: val_loss did not improve from 0.00127\n",
            "15/15 [==============================] - 12s 810ms/step - loss: 0.0014 - attention_mae: 0.0094 - val_loss: 0.0014 - val_attention_mae: 0.0094\n",
            "Epoch 149/300\n",
            "15/15 [==============================] - ETA: 0s - loss: 0.0014 - attention_mae: 0.0089\n",
            "Epoch 149: val_loss did not improve from 0.00127\n",
            "15/15 [==============================] - 12s 810ms/step - loss: 0.0014 - attention_mae: 0.0089 - val_loss: 0.0013 - val_attention_mae: 0.0084\n",
            "Epoch 150/300\n",
            "15/15 [==============================] - ETA: 0s - loss: 0.0014 - attention_mae: 0.0091\n",
            "Epoch 150: val_loss did not improve from 0.00127\n",
            "15/15 [==============================] - 12s 809ms/step - loss: 0.0014 - attention_mae: 0.0091 - val_loss: 0.0013 - val_attention_mae: 0.0088\n",
            "Epoch 151/300\n",
            "15/15 [==============================] - ETA: 0s - loss: 0.0014 - attention_mae: 0.0092\n",
            "Epoch 151: val_loss did not improve from 0.00127\n",
            "15/15 [==============================] - 12s 810ms/step - loss: 0.0014 - attention_mae: 0.0092 - val_loss: 0.0014 - val_attention_mae: 0.0097\n",
            "Epoch 152/300\n",
            "15/15 [==============================] - ETA: 0s - loss: 0.0014 - attention_mae: 0.0097\n",
            "Epoch 152: val_loss did not improve from 0.00127\n",
            "15/15 [==============================] - 12s 806ms/step - loss: 0.0014 - attention_mae: 0.0097 - val_loss: 0.0013 - val_attention_mae: 0.0107\n",
            "Epoch 153/300\n",
            "15/15 [==============================] - ETA: 0s - loss: 0.0014 - attention_mae: 0.0091\n",
            "Epoch 153: val_loss did not improve from 0.00127\n",
            "15/15 [==============================] - 12s 813ms/step - loss: 0.0014 - attention_mae: 0.0091 - val_loss: 0.0015 - val_attention_mae: 0.0085\n",
            "Epoch 154/300\n",
            "15/15 [==============================] - ETA: 0s - loss: 0.0014 - attention_mae: 0.0092\n",
            "Epoch 154: val_loss did not improve from 0.00127\n",
            "15/15 [==============================] - 12s 815ms/step - loss: 0.0014 - attention_mae: 0.0092 - val_loss: 0.0013 - val_attention_mae: 0.0081\n",
            "Epoch 155/300\n",
            "15/15 [==============================] - ETA: 0s - loss: 0.0014 - attention_mae: 0.0089\n",
            "Epoch 155: val_loss improved from 0.00127 to 0.00122, saving model to /content/drive/MyDrive/Research/TAVI/Models/Curvature_2_Pressure_MultiViewUNet_I256_B16_LR0.001\n",
            "15/15 [==============================] - 13s 850ms/step - loss: 0.0014 - attention_mae: 0.0089 - val_loss: 0.0012 - val_attention_mae: 0.0084\n",
            "Epoch 156/300\n",
            "15/15 [==============================] - ETA: 0s - loss: 0.0013 - attention_mae: 0.0089\n",
            "Epoch 156: val_loss did not improve from 0.00122\n",
            "15/15 [==============================] - 12s 808ms/step - loss: 0.0013 - attention_mae: 0.0089 - val_loss: 0.0013 - val_attention_mae: 0.0099\n",
            "Epoch 157/300\n",
            "15/15 [==============================] - ETA: 0s - loss: 0.0013 - attention_mae: 0.0090\n",
            "Epoch 157: val_loss did not improve from 0.00122\n",
            "15/15 [==============================] - 12s 807ms/step - loss: 0.0013 - attention_mae: 0.0090 - val_loss: 0.0013 - val_attention_mae: 0.0089\n",
            "Epoch 158/300\n",
            "15/15 [==============================] - ETA: 0s - loss: 0.0013 - attention_mae: 0.0090\n",
            "Epoch 158: val_loss did not improve from 0.00122\n",
            "15/15 [==============================] - 12s 808ms/step - loss: 0.0013 - attention_mae: 0.0090 - val_loss: 0.0012 - val_attention_mae: 0.0086\n",
            "Epoch 159/300\n",
            "15/15 [==============================] - ETA: 0s - loss: 0.0014 - attention_mae: 0.0095\n",
            "Epoch 159: val_loss did not improve from 0.00122\n",
            "15/15 [==============================] - 12s 809ms/step - loss: 0.0014 - attention_mae: 0.0095 - val_loss: 0.0013 - val_attention_mae: 0.0093\n",
            "Epoch 160/300\n",
            "15/15 [==============================] - ETA: 0s - loss: 0.0014 - attention_mae: 0.0091\n",
            "Epoch 160: val_loss did not improve from 0.00122\n",
            "15/15 [==============================] - 12s 809ms/step - loss: 0.0014 - attention_mae: 0.0091 - val_loss: 0.0017 - val_attention_mae: 0.0116\n",
            "Epoch 161/300\n",
            "15/15 [==============================] - ETA: 0s - loss: 0.0013 - attention_mae: 0.0092\n",
            "Epoch 161: val_loss did not improve from 0.00122\n",
            "15/15 [==============================] - 12s 810ms/step - loss: 0.0013 - attention_mae: 0.0092 - val_loss: 0.0012 - val_attention_mae: 0.0096\n",
            "Epoch 162/300\n",
            "15/15 [==============================] - ETA: 0s - loss: 0.0013 - attention_mae: 0.0088\n",
            "Epoch 162: val_loss did not improve from 0.00122\n",
            "15/15 [==============================] - 12s 810ms/step - loss: 0.0013 - attention_mae: 0.0088 - val_loss: 0.0013 - val_attention_mae: 0.0077\n",
            "Epoch 163/300\n",
            "15/15 [==============================] - ETA: 0s - loss: 0.0013 - attention_mae: 0.0089\n",
            "Epoch 163: val_loss did not improve from 0.00122\n",
            "15/15 [==============================] - 12s 810ms/step - loss: 0.0013 - attention_mae: 0.0089 - val_loss: 0.0014 - val_attention_mae: 0.0103\n",
            "Epoch 164/300\n",
            "15/15 [==============================] - ETA: 0s - loss: 0.0013 - attention_mae: 0.0086\n",
            "Epoch 164: val_loss did not improve from 0.00122\n",
            "15/15 [==============================] - 12s 809ms/step - loss: 0.0013 - attention_mae: 0.0086 - val_loss: 0.0013 - val_attention_mae: 0.0100\n",
            "Epoch 165/300\n",
            "15/15 [==============================] - ETA: 0s - loss: 0.0013 - attention_mae: 0.0087\n",
            "Epoch 165: val_loss did not improve from 0.00122\n",
            "15/15 [==============================] - 12s 809ms/step - loss: 0.0013 - attention_mae: 0.0087 - val_loss: 0.0014 - val_attention_mae: 0.0108\n",
            "Epoch 166/300\n",
            "15/15 [==============================] - ETA: 0s - loss: 0.0013 - attention_mae: 0.0087\n",
            "Epoch 166: val_loss did not improve from 0.00122\n",
            "15/15 [==============================] - 12s 808ms/step - loss: 0.0013 - attention_mae: 0.0087 - val_loss: 0.0013 - val_attention_mae: 0.0088\n",
            "Epoch 167/300\n",
            "15/15 [==============================] - ETA: 0s - loss: 0.0013 - attention_mae: 0.0089\n",
            "Epoch 167: val_loss did not improve from 0.00122\n",
            "15/15 [==============================] - 12s 810ms/step - loss: 0.0013 - attention_mae: 0.0089 - val_loss: 0.0014 - val_attention_mae: 0.0098\n",
            "Epoch 168/300\n",
            "15/15 [==============================] - ETA: 0s - loss: 0.0013 - attention_mae: 0.0088\n",
            "Epoch 168: val_loss did not improve from 0.00122\n",
            "15/15 [==============================] - 12s 809ms/step - loss: 0.0013 - attention_mae: 0.0088 - val_loss: 0.0014 - val_attention_mae: 0.0102\n",
            "Epoch 169/300\n",
            "15/15 [==============================] - ETA: 0s - loss: 0.0013 - attention_mae: 0.0085\n",
            "Epoch 169: val_loss improved from 0.00122 to 0.00121, saving model to /content/drive/MyDrive/Research/TAVI/Models/Curvature_2_Pressure_MultiViewUNet_I256_B16_LR0.001\n",
            "15/15 [==============================] - 13s 849ms/step - loss: 0.0013 - attention_mae: 0.0085 - val_loss: 0.0012 - val_attention_mae: 0.0094\n",
            "Epoch 170/300\n",
            "15/15 [==============================] - ETA: 0s - loss: 0.0013 - attention_mae: 0.0086\n",
            "Epoch 170: val_loss improved from 0.00121 to 0.00120, saving model to /content/drive/MyDrive/Research/TAVI/Models/Curvature_2_Pressure_MultiViewUNet_I256_B16_LR0.001\n",
            "15/15 [==============================] - 13s 849ms/step - loss: 0.0013 - attention_mae: 0.0086 - val_loss: 0.0012 - val_attention_mae: 0.0076\n",
            "Epoch 171/300\n",
            "15/15 [==============================] - ETA: 0s - loss: 0.0013 - attention_mae: 0.0088\n",
            "Epoch 171: val_loss improved from 0.00120 to 0.00119, saving model to /content/drive/MyDrive/Research/TAVI/Models/Curvature_2_Pressure_MultiViewUNet_I256_B16_LR0.001\n",
            "15/15 [==============================] - 13s 849ms/step - loss: 0.0013 - attention_mae: 0.0088 - val_loss: 0.0012 - val_attention_mae: 0.0092\n",
            "Epoch 172/300\n",
            "15/15 [==============================] - ETA: 0s - loss: 0.0014 - attention_mae: 0.0085\n",
            "Epoch 172: val_loss improved from 0.00119 to 0.00118, saving model to /content/drive/MyDrive/Research/TAVI/Models/Curvature_2_Pressure_MultiViewUNet_I256_B16_LR0.001\n",
            "15/15 [==============================] - 13s 864ms/step - loss: 0.0014 - attention_mae: 0.0085 - val_loss: 0.0012 - val_attention_mae: 0.0085\n",
            "Epoch 173/300\n",
            "15/15 [==============================] - ETA: 0s - loss: 0.0013 - attention_mae: 0.0085\n",
            "Epoch 173: val_loss improved from 0.00118 to 0.00117, saving model to /content/drive/MyDrive/Research/TAVI/Models/Curvature_2_Pressure_MultiViewUNet_I256_B16_LR0.001\n",
            "15/15 [==============================] - 13s 851ms/step - loss: 0.0013 - attention_mae: 0.0085 - val_loss: 0.0012 - val_attention_mae: 0.0094\n",
            "Epoch 174/300\n",
            "15/15 [==============================] - ETA: 0s - loss: 0.0013 - attention_mae: 0.0089\n",
            "Epoch 174: val_loss improved from 0.00117 to 0.00116, saving model to /content/drive/MyDrive/Research/TAVI/Models/Curvature_2_Pressure_MultiViewUNet_I256_B16_LR0.001\n",
            "15/15 [==============================] - 13s 853ms/step - loss: 0.0013 - attention_mae: 0.0089 - val_loss: 0.0012 - val_attention_mae: 0.0079\n",
            "Epoch 175/300\n",
            "15/15 [==============================] - ETA: 0s - loss: 0.0013 - attention_mae: 0.0084\n",
            "Epoch 175: val_loss did not improve from 0.00116\n",
            "15/15 [==============================] - 12s 809ms/step - loss: 0.0013 - attention_mae: 0.0084 - val_loss: 0.0012 - val_attention_mae: 0.0078\n",
            "Epoch 176/300\n",
            "15/15 [==============================] - ETA: 0s - loss: 0.0013 - attention_mae: 0.0082\n",
            "Epoch 176: val_loss improved from 0.00116 to 0.00113, saving model to /content/drive/MyDrive/Research/TAVI/Models/Curvature_2_Pressure_MultiViewUNet_I256_B16_LR0.001\n",
            "15/15 [==============================] - 13s 850ms/step - loss: 0.0013 - attention_mae: 0.0082 - val_loss: 0.0011 - val_attention_mae: 0.0079\n",
            "Epoch 177/300\n",
            "15/15 [==============================] - ETA: 0s - loss: 0.0013 - attention_mae: 0.0085\n",
            "Epoch 177: val_loss did not improve from 0.00113\n",
            "15/15 [==============================] - 12s 810ms/step - loss: 0.0013 - attention_mae: 0.0085 - val_loss: 0.0014 - val_attention_mae: 0.0084\n",
            "Epoch 178/300\n",
            "15/15 [==============================] - ETA: 0s - loss: 0.0014 - attention_mae: 0.0088\n",
            "Epoch 178: val_loss did not improve from 0.00113\n",
            "15/15 [==============================] - 12s 809ms/step - loss: 0.0014 - attention_mae: 0.0088 - val_loss: 0.0013 - val_attention_mae: 0.0090\n",
            "Epoch 179/300\n",
            "15/15 [==============================] - ETA: 0s - loss: 0.0014 - attention_mae: 0.0092\n",
            "Epoch 179: val_loss did not improve from 0.00113\n",
            "15/15 [==============================] - 12s 810ms/step - loss: 0.0014 - attention_mae: 0.0092 - val_loss: 0.0018 - val_attention_mae: 0.0093\n",
            "Epoch 180/300\n",
            "15/15 [==============================] - ETA: 0s - loss: 0.0013 - attention_mae: 0.0089\n",
            "Epoch 180: val_loss did not improve from 0.00113\n",
            "15/15 [==============================] - 12s 810ms/step - loss: 0.0013 - attention_mae: 0.0089 - val_loss: 0.0013 - val_attention_mae: 0.0085\n",
            "Epoch 181/300\n",
            "15/15 [==============================] - ETA: 0s - loss: 0.0013 - attention_mae: 0.0085\n",
            "Epoch 181: val_loss improved from 0.00113 to 0.00112, saving model to /content/drive/MyDrive/Research/TAVI/Models/Curvature_2_Pressure_MultiViewUNet_I256_B16_LR0.001\n",
            "15/15 [==============================] - 13s 845ms/step - loss: 0.0013 - attention_mae: 0.0085 - val_loss: 0.0011 - val_attention_mae: 0.0072\n",
            "Epoch 182/300\n",
            "15/15 [==============================] - ETA: 0s - loss: 0.0013 - attention_mae: 0.0083\n",
            "Epoch 182: val_loss did not improve from 0.00112\n",
            "15/15 [==============================] - 12s 813ms/step - loss: 0.0013 - attention_mae: 0.0083 - val_loss: 0.0019 - val_attention_mae: 0.0098\n",
            "Epoch 183/300\n",
            "15/15 [==============================] - ETA: 0s - loss: 0.0013 - attention_mae: 0.0082\n",
            "Epoch 183: val_loss did not improve from 0.00112\n",
            "15/15 [==============================] - 12s 815ms/step - loss: 0.0013 - attention_mae: 0.0082 - val_loss: 0.0012 - val_attention_mae: 0.0075\n",
            "Epoch 184/300\n",
            "15/15 [==============================] - ETA: 0s - loss: 0.0012 - attention_mae: 0.0084\n",
            "Epoch 184: val_loss did not improve from 0.00112\n",
            "15/15 [==============================] - 12s 810ms/step - loss: 0.0012 - attention_mae: 0.0084 - val_loss: 0.0012 - val_attention_mae: 0.0071\n",
            "Epoch 185/300\n",
            "15/15 [==============================] - ETA: 0s - loss: 0.0012 - attention_mae: 0.0084\n",
            "Epoch 185: val_loss did not improve from 0.00112\n",
            "15/15 [==============================] - 12s 807ms/step - loss: 0.0012 - attention_mae: 0.0084 - val_loss: 0.0012 - val_attention_mae: 0.0079\n",
            "Epoch 186/300\n",
            "15/15 [==============================] - ETA: 0s - loss: 0.0012 - attention_mae: 0.0080\n",
            "Epoch 186: val_loss improved from 0.00112 to 0.00112, saving model to /content/drive/MyDrive/Research/TAVI/Models/Curvature_2_Pressure_MultiViewUNet_I256_B16_LR0.001\n",
            "15/15 [==============================] - 13s 860ms/step - loss: 0.0012 - attention_mae: 0.0080 - val_loss: 0.0011 - val_attention_mae: 0.0086\n",
            "Epoch 187/300\n",
            "15/15 [==============================] - ETA: 0s - loss: 0.0012 - attention_mae: 0.0080\n",
            "Epoch 187: val_loss improved from 0.00112 to 0.00110, saving model to /content/drive/MyDrive/Research/TAVI/Models/Curvature_2_Pressure_MultiViewUNet_I256_B16_LR0.001\n",
            "15/15 [==============================] - 13s 846ms/step - loss: 0.0012 - attention_mae: 0.0080 - val_loss: 0.0011 - val_attention_mae: 0.0082\n",
            "Epoch 188/300\n",
            "15/15 [==============================] - ETA: 0s - loss: 0.0012 - attention_mae: 0.0086\n",
            "Epoch 188: val_loss did not improve from 0.00110\n",
            "15/15 [==============================] - 12s 809ms/step - loss: 0.0012 - attention_mae: 0.0086 - val_loss: 0.0011 - val_attention_mae: 0.0080\n",
            "Epoch 189/300\n",
            "15/15 [==============================] - ETA: 0s - loss: 0.0013 - attention_mae: 0.0085\n",
            "Epoch 189: val_loss did not improve from 0.00110\n",
            "15/15 [==============================] - 12s 811ms/step - loss: 0.0013 - attention_mae: 0.0085 - val_loss: 0.0012 - val_attention_mae: 0.0079\n",
            "Epoch 190/300\n",
            "15/15 [==============================] - ETA: 0s - loss: 0.0013 - attention_mae: 0.0085\n",
            "Epoch 190: val_loss did not improve from 0.00110\n",
            "15/15 [==============================] - 12s 810ms/step - loss: 0.0013 - attention_mae: 0.0085 - val_loss: 0.0013 - val_attention_mae: 0.0079\n",
            "Epoch 191/300\n",
            "15/15 [==============================] - ETA: 0s - loss: 0.0012 - attention_mae: 0.0080\n",
            "Epoch 191: val_loss improved from 0.00110 to 0.00110, saving model to /content/drive/MyDrive/Research/TAVI/Models/Curvature_2_Pressure_MultiViewUNet_I256_B16_LR0.001\n",
            "15/15 [==============================] - 13s 849ms/step - loss: 0.0012 - attention_mae: 0.0080 - val_loss: 0.0011 - val_attention_mae: 0.0084\n",
            "Epoch 192/300\n",
            "15/15 [==============================] - ETA: 0s - loss: 0.0012 - attention_mae: 0.0081\n",
            "Epoch 192: val_loss did not improve from 0.00110\n",
            "15/15 [==============================] - 12s 808ms/step - loss: 0.0012 - attention_mae: 0.0081 - val_loss: 0.0011 - val_attention_mae: 0.0079\n",
            "Epoch 193/300\n",
            "15/15 [==============================] - ETA: 0s - loss: 0.0013 - attention_mae: 0.0082\n",
            "Epoch 193: val_loss did not improve from 0.00110\n",
            "15/15 [==============================] - 12s 807ms/step - loss: 0.0013 - attention_mae: 0.0082 - val_loss: 0.0011 - val_attention_mae: 0.0078\n",
            "Epoch 194/300\n",
            "15/15 [==============================] - ETA: 0s - loss: 0.0013 - attention_mae: 0.0080\n",
            "Epoch 194: val_loss improved from 0.00110 to 0.00110, saving model to /content/drive/MyDrive/Research/TAVI/Models/Curvature_2_Pressure_MultiViewUNet_I256_B16_LR0.001\n",
            "15/15 [==============================] - 13s 846ms/step - loss: 0.0013 - attention_mae: 0.0080 - val_loss: 0.0011 - val_attention_mae: 0.0079\n",
            "Epoch 195/300\n",
            "15/15 [==============================] - ETA: 0s - loss: 0.0012 - attention_mae: 0.0082\n",
            "Epoch 195: val_loss did not improve from 0.00110\n",
            "15/15 [==============================] - 12s 808ms/step - loss: 0.0012 - attention_mae: 0.0082 - val_loss: 0.0011 - val_attention_mae: 0.0080\n",
            "Epoch 196/300\n",
            "15/15 [==============================] - ETA: 0s - loss: 0.0012 - attention_mae: 0.0082\n",
            "Epoch 196: val_loss did not improve from 0.00110\n",
            "15/15 [==============================] - 12s 809ms/step - loss: 0.0012 - attention_mae: 0.0082 - val_loss: 0.0011 - val_attention_mae: 0.0076\n",
            "Epoch 197/300\n",
            "15/15 [==============================] - ETA: 0s - loss: 0.0012 - attention_mae: 0.0082\n",
            "Epoch 197: val_loss did not improve from 0.00110\n",
            "15/15 [==============================] - 12s 808ms/step - loss: 0.0012 - attention_mae: 0.0082 - val_loss: 0.0011 - val_attention_mae: 0.0093\n",
            "Epoch 198/300\n",
            "15/15 [==============================] - ETA: 0s - loss: 0.0012 - attention_mae: 0.0080\n",
            "Epoch 198: val_loss improved from 0.00110 to 0.00109, saving model to /content/drive/MyDrive/Research/TAVI/Models/Curvature_2_Pressure_MultiViewUNet_I256_B16_LR0.001\n",
            "15/15 [==============================] - 13s 848ms/step - loss: 0.0012 - attention_mae: 0.0080 - val_loss: 0.0011 - val_attention_mae: 0.0076\n",
            "Epoch 199/300\n",
            "15/15 [==============================] - ETA: 0s - loss: 0.0012 - attention_mae: 0.0078\n",
            "Epoch 199: val_loss did not improve from 0.00109\n",
            "15/15 [==============================] - 12s 809ms/step - loss: 0.0012 - attention_mae: 0.0078 - val_loss: 0.0013 - val_attention_mae: 0.0087\n",
            "Epoch 200/300\n",
            "15/15 [==============================] - ETA: 0s - loss: 0.0012 - attention_mae: 0.0077\n",
            "Epoch 200: val_loss improved from 0.00109 to 0.00105, saving model to /content/drive/MyDrive/Research/TAVI/Models/Curvature_2_Pressure_MultiViewUNet_I256_B16_LR0.001\n",
            "15/15 [==============================] - 13s 855ms/step - loss: 0.0012 - attention_mae: 0.0077 - val_loss: 0.0010 - val_attention_mae: 0.0084\n",
            "Epoch 201/300\n",
            "15/15 [==============================] - ETA: 0s - loss: 0.0012 - attention_mae: 0.0078\n",
            "Epoch 201: val_loss improved from 0.00105 to 0.00103, saving model to /content/drive/MyDrive/Research/TAVI/Models/Curvature_2_Pressure_MultiViewUNet_I256_B16_LR0.001\n",
            "15/15 [==============================] - 13s 851ms/step - loss: 0.0012 - attention_mae: 0.0078 - val_loss: 0.0010 - val_attention_mae: 0.0075\n",
            "Epoch 202/300\n",
            "15/15 [==============================] - ETA: 0s - loss: 0.0012 - attention_mae: 0.0079\n",
            "Epoch 202: val_loss did not improve from 0.00103\n",
            "15/15 [==============================] - 12s 808ms/step - loss: 0.0012 - attention_mae: 0.0079 - val_loss: 0.0011 - val_attention_mae: 0.0081\n",
            "Epoch 203/300\n",
            "15/15 [==============================] - ETA: 0s - loss: 0.0012 - attention_mae: 0.0079\n",
            "Epoch 203: val_loss did not improve from 0.00103\n",
            "15/15 [==============================] - 12s 808ms/step - loss: 0.0012 - attention_mae: 0.0079 - val_loss: 0.0014 - val_attention_mae: 0.0087\n",
            "Epoch 204/300\n",
            "15/15 [==============================] - ETA: 0s - loss: 0.0012 - attention_mae: 0.0079\n",
            "Epoch 204: val_loss did not improve from 0.00103\n",
            "15/15 [==============================] - 12s 808ms/step - loss: 0.0012 - attention_mae: 0.0079 - val_loss: 0.0012 - val_attention_mae: 0.0074\n",
            "Epoch 205/300\n",
            "15/15 [==============================] - ETA: 0s - loss: 0.0012 - attention_mae: 0.0078\n",
            "Epoch 205: val_loss did not improve from 0.00103\n",
            "15/15 [==============================] - 12s 809ms/step - loss: 0.0012 - attention_mae: 0.0078 - val_loss: 0.0012 - val_attention_mae: 0.0073\n",
            "Epoch 206/300\n",
            "15/15 [==============================] - ETA: 0s - loss: 0.0012 - attention_mae: 0.0076\n",
            "Epoch 206: val_loss did not improve from 0.00103\n",
            "15/15 [==============================] - 12s 809ms/step - loss: 0.0012 - attention_mae: 0.0076 - val_loss: 0.0013 - val_attention_mae: 0.0071\n",
            "Epoch 207/300\n",
            "15/15 [==============================] - ETA: 0s - loss: 0.0011 - attention_mae: 0.0075\n",
            "Epoch 207: val_loss did not improve from 0.00103\n",
            "15/15 [==============================] - 12s 809ms/step - loss: 0.0011 - attention_mae: 0.0075 - val_loss: 0.0011 - val_attention_mae: 0.0085\n",
            "Epoch 208/300\n",
            "15/15 [==============================] - ETA: 0s - loss: 0.0011 - attention_mae: 0.0077\n",
            "Epoch 208: val_loss did not improve from 0.00103\n",
            "15/15 [==============================] - 12s 809ms/step - loss: 0.0011 - attention_mae: 0.0077 - val_loss: 0.0013 - val_attention_mae: 0.0088\n",
            "Epoch 209/300\n",
            "15/15 [==============================] - ETA: 0s - loss: 0.0012 - attention_mae: 0.0075\n",
            "Epoch 209: val_loss did not improve from 0.00103\n",
            "15/15 [==============================] - 12s 809ms/step - loss: 0.0012 - attention_mae: 0.0075 - val_loss: 0.0011 - val_attention_mae: 0.0070\n",
            "Epoch 210/300\n",
            "15/15 [==============================] - ETA: 0s - loss: 0.0012 - attention_mae: 0.0077\n",
            "Epoch 210: val_loss did not improve from 0.00103\n",
            "15/15 [==============================] - 12s 809ms/step - loss: 0.0012 - attention_mae: 0.0077 - val_loss: 0.0011 - val_attention_mae: 0.0071\n",
            "Epoch 211/300\n",
            "15/15 [==============================] - ETA: 0s - loss: 0.0012 - attention_mae: 0.0075\n",
            "Epoch 211: val_loss improved from 0.00103 to 0.00101, saving model to /content/drive/MyDrive/Research/TAVI/Models/Curvature_2_Pressure_MultiViewUNet_I256_B16_LR0.001\n",
            "15/15 [==============================] - 13s 848ms/step - loss: 0.0012 - attention_mae: 0.0075 - val_loss: 0.0010 - val_attention_mae: 0.0072\n",
            "Epoch 212/300\n",
            "15/15 [==============================] - ETA: 0s - loss: 0.0012 - attention_mae: 0.0076\n",
            "Epoch 212: val_loss did not improve from 0.00101\n",
            "15/15 [==============================] - 12s 809ms/step - loss: 0.0012 - attention_mae: 0.0076 - val_loss: 0.0011 - val_attention_mae: 0.0072\n",
            "Epoch 213/300\n",
            "15/15 [==============================] - ETA: 0s - loss: 0.0012 - attention_mae: 0.0079\n",
            "Epoch 213: val_loss did not improve from 0.00101\n",
            "15/15 [==============================] - 12s 809ms/step - loss: 0.0012 - attention_mae: 0.0079 - val_loss: 0.0010 - val_attention_mae: 0.0087\n",
            "Epoch 214/300\n",
            "15/15 [==============================] - ETA: 0s - loss: 0.0012 - attention_mae: 0.0075\n",
            "Epoch 214: val_loss did not improve from 0.00101\n",
            "15/15 [==============================] - 12s 808ms/step - loss: 0.0012 - attention_mae: 0.0075 - val_loss: 0.0012 - val_attention_mae: 0.0077\n",
            "Epoch 215/300\n",
            "15/15 [==============================] - ETA: 0s - loss: 0.0012 - attention_mae: 0.0076\n",
            "Epoch 215: val_loss did not improve from 0.00101\n",
            "15/15 [==============================] - 12s 808ms/step - loss: 0.0012 - attention_mae: 0.0076 - val_loss: 0.0013 - val_attention_mae: 0.0077\n",
            "Epoch 216/300\n",
            "15/15 [==============================] - ETA: 0s - loss: 0.0011 - attention_mae: 0.0076\n",
            "Epoch 216: val_loss did not improve from 0.00101\n",
            "15/15 [==============================] - 12s 809ms/step - loss: 0.0011 - attention_mae: 0.0076 - val_loss: 0.0010 - val_attention_mae: 0.0074\n",
            "Epoch 217/300\n",
            "15/15 [==============================] - ETA: 0s - loss: 0.0011 - attention_mae: 0.0074\n",
            "Epoch 217: val_loss did not improve from 0.00101\n",
            "15/15 [==============================] - 12s 808ms/step - loss: 0.0011 - attention_mae: 0.0074 - val_loss: 0.0010 - val_attention_mae: 0.0073\n",
            "Epoch 218/300\n",
            "15/15 [==============================] - ETA: 0s - loss: 0.0011 - attention_mae: 0.0073\n",
            "Epoch 218: val_loss improved from 0.00101 to 0.00098, saving model to /content/drive/MyDrive/Research/TAVI/Models/Curvature_2_Pressure_MultiViewUNet_I256_B16_LR0.001\n",
            "15/15 [==============================] - 13s 847ms/step - loss: 0.0011 - attention_mae: 0.0073 - val_loss: 9.7695e-04 - val_attention_mae: 0.0069\n",
            "Epoch 219/300\n",
            "15/15 [==============================] - ETA: 0s - loss: 0.0012 - attention_mae: 0.0076\n",
            "Epoch 219: val_loss did not improve from 0.00098\n",
            "15/15 [==============================] - 12s 808ms/step - loss: 0.0012 - attention_mae: 0.0076 - val_loss: 0.0011 - val_attention_mae: 0.0086\n",
            "Epoch 220/300\n",
            "15/15 [==============================] - ETA: 0s - loss: 0.0012 - attention_mae: 0.0076\n",
            "Epoch 220: val_loss improved from 0.00098 to 0.00096, saving model to /content/drive/MyDrive/Research/TAVI/Models/Curvature_2_Pressure_MultiViewUNet_I256_B16_LR0.001\n",
            "15/15 [==============================] - 13s 847ms/step - loss: 0.0012 - attention_mae: 0.0076 - val_loss: 9.5698e-04 - val_attention_mae: 0.0067\n",
            "Epoch 221/300\n",
            "15/15 [==============================] - ETA: 0s - loss: 0.0012 - attention_mae: 0.0074\n",
            "Epoch 221: val_loss did not improve from 0.00096\n",
            "15/15 [==============================] - 12s 808ms/step - loss: 0.0012 - attention_mae: 0.0074 - val_loss: 0.0011 - val_attention_mae: 0.0094\n",
            "Epoch 222/300\n",
            "15/15 [==============================] - ETA: 0s - loss: 0.0012 - attention_mae: 0.0078\n",
            "Epoch 222: val_loss did not improve from 0.00096\n",
            "15/15 [==============================] - 12s 809ms/step - loss: 0.0012 - attention_mae: 0.0078 - val_loss: 0.0010 - val_attention_mae: 0.0072\n",
            "Epoch 223/300\n",
            "15/15 [==============================] - ETA: 0s - loss: 0.0011 - attention_mae: 0.0075\n",
            "Epoch 223: val_loss improved from 0.00096 to 0.00095, saving model to /content/drive/MyDrive/Research/TAVI/Models/Curvature_2_Pressure_MultiViewUNet_I256_B16_LR0.001\n",
            "15/15 [==============================] - 13s 851ms/step - loss: 0.0011 - attention_mae: 0.0075 - val_loss: 9.5141e-04 - val_attention_mae: 0.0070\n",
            "Epoch 224/300\n",
            "15/15 [==============================] - ETA: 0s - loss: 0.0011 - attention_mae: 0.0073\n",
            "Epoch 224: val_loss improved from 0.00095 to 0.00094, saving model to /content/drive/MyDrive/Research/TAVI/Models/Curvature_2_Pressure_MultiViewUNet_I256_B16_LR0.001\n",
            "15/15 [==============================] - 13s 852ms/step - loss: 0.0011 - attention_mae: 0.0073 - val_loss: 9.3551e-04 - val_attention_mae: 0.0069\n",
            "Epoch 225/300\n",
            "15/15 [==============================] - ETA: 0s - loss: 0.0011 - attention_mae: 0.0074\n",
            "Epoch 225: val_loss improved from 0.00094 to 0.00092, saving model to /content/drive/MyDrive/Research/TAVI/Models/Curvature_2_Pressure_MultiViewUNet_I256_B16_LR0.001\n",
            "15/15 [==============================] - 13s 868ms/step - loss: 0.0011 - attention_mae: 0.0074 - val_loss: 9.2424e-04 - val_attention_mae: 0.0072\n",
            "Epoch 226/300\n",
            "15/15 [==============================] - ETA: 0s - loss: 0.0011 - attention_mae: 0.0074\n",
            "Epoch 226: val_loss did not improve from 0.00092\n",
            "15/15 [==============================] - 12s 809ms/step - loss: 0.0011 - attention_mae: 0.0074 - val_loss: 9.4923e-04 - val_attention_mae: 0.0069\n",
            "Epoch 227/300\n",
            "15/15 [==============================] - ETA: 0s - loss: 0.0011 - attention_mae: 0.0073\n",
            "Epoch 227: val_loss did not improve from 0.00092\n",
            "15/15 [==============================] - 12s 809ms/step - loss: 0.0011 - attention_mae: 0.0073 - val_loss: 0.0011 - val_attention_mae: 0.0070\n",
            "Epoch 228/300\n",
            "15/15 [==============================] - ETA: 0s - loss: 0.0011 - attention_mae: 0.0076\n",
            "Epoch 228: val_loss did not improve from 0.00092\n",
            "15/15 [==============================] - 12s 810ms/step - loss: 0.0011 - attention_mae: 0.0076 - val_loss: 9.4215e-04 - val_attention_mae: 0.0077\n",
            "Epoch 229/300\n",
            "15/15 [==============================] - ETA: 0s - loss: 0.0011 - attention_mae: 0.0073\n",
            "Epoch 229: val_loss did not improve from 0.00092\n",
            "15/15 [==============================] - 12s 809ms/step - loss: 0.0011 - attention_mae: 0.0073 - val_loss: 9.3436e-04 - val_attention_mae: 0.0065\n",
            "Epoch 230/300\n",
            "15/15 [==============================] - ETA: 0s - loss: 0.0011 - attention_mae: 0.0073\n",
            "Epoch 230: val_loss did not improve from 0.00092\n",
            "15/15 [==============================] - 12s 809ms/step - loss: 0.0011 - attention_mae: 0.0073 - val_loss: 9.9552e-04 - val_attention_mae: 0.0080\n",
            "Epoch 231/300\n",
            "15/15 [==============================] - ETA: 0s - loss: 0.0011 - attention_mae: 0.0074\n",
            "Epoch 231: val_loss did not improve from 0.00092\n",
            "15/15 [==============================] - 12s 810ms/step - loss: 0.0011 - attention_mae: 0.0074 - val_loss: 9.6705e-04 - val_attention_mae: 0.0065\n",
            "Epoch 232/300\n",
            "15/15 [==============================] - ETA: 0s - loss: 0.0011 - attention_mae: 0.0075\n",
            "Epoch 232: val_loss did not improve from 0.00092\n",
            "15/15 [==============================] - 12s 809ms/step - loss: 0.0011 - attention_mae: 0.0075 - val_loss: 9.7441e-04 - val_attention_mae: 0.0071\n",
            "Epoch 233/300\n",
            "15/15 [==============================] - ETA: 0s - loss: 0.0011 - attention_mae: 0.0072\n",
            "Epoch 233: val_loss did not improve from 0.00092\n",
            "15/15 [==============================] - 12s 809ms/step - loss: 0.0011 - attention_mae: 0.0072 - val_loss: 9.9175e-04 - val_attention_mae: 0.0070\n",
            "Epoch 234/300\n",
            "15/15 [==============================] - ETA: 0s - loss: 0.0011 - attention_mae: 0.0072\n",
            "Epoch 234: val_loss did not improve from 0.00092\n",
            "15/15 [==============================] - 12s 809ms/step - loss: 0.0011 - attention_mae: 0.0072 - val_loss: 9.4537e-04 - val_attention_mae: 0.0066\n",
            "Epoch 235/300\n",
            "15/15 [==============================] - ETA: 0s - loss: 0.0011 - attention_mae: 0.0071\n",
            "Epoch 235: val_loss did not improve from 0.00092\n",
            "15/15 [==============================] - 12s 809ms/step - loss: 0.0011 - attention_mae: 0.0071 - val_loss: 9.6998e-04 - val_attention_mae: 0.0074\n",
            "Epoch 236/300\n",
            "15/15 [==============================] - ETA: 0s - loss: 0.0011 - attention_mae: 0.0072\n",
            "Epoch 236: val_loss did not improve from 0.00092\n",
            "15/15 [==============================] - 12s 809ms/step - loss: 0.0011 - attention_mae: 0.0072 - val_loss: 0.0011 - val_attention_mae: 0.0065\n",
            "Epoch 237/300\n",
            "15/15 [==============================] - ETA: 0s - loss: 0.0011 - attention_mae: 0.0071\n",
            "Epoch 237: val_loss did not improve from 0.00092\n",
            "15/15 [==============================] - 12s 809ms/step - loss: 0.0011 - attention_mae: 0.0071 - val_loss: 0.0010 - val_attention_mae: 0.0080\n",
            "Epoch 238/300\n",
            "15/15 [==============================] - ETA: 0s - loss: 0.0011 - attention_mae: 0.0071\n",
            "Epoch 238: val_loss did not improve from 0.00092\n",
            "15/15 [==============================] - 12s 809ms/step - loss: 0.0011 - attention_mae: 0.0071 - val_loss: 9.9030e-04 - val_attention_mae: 0.0066\n",
            "Epoch 239/300\n",
            "15/15 [==============================] - ETA: 0s - loss: 0.0011 - attention_mae: 0.0071\n",
            "Epoch 239: val_loss did not improve from 0.00092\n",
            "15/15 [==============================] - 12s 809ms/step - loss: 0.0011 - attention_mae: 0.0071 - val_loss: 9.3279e-04 - val_attention_mae: 0.0071\n",
            "Epoch 240/300\n",
            "15/15 [==============================] - ETA: 0s - loss: 0.0011 - attention_mae: 0.0072\n",
            "Epoch 240: val_loss improved from 0.00092 to 0.00090, saving model to /content/drive/MyDrive/Research/TAVI/Models/Curvature_2_Pressure_MultiViewUNet_I256_B16_LR0.001\n",
            "15/15 [==============================] - 13s 852ms/step - loss: 0.0011 - attention_mae: 0.0072 - val_loss: 9.0419e-04 - val_attention_mae: 0.0073\n",
            "Epoch 241/300\n",
            "15/15 [==============================] - ETA: 0s - loss: 0.0011 - attention_mae: 0.0070\n",
            "Epoch 241: val_loss did not improve from 0.00090\n",
            "15/15 [==============================] - 12s 809ms/step - loss: 0.0011 - attention_mae: 0.0070 - val_loss: 9.7065e-04 - val_attention_mae: 0.0079\n",
            "Epoch 242/300\n",
            "15/15 [==============================] - ETA: 0s - loss: 0.0011 - attention_mae: 0.0072\n",
            "Epoch 242: val_loss did not improve from 0.00090\n",
            "15/15 [==============================] - 12s 809ms/step - loss: 0.0011 - attention_mae: 0.0072 - val_loss: 9.5207e-04 - val_attention_mae: 0.0069\n",
            "Epoch 243/300\n",
            "15/15 [==============================] - ETA: 0s - loss: 0.0011 - attention_mae: 0.0071\n",
            "Epoch 243: val_loss did not improve from 0.00090\n",
            "15/15 [==============================] - 12s 808ms/step - loss: 0.0011 - attention_mae: 0.0071 - val_loss: 9.1720e-04 - val_attention_mae: 0.0071\n",
            "Epoch 244/300\n",
            "15/15 [==============================] - ETA: 0s - loss: 0.0011 - attention_mae: 0.0072\n",
            "Epoch 244: val_loss did not improve from 0.00090\n",
            "15/15 [==============================] - 12s 808ms/step - loss: 0.0011 - attention_mae: 0.0072 - val_loss: 9.8109e-04 - val_attention_mae: 0.0064\n",
            "Epoch 245/300\n",
            "15/15 [==============================] - ETA: 0s - loss: 0.0011 - attention_mae: 0.0069\n",
            "Epoch 245: val_loss did not improve from 0.00090\n",
            "15/15 [==============================] - 12s 809ms/step - loss: 0.0011 - attention_mae: 0.0069 - val_loss: 9.4274e-04 - val_attention_mae: 0.0078\n",
            "Epoch 246/300\n",
            "15/15 [==============================] - ETA: 0s - loss: 0.0011 - attention_mae: 0.0071\n",
            "Epoch 246: val_loss did not improve from 0.00090\n",
            "15/15 [==============================] - 12s 809ms/step - loss: 0.0011 - attention_mae: 0.0071 - val_loss: 9.2384e-04 - val_attention_mae: 0.0077\n",
            "Epoch 247/300\n",
            "15/15 [==============================] - ETA: 0s - loss: 0.0011 - attention_mae: 0.0071\n",
            "Epoch 247: val_loss did not improve from 0.00090\n",
            "15/15 [==============================] - 12s 808ms/step - loss: 0.0011 - attention_mae: 0.0071 - val_loss: 0.0011 - val_attention_mae: 0.0076\n",
            "Epoch 248/300\n",
            "15/15 [==============================] - ETA: 0s - loss: 0.0011 - attention_mae: 0.0070\n",
            "Epoch 248: val_loss did not improve from 0.00090\n",
            "15/15 [==============================] - 12s 808ms/step - loss: 0.0011 - attention_mae: 0.0070 - val_loss: 9.2469e-04 - val_attention_mae: 0.0079\n",
            "Epoch 249/300\n",
            "15/15 [==============================] - ETA: 0s - loss: 0.0011 - attention_mae: 0.0070\n",
            "Epoch 249: val_loss did not improve from 0.00090\n",
            "15/15 [==============================] - 12s 807ms/step - loss: 0.0011 - attention_mae: 0.0070 - val_loss: 9.3285e-04 - val_attention_mae: 0.0068\n",
            "Epoch 250/300\n",
            "15/15 [==============================] - ETA: 0s - loss: 0.0011 - attention_mae: 0.0070\n",
            "Epoch 250: val_loss improved from 0.00090 to 0.00088, saving model to /content/drive/MyDrive/Research/TAVI/Models/Curvature_2_Pressure_MultiViewUNet_I256_B16_LR0.001\n",
            "15/15 [==============================] - 13s 847ms/step - loss: 0.0011 - attention_mae: 0.0070 - val_loss: 8.7932e-04 - val_attention_mae: 0.0067\n",
            "Epoch 251/300\n",
            "15/15 [==============================] - ETA: 0s - loss: 0.0010 - attention_mae: 0.0069\n",
            "Epoch 251: val_loss did not improve from 0.00088\n",
            "15/15 [==============================] - 12s 808ms/step - loss: 0.0010 - attention_mae: 0.0069 - val_loss: 8.9762e-04 - val_attention_mae: 0.0064\n",
            "Epoch 252/300\n",
            "15/15 [==============================] - ETA: 0s - loss: 0.0010 - attention_mae: 0.0068\n",
            "Epoch 252: val_loss did not improve from 0.00088\n",
            "15/15 [==============================] - 12s 809ms/step - loss: 0.0010 - attention_mae: 0.0068 - val_loss: 0.0011 - val_attention_mae: 0.0070\n",
            "Epoch 253/300\n",
            "15/15 [==============================] - ETA: 0s - loss: 0.0011 - attention_mae: 0.0068    \n",
            "Epoch 253: val_loss did not improve from 0.00088\n",
            "15/15 [==============================] - 12s 809ms/step - loss: 0.0011 - attention_mae: 0.0068 - val_loss: 8.8466e-04 - val_attention_mae: 0.0068\n",
            "Epoch 254/300\n",
            "15/15 [==============================] - ETA: 0s - loss: 0.0010 - attention_mae: 0.0069\n",
            "Epoch 254: val_loss did not improve from 0.00088\n",
            "15/15 [==============================] - 12s 809ms/step - loss: 0.0010 - attention_mae: 0.0069 - val_loss: 9.3348e-04 - val_attention_mae: 0.0068\n",
            "Epoch 255/300\n",
            "15/15 [==============================] - ETA: 0s - loss: 0.0011 - attention_mae: 0.0071\n",
            "Epoch 255: val_loss did not improve from 0.00088\n",
            "15/15 [==============================] - 12s 809ms/step - loss: 0.0011 - attention_mae: 0.0071 - val_loss: 9.0991e-04 - val_attention_mae: 0.0080\n",
            "Epoch 256/300\n",
            "15/15 [==============================] - ETA: 0s - loss: 0.0011 - attention_mae: 0.0073\n",
            "Epoch 256: val_loss did not improve from 0.00088\n",
            "15/15 [==============================] - 12s 809ms/step - loss: 0.0011 - attention_mae: 0.0073 - val_loss: 9.9451e-04 - val_attention_mae: 0.0095\n",
            "Epoch 257/300\n",
            "15/15 [==============================] - ETA: 0s - loss: 0.0011 - attention_mae: 0.0077    \n",
            "Epoch 257: val_loss did not improve from 0.00088\n",
            "15/15 [==============================] - 12s 809ms/step - loss: 0.0011 - attention_mae: 0.0077 - val_loss: 9.2430e-04 - val_attention_mae: 0.0066\n",
            "Epoch 258/300\n",
            "15/15 [==============================] - ETA: 0s - loss: 0.0011 - attention_mae: 0.0075\n",
            "Epoch 258: val_loss did not improve from 0.00088\n",
            "15/15 [==============================] - 12s 808ms/step - loss: 0.0011 - attention_mae: 0.0075 - val_loss: 9.1219e-04 - val_attention_mae: 0.0072\n",
            "Epoch 259/300\n",
            "15/15 [==============================] - ETA: 0s - loss: 0.0011 - attention_mae: 0.0072\n",
            "Epoch 259: val_loss did not improve from 0.00088\n",
            "15/15 [==============================] - 12s 809ms/step - loss: 0.0011 - attention_mae: 0.0072 - val_loss: 0.0010 - val_attention_mae: 0.0096\n",
            "Epoch 260/300\n",
            "15/15 [==============================] - ETA: 0s - loss: 0.0011 - attention_mae: 0.0072\n",
            "Epoch 260: val_loss did not improve from 0.00088\n",
            "15/15 [==============================] - 12s 809ms/step - loss: 0.0011 - attention_mae: 0.0072 - val_loss: 8.8068e-04 - val_attention_mae: 0.0064\n",
            "Epoch 261/300\n",
            "15/15 [==============================] - ETA: 0s - loss: 0.0010 - attention_mae: 0.0068\n",
            "Epoch 261: val_loss did not improve from 0.00088\n",
            "15/15 [==============================] - 12s 809ms/step - loss: 0.0010 - attention_mae: 0.0068 - val_loss: 8.8264e-04 - val_attention_mae: 0.0066\n",
            "Epoch 262/300\n",
            "15/15 [==============================] - ETA: 0s - loss: 0.0010 - attention_mae: 0.0068    \n",
            "Epoch 262: val_loss improved from 0.00088 to 0.00087, saving model to /content/drive/MyDrive/Research/TAVI/Models/Curvature_2_Pressure_MultiViewUNet_I256_B16_LR0.001\n",
            "15/15 [==============================] - 13s 847ms/step - loss: 0.0010 - attention_mae: 0.0068 - val_loss: 8.7363e-04 - val_attention_mae: 0.0069\n",
            "Epoch 263/300\n",
            "15/15 [==============================] - ETA: 0s - loss: 0.0010 - attention_mae: 0.0068\n",
            "Epoch 263: val_loss did not improve from 0.00087\n",
            "15/15 [==============================] - 12s 808ms/step - loss: 0.0010 - attention_mae: 0.0068 - val_loss: 9.1356e-04 - val_attention_mae: 0.0067\n",
            "Epoch 264/300\n",
            "15/15 [==============================] - ETA: 0s - loss: 0.0010 - attention_mae: 0.0068\n",
            "Epoch 264: val_loss improved from 0.00087 to 0.00086, saving model to /content/drive/MyDrive/Research/TAVI/Models/Curvature_2_Pressure_MultiViewUNet_I256_B16_LR0.001\n",
            "15/15 [==============================] - 13s 850ms/step - loss: 0.0010 - attention_mae: 0.0068 - val_loss: 8.5898e-04 - val_attention_mae: 0.0069\n",
            "Epoch 265/300\n",
            "15/15 [==============================] - ETA: 0s - loss: 0.0010 - attention_mae: 0.0070    \n",
            "Epoch 265: val_loss did not improve from 0.00086\n",
            "15/15 [==============================] - 12s 809ms/step - loss: 0.0010 - attention_mae: 0.0070 - val_loss: 8.6715e-04 - val_attention_mae: 0.0076\n",
            "Epoch 266/300\n",
            "15/15 [==============================] - ETA: 0s - loss: 9.9715e-04 - attention_mae: 0.0070\n",
            "Epoch 266: val_loss improved from 0.00086 to 0.00085, saving model to /content/drive/MyDrive/Research/TAVI/Models/Curvature_2_Pressure_MultiViewUNet_I256_B16_LR0.001\n",
            "15/15 [==============================] - 13s 850ms/step - loss: 9.9715e-04 - attention_mae: 0.0070 - val_loss: 8.5275e-04 - val_attention_mae: 0.0074\n",
            "Epoch 267/300\n",
            "15/15 [==============================] - ETA: 0s - loss: 9.9959e-04 - attention_mae: 0.0068\n",
            "Epoch 267: val_loss did not improve from 0.00085\n",
            "15/15 [==============================] - 12s 808ms/step - loss: 9.9959e-04 - attention_mae: 0.0068 - val_loss: 8.6532e-04 - val_attention_mae: 0.0069\n",
            "Epoch 268/300\n",
            "15/15 [==============================] - ETA: 0s - loss: 9.9865e-04 - attention_mae: 0.0070\n",
            "Epoch 268: val_loss did not improve from 0.00085\n",
            "15/15 [==============================] - 12s 808ms/step - loss: 9.9865e-04 - attention_mae: 0.0070 - val_loss: 8.6983e-04 - val_attention_mae: 0.0070\n",
            "Epoch 269/300\n",
            "15/15 [==============================] - ETA: 0s - loss: 9.9087e-04 - attention_mae: 0.0070\n",
            "Epoch 269: val_loss did not improve from 0.00085\n",
            "15/15 [==============================] - 12s 808ms/step - loss: 9.9087e-04 - attention_mae: 0.0070 - val_loss: 8.8029e-04 - val_attention_mae: 0.0066\n",
            "Epoch 270/300\n",
            "15/15 [==============================] - ETA: 0s - loss: 9.8928e-04 - attention_mae: 0.0068\n",
            "Epoch 270: val_loss did not improve from 0.00085\n",
            "15/15 [==============================] - 12s 808ms/step - loss: 9.8928e-04 - attention_mae: 0.0068 - val_loss: 8.9243e-04 - val_attention_mae: 0.0068\n",
            "Epoch 271/300\n",
            "15/15 [==============================] - ETA: 0s - loss: 9.7888e-04 - attention_mae: 0.0066\n",
            "Epoch 271: val_loss did not improve from 0.00085\n",
            "15/15 [==============================] - 12s 809ms/step - loss: 9.7888e-04 - attention_mae: 0.0066 - val_loss: 9.5102e-04 - val_attention_mae: 0.0064\n",
            "Epoch 272/300\n",
            "15/15 [==============================] - ETA: 0s - loss: 9.8290e-04 - attention_mae: 0.0066\n",
            "Epoch 272: val_loss did not improve from 0.00085\n",
            "15/15 [==============================] - 12s 808ms/step - loss: 9.8290e-04 - attention_mae: 0.0066 - val_loss: 8.9353e-04 - val_attention_mae: 0.0063\n",
            "Epoch 273/300\n",
            "15/15 [==============================] - ETA: 0s - loss: 9.7924e-04 - attention_mae: 0.0067\n",
            "Epoch 273: val_loss improved from 0.00085 to 0.00082, saving model to /content/drive/MyDrive/Research/TAVI/Models/Curvature_2_Pressure_MultiViewUNet_I256_B16_LR0.001\n",
            "15/15 [==============================] - 13s 852ms/step - loss: 9.7924e-04 - attention_mae: 0.0067 - val_loss: 8.2006e-04 - val_attention_mae: 0.0067\n",
            "Epoch 274/300\n",
            "15/15 [==============================] - ETA: 0s - loss: 9.8189e-04 - attention_mae: 0.0067\n",
            "Epoch 274: val_loss did not improve from 0.00082\n",
            "15/15 [==============================] - 12s 805ms/step - loss: 9.8189e-04 - attention_mae: 0.0067 - val_loss: 8.4502e-04 - val_attention_mae: 0.0063\n",
            "Epoch 275/300\n",
            "15/15 [==============================] - ETA: 0s - loss: 0.0011 - attention_mae: 0.0071    \n",
            "Epoch 275: val_loss did not improve from 0.00082\n",
            "15/15 [==============================] - 12s 813ms/step - loss: 0.0011 - attention_mae: 0.0071 - val_loss: 9.9639e-04 - val_attention_mae: 0.0101\n",
            "Epoch 276/300\n",
            "15/15 [==============================] - ETA: 0s - loss: 0.0011 - attention_mae: 0.0072\n",
            "Epoch 276: val_loss did not improve from 0.00082\n",
            "15/15 [==============================] - 12s 815ms/step - loss: 0.0011 - attention_mae: 0.0072 - val_loss: 0.0019 - val_attention_mae: 0.0084\n",
            "Epoch 277/300\n",
            "15/15 [==============================] - ETA: 0s - loss: 0.0011 - attention_mae: 0.0073\n",
            "Epoch 277: val_loss did not improve from 0.00082\n",
            "15/15 [==============================] - 12s 810ms/step - loss: 0.0011 - attention_mae: 0.0073 - val_loss: 9.7802e-04 - val_attention_mae: 0.0074\n",
            "Epoch 278/300\n",
            "15/15 [==============================] - ETA: 0s - loss: 0.0010 - attention_mae: 0.0069\n",
            "Epoch 278: val_loss did not improve from 0.00082\n",
            "15/15 [==============================] - 12s 807ms/step - loss: 0.0010 - attention_mae: 0.0069 - val_loss: 9.5445e-04 - val_attention_mae: 0.0094\n",
            "Epoch 279/300\n",
            "15/15 [==============================] - ETA: 0s - loss: 0.0010 - attention_mae: 0.0069\n",
            "Epoch 279: val_loss did not improve from 0.00082\n",
            "15/15 [==============================] - 12s 806ms/step - loss: 0.0010 - attention_mae: 0.0069 - val_loss: 9.2371e-04 - val_attention_mae: 0.0076\n",
            "Epoch 280/300\n",
            "15/15 [==============================] - ETA: 0s - loss: 9.9112e-04 - attention_mae: 0.0067\n",
            "Epoch 280: val_loss did not improve from 0.00082\n",
            "15/15 [==============================] - 12s 806ms/step - loss: 9.9112e-04 - attention_mae: 0.0067 - val_loss: 8.6318e-04 - val_attention_mae: 0.0066\n",
            "Epoch 281/300\n",
            "15/15 [==============================] - ETA: 0s - loss: 9.8188e-04 - attention_mae: 0.0067\n",
            "Epoch 281: val_loss did not improve from 0.00082\n",
            "15/15 [==============================] - 12s 808ms/step - loss: 9.8188e-04 - attention_mae: 0.0067 - val_loss: 8.2323e-04 - val_attention_mae: 0.0076\n",
            "Epoch 282/300\n",
            "15/15 [==============================] - ETA: 0s - loss: 9.8598e-04 - attention_mae: 0.0064\n",
            "Epoch 282: val_loss did not improve from 0.00082\n",
            "15/15 [==============================] - 12s 809ms/step - loss: 9.8598e-04 - attention_mae: 0.0064 - val_loss: 8.4970e-04 - val_attention_mae: 0.0064\n",
            "Epoch 283/300\n",
            "15/15 [==============================] - ETA: 0s - loss: 0.0010 - attention_mae: 0.0067\n",
            "Epoch 283: val_loss did not improve from 0.00082\n",
            "15/15 [==============================] - 12s 809ms/step - loss: 0.0010 - attention_mae: 0.0067 - val_loss: 0.0011 - val_attention_mae: 0.0071\n",
            "Epoch 284/300\n",
            "15/15 [==============================] - ETA: 0s - loss: 0.0010 - attention_mae: 0.0070\n",
            "Epoch 284: val_loss did not improve from 0.00082\n",
            "15/15 [==============================] - 12s 809ms/step - loss: 0.0010 - attention_mae: 0.0070 - val_loss: 0.0011 - val_attention_mae: 0.0096\n",
            "Epoch 285/300\n",
            "15/15 [==============================] - ETA: 0s - loss: 0.0010 - attention_mae: 0.0072\n",
            "Epoch 285: val_loss did not improve from 0.00082\n",
            "15/15 [==============================] - 12s 809ms/step - loss: 0.0010 - attention_mae: 0.0072 - val_loss: 9.1633e-04 - val_attention_mae: 0.0091\n",
            "Epoch 286/300\n",
            "15/15 [==============================] - ETA: 0s - loss: 9.9028e-04 - attention_mae: 0.0070\n",
            "Epoch 286: val_loss improved from 0.00082 to 0.00081, saving model to /content/drive/MyDrive/Research/TAVI/Models/Curvature_2_Pressure_MultiViewUNet_I256_B16_LR0.001\n",
            "15/15 [==============================] - 13s 848ms/step - loss: 9.9028e-04 - attention_mae: 0.0070 - val_loss: 8.0868e-04 - val_attention_mae: 0.0061\n",
            "Epoch 287/300\n",
            "15/15 [==============================] - ETA: 0s - loss: 9.8490e-04 - attention_mae: 0.0065\n",
            "Epoch 287: val_loss did not improve from 0.00081\n",
            "15/15 [==============================] - 12s 807ms/step - loss: 9.8490e-04 - attention_mae: 0.0065 - val_loss: 8.4829e-04 - val_attention_mae: 0.0059\n",
            "Epoch 288/300\n",
            "15/15 [==============================] - ETA: 0s - loss: 9.9658e-04 - attention_mae: 0.0065\n",
            "Epoch 288: val_loss did not improve from 0.00081\n",
            "15/15 [==============================] - 12s 808ms/step - loss: 9.9658e-04 - attention_mae: 0.0065 - val_loss: 8.2013e-04 - val_attention_mae: 0.0064\n",
            "Epoch 289/300\n",
            "15/15 [==============================] - ETA: 0s - loss: 0.0010 - attention_mae: 0.0069\n",
            "Epoch 289: val_loss did not improve from 0.00081\n",
            "15/15 [==============================] - 12s 807ms/step - loss: 0.0010 - attention_mae: 0.0069 - val_loss: 8.8191e-04 - val_attention_mae: 0.0059\n",
            "Epoch 290/300\n",
            "15/15 [==============================] - ETA: 0s - loss: 0.0010 - attention_mae: 0.0066    \n",
            "Epoch 290: val_loss did not improve from 0.00081\n",
            "15/15 [==============================] - 12s 807ms/step - loss: 0.0010 - attention_mae: 0.0066 - val_loss: 8.3150e-04 - val_attention_mae: 0.0066\n",
            "Epoch 291/300\n",
            "15/15 [==============================] - ETA: 0s - loss: 9.7516e-04 - attention_mae: 0.0065\n",
            "Epoch 291: val_loss improved from 0.00081 to 0.00079, saving model to /content/drive/MyDrive/Research/TAVI/Models/Curvature_2_Pressure_MultiViewUNet_I256_B16_LR0.001\n",
            "15/15 [==============================] - 13s 846ms/step - loss: 9.7516e-04 - attention_mae: 0.0065 - val_loss: 7.8608e-04 - val_attention_mae: 0.0062\n",
            "Epoch 292/300\n",
            "15/15 [==============================] - ETA: 0s - loss: 9.6709e-04 - attention_mae: 0.0063\n",
            "Epoch 292: val_loss did not improve from 0.00079\n",
            "15/15 [==============================] - 12s 808ms/step - loss: 9.6709e-04 - attention_mae: 0.0063 - val_loss: 8.4578e-04 - val_attention_mae: 0.0063\n",
            "Epoch 293/300\n",
            "15/15 [==============================] - ETA: 0s - loss: 9.7572e-04 - attention_mae: 0.0064\n",
            "Epoch 293: val_loss did not improve from 0.00079\n",
            "15/15 [==============================] - 12s 807ms/step - loss: 9.7572e-04 - attention_mae: 0.0064 - val_loss: 8.6727e-04 - val_attention_mae: 0.0060\n",
            "Epoch 294/300\n",
            "15/15 [==============================] - ETA: 0s - loss: 9.6817e-04 - attention_mae: 0.0065\n",
            "Epoch 294: val_loss did not improve from 0.00079\n",
            "15/15 [==============================] - 12s 807ms/step - loss: 9.6817e-04 - attention_mae: 0.0065 - val_loss: 8.0715e-04 - val_attention_mae: 0.0063\n",
            "Epoch 295/300\n",
            "15/15 [==============================] - ETA: 0s - loss: 9.4747e-04 - attention_mae: 0.0065\n",
            "Epoch 295: val_loss did not improve from 0.00079\n",
            "15/15 [==============================] - 12s 807ms/step - loss: 9.4747e-04 - attention_mae: 0.0065 - val_loss: 7.8637e-04 - val_attention_mae: 0.0061\n",
            "Epoch 296/300\n",
            "15/15 [==============================] - ETA: 0s - loss: 9.4009e-04 - attention_mae: 0.0062\n",
            "Epoch 296: val_loss did not improve from 0.00079\n",
            "15/15 [==============================] - 12s 807ms/step - loss: 9.4009e-04 - attention_mae: 0.0062 - val_loss: 8.0542e-04 - val_attention_mae: 0.0058\n",
            "Epoch 297/300\n",
            "15/15 [==============================] - ETA: 0s - loss: 9.5855e-04 - attention_mae: 0.0063\n",
            "Epoch 297: val_loss did not improve from 0.00079\n",
            "15/15 [==============================] - 12s 807ms/step - loss: 9.5855e-04 - attention_mae: 0.0063 - val_loss: 8.3439e-04 - val_attention_mae: 0.0059\n",
            "Epoch 298/300\n",
            "15/15 [==============================] - ETA: 0s - loss: 9.5133e-04 - attention_mae: 0.0066\n",
            "Epoch 298: val_loss did not improve from 0.00079\n",
            "15/15 [==============================] - 12s 807ms/step - loss: 9.5133e-04 - attention_mae: 0.0066 - val_loss: 9.3097e-04 - val_attention_mae: 0.0072\n",
            "Epoch 299/300\n",
            "15/15 [==============================] - ETA: 0s - loss: 9.4408e-04 - attention_mae: 0.0064\n",
            "Epoch 299: val_loss did not improve from 0.00079\n",
            "15/15 [==============================] - 12s 807ms/step - loss: 9.4408e-04 - attention_mae: 0.0064 - val_loss: 8.7119e-04 - val_attention_mae: 0.0066\n",
            "Epoch 300/300\n",
            "15/15 [==============================] - ETA: 0s - loss: 9.3369e-04 - attention_mae: 0.0064\n",
            "Epoch 300: val_loss improved from 0.00079 to 0.00078, saving model to /content/drive/MyDrive/Research/TAVI/Models/Curvature_2_Pressure_MultiViewUNet_I256_B16_LR0.001\n",
            "15/15 [==============================] - 13s 846ms/step - loss: 9.3369e-04 - attention_mae: 0.0064 - val_loss: 7.8092e-04 - val_attention_mae: 0.0063\n"
          ]
        }
      ],
      "source": [
        "history = model.fit(\n",
        "    train_batches,\n",
        "    validation_data=test_batches,\n",
        "    epochs=N_EPOCHS,\n",
        "    batch_size=BATCH_SIZE,\n",
        "    callbacks=callbacks,\n",
        "    verbose=1\n",
        ")\n"
      ]
    },
    {
      "cell_type": "markdown",
      "metadata": {
        "id": "o0izY6BrsY8U"
      },
      "source": [
        "# Save Model"
      ]
    },
    {
      "cell_type": "code",
      "execution_count": 16,
      "metadata": {
        "id": "BriaW2DnsY8V",
        "outputId": "c7593fc6-a9c7-471b-cc6d-e9016d10de43",
        "colab": {
          "base_uri": "https://localhost:8080/"
        }
      },
      "outputs": [
        {
          "output_type": "stream",
          "name": "stderr",
          "text": [
            "WARNING:absl:Found untraced functions such as _jit_compiled_convolution_op, _jit_compiled_convolution_op, _jit_compiled_convolution_op, _jit_compiled_convolution_op, _jit_compiled_convolution_op while saving (showing 5 of 23). These functions will not be directly callable after loading.\n"
          ]
        }
      ],
      "source": [
        "timestamp = datetime.datetime.now().strftime('%b-%d-%I:%M%p')\n",
        "if not os.path.exists(model_path):\n",
        "    os.makedirs(model_path)\n",
        "\n",
        "model.save(os.path.join(model_path, timestamp))"
      ]
    },
    {
      "cell_type": "markdown",
      "metadata": {
        "id": "i_Oi8OvMsY8V"
      },
      "source": [
        "# Save Predictions"
      ]
    },
    {
      "cell_type": "code",
      "execution_count": 17,
      "metadata": {
        "id": "lvBEcrXCsY8V",
        "outputId": "919d6be4-f4fb-41f3-f390-7f1f4dc6b1d3",
        "colab": {
          "base_uri": "https://localhost:8080/"
        }
      },
      "outputs": [
        {
          "output_type": "stream",
          "name": "stderr",
          "text": [
            "\r0it [00:00, ?it/s]"
          ]
        },
        {
          "output_type": "stream",
          "name": "stdout",
          "text": [
            "1/1 [==============================] - 2s 2s/step\n"
          ]
        },
        {
          "output_type": "stream",
          "name": "stderr",
          "text": [
            "\r1it [00:03,  3.39s/it]"
          ]
        },
        {
          "output_type": "stream",
          "name": "stdout",
          "text": [
            "1/1 [==============================] - 0s 20ms/step\n"
          ]
        },
        {
          "output_type": "stream",
          "name": "stderr",
          "text": [
            "\r2it [00:03,  1.63s/it]"
          ]
        },
        {
          "output_type": "stream",
          "name": "stdout",
          "text": [
            "1/1 [==============================] - 0s 21ms/step\n"
          ]
        },
        {
          "output_type": "stream",
          "name": "stderr",
          "text": [
            "\r3it [00:04,  1.07s/it]"
          ]
        },
        {
          "output_type": "stream",
          "name": "stdout",
          "text": [
            "1/1 [==============================] - 0s 20ms/step\n"
          ]
        },
        {
          "output_type": "stream",
          "name": "stderr",
          "text": [
            "\r4it [00:04,  1.29it/s]"
          ]
        },
        {
          "output_type": "stream",
          "name": "stdout",
          "text": [
            "1/1 [==============================] - 0s 20ms/step\n"
          ]
        },
        {
          "output_type": "stream",
          "name": "stderr",
          "text": [
            "\r5it [00:04,  1.57it/s]"
          ]
        },
        {
          "output_type": "stream",
          "name": "stdout",
          "text": [
            "1/1 [==============================] - 0s 23ms/step\n"
          ]
        },
        {
          "output_type": "stream",
          "name": "stderr",
          "text": [
            "\r6it [00:05,  1.86it/s]"
          ]
        },
        {
          "output_type": "stream",
          "name": "stdout",
          "text": [
            "1/1 [==============================] - 0s 20ms/step\n"
          ]
        },
        {
          "output_type": "stream",
          "name": "stderr",
          "text": [
            "\r7it [00:05,  2.02it/s]"
          ]
        },
        {
          "output_type": "stream",
          "name": "stdout",
          "text": [
            "1/1 [==============================] - 0s 21ms/step\n"
          ]
        },
        {
          "output_type": "stream",
          "name": "stderr",
          "text": [
            "\r8it [00:06,  2.15it/s]"
          ]
        },
        {
          "output_type": "stream",
          "name": "stdout",
          "text": [
            "1/1 [==============================] - 0s 21ms/step\n"
          ]
        },
        {
          "output_type": "stream",
          "name": "stderr",
          "text": [
            "\r9it [00:06,  2.24it/s]"
          ]
        },
        {
          "output_type": "stream",
          "name": "stdout",
          "text": [
            "1/1 [==============================] - 0s 21ms/step\n"
          ]
        },
        {
          "output_type": "stream",
          "name": "stderr",
          "text": [
            "\r10it [00:06,  2.28it/s]"
          ]
        },
        {
          "output_type": "stream",
          "name": "stdout",
          "text": [
            "1/1 [==============================] - 0s 20ms/step\n"
          ]
        },
        {
          "output_type": "stream",
          "name": "stderr",
          "text": [
            "\r11it [00:07,  2.32it/s]"
          ]
        },
        {
          "output_type": "stream",
          "name": "stdout",
          "text": [
            "1/1 [==============================] - 0s 21ms/step\n"
          ]
        },
        {
          "output_type": "stream",
          "name": "stderr",
          "text": [
            "\r12it [00:07,  2.39it/s]"
          ]
        },
        {
          "output_type": "stream",
          "name": "stdout",
          "text": [
            "1/1 [==============================] - 0s 20ms/step\n"
          ]
        },
        {
          "output_type": "stream",
          "name": "stderr",
          "text": [
            "\r13it [00:08,  2.35it/s]"
          ]
        },
        {
          "output_type": "stream",
          "name": "stdout",
          "text": [
            "1/1 [==============================] - 0s 21ms/step\n"
          ]
        },
        {
          "output_type": "stream",
          "name": "stderr",
          "text": [
            "\r14it [00:08,  2.37it/s]"
          ]
        },
        {
          "output_type": "stream",
          "name": "stdout",
          "text": [
            "1/1 [==============================] - 0s 20ms/step\n"
          ]
        },
        {
          "output_type": "stream",
          "name": "stderr",
          "text": [
            "\r15it [00:08,  2.40it/s]"
          ]
        },
        {
          "output_type": "stream",
          "name": "stdout",
          "text": [
            "1/1 [==============================] - 0s 21ms/step\n"
          ]
        },
        {
          "output_type": "stream",
          "name": "stderr",
          "text": [
            "\r16it [00:09,  2.40it/s]"
          ]
        },
        {
          "output_type": "stream",
          "name": "stdout",
          "text": [
            "1/1 [==============================] - 0s 20ms/step\n"
          ]
        },
        {
          "output_type": "stream",
          "name": "stderr",
          "text": [
            "\r17it [00:09,  2.40it/s]"
          ]
        },
        {
          "output_type": "stream",
          "name": "stdout",
          "text": [
            "1/1 [==============================] - 0s 20ms/step\n"
          ]
        },
        {
          "output_type": "stream",
          "name": "stderr",
          "text": [
            "\r18it [00:10,  2.55it/s]"
          ]
        },
        {
          "output_type": "stream",
          "name": "stdout",
          "text": [
            "1/1 [==============================] - 0s 19ms/step\n"
          ]
        },
        {
          "output_type": "stream",
          "name": "stderr",
          "text": [
            "\r19it [00:10,  2.58it/s]"
          ]
        },
        {
          "output_type": "stream",
          "name": "stdout",
          "text": [
            "1/1 [==============================] - 0s 20ms/step\n"
          ]
        },
        {
          "output_type": "stream",
          "name": "stderr",
          "text": [
            "\r20it [00:10,  2.53it/s]"
          ]
        },
        {
          "output_type": "stream",
          "name": "stdout",
          "text": [
            "1/1 [==============================] - 0s 23ms/step\n"
          ]
        },
        {
          "output_type": "stream",
          "name": "stderr",
          "text": [
            "\r21it [00:11,  2.55it/s]"
          ]
        },
        {
          "output_type": "stream",
          "name": "stdout",
          "text": [
            "1/1 [==============================] - 0s 24ms/step\n"
          ]
        },
        {
          "output_type": "stream",
          "name": "stderr",
          "text": [
            "\r22it [00:11,  2.42it/s]"
          ]
        },
        {
          "output_type": "stream",
          "name": "stdout",
          "text": [
            "1/1 [==============================] - 0s 19ms/step\n"
          ]
        },
        {
          "output_type": "stream",
          "name": "stderr",
          "text": [
            "\r23it [00:12,  2.42it/s]"
          ]
        },
        {
          "output_type": "stream",
          "name": "stdout",
          "text": [
            "1/1 [==============================] - 0s 20ms/step\n"
          ]
        },
        {
          "output_type": "stream",
          "name": "stderr",
          "text": [
            "\r24it [00:12,  2.44it/s]"
          ]
        },
        {
          "output_type": "stream",
          "name": "stdout",
          "text": [
            "1/1 [==============================] - 0s 20ms/step\n"
          ]
        },
        {
          "output_type": "stream",
          "name": "stderr",
          "text": [
            "\r25it [00:12,  2.54it/s]"
          ]
        },
        {
          "output_type": "stream",
          "name": "stdout",
          "text": [
            "1/1 [==============================] - 0s 22ms/step\n"
          ]
        },
        {
          "output_type": "stream",
          "name": "stderr",
          "text": [
            "\r26it [00:13,  2.66it/s]"
          ]
        },
        {
          "output_type": "stream",
          "name": "stdout",
          "text": [
            "1/1 [==============================] - 0s 21ms/step\n"
          ]
        },
        {
          "output_type": "stream",
          "name": "stderr",
          "text": [
            "\r27it [00:13,  2.56it/s]"
          ]
        },
        {
          "output_type": "stream",
          "name": "stdout",
          "text": [
            "1/1 [==============================] - 0s 19ms/step\n"
          ]
        },
        {
          "output_type": "stream",
          "name": "stderr",
          "text": [
            "\r28it [00:14,  2.53it/s]"
          ]
        },
        {
          "output_type": "stream",
          "name": "stdout",
          "text": [
            "1/1 [==============================] - 0s 20ms/step\n"
          ]
        },
        {
          "output_type": "stream",
          "name": "stderr",
          "text": [
            "\r29it [00:14,  2.59it/s]"
          ]
        },
        {
          "output_type": "stream",
          "name": "stdout",
          "text": [
            "1/1 [==============================] - 0s 19ms/step\n"
          ]
        },
        {
          "output_type": "stream",
          "name": "stderr",
          "text": [
            "\r30it [00:14,  2.63it/s]"
          ]
        },
        {
          "output_type": "stream",
          "name": "stdout",
          "text": [
            "1/1 [==============================] - 0s 19ms/step\n"
          ]
        },
        {
          "output_type": "stream",
          "name": "stderr",
          "text": [
            "\r31it [00:15,  2.58it/s]"
          ]
        },
        {
          "output_type": "stream",
          "name": "stdout",
          "text": [
            "1/1 [==============================] - 0s 20ms/step\n"
          ]
        },
        {
          "output_type": "stream",
          "name": "stderr",
          "text": [
            "\r32it [00:15,  2.71it/s]"
          ]
        },
        {
          "output_type": "stream",
          "name": "stdout",
          "text": [
            "1/1 [==============================] - 0s 21ms/step\n"
          ]
        },
        {
          "output_type": "stream",
          "name": "stderr",
          "text": [
            "\r33it [00:15,  2.77it/s]"
          ]
        },
        {
          "output_type": "stream",
          "name": "stdout",
          "text": [
            "1/1 [==============================] - 0s 19ms/step\n"
          ]
        },
        {
          "output_type": "stream",
          "name": "stderr",
          "text": [
            "\r34it [00:16,  2.85it/s]"
          ]
        },
        {
          "output_type": "stream",
          "name": "stdout",
          "text": [
            "1/1 [==============================] - 0s 20ms/step\n"
          ]
        },
        {
          "output_type": "stream",
          "name": "stderr",
          "text": [
            "\r35it [00:16,  2.89it/s]"
          ]
        },
        {
          "output_type": "stream",
          "name": "stdout",
          "text": [
            "1/1 [==============================] - 0s 20ms/step\n"
          ]
        },
        {
          "output_type": "stream",
          "name": "stderr",
          "text": [
            "36it [00:16,  2.12it/s]\n"
          ]
        }
      ],
      "source": [
        "test_ds_unbatched = test_batches.unbatch()\n",
        "\n",
        "pred_path = os.path.join(PRED_PATH, EXP_NAME, timestamp)\n",
        "if not os.path.exists(pred_path):\n",
        "    os.makedirs(pred_path)\n",
        "\n",
        "metrics = pd.DataFrame()\n",
        "\n",
        "for idx, (input, target) in enumerate(tqdm(test_ds_unbatched)):\n",
        "\n",
        "    target = tf.squeeze(target).numpy()\n",
        "    prediction = tf.squeeze(\n",
        "        model.predict(\n",
        "            tf.expand_dims(input, axis=0)\n",
        "        )\n",
        "    )\n",
        "    \n",
        "    channel_sum = tf.expand_dims(tf.reduce_sum(target, axis=-1), axis=-1)\n",
        "    white_mask = tf.reduce_all(tf.equal(channel_sum, 3.0), axis=-1)\n",
        "    expanded_mask = tf.expand_dims(white_mask, axis=-1)\n",
        "    expanded_mask = tf.tile(expanded_mask, [1, 1, 3])\n",
        "    prediction = tf.where(expanded_mask, tf.ones_like(prediction), prediction)\n",
        "\n",
        "    plt.figure(figsize=(7, 7))\n",
        "    plt.imshow(target)\n",
        "    plt.axis(\"off\")\n",
        "    plt.tight_layout()\n",
        "    plt.savefig(os.path.join(pred_path, f\"{idx}_T.png\"))\n",
        "    plt.close()\n",
        "\n",
        "    plt.figure(figsize=(7, 7))\n",
        "    plt.imshow(prediction)\n",
        "    plt.axis(\"off\")\n",
        "    plt.tight_layout()\n",
        "    plt.savefig(os.path.join(pred_path, f\"{idx}_P.png\"))\n",
        "    plt.close()\n"
      ]
    },
    {
      "cell_type": "markdown",
      "metadata": {
        "id": "7X8uip-GsY8V"
      },
      "source": [
        "# Loss Curve"
      ]
    },
    {
      "cell_type": "code",
      "execution_count": 18,
      "metadata": {
        "id": "uSb9pzrasY8W"
      },
      "outputs": [],
      "source": [
        "try:\n",
        "    loss = history.history['loss']\n",
        "    val_loss = history.history['val_loss']\n",
        "\n",
        "    plt.figure(figsize=(8, 6))\n",
        "    plt.plot(loss, label='Training Loss')\n",
        "    plt.plot(val_loss, label='Validation Loss')\n",
        "    plt.legend(loc='upper right')\n",
        "    plt.ylabel('Attention MAE')\n",
        "    plt.title('Training and Validation Loss')\n",
        "    plt.xlabel('Epoch')\n",
        "    plt.tight_layout()\n",
        "    plt.savefig(os.path.join(model_path, timestamp + \".png\"))\n",
        "    plt.close()\n",
        "except:\n",
        "    print(\"Model did not finish training\")\n"
      ]
    },
    {
      "cell_type": "markdown",
      "metadata": {
        "id": "1hMNNE0VsY8W"
      },
      "source": [
        "# Metrics"
      ]
    },
    {
      "cell_type": "code",
      "execution_count": 19,
      "metadata": {
        "id": "QGXSmlicsY8W",
        "outputId": "cb280d2f-c7d0-4d17-e565-320467c3187a",
        "colab": {
          "base_uri": "https://localhost:8080/"
        }
      },
      "outputs": [
        {
          "output_type": "stream",
          "name": "stdout",
          "text": [
            "3/3 [==============================] - 0s 112ms/step - loss: 7.8092e-04 - attention_mae: 0.0063\n"
          ]
        },
        {
          "output_type": "execute_result",
          "data": {
            "text/plain": [
              "[0.0007809239323250949, 0.0063397884368896484]"
            ]
          },
          "metadata": {},
          "execution_count": 19
        }
      ],
      "source": [
        "model.evaluate(test_batches)\n"
      ]
    }
  ],
  "metadata": {
    "kernelspec": {
      "display_name": "Ai",
      "language": "python",
      "name": "python3"
    },
    "language_info": {
      "codemirror_mode": {
        "name": "ipython",
        "version": 3
      },
      "file_extension": ".py",
      "mimetype": "text/x-python",
      "name": "python",
      "nbconvert_exporter": "python",
      "pygments_lexer": "ipython3",
      "version": "3.10.9"
    },
    "orig_nbformat": 4,
    "colab": {
      "provenance": [],
      "toc_visible": true,
      "machine_shape": "hm",
      "include_colab_link": true
    },
    "accelerator": "GPU",
    "gpuClass": "standard"
  },
  "nbformat": 4,
  "nbformat_minor": 0
}