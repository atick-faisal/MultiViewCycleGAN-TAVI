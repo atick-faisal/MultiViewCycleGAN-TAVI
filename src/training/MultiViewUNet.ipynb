{
  "cells": [
    {
      "cell_type": "markdown",
      "metadata": {
        "id": "view-in-github",
        "colab_type": "text"
      },
      "source": [
        "<a href=\"https://colab.research.google.com/github/atick-faisal/MultiViewUNet-TAVI/blob/main/src/training/MultiViewUNet.ipynb\" target=\"_parent\"><img src=\"https://colab.research.google.com/assets/colab-badge.svg\" alt=\"Open In Colab\"/></a>"
      ]
    },
    {
      "cell_type": "markdown",
      "metadata": {
        "id": "0BWh-7swsY8G"
      },
      "source": [
        "# Colab Info"
      ]
    },
    {
      "cell_type": "code",
      "execution_count": 1,
      "metadata": {
        "id": "qKSzwmmpsY8K",
        "outputId": "8dac33b9-f805-40e0-8515-bff1fb755ae3",
        "colab": {
          "base_uri": "https://localhost:8080/"
        }
      },
      "outputs": [
        {
          "output_type": "stream",
          "name": "stdout",
          "text": [
            "Sun Nov 12 11:37:21 2023       \n",
            "+-----------------------------------------------------------------------------+\n",
            "| NVIDIA-SMI 525.105.17   Driver Version: 525.105.17   CUDA Version: 12.0     |\n",
            "|-------------------------------+----------------------+----------------------+\n",
            "| GPU  Name        Persistence-M| Bus-Id        Disp.A | Volatile Uncorr. ECC |\n",
            "| Fan  Temp  Perf  Pwr:Usage/Cap|         Memory-Usage | GPU-Util  Compute M. |\n",
            "|                               |                      |               MIG M. |\n",
            "|===============================+======================+======================|\n",
            "|   0  Tesla T4            Off  | 00000000:00:04.0 Off |                    0 |\n",
            "| N/A   49C    P0    26W /  70W |      0MiB / 15360MiB |      0%      Default |\n",
            "|                               |                      |                  N/A |\n",
            "+-------------------------------+----------------------+----------------------+\n",
            "                                                                               \n",
            "+-----------------------------------------------------------------------------+\n",
            "| Processes:                                                                  |\n",
            "|  GPU   GI   CI        PID   Type   Process name                  GPU Memory |\n",
            "|        ID   ID                                                   Usage      |\n",
            "|=============================================================================|\n",
            "|  No running processes found                                                 |\n",
            "+-----------------------------------------------------------------------------+\n",
            "Your runtime has 13.6 gigabytes of available RAM\n",
            "\n",
            "Not using a high-RAM runtime\n"
          ]
        }
      ],
      "source": [
        "from psutil import virtual_memory\n",
        "\n",
        "gpu_info = !nvidia-smi\n",
        "gpu_info = '\\n'.join(gpu_info)\n",
        "if gpu_info.find('failed') >= 0:\n",
        "    print('Not connected to a GPU')\n",
        "else:\n",
        "    print(gpu_info)\n",
        "\n",
        "\n",
        "ram_gb = virtual_memory().total / 1e9\n",
        "print('Your runtime has {:.1f} gigabytes of available RAM\\n'.format(ram_gb))\n",
        "\n",
        "if ram_gb < 20:\n",
        "    print('Not using a high-RAM runtime')\n",
        "else:\n",
        "    print('You are using a high-RAM runtime!')\n"
      ]
    },
    {
      "cell_type": "markdown",
      "metadata": {
        "id": "1k2olxt7sY8M"
      },
      "source": [
        "# Fix for GDrive"
      ]
    },
    {
      "cell_type": "code",
      "execution_count": 2,
      "metadata": {
        "id": "WR_aYJ7WsY8M"
      },
      "outputs": [],
      "source": [
        "!pip install -U --no-cache-dir gdown --pre > /dev/null\n"
      ]
    },
    {
      "cell_type": "markdown",
      "source": [
        "# Mount GDrive"
      ],
      "metadata": {
        "id": "jm5cGHp0tGvo"
      }
    },
    {
      "cell_type": "code",
      "source": [
        "from google.colab import drive\n",
        "drive.mount('/content/drive')\n"
      ],
      "metadata": {
        "id": "0hZ7iR0AtJYj",
        "outputId": "74beac61-7156-4f1d-e9ef-629dce11e577",
        "colab": {
          "base_uri": "https://localhost:8080/"
        }
      },
      "execution_count": 3,
      "outputs": [
        {
          "output_type": "stream",
          "name": "stdout",
          "text": [
            "Drive already mounted at /content/drive; to attempt to forcibly remount, call drive.mount(\"/content/drive\", force_remount=True).\n"
          ]
        }
      ]
    },
    {
      "cell_type": "markdown",
      "metadata": {
        "id": "ZjzwtNU2sY8M"
      },
      "source": [
        "# Download and Extract Dataset"
      ]
    },
    {
      "cell_type": "code",
      "execution_count": 4,
      "metadata": {
        "id": "9RSDCIWlsY8N",
        "outputId": "65a154b8-247b-4522-c04b-2b8abaf2aa04",
        "colab": {
          "base_uri": "https://localhost:8080/"
        }
      },
      "outputs": [
        {
          "output_type": "stream",
          "name": "stdout",
          "text": [
            "Downloading...\n",
            "From (uriginal): https://drive.google.com/uc?id=1NucmsLZzT64qRPTUJn0zoOI8_qS6JspD\n",
            "From (redirected): https://drive.google.com/uc?id=1NucmsLZzT64qRPTUJn0zoOI8_qS6JspD&confirm=t&uuid=9cac55bd-891d-40b5-807f-815ec6e273ce\n",
            "To: /content/TAVI_r15.zip\n",
            "100% 26.6M/26.6M [00:00<00:00, 26.8MB/s]\n"
          ]
        }
      ],
      "source": [
        "!gdown \"1NucmsLZzT64qRPTUJn0zoOI8_qS6JspD\"\n",
        "!unzip -o \"TAVI_r15.zip\" > /dev/null\n"
      ]
    },
    {
      "cell_type": "markdown",
      "metadata": {
        "id": "yFAlpIdMsY8N"
      },
      "source": [
        "# Imports"
      ]
    },
    {
      "cell_type": "code",
      "execution_count": 5,
      "metadata": {
        "id": "xiEKM9gZsY8N"
      },
      "outputs": [],
      "source": [
        "import os\n",
        "import datetime\n",
        "import matplotlib\n",
        "import pandas as pd\n",
        "import tensorflow as tf\n",
        "import matplotlib.pyplot as plt\n",
        "\n",
        "from tqdm import tqdm\n",
        "\n",
        "matplotlib.use('Agg')\n",
        "plt.rcParams[\"font.size\"] = 16"
      ]
    },
    {
      "cell_type": "markdown",
      "metadata": {
        "id": "OCaqjLQYsY8O"
      },
      "source": [
        "# Config"
      ]
    },
    {
      "cell_type": "code",
      "execution_count": 6,
      "metadata": {
        "id": "Qby7HsHhsY8O"
      },
      "outputs": [],
      "source": [
        "PROBLEM = \"Curvature_2_Pressure\"\n",
        "\n",
        "MODEL_NAME = \"MultiViewUNet\"\n",
        "DATASET_PATH = \"/content/Images/\"\n",
        "TRAIN_DIR = \"Train/\"\n",
        "TEST_DIR = \"Test/\"\n",
        "INPUT_DIR = PROBLEM.split(\"_2_\")[0]\n",
        "TARGET_DIR = PROBLEM.split(\"_2_\")[1]\n",
        "MODEL_PATH = \"/content/drive/MyDrive/Research/TAVI/Models/\"\n",
        "PRED_PATH = \"/content/drive/MyDrive/Research/TAVI/Predictions/\"\n",
        "IMG_SIZE = 256\n",
        "BATCH_SIZE = 16\n",
        "BUFFER_SIZE = 1000\n",
        "VAL_SPLIT = 0.2\n",
        "LEARNING_RATE = 0.001\n",
        "N_EPOCHS = 300\n",
        "PATIENCE = 30\n",
        "\n",
        "EXP_NAME = f\"{PROBLEM}_{MODEL_NAME}_I{IMG_SIZE}_B{BATCH_SIZE}_LR{LEARNING_RATE}\"\n"
      ]
    },
    {
      "cell_type": "markdown",
      "metadata": {
        "id": "vnnlcTjjsY8O"
      },
      "source": [
        "# Architecture"
      ]
    },
    {
      "cell_type": "code",
      "execution_count": 7,
      "metadata": {
        "id": "QQWORDDysY8P"
      },
      "outputs": [],
      "source": [
        "class UNet:\n",
        "    def __init__(\n",
        "        self,\n",
        "        img_size: int,\n",
        "        n_channels: int = 3,\n",
        "        width: int = 32,\n",
        "        depth: int = 4,\n",
        "        kernel_size: int = 3\n",
        "    ):\n",
        "        self.img_size = img_size\n",
        "        self.n_channels = n_channels\n",
        "        self.width = width\n",
        "        self.depth = depth\n",
        "        self.kernel_size = kernel_size\n",
        "\n",
        "    @staticmethod\n",
        "    def conv(\n",
        "        x: tf.Tensor,\n",
        "        filters: int,\n",
        "        kernel_size: int\n",
        "    ) -> tf.Tensor:\n",
        "        for i in range(2):\n",
        "            x = tf.keras.layers.Conv2D(\n",
        "                filters=filters,\n",
        "                kernel_size=kernel_size,\n",
        "                strides=1,\n",
        "                padding=\"same\",\n",
        "                data_format=\"channels_last\",\n",
        "                dilation_rate=1,\n",
        "                groups=1,\n",
        "                activation=None,\n",
        "                use_bias=True,\n",
        "                kernel_initializer=\"glorot_uniform\",\n",
        "                bias_initializer=\"zeros\",\n",
        "            )(x)\n",
        "\n",
        "            x = tf.keras.layers.BatchNormalization()(x)\n",
        "            x = tf.keras.layers.Activation(\"relu\")(x)\n",
        "\n",
        "        return x\n",
        "\n",
        "    @staticmethod\n",
        "    def deconv(x: tf.Tensor, filters: int) -> tf.Tensor:\n",
        "        x = tf.keras.layers.Conv2DTranspose(\n",
        "            filters=filters,\n",
        "            kernel_size=2,\n",
        "            strides=2,\n",
        "            padding=\"same\",\n",
        "            output_padding=None,\n",
        "            data_format=None,\n",
        "            dilation_rate=1,\n",
        "            activation=None,\n",
        "            use_bias=True,\n",
        "            kernel_initializer=\"glorot_uniform\",\n",
        "            bias_initializer=\"zeros\",\n",
        "        )(x)\n",
        "\n",
        "        x = tf.keras.layers.BatchNormalization()(x)\n",
        "        x = tf.keras.layers.Activation(\"relu\")(x)\n",
        "\n",
        "        return x\n",
        "\n",
        "    @staticmethod\n",
        "    def output(x: tf.Tensor) -> tf.Tensor:\n",
        "        return tf.keras.layers.Conv2D(3, (1, 1), activation=\"sigmoid\")(x)\n",
        "\n",
        "    @staticmethod\n",
        "    def pool(x: tf.Tensor, pool_size: int = 2) -> tf.Tensor:\n",
        "        return tf.keras.layers.MaxPool2D(pool_size)(x)\n",
        "\n",
        "    @staticmethod\n",
        "    def dropout(x: tf.Tensor, amount: float = 0.5) -> tf.Tensor:\n",
        "        return tf.keras.layers.Dropout(amount)(x)\n",
        "\n",
        "    def __call__(self) -> tf.keras.Model:\n",
        "        inputs = tf.keras.layers.Input(\n",
        "            shape=(self.img_size, self.img_size, self.n_channels)\n",
        "        )\n",
        "\n",
        "        # scaled = tf.keras.layers.Rescaling(1./255.0, offset=0)(inputs)\n",
        "\n",
        "        # ------------------ Downsampling ---------------------\n",
        "        downsample_layers = []\n",
        "        downsample_layers.append(\n",
        "            self.conv(\n",
        "                x=inputs,\n",
        "                filters=self.width,\n",
        "                kernel_size=self.kernel_size\n",
        "            )\n",
        "        )\n",
        "        for i in range(1, self.depth):\n",
        "            dropout_amount = 0.2 if i == 1 else 0.5\n",
        "            filters = int((2 ** i) * self.width)\n",
        "            downsample_layers.append(\n",
        "                self.dropout(\n",
        "                    self.pool(\n",
        "                        self.conv(\n",
        "                            x=downsample_layers[i - 1],\n",
        "                            filters=filters,\n",
        "                            kernel_size=self.kernel_size\n",
        "                        )\n",
        "                    ),\n",
        "                    amount=dropout_amount\n",
        "                )\n",
        "            )\n",
        "\n",
        "        # ------------------- Features --------------------\n",
        "        n_features = int((2 ** self.depth) * self.width)\n",
        "        self.features = self.pool(\n",
        "            self.conv(\n",
        "                x=downsample_layers[-1],\n",
        "                filters=n_features,\n",
        "                kernel_size=self.kernel_size\n",
        "            )\n",
        "        )\n",
        "\n",
        "        # ------------------- Upsampling --------------------\n",
        "        upsample_layers = []\n",
        "        upsample_layers.append(self.features)\n",
        "        for i in range(1, self.depth + 1):\n",
        "            filters = int((2 ** (self.depth - i)) * self.width)\n",
        "            upsample_layers.append(\n",
        "                self.conv(\n",
        "                    x=self.dropout(\n",
        "                        tf.keras.layers.concatenate([\n",
        "                            downsample_layers[self.depth - i],\n",
        "                            self.deconv(\n",
        "                                x=upsample_layers[i - 1],\n",
        "                                filters=filters\n",
        "                            )\n",
        "                        ])\n",
        "                    ),\n",
        "                    filters=filters,\n",
        "                    kernel_size=self.kernel_size\n",
        "                )\n",
        "            )\n",
        "\n",
        "        # ---------------------- Output -----------------------\n",
        "        outputs = self.output(upsample_layers[-1])\n",
        "\n",
        "        return tf.keras.Model(inputs, outputs)\n"
      ]
    },
    {
      "cell_type": "markdown",
      "metadata": {
        "id": "3wNu29ilsY8Q"
      },
      "source": [
        "# Loss Functions / Metrics"
      ]
    },
    {
      "cell_type": "code",
      "execution_count": 8,
      "metadata": {
        "id": "EScLEIVTsY8R"
      },
      "outputs": [],
      "source": [
        "def attention_mse(y_true, y_pred):\n",
        "    _y_true = y_true[y_true != 1.0]\n",
        "    _y_pred = y_pred[y_true != 1.0]\n",
        "    squared_difference = tf.square(_y_true - _y_pred)\n",
        "    return tf.reduce_mean(squared_difference, axis=-1)\n",
        "\n",
        "\n",
        "def attention_mae(y_true, y_pred):\n",
        "    _y_true = y_true[y_true != 1.0]\n",
        "    _y_pred = y_pred[y_true != 1.0]\n",
        "    squared_difference = tf.abs(_y_true - _y_pred)\n",
        "    return tf.reduce_mean(squared_difference, axis=-1)\n"
      ]
    },
    {
      "cell_type": "markdown",
      "metadata": {
        "id": "UcGPtUeasY8R"
      },
      "source": [
        "# DataLoader"
      ]
    },
    {
      "cell_type": "code",
      "execution_count": 9,
      "metadata": {
        "id": "wEWrDHWDsY8R"
      },
      "outputs": [],
      "source": [
        "def load_data_from_dir(path: str) -> tf.data.Dataset:\n",
        "    return tf.keras.utils.image_dataset_from_directory(\n",
        "        directory=path,\n",
        "        labels=None,\n",
        "        color_mode='rgb',\n",
        "        batch_size=BATCH_SIZE,\n",
        "        image_size=(IMG_SIZE, IMG_SIZE),\n",
        "        shuffle=False,\n",
        "        seed=42,\n",
        "        interpolation='bilinear',\n",
        "        follow_links=False,\n",
        "        crop_to_aspect_ratio=False\n",
        "    )\n"
      ]
    },
    {
      "cell_type": "markdown",
      "metadata": {
        "id": "iHl8FzWEsY8R"
      },
      "source": [
        "# Load Dataset"
      ]
    },
    {
      "cell_type": "code",
      "execution_count": 10,
      "metadata": {
        "id": "_N_9KDvNsY8S",
        "colab": {
          "base_uri": "https://localhost:8080/"
        },
        "outputId": "8b74871d-c3fd-4a49-b1a0-d61a8f1cf3b7"
      },
      "outputs": [
        {
          "output_type": "stream",
          "name": "stdout",
          "text": [
            "Found 360 files belonging to 1 classes.\n",
            "Found 360 files belonging to 1 classes.\n",
            "Found 84 files belonging to 1 classes.\n",
            "Found 84 files belonging to 1 classes.\n",
            "(TensorSpec(shape=(None, 256, 256, 3), dtype=tf.float32, name=None), TensorSpec(shape=(None, 256, 256, 3), dtype=tf.float32, name=None))\n",
            "(TensorSpec(shape=(None, 256, 256, 3), dtype=tf.float32, name=None), TensorSpec(shape=(None, 256, 256, 3), dtype=tf.float32, name=None))\n"
          ]
        }
      ],
      "source": [
        "trainX = load_data_from_dir(os.path.join(DATASET_PATH, TRAIN_DIR, INPUT_DIR))\n",
        "trainY = load_data_from_dir(os.path.join(DATASET_PATH, TRAIN_DIR, TARGET_DIR))\n",
        "testX = load_data_from_dir(os.path.join(DATASET_PATH, TEST_DIR, INPUT_DIR))\n",
        "testY = load_data_from_dir(os.path.join(DATASET_PATH, TEST_DIR, TARGET_DIR))\n",
        "\n",
        "train_ds = tf.data.Dataset.zip((trainX, trainY))\n",
        "test_ds = tf.data.Dataset.zip((testX, testY))\n",
        "\n",
        "print(train_ds.element_spec)\n",
        "print(test_ds.element_spec)\n"
      ]
    },
    {
      "cell_type": "markdown",
      "metadata": {
        "id": "siGY2orosY8S"
      },
      "source": [
        "# Normalization"
      ]
    },
    {
      "cell_type": "code",
      "execution_count": 11,
      "metadata": {
        "id": "iEVMVJIusY8S"
      },
      "outputs": [],
      "source": [
        "normalization_layer = tf.keras.layers.Rescaling(1./255)\n",
        "train_ds = train_ds.map(lambda x, y: (\n",
        "    normalization_layer(x), normalization_layer(y)))\n",
        "test_ds = test_ds.map(lambda x, y: (\n",
        "    normalization_layer(x), normalization_layer(y)))\n"
      ]
    },
    {
      "cell_type": "markdown",
      "metadata": {
        "id": "N0gpJ04WsY8T"
      },
      "source": [
        "# Augmentation"
      ]
    },
    {
      "cell_type": "code",
      "execution_count": 12,
      "metadata": {
        "id": "71pw2HYCsY8T"
      },
      "outputs": [],
      "source": [
        "class Augment(tf.keras.layers.Layer):\n",
        "    def __init__(self, seed=42):\n",
        "        super().__init__()\n",
        "        # both use the same seed, so they'll make the same random changes.\n",
        "        self.augment_inputs = tf.keras.layers.RandomZoom(\n",
        "            (-0.1, -0.7), seed=seed)\n",
        "        self.augment_labels = tf.keras.layers.RandomZoom(\n",
        "            (-0.1, -0.7), seed=seed)\n",
        "\n",
        "    def call(self, inputs, labels):\n",
        "        inputs = self.augment_inputs(inputs)\n",
        "        labels = self.augment_labels(labels)\n",
        "        return inputs, labels\n"
      ]
    },
    {
      "cell_type": "markdown",
      "metadata": {
        "id": "mymNUKessY8T"
      },
      "source": [
        "# Optimization"
      ]
    },
    {
      "cell_type": "code",
      "execution_count": 13,
      "metadata": {
        "id": "OFxFklYZsY8T"
      },
      "outputs": [],
      "source": [
        "AUTOTUNE = tf.data.AUTOTUNE\n",
        "\n",
        "train_batches = (\n",
        "    train_ds\n",
        "    .cache()\n",
        "    .shuffle(BUFFER_SIZE)\n",
        "    .prefetch(buffer_size=AUTOTUNE)\n",
        ")\n",
        "\n",
        "test_batches = (\n",
        "    test_ds\n",
        "    .cache()\n",
        "    .prefetch(buffer_size=AUTOTUNE)\n",
        ")\n"
      ]
    },
    {
      "cell_type": "markdown",
      "metadata": {
        "id": "j6ilqDbnsY8U"
      },
      "source": [
        "# Training Config"
      ]
    },
    {
      "cell_type": "code",
      "execution_count": 14,
      "metadata": {
        "id": "WlY6S1B6sY8U"
      },
      "outputs": [],
      "source": [
        "model_path = os.path.join(MODEL_PATH, EXP_NAME)\n",
        "\n",
        "callbacks = [\n",
        "    tf.keras.callbacks.EarlyStopping(\n",
        "        monitor=\"val_loss\",\n",
        "        patience=PATIENCE,\n",
        "        restore_best_weights=True\n",
        "    ),\n",
        "    tf.keras.callbacks.ModelCheckpoint(\n",
        "        model_path,\n",
        "        monitor='val_loss',\n",
        "        verbose=1,\n",
        "        save_best_only=True,\n",
        "        save_weights_only=True\n",
        "    )\n",
        "]\n",
        "\n",
        "optimizer = tf.keras.optimizers.Adam(\n",
        "    learning_rate=LEARNING_RATE\n",
        ")\n",
        "\n",
        "model = UNet(IMG_SIZE)()\n",
        "\n",
        "model.compile(\n",
        "    loss=attention_mse,\n",
        "    optimizer=optimizer,\n",
        "    metrics=[attention_mae]\n",
        ")\n",
        "\n",
        "# try:\n",
        "#     model.load_weights(model_path)\n",
        "# except:\n",
        "#     print(\"Checkpoint not found\")\n",
        "#     pass\n"
      ]
    },
    {
      "cell_type": "markdown",
      "metadata": {
        "id": "zmjFkIYNsY8U"
      },
      "source": [
        "# Training"
      ]
    },
    {
      "cell_type": "code",
      "execution_count": 15,
      "metadata": {
        "id": "Nd0e5sXtsY8U",
        "outputId": "13be2c5a-a5e6-47c1-a6b7-07af5fd5fe12",
        "colab": {
          "base_uri": "https://localhost:8080/"
        }
      },
      "outputs": [
        {
          "output_type": "stream",
          "name": "stdout",
          "text": [
            "Epoch 1/300\n",
            "23/23 [==============================] - ETA: 0s - loss: 0.0413 - attention_mae: 0.1571\n",
            "Epoch 1: val_loss improved from inf to 0.14556, saving model to /content/drive/MyDrive/Research/TAVI/Models/Curvature_2_Pressure_MultiViewUNet_I256_B16_LR0.001\n",
            "23/23 [==============================] - 84s 2s/step - loss: 0.0413 - attention_mae: 0.1571 - val_loss: 0.1456 - val_attention_mae: 0.3176\n",
            "Epoch 2/300\n",
            "23/23 [==============================] - ETA: 0s - loss: 0.0092 - attention_mae: 0.0749\n",
            "Epoch 2: val_loss improved from 0.14556 to 0.07960, saving model to /content/drive/MyDrive/Research/TAVI/Models/Curvature_2_Pressure_MultiViewUNet_I256_B16_LR0.001\n",
            "23/23 [==============================] - 19s 832ms/step - loss: 0.0092 - attention_mae: 0.0749 - val_loss: 0.0796 - val_attention_mae: 0.2184\n",
            "Epoch 3/300\n",
            "23/23 [==============================] - ETA: 0s - loss: 0.0067 - attention_mae: 0.0603\n",
            "Epoch 3: val_loss improved from 0.07960 to 0.03944, saving model to /content/drive/MyDrive/Research/TAVI/Models/Curvature_2_Pressure_MultiViewUNet_I256_B16_LR0.001\n",
            "23/23 [==============================] - 19s 825ms/step - loss: 0.0067 - attention_mae: 0.0603 - val_loss: 0.0394 - val_attention_mae: 0.1602\n",
            "Epoch 4/300\n",
            "23/23 [==============================] - ETA: 0s - loss: 0.0054 - attention_mae: 0.0513\n",
            "Epoch 4: val_loss improved from 0.03944 to 0.02756, saving model to /content/drive/MyDrive/Research/TAVI/Models/Curvature_2_Pressure_MultiViewUNet_I256_B16_LR0.001\n",
            "23/23 [==============================] - 20s 865ms/step - loss: 0.0054 - attention_mae: 0.0513 - val_loss: 0.0276 - val_attention_mae: 0.1352\n",
            "Epoch 5/300\n",
            "23/23 [==============================] - ETA: 0s - loss: 0.0047 - attention_mae: 0.0449\n",
            "Epoch 5: val_loss improved from 0.02756 to 0.02021, saving model to /content/drive/MyDrive/Research/TAVI/Models/Curvature_2_Pressure_MultiViewUNet_I256_B16_LR0.001\n",
            "23/23 [==============================] - 19s 825ms/step - loss: 0.0047 - attention_mae: 0.0449 - val_loss: 0.0202 - val_attention_mae: 0.1142\n",
            "Epoch 6/300\n",
            "23/23 [==============================] - ETA: 0s - loss: 0.0041 - attention_mae: 0.0401\n",
            "Epoch 6: val_loss improved from 0.02021 to 0.01591, saving model to /content/drive/MyDrive/Research/TAVI/Models/Curvature_2_Pressure_MultiViewUNet_I256_B16_LR0.001\n",
            "23/23 [==============================] - 19s 828ms/step - loss: 0.0041 - attention_mae: 0.0401 - val_loss: 0.0159 - val_attention_mae: 0.0978\n",
            "Epoch 7/300\n",
            "23/23 [==============================] - ETA: 0s - loss: 0.0037 - attention_mae: 0.0365\n",
            "Epoch 7: val_loss improved from 0.01591 to 0.01334, saving model to /content/drive/MyDrive/Research/TAVI/Models/Curvature_2_Pressure_MultiViewUNet_I256_B16_LR0.001\n",
            "23/23 [==============================] - 19s 847ms/step - loss: 0.0037 - attention_mae: 0.0365 - val_loss: 0.0133 - val_attention_mae: 0.0857\n",
            "Epoch 8/300\n",
            "23/23 [==============================] - ETA: 0s - loss: 0.0034 - attention_mae: 0.0336\n",
            "Epoch 8: val_loss improved from 0.01334 to 0.01213, saving model to /content/drive/MyDrive/Research/TAVI/Models/Curvature_2_Pressure_MultiViewUNet_I256_B16_LR0.001\n",
            "23/23 [==============================] - 19s 850ms/step - loss: 0.0034 - attention_mae: 0.0336 - val_loss: 0.0121 - val_attention_mae: 0.0788\n",
            "Epoch 9/300\n",
            "23/23 [==============================] - ETA: 0s - loss: 0.0032 - attention_mae: 0.0312\n",
            "Epoch 9: val_loss improved from 0.01213 to 0.01105, saving model to /content/drive/MyDrive/Research/TAVI/Models/Curvature_2_Pressure_MultiViewUNet_I256_B16_LR0.001\n",
            "23/23 [==============================] - 20s 858ms/step - loss: 0.0032 - attention_mae: 0.0312 - val_loss: 0.0110 - val_attention_mae: 0.0710\n",
            "Epoch 10/300\n",
            "23/23 [==============================] - ETA: 0s - loss: 0.0030 - attention_mae: 0.0293\n",
            "Epoch 10: val_loss improved from 0.01105 to 0.01042, saving model to /content/drive/MyDrive/Research/TAVI/Models/Curvature_2_Pressure_MultiViewUNet_I256_B16_LR0.001\n",
            "23/23 [==============================] - 19s 846ms/step - loss: 0.0030 - attention_mae: 0.0293 - val_loss: 0.0104 - val_attention_mae: 0.0672\n",
            "Epoch 11/300\n",
            "23/23 [==============================] - ETA: 0s - loss: 0.0029 - attention_mae: 0.0279\n",
            "Epoch 11: val_loss improved from 0.01042 to 0.00860, saving model to /content/drive/MyDrive/Research/TAVI/Models/Curvature_2_Pressure_MultiViewUNet_I256_B16_LR0.001\n",
            "23/23 [==============================] - 19s 837ms/step - loss: 0.0029 - attention_mae: 0.0279 - val_loss: 0.0086 - val_attention_mae: 0.0565\n",
            "Epoch 12/300\n",
            "23/23 [==============================] - ETA: 0s - loss: 0.0027 - attention_mae: 0.0262\n",
            "Epoch 12: val_loss improved from 0.00860 to 0.00717, saving model to /content/drive/MyDrive/Research/TAVI/Models/Curvature_2_Pressure_MultiViewUNet_I256_B16_LR0.001\n",
            "23/23 [==============================] - 20s 852ms/step - loss: 0.0027 - attention_mae: 0.0262 - val_loss: 0.0072 - val_attention_mae: 0.0493\n",
            "Epoch 13/300\n",
            "23/23 [==============================] - ETA: 0s - loss: 0.0026 - attention_mae: 0.0251\n",
            "Epoch 13: val_loss improved from 0.00717 to 0.00631, saving model to /content/drive/MyDrive/Research/TAVI/Models/Curvature_2_Pressure_MultiViewUNet_I256_B16_LR0.001\n",
            "23/23 [==============================] - 19s 842ms/step - loss: 0.0026 - attention_mae: 0.0251 - val_loss: 0.0063 - val_attention_mae: 0.0453\n",
            "Epoch 14/300\n",
            "23/23 [==============================] - ETA: 0s - loss: 0.0025 - attention_mae: 0.0239\n",
            "Epoch 14: val_loss improved from 0.00631 to 0.00558, saving model to /content/drive/MyDrive/Research/TAVI/Models/Curvature_2_Pressure_MultiViewUNet_I256_B16_LR0.001\n",
            "23/23 [==============================] - 20s 861ms/step - loss: 0.0025 - attention_mae: 0.0239 - val_loss: 0.0056 - val_attention_mae: 0.0399\n",
            "Epoch 15/300\n",
            "23/23 [==============================] - ETA: 0s - loss: 0.0024 - attention_mae: 0.0228\n",
            "Epoch 15: val_loss improved from 0.00558 to 0.00474, saving model to /content/drive/MyDrive/Research/TAVI/Models/Curvature_2_Pressure_MultiViewUNet_I256_B16_LR0.001\n",
            "23/23 [==============================] - 19s 838ms/step - loss: 0.0024 - attention_mae: 0.0228 - val_loss: 0.0047 - val_attention_mae: 0.0336\n",
            "Epoch 16/300\n",
            "23/23 [==============================] - ETA: 0s - loss: 0.0023 - attention_mae: 0.0223\n",
            "Epoch 16: val_loss improved from 0.00474 to 0.00426, saving model to /content/drive/MyDrive/Research/TAVI/Models/Curvature_2_Pressure_MultiViewUNet_I256_B16_LR0.001\n",
            "23/23 [==============================] - 19s 856ms/step - loss: 0.0023 - attention_mae: 0.0223 - val_loss: 0.0043 - val_attention_mae: 0.0302\n",
            "Epoch 17/300\n",
            "23/23 [==============================] - ETA: 0s - loss: 0.0022 - attention_mae: 0.0213\n",
            "Epoch 17: val_loss did not improve from 0.00426\n",
            "23/23 [==============================] - 19s 812ms/step - loss: 0.0022 - attention_mae: 0.0213 - val_loss: 0.0045 - val_attention_mae: 0.0347\n",
            "Epoch 18/300\n",
            "23/23 [==============================] - ETA: 0s - loss: 0.0022 - attention_mae: 0.0205\n",
            "Epoch 18: val_loss improved from 0.00426 to 0.00386, saving model to /content/drive/MyDrive/Research/TAVI/Models/Curvature_2_Pressure_MultiViewUNet_I256_B16_LR0.001\n",
            "23/23 [==============================] - 20s 879ms/step - loss: 0.0022 - attention_mae: 0.0205 - val_loss: 0.0039 - val_attention_mae: 0.0269\n",
            "Epoch 19/300\n",
            "23/23 [==============================] - ETA: 0s - loss: 0.0021 - attention_mae: 0.0200\n",
            "Epoch 19: val_loss improved from 0.00386 to 0.00354, saving model to /content/drive/MyDrive/Research/TAVI/Models/Curvature_2_Pressure_MultiViewUNet_I256_B16_LR0.001\n",
            "23/23 [==============================] - 20s 859ms/step - loss: 0.0021 - attention_mae: 0.0200 - val_loss: 0.0035 - val_attention_mae: 0.0256\n",
            "Epoch 20/300\n",
            "23/23 [==============================] - ETA: 0s - loss: 0.0021 - attention_mae: 0.0193\n",
            "Epoch 20: val_loss did not improve from 0.00354\n",
            "23/23 [==============================] - 19s 813ms/step - loss: 0.0021 - attention_mae: 0.0193 - val_loss: 0.0037 - val_attention_mae: 0.0241\n",
            "Epoch 21/300\n",
            "23/23 [==============================] - ETA: 0s - loss: 0.0020 - attention_mae: 0.0185\n",
            "Epoch 21: val_loss improved from 0.00354 to 0.00322, saving model to /content/drive/MyDrive/Research/TAVI/Models/Curvature_2_Pressure_MultiViewUNet_I256_B16_LR0.001\n",
            "23/23 [==============================] - 20s 856ms/step - loss: 0.0020 - attention_mae: 0.0185 - val_loss: 0.0032 - val_attention_mae: 0.0228\n",
            "Epoch 22/300\n",
            "23/23 [==============================] - ETA: 0s - loss: 0.0020 - attention_mae: 0.0181\n",
            "Epoch 22: val_loss did not improve from 0.00322\n",
            "23/23 [==============================] - 19s 812ms/step - loss: 0.0020 - attention_mae: 0.0181 - val_loss: 0.0044 - val_attention_mae: 0.0330\n",
            "Epoch 23/300\n",
            "23/23 [==============================] - ETA: 0s - loss: 0.0019 - attention_mae: 0.0176\n",
            "Epoch 23: val_loss improved from 0.00322 to 0.00294, saving model to /content/drive/MyDrive/Research/TAVI/Models/Curvature_2_Pressure_MultiViewUNet_I256_B16_LR0.001\n",
            "23/23 [==============================] - 20s 859ms/step - loss: 0.0019 - attention_mae: 0.0176 - val_loss: 0.0029 - val_attention_mae: 0.0194\n",
            "Epoch 24/300\n",
            "23/23 [==============================] - ETA: 0s - loss: 0.0019 - attention_mae: 0.0170\n",
            "Epoch 24: val_loss did not improve from 0.00294\n",
            "23/23 [==============================] - 19s 832ms/step - loss: 0.0019 - attention_mae: 0.0170 - val_loss: 0.0030 - val_attention_mae: 0.0179\n",
            "Epoch 25/300\n",
            "23/23 [==============================] - ETA: 0s - loss: 0.0019 - attention_mae: 0.0166\n",
            "Epoch 25: val_loss improved from 0.00294 to 0.00253, saving model to /content/drive/MyDrive/Research/TAVI/Models/Curvature_2_Pressure_MultiViewUNet_I256_B16_LR0.001\n",
            "23/23 [==============================] - 19s 839ms/step - loss: 0.0019 - attention_mae: 0.0166 - val_loss: 0.0025 - val_attention_mae: 0.0180\n",
            "Epoch 26/300\n",
            "23/23 [==============================] - ETA: 0s - loss: 0.0018 - attention_mae: 0.0162\n",
            "Epoch 26: val_loss did not improve from 0.00253\n",
            "23/23 [==============================] - 19s 812ms/step - loss: 0.0018 - attention_mae: 0.0162 - val_loss: 0.0027 - val_attention_mae: 0.0197\n",
            "Epoch 27/300\n",
            "23/23 [==============================] - ETA: 0s - loss: 0.0018 - attention_mae: 0.0156\n",
            "Epoch 27: val_loss improved from 0.00253 to 0.00242, saving model to /content/drive/MyDrive/Research/TAVI/Models/Curvature_2_Pressure_MultiViewUNet_I256_B16_LR0.001\n",
            "23/23 [==============================] - 20s 852ms/step - loss: 0.0018 - attention_mae: 0.0156 - val_loss: 0.0024 - val_attention_mae: 0.0160\n",
            "Epoch 28/300\n",
            "23/23 [==============================] - ETA: 0s - loss: 0.0018 - attention_mae: 0.0150\n",
            "Epoch 28: val_loss did not improve from 0.00242\n",
            "23/23 [==============================] - 19s 813ms/step - loss: 0.0018 - attention_mae: 0.0150 - val_loss: 0.0033 - val_attention_mae: 0.0234\n",
            "Epoch 29/300\n",
            "23/23 [==============================] - ETA: 0s - loss: 0.0018 - attention_mae: 0.0149\n",
            "Epoch 29: val_loss did not improve from 0.00242\n",
            "23/23 [==============================] - 19s 813ms/step - loss: 0.0018 - attention_mae: 0.0149 - val_loss: 0.0032 - val_attention_mae: 0.0196\n",
            "Epoch 30/300\n",
            "23/23 [==============================] - ETA: 0s - loss: 0.0017 - attention_mae: 0.0144\n",
            "Epoch 30: val_loss did not improve from 0.00242\n",
            "23/23 [==============================] - 19s 812ms/step - loss: 0.0017 - attention_mae: 0.0144 - val_loss: 0.0037 - val_attention_mae: 0.0242\n",
            "Epoch 31/300\n",
            "23/23 [==============================] - ETA: 0s - loss: 0.0018 - attention_mae: 0.0146\n",
            "Epoch 31: val_loss did not improve from 0.00242\n",
            "23/23 [==============================] - 19s 831ms/step - loss: 0.0018 - attention_mae: 0.0146 - val_loss: 0.0030 - val_attention_mae: 0.0180\n",
            "Epoch 32/300\n",
            "23/23 [==============================] - ETA: 0s - loss: 0.0017 - attention_mae: 0.0144\n",
            "Epoch 32: val_loss did not improve from 0.00242\n",
            "23/23 [==============================] - 19s 812ms/step - loss: 0.0017 - attention_mae: 0.0144 - val_loss: 0.0026 - val_attention_mae: 0.0170\n",
            "Epoch 33/300\n",
            "23/23 [==============================] - ETA: 0s - loss: 0.0017 - attention_mae: 0.0133\n",
            "Epoch 33: val_loss improved from 0.00242 to 0.00216, saving model to /content/drive/MyDrive/Research/TAVI/Models/Curvature_2_Pressure_MultiViewUNet_I256_B16_LR0.001\n",
            "23/23 [==============================] - 19s 846ms/step - loss: 0.0017 - attention_mae: 0.0133 - val_loss: 0.0022 - val_attention_mae: 0.0155\n",
            "Epoch 34/300\n",
            "23/23 [==============================] - ETA: 0s - loss: 0.0017 - attention_mae: 0.0132\n",
            "Epoch 34: val_loss did not improve from 0.00216\n",
            "23/23 [==============================] - 19s 815ms/step - loss: 0.0017 - attention_mae: 0.0132 - val_loss: 0.0023 - val_attention_mae: 0.0140\n",
            "Epoch 35/300\n",
            "23/23 [==============================] - ETA: 0s - loss: 0.0017 - attention_mae: 0.0131\n",
            "Epoch 35: val_loss improved from 0.00216 to 0.00214, saving model to /content/drive/MyDrive/Research/TAVI/Models/Curvature_2_Pressure_MultiViewUNet_I256_B16_LR0.001\n",
            "23/23 [==============================] - 20s 853ms/step - loss: 0.0017 - attention_mae: 0.0131 - val_loss: 0.0021 - val_attention_mae: 0.0154\n",
            "Epoch 36/300\n",
            "23/23 [==============================] - ETA: 0s - loss: 0.0017 - attention_mae: 0.0129\n",
            "Epoch 36: val_loss did not improve from 0.00214\n",
            "23/23 [==============================] - 19s 813ms/step - loss: 0.0017 - attention_mae: 0.0129 - val_loss: 0.0022 - val_attention_mae: 0.0153\n",
            "Epoch 37/300\n",
            "23/23 [==============================] - ETA: 0s - loss: 0.0016 - attention_mae: 0.0126\n",
            "Epoch 37: val_loss improved from 0.00214 to 0.00210, saving model to /content/drive/MyDrive/Research/TAVI/Models/Curvature_2_Pressure_MultiViewUNet_I256_B16_LR0.001\n",
            "23/23 [==============================] - 19s 846ms/step - loss: 0.0016 - attention_mae: 0.0126 - val_loss: 0.0021 - val_attention_mae: 0.0124\n",
            "Epoch 38/300\n",
            "23/23 [==============================] - ETA: 0s - loss: 0.0016 - attention_mae: 0.0121\n",
            "Epoch 38: val_loss improved from 0.00210 to 0.00209, saving model to /content/drive/MyDrive/Research/TAVI/Models/Curvature_2_Pressure_MultiViewUNet_I256_B16_LR0.001\n",
            "23/23 [==============================] - 20s 856ms/step - loss: 0.0016 - attention_mae: 0.0121 - val_loss: 0.0021 - val_attention_mae: 0.0137\n",
            "Epoch 39/300\n",
            "23/23 [==============================] - ETA: 0s - loss: 0.0016 - attention_mae: 0.0120\n",
            "Epoch 39: val_loss improved from 0.00209 to 0.00205, saving model to /content/drive/MyDrive/Research/TAVI/Models/Curvature_2_Pressure_MultiViewUNet_I256_B16_LR0.001\n",
            "23/23 [==============================] - 19s 840ms/step - loss: 0.0016 - attention_mae: 0.0120 - val_loss: 0.0020 - val_attention_mae: 0.0124\n",
            "Epoch 40/300\n",
            "23/23 [==============================] - ETA: 0s - loss: 0.0016 - attention_mae: 0.0122\n",
            "Epoch 40: val_loss did not improve from 0.00205\n",
            "23/23 [==============================] - 19s 832ms/step - loss: 0.0016 - attention_mae: 0.0122 - val_loss: 0.0022 - val_attention_mae: 0.0117\n",
            "Epoch 41/300\n",
            "23/23 [==============================] - ETA: 0s - loss: 0.0016 - attention_mae: 0.0117\n",
            "Epoch 41: val_loss did not improve from 0.00205\n",
            "23/23 [==============================] - 19s 813ms/step - loss: 0.0016 - attention_mae: 0.0117 - val_loss: 0.0022 - val_attention_mae: 0.0130\n",
            "Epoch 42/300\n",
            "23/23 [==============================] - ETA: 0s - loss: 0.0015 - attention_mae: 0.0117\n",
            "Epoch 42: val_loss did not improve from 0.00205\n",
            "23/23 [==============================] - 19s 813ms/step - loss: 0.0015 - attention_mae: 0.0117 - val_loss: 0.0022 - val_attention_mae: 0.0116\n",
            "Epoch 43/300\n",
            "23/23 [==============================] - ETA: 0s - loss: 0.0015 - attention_mae: 0.0114\n",
            "Epoch 43: val_loss improved from 0.00205 to 0.00204, saving model to /content/drive/MyDrive/Research/TAVI/Models/Curvature_2_Pressure_MultiViewUNet_I256_B16_LR0.001\n",
            "23/23 [==============================] - 20s 869ms/step - loss: 0.0015 - attention_mae: 0.0114 - val_loss: 0.0020 - val_attention_mae: 0.0116\n",
            "Epoch 44/300\n",
            "23/23 [==============================] - ETA: 0s - loss: 0.0015 - attention_mae: 0.0111\n",
            "Epoch 44: val_loss did not improve from 0.00204\n",
            "23/23 [==============================] - 19s 812ms/step - loss: 0.0015 - attention_mae: 0.0111 - val_loss: 0.0021 - val_attention_mae: 0.0120\n",
            "Epoch 45/300\n",
            "23/23 [==============================] - ETA: 0s - loss: 0.0015 - attention_mae: 0.0110\n",
            "Epoch 45: val_loss did not improve from 0.00204\n",
            "23/23 [==============================] - 19s 812ms/step - loss: 0.0015 - attention_mae: 0.0110 - val_loss: 0.0021 - val_attention_mae: 0.0122\n",
            "Epoch 46/300\n",
            "23/23 [==============================] - ETA: 0s - loss: 0.0015 - attention_mae: 0.0108\n",
            "Epoch 46: val_loss improved from 0.00204 to 0.00204, saving model to /content/drive/MyDrive/Research/TAVI/Models/Curvature_2_Pressure_MultiViewUNet_I256_B16_LR0.001\n",
            "23/23 [==============================] - 20s 863ms/step - loss: 0.0015 - attention_mae: 0.0108 - val_loss: 0.0020 - val_attention_mae: 0.0109\n",
            "Epoch 47/300\n",
            "23/23 [==============================] - ETA: 0s - loss: 0.0015 - attention_mae: 0.0108\n",
            "Epoch 47: val_loss did not improve from 0.00204\n",
            "23/23 [==============================] - 19s 812ms/step - loss: 0.0015 - attention_mae: 0.0108 - val_loss: 0.0022 - val_attention_mae: 0.0106\n",
            "Epoch 48/300\n",
            "23/23 [==============================] - ETA: 0s - loss: 0.0015 - attention_mae: 0.0106\n",
            "Epoch 48: val_loss did not improve from 0.00204\n",
            "23/23 [==============================] - 19s 813ms/step - loss: 0.0015 - attention_mae: 0.0106 - val_loss: 0.0021 - val_attention_mae: 0.0131\n",
            "Epoch 49/300\n",
            "23/23 [==============================] - ETA: 0s - loss: 0.0015 - attention_mae: 0.0107\n",
            "Epoch 49: val_loss improved from 0.00204 to 0.00200, saving model to /content/drive/MyDrive/Research/TAVI/Models/Curvature_2_Pressure_MultiViewUNet_I256_B16_LR0.001\n",
            "23/23 [==============================] - 19s 847ms/step - loss: 0.0015 - attention_mae: 0.0107 - val_loss: 0.0020 - val_attention_mae: 0.0103\n",
            "Epoch 50/300\n",
            "23/23 [==============================] - ETA: 0s - loss: 0.0014 - attention_mae: 0.0105\n",
            "Epoch 50: val_loss did not improve from 0.00200\n",
            "23/23 [==============================] - 19s 812ms/step - loss: 0.0014 - attention_mae: 0.0105 - val_loss: 0.0020 - val_attention_mae: 0.0111\n",
            "Epoch 51/300\n",
            "23/23 [==============================] - ETA: 0s - loss: 0.0015 - attention_mae: 0.0104\n",
            "Epoch 51: val_loss did not improve from 0.00200\n",
            "23/23 [==============================] - 19s 813ms/step - loss: 0.0015 - attention_mae: 0.0104 - val_loss: 0.0020 - val_attention_mae: 0.0094\n",
            "Epoch 52/300\n",
            "23/23 [==============================] - ETA: 0s - loss: 0.0014 - attention_mae: 0.0101\n",
            "Epoch 52: val_loss did not improve from 0.00200\n",
            "23/23 [==============================] - 19s 832ms/step - loss: 0.0014 - attention_mae: 0.0101 - val_loss: 0.0022 - val_attention_mae: 0.0109\n",
            "Epoch 53/300\n",
            "23/23 [==============================] - ETA: 0s - loss: 0.0014 - attention_mae: 0.0104\n",
            "Epoch 53: val_loss did not improve from 0.00200\n",
            "23/23 [==============================] - 19s 812ms/step - loss: 0.0014 - attention_mae: 0.0104 - val_loss: 0.0022 - val_attention_mae: 0.0103\n",
            "Epoch 54/300\n",
            "23/23 [==============================] - ETA: 0s - loss: 0.0014 - attention_mae: 0.0100\n",
            "Epoch 54: val_loss did not improve from 0.00200\n",
            "23/23 [==============================] - 19s 813ms/step - loss: 0.0014 - attention_mae: 0.0100 - val_loss: 0.0022 - val_attention_mae: 0.0100\n",
            "Epoch 55/300\n",
            "23/23 [==============================] - ETA: 0s - loss: 0.0014 - attention_mae: 0.0099\n",
            "Epoch 55: val_loss did not improve from 0.00200\n",
            "23/23 [==============================] - 19s 812ms/step - loss: 0.0014 - attention_mae: 0.0099 - val_loss: 0.0023 - val_attention_mae: 0.0151\n",
            "Epoch 56/300\n",
            "23/23 [==============================] - ETA: 0s - loss: 0.0014 - attention_mae: 0.0098\n",
            "Epoch 56: val_loss did not improve from 0.00200\n",
            "23/23 [==============================] - 19s 812ms/step - loss: 0.0014 - attention_mae: 0.0098 - val_loss: 0.0020 - val_attention_mae: 0.0107\n",
            "Epoch 57/300\n",
            "23/23 [==============================] - ETA: 0s - loss: 0.0014 - attention_mae: 0.0096\n",
            "Epoch 57: val_loss improved from 0.00200 to 0.00197, saving model to /content/drive/MyDrive/Research/TAVI/Models/Curvature_2_Pressure_MultiViewUNet_I256_B16_LR0.001\n",
            "23/23 [==============================] - 20s 856ms/step - loss: 0.0014 - attention_mae: 0.0096 - val_loss: 0.0020 - val_attention_mae: 0.0115\n",
            "Epoch 58/300\n",
            "23/23 [==============================] - ETA: 0s - loss: 0.0014 - attention_mae: 0.0095\n",
            "Epoch 58: val_loss did not improve from 0.00197\n",
            "23/23 [==============================] - 19s 833ms/step - loss: 0.0014 - attention_mae: 0.0095 - val_loss: 0.0024 - val_attention_mae: 0.0140\n",
            "Epoch 59/300\n",
            "23/23 [==============================] - ETA: 0s - loss: 0.0014 - attention_mae: 0.0094\n",
            "Epoch 59: val_loss did not improve from 0.00197\n",
            "23/23 [==============================] - 19s 812ms/step - loss: 0.0014 - attention_mae: 0.0094 - val_loss: 0.0020 - val_attention_mae: 0.0112\n",
            "Epoch 60/300\n",
            "23/23 [==============================] - ETA: 0s - loss: 0.0014 - attention_mae: 0.0092\n",
            "Epoch 60: val_loss improved from 0.00197 to 0.00196, saving model to /content/drive/MyDrive/Research/TAVI/Models/Curvature_2_Pressure_MultiViewUNet_I256_B16_LR0.001\n",
            "23/23 [==============================] - 19s 840ms/step - loss: 0.0014 - attention_mae: 0.0092 - val_loss: 0.0020 - val_attention_mae: 0.0108\n",
            "Epoch 61/300\n",
            "23/23 [==============================] - ETA: 0s - loss: 0.0013 - attention_mae: 0.0092\n",
            "Epoch 61: val_loss did not improve from 0.00196\n",
            "23/23 [==============================] - 19s 814ms/step - loss: 0.0013 - attention_mae: 0.0092 - val_loss: 0.0020 - val_attention_mae: 0.0102\n",
            "Epoch 62/300\n",
            "23/23 [==============================] - ETA: 0s - loss: 0.0013 - attention_mae: 0.0092\n",
            "Epoch 62: val_loss did not improve from 0.00196\n",
            "23/23 [==============================] - 19s 813ms/step - loss: 0.0013 - attention_mae: 0.0092 - val_loss: 0.0020 - val_attention_mae: 0.0117\n",
            "Epoch 63/300\n",
            "23/23 [==============================] - ETA: 0s - loss: 0.0013 - attention_mae: 0.0091\n",
            "Epoch 63: val_loss did not improve from 0.00196\n",
            "23/23 [==============================] - 19s 814ms/step - loss: 0.0013 - attention_mae: 0.0091 - val_loss: 0.0020 - val_attention_mae: 0.0123\n",
            "Epoch 64/300\n",
            "23/23 [==============================] - ETA: 0s - loss: 0.0013 - attention_mae: 0.0089\n",
            "Epoch 64: val_loss did not improve from 0.00196\n",
            "23/23 [==============================] - 19s 813ms/step - loss: 0.0013 - attention_mae: 0.0089 - val_loss: 0.0020 - val_attention_mae: 0.0102\n",
            "Epoch 65/300\n",
            "23/23 [==============================] - ETA: 0s - loss: 0.0013 - attention_mae: 0.0088\n",
            "Epoch 65: val_loss did not improve from 0.00196\n",
            "23/23 [==============================] - 19s 814ms/step - loss: 0.0013 - attention_mae: 0.0088 - val_loss: 0.0020 - val_attention_mae: 0.0104\n",
            "Epoch 66/300\n",
            "23/23 [==============================] - ETA: 0s - loss: 0.0013 - attention_mae: 0.0089\n",
            "Epoch 66: val_loss did not improve from 0.00196\n",
            "23/23 [==============================] - 19s 813ms/step - loss: 0.0013 - attention_mae: 0.0089 - val_loss: 0.0020 - val_attention_mae: 0.0121\n",
            "Epoch 67/300\n",
            "23/23 [==============================] - ETA: 0s - loss: 0.0013 - attention_mae: 0.0089\n",
            "Epoch 67: val_loss did not improve from 0.00196\n",
            "23/23 [==============================] - 19s 813ms/step - loss: 0.0013 - attention_mae: 0.0089 - val_loss: 0.0020 - val_attention_mae: 0.0120\n",
            "Epoch 68/300\n",
            "23/23 [==============================] - ETA: 0s - loss: 0.0013 - attention_mae: 0.0087\n",
            "Epoch 68: val_loss did not improve from 0.00196\n",
            "23/23 [==============================] - 19s 812ms/step - loss: 0.0013 - attention_mae: 0.0087 - val_loss: 0.0020 - val_attention_mae: 0.0110\n",
            "Epoch 69/300\n",
            "23/23 [==============================] - ETA: 0s - loss: 0.0013 - attention_mae: 0.0087\n",
            "Epoch 69: val_loss did not improve from 0.00196\n",
            "23/23 [==============================] - 19s 812ms/step - loss: 0.0013 - attention_mae: 0.0087 - val_loss: 0.0024 - val_attention_mae: 0.0110\n",
            "Epoch 70/300\n",
            "23/23 [==============================] - ETA: 0s - loss: 0.0013 - attention_mae: 0.0087\n",
            "Epoch 70: val_loss improved from 0.00196 to 0.00193, saving model to /content/drive/MyDrive/Research/TAVI/Models/Curvature_2_Pressure_MultiViewUNet_I256_B16_LR0.001\n",
            "23/23 [==============================] - 19s 841ms/step - loss: 0.0013 - attention_mae: 0.0087 - val_loss: 0.0019 - val_attention_mae: 0.0103\n",
            "Epoch 71/300\n",
            "23/23 [==============================] - ETA: 0s - loss: 0.0013 - attention_mae: 0.0083\n",
            "Epoch 71: val_loss did not improve from 0.00193\n",
            "23/23 [==============================] - 19s 814ms/step - loss: 0.0013 - attention_mae: 0.0083 - val_loss: 0.0020 - val_attention_mae: 0.0093\n",
            "Epoch 72/300\n",
            "23/23 [==============================] - ETA: 0s - loss: 0.0012 - attention_mae: 0.0083\n",
            "Epoch 72: val_loss did not improve from 0.00193\n",
            "23/23 [==============================] - 19s 813ms/step - loss: 0.0012 - attention_mae: 0.0083 - val_loss: 0.0020 - val_attention_mae: 0.0101\n",
            "Epoch 73/300\n",
            "23/23 [==============================] - ETA: 0s - loss: 0.0012 - attention_mae: 0.0082\n",
            "Epoch 73: val_loss did not improve from 0.00193\n",
            "23/23 [==============================] - 19s 833ms/step - loss: 0.0012 - attention_mae: 0.0082 - val_loss: 0.0021 - val_attention_mae: 0.0118\n",
            "Epoch 74/300\n",
            "23/23 [==============================] - ETA: 0s - loss: 0.0012 - attention_mae: 0.0084\n",
            "Epoch 74: val_loss did not improve from 0.00193\n",
            "23/23 [==============================] - 19s 813ms/step - loss: 0.0012 - attention_mae: 0.0084 - val_loss: 0.0020 - val_attention_mae: 0.0102\n",
            "Epoch 75/300\n",
            "23/23 [==============================] - ETA: 0s - loss: 0.0013 - attention_mae: 0.0084\n",
            "Epoch 75: val_loss did not improve from 0.00193\n",
            "23/23 [==============================] - 19s 814ms/step - loss: 0.0013 - attention_mae: 0.0084 - val_loss: 0.0020 - val_attention_mae: 0.0117\n",
            "Epoch 76/300\n",
            "23/23 [==============================] - ETA: 0s - loss: 0.0012 - attention_mae: 0.0081\n",
            "Epoch 76: val_loss did not improve from 0.00193\n",
            "23/23 [==============================] - 19s 814ms/step - loss: 0.0012 - attention_mae: 0.0081 - val_loss: 0.0024 - val_attention_mae: 0.0122\n",
            "Epoch 77/300\n",
            "23/23 [==============================] - ETA: 0s - loss: 0.0012 - attention_mae: 0.0081\n",
            "Epoch 77: val_loss did not improve from 0.00193\n",
            "23/23 [==============================] - 19s 814ms/step - loss: 0.0012 - attention_mae: 0.0081 - val_loss: 0.0022 - val_attention_mae: 0.0096\n",
            "Epoch 78/300\n",
            "23/23 [==============================] - ETA: 0s - loss: 0.0012 - attention_mae: 0.0081\n",
            "Epoch 78: val_loss did not improve from 0.00193\n",
            "23/23 [==============================] - 19s 812ms/step - loss: 0.0012 - attention_mae: 0.0081 - val_loss: 0.0021 - val_attention_mae: 0.0109\n",
            "Epoch 79/300\n",
            "23/23 [==============================] - ETA: 0s - loss: 0.0012 - attention_mae: 0.0078\n",
            "Epoch 79: val_loss did not improve from 0.00193\n",
            "23/23 [==============================] - 19s 834ms/step - loss: 0.0012 - attention_mae: 0.0078 - val_loss: 0.0019 - val_attention_mae: 0.0091\n",
            "Epoch 80/300\n",
            "23/23 [==============================] - ETA: 0s - loss: 0.0012 - attention_mae: 0.0078\n",
            "Epoch 80: val_loss did not improve from 0.00193\n",
            "23/23 [==============================] - 19s 813ms/step - loss: 0.0012 - attention_mae: 0.0078 - val_loss: 0.0020 - val_attention_mae: 0.0098\n",
            "Epoch 81/300\n",
            "23/23 [==============================] - ETA: 0s - loss: 0.0012 - attention_mae: 0.0077\n",
            "Epoch 81: val_loss did not improve from 0.00193\n",
            "23/23 [==============================] - 19s 813ms/step - loss: 0.0012 - attention_mae: 0.0077 - val_loss: 0.0020 - val_attention_mae: 0.0100\n",
            "Epoch 82/300\n",
            "23/23 [==============================] - ETA: 0s - loss: 0.0012 - attention_mae: 0.0076\n",
            "Epoch 82: val_loss did not improve from 0.00193\n",
            "23/23 [==============================] - 19s 814ms/step - loss: 0.0012 - attention_mae: 0.0076 - val_loss: 0.0022 - val_attention_mae: 0.0127\n",
            "Epoch 83/300\n",
            "23/23 [==============================] - ETA: 0s - loss: 0.0011 - attention_mae: 0.0075\n",
            "Epoch 83: val_loss did not improve from 0.00193\n",
            "23/23 [==============================] - 19s 813ms/step - loss: 0.0011 - attention_mae: 0.0075 - val_loss: 0.0019 - val_attention_mae: 0.0103\n",
            "Epoch 84/300\n",
            "23/23 [==============================] - ETA: 0s - loss: 0.0012 - attention_mae: 0.0078\n",
            "Epoch 84: val_loss did not improve from 0.00193\n",
            "23/23 [==============================] - 19s 833ms/step - loss: 0.0012 - attention_mae: 0.0078 - val_loss: 0.0019 - val_attention_mae: 0.0100\n",
            "Epoch 85/300\n",
            "23/23 [==============================] - ETA: 0s - loss: 0.0011 - attention_mae: 0.0073\n",
            "Epoch 85: val_loss did not improve from 0.00193\n",
            "23/23 [==============================] - 19s 813ms/step - loss: 0.0011 - attention_mae: 0.0073 - val_loss: 0.0021 - val_attention_mae: 0.0107\n",
            "Epoch 86/300\n",
            "23/23 [==============================] - ETA: 0s - loss: 0.0011 - attention_mae: 0.0074\n",
            "Epoch 86: val_loss did not improve from 0.00193\n",
            "23/23 [==============================] - 19s 812ms/step - loss: 0.0011 - attention_mae: 0.0074 - val_loss: 0.0019 - val_attention_mae: 0.0086\n",
            "Epoch 87/300\n",
            "23/23 [==============================] - ETA: 0s - loss: 0.0011 - attention_mae: 0.0073\n",
            "Epoch 87: val_loss did not improve from 0.00193\n",
            "23/23 [==============================] - 19s 813ms/step - loss: 0.0011 - attention_mae: 0.0073 - val_loss: 0.0020 - val_attention_mae: 0.0088\n",
            "Epoch 88/300\n",
            "23/23 [==============================] - ETA: 0s - loss: 0.0011 - attention_mae: 0.0075\n",
            "Epoch 88: val_loss did not improve from 0.00193\n",
            "23/23 [==============================] - 19s 813ms/step - loss: 0.0011 - attention_mae: 0.0075 - val_loss: 0.0021 - val_attention_mae: 0.0108\n",
            "Epoch 89/300\n",
            "23/23 [==============================] - ETA: 0s - loss: 0.0011 - attention_mae: 0.0074\n",
            "Epoch 89: val_loss did not improve from 0.00193\n",
            "23/23 [==============================] - 19s 813ms/step - loss: 0.0011 - attention_mae: 0.0074 - val_loss: 0.0020 - val_attention_mae: 0.0099\n",
            "Epoch 90/300\n",
            "23/23 [==============================] - ETA: 0s - loss: 0.0011 - attention_mae: 0.0073\n",
            "Epoch 90: val_loss did not improve from 0.00193\n",
            "23/23 [==============================] - 19s 811ms/step - loss: 0.0011 - attention_mae: 0.0073 - val_loss: 0.0020 - val_attention_mae: 0.0089\n",
            "Epoch 91/300\n",
            "23/23 [==============================] - ETA: 0s - loss: 0.0011 - attention_mae: 0.0072\n",
            "Epoch 91: val_loss did not improve from 0.00193\n",
            "23/23 [==============================] - 19s 811ms/step - loss: 0.0011 - attention_mae: 0.0072 - val_loss: 0.0019 - val_attention_mae: 0.0091\n",
            "Epoch 92/300\n",
            "23/23 [==============================] - ETA: 0s - loss: 0.0011 - attention_mae: 0.0075\n",
            "Epoch 92: val_loss did not improve from 0.00193\n",
            "23/23 [==============================] - 19s 830ms/step - loss: 0.0011 - attention_mae: 0.0075 - val_loss: 0.0020 - val_attention_mae: 0.0091\n",
            "Epoch 93/300\n",
            "23/23 [==============================] - ETA: 0s - loss: 0.0011 - attention_mae: 0.0070\n",
            "Epoch 93: val_loss did not improve from 0.00193\n",
            "23/23 [==============================] - 19s 812ms/step - loss: 0.0011 - attention_mae: 0.0070 - val_loss: 0.0020 - val_attention_mae: 0.0088\n",
            "Epoch 94/300\n",
            "23/23 [==============================] - ETA: 0s - loss: 0.0011 - attention_mae: 0.0069\n",
            "Epoch 94: val_loss did not improve from 0.00193\n",
            "23/23 [==============================] - 19s 812ms/step - loss: 0.0011 - attention_mae: 0.0069 - val_loss: 0.0019 - val_attention_mae: 0.0088\n",
            "Epoch 95/300\n",
            "23/23 [==============================] - ETA: 0s - loss: 0.0011 - attention_mae: 0.0068\n",
            "Epoch 95: val_loss did not improve from 0.00193\n",
            "23/23 [==============================] - 19s 813ms/step - loss: 0.0011 - attention_mae: 0.0068 - val_loss: 0.0020 - val_attention_mae: 0.0089\n",
            "Epoch 96/300\n",
            "23/23 [==============================] - ETA: 0s - loss: 0.0011 - attention_mae: 0.0069\n",
            "Epoch 96: val_loss did not improve from 0.00193\n",
            "23/23 [==============================] - 19s 813ms/step - loss: 0.0011 - attention_mae: 0.0069 - val_loss: 0.0020 - val_attention_mae: 0.0093\n",
            "Epoch 97/300\n",
            "23/23 [==============================] - ETA: 0s - loss: 0.0011 - attention_mae: 0.0069\n",
            "Epoch 97: val_loss improved from 0.00193 to 0.00193, saving model to /content/drive/MyDrive/Research/TAVI/Models/Curvature_2_Pressure_MultiViewUNet_I256_B16_LR0.001\n",
            "23/23 [==============================] - 19s 844ms/step - loss: 0.0011 - attention_mae: 0.0069 - val_loss: 0.0019 - val_attention_mae: 0.0084\n",
            "Epoch 98/300\n",
            "23/23 [==============================] - ETA: 0s - loss: 0.0010 - attention_mae: 0.0067\n",
            "Epoch 98: val_loss did not improve from 0.00193\n",
            "23/23 [==============================] - 19s 813ms/step - loss: 0.0010 - attention_mae: 0.0067 - val_loss: 0.0021 - val_attention_mae: 0.0086\n",
            "Epoch 99/300\n",
            "23/23 [==============================] - ETA: 0s - loss: 0.0010 - attention_mae: 0.0067\n",
            "Epoch 99: val_loss did not improve from 0.00193\n",
            "23/23 [==============================] - 19s 812ms/step - loss: 0.0010 - attention_mae: 0.0067 - val_loss: 0.0020 - val_attention_mae: 0.0089\n",
            "Epoch 100/300\n",
            "23/23 [==============================] - ETA: 0s - loss: 0.0010 - attention_mae: 0.0068\n",
            "Epoch 100: val_loss did not improve from 0.00193\n",
            "23/23 [==============================] - 19s 813ms/step - loss: 0.0010 - attention_mae: 0.0068 - val_loss: 0.0022 - val_attention_mae: 0.0098\n",
            "Epoch 101/300\n",
            "23/23 [==============================] - ETA: 0s - loss: 0.0010 - attention_mae: 0.0069\n",
            "Epoch 101: val_loss did not improve from 0.00193\n",
            "23/23 [==============================] - 19s 835ms/step - loss: 0.0010 - attention_mae: 0.0069 - val_loss: 0.0020 - val_attention_mae: 0.0081\n",
            "Epoch 102/300\n",
            "23/23 [==============================] - ETA: 0s - loss: 0.0011 - attention_mae: 0.0067\n",
            "Epoch 102: val_loss did not improve from 0.00193\n",
            "23/23 [==============================] - 19s 828ms/step - loss: 0.0011 - attention_mae: 0.0067 - val_loss: 0.0020 - val_attention_mae: 0.0089\n",
            "Epoch 103/300\n",
            "23/23 [==============================] - ETA: 0s - loss: 0.0010 - attention_mae: 0.0066\n",
            "Epoch 103: val_loss improved from 0.00193 to 0.00192, saving model to /content/drive/MyDrive/Research/TAVI/Models/Curvature_2_Pressure_MultiViewUNet_I256_B16_LR0.001\n",
            "23/23 [==============================] - 19s 840ms/step - loss: 0.0010 - attention_mae: 0.0066 - val_loss: 0.0019 - val_attention_mae: 0.0094\n",
            "Epoch 104/300\n",
            "23/23 [==============================] - ETA: 0s - loss: 0.0010 - attention_mae: 0.0066\n",
            "Epoch 104: val_loss did not improve from 0.00192\n",
            "23/23 [==============================] - 19s 833ms/step - loss: 0.0010 - attention_mae: 0.0066 - val_loss: 0.0019 - val_attention_mae: 0.0083\n",
            "Epoch 105/300\n",
            "23/23 [==============================] - ETA: 0s - loss: 0.0010 - attention_mae: 0.0065\n",
            "Epoch 105: val_loss did not improve from 0.00192\n",
            "23/23 [==============================] - 19s 812ms/step - loss: 0.0010 - attention_mae: 0.0065 - val_loss: 0.0020 - val_attention_mae: 0.0084\n",
            "Epoch 106/300\n",
            "23/23 [==============================] - ETA: 0s - loss: 9.8957e-04 - attention_mae: 0.0064\n",
            "Epoch 106: val_loss did not improve from 0.00192\n",
            "23/23 [==============================] - 19s 814ms/step - loss: 9.8957e-04 - attention_mae: 0.0064 - val_loss: 0.0020 - val_attention_mae: 0.0086\n",
            "Epoch 107/300\n",
            "23/23 [==============================] - ETA: 0s - loss: 9.9301e-04 - attention_mae: 0.0067\n",
            "Epoch 107: val_loss did not improve from 0.00192\n",
            "23/23 [==============================] - 19s 814ms/step - loss: 9.9301e-04 - attention_mae: 0.0067 - val_loss: 0.0021 - val_attention_mae: 0.0085\n",
            "Epoch 108/300\n",
            "23/23 [==============================] - ETA: 0s - loss: 9.8472e-04 - attention_mae: 0.0064\n",
            "Epoch 108: val_loss did not improve from 0.00192\n",
            "23/23 [==============================] - 19s 813ms/step - loss: 9.8472e-04 - attention_mae: 0.0064 - val_loss: 0.0020 - val_attention_mae: 0.0085\n",
            "Epoch 109/300\n",
            "23/23 [==============================] - ETA: 0s - loss: 9.7762e-04 - attention_mae: 0.0062\n",
            "Epoch 109: val_loss did not improve from 0.00192\n",
            "23/23 [==============================] - 19s 813ms/step - loss: 9.7762e-04 - attention_mae: 0.0062 - val_loss: 0.0021 - val_attention_mae: 0.0086\n",
            "Epoch 110/300\n",
            "23/23 [==============================] - ETA: 0s - loss: 9.6866e-04 - attention_mae: 0.0063\n",
            "Epoch 110: val_loss did not improve from 0.00192\n",
            "23/23 [==============================] - 19s 813ms/step - loss: 9.6866e-04 - attention_mae: 0.0063 - val_loss: 0.0021 - val_attention_mae: 0.0090\n",
            "Epoch 111/300\n",
            "23/23 [==============================] - ETA: 0s - loss: 9.8231e-04 - attention_mae: 0.0063\n",
            "Epoch 111: val_loss did not improve from 0.00192\n",
            "23/23 [==============================] - 19s 832ms/step - loss: 9.8231e-04 - attention_mae: 0.0063 - val_loss: 0.0021 - val_attention_mae: 0.0095\n",
            "Epoch 112/300\n",
            "23/23 [==============================] - ETA: 0s - loss: 9.7345e-04 - attention_mae: 0.0062\n",
            "Epoch 112: val_loss did not improve from 0.00192\n",
            "23/23 [==============================] - 19s 813ms/step - loss: 9.7345e-04 - attention_mae: 0.0062 - val_loss: 0.0020 - val_attention_mae: 0.0086\n",
            "Epoch 113/300\n",
            "23/23 [==============================] - ETA: 0s - loss: 9.7475e-04 - attention_mae: 0.0062\n",
            "Epoch 113: val_loss did not improve from 0.00192\n",
            "23/23 [==============================] - 19s 811ms/step - loss: 9.7475e-04 - attention_mae: 0.0062 - val_loss: 0.0020 - val_attention_mae: 0.0086\n",
            "Epoch 114/300\n",
            "23/23 [==============================] - ETA: 0s - loss: 9.5384e-04 - attention_mae: 0.0060\n",
            "Epoch 114: val_loss did not improve from 0.00192\n",
            "23/23 [==============================] - 19s 813ms/step - loss: 9.5384e-04 - attention_mae: 0.0060 - val_loss: 0.0020 - val_attention_mae: 0.0090\n",
            "Epoch 115/300\n",
            "23/23 [==============================] - ETA: 0s - loss: 9.6499e-04 - attention_mae: 0.0064\n",
            "Epoch 115: val_loss did not improve from 0.00192\n",
            "23/23 [==============================] - 19s 815ms/step - loss: 9.6499e-04 - attention_mae: 0.0064 - val_loss: 0.0020 - val_attention_mae: 0.0088\n",
            "Epoch 116/300\n",
            "23/23 [==============================] - ETA: 0s - loss: 9.6625e-04 - attention_mae: 0.0067\n",
            "Epoch 116: val_loss did not improve from 0.00192\n",
            "23/23 [==============================] - 19s 814ms/step - loss: 9.6625e-04 - attention_mae: 0.0067 - val_loss: 0.0020 - val_attention_mae: 0.0080\n",
            "Epoch 117/300\n",
            "23/23 [==============================] - ETA: 0s - loss: 9.4865e-04 - attention_mae: 0.0061\n",
            "Epoch 117: val_loss did not improve from 0.00192\n",
            "23/23 [==============================] - 19s 813ms/step - loss: 9.4865e-04 - attention_mae: 0.0061 - val_loss: 0.0020 - val_attention_mae: 0.0079\n",
            "Epoch 118/300\n",
            "23/23 [==============================] - ETA: 0s - loss: 9.2817e-04 - attention_mae: 0.0059\n",
            "Epoch 118: val_loss did not improve from 0.00192\n",
            "23/23 [==============================] - 19s 813ms/step - loss: 9.2817e-04 - attention_mae: 0.0059 - val_loss: 0.0020 - val_attention_mae: 0.0079\n",
            "Epoch 119/300\n",
            "23/23 [==============================] - ETA: 0s - loss: 9.2853e-04 - attention_mae: 0.0062\n",
            "Epoch 119: val_loss did not improve from 0.00192\n",
            "23/23 [==============================] - 19s 813ms/step - loss: 9.2853e-04 - attention_mae: 0.0062 - val_loss: 0.0020 - val_attention_mae: 0.0083\n",
            "Epoch 120/300\n",
            "23/23 [==============================] - ETA: 0s - loss: 9.1938e-04 - attention_mae: 0.0059\n",
            "Epoch 120: val_loss did not improve from 0.00192\n",
            "23/23 [==============================] - 19s 834ms/step - loss: 9.1938e-04 - attention_mae: 0.0059 - val_loss: 0.0020 - val_attention_mae: 0.0072\n",
            "Epoch 121/300\n",
            "23/23 [==============================] - ETA: 0s - loss: 9.2671e-04 - attention_mae: 0.0061\n",
            "Epoch 121: val_loss did not improve from 0.00192\n",
            "23/23 [==============================] - 19s 813ms/step - loss: 9.2671e-04 - attention_mae: 0.0061 - val_loss: 0.0022 - val_attention_mae: 0.0083\n",
            "Epoch 122/300\n",
            "23/23 [==============================] - ETA: 0s - loss: 9.1331e-04 - attention_mae: 0.0060\n",
            "Epoch 122: val_loss did not improve from 0.00192\n",
            "23/23 [==============================] - 19s 832ms/step - loss: 9.1331e-04 - attention_mae: 0.0060 - val_loss: 0.0021 - val_attention_mae: 0.0077\n",
            "Epoch 123/300\n",
            "23/23 [==============================] - ETA: 0s - loss: 9.1269e-04 - attention_mae: 0.0060\n",
            "Epoch 123: val_loss did not improve from 0.00192\n",
            "23/23 [==============================] - 19s 812ms/step - loss: 9.1269e-04 - attention_mae: 0.0060 - val_loss: 0.0020 - val_attention_mae: 0.0077\n",
            "Epoch 124/300\n",
            "23/23 [==============================] - ETA: 0s - loss: 9.0043e-04 - attention_mae: 0.0059\n",
            "Epoch 124: val_loss did not improve from 0.00192\n",
            "23/23 [==============================] - 19s 813ms/step - loss: 9.0043e-04 - attention_mae: 0.0059 - val_loss: 0.0020 - val_attention_mae: 0.0076\n",
            "Epoch 125/300\n",
            "23/23 [==============================] - ETA: 0s - loss: 9.0456e-04 - attention_mae: 0.0058\n",
            "Epoch 125: val_loss did not improve from 0.00192\n",
            "23/23 [==============================] - 19s 814ms/step - loss: 9.0456e-04 - attention_mae: 0.0058 - val_loss: 0.0020 - val_attention_mae: 0.0072\n",
            "Epoch 126/300\n",
            "23/23 [==============================] - ETA: 0s - loss: 8.9640e-04 - attention_mae: 0.0056\n",
            "Epoch 126: val_loss did not improve from 0.00192\n",
            "23/23 [==============================] - 19s 812ms/step - loss: 8.9640e-04 - attention_mae: 0.0056 - val_loss: 0.0022 - val_attention_mae: 0.0074\n",
            "Epoch 127/300\n",
            "23/23 [==============================] - ETA: 0s - loss: 8.9526e-04 - attention_mae: 0.0057\n",
            "Epoch 127: val_loss did not improve from 0.00192\n",
            "23/23 [==============================] - 19s 813ms/step - loss: 8.9526e-04 - attention_mae: 0.0057 - val_loss: 0.0021 - val_attention_mae: 0.0083\n",
            "Epoch 128/300\n",
            "23/23 [==============================] - ETA: 0s - loss: 8.9026e-04 - attention_mae: 0.0057\n",
            "Epoch 128: val_loss did not improve from 0.00192\n",
            "23/23 [==============================] - 19s 815ms/step - loss: 8.9026e-04 - attention_mae: 0.0057 - val_loss: 0.0020 - val_attention_mae: 0.0075\n",
            "Epoch 129/300\n",
            "23/23 [==============================] - ETA: 0s - loss: 8.8239e-04 - attention_mae: 0.0057\n",
            "Epoch 129: val_loss did not improve from 0.00192\n",
            "23/23 [==============================] - 19s 815ms/step - loss: 8.8239e-04 - attention_mae: 0.0057 - val_loss: 0.0020 - val_attention_mae: 0.0078\n",
            "Epoch 130/300\n",
            "23/23 [==============================] - ETA: 0s - loss: 8.8691e-04 - attention_mae: 0.0055\n",
            "Epoch 130: val_loss did not improve from 0.00192\n",
            "23/23 [==============================] - 19s 813ms/step - loss: 8.8691e-04 - attention_mae: 0.0055 - val_loss: 0.0020 - val_attention_mae: 0.0075\n",
            "Epoch 131/300\n",
            "23/23 [==============================] - ETA: 0s - loss: 8.8107e-04 - attention_mae: 0.0055\n",
            "Epoch 131: val_loss did not improve from 0.00192\n",
            "23/23 [==============================] - 19s 814ms/step - loss: 8.8107e-04 - attention_mae: 0.0055 - val_loss: 0.0021 - val_attention_mae: 0.0090\n",
            "Epoch 132/300\n",
            "23/23 [==============================] - ETA: 0s - loss: 9.4691e-04 - attention_mae: 0.0063\n",
            "Epoch 132: val_loss did not improve from 0.00192\n",
            "23/23 [==============================] - 19s 814ms/step - loss: 9.4691e-04 - attention_mae: 0.0063 - val_loss: 0.0020 - val_attention_mae: 0.0087\n",
            "Epoch 133/300\n",
            "23/23 [==============================] - ETA: 0s - loss: 9.0365e-04 - attention_mae: 0.0059\n",
            "Epoch 133: val_loss did not improve from 0.00192\n",
            "23/23 [==============================] - 19s 819ms/step - loss: 9.0365e-04 - attention_mae: 0.0059 - val_loss: 0.0021 - val_attention_mae: 0.0089\n"
          ]
        }
      ],
      "source": [
        "history = model.fit(\n",
        "    train_batches,\n",
        "    validation_data=test_batches,\n",
        "    epochs=N_EPOCHS,\n",
        "    batch_size=BATCH_SIZE,\n",
        "    callbacks=callbacks,\n",
        "    verbose=1\n",
        ")\n"
      ]
    },
    {
      "cell_type": "markdown",
      "metadata": {
        "id": "o0izY6BrsY8U"
      },
      "source": [
        "# Save Model"
      ]
    },
    {
      "cell_type": "code",
      "execution_count": 16,
      "metadata": {
        "id": "BriaW2DnsY8V"
      },
      "outputs": [],
      "source": [
        "timestamp = datetime.datetime.now().strftime('%b-%d-%I:%M%p')\n",
        "if not os.path.exists(model_path):\n",
        "    os.makedirs(model_path)\n",
        "\n",
        "model.save(os.path.join(model_path, timestamp))"
      ]
    },
    {
      "cell_type": "code",
      "source": [
        "model_path"
      ],
      "metadata": {
        "id": "3IADrMxkC9v2",
        "outputId": "3e2f1de1-2762-420b-eccc-0f9cad61eaba",
        "colab": {
          "base_uri": "https://localhost:8080/",
          "height": 36
        }
      },
      "execution_count": 17,
      "outputs": [
        {
          "output_type": "execute_result",
          "data": {
            "text/plain": [
              "'/content/drive/MyDrive/Research/TAVI/Models/Curvature_2_Pressure_MultiViewUNet_I256_B16_LR0.001'"
            ],
            "application/vnd.google.colaboratory.intrinsic+json": {
              "type": "string"
            }
          },
          "metadata": {},
          "execution_count": 17
        }
      ]
    },
    {
      "cell_type": "markdown",
      "metadata": {
        "id": "i_Oi8OvMsY8V"
      },
      "source": [
        "# Save Predictions"
      ]
    },
    {
      "cell_type": "code",
      "execution_count": 18,
      "metadata": {
        "id": "lvBEcrXCsY8V",
        "outputId": "8a44cd3d-8d90-405e-b6c0-7436e7f59472",
        "colab": {
          "base_uri": "https://localhost:8080/"
        }
      },
      "outputs": [
        {
          "output_type": "stream",
          "name": "stderr",
          "text": [
            "\r0it [00:00, ?it/s]"
          ]
        },
        {
          "output_type": "stream",
          "name": "stdout",
          "text": [
            "1/1 [==============================] - 2s 2s/step\n"
          ]
        },
        {
          "output_type": "stream",
          "name": "stderr",
          "text": [
            "\r1it [00:02,  2.38s/it]"
          ]
        },
        {
          "output_type": "stream",
          "name": "stdout",
          "text": [
            "1/1 [==============================] - 0s 21ms/step\n"
          ]
        },
        {
          "output_type": "stream",
          "name": "stderr",
          "text": [
            "\r2it [00:02,  1.21s/it]"
          ]
        },
        {
          "output_type": "stream",
          "name": "stdout",
          "text": [
            "1/1 [==============================] - 0s 21ms/step\n"
          ]
        },
        {
          "output_type": "stream",
          "name": "stderr",
          "text": [
            "\r3it [00:03,  1.20it/s]"
          ]
        },
        {
          "output_type": "stream",
          "name": "stdout",
          "text": [
            "1/1 [==============================] - 0s 21ms/step\n"
          ]
        },
        {
          "output_type": "stream",
          "name": "stderr",
          "text": [
            "\r4it [00:03,  1.53it/s]"
          ]
        },
        {
          "output_type": "stream",
          "name": "stdout",
          "text": [
            "1/1 [==============================] - 0s 22ms/step\n"
          ]
        },
        {
          "output_type": "stream",
          "name": "stderr",
          "text": [
            "\r5it [00:03,  1.79it/s]"
          ]
        },
        {
          "output_type": "stream",
          "name": "stdout",
          "text": [
            "1/1 [==============================] - 0s 21ms/step\n"
          ]
        },
        {
          "output_type": "stream",
          "name": "stderr",
          "text": [
            "\r6it [00:04,  2.00it/s]"
          ]
        },
        {
          "output_type": "stream",
          "name": "stdout",
          "text": [
            "1/1 [==============================] - 0s 25ms/step\n"
          ]
        },
        {
          "output_type": "stream",
          "name": "stderr",
          "text": [
            "\r7it [00:04,  2.13it/s]"
          ]
        },
        {
          "output_type": "stream",
          "name": "stdout",
          "text": [
            "1/1 [==============================] - 0s 21ms/step\n"
          ]
        },
        {
          "output_type": "stream",
          "name": "stderr",
          "text": [
            "\r8it [00:05,  2.22it/s]"
          ]
        },
        {
          "output_type": "stream",
          "name": "stdout",
          "text": [
            "1/1 [==============================] - 0s 21ms/step\n"
          ]
        },
        {
          "output_type": "stream",
          "name": "stderr",
          "text": [
            "\r9it [00:05,  2.24it/s]"
          ]
        },
        {
          "output_type": "stream",
          "name": "stdout",
          "text": [
            "1/1 [==============================] - 0s 21ms/step\n"
          ]
        },
        {
          "output_type": "stream",
          "name": "stderr",
          "text": [
            "\r10it [00:05,  2.32it/s]"
          ]
        },
        {
          "output_type": "stream",
          "name": "stdout",
          "text": [
            "1/1 [==============================] - 0s 23ms/step\n"
          ]
        },
        {
          "output_type": "stream",
          "name": "stderr",
          "text": [
            "\r11it [00:06,  2.35it/s]"
          ]
        },
        {
          "output_type": "stream",
          "name": "stdout",
          "text": [
            "1/1 [==============================] - 0s 37ms/step\n"
          ]
        },
        {
          "output_type": "stream",
          "name": "stderr",
          "text": [
            "\r12it [00:06,  2.31it/s]"
          ]
        },
        {
          "output_type": "stream",
          "name": "stdout",
          "text": [
            "1/1 [==============================] - 0s 28ms/step\n"
          ]
        },
        {
          "output_type": "stream",
          "name": "stderr",
          "text": [
            "\r13it [00:07,  2.15it/s]"
          ]
        },
        {
          "output_type": "stream",
          "name": "stdout",
          "text": [
            "1/1 [==============================] - 0s 33ms/step\n"
          ]
        },
        {
          "output_type": "stream",
          "name": "stderr",
          "text": [
            "\r14it [00:07,  2.09it/s]"
          ]
        },
        {
          "output_type": "stream",
          "name": "stdout",
          "text": [
            "1/1 [==============================] - 0s 24ms/step\n"
          ]
        },
        {
          "output_type": "stream",
          "name": "stderr",
          "text": [
            "\r15it [00:08,  2.20it/s]"
          ]
        },
        {
          "output_type": "stream",
          "name": "stdout",
          "text": [
            "1/1 [==============================] - 0s 32ms/step\n"
          ]
        },
        {
          "output_type": "stream",
          "name": "stderr",
          "text": [
            "\r16it [00:08,  2.05it/s]"
          ]
        },
        {
          "output_type": "stream",
          "name": "stdout",
          "text": [
            "1/1 [==============================] - 0s 31ms/step\n"
          ]
        },
        {
          "output_type": "stream",
          "name": "stderr",
          "text": [
            "\r17it [00:09,  1.87it/s]"
          ]
        },
        {
          "output_type": "stream",
          "name": "stdout",
          "text": [
            "1/1 [==============================] - 0s 36ms/step\n"
          ]
        },
        {
          "output_type": "stream",
          "name": "stderr",
          "text": [
            "\r18it [00:10,  1.79it/s]"
          ]
        },
        {
          "output_type": "stream",
          "name": "stdout",
          "text": [
            "1/1 [==============================] - 0s 32ms/step\n"
          ]
        },
        {
          "output_type": "stream",
          "name": "stderr",
          "text": [
            "\r19it [00:10,  1.78it/s]"
          ]
        },
        {
          "output_type": "stream",
          "name": "stdout",
          "text": [
            "1/1 [==============================] - 0s 35ms/step\n"
          ]
        },
        {
          "output_type": "stream",
          "name": "stderr",
          "text": [
            "\r20it [00:11,  1.72it/s]"
          ]
        },
        {
          "output_type": "stream",
          "name": "stdout",
          "text": [
            "1/1 [==============================] - 0s 30ms/step\n"
          ]
        },
        {
          "output_type": "stream",
          "name": "stderr",
          "text": [
            "\r21it [00:11,  1.68it/s]"
          ]
        },
        {
          "output_type": "stream",
          "name": "stdout",
          "text": [
            "1/1 [==============================] - 0s 34ms/step\n"
          ]
        },
        {
          "output_type": "stream",
          "name": "stderr",
          "text": [
            "\r22it [00:12,  1.61it/s]"
          ]
        },
        {
          "output_type": "stream",
          "name": "stdout",
          "text": [
            "1/1 [==============================] - 0s 38ms/step\n"
          ]
        },
        {
          "output_type": "stream",
          "name": "stderr",
          "text": [
            "\r23it [00:13,  1.61it/s]"
          ]
        },
        {
          "output_type": "stream",
          "name": "stdout",
          "text": [
            "1/1 [==============================] - 0s 26ms/step\n"
          ]
        },
        {
          "output_type": "stream",
          "name": "stderr",
          "text": [
            "\r24it [00:13,  1.75it/s]"
          ]
        },
        {
          "output_type": "stream",
          "name": "stdout",
          "text": [
            "1/1 [==============================] - 0s 25ms/step\n"
          ]
        },
        {
          "output_type": "stream",
          "name": "stderr",
          "text": [
            "\r25it [00:14,  1.87it/s]"
          ]
        },
        {
          "output_type": "stream",
          "name": "stdout",
          "text": [
            "1/1 [==============================] - 0s 21ms/step\n"
          ]
        },
        {
          "output_type": "stream",
          "name": "stderr",
          "text": [
            "\r26it [00:14,  2.03it/s]"
          ]
        },
        {
          "output_type": "stream",
          "name": "stdout",
          "text": [
            "1/1 [==============================] - 0s 24ms/step\n"
          ]
        },
        {
          "output_type": "stream",
          "name": "stderr",
          "text": [
            "\r27it [00:14,  2.10it/s]"
          ]
        },
        {
          "output_type": "stream",
          "name": "stdout",
          "text": [
            "1/1 [==============================] - 0s 23ms/step\n"
          ]
        },
        {
          "output_type": "stream",
          "name": "stderr",
          "text": [
            "\r28it [00:15,  1.66it/s]"
          ]
        },
        {
          "output_type": "stream",
          "name": "stdout",
          "text": [
            "1/1 [==============================] - 0s 24ms/step\n"
          ]
        },
        {
          "output_type": "stream",
          "name": "stderr",
          "text": [
            "\r29it [00:16,  1.85it/s]"
          ]
        },
        {
          "output_type": "stream",
          "name": "stdout",
          "text": [
            "1/1 [==============================] - 0s 25ms/step\n"
          ]
        },
        {
          "output_type": "stream",
          "name": "stderr",
          "text": [
            "\r30it [00:16,  1.96it/s]"
          ]
        },
        {
          "output_type": "stream",
          "name": "stdout",
          "text": [
            "1/1 [==============================] - 0s 31ms/step\n"
          ]
        },
        {
          "output_type": "stream",
          "name": "stderr",
          "text": [
            "\r31it [00:17,  2.02it/s]"
          ]
        },
        {
          "output_type": "stream",
          "name": "stdout",
          "text": [
            "1/1 [==============================] - 0s 22ms/step\n"
          ]
        },
        {
          "output_type": "stream",
          "name": "stderr",
          "text": [
            "\r32it [00:17,  2.15it/s]"
          ]
        },
        {
          "output_type": "stream",
          "name": "stdout",
          "text": [
            "1/1 [==============================] - 0s 27ms/step\n"
          ]
        },
        {
          "output_type": "stream",
          "name": "stderr",
          "text": [
            "\r33it [00:17,  2.22it/s]"
          ]
        },
        {
          "output_type": "stream",
          "name": "stdout",
          "text": [
            "1/1 [==============================] - 0s 23ms/step\n"
          ]
        },
        {
          "output_type": "stream",
          "name": "stderr",
          "text": [
            "\r34it [00:18,  2.31it/s]"
          ]
        },
        {
          "output_type": "stream",
          "name": "stdout",
          "text": [
            "1/1 [==============================] - 0s 25ms/step\n"
          ]
        },
        {
          "output_type": "stream",
          "name": "stderr",
          "text": [
            "\r35it [00:18,  2.37it/s]"
          ]
        },
        {
          "output_type": "stream",
          "name": "stdout",
          "text": [
            "1/1 [==============================] - 0s 28ms/step\n"
          ]
        },
        {
          "output_type": "stream",
          "name": "stderr",
          "text": [
            "\r36it [00:19,  2.40it/s]"
          ]
        },
        {
          "output_type": "stream",
          "name": "stdout",
          "text": [
            "1/1 [==============================] - 0s 21ms/step\n"
          ]
        },
        {
          "output_type": "stream",
          "name": "stderr",
          "text": [
            "\r37it [00:19,  2.33it/s]"
          ]
        },
        {
          "output_type": "stream",
          "name": "stdout",
          "text": [
            "1/1 [==============================] - 0s 23ms/step\n"
          ]
        },
        {
          "output_type": "stream",
          "name": "stderr",
          "text": [
            "\r38it [00:20,  2.29it/s]"
          ]
        },
        {
          "output_type": "stream",
          "name": "stdout",
          "text": [
            "1/1 [==============================] - 0s 22ms/step\n"
          ]
        },
        {
          "output_type": "stream",
          "name": "stderr",
          "text": [
            "\r39it [00:20,  2.33it/s]"
          ]
        },
        {
          "output_type": "stream",
          "name": "stdout",
          "text": [
            "1/1 [==============================] - 0s 24ms/step\n"
          ]
        },
        {
          "output_type": "stream",
          "name": "stderr",
          "text": [
            "\r40it [00:20,  2.29it/s]"
          ]
        },
        {
          "output_type": "stream",
          "name": "stdout",
          "text": [
            "1/1 [==============================] - 0s 21ms/step\n"
          ]
        },
        {
          "output_type": "stream",
          "name": "stderr",
          "text": [
            "\r41it [00:21,  2.34it/s]"
          ]
        },
        {
          "output_type": "stream",
          "name": "stdout",
          "text": [
            "1/1 [==============================] - 0s 22ms/step\n"
          ]
        },
        {
          "output_type": "stream",
          "name": "stderr",
          "text": [
            "\r42it [00:21,  2.38it/s]"
          ]
        },
        {
          "output_type": "stream",
          "name": "stdout",
          "text": [
            "1/1 [==============================] - 0s 21ms/step\n"
          ]
        },
        {
          "output_type": "stream",
          "name": "stderr",
          "text": [
            "\r43it [00:22,  2.32it/s]"
          ]
        },
        {
          "output_type": "stream",
          "name": "stdout",
          "text": [
            "1/1 [==============================] - 0s 22ms/step\n"
          ]
        },
        {
          "output_type": "stream",
          "name": "stderr",
          "text": [
            "\r44it [00:22,  2.38it/s]"
          ]
        },
        {
          "output_type": "stream",
          "name": "stdout",
          "text": [
            "1/1 [==============================] - 0s 23ms/step\n"
          ]
        },
        {
          "output_type": "stream",
          "name": "stderr",
          "text": [
            "\r45it [00:23,  2.36it/s]"
          ]
        },
        {
          "output_type": "stream",
          "name": "stdout",
          "text": [
            "1/1 [==============================] - 0s 25ms/step\n"
          ]
        },
        {
          "output_type": "stream",
          "name": "stderr",
          "text": [
            "\r46it [00:23,  2.27it/s]"
          ]
        },
        {
          "output_type": "stream",
          "name": "stdout",
          "text": [
            "1/1 [==============================] - 0s 30ms/step\n"
          ]
        },
        {
          "output_type": "stream",
          "name": "stderr",
          "text": [
            "\r47it [00:24,  1.96it/s]"
          ]
        },
        {
          "output_type": "stream",
          "name": "stdout",
          "text": [
            "1/1 [==============================] - 0s 31ms/step\n"
          ]
        },
        {
          "output_type": "stream",
          "name": "stderr",
          "text": [
            "\r48it [00:24,  1.88it/s]"
          ]
        },
        {
          "output_type": "stream",
          "name": "stdout",
          "text": [
            "1/1 [==============================] - 0s 31ms/step\n"
          ]
        },
        {
          "output_type": "stream",
          "name": "stderr",
          "text": [
            "\r49it [00:25,  1.82it/s]"
          ]
        },
        {
          "output_type": "stream",
          "name": "stdout",
          "text": [
            "1/1 [==============================] - 0s 30ms/step\n"
          ]
        },
        {
          "output_type": "stream",
          "name": "stderr",
          "text": [
            "\r50it [00:25,  1.76it/s]"
          ]
        },
        {
          "output_type": "stream",
          "name": "stdout",
          "text": [
            "1/1 [==============================] - 0s 43ms/step\n"
          ]
        },
        {
          "output_type": "stream",
          "name": "stderr",
          "text": [
            "\r51it [00:26,  1.70it/s]"
          ]
        },
        {
          "output_type": "stream",
          "name": "stdout",
          "text": [
            "1/1 [==============================] - 0s 33ms/step\n"
          ]
        },
        {
          "output_type": "stream",
          "name": "stderr",
          "text": [
            "\r52it [00:27,  1.67it/s]"
          ]
        },
        {
          "output_type": "stream",
          "name": "stdout",
          "text": [
            "1/1 [==============================] - 0s 36ms/step\n"
          ]
        },
        {
          "output_type": "stream",
          "name": "stderr",
          "text": [
            "\r53it [00:27,  1.65it/s]"
          ]
        },
        {
          "output_type": "stream",
          "name": "stdout",
          "text": [
            "1/1 [==============================] - 0s 33ms/step\n"
          ]
        },
        {
          "output_type": "stream",
          "name": "stderr",
          "text": [
            "\r54it [00:28,  1.66it/s]"
          ]
        },
        {
          "output_type": "stream",
          "name": "stdout",
          "text": [
            "1/1 [==============================] - 0s 21ms/step\n"
          ]
        },
        {
          "output_type": "stream",
          "name": "stderr",
          "text": [
            "\r55it [00:28,  1.84it/s]"
          ]
        },
        {
          "output_type": "stream",
          "name": "stdout",
          "text": [
            "1/1 [==============================] - 0s 20ms/step\n"
          ]
        },
        {
          "output_type": "stream",
          "name": "stderr",
          "text": [
            "\r56it [00:29,  1.98it/s]"
          ]
        },
        {
          "output_type": "stream",
          "name": "stdout",
          "text": [
            "1/1 [==============================] - 0s 23ms/step\n"
          ]
        },
        {
          "output_type": "stream",
          "name": "stderr",
          "text": [
            "\r57it [00:29,  2.13it/s]"
          ]
        },
        {
          "output_type": "stream",
          "name": "stdout",
          "text": [
            "1/1 [==============================] - 0s 22ms/step\n"
          ]
        },
        {
          "output_type": "stream",
          "name": "stderr",
          "text": [
            "\r58it [00:30,  2.24it/s]"
          ]
        },
        {
          "output_type": "stream",
          "name": "stdout",
          "text": [
            "1/1 [==============================] - 0s 21ms/step\n"
          ]
        },
        {
          "output_type": "stream",
          "name": "stderr",
          "text": [
            "\r59it [00:30,  2.29it/s]"
          ]
        },
        {
          "output_type": "stream",
          "name": "stdout",
          "text": [
            "1/1 [==============================] - 0s 22ms/step\n"
          ]
        },
        {
          "output_type": "stream",
          "name": "stderr",
          "text": [
            "\r60it [00:30,  2.36it/s]"
          ]
        },
        {
          "output_type": "stream",
          "name": "stdout",
          "text": [
            "1/1 [==============================] - 0s 22ms/step\n"
          ]
        },
        {
          "output_type": "stream",
          "name": "stderr",
          "text": [
            "\r61it [00:31,  2.43it/s]"
          ]
        },
        {
          "output_type": "stream",
          "name": "stdout",
          "text": [
            "1/1 [==============================] - 0s 21ms/step\n"
          ]
        },
        {
          "output_type": "stream",
          "name": "stderr",
          "text": [
            "\r62it [00:31,  2.38it/s]"
          ]
        },
        {
          "output_type": "stream",
          "name": "stdout",
          "text": [
            "1/1 [==============================] - 0s 22ms/step\n"
          ]
        },
        {
          "output_type": "stream",
          "name": "stderr",
          "text": [
            "\r63it [00:32,  2.43it/s]"
          ]
        },
        {
          "output_type": "stream",
          "name": "stdout",
          "text": [
            "1/1 [==============================] - 0s 21ms/step\n"
          ]
        },
        {
          "output_type": "stream",
          "name": "stderr",
          "text": [
            "\r64it [00:32,  2.46it/s]"
          ]
        },
        {
          "output_type": "stream",
          "name": "stdout",
          "text": [
            "1/1 [==============================] - 0s 21ms/step\n"
          ]
        },
        {
          "output_type": "stream",
          "name": "stderr",
          "text": [
            "\r65it [00:32,  2.46it/s]"
          ]
        },
        {
          "output_type": "stream",
          "name": "stdout",
          "text": [
            "1/1 [==============================] - 0s 21ms/step\n"
          ]
        },
        {
          "output_type": "stream",
          "name": "stderr",
          "text": [
            "\r66it [00:33,  2.47it/s]"
          ]
        },
        {
          "output_type": "stream",
          "name": "stdout",
          "text": [
            "1/1 [==============================] - 0s 26ms/step\n"
          ]
        },
        {
          "output_type": "stream",
          "name": "stderr",
          "text": [
            "\r67it [00:33,  2.45it/s]"
          ]
        },
        {
          "output_type": "stream",
          "name": "stdout",
          "text": [
            "1/1 [==============================] - 0s 23ms/step\n"
          ]
        },
        {
          "output_type": "stream",
          "name": "stderr",
          "text": [
            "\r68it [00:34,  2.39it/s]"
          ]
        },
        {
          "output_type": "stream",
          "name": "stdout",
          "text": [
            "1/1 [==============================] - 0s 23ms/step\n"
          ]
        },
        {
          "output_type": "stream",
          "name": "stderr",
          "text": [
            "\r69it [00:34,  2.43it/s]"
          ]
        },
        {
          "output_type": "stream",
          "name": "stdout",
          "text": [
            "1/1 [==============================] - 0s 24ms/step\n"
          ]
        },
        {
          "output_type": "stream",
          "name": "stderr",
          "text": [
            "\r70it [00:34,  2.44it/s]"
          ]
        },
        {
          "output_type": "stream",
          "name": "stdout",
          "text": [
            "1/1 [==============================] - 0s 23ms/step\n"
          ]
        },
        {
          "output_type": "stream",
          "name": "stderr",
          "text": [
            "\r71it [00:35,  2.38it/s]"
          ]
        },
        {
          "output_type": "stream",
          "name": "stdout",
          "text": [
            "1/1 [==============================] - 0s 21ms/step\n"
          ]
        },
        {
          "output_type": "stream",
          "name": "stderr",
          "text": [
            "\r72it [00:35,  2.42it/s]"
          ]
        },
        {
          "output_type": "stream",
          "name": "stdout",
          "text": [
            "1/1 [==============================] - 0s 24ms/step\n"
          ]
        },
        {
          "output_type": "stream",
          "name": "stderr",
          "text": [
            "\r73it [00:36,  2.37it/s]"
          ]
        },
        {
          "output_type": "stream",
          "name": "stdout",
          "text": [
            "1/1 [==============================] - 0s 21ms/step\n"
          ]
        },
        {
          "output_type": "stream",
          "name": "stderr",
          "text": [
            "\r74it [00:36,  2.43it/s]"
          ]
        },
        {
          "output_type": "stream",
          "name": "stdout",
          "text": [
            "1/1 [==============================] - 0s 21ms/step\n"
          ]
        },
        {
          "output_type": "stream",
          "name": "stderr",
          "text": [
            "\r75it [00:37,  2.43it/s]"
          ]
        },
        {
          "output_type": "stream",
          "name": "stdout",
          "text": [
            "1/1 [==============================] - 0s 23ms/step\n"
          ]
        },
        {
          "output_type": "stream",
          "name": "stderr",
          "text": [
            "\r76it [00:37,  2.37it/s]"
          ]
        },
        {
          "output_type": "stream",
          "name": "stdout",
          "text": [
            "1/1 [==============================] - 0s 22ms/step\n"
          ]
        },
        {
          "output_type": "stream",
          "name": "stderr",
          "text": [
            "\r77it [00:37,  2.37it/s]"
          ]
        },
        {
          "output_type": "stream",
          "name": "stdout",
          "text": [
            "1/1 [==============================] - 0s 22ms/step\n"
          ]
        },
        {
          "output_type": "stream",
          "name": "stderr",
          "text": [
            "\r78it [00:38,  2.37it/s]"
          ]
        },
        {
          "output_type": "stream",
          "name": "stdout",
          "text": [
            "1/1 [==============================] - 0s 37ms/step\n"
          ]
        },
        {
          "output_type": "stream",
          "name": "stderr",
          "text": [
            "\r79it [00:38,  2.10it/s]"
          ]
        },
        {
          "output_type": "stream",
          "name": "stdout",
          "text": [
            "1/1 [==============================] - 0s 31ms/step\n"
          ]
        },
        {
          "output_type": "stream",
          "name": "stderr",
          "text": [
            "\r80it [00:39,  1.97it/s]"
          ]
        },
        {
          "output_type": "stream",
          "name": "stdout",
          "text": [
            "1/1 [==============================] - 0s 31ms/step\n"
          ]
        },
        {
          "output_type": "stream",
          "name": "stderr",
          "text": [
            "\r81it [00:40,  1.82it/s]"
          ]
        },
        {
          "output_type": "stream",
          "name": "stdout",
          "text": [
            "1/1 [==============================] - 0s 31ms/step\n"
          ]
        },
        {
          "output_type": "stream",
          "name": "stderr",
          "text": [
            "\r82it [00:40,  1.71it/s]"
          ]
        },
        {
          "output_type": "stream",
          "name": "stdout",
          "text": [
            "1/1 [==============================] - 0s 29ms/step\n"
          ]
        },
        {
          "output_type": "stream",
          "name": "stderr",
          "text": [
            "\r83it [00:41,  1.64it/s]"
          ]
        },
        {
          "output_type": "stream",
          "name": "stdout",
          "text": [
            "1/1 [==============================] - 0s 34ms/step\n"
          ]
        },
        {
          "output_type": "stream",
          "name": "stderr",
          "text": [
            "84it [00:42,  1.99it/s]\n"
          ]
        }
      ],
      "source": [
        "test_ds_unbatched = test_batches.unbatch()\n",
        "\n",
        "pred_path = os.path.join(PRED_PATH, EXP_NAME, timestamp)\n",
        "if not os.path.exists(pred_path):\n",
        "    os.makedirs(pred_path)\n",
        "\n",
        "metrics = pd.DataFrame()\n",
        "\n",
        "for idx, (input, target) in enumerate(tqdm(test_ds_unbatched)):\n",
        "\n",
        "    target = tf.squeeze(target).numpy()\n",
        "    prediction = tf.squeeze(\n",
        "        model.predict(\n",
        "            tf.expand_dims(input, axis=0)\n",
        "        )\n",
        "    )\n",
        "\n",
        "    channel_sum = tf.expand_dims(tf.reduce_sum(target, axis=-1), axis=-1)\n",
        "    white_mask = tf.reduce_all(tf.equal(channel_sum, 3.0), axis=-1)\n",
        "    expanded_mask = tf.expand_dims(white_mask, axis=-1)\n",
        "    expanded_mask = tf.tile(expanded_mask, [1, 1, 3])\n",
        "    prediction = tf.where(expanded_mask, tf.ones_like(prediction), prediction)\n",
        "\n",
        "    plt.figure(figsize=(7, 14))\n",
        "    plt.subplot(2, 1, 1)\n",
        "    plt.imshow(target)\n",
        "    plt.axis(\"off\")\n",
        "    plt.tight_layout()\n",
        "\n",
        "    plt.subplot(2, 1, 2)\n",
        "    plt.imshow(prediction)\n",
        "    plt.axis(\"off\")\n",
        "    plt.tight_layout()\n",
        "    plt.savefig(os.path.join(pred_path, f\"{idx}.png\"))\n",
        "    plt.close()\n"
      ]
    },
    {
      "cell_type": "markdown",
      "metadata": {
        "id": "7X8uip-GsY8V"
      },
      "source": [
        "# Loss Curve"
      ]
    },
    {
      "cell_type": "code",
      "execution_count": 19,
      "metadata": {
        "id": "uSb9pzrasY8W"
      },
      "outputs": [],
      "source": [
        "try:\n",
        "    loss = history.history['loss']\n",
        "    val_loss = history.history['val_loss']\n",
        "\n",
        "    plt.figure(figsize=(8, 6))\n",
        "    plt.plot(loss, label='Training Loss')\n",
        "    plt.plot(val_loss, label='Validation Loss')\n",
        "    plt.legend(loc='upper right')\n",
        "    plt.ylabel('Attention MAE')\n",
        "    plt.title('Training and Validation Loss')\n",
        "    plt.xlabel('Epoch')\n",
        "    plt.tight_layout()\n",
        "    plt.savefig(os.path.join(model_path, timestamp + \".png\"))\n",
        "    plt.close()\n",
        "except:\n",
        "    print(\"Model did not finish training\")\n"
      ]
    },
    {
      "cell_type": "markdown",
      "metadata": {
        "id": "1hMNNE0VsY8W"
      },
      "source": [
        "# Metrics"
      ]
    },
    {
      "cell_type": "code",
      "execution_count": 20,
      "metadata": {
        "id": "QGXSmlicsY8W",
        "outputId": "0e7f77ae-bcad-409a-a926-4140330e2d4a",
        "colab": {
          "base_uri": "https://localhost:8080/"
        }
      },
      "outputs": [
        {
          "output_type": "stream",
          "name": "stdout",
          "text": [
            "6/6 [==============================] - 1s 139ms/step - loss: 0.0019 - attention_mae: 0.0094\n"
          ]
        },
        {
          "output_type": "execute_result",
          "data": {
            "text/plain": [
              "[0.001921206945553422, 0.00944235548377037]"
            ]
          },
          "metadata": {},
          "execution_count": 20
        }
      ],
      "source": [
        "model.evaluate(test_batches)\n"
      ]
    }
  ],
  "metadata": {
    "kernelspec": {
      "display_name": "Python 3",
      "name": "python3"
    },
    "language_info": {
      "codemirror_mode": {
        "name": "ipython",
        "version": 3
      },
      "file_extension": ".py",
      "mimetype": "text/x-python",
      "name": "python",
      "nbconvert_exporter": "python",
      "pygments_lexer": "ipython3",
      "version": "3.10.9"
    },
    "orig_nbformat": 4,
    "colab": {
      "provenance": [],
      "toc_visible": true,
      "gpuType": "T4",
      "include_colab_link": true
    },
    "accelerator": "GPU"
  },
  "nbformat": 4,
  "nbformat_minor": 0
}