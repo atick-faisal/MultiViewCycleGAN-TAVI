{
 "cells": [
  {
   "cell_type": "code",
   "execution_count": 16,
   "metadata": {},
   "outputs": [],
   "source": [
    "import os\n",
    "import numpy as np \n",
    "import tensorflow as tf\n",
    "import seaborn as sns\n",
    "\n",
    "from sklearn.metrics import confusion_matrix, classification_report\n"
   ]
  },
  {
   "cell_type": "markdown",
   "metadata": {},
   "source": [
    "# Fix GDrive"
   ]
  },
  {
   "cell_type": "code",
   "execution_count": null,
   "metadata": {},
   "outputs": [],
   "source": [
    "print(\"Installing G-Drive ... \")\n",
    "os.system(\"pip install -U --no-cache-dir gdown --pre > /dev/null\")"
   ]
  },
  {
   "cell_type": "markdown",
   "metadata": {},
   "source": [
    "# Downoad Data"
   ]
  },
  {
   "cell_type": "code",
   "execution_count": null,
   "metadata": {},
   "outputs": [],
   "source": [
    "os.system(\"gdown ---------------\")\n",
    "os.system('unzip -o \"TAVI_STRESS_CLF_PARALLEL.zip\" > /dev/null')"
   ]
  },
  {
   "cell_type": "markdown",
   "metadata": {},
   "source": [
    "# Load Data"
   ]
  },
  {
   "cell_type": "code",
   "execution_count": null,
   "metadata": {},
   "outputs": [],
   "source": [
    "DATA_DIR = \"/content/Stress/\"\n",
    "train_X1 = np.load(DATA_DIR + \"train_X1.npy\")\n",
    "train_X2 = np.load(DATA_DIR + \"train_X2.npy\")\n",
    "train_X3 = np.load(DATA_DIR + \"train_X3.npy\")\n",
    "train_Y = np.load(DATA_DIR + \"train_Y.npy\")\n",
    "test_X1 = np.load(DATA_DIR + \"test_X1.npy\")\n",
    "test_X2 = np.load(DATA_DIR + \"test_X2.npy\")\n",
    "test_X3 = np.load(DATA_DIR + \"test_X3.npy\")\n",
    "test_Y = np.load(DATA_DIR + \"test_Y.npy\")"
   ]
  },
  {
   "cell_type": "markdown",
   "metadata": {},
   "source": [
    "# Config"
   ]
  },
  {
   "cell_type": "code",
   "execution_count": 7,
   "metadata": {},
   "outputs": [],
   "source": [
    "IMG_SIZE = 224\n",
    "BATCH_SIZE = 4\n",
    "LEARNING_RATE = 3e-4\n",
    "EPOCHS = 300\n",
    "EPOCH_PATIENCE = 30\n"
   ]
  },
  {
   "cell_type": "markdown",
   "metadata": {},
   "source": [
    "# Model Architecture"
   ]
  },
  {
   "cell_type": "code",
   "execution_count": 14,
   "metadata": {},
   "outputs": [
    {
     "name": "stdout",
     "output_type": "stream",
     "text": [
      "Model: \"model\"\n",
      "__________________________________________________________________________________________________\n",
      " Layer (type)                Output Shape                 Param #   Connected to                  \n",
      "==================================================================================================\n",
      " input_14 (InputLayer)       [(None, 224, 224, 3)]        0         []                            \n",
      "                                                                                                  \n",
      " input_15 (InputLayer)       [(None, 224, 224, 3)]        0         []                            \n",
      "                                                                                                  \n",
      " input_16 (InputLayer)       [(None, 224, 224, 3)]        0         []                            \n",
      "                                                                                                  \n",
      " tf.math.truediv_7 (TFOpLam  (None, 224, 224, 3)          0         ['input_14[0][0]']            \n",
      " bda)                                                                                             \n",
      "                                                                                                  \n",
      " tf.math.truediv_8 (TFOpLam  (None, 224, 224, 3)          0         ['input_15[0][0]']            \n",
      " bda)                                                                                             \n",
      "                                                                                                  \n",
      " tf.math.truediv_9 (TFOpLam  (None, 224, 224, 3)          0         ['input_16[0][0]']            \n",
      " bda)                                                                                             \n",
      "                                                                                                  \n",
      " tf.math.subtract_7 (TFOpLa  (None, 224, 224, 3)          0         ['tf.math.truediv_7[0][0]']   \n",
      " mbda)                                                                                            \n",
      "                                                                                                  \n",
      " tf.math.subtract_8 (TFOpLa  (None, 224, 224, 3)          0         ['tf.math.truediv_8[0][0]']   \n",
      " mbda)                                                                                            \n",
      "                                                                                                  \n",
      " tf.math.subtract_9 (TFOpLa  (None, 224, 224, 3)          0         ['tf.math.truediv_9[0][0]']   \n",
      " mbda)                                                                                            \n",
      "                                                                                                  \n",
      " mobilenetv2_1.00_224 (Func  (None, 7, 7, 1280)           2257984   ['tf.math.subtract_7[0][0]',  \n",
      " tional)                                                             'tf.math.subtract_8[0][0]',  \n",
      "                                                                     'tf.math.subtract_9[0][0]']  \n",
      "                                                                                                  \n",
      " global_average_pooling2d_1  (None, 1280)                 0         ['mobilenetv2_1.00_224[0][0]']\n",
      " 1 (GlobalAveragePooling2D)                                                                       \n",
      "                                                                                                  \n",
      " global_average_pooling2d_1  (None, 1280)                 0         ['mobilenetv2_1.00_224[1][0]']\n",
      " 2 (GlobalAveragePooling2D)                                                                       \n",
      "                                                                                                  \n",
      " global_average_pooling2d_1  (None, 1280)                 0         ['mobilenetv2_1.00_224[2][0]']\n",
      " 3 (GlobalAveragePooling2D)                                                                       \n",
      "                                                                                                  \n",
      " concatenate (Concatenate)   (None, 3840)                 0         ['global_average_pooling2d_11[\n",
      "                                                                    0][0]',                       \n",
      "                                                                     'global_average_pooling2d_12[\n",
      "                                                                    0][0]',                       \n",
      "                                                                     'global_average_pooling2d_13[\n",
      "                                                                    0][0]']                       \n",
      "                                                                                                  \n",
      " dense (Dense)               (None, 64)                   245824    ['concatenate[0][0]']         \n",
      "                                                                                                  \n",
      " dropout (Dropout)           (None, 64)                   0         ['dense[0][0]']               \n",
      "                                                                                                  \n",
      " dense_1 (Dense)             (None, 1)                    65        ['dropout[0][0]']             \n",
      "                                                                                                  \n",
      "==================================================================================================\n",
      "Total params: 2503873 (9.55 MB)\n",
      "Trainable params: 2469761 (9.42 MB)\n",
      "Non-trainable params: 34112 (133.25 KB)\n",
      "__________________________________________________________________________________________________\n"
     ]
    }
   ],
   "source": [
    "inputs = []\n",
    "features = []\n",
    "\n",
    "base_model = tf.keras.applications.MobileNetV2(\n",
    "    input_shape=(IMG_SIZE, IMG_SIZE, 3),\n",
    "    include_top=False,\n",
    "    weights=\"imagenet\"\n",
    ")\n",
    "\n",
    "for i in range(3):\n",
    "    inp = tf.keras.Input(shape=(IMG_SIZE, IMG_SIZE, 3))\n",
    "    x = tf.keras.applications.mobilenet_v2.preprocess_input(inp)\n",
    "    x = base_model(x, training=False)\n",
    "    x = tf.keras.layers.GlobalAveragePooling2D()(x)\n",
    "    inputs.append(inp)\n",
    "    features.append(x)\n",
    "\n",
    "x = tf.keras.layers.concatenate(features)\n",
    "x = tf.keras.layers.Dense(64, activation=\"relu\")(x)\n",
    "x = tf.keras.layers.Dropout(0.5)(x)\n",
    "x = tf.keras.layers.Dense(1, activation=\"sigmoid\")(x)\n",
    "\n",
    "model = tf.keras.Model(inputs=inputs, outputs=x)\n",
    "\n",
    "model.summary()"
   ]
  },
  {
   "cell_type": "code",
   "execution_count": null,
   "metadata": {},
   "outputs": [],
   "source": [
    "model.compile(\n",
    "    optimizer=tf.keras.optimizers.Adam(learning_rate=LEARNING_RATE),\n",
    "    loss=\"binary_crossentropy\",\n",
    "    metrics=[\"accuracy\"]\n",
    ")\n",
    "\n",
    "model.fit(\n",
    "    [train_X1, train_X2, train_X3],\n",
    "    train_Y,\n",
    "    batch_size=BATCH_SIZE,\n",
    "    epochs=EPOCHS,\n",
    "    validation_data=([test_X1, test_X2, test_X3], test_Y),\n",
    "    callbacks=[\n",
    "        tf.keras.callbacks.EarlyStopping(\n",
    "            monitor=\"val_loss\",\n",
    "            patience=EPOCH_PATIENCE,\n",
    "            restore_best_weights=True\n",
    "        )\n",
    "    ]\n",
    ")"
   ]
  },
  {
   "cell_type": "markdown",
   "metadata": {},
   "source": [
    "# Evaluation"
   ]
  },
  {
   "cell_type": "code",
   "execution_count": null,
   "metadata": {},
   "outputs": [],
   "source": [
    "pred_y = model.predict([test_X1, test_X2, test_X3])\n",
    "pred_y = np.round(pred_y).astype(int).reshape(-1)\n",
    "test_y = test_Y.astype(int)\n",
    "\n",
    "print(classification_report(test_y, pred_y))\n",
    "\n",
    "cm = confusion_matrix(test_y, pred_y)\n",
    "sns.heatmap(cm, annot=True, fmt=\"d\")\n"
   ]
  }
 ],
 "metadata": {
  "kernelspec": {
   "display_name": "Ai",
   "language": "python",
   "name": "python3"
  },
  "language_info": {
   "codemirror_mode": {
    "name": "ipython",
    "version": 3
   },
   "file_extension": ".py",
   "mimetype": "text/x-python",
   "name": "python",
   "nbconvert_exporter": "python",
   "pygments_lexer": "ipython3",
   "version": "3.11.6"
  }
 },
 "nbformat": 4,
 "nbformat_minor": 2
}
