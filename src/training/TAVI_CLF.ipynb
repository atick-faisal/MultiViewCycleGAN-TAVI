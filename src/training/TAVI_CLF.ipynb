{
  "cells": [
    {
      "cell_type": "markdown",
      "metadata": {
        "id": "view-in-github",
        "colab_type": "text"
      },
      "source": [
        "<a href=\"https://colab.research.google.com/github/atick-faisal/MultiViewUNet-TAVI/blob/main/src/training/TAVI_CLF.ipynb\" target=\"_parent\"><img src=\"https://colab.research.google.com/assets/colab-badge.svg\" alt=\"Open In Colab\"/></a>"
      ]
    },
    {
      "cell_type": "code",
      "execution_count": 1,
      "metadata": {
        "id": "Dog0QDqLZ9BK"
      },
      "outputs": [],
      "source": [
        "import os\n",
        "import numpy as np\n",
        "import seaborn as sns\n",
        "import tensorflow as tf\n",
        "import matplotlib.pyplot as plt\n",
        "\n",
        "from sklearn.metrics import confusion_matrix, classification_report\n"
      ]
    },
    {
      "cell_type": "markdown",
      "metadata": {
        "id": "lMZ0R33OZ9BM"
      },
      "source": [
        "# Fix GDrive"
      ]
    },
    {
      "cell_type": "code",
      "source": [
        "import shutil\n",
        "from google.colab import drive\n",
        "drive.mount(\"/content/drive\")"
      ],
      "metadata": {
        "id": "3DshUz0QuF8A",
        "outputId": "18f471bc-2b2a-4eae-94a8-5c9bf2150deb",
        "colab": {
          "base_uri": "https://localhost:8080/"
        }
      },
      "execution_count": 2,
      "outputs": [
        {
          "output_type": "stream",
          "name": "stdout",
          "text": [
            "Drive already mounted at /content/drive; to attempt to forcibly remount, call drive.mount(\"/content/drive\", force_remount=True).\n"
          ]
        }
      ]
    },
    {
      "cell_type": "code",
      "source": [
        "shutil.copy(\"/content/drive/MyDrive/Research/TAVI/Dataset/TAVI_CLF_r17.zip\", \"TAVI_CLF_r17.zip\")"
      ],
      "metadata": {
        "id": "XCkDjuuGu2MQ",
        "outputId": "fa025904-42fe-4558-b1cb-381f199b4f77",
        "colab": {
          "base_uri": "https://localhost:8080/",
          "height": 36
        }
      },
      "execution_count": 3,
      "outputs": [
        {
          "output_type": "execute_result",
          "data": {
            "text/plain": [
              "'TAVI_CLF_r17.zip'"
            ],
            "application/vnd.google.colaboratory.intrinsic+json": {
              "type": "string"
            }
          },
          "metadata": {},
          "execution_count": 3
        }
      ]
    },
    {
      "cell_type": "code",
      "source": [
        "os.system('unzip -o \"TAVI_CLF_r17.zip\" > /dev/null')"
      ],
      "metadata": {
        "id": "HMKCsNP6vGeE",
        "outputId": "58bc6555-f5ac-467d-a896-2d9d7e20f0d8",
        "colab": {
          "base_uri": "https://localhost:8080/"
        }
      },
      "execution_count": 4,
      "outputs": [
        {
          "output_type": "execute_result",
          "data": {
            "text/plain": [
              "0"
            ]
          },
          "metadata": {},
          "execution_count": 4
        }
      ]
    },
    {
      "cell_type": "markdown",
      "metadata": {
        "id": "oUknlYSgZ9BN"
      },
      "source": [
        "# Downoad Data"
      ]
    },
    {
      "cell_type": "code",
      "execution_count": 5,
      "metadata": {
        "id": "HHocoGCGZ9BN"
      },
      "outputs": [],
      "source": [
        "# os.system('gdown \"149lJdnX-iKbiv6vcWlcB4XqGkB5GshCC\"')\n",
        "# os.system('unzip -o \"TAVI_STRESS_CLF_PARALLEL_v3.zip\" > /dev/null')"
      ]
    },
    {
      "cell_type": "markdown",
      "metadata": {
        "id": "csXULJ2qZ9BN"
      },
      "source": [
        "# Load Data"
      ]
    },
    {
      "cell_type": "code",
      "execution_count": 6,
      "metadata": {
        "id": "0jR8MOu7Z9BO"
      },
      "outputs": [],
      "source": [
        "DATA_DIR = \"/content/Stress/\"\n",
        "train_X1 = np.load(DATA_DIR + \"train_X1.npy\")\n",
        "train_X2 = np.load(DATA_DIR + \"train_X2.npy\")\n",
        "train_X3 = np.load(DATA_DIR + \"train_X3.npy\")\n",
        "train_X4 = np.load(DATA_DIR + \"train_X4.npy\")\n",
        "train_X5 = np.load(DATA_DIR + \"train_X5.npy\")\n",
        "train_X6 = np.load(DATA_DIR + \"train_X6.npy\")\n",
        "train_Y = np.load(DATA_DIR + \"train_y.npy\")\n",
        "test_X1 = np.load(DATA_DIR + \"test_X1.npy\")\n",
        "test_X2 = np.load(DATA_DIR + \"test_X2.npy\")\n",
        "test_X3 = np.load(DATA_DIR + \"test_X3.npy\")\n",
        "test_X4 = np.load(DATA_DIR + \"test_X4.npy\")\n",
        "test_X5 = np.load(DATA_DIR + \"test_X5.npy\")\n",
        "test_X6 = np.load(DATA_DIR + \"test_X6.npy\")\n",
        "test_Y = np.load(DATA_DIR + \"test_y.npy\")"
      ]
    },
    {
      "cell_type": "code",
      "source": [],
      "metadata": {
        "id": "gydtYylf0nOa"
      },
      "execution_count": 6,
      "outputs": []
    },
    {
      "cell_type": "markdown",
      "metadata": {
        "id": "zE0tqQXpZ9BO"
      },
      "source": [
        "# Config"
      ]
    },
    {
      "cell_type": "code",
      "execution_count": 7,
      "metadata": {
        "id": "aCtsfGEGZ9BO"
      },
      "outputs": [],
      "source": [
        "IMG_SIZE = 160\n",
        "BATCH_SIZE = 32\n",
        "INITIAL_LEARNING_RATE = 3e-4\n",
        "INITIAL_EPOCH = 300\n",
        "EPOCH_PATIENCE = 30\n",
        "FINE_TUNE_EPOCH = 0\n",
        "TOTAL_EPOCH = INITIAL_EPOCH + FINE_TUNE_EPOCH"
      ]
    },
    {
      "cell_type": "code",
      "source": [
        "train_dataset = tf.keras.utils.image_dataset_from_directory(\n",
        "    \"Classification/Train/\",\n",
        "    labels='inferred',\n",
        "    label_mode='int',\n",
        "    class_names=None,\n",
        "    color_mode='rgb',\n",
        "    batch_size=BATCH_SIZE,\n",
        "    image_size=(IMG_SIZE, IMG_SIZE),\n",
        "    shuffle=True,\n",
        "    seed=42,\n",
        "    validation_split=None,\n",
        "    subset=None,\n",
        "    interpolation='bilinear',\n",
        "    follow_links=False,\n",
        "    crop_to_aspect_ratio=False\n",
        ")\n",
        "\n",
        "test_dataset = tf.keras.utils.image_dataset_from_directory(\n",
        "    \"Classification/Test/\",\n",
        "    labels='inferred',\n",
        "    label_mode='int',\n",
        "    class_names=None,\n",
        "    color_mode='rgb',\n",
        "    batch_size=BATCH_SIZE,\n",
        "    image_size=(IMG_SIZE, IMG_SIZE),\n",
        "    shuffle=True,\n",
        "    seed=42,\n",
        "    validation_split=None,\n",
        "    subset=None,\n",
        "    interpolation='bilinear',\n",
        "    follow_links=False,\n",
        "    crop_to_aspect_ratio=False\n",
        ")"
      ],
      "metadata": {
        "id": "OlxeDhQQ4p6t",
        "outputId": "6aa2fb2a-0b07-4cfb-ee64-62ebd7b074a1",
        "colab": {
          "base_uri": "https://localhost:8080/"
        }
      },
      "execution_count": 8,
      "outputs": [
        {
          "output_type": "stream",
          "name": "stdout",
          "text": [
            "Found 432 files belonging to 2 classes.\n",
            "Found 96 files belonging to 2 classes.\n"
          ]
        }
      ]
    },
    {
      "cell_type": "markdown",
      "metadata": {
        "id": "tsPEexpeZ9BO"
      },
      "source": [
        "# Model Architecture"
      ]
    },
    {
      "cell_type": "code",
      "execution_count": 9,
      "metadata": {
        "id": "1tJQeJRTZ9BO",
        "outputId": "dee2cfc4-e122-4652-f986-0d917fab3bed",
        "colab": {
          "base_uri": "https://localhost:8080/"
        }
      },
      "outputs": [
        {
          "output_type": "stream",
          "name": "stdout",
          "text": [
            "Model: \"model\"\n",
            "_________________________________________________________________\n",
            " Layer (type)                Output Shape              Param #   \n",
            "=================================================================\n",
            " input_2 (InputLayer)        [(None, 160, 160, 3)]     0         \n",
            "                                                                 \n",
            " tf.__operators__.getitem (  (None, 160, 160, 3)       0         \n",
            " SlicingOpLambda)                                                \n",
            "                                                                 \n",
            " tf.nn.bias_add (TFOpLambda  (None, 160, 160, 3)       0         \n",
            " )                                                               \n",
            "                                                                 \n",
            " resnet50 (Functional)       (None, 5, 5, 2048)        23587712  \n",
            "                                                                 \n",
            " global_average_pooling2d (  (None, 2048)              0         \n",
            " GlobalAveragePooling2D)                                         \n",
            "                                                                 \n",
            " concatenate (Concatenate)   (None, 2048)              0         \n",
            "                                                                 \n",
            " dropout (Dropout)           (None, 2048)              0         \n",
            "                                                                 \n",
            " dense (Dense)               (None, 1)                 2049      \n",
            "                                                                 \n",
            "=================================================================\n",
            "Total params: 23589761 (89.99 MB)\n",
            "Trainable params: 2049 (8.00 KB)\n",
            "Non-trainable params: 23587712 (89.98 MB)\n",
            "_________________________________________________________________\n"
          ]
        }
      ],
      "source": [
        "inputs = []\n",
        "features = []\n",
        "\n",
        "base_model = tf.keras.applications.ResNet50(\n",
        "    input_shape=(IMG_SIZE, IMG_SIZE, 3),\n",
        "    include_top=False,\n",
        "    weights=\"imagenet\"\n",
        ")\n",
        "\n",
        "base_model.trainable = False\n",
        "\n",
        "for i in range(1):\n",
        "    inp = tf.keras.Input(shape=(IMG_SIZE, IMG_SIZE, 3))\n",
        "    x = tf.keras.applications.resnet.preprocess_input(inp)\n",
        "    x = base_model(x, training=False)\n",
        "    x = tf.keras.layers.GlobalAveragePooling2D()(x)\n",
        "    inputs.append(inp)\n",
        "    features.append(x)\n",
        "\n",
        "x = tf.keras.layers.concatenate(features)\n",
        "# x = tf.keras.layers.Dense(512, activation=\"relu\")(x)\n",
        "# x = tf.keras.layers.Dropout(0.2)(x)\n",
        "# x = tf.keras.layers.Dense(128, activation=\"relu\")(x)\n",
        "x = tf.keras.layers.Dropout(0.2)(x)\n",
        "x = tf.keras.layers.Dense(1)(x)\n",
        "\n",
        "model = tf.keras.Model(inputs=inputs, outputs=x)\n",
        "\n",
        "model.summary()"
      ]
    },
    {
      "cell_type": "code",
      "execution_count": 10,
      "metadata": {
        "id": "UGtoEygxZ9BP",
        "outputId": "fd9b9835-923b-4673-8efe-653f9c4d37ce",
        "colab": {
          "base_uri": "https://localhost:8080/"
        }
      },
      "outputs": [
        {
          "output_type": "stream",
          "name": "stdout",
          "text": [
            "Epoch 1/300\n",
            "14/14 [==============================] - 14s 391ms/step - loss: 0.7487 - accuracy: 0.5833 - val_loss: 0.7071 - val_accuracy: 0.6250\n",
            "Epoch 2/300\n",
            "14/14 [==============================] - 4s 151ms/step - loss: 0.7567 - accuracy: 0.5903 - val_loss: 0.6409 - val_accuracy: 0.6250\n",
            "Epoch 3/300\n",
            "14/14 [==============================] - 3s 143ms/step - loss: 0.6934 - accuracy: 0.6181 - val_loss: 0.6498 - val_accuracy: 0.6042\n",
            "Epoch 4/300\n",
            "14/14 [==============================] - 4s 187ms/step - loss: 0.6865 - accuracy: 0.6250 - val_loss: 0.6390 - val_accuracy: 0.5938\n",
            "Epoch 5/300\n",
            "14/14 [==============================] - 4s 155ms/step - loss: 0.6849 - accuracy: 0.6319 - val_loss: 0.6355 - val_accuracy: 0.5938\n",
            "Epoch 6/300\n",
            "14/14 [==============================] - 3s 144ms/step - loss: 0.6457 - accuracy: 0.6458 - val_loss: 0.6420 - val_accuracy: 0.5938\n",
            "Epoch 7/300\n",
            "14/14 [==============================] - 3s 148ms/step - loss: 0.6891 - accuracy: 0.6204 - val_loss: 0.6373 - val_accuracy: 0.5938\n",
            "Epoch 8/300\n",
            "14/14 [==============================] - 6s 241ms/step - loss: 0.6582 - accuracy: 0.6250 - val_loss: 0.6415 - val_accuracy: 0.5833\n",
            "Epoch 9/300\n",
            "14/14 [==============================] - 3s 150ms/step - loss: 0.6282 - accuracy: 0.6991 - val_loss: 0.6394 - val_accuracy: 0.5521\n",
            "Epoch 10/300\n",
            "14/14 [==============================] - 3s 145ms/step - loss: 0.6438 - accuracy: 0.6667 - val_loss: 0.6437 - val_accuracy: 0.5625\n",
            "Epoch 11/300\n",
            "14/14 [==============================] - 5s 230ms/step - loss: 0.6310 - accuracy: 0.6574 - val_loss: 0.6409 - val_accuracy: 0.5521\n",
            "Epoch 12/300\n",
            "14/14 [==============================] - 4s 147ms/step - loss: 0.6319 - accuracy: 0.6481 - val_loss: 0.6401 - val_accuracy: 0.5521\n",
            "Epoch 13/300\n",
            "14/14 [==============================] - 3s 144ms/step - loss: 0.5975 - accuracy: 0.6343 - val_loss: 0.6486 - val_accuracy: 0.5521\n",
            "Epoch 14/300\n",
            "14/14 [==============================] - 4s 179ms/step - loss: 0.6438 - accuracy: 0.6412 - val_loss: 0.6478 - val_accuracy: 0.5521\n",
            "Epoch 15/300\n",
            "14/14 [==============================] - 5s 174ms/step - loss: 0.5898 - accuracy: 0.6921 - val_loss: 0.6466 - val_accuracy: 0.5521\n",
            "Epoch 16/300\n",
            "14/14 [==============================] - 3s 144ms/step - loss: 0.5733 - accuracy: 0.6944 - val_loss: 0.6545 - val_accuracy: 0.5521\n",
            "Epoch 17/300\n",
            "14/14 [==============================] - 3s 146ms/step - loss: 0.5832 - accuracy: 0.6806 - val_loss: 0.6501 - val_accuracy: 0.5104\n",
            "Epoch 18/300\n",
            "14/14 [==============================] - 5s 223ms/step - loss: 0.5735 - accuracy: 0.6736 - val_loss: 0.6576 - val_accuracy: 0.5521\n",
            "Epoch 19/300\n",
            "14/14 [==============================] - 3s 145ms/step - loss: 0.5628 - accuracy: 0.6968 - val_loss: 0.6550 - val_accuracy: 0.5208\n",
            "Epoch 20/300\n",
            "14/14 [==============================] - 4s 207ms/step - loss: 0.5461 - accuracy: 0.7060 - val_loss: 0.6522 - val_accuracy: 0.5208\n",
            "Epoch 21/300\n",
            "14/14 [==============================] - 4s 143ms/step - loss: 0.5514 - accuracy: 0.7060 - val_loss: 0.6620 - val_accuracy: 0.5521\n",
            "Epoch 22/300\n",
            "14/14 [==============================] - 3s 142ms/step - loss: 0.5446 - accuracy: 0.6944 - val_loss: 0.6522 - val_accuracy: 0.5208\n",
            "Epoch 23/300\n",
            "14/14 [==============================] - 3s 143ms/step - loss: 0.5779 - accuracy: 0.6829 - val_loss: 0.6537 - val_accuracy: 0.5312\n",
            "Epoch 24/300\n",
            "14/14 [==============================] - 5s 193ms/step - loss: 0.5595 - accuracy: 0.6806 - val_loss: 0.6528 - val_accuracy: 0.5104\n",
            "Epoch 25/300\n",
            "14/14 [==============================] - 3s 148ms/step - loss: 0.5483 - accuracy: 0.7106 - val_loss: 0.6496 - val_accuracy: 0.5417\n",
            "Epoch 26/300\n",
            "14/14 [==============================] - 3s 147ms/step - loss: 0.5586 - accuracy: 0.7153 - val_loss: 0.6573 - val_accuracy: 0.5208\n",
            "Epoch 27/300\n",
            "14/14 [==============================] - 5s 197ms/step - loss: 0.5329 - accuracy: 0.7338 - val_loss: 0.6619 - val_accuracy: 0.5104\n",
            "Epoch 28/300\n",
            "14/14 [==============================] - 3s 141ms/step - loss: 0.5336 - accuracy: 0.7222 - val_loss: 0.6620 - val_accuracy: 0.5104\n",
            "Epoch 29/300\n",
            "14/14 [==============================] - 3s 143ms/step - loss: 0.5382 - accuracy: 0.7245 - val_loss: 0.6668 - val_accuracy: 0.5312\n",
            "Epoch 30/300\n",
            "14/14 [==============================] - 5s 219ms/step - loss: 0.5264 - accuracy: 0.7083 - val_loss: 0.6636 - val_accuracy: 0.5000\n",
            "Epoch 31/300\n",
            "14/14 [==============================] - 4s 149ms/step - loss: 0.5232 - accuracy: 0.7292 - val_loss: 0.6639 - val_accuracy: 0.5000\n",
            "Epoch 32/300\n",
            "14/14 [==============================] - 3s 149ms/step - loss: 0.5533 - accuracy: 0.7037 - val_loss: 0.6627 - val_accuracy: 0.5104\n",
            "Epoch 33/300\n",
            "14/14 [==============================] - 3s 146ms/step - loss: 0.5315 - accuracy: 0.7176 - val_loss: 0.6751 - val_accuracy: 0.5208\n",
            "Epoch 34/300\n",
            "14/14 [==============================] - 5s 176ms/step - loss: 0.5223 - accuracy: 0.7407 - val_loss: 0.6683 - val_accuracy: 0.5000\n",
            "Epoch 35/300\n",
            "14/14 [==============================] - 4s 158ms/step - loss: 0.4941 - accuracy: 0.7407 - val_loss: 0.6644 - val_accuracy: 0.5208\n"
          ]
        }
      ],
      "source": [
        "# model.compile(\n",
        "#     optimizer=tf.keras.optimizers.Adam(learning_rate=INITIAL_LEARNING_RATE),\n",
        "#     loss=\"binary_crossentropy\",\n",
        "#     metrics=[\"accuracy\"]\n",
        "# )\n",
        "\n",
        "base_learning_rate = 0.0003\n",
        "model.compile(\n",
        "    optimizer=tf.keras.optimizers.Adam(learning_rate=base_learning_rate),\n",
        "    loss=tf.keras.losses.BinaryCrossentropy(from_logits=True),\n",
        "    metrics=[tf.keras.metrics.BinaryAccuracy(threshold=0, name=\"accuracy\")],\n",
        ")\n",
        "\n",
        "history = model.fit(\n",
        "    # [train_X1],\n",
        "    # train_Y,\n",
        "    train_dataset,\n",
        "    batch_size=BATCH_SIZE,\n",
        "    epochs=INITIAL_EPOCH,\n",
        "    # validation_data=([test_X1], test_Y),\n",
        "    validation_data=test_dataset,\n",
        "    callbacks=[\n",
        "        tf.keras.callbacks.EarlyStopping(\n",
        "            monitor=\"val_loss\",\n",
        "            patience=EPOCH_PATIENCE,\n",
        "            restore_best_weights=True\n",
        "        )\n",
        "    ]\n",
        ")"
      ]
    },
    {
      "cell_type": "code",
      "source": [
        "acc = history.history['accuracy']\n",
        "val_acc = history.history['val_accuracy']\n",
        "\n",
        "loss = history.history['loss']\n",
        "val_loss = history.history['val_loss']\n",
        "\n",
        "plt.figure(figsize=(8, 8))\n",
        "plt.subplot(2, 1, 1)\n",
        "plt.plot(acc, label='Training Accuracy')\n",
        "plt.plot(val_acc, label='Validation Accuracy')\n",
        "plt.legend(loc='lower right')\n",
        "plt.ylabel('Accuracy')\n",
        "plt.ylim([min(plt.ylim()),1])\n",
        "plt.title('Training and Validation Accuracy')\n",
        "\n",
        "plt.subplot(2, 1, 2)\n",
        "plt.plot(loss, label='Training Loss')\n",
        "plt.plot(val_loss, label='Validation Loss')\n",
        "plt.legend(loc='upper right')\n",
        "plt.ylabel('Cross Entropy')\n",
        "plt.ylim([0,1.0])\n",
        "plt.title('Training and Validation Loss')\n",
        "plt.xlabel('epoch')\n",
        "plt.show()"
      ],
      "metadata": {
        "id": "-y02j2saaQPQ",
        "outputId": "2fc2af77-12f4-4750-8e7a-c5476f7c9834",
        "colab": {
          "base_uri": "https://localhost:8080/",
          "height": 718
        }
      },
      "execution_count": 11,
      "outputs": [
        {
          "output_type": "display_data",
          "data": {
            "text/plain": [
              "<Figure size 800x800 with 2 Axes>"
            ],
            "image/png": "[encoded data removed]"
          },
          "metadata": {}
        }
      ]
    },
    {
      "cell_type": "markdown",
      "source": [
        "# Fine Tuning"
      ],
      "metadata": {
        "id": "hhT3fHfugaGX"
      }
    },
    {
      "cell_type": "code",
      "source": [
        "base_model.trainable = True\n",
        "# Let's take a look to see how many layers are in the base model\n",
        "print(\"Number of layers in the base model: \", len(base_model.layers))\n",
        "\n",
        "# Fine-tune from this layer onwards\n",
        "fine_tune_at = 100\n",
        "\n",
        "# Freeze all the layers before the `fine_tune_at` layer\n",
        "for layer in base_model.layers[:fine_tune_at]:\n",
        "  layer.trainable = False\n",
        "\n",
        "model.compile(\n",
        "    loss=\"binary_crossentropy\",\n",
        "    optimizer = tf.keras.optimizers.RMSprop(learning_rate=INITIAL_LEARNING_RATE/10),\n",
        "    metrics=[\"accuracy\"]\n",
        ")\n",
        "\n",
        "history_fine = model.fit(\n",
        "    [train_X1, train_X2, train_X3],\n",
        "    train_Y,\n",
        "    batch_size=BATCH_SIZE,\n",
        "    epochs=TOTAL_EPOCH,\n",
        "    initial_epoch=history.epoch[-1],\n",
        "    validation_data=([test_X1, test_X2, test_X3], test_Y),\n",
        "    # callbacks=[\n",
        "    #     tf.keras.callbacks.EarlyStopping(\n",
        "    #         monitor=\"val_loss\",\n",
        "    #         patience=EPOCH_PATIENCE,\n",
        "    #         restore_best_weights=True\n",
        "    #     )\n",
        "    # ]\n",
        ")"
      ],
      "metadata": {
        "id": "xdaDMZVigZ5E",
        "outputId": "3daf3f05-c601-4936-e719-d452ae578487",
        "colab": {
          "base_uri": "https://localhost:8080/",
          "height": 753
        }
      },
      "execution_count": 12,
      "outputs": [
        {
          "output_type": "stream",
          "name": "stdout",
          "text": [
            "Number of layers in the base model:  175\n",
            "Epoch 35/300\n"
          ]
        },
        {
          "output_type": "error",
          "ename": "ValueError",
          "evalue": "in user code:\n\n    File \"/usr/local/lib/python3.10/dist-packages/keras/src/engine/training.py\", line 1401, in train_function  *\n        return step_function(self, iterator)\n    File \"/usr/local/lib/python3.10/dist-packages/keras/src/engine/training.py\", line 1384, in step_function  **\n        outputs = model.distribute_strategy.run(run_step, args=(data,))\n    File \"/usr/local/lib/python3.10/dist-packages/keras/src/engine/training.py\", line 1373, in run_step  **\n        outputs = model.train_step(data)\n    File \"/usr/local/lib/python3.10/dist-packages/keras/src/engine/training.py\", line 1150, in train_step\n        y_pred = self(x, training=True)\n    File \"/usr/local/lib/python3.10/dist-packages/keras/src/utils/traceback_utils.py\", line 70, in error_handler\n        raise e.with_traceback(filtered_tb) from None\n    File \"/usr/local/lib/python3.10/dist-packages/keras/src/engine/input_spec.py\", line 219, in assert_input_compatibility\n        raise ValueError(\n\n    ValueError: Layer \"model\" expects 1 input(s), but it received 3 input tensors. Inputs received: [<tf.Tensor 'IteratorGetNext:0' shape=(None, 224, 224, 3) dtype=float32>, <tf.Tensor 'IteratorGetNext:1' shape=(None, 224, 224, 3) dtype=float32>, <tf.Tensor 'IteratorGetNext:2' shape=(None, 224, 224, 3) dtype=float32>]\n",
          "traceback": [
            "\u001b[0;31m---------------------------------------------------------------------------\u001b[0m",
            "\u001b[0;31mValueError\u001b[0m                                Traceback (most recent call last)",
            "\u001b[0;32m<ipython-input-12-cd34b64137a0>\u001b[0m in \u001b[0;36m<cell line: 18>\u001b[0;34m()\u001b[0m\n\u001b[1;32m     16\u001b[0m )\n\u001b[1;32m     17\u001b[0m \u001b[0;34m\u001b[0m\u001b[0m\n\u001b[0;32m---> 18\u001b[0;31m history_fine = model.fit(\n\u001b[0m\u001b[1;32m     19\u001b[0m     \u001b[0;34m[\u001b[0m\u001b[0mtrain_X1\u001b[0m\u001b[0;34m,\u001b[0m \u001b[0mtrain_X2\u001b[0m\u001b[0;34m,\u001b[0m \u001b[0mtrain_X3\u001b[0m\u001b[0;34m]\u001b[0m\u001b[0;34m,\u001b[0m\u001b[0;34m\u001b[0m\u001b[0;34m\u001b[0m\u001b[0m\n\u001b[1;32m     20\u001b[0m     \u001b[0mtrain_Y\u001b[0m\u001b[0;34m,\u001b[0m\u001b[0;34m\u001b[0m\u001b[0;34m\u001b[0m\u001b[0m\n",
            "\u001b[0;32m/usr/local/lib/python3.10/dist-packages/keras/src/utils/traceback_utils.py\u001b[0m in \u001b[0;36merror_handler\u001b[0;34m(*args, **kwargs)\u001b[0m\n\u001b[1;32m     68\u001b[0m             \u001b[0;31m# To get the full stack trace, call:\u001b[0m\u001b[0;34m\u001b[0m\u001b[0;34m\u001b[0m\u001b[0m\n\u001b[1;32m     69\u001b[0m             \u001b[0;31m# `tf.debugging.disable_traceback_filtering()`\u001b[0m\u001b[0;34m\u001b[0m\u001b[0;34m\u001b[0m\u001b[0m\n\u001b[0;32m---> 70\u001b[0;31m             \u001b[0;32mraise\u001b[0m \u001b[0me\u001b[0m\u001b[0;34m.\u001b[0m\u001b[0mwith_traceback\u001b[0m\u001b[0;34m(\u001b[0m\u001b[0mfiltered_tb\u001b[0m\u001b[0;34m)\u001b[0m \u001b[0;32mfrom\u001b[0m \u001b[0;32mNone\u001b[0m\u001b[0;34m\u001b[0m\u001b[0;34m\u001b[0m\u001b[0m\n\u001b[0m\u001b[1;32m     71\u001b[0m         \u001b[0;32mfinally\u001b[0m\u001b[0;34m:\u001b[0m\u001b[0;34m\u001b[0m\u001b[0;34m\u001b[0m\u001b[0m\n\u001b[1;32m     72\u001b[0m             \u001b[0;32mdel\u001b[0m \u001b[0mfiltered_tb\u001b[0m\u001b[0;34m\u001b[0m\u001b[0;34m\u001b[0m\u001b[0m\n",
            "\u001b[0;32m/usr/local/lib/python3.10/dist-packages/keras/src/engine/training.py\u001b[0m in \u001b[0;36mtf__train_function\u001b[0;34m(iterator)\u001b[0m\n\u001b[1;32m     13\u001b[0m                 \u001b[0;32mtry\u001b[0m\u001b[0;34m:\u001b[0m\u001b[0;34m\u001b[0m\u001b[0;34m\u001b[0m\u001b[0m\n\u001b[1;32m     14\u001b[0m                     \u001b[0mdo_return\u001b[0m \u001b[0;34m=\u001b[0m \u001b[0;32mTrue\u001b[0m\u001b[0;34m\u001b[0m\u001b[0;34m\u001b[0m\u001b[0m\n\u001b[0;32m---> 15\u001b[0;31m                     \u001b[0mretval_\u001b[0m \u001b[0;34m=\u001b[0m \u001b[0mag__\u001b[0m\u001b[0;34m.\u001b[0m\u001b[0mconverted_call\u001b[0m\u001b[0;34m(\u001b[0m\u001b[0mag__\u001b[0m\u001b[0;34m.\u001b[0m\u001b[0mld\u001b[0m\u001b[0;34m(\u001b[0m\u001b[0mstep_function\u001b[0m\u001b[0;34m)\u001b[0m\u001b[0;34m,\u001b[0m \u001b[0;34m(\u001b[0m\u001b[0mag__\u001b[0m\u001b[0;34m.\u001b[0m\u001b[0mld\u001b[0m\u001b[0;34m(\u001b[0m\u001b[0mself\u001b[0m\u001b[0;34m)\u001b[0m\u001b[0;34m,\u001b[0m \u001b[0mag__\u001b[0m\u001b[0;34m.\u001b[0m\u001b[0mld\u001b[0m\u001b[0;34m(\u001b[0m\u001b[0miterator\u001b[0m\u001b[0;34m)\u001b[0m\u001b[0;34m)\u001b[0m\u001b[0;34m,\u001b[0m \u001b[0;32mNone\u001b[0m\u001b[0;34m,\u001b[0m \u001b[0mfscope\u001b[0m\u001b[0;34m)\u001b[0m\u001b[0;34m\u001b[0m\u001b[0;34m\u001b[0m\u001b[0m\n\u001b[0m\u001b[1;32m     16\u001b[0m                 \u001b[0;32mexcept\u001b[0m\u001b[0;34m:\u001b[0m\u001b[0;34m\u001b[0m\u001b[0;34m\u001b[0m\u001b[0m\n\u001b[1;32m     17\u001b[0m                     \u001b[0mdo_return\u001b[0m \u001b[0;34m=\u001b[0m \u001b[0;32mFalse\u001b[0m\u001b[0;34m\u001b[0m\u001b[0;34m\u001b[0m\u001b[0m\n",
            "\u001b[0;31mValueError\u001b[0m: in user code:\n\n    File \"/usr/local/lib/python3.10/dist-packages/keras/src/engine/training.py\", line 1401, in train_function  *\n        return step_function(self, iterator)\n    File \"/usr/local/lib/python3.10/dist-packages/keras/src/engine/training.py\", line 1384, in step_function  **\n        outputs = model.distribute_strategy.run(run_step, args=(data,))\n    File \"/usr/local/lib/python3.10/dist-packages/keras/src/engine/training.py\", line 1373, in run_step  **\n        outputs = model.train_step(data)\n    File \"/usr/local/lib/python3.10/dist-packages/keras/src/engine/training.py\", line 1150, in train_step\n        y_pred = self(x, training=True)\n    File \"/usr/local/lib/python3.10/dist-packages/keras/src/utils/traceback_utils.py\", line 70, in error_handler\n        raise e.with_traceback(filtered_tb) from None\n    File \"/usr/local/lib/python3.10/dist-packages/keras/src/engine/input_spec.py\", line 219, in assert_input_compatibility\n        raise ValueError(\n\n    ValueError: Layer \"model\" expects 1 input(s), but it received 3 input tensors. Inputs received: [<tf.Tensor 'IteratorGetNext:0' shape=(None, 224, 224, 3) dtype=float32>, <tf.Tensor 'IteratorGetNext:1' shape=(None, 224, 224, 3) dtype=float32>, <tf.Tensor 'IteratorGetNext:2' shape=(None, 224, 224, 3) dtype=float32>]\n"
          ]
        }
      ]
    },
    {
      "cell_type": "code",
      "source": [
        "acc += history_fine.history['accuracy']\n",
        "val_acc += history_fine.history['val_accuracy']\n",
        "\n",
        "loss += history_fine.history['loss']\n",
        "val_loss += history_fine.history['val_loss']\n",
        "\n",
        "plt.figure(figsize=(8, 8))\n",
        "plt.subplot(2, 1, 1)\n",
        "plt.plot(acc, label='Training Accuracy')\n",
        "plt.plot(val_acc, label='Validation Accuracy')\n",
        "plt.ylim([0.8, 1])\n",
        "plt.plot([INITIAL_EPOCH-1,INITIAL_EPOCH-1],\n",
        "          plt.ylim(), label='Start Fine Tuning')\n",
        "plt.legend(loc='lower right')\n",
        "plt.title('Training and Validation Accuracy')\n",
        "\n",
        "plt.subplot(2, 1, 2)\n",
        "plt.plot(loss, label='Training Loss')\n",
        "plt.plot(val_loss, label='Validation Loss')\n",
        "plt.ylim([0, 1.0])\n",
        "plt.plot([INITIAL_EPOCH-1,INITIAL_EPOCH-1],\n",
        "         plt.ylim(), label='Start Fine Tuning')\n",
        "plt.legend(loc='upper right')\n",
        "plt.title('Training and Validation Loss')\n",
        "plt.xlabel('epoch')\n",
        "plt.show()"
      ],
      "metadata": {
        "id": "ujT4Ie3ChO_J"
      },
      "execution_count": null,
      "outputs": []
    },
    {
      "cell_type": "markdown",
      "metadata": {
        "id": "opMdfnMUZ9BP"
      },
      "source": [
        "# Evaluation"
      ]
    },
    {
      "cell_type": "code",
      "execution_count": null,
      "metadata": {
        "id": "P7H55E87Z9BP"
      },
      "outputs": [],
      "source": [
        "pred_y = model.predict([test_X1, test_X2, test_X3])\n",
        "pred_y = np.round(pred_y).astype(int).reshape(-1)\n",
        "test_y = test_Y.astype(int)\n",
        "\n",
        "print(classification_report(test_y, pred_y))\n",
        "\n",
        "cm = confusion_matrix(test_y, pred_y)\n",
        "sns.heatmap(cm, annot=True, fmt=\"d\")\n"
      ]
    }
  ],
  "metadata": {
    "kernelspec": {
      "display_name": "Python 3",
      "name": "python3"
    },
    "language_info": {
      "codemirror_mode": {
        "name": "ipython",
        "version": 3
      },
      "file_extension": ".py",
      "mimetype": "text/x-python",
      "name": "python",
      "nbconvert_exporter": "python",
      "pygments_lexer": "ipython3",
      "version": "3.11.6"
    },
    "colab": {
      "provenance": [],
      "gpuType": "T4",
      "include_colab_link": true
    },
    "accelerator": "GPU"
  },
  "nbformat": 4,
  "nbformat_minor": 0
}